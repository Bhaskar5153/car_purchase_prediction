{
 "cells": [
  {
   "cell_type": "code",
   "execution_count": 8,
   "id": "3d0fe4d4",
   "metadata": {},
   "outputs": [],
   "source": [
    "import numpy as np\n",
    "import pandas as pd\n",
    "import plotly.express as px\n",
    "import seaborn as sns\n",
    "import matplotlib.pyplot as plt"
   ]
  },
  {
   "cell_type": "code",
   "execution_count": 2,
   "id": "20d789fc",
   "metadata": {},
   "outputs": [],
   "source": [
    "df = pd.read_csv('Car_Purchasing_Data.csv')"
   ]
  },
  {
   "cell_type": "code",
   "execution_count": 3,
   "id": "fb7e9d19",
   "metadata": {},
   "outputs": [
    {
     "data": {
      "text/html": [
       "<div>\n",
       "<style scoped>\n",
       "    .dataframe tbody tr th:only-of-type {\n",
       "        vertical-align: middle;\n",
       "    }\n",
       "\n",
       "    .dataframe tbody tr th {\n",
       "        vertical-align: top;\n",
       "    }\n",
       "\n",
       "    .dataframe thead th {\n",
       "        text-align: right;\n",
       "    }\n",
       "</style>\n",
       "<table border=\"1\" class=\"dataframe\">\n",
       "  <thead>\n",
       "    <tr style=\"text-align: right;\">\n",
       "      <th></th>\n",
       "      <th>Customer Name</th>\n",
       "      <th>Customer e-mail</th>\n",
       "      <th>Country</th>\n",
       "      <th>Gender</th>\n",
       "      <th>Age</th>\n",
       "      <th>Annual Salary</th>\n",
       "      <th>Credit Card Debt</th>\n",
       "      <th>Net Worth</th>\n",
       "      <th>Car Purchase Amount</th>\n",
       "    </tr>\n",
       "  </thead>\n",
       "  <tbody>\n",
       "    <tr>\n",
       "      <th>0</th>\n",
       "      <td>Martina Avila</td>\n",
       "      <td>cubilia.Curae.Phasellus@quisaccumsanconvallis.edu</td>\n",
       "      <td>USA</td>\n",
       "      <td>0</td>\n",
       "      <td>42</td>\n",
       "      <td>62812.09301</td>\n",
       "      <td>11609.380910</td>\n",
       "      <td>238961.2505</td>\n",
       "      <td>35321.45877</td>\n",
       "    </tr>\n",
       "    <tr>\n",
       "      <th>1</th>\n",
       "      <td>Harlan Barnes</td>\n",
       "      <td>eu.dolor@diam.co.uk</td>\n",
       "      <td>USA</td>\n",
       "      <td>0</td>\n",
       "      <td>41</td>\n",
       "      <td>66646.89292</td>\n",
       "      <td>9572.957136</td>\n",
       "      <td>530973.9078</td>\n",
       "      <td>45115.52566</td>\n",
       "    </tr>\n",
       "    <tr>\n",
       "      <th>2</th>\n",
       "      <td>Naomi Rodriquez</td>\n",
       "      <td>vulputate.mauris.sagittis@ametconsectetueradip...</td>\n",
       "      <td>USA</td>\n",
       "      <td>1</td>\n",
       "      <td>43</td>\n",
       "      <td>53798.55112</td>\n",
       "      <td>11160.355060</td>\n",
       "      <td>638467.1773</td>\n",
       "      <td>42925.70921</td>\n",
       "    </tr>\n",
       "    <tr>\n",
       "      <th>3</th>\n",
       "      <td>Jade Cunningham</td>\n",
       "      <td>malesuada@dignissim.com</td>\n",
       "      <td>USA</td>\n",
       "      <td>1</td>\n",
       "      <td>58</td>\n",
       "      <td>79370.03798</td>\n",
       "      <td>14426.164850</td>\n",
       "      <td>548599.0524</td>\n",
       "      <td>67422.36313</td>\n",
       "    </tr>\n",
       "    <tr>\n",
       "      <th>4</th>\n",
       "      <td>Cedric Leach</td>\n",
       "      <td>felis.ullamcorper.viverra@egetmollislectus.net</td>\n",
       "      <td>USA</td>\n",
       "      <td>1</td>\n",
       "      <td>57</td>\n",
       "      <td>59729.15130</td>\n",
       "      <td>5358.712177</td>\n",
       "      <td>560304.0671</td>\n",
       "      <td>55915.46248</td>\n",
       "    </tr>\n",
       "    <tr>\n",
       "      <th>...</th>\n",
       "      <td>...</td>\n",
       "      <td>...</td>\n",
       "      <td>...</td>\n",
       "      <td>...</td>\n",
       "      <td>...</td>\n",
       "      <td>...</td>\n",
       "      <td>...</td>\n",
       "      <td>...</td>\n",
       "      <td>...</td>\n",
       "    </tr>\n",
       "    <tr>\n",
       "      <th>495</th>\n",
       "      <td>Walter</td>\n",
       "      <td>ligula@Cumsociis.ca</td>\n",
       "      <td>USA</td>\n",
       "      <td>0</td>\n",
       "      <td>41</td>\n",
       "      <td>71942.40291</td>\n",
       "      <td>6995.902524</td>\n",
       "      <td>541670.1016</td>\n",
       "      <td>48901.44342</td>\n",
       "    </tr>\n",
       "    <tr>\n",
       "      <th>496</th>\n",
       "      <td>Vanna</td>\n",
       "      <td>Cum.sociis.natoque@Sedmolestie.edu</td>\n",
       "      <td>USA</td>\n",
       "      <td>1</td>\n",
       "      <td>38</td>\n",
       "      <td>56039.49793</td>\n",
       "      <td>12301.456790</td>\n",
       "      <td>360419.0988</td>\n",
       "      <td>31491.41457</td>\n",
       "    </tr>\n",
       "    <tr>\n",
       "      <th>497</th>\n",
       "      <td>Pearl</td>\n",
       "      <td>penatibus.et@massanonante.com</td>\n",
       "      <td>USA</td>\n",
       "      <td>1</td>\n",
       "      <td>54</td>\n",
       "      <td>68888.77805</td>\n",
       "      <td>10611.606860</td>\n",
       "      <td>764531.3203</td>\n",
       "      <td>64147.28888</td>\n",
       "    </tr>\n",
       "    <tr>\n",
       "      <th>498</th>\n",
       "      <td>Nell</td>\n",
       "      <td>Quisque.varius@arcuVivamussit.net</td>\n",
       "      <td>USA</td>\n",
       "      <td>1</td>\n",
       "      <td>59</td>\n",
       "      <td>49811.99062</td>\n",
       "      <td>14013.034510</td>\n",
       "      <td>337826.6382</td>\n",
       "      <td>45442.15353</td>\n",
       "    </tr>\n",
       "    <tr>\n",
       "      <th>499</th>\n",
       "      <td>Marla</td>\n",
       "      <td>Camaron.marla@hotmail.com</td>\n",
       "      <td>USA</td>\n",
       "      <td>1</td>\n",
       "      <td>47</td>\n",
       "      <td>61370.67766</td>\n",
       "      <td>9391.341628</td>\n",
       "      <td>462946.4924</td>\n",
       "      <td>45107.22566</td>\n",
       "    </tr>\n",
       "  </tbody>\n",
       "</table>\n",
       "<p>500 rows × 9 columns</p>\n",
       "</div>"
      ],
      "text/plain": [
       "       Customer Name                                    Customer e-mail  \\\n",
       "0      Martina Avila  cubilia.Curae.Phasellus@quisaccumsanconvallis.edu   \n",
       "1      Harlan Barnes                                eu.dolor@diam.co.uk   \n",
       "2    Naomi Rodriquez  vulputate.mauris.sagittis@ametconsectetueradip...   \n",
       "3    Jade Cunningham                            malesuada@dignissim.com   \n",
       "4       Cedric Leach     felis.ullamcorper.viverra@egetmollislectus.net   \n",
       "..               ...                                                ...   \n",
       "495           Walter                                ligula@Cumsociis.ca   \n",
       "496            Vanna                 Cum.sociis.natoque@Sedmolestie.edu   \n",
       "497            Pearl                      penatibus.et@massanonante.com   \n",
       "498             Nell                  Quisque.varius@arcuVivamussit.net   \n",
       "499            Marla                          Camaron.marla@hotmail.com   \n",
       "\n",
       "    Country  Gender  Age  Annual Salary  Credit Card Debt    Net Worth  \\\n",
       "0       USA       0   42    62812.09301      11609.380910  238961.2505   \n",
       "1       USA       0   41    66646.89292       9572.957136  530973.9078   \n",
       "2       USA       1   43    53798.55112      11160.355060  638467.1773   \n",
       "3       USA       1   58    79370.03798      14426.164850  548599.0524   \n",
       "4       USA       1   57    59729.15130       5358.712177  560304.0671   \n",
       "..      ...     ...  ...            ...               ...          ...   \n",
       "495     USA       0   41    71942.40291       6995.902524  541670.1016   \n",
       "496     USA       1   38    56039.49793      12301.456790  360419.0988   \n",
       "497     USA       1   54    68888.77805      10611.606860  764531.3203   \n",
       "498     USA       1   59    49811.99062      14013.034510  337826.6382   \n",
       "499     USA       1   47    61370.67766       9391.341628  462946.4924   \n",
       "\n",
       "     Car Purchase Amount  \n",
       "0            35321.45877  \n",
       "1            45115.52566  \n",
       "2            42925.70921  \n",
       "3            67422.36313  \n",
       "4            55915.46248  \n",
       "..                   ...  \n",
       "495          48901.44342  \n",
       "496          31491.41457  \n",
       "497          64147.28888  \n",
       "498          45442.15353  \n",
       "499          45107.22566  \n",
       "\n",
       "[500 rows x 9 columns]"
      ]
     },
     "execution_count": 3,
     "metadata": {},
     "output_type": "execute_result"
    }
   ],
   "source": [
    "df"
   ]
  },
  {
   "cell_type": "code",
   "execution_count": 4,
   "id": "99ab8484",
   "metadata": {},
   "outputs": [
    {
     "name": "stdout",
     "output_type": "stream",
     "text": [
      "<class 'pandas.core.frame.DataFrame'>\n",
      "RangeIndex: 500 entries, 0 to 499\n",
      "Data columns (total 9 columns):\n",
      " #   Column               Non-Null Count  Dtype  \n",
      "---  ------               --------------  -----  \n",
      " 0   Customer Name        500 non-null    object \n",
      " 1   Customer e-mail      500 non-null    object \n",
      " 2   Country              500 non-null    object \n",
      " 3   Gender               500 non-null    int64  \n",
      " 4   Age                  500 non-null    int64  \n",
      " 5   Annual Salary        500 non-null    float64\n",
      " 6   Credit Card Debt     500 non-null    float64\n",
      " 7   Net Worth            500 non-null    float64\n",
      " 8   Car Purchase Amount  500 non-null    float64\n",
      "dtypes: float64(4), int64(2), object(3)\n",
      "memory usage: 35.3+ KB\n"
     ]
    }
   ],
   "source": [
    "df.info()"
   ]
  },
  {
   "cell_type": "code",
   "execution_count": 5,
   "id": "9b0799d6",
   "metadata": {},
   "outputs": [
    {
     "data": {
      "text/plain": [
       "Customer Name          0\n",
       "Customer e-mail        0\n",
       "Country                0\n",
       "Gender                 0\n",
       "Age                    0\n",
       "Annual Salary          0\n",
       "Credit Card Debt       0\n",
       "Net Worth              0\n",
       "Car Purchase Amount    0\n",
       "dtype: int64"
      ]
     },
     "execution_count": 5,
     "metadata": {},
     "output_type": "execute_result"
    }
   ],
   "source": [
    "df.isnull().sum()"
   ]
  },
  {
   "cell_type": "code",
   "execution_count": 13,
   "id": "f0ce4164",
   "metadata": {},
   "outputs": [
    {
     "data": {
      "text/plain": [
       "USA    500\n",
       "Name: Country, dtype: int64"
      ]
     },
     "execution_count": 13,
     "metadata": {},
     "output_type": "execute_result"
    }
   ],
   "source": [
    "df['Country'].value_counts()"
   ]
  },
  {
   "cell_type": "code",
   "execution_count": 14,
   "id": "569ccc7f",
   "metadata": {},
   "outputs": [
    {
     "data": {
      "text/plain": [
       "<AxesSubplot:xlabel='Gender', ylabel='count'>"
      ]
     },
     "execution_count": 14,
     "metadata": {},
     "output_type": "execute_result"
    },
    {
     "data": {
      "image/png": "[encoded data removed]",
      "text/plain": [
       "<Figure size 640x480 with 1 Axes>"
      ]
     },
     "metadata": {},
     "output_type": "display_data"
    }
   ],
   "source": [
    "sns.countplot(data=df, x='Gender')"
   ]
  },
  {
   "cell_type": "code",
   "execution_count": 35,
   "id": "35d5ba4d",
   "metadata": {},
   "outputs": [
    {
     "data": {
      "text/plain": [
       "<AxesSubplot:xlabel='Age', ylabel='Percent'>"
      ]
     },
     "execution_count": 35,
     "metadata": {},
     "output_type": "execute_result"
    },
    {
     "data": {
      "image/png": "[encoded data removed]",
      "text/plain": [
       "<Figure size 640x480 with 1 Axes>"
      ]
     },
     "metadata": {},
     "output_type": "display_data"
    }
   ],
   "source": [
    "sns.histplot(data=df, x='Age', stat='percent', bins=10)"
   ]
  },
  {
   "cell_type": "code",
   "execution_count": 46,
   "id": "eac47700",
   "metadata": {},
   "outputs": [
    {
     "data": {
      "application/vnd.plotly.v1+json": {
       "config": {
        "plotlyServerURL": "https://plot.ly"
       },
       "data": [
        {
         "hovertemplate": "Customer Name=Martina Avila<br>Age=%{x}<br>Car Purchase Amount=%{y}<extra></extra>",
         "legendgroup": "Martina Avila",
         "marker": {
          "color": "#636efa",
          "symbol": "circle"
         },
         "mode": "markers",
         "name": "Martina Avila",
         "orientation": "v",
         "showlegend": true,
         "type": "scatter",
         "x": [
          42
         ],
         "xaxis": "x",
         "y": [
          35321.45877
         ],
         "yaxis": "y"
        },
        {
         "hovertemplate": "Customer Name=Harlan Barnes<br>Age=%{x}<br>Car Purchase Amount=%{y}<extra></extra>",
         "legendgroup": "Harlan Barnes",
         "marker": {
          "color": "#EF553B",
          "symbol": "circle"
         },
         "mode": "markers",
         "name": "Harlan Barnes",
         "orientation": "v",
         "showlegend": true,
         "type": "scatter",
         "x": [
          41
         ],
         "xaxis": "x",
         "y": [
          45115.52566
         ],
         "yaxis": "y"
        },
        {
         "hovertemplate": "Customer Name=Naomi Rodriquez<br>Age=%{x}<br>Car Purchase Amount=%{y}<extra></extra>",
         "legendgroup": "Naomi Rodriquez",
         "marker": {
          "color": "#00cc96",
          "symbol": "circle"
         },
         "mode": "markers",
         "name": "Naomi Rodriquez",
         "orientation": "v",
         "showlegend": true,
         "type": "scatter",
         "x": [
          43
         ],
         "xaxis": "x",
         "y": [
          42925.70921
         ],
         "yaxis": "y"
        },
        {
         "hovertemplate": "Customer Name=Jade Cunningham<br>Age=%{x}<br>Car Purchase Amount=%{y}<extra></extra>",
         "legendgroup": "Jade Cunningham",
         "marker": {
          "color": "#ab63fa",
          "symbol": "circle"
         },
         "mode": "markers",
         "name": "Jade Cunningham",
         "orientation": "v",
         "showlegend": true,
         "type": "scatter",
         "x": [
          58
         ],
         "xaxis": "x",
         "y": [
          67422.36313
         ],
         "yaxis": "y"
        },
        {
         "hovertemplate": "Customer Name=Cedric Leach<br>Age=%{x}<br>Car Purchase Amount=%{y}<extra></extra>",
         "legendgroup": "Cedric Leach",
         "marker": {
          "color": "#FFA15A",
          "symbol": "circle"
         },
         "mode": "markers",
         "name": "Cedric Leach",
         "orientation": "v",
         "showlegend": true,
         "type": "scatter",
         "x": [
          57
         ],
         "xaxis": "x",
         "y": [
          55915.46248
         ],
         "yaxis": "y"
        },
        {
         "hovertemplate": "Customer Name=Carla Hester<br>Age=%{x}<br>Car Purchase Amount=%{y}<extra></extra>",
         "legendgroup": "Carla Hester",
         "marker": {
          "color": "#19d3f3",
          "symbol": "circle"
         },
         "mode": "markers",
         "name": "Carla Hester",
         "orientation": "v",
         "showlegend": true,
         "type": "scatter",
         "x": [
          57
         ],
         "xaxis": "x",
         "y": [
          56611.99784
         ],
         "yaxis": "y"
        },
        {
         "hovertemplate": "Customer Name=Griffin Rivera<br>Age=%{x}<br>Car Purchase Amount=%{y}<extra></extra>",
         "legendgroup": "Griffin Rivera",
         "marker": {
          "color": "#FF6692",
          "symbol": "circle"
         },
         "mode": "markers",
         "name": "Griffin Rivera",
         "orientation": "v",
         "showlegend": true,
         "type": "scatter",
         "x": [
          47
         ],
         "xaxis": "x",
         "y": [
          28925.70549
         ],
         "yaxis": "y"
        },
        {
         "hovertemplate": "Customer Name=Orli Casey<br>Age=%{x}<br>Car Purchase Amount=%{y}<extra></extra>",
         "legendgroup": "Orli Casey",
         "marker": {
          "color": "#B6E880",
          "symbol": "circle"
         },
         "mode": "markers",
         "name": "Orli Casey",
         "orientation": "v",
         "showlegend": true,
         "type": "scatter",
         "x": [
          50
         ],
         "xaxis": "x",
         "y": [
          47434.98265
         ],
         "yaxis": "y"
        },
        {
         "hovertemplate": "Customer Name=Marny Obrien<br>Age=%{x}<br>Car Purchase Amount=%{y}<extra></extra>",
         "legendgroup": "Marny Obrien",
         "marker": {
          "color": "#FF97FF",
          "symbol": "circle"
         },
         "mode": "markers",
         "name": "Marny Obrien",
         "orientation": "v",
         "showlegend": true,
         "type": "scatter",
         "x": [
          47
         ],
         "xaxis": "x",
         "y": [
          48013.6141
         ],
         "yaxis": "y"
        },
        {
         "hovertemplate": "Customer Name=Rhonda Chavez<br>Age=%{x}<br>Car Purchase Amount=%{y}<extra></extra>",
         "legendgroup": "Rhonda Chavez",
         "marker": {
          "color": "#FECB52",
          "symbol": "circle"
         },
         "mode": "markers",
         "name": "Rhonda Chavez",
         "orientation": "v",
         "showlegend": true,
         "type": "scatter",
         "x": [
          43
         ],
         "xaxis": "x",
         "y": [
          38189.50601
         ],
         "yaxis": "y"
        },
        {
         "hovertemplate": "Customer Name=Jerome Rowe<br>Age=%{x}<br>Car Purchase Amount=%{y}<extra></extra>",
         "legendgroup": "Jerome Rowe",
         "marker": {
          "color": "#636efa",
          "symbol": "circle"
         },
         "mode": "markers",
         "name": "Jerome Rowe",
         "orientation": "v",
         "showlegend": true,
         "type": "scatter",
         "x": [
          50
         ],
         "xaxis": "x",
         "y": [
          59045.51309
         ],
         "yaxis": "y"
        },
        {
         "hovertemplate": "Customer Name=Akeem Gibson<br>Age=%{x}<br>Car Purchase Amount=%{y}<extra></extra>",
         "legendgroup": "Akeem Gibson",
         "marker": {
          "color": "#EF553B",
          "symbol": "circle"
         },
         "mode": "markers",
         "name": "Akeem Gibson",
         "orientation": "v",
         "showlegend": true,
         "type": "scatter",
         "x": [
          53
         ],
         "xaxis": "x",
         "y": [
          42288.81046
         ],
         "yaxis": "y"
        },
        {
         "hovertemplate": "Customer Name=Quin Smith<br>Age=%{x}<br>Car Purchase Amount=%{y}<extra></extra>",
         "legendgroup": "Quin Smith",
         "marker": {
          "color": "#00cc96",
          "symbol": "circle"
         },
         "mode": "markers",
         "name": "Quin Smith",
         "orientation": "v",
         "showlegend": true,
         "type": "scatter",
         "x": [
          44
         ],
         "xaxis": "x",
         "y": [
          28700.0334
         ],
         "yaxis": "y"
        },
        {
         "hovertemplate": "Customer Name=Tatum Moon<br>Age=%{x}<br>Car Purchase Amount=%{y}<extra></extra>",
         "legendgroup": "Tatum Moon",
         "marker": {
          "color": "#ab63fa",
          "symbol": "circle"
         },
         "mode": "markers",
         "name": "Tatum Moon",
         "orientation": "v",
         "showlegend": true,
         "type": "scatter",
         "x": [
          48
         ],
         "xaxis": "x",
         "y": [
          49258.87571
         ],
         "yaxis": "y"
        },
        {
         "hovertemplate": "Customer Name=Sharon Sharpe<br>Age=%{x}<br>Car Purchase Amount=%{y}<extra></extra>",
         "legendgroup": "Sharon Sharpe",
         "marker": {
          "color": "#FFA15A",
          "symbol": "circle"
         },
         "mode": "markers",
         "name": "Sharon Sharpe",
         "orientation": "v",
         "showlegend": true,
         "type": "scatter",
         "x": [
          55
         ],
         "xaxis": "x",
         "y": [
          49510.03356
         ],
         "yaxis": "y"
        },
        {
         "hovertemplate": "Customer Name=Thomas Williams<br>Age=%{x}<br>Car Purchase Amount=%{y}<extra></extra>",
         "legendgroup": "Thomas Williams",
         "marker": {
          "color": "#19d3f3",
          "symbol": "circle"
         },
         "mode": "markers",
         "name": "Thomas Williams",
         "orientation": "v",
         "showlegend": true,
         "type": "scatter",
         "x": [
          53
         ],
         "xaxis": "x",
         "y": [
          53017.26723
         ],
         "yaxis": "y"
        },
        {
         "hovertemplate": "Customer Name=Blaine Bender<br>Age=%{x}<br>Car Purchase Amount=%{y}<extra></extra>",
         "legendgroup": "Blaine Bender",
         "marker": {
          "color": "#FF6692",
          "symbol": "circle"
         },
         "mode": "markers",
         "name": "Blaine Bender",
         "orientation": "v",
         "showlegend": true,
         "type": "scatter",
         "x": [
          45
         ],
         "xaxis": "x",
         "y": [
          41814.72067
         ],
         "yaxis": "y"
        },
        {
         "hovertemplate": "Customer Name=Stephen Lindsey<br>Age=%{x}<br>Car Purchase Amount=%{y}<extra></extra>",
         "legendgroup": "Stephen Lindsey",
         "marker": {
          "color": "#B6E880",
          "symbol": "circle"
         },
         "mode": "markers",
         "name": "Stephen Lindsey",
         "orientation": "v",
         "showlegend": true,
         "type": "scatter",
         "x": [
          48
         ],
         "xaxis": "x",
         "y": [
          43901.71244
         ],
         "yaxis": "y"
        },
        {
         "hovertemplate": "Customer Name=Sloane Mann<br>Age=%{x}<br>Car Purchase Amount=%{y}<extra></extra>",
         "legendgroup": "Sloane Mann",
         "marker": {
          "color": "#FF97FF",
          "symbol": "circle"
         },
         "mode": "markers",
         "name": "Sloane Mann",
         "orientation": "v",
         "showlegend": true,
         "type": "scatter",
         "x": [
          52
         ],
         "xaxis": "x",
         "y": [
          44633.99241
         ],
         "yaxis": "y"
        },
        {
         "hovertemplate": "Customer Name=Athena Wolf<br>Age=%{x}<br>Car Purchase Amount=%{y}<extra></extra>",
         "legendgroup": "Athena Wolf",
         "marker": {
          "color": "#FECB52",
          "symbol": "circle"
         },
         "mode": "markers",
         "name": "Athena Wolf",
         "orientation": "v",
         "showlegend": true,
         "type": "scatter",
         "x": [
          59
         ],
         "xaxis": "x",
         "y": [
          54827.52403
         ],
         "yaxis": "y"
        },
        {
         "hovertemplate": "Customer Name=Blythe Romero<br>Age=%{x}<br>Car Purchase Amount=%{y}<extra></extra>",
         "legendgroup": "Blythe Romero",
         "marker": {
          "color": "#636efa",
          "symbol": "circle"
         },
         "mode": "markers",
         "name": "Blythe Romero",
         "orientation": "v",
         "showlegend": true,
         "type": "scatter",
         "x": [
          52
         ],
         "xaxis": "x",
         "y": [
          51130.95379
         ],
         "yaxis": "y"
        },
        {
         "hovertemplate": "Customer Name=Zelenia Byers<br>Age=%{x}<br>Car Purchase Amount=%{y}<extra></extra>",
         "legendgroup": "Zelenia Byers",
         "marker": {
          "color": "#EF553B",
          "symbol": "circle"
         },
         "mode": "markers",
         "name": "Zelenia Byers",
         "orientation": "v",
         "showlegend": true,
         "type": "scatter",
         "x": [
          48
         ],
         "xaxis": "x",
         "y": [
          43402.31525
         ],
         "yaxis": "y"
        },
        {
         "hovertemplate": "Customer Name=Nola Wiggins<br>Age=%{x}<br>Car Purchase Amount=%{y}<extra></extra>",
         "legendgroup": "Nola Wiggins",
         "marker": {
          "color": "#00cc96",
          "symbol": "circle"
         },
         "mode": "markers",
         "name": "Nola Wiggins",
         "orientation": "v",
         "showlegend": true,
         "type": "scatter",
         "x": [
          46
         ],
         "xaxis": "x",
         "y": [
          47240.86004
         ],
         "yaxis": "y"
        },
        {
         "hovertemplate": "Customer Name=Micah Wheeler<br>Age=%{x}<br>Car Purchase Amount=%{y}<extra></extra>",
         "legendgroup": "Micah Wheeler",
         "marker": {
          "color": "#ab63fa",
          "symbol": "circle"
         },
         "mode": "markers",
         "name": "Micah Wheeler",
         "orientation": "v",
         "showlegend": true,
         "type": "scatter",
         "x": [
          47
         ],
         "xaxis": "x",
         "y": [
          46635.49432
         ],
         "yaxis": "y"
        },
        {
         "hovertemplate": "Customer Name=Caryn Hendrix<br>Age=%{x}<br>Car Purchase Amount=%{y}<extra></extra>",
         "legendgroup": "Caryn Hendrix",
         "marker": {
          "color": "#FFA15A",
          "symbol": "circle"
         },
         "mode": "markers",
         "name": "Caryn Hendrix",
         "orientation": "v",
         "showlegend": true,
         "type": "scatter",
         "x": [
          40
         ],
         "xaxis": "x",
         "y": [
          45078.40193
         ],
         "yaxis": "y"
        },
        {
         "hovertemplate": "Customer Name=Hedda Miranda<br>Age=%{x}<br>Car Purchase Amount=%{y}<extra></extra>",
         "legendgroup": "Hedda Miranda",
         "marker": {
          "color": "#19d3f3",
          "symbol": "circle"
         },
         "mode": "markers",
         "name": "Hedda Miranda",
         "orientation": "v",
         "showlegend": true,
         "type": "scatter",
         "x": [
          53
         ],
         "xaxis": "x",
         "y": [
          44387.58412
         ],
         "yaxis": "y"
        },
        {
         "hovertemplate": "Customer Name=Ulric Lynn<br>Age=%{x}<br>Car Purchase Amount=%{y}<extra></extra>",
         "legendgroup": "Ulric Lynn",
         "marker": {
          "color": "#FF6692",
          "symbol": "circle"
         },
         "mode": "markers",
         "name": "Ulric Lynn",
         "orientation": "v",
         "showlegend": true,
         "type": "scatter",
         "x": [
          28
         ],
         "xaxis": "x",
         "y": [
          37161.55393
         ],
         "yaxis": "y"
        },
        {
         "hovertemplate": "Customer Name=Alma Pope<br>Age=%{x}<br>Car Purchase Amount=%{y}<extra></extra>",
         "legendgroup": "Alma Pope",
         "marker": {
          "color": "#B6E880",
          "symbol": "circle"
         },
         "mode": "markers",
         "name": "Alma Pope",
         "orientation": "v",
         "showlegend": true,
         "type": "scatter",
         "x": [
          56
         ],
         "xaxis": "x",
         "y": [
          49091.97185
         ],
         "yaxis": "y"
        },
        {
         "hovertemplate": "Customer Name=Gemma Hendrix<br>Age=%{x}<br>Car Purchase Amount=%{y}<extra></extra>",
         "legendgroup": "Gemma Hendrix",
         "marker": {
          "color": "#FF97FF",
          "symbol": "circle"
         },
         "mode": "markers",
         "name": "Gemma Hendrix",
         "orientation": "v",
         "showlegend": true,
         "type": "scatter",
         "x": [
          46
         ],
         "xaxis": "x",
         "y": [
          58350.31809
         ],
         "yaxis": "y"
        },
        {
         "hovertemplate": "Customer Name=Castor Wood<br>Age=%{x}<br>Car Purchase Amount=%{y}<extra></extra>",
         "legendgroup": "Castor Wood",
         "marker": {
          "color": "#FECB52",
          "symbol": "circle"
         },
         "mode": "markers",
         "name": "Castor Wood",
         "orientation": "v",
         "showlegend": true,
         "type": "scatter",
         "x": [
          40
         ],
         "xaxis": "x",
         "y": [
          43994.35972
         ],
         "yaxis": "y"
        },
        {
         "hovertemplate": "Customer Name=Herman Stevenson<br>Age=%{x}<br>Car Purchase Amount=%{y}<extra></extra>",
         "legendgroup": "Herman Stevenson",
         "marker": {
          "color": "#636efa",
          "symbol": "circle"
         },
         "mode": "markers",
         "name": "Herman Stevenson",
         "orientation": "v",
         "showlegend": true,
         "type": "scatter",
         "x": [
          33
         ],
         "xaxis": "x",
         "y": [
          17584.56963
         ],
         "yaxis": "y"
        },
        {
         "hovertemplate": "Customer Name=Adrienne Bolton<br>Age=%{x}<br>Car Purchase Amount=%{y}<extra></extra>",
         "legendgroup": "Adrienne Bolton",
         "marker": {
          "color": "#EF553B",
          "symbol": "circle"
         },
         "mode": "markers",
         "name": "Adrienne Bolton",
         "orientation": "v",
         "showlegend": true,
         "type": "scatter",
         "x": [
          40
         ],
         "xaxis": "x",
         "y": [
          44650.36073
         ],
         "yaxis": "y"
        },
        {
         "hovertemplate": "Customer Name=Dahlia Cleveland<br>Age=%{x}<br>Car Purchase Amount=%{y}<extra></extra>",
         "legendgroup": "Dahlia Cleveland",
         "marker": {
          "color": "#00cc96",
          "symbol": "circle"
         },
         "mode": "markers",
         "name": "Dahlia Cleveland",
         "orientation": "v",
         "showlegend": true,
         "type": "scatter",
         "x": [
          51
         ],
         "xaxis": "x",
         "y": [
          66363.89316
         ],
         "yaxis": "y"
        },
        {
         "hovertemplate": "Customer Name=Keane Browning<br>Age=%{x}<br>Car Purchase Amount=%{y}<extra></extra>",
         "legendgroup": "Keane Browning",
         "marker": {
          "color": "#ab63fa",
          "symbol": "circle"
         },
         "mode": "markers",
         "name": "Keane Browning",
         "orientation": "v",
         "showlegend": true,
         "type": "scatter",
         "x": [
          51
         ],
         "xaxis": "x",
         "y": [
          53489.46214
         ],
         "yaxis": "y"
        },
        {
         "hovertemplate": "Customer Name=Quon Hull<br>Age=%{x}<br>Car Purchase Amount=%{y}<extra></extra>",
         "legendgroup": "Quon Hull",
         "marker": {
          "color": "#FFA15A",
          "symbol": "circle"
         },
         "mode": "markers",
         "name": "Quon Hull",
         "orientation": "v",
         "showlegend": true,
         "type": "scatter",
         "x": [
          46
         ],
         "xaxis": "x",
         "y": [
          39810.34817
         ],
         "yaxis": "y"
        },
        {
         "hovertemplate": "Customer Name=Coby Charles<br>Age=%{x}<br>Car Purchase Amount=%{y}<extra></extra>",
         "legendgroup": "Coby Charles",
         "marker": {
          "color": "#19d3f3",
          "symbol": "circle"
         },
         "mode": "markers",
         "name": "Coby Charles",
         "orientation": "v",
         "showlegend": true,
         "type": "scatter",
         "x": [
          51
         ],
         "xaxis": "x",
         "y": [
          51612.14311
         ],
         "yaxis": "y"
        },
        {
         "hovertemplate": "Customer Name=Amery Cortez<br>Age=%{x}<br>Car Purchase Amount=%{y}<extra></extra>",
         "legendgroup": "Amery Cortez",
         "marker": {
          "color": "#FF6692",
          "symbol": "circle"
         },
         "mode": "markers",
         "name": "Amery Cortez",
         "orientation": "v",
         "showlegend": true,
         "type": "scatter",
         "x": [
          50
         ],
         "xaxis": "x",
         "y": [
          38978.67458
         ],
         "yaxis": "y"
        },
        {
         "hovertemplate": "Customer Name=Uriel Bradshaw<br>Age=%{x}<br>Car Purchase Amount=%{y}<extra></extra>",
         "legendgroup": "Uriel Bradshaw",
         "marker": {
          "color": "#B6E880",
          "symbol": "circle"
         },
         "mode": "markers",
         "name": "Uriel Bradshaw",
         "orientation": "v",
         "showlegend": true,
         "type": "scatter",
         "x": [
          22
         ],
         "xaxis": "x",
         "y": [
          10092.22509
         ],
         "yaxis": "y"
        },
        {
         "hovertemplate": "Customer Name=Fredericka Sanders<br>Age=%{x}<br>Car Purchase Amount=%{y}<extra></extra>",
         "legendgroup": "Fredericka Sanders",
         "marker": {
          "color": "#FF97FF",
          "symbol": "circle"
         },
         "mode": "markers",
         "name": "Fredericka Sanders",
         "orientation": "v",
         "showlegend": true,
         "type": "scatter",
         "x": [
          51
         ],
         "xaxis": "x",
         "y": [
          35928.52404
         ],
         "yaxis": "y"
        },
        {
         "hovertemplate": "Customer Name=Christopher Stevens<br>Age=%{x}<br>Car Purchase Amount=%{y}<extra></extra>",
         "legendgroup": "Christopher Stevens",
         "marker": {
          "color": "#FECB52",
          "symbol": "circle"
         },
         "mode": "markers",
         "name": "Christopher Stevens",
         "orientation": "v",
         "showlegend": true,
         "type": "scatter",
         "x": [
          48
         ],
         "xaxis": "x",
         "y": [
          54823.19221
         ],
         "yaxis": "y"
        },
        {
         "hovertemplate": "Customer Name=Rachel Ashley<br>Age=%{x}<br>Car Purchase Amount=%{y}<extra></extra>",
         "legendgroup": "Rachel Ashley",
         "marker": {
          "color": "#636efa",
          "symbol": "circle"
         },
         "mode": "markers",
         "name": "Rachel Ashley",
         "orientation": "v",
         "showlegend": true,
         "type": "scatter",
         "x": [
          42
         ],
         "xaxis": "x",
         "y": [
          45805.67186
         ],
         "yaxis": "y"
        },
        {
         "hovertemplate": "Customer Name=Lael Wright<br>Age=%{x}<br>Car Purchase Amount=%{y}<extra></extra>",
         "legendgroup": "Lael Wright",
         "marker": {
          "color": "#EF553B",
          "symbol": "circle"
         },
         "mode": "markers",
         "name": "Lael Wright",
         "orientation": "v",
         "showlegend": true,
         "type": "scatter",
         "x": [
          46
         ],
         "xaxis": "x",
         "y": [
          41567.47033
         ],
         "yaxis": "y"
        },
        {
         "hovertemplate": "Customer Name=Ryder Shaffer<br>Age=%{x}<br>Car Purchase Amount=%{y}<extra></extra>",
         "legendgroup": "Ryder Shaffer",
         "marker": {
          "color": "#00cc96",
          "symbol": "circle"
         },
         "mode": "markers",
         "name": "Ryder Shaffer",
         "orientation": "v",
         "showlegend": true,
         "type": "scatter",
         "x": [
          38
         ],
         "xaxis": "x",
         "y": [
          28031.20985
         ],
         "yaxis": "y"
        },
        {
         "hovertemplate": "Customer Name=Eric Noel<br>Age=%{x}<br>Car Purchase Amount=%{y}<extra></extra>",
         "legendgroup": "Eric Noel",
         "marker": {
          "color": "#ab63fa",
          "symbol": "circle"
         },
         "mode": "markers",
         "name": "Eric Noel",
         "orientation": "v",
         "showlegend": true,
         "type": "scatter",
         "x": [
          39
         ],
         "xaxis": "x",
         "y": [
          27815.73813
         ],
         "yaxis": "y"
        },
        {
         "hovertemplate": "Customer Name=Tamara Guy<br>Age=%{x}<br>Car Purchase Amount=%{y}<extra></extra>",
         "legendgroup": "Tamara Guy",
         "marker": {
          "color": "#FFA15A",
          "symbol": "circle"
         },
         "mode": "markers",
         "name": "Tamara Guy",
         "orientation": "v",
         "showlegend": true,
         "type": "scatter",
         "x": [
          61
         ],
         "xaxis": "x",
         "y": [
          68678.4352
         ],
         "yaxis": "y"
        },
        {
         "hovertemplate": "Customer Name=Quincy Bell<br>Age=%{x}<br>Car Purchase Amount=%{y}<extra></extra>",
         "legendgroup": "Quincy Bell",
         "marker": {
          "color": "#19d3f3",
          "symbol": "circle"
         },
         "mode": "markers",
         "name": "Quincy Bell",
         "orientation": "v",
         "showlegend": true,
         "type": "scatter",
         "x": [
          55
         ],
         "xaxis": "x",
         "y": [
          68925.09447
         ],
         "yaxis": "y"
        },
        {
         "hovertemplate": "Customer Name=Lee Taylor<br>Age=%{x}<br>Car Purchase Amount=%{y}<extra></extra>",
         "legendgroup": "Lee Taylor",
         "marker": {
          "color": "#FF6692",
          "symbol": "circle"
         },
         "mode": "markers",
         "name": "Lee Taylor",
         "orientation": "v",
         "showlegend": true,
         "type": "scatter",
         "x": [
          42
         ],
         "xaxis": "x",
         "y": [
          34215.7615
         ],
         "yaxis": "y"
        },
        {
         "hovertemplate": "Customer Name=Kenneth Pope<br>Age=%{x}<br>Car Purchase Amount=%{y}<extra></extra>",
         "legendgroup": "Kenneth Pope",
         "marker": {
          "color": "#B6E880",
          "symbol": "circle"
         },
         "mode": "markers",
         "name": "Kenneth Pope",
         "orientation": "v",
         "showlegend": true,
         "type": "scatter",
         "x": [
          51
         ],
         "xaxis": "x",
         "y": [
          37843.46619
         ],
         "yaxis": "y"
        },
        {
         "hovertemplate": "Customer Name=Reese Vance<br>Age=%{x}<br>Car Purchase Amount=%{y}<extra></extra>",
         "legendgroup": "Reese Vance",
         "marker": {
          "color": "#FF97FF",
          "symbol": "circle"
         },
         "mode": "markers",
         "name": "Reese Vance",
         "orientation": "v",
         "showlegend": true,
         "type": "scatter",
         "x": [
          41
         ],
         "xaxis": "x",
         "y": [
          37883.24231
         ],
         "yaxis": "y"
        },
        {
         "hovertemplate": "Customer Name=Quon Carroll<br>Age=%{x}<br>Car Purchase Amount=%{y}<extra></extra>",
         "legendgroup": "Quon Carroll",
         "marker": {
          "color": "#FECB52",
          "symbol": "circle"
         },
         "mode": "markers",
         "name": "Quon Carroll",
         "orientation": "v",
         "showlegend": true,
         "type": "scatter",
         "x": [
          40
         ],
         "xaxis": "x",
         "y": [
          48734.35708
         ],
         "yaxis": "y"
        },
        {
         "hovertemplate": "Customer Name=Magee Davidson<br>Age=%{x}<br>Car Purchase Amount=%{y}<extra></extra>",
         "legendgroup": "Magee Davidson",
         "marker": {
          "color": "#636efa",
          "symbol": "circle"
         },
         "mode": "markers",
         "name": "Magee Davidson",
         "orientation": "v",
         "showlegend": true,
         "type": "scatter",
         "x": [
          41
         ],
         "xaxis": "x",
         "y": [
          27187.23914
         ],
         "yaxis": "y"
        },
        {
         "hovertemplate": "Customer Name=Leilani Gross<br>Age=%{x}<br>Car Purchase Amount=%{y}<extra></extra>",
         "legendgroup": "Leilani Gross",
         "marker": {
          "color": "#EF553B",
          "symbol": "circle"
         },
         "mode": "markers",
         "name": "Leilani Gross",
         "orientation": "v",
         "showlegend": true,
         "type": "scatter",
         "x": [
          56
         ],
         "xaxis": "x",
         "y": [
          63738.39065
         ],
         "yaxis": "y"
        },
        {
         "hovertemplate": "Customer Name=Morgan William<br>Age=%{x}<br>Car Purchase Amount=%{y}<extra></extra>",
         "legendgroup": "Morgan William",
         "marker": {
          "color": "#00cc96",
          "symbol": "circle"
         },
         "mode": "markers",
         "name": "Morgan William",
         "orientation": "v",
         "showlegend": true,
         "type": "scatter",
         "x": [
          46
         ],
         "xaxis": "x",
         "y": [
          48266.75516
         ],
         "yaxis": "y"
        },
        {
         "hovertemplate": "Customer Name=Francesca Cervantes<br>Age=%{x}<br>Car Purchase Amount=%{y}<extra></extra>",
         "legendgroup": "Francesca Cervantes",
         "marker": {
          "color": "#ab63fa",
          "symbol": "circle"
         },
         "mode": "markers",
         "name": "Francesca Cervantes",
         "orientation": "v",
         "showlegend": true,
         "type": "scatter",
         "x": [
          37
         ],
         "xaxis": "x",
         "y": [
          46381.13111
         ],
         "yaxis": "y"
        },
        {
         "hovertemplate": "Customer Name=Rafael Peterson<br>Age=%{x}<br>Car Purchase Amount=%{y}<extra></extra>",
         "legendgroup": "Rafael Peterson",
         "marker": {
          "color": "#FFA15A",
          "symbol": "circle"
         },
         "mode": "markers",
         "name": "Rafael Peterson",
         "orientation": "v",
         "showlegend": true,
         "type": "scatter",
         "x": [
          52
         ],
         "xaxis": "x",
         "y": [
          31978.9799
         ],
         "yaxis": "y"
        },
        {
         "hovertemplate": "Customer Name=Roanna Knox<br>Age=%{x}<br>Car Purchase Amount=%{y}<extra></extra>",
         "legendgroup": "Roanna Knox",
         "marker": {
          "color": "#19d3f3",
          "symbol": "circle"
         },
         "mode": "markers",
         "name": "Roanna Knox",
         "orientation": "v",
         "showlegend": true,
         "type": "scatter",
         "x": [
          57
         ],
         "xaxis": "x",
         "y": [
          48100.29052
         ],
         "yaxis": "y"
        },
        {
         "hovertemplate": "Customer Name=Marny Vargas<br>Age=%{x}<br>Car Purchase Amount=%{y}<extra></extra>",
         "legendgroup": "Marny Vargas",
         "marker": {
          "color": "#FF6692",
          "symbol": "circle"
         },
         "mode": "markers",
         "name": "Marny Vargas",
         "orientation": "v",
         "showlegend": true,
         "type": "scatter",
         "x": [
          34
         ],
         "xaxis": "x",
         "y": [
          47380.91224
         ],
         "yaxis": "y"
        },
        {
         "hovertemplate": "Customer Name=Charlotte Waller<br>Age=%{x}<br>Car Purchase Amount=%{y}<extra></extra>",
         "legendgroup": "Charlotte Waller",
         "marker": {
          "color": "#B6E880",
          "symbol": "circle"
         },
         "mode": "markers",
         "name": "Charlotte Waller",
         "orientation": "v",
         "showlegend": true,
         "type": "scatter",
         "x": [
          43
         ],
         "xaxis": "x",
         "y": [
          41425.00116
         ],
         "yaxis": "y"
        },
        {
         "hovertemplate": "Customer Name=Dorian Hernandez<br>Age=%{x}<br>Car Purchase Amount=%{y}<extra></extra>",
         "legendgroup": "Dorian Hernandez",
         "marker": {
          "color": "#FF97FF",
          "symbol": "circle"
         },
         "mode": "markers",
         "name": "Dorian Hernandez",
         "orientation": "v",
         "showlegend": true,
         "type": "scatter",
         "x": [
          50
         ],
         "xaxis": "x",
         "y": [
          38147.81018
         ],
         "yaxis": "y"
        },
        {
         "hovertemplate": "Customer Name=Armando Hensley<br>Age=%{x}<br>Car Purchase Amount=%{y}<extra></extra>",
         "legendgroup": "Armando Hensley",
         "marker": {
          "color": "#FECB52",
          "symbol": "circle"
         },
         "mode": "markers",
         "name": "Armando Hensley",
         "orientation": "v",
         "showlegend": true,
         "type": "scatter",
         "x": [
          42
         ],
         "xaxis": "x",
         "y": [
          32737.80177
         ],
         "yaxis": "y"
        },
        {
         "hovertemplate": "Customer Name=Rowan Kidd<br>Age=%{x}<br>Car Purchase Amount=%{y}<extra></extra>",
         "legendgroup": "Rowan Kidd",
         "marker": {
          "color": "#636efa",
          "symbol": "circle"
         },
         "mode": "markers",
         "name": "Rowan Kidd",
         "orientation": "v",
         "showlegend": true,
         "type": "scatter",
         "x": [
          42
         ],
         "xaxis": "x",
         "y": [
          37348.13737
         ],
         "yaxis": "y"
        },
        {
         "hovertemplate": "Customer Name=Gwendolyn Rice<br>Age=%{x}<br>Car Purchase Amount=%{y}<extra></extra>",
         "legendgroup": "Gwendolyn Rice",
         "marker": {
          "color": "#EF553B",
          "symbol": "circle"
         },
         "mode": "markers",
         "name": "Gwendolyn Rice",
         "orientation": "v",
         "showlegend": true,
         "type": "scatter",
         "x": [
          42
         ],
         "xaxis": "x",
         "y": [
          47483.85316
         ],
         "yaxis": "y"
        },
        {
         "hovertemplate": "Customer Name=Gareth Morris<br>Age=%{x}<br>Car Purchase Amount=%{y}<extra></extra>",
         "legendgroup": "Gareth Morris",
         "marker": {
          "color": "#00cc96",
          "symbol": "circle"
         },
         "mode": "markers",
         "name": "Gareth Morris",
         "orientation": "v",
         "showlegend": true,
         "type": "scatter",
         "x": [
          55
         ],
         "xaxis": "x",
         "y": [
          49730.53339
         ],
         "yaxis": "y"
        },
        {
         "hovertemplate": "Customer Name=Sawyer Carney<br>Age=%{x}<br>Car Purchase Amount=%{y}<extra></extra>",
         "legendgroup": "Sawyer Carney",
         "marker": {
          "color": "#ab63fa",
          "symbol": "circle"
         },
         "mode": "markers",
         "name": "Sawyer Carney",
         "orientation": "v",
         "showlegend": true,
         "type": "scatter",
         "x": [
          53
         ],
         "xaxis": "x",
         "y": [
          40093.61981
         ],
         "yaxis": "y"
        },
        {
         "hovertemplate": "Customer Name=Raya Shields<br>Age=%{x}<br>Car Purchase Amount=%{y}<extra></extra>",
         "legendgroup": "Raya Shields",
         "marker": {
          "color": "#FFA15A",
          "symbol": "circle"
         },
         "mode": "markers",
         "name": "Raya Shields",
         "orientation": "v",
         "showlegend": true,
         "type": "scatter",
         "x": [
          53
         ],
         "xaxis": "x",
         "y": [
          42297.5062
         ],
         "yaxis": "y"
        },
        {
         "hovertemplate": "Customer Name=Olga Serrano<br>Age=%{x}<br>Car Purchase Amount=%{y}<extra></extra>",
         "legendgroup": "Olga Serrano",
         "marker": {
          "color": "#19d3f3",
          "symbol": "circle"
         },
         "mode": "markers",
         "name": "Olga Serrano",
         "orientation": "v",
         "showlegend": true,
         "type": "scatter",
         "x": [
          43
         ],
         "xaxis": "x",
         "y": [
          52954.93121
         ],
         "yaxis": "y"
        },
        {
         "hovertemplate": "Customer Name=Yuli Craig<br>Age=%{x}<br>Car Purchase Amount=%{y}<extra></extra>",
         "legendgroup": "Yuli Craig",
         "marker": {
          "color": "#FF6692",
          "symbol": "circle"
         },
         "mode": "markers",
         "name": "Yuli Craig",
         "orientation": "v",
         "showlegend": true,
         "type": "scatter",
         "x": [
          55
         ],
         "xaxis": "x",
         "y": [
          48104.11184
         ],
         "yaxis": "y"
        },
        {
         "hovertemplate": "Customer Name=Lev Kramer<br>Age=%{x}<br>Car Purchase Amount=%{y}<extra></extra>",
         "legendgroup": "Lev Kramer",
         "marker": {
          "color": "#B6E880",
          "symbol": "circle"
         },
         "mode": "markers",
         "name": "Lev Kramer",
         "orientation": "v",
         "showlegend": true,
         "type": "scatter",
         "x": [
          43
         ],
         "xaxis": "x",
         "y": [
          43680.91327
         ],
         "yaxis": "y"
        },
        {
         "hovertemplate": "Customer Name=Nissim Acosta<br>Age=%{x}<br>Car Purchase Amount=%{y}<extra></extra>",
         "legendgroup": "Nissim Acosta",
         "marker": {
          "color": "#FF97FF",
          "symbol": "circle"
         },
         "mode": "markers",
         "name": "Nissim Acosta",
         "orientation": "v",
         "showlegend": true,
         "type": "scatter",
         "x": [
          57
         ],
         "xaxis": "x",
         "y": [
          52707.96816
         ],
         "yaxis": "y"
        },
        {
         "hovertemplate": "Customer Name=Miranda Berry<br>Age=%{x}<br>Car Purchase Amount=%{y}<extra></extra>",
         "legendgroup": "Miranda Berry",
         "marker": {
          "color": "#FECB52",
          "symbol": "circle"
         },
         "mode": "markers",
         "name": "Miranda Berry",
         "orientation": "v",
         "showlegend": true,
         "type": "scatter",
         "x": [
          52
         ],
         "xaxis": "x",
         "y": [
          49392.8897
         ],
         "yaxis": "y"
        },
        {
         "hovertemplate": "Customer Name=Owen Jacobson<br>Age=%{x}<br>Car Purchase Amount=%{y}<extra></extra>",
         "legendgroup": "Owen Jacobson",
         "marker": {
          "color": "#636efa",
          "symbol": "circle"
         },
         "mode": "markers",
         "name": "Owen Jacobson",
         "orientation": "v",
         "showlegend": true,
         "type": "scatter",
         "x": [
          45
         ],
         "xaxis": "x",
         "y": [
          30841.00154
         ],
         "yaxis": "y"
        },
        {
         "hovertemplate": "Customer Name=Marvin Becker<br>Age=%{x}<br>Car Purchase Amount=%{y}<extra></extra>",
         "legendgroup": "Marvin Becker",
         "marker": {
          "color": "#EF553B",
          "symbol": "circle"
         },
         "mode": "markers",
         "name": "Marvin Becker",
         "orientation": "v",
         "showlegend": true,
         "type": "scatter",
         "x": [
          56
         ],
         "xaxis": "x",
         "y": [
          49373.37555
         ],
         "yaxis": "y"
        },
        {
         "hovertemplate": "Customer Name=Davis Scott<br>Age=%{x}<br>Car Purchase Amount=%{y}<extra></extra>",
         "legendgroup": "Davis Scott",
         "marker": {
          "color": "#00cc96",
          "symbol": "circle"
         },
         "mode": "markers",
         "name": "Davis Scott",
         "orientation": "v",
         "showlegend": true,
         "type": "scatter",
         "x": [
          41
         ],
         "xaxis": "x",
         "y": [
          41903.65171
         ],
         "yaxis": "y"
        },
        {
         "hovertemplate": "Customer Name=Matthew Colon<br>Age=%{x}<br>Car Purchase Amount=%{y}<extra></extra>",
         "legendgroup": "Matthew Colon",
         "marker": {
          "color": "#ab63fa",
          "symbol": "circle"
         },
         "mode": "markers",
         "name": "Matthew Colon",
         "orientation": "v",
         "showlegend": true,
         "type": "scatter",
         "x": [
          48
         ],
         "xaxis": "x",
         "y": [
          45058.8969
         ],
         "yaxis": "y"
        },
        {
         "hovertemplate": "Customer Name=Quinlan Harris<br>Age=%{x}<br>Car Purchase Amount=%{y}<extra></extra>",
         "legendgroup": "Quinlan Harris",
         "marker": {
          "color": "#FFA15A",
          "symbol": "circle"
         },
         "mode": "markers",
         "name": "Quinlan Harris",
         "orientation": "v",
         "showlegend": true,
         "type": "scatter",
         "x": [
          56
         ],
         "xaxis": "x",
         "y": [
          52991.52667
         ],
         "yaxis": "y"
        },
        {
         "hovertemplate": "Customer Name=Hedley Greene<br>Age=%{x}<br>Car Purchase Amount=%{y}<extra></extra>",
         "legendgroup": "Hedley Greene",
         "marker": {
          "color": "#19d3f3",
          "symbol": "circle"
         },
         "mode": "markers",
         "name": "Hedley Greene",
         "orientation": "v",
         "showlegend": true,
         "type": "scatter",
         "x": [
          47
         ],
         "xaxis": "x",
         "y": [
          50958.08115
         ],
         "yaxis": "y"
        },
        {
         "hovertemplate": "Customer Name=Orson Kirby<br>Age=%{x}<br>Car Purchase Amount=%{y}<extra></extra>",
         "legendgroup": "Orson Kirby",
         "marker": {
          "color": "#FF6692",
          "symbol": "circle"
         },
         "mode": "markers",
         "name": "Orson Kirby",
         "orientation": "v",
         "showlegend": true,
         "type": "scatter",
         "x": [
          53
         ],
         "xaxis": "x",
         "y": [
          41357.17897
         ],
         "yaxis": "y"
        },
        {
         "hovertemplate": "Customer Name=Adria Mathis<br>Age=%{x}<br>Car Purchase Amount=%{y}<extra></extra>",
         "legendgroup": "Adria Mathis",
         "marker": {
          "color": "#B6E880",
          "symbol": "circle"
         },
         "mode": "markers",
         "name": "Adria Mathis",
         "orientation": "v",
         "showlegend": true,
         "type": "scatter",
         "x": [
          57
         ],
         "xaxis": "x",
         "y": [
          44434.71917
         ],
         "yaxis": "y"
        },
        {
         "hovertemplate": "Customer Name=Peter Stout<br>Age=%{x}<br>Car Purchase Amount=%{y}<extra></extra>",
         "legendgroup": "Peter Stout",
         "marker": {
          "color": "#FF97FF",
          "symbol": "circle"
         },
         "mode": "markers",
         "name": "Peter Stout",
         "orientation": "v",
         "showlegend": true,
         "type": "scatter",
         "x": [
          39
         ],
         "xaxis": "x",
         "y": [
          38502.42392
         ],
         "yaxis": "y"
        },
        {
         "hovertemplate": "Customer Name=Cleo Moore<br>Age=%{x}<br>Car Purchase Amount=%{y}<extra></extra>",
         "legendgroup": "Cleo Moore",
         "marker": {
          "color": "#FECB52",
          "symbol": "circle"
         },
         "mode": "markers",
         "name": "Cleo Moore",
         "orientation": "v",
         "showlegend": true,
         "type": "scatter",
         "x": [
          45
         ],
         "xaxis": "x",
         "y": [
          41221.24918
         ],
         "yaxis": "y"
        },
        {
         "hovertemplate": "Customer Name=Cally Montoya<br>Age=%{x}<br>Car Purchase Amount=%{y}<extra></extra>",
         "legendgroup": "Cally Montoya",
         "marker": {
          "color": "#636efa",
          "symbol": "circle"
         },
         "mode": "markers",
         "name": "Cally Montoya",
         "orientation": "v",
         "showlegend": true,
         "type": "scatter",
         "x": [
          33
         ],
         "xaxis": "x",
         "y": [
          38399.46139
         ],
         "yaxis": "y"
        },
        {
         "hovertemplate": "Customer Name=Ila Farrell<br>Age=%{x}<br>Car Purchase Amount=%{y}<extra></extra>",
         "legendgroup": "Ila Farrell",
         "marker": {
          "color": "#EF553B",
          "symbol": "circle"
         },
         "mode": "markers",
         "name": "Ila Farrell",
         "orientation": "v",
         "showlegend": true,
         "type": "scatter",
         "x": [
          44
         ],
         "xaxis": "x",
         "y": [
          41456.68097
         ],
         "yaxis": "y"
        },
        {
         "hovertemplate": "Customer Name=Abel Stanton<br>Age=%{x}<br>Car Purchase Amount=%{y}<extra></extra>",
         "legendgroup": "Abel Stanton",
         "marker": {
          "color": "#00cc96",
          "symbol": "circle"
         },
         "mode": "markers",
         "name": "Abel Stanton",
         "orientation": "v",
         "showlegend": true,
         "type": "scatter",
         "x": [
          40
         ],
         "xaxis": "x",
         "y": [
          30394.82494
         ],
         "yaxis": "y"
        },
        {
         "hovertemplate": "Customer Name=Reed Roman<br>Age=%{x}<br>Car Purchase Amount=%{y}<extra></extra>",
         "legendgroup": "Reed Roman",
         "marker": {
          "color": "#ab63fa",
          "symbol": "circle"
         },
         "mode": "markers",
         "name": "Reed Roman",
         "orientation": "v",
         "showlegend": true,
         "type": "scatter",
         "x": [
          40
         ],
         "xaxis": "x",
         "y": [
          42384.05128
         ],
         "yaxis": "y"
        },
        {
         "hovertemplate": "Customer Name=September Puckett<br>Age=%{x}<br>Car Purchase Amount=%{y}<extra></extra>",
         "legendgroup": "September Puckett",
         "marker": {
          "color": "#FFA15A",
          "symbol": "circle"
         },
         "mode": "markers",
         "name": "September Puckett",
         "orientation": "v",
         "showlegend": true,
         "type": "scatter",
         "x": [
          37
         ],
         "xaxis": "x",
         "y": [
          39002.0771
         ],
         "yaxis": "y"
        },
        {
         "hovertemplate": "Customer Name=Teegan Barr<br>Age=%{x}<br>Car Purchase Amount=%{y}<extra></extra>",
         "legendgroup": "Teegan Barr",
         "marker": {
          "color": "#19d3f3",
          "symbol": "circle"
         },
         "mode": "markers",
         "name": "Teegan Barr",
         "orientation": "v",
         "showlegend": true,
         "type": "scatter",
         "x": [
          40
         ],
         "xaxis": "x",
         "y": [
          19553.2739
         ],
         "yaxis": "y"
        },
        {
         "hovertemplate": "Customer Name=Alexander York<br>Age=%{x}<br>Car Purchase Amount=%{y}<extra></extra>",
         "legendgroup": "Alexander York",
         "marker": {
          "color": "#FF6692",
          "symbol": "circle"
         },
         "mode": "markers",
         "name": "Alexander York",
         "orientation": "v",
         "showlegend": true,
         "type": "scatter",
         "x": [
          44
         ],
         "xaxis": "x",
         "y": [
          45167.32542
         ],
         "yaxis": "y"
        },
        {
         "hovertemplate": "Customer Name=Jared Green<br>Age=%{x}<br>Car Purchase Amount=%{y}<extra></extra>",
         "legendgroup": "Jared Green",
         "marker": {
          "color": "#B6E880",
          "symbol": "circle"
         },
         "mode": "markers",
         "name": "Jared Green",
         "orientation": "v",
         "showlegend": true,
         "type": "scatter",
         "x": [
          43
         ],
         "xaxis": "x",
         "y": [
          36019.9556
         ],
         "yaxis": "y"
        },
        {
         "hovertemplate": "Customer Name=Eagan Woodward<br>Age=%{x}<br>Car Purchase Amount=%{y}<extra></extra>",
         "legendgroup": "Eagan Woodward",
         "marker": {
          "color": "#FF97FF",
          "symbol": "circle"
         },
         "mode": "markers",
         "name": "Eagan Woodward",
         "orientation": "v",
         "showlegend": true,
         "type": "scatter",
         "x": [
          58
         ],
         "xaxis": "x",
         "y": [
          50937.93844
         ],
         "yaxis": "y"
        },
        {
         "hovertemplate": "Customer Name=Ferdinand Weber<br>Age=%{x}<br>Car Purchase Amount=%{y}<extra></extra>",
         "legendgroup": "Ferdinand Weber",
         "marker": {
          "color": "#FECB52",
          "symbol": "circle"
         },
         "mode": "markers",
         "name": "Ferdinand Weber",
         "orientation": "v",
         "showlegend": true,
         "type": "scatter",
         "x": [
          32
         ],
         "xaxis": "x",
         "y": [
          12895.71468
         ],
         "yaxis": "y"
        },
        {
         "hovertemplate": "Customer Name=Kitra Kerr<br>Age=%{x}<br>Car Purchase Amount=%{y}<extra></extra>",
         "legendgroup": "Kitra Kerr",
         "marker": {
          "color": "#636efa",
          "symbol": "circle"
         },
         "mode": "markers",
         "name": "Kitra Kerr",
         "orientation": "v",
         "showlegend": true,
         "type": "scatter",
         "x": [
          50
         ],
         "xaxis": "x",
         "y": [
          38955.21919
         ],
         "yaxis": "y"
        },
        {
         "hovertemplate": "Customer Name=Desirae Stone<br>Age=%{x}<br>Car Purchase Amount=%{y}<extra></extra>",
         "legendgroup": "Desirae Stone",
         "marker": {
          "color": "#EF553B",
          "symbol": "circle"
         },
         "mode": "markers",
         "name": "Desirae Stone",
         "orientation": "v",
         "showlegend": true,
         "type": "scatter",
         "x": [
          59
         ],
         "xaxis": "x",
         "y": [
          51221.04249
         ],
         "yaxis": "y"
        },
        {
         "hovertemplate": "Customer Name=Len Phillips<br>Age=%{x}<br>Car Purchase Amount=%{y}<extra></extra>",
         "legendgroup": "Len Phillips",
         "marker": {
          "color": "#00cc96",
          "symbol": "circle"
         },
         "mode": "markers",
         "name": "Len Phillips",
         "orientation": "v",
         "showlegend": true,
         "type": "scatter",
         "x": [
          42
         ],
         "xaxis": "x",
         "y": [
          25971.95673
         ],
         "yaxis": "y"
        },
        {
         "hovertemplate": "Customer Name=Yen Santana<br>Age=%{x}<br>Car Purchase Amount=%{y}<extra></extra>",
         "legendgroup": "Yen Santana",
         "marker": {
          "color": "#ab63fa",
          "symbol": "circle"
         },
         "mode": "markers",
         "name": "Yen Santana",
         "orientation": "v",
         "showlegend": true,
         "type": "scatter",
         "x": [
          50
         ],
         "xaxis": "x",
         "y": [
          60670.33672
         ],
         "yaxis": "y"
        },
        {
         "hovertemplate": "Customer Name=Martina Fuentes<br>Age=%{x}<br>Car Purchase Amount=%{y}<extra></extra>",
         "legendgroup": "Martina Fuentes",
         "marker": {
          "color": "#FFA15A",
          "symbol": "circle"
         },
         "mode": "markers",
         "name": "Martina Fuentes",
         "orientation": "v",
         "showlegend": true,
         "type": "scatter",
         "x": [
          53
         ],
         "xaxis": "x",
         "y": [
          54075.12064
         ],
         "yaxis": "y"
        },
        {
         "hovertemplate": "Customer Name=Ariana Nash<br>Age=%{x}<br>Car Purchase Amount=%{y}<extra></extra>",
         "legendgroup": "Ariana Nash",
         "marker": {
          "color": "#19d3f3",
          "symbol": "circle"
         },
         "mode": "markers",
         "name": "Ariana Nash",
         "orientation": "v",
         "showlegend": true,
         "type": "scatter",
         "x": [
          47
         ],
         "xaxis": "x",
         "y": [
          40004.87142
         ],
         "yaxis": "y"
        },
        {
         "hovertemplate": "Customer Name=Glenna Graham<br>Age=%{x}<br>Car Purchase Amount=%{y}<extra></extra>",
         "legendgroup": "Glenna Graham",
         "marker": {
          "color": "#FF6692",
          "symbol": "circle"
         },
         "mode": "markers",
         "name": "Glenna Graham",
         "orientation": "v",
         "showlegend": true,
         "type": "scatter",
         "x": [
          46
         ],
         "xaxis": "x",
         "y": [
          61593.52058
         ],
         "yaxis": "y"
        },
        {
         "hovertemplate": "Customer Name=Holmes Lane<br>Age=%{x}<br>Car Purchase Amount=%{y}<extra></extra>",
         "legendgroup": "Holmes Lane",
         "marker": {
          "color": "#B6E880",
          "symbol": "circle"
         },
         "mode": "markers",
         "name": "Holmes Lane",
         "orientation": "v",
         "showlegend": true,
         "type": "scatter",
         "x": [
          43
         ],
         "xaxis": "x",
         "y": [
          39503.38829
         ],
         "yaxis": "y"
        },
        {
         "hovertemplate": "Customer Name=Emerald Hamilton<br>Age=%{x}<br>Car Purchase Amount=%{y}<extra></extra>",
         "legendgroup": "Emerald Hamilton",
         "marker": {
          "color": "#FF97FF",
          "symbol": "circle"
         },
         "mode": "markers",
         "name": "Emerald Hamilton",
         "orientation": "v",
         "showlegend": true,
         "type": "scatter",
         "x": [
          49
         ],
         "xaxis": "x",
         "y": [
          52474.71839
         ],
         "yaxis": "y"
        },
        {
         "hovertemplate": "Customer Name=Gage Marquez<br>Age=%{x}<br>Car Purchase Amount=%{y}<extra></extra>",
         "legendgroup": "Gage Marquez",
         "marker": {
          "color": "#FECB52",
          "symbol": "circle"
         },
         "mode": "markers",
         "name": "Gage Marquez",
         "orientation": "v",
         "showlegend": true,
         "type": "scatter",
         "x": [
          43
         ],
         "xaxis": "x",
         "y": [
          42187.6828
         ],
         "yaxis": "y"
        },
        {
         "hovertemplate": "Customer Name=Travis Burks<br>Age=%{x}<br>Car Purchase Amount=%{y}<extra></extra>",
         "legendgroup": "Travis Burks",
         "marker": {
          "color": "#636efa",
          "symbol": "circle"
         },
         "mode": "markers",
         "name": "Travis Burks",
         "orientation": "v",
         "showlegend": true,
         "type": "scatter",
         "x": [
          53
         ],
         "xaxis": "x",
         "y": [
          57441.44414
         ],
         "yaxis": "y"
        },
        {
         "hovertemplate": "Customer Name=Otto Oneill<br>Age=%{x}<br>Car Purchase Amount=%{y}<extra></extra>",
         "legendgroup": "Otto Oneill",
         "marker": {
          "color": "#EF553B",
          "symbol": "circle"
         },
         "mode": "markers",
         "name": "Otto Oneill",
         "orientation": "v",
         "showlegend": true,
         "type": "scatter",
         "x": [
          36
         ],
         "xaxis": "x",
         "y": [
          22681.71667
         ],
         "yaxis": "y"
        },
        {
         "hovertemplate": "Customer Name=Brian Mathews<br>Age=%{x}<br>Car Purchase Amount=%{y}<extra></extra>",
         "legendgroup": "Brian Mathews",
         "marker": {
          "color": "#00cc96",
          "symbol": "circle"
         },
         "mode": "markers",
         "name": "Brian Mathews",
         "orientation": "v",
         "showlegend": true,
         "type": "scatter",
         "x": [
          30
         ],
         "xaxis": "x",
         "y": [
          33640.73697
         ],
         "yaxis": "y"
        },
        {
         "hovertemplate": "Customer Name=Ralph Rich<br>Age=%{x}<br>Car Purchase Amount=%{y}<extra></extra>",
         "legendgroup": "Ralph Rich",
         "marker": {
          "color": "#ab63fa",
          "symbol": "circle"
         },
         "mode": "markers",
         "name": "Ralph Rich",
         "orientation": "v",
         "showlegend": true,
         "type": "scatter",
         "x": [
          37
         ],
         "xaxis": "x",
         "y": [
          31540.77868
         ],
         "yaxis": "y"
        },
        {
         "hovertemplate": "Customer Name=Yasir Tyler<br>Age=%{x}<br>Car Purchase Amount=%{y}<extra></extra>",
         "legendgroup": "Yasir Tyler",
         "marker": {
          "color": "#FFA15A",
          "symbol": "circle"
         },
         "mode": "markers",
         "name": "Yasir Tyler",
         "orientation": "v",
         "showlegend": true,
         "type": "scatter",
         "x": [
          48
         ],
         "xaxis": "x",
         "y": [
          60461.24268
         ],
         "yaxis": "y"
        },
        {
         "hovertemplate": "Customer Name=Dominic Mcintosh<br>Age=%{x}<br>Car Purchase Amount=%{y}<extra></extra>",
         "legendgroup": "Dominic Mcintosh",
         "marker": {
          "color": "#19d3f3",
          "symbol": "circle"
         },
         "mode": "markers",
         "name": "Dominic Mcintosh",
         "orientation": "v",
         "showlegend": true,
         "type": "scatter",
         "x": [
          44
         ],
         "xaxis": "x",
         "y": [
          45738.3343
         ],
         "yaxis": "y"
        },
        {
         "hovertemplate": "Customer Name=Tanner Ward<br>Age=%{x}<br>Car Purchase Amount=%{y}<extra></extra>",
         "legendgroup": "Tanner Ward",
         "marker": {
          "color": "#FF6692",
          "symbol": "circle"
         },
         "mode": "markers",
         "name": "Tanner Ward",
         "orientation": "v",
         "showlegend": true,
         "type": "scatter",
         "x": [
          42
         ],
         "xaxis": "x",
         "y": [
          34803.82395
         ],
         "yaxis": "y"
        },
        {
         "hovertemplate": "Customer Name=Wing Gray<br>Age=%{x}<br>Car Purchase Amount=%{y}<extra></extra>",
         "legendgroup": "Wing Gray",
         "marker": {
          "color": "#B6E880",
          "symbol": "circle"
         },
         "mode": "markers",
         "name": "Wing Gray",
         "orientation": "v",
         "showlegend": true,
         "type": "scatter",
         "x": [
          50
         ],
         "xaxis": "x",
         "y": [
          34642.6024
         ],
         "yaxis": "y"
        },
        {
         "hovertemplate": "Customer Name=Lionel Mcclure<br>Age=%{x}<br>Car Purchase Amount=%{y}<extra></extra>",
         "legendgroup": "Lionel Mcclure",
         "marker": {
          "color": "#FF97FF",
          "symbol": "circle"
         },
         "mode": "markers",
         "name": "Lionel Mcclure",
         "orientation": "v",
         "showlegend": true,
         "type": "scatter",
         "x": [
          30
         ],
         "xaxis": "x",
         "y": [
          27586.71854
         ],
         "yaxis": "y"
        },
        {
         "hovertemplate": "Customer Name=Wing Parks<br>Age=%{x}<br>Car Purchase Amount=%{y}<extra></extra>",
         "legendgroup": "Wing Parks",
         "marker": {
          "color": "#FECB52",
          "symbol": "circle"
         },
         "mode": "markers",
         "name": "Wing Parks",
         "orientation": "v",
         "showlegend": true,
         "type": "scatter",
         "x": [
          42
         ],
         "xaxis": "x",
         "y": [
          54973.02495
         ],
         "yaxis": "y"
        },
        {
         "hovertemplate": "Customer Name=Oleg Gordon<br>Age=%{x}<br>Car Purchase Amount=%{y}<extra></extra>",
         "legendgroup": "Oleg Gordon",
         "marker": {
          "color": "#636efa",
          "symbol": "circle"
         },
         "mode": "markers",
         "name": "Oleg Gordon",
         "orientation": "v",
         "showlegend": true,
         "type": "scatter",
         "x": [
          46
         ],
         "xaxis": "x",
         "y": [
          49142.51174
         ],
         "yaxis": "y"
        },
        {
         "hovertemplate": "Customer Name=Jamal Stephenson<br>Age=%{x}<br>Car Purchase Amount=%{y}<extra></extra>",
         "legendgroup": "Jamal Stephenson",
         "marker": {
          "color": "#EF553B",
          "symbol": "circle"
         },
         "mode": "markers",
         "name": "Jamal Stephenson",
         "orientation": "v",
         "showlegend": true,
         "type": "scatter",
         "x": [
          55
         ],
         "xaxis": "x",
         "y": [
          58840.53964
         ],
         "yaxis": "y"
        },
        {
         "hovertemplate": "Customer Name=Kadeem Larsen<br>Age=%{x}<br>Car Purchase Amount=%{y}<extra></extra>",
         "legendgroup": "Kadeem Larsen",
         "marker": {
          "color": "#00cc96",
          "symbol": "circle"
         },
         "mode": "markers",
         "name": "Kadeem Larsen",
         "orientation": "v",
         "showlegend": true,
         "type": "scatter",
         "x": [
          44
         ],
         "xaxis": "x",
         "y": [
          57306.32866
         ],
         "yaxis": "y"
        },
        {
         "hovertemplate": "Customer Name=Todd Maldonado<br>Age=%{x}<br>Car Purchase Amount=%{y}<extra></extra>",
         "legendgroup": "Todd Maldonado",
         "marker": {
          "color": "#ab63fa",
          "symbol": "circle"
         },
         "mode": "markers",
         "name": "Todd Maldonado",
         "orientation": "v",
         "showlegend": true,
         "type": "scatter",
         "x": [
          58
         ],
         "xaxis": "x",
         "y": [
          51941.6756
         ],
         "yaxis": "y"
        },
        {
         "hovertemplate": "Customer Name=Victor Yang<br>Age=%{x}<br>Car Purchase Amount=%{y}<extra></extra>",
         "legendgroup": "Victor Yang",
         "marker": {
          "color": "#FFA15A",
          "symbol": "circle"
         },
         "mode": "markers",
         "name": "Victor Yang",
         "orientation": "v",
         "showlegend": true,
         "type": "scatter",
         "x": [
          42
         ],
         "xaxis": "x",
         "y": [
          30240.60975
         ],
         "yaxis": "y"
        },
        {
         "hovertemplate": "Customer Name=Quamar Cummings<br>Age=%{x}<br>Car Purchase Amount=%{y}<extra></extra>",
         "legendgroup": "Quamar Cummings",
         "marker": {
          "color": "#19d3f3",
          "symbol": "circle"
         },
         "mode": "markers",
         "name": "Quamar Cummings",
         "orientation": "v",
         "showlegend": true,
         "type": "scatter",
         "x": [
          57
         ],
         "xaxis": "x",
         "y": [
          67120.89878
         ],
         "yaxis": "y"
        },
        {
         "hovertemplate": "Customer Name=Dominic Hughes<br>Age=%{x}<br>Car Purchase Amount=%{y}<extra></extra>",
         "legendgroup": "Dominic Hughes",
         "marker": {
          "color": "#FF6692",
          "symbol": "circle"
         },
         "mode": "markers",
         "name": "Dominic Hughes",
         "orientation": "v",
         "showlegend": true,
         "type": "scatter",
         "x": [
          43
         ],
         "xaxis": "x",
         "y": [
          42408.02625
         ],
         "yaxis": "y"
        },
        {
         "hovertemplate": "Customer Name=Lamar Hensley<br>Age=%{x}<br>Car Purchase Amount=%{y}<extra></extra>",
         "legendgroup": "Lamar Hensley",
         "marker": {
          "color": "#B6E880",
          "symbol": "circle"
         },
         "mode": "markers",
         "name": "Lamar Hensley",
         "orientation": "v",
         "showlegend": true,
         "type": "scatter",
         "x": [
          35
         ],
         "xaxis": "x",
         "y": [
          41451.71843
         ],
         "yaxis": "y"
        },
        {
         "hovertemplate": "Customer Name=Solomon Atkinson<br>Age=%{x}<br>Car Purchase Amount=%{y}<extra></extra>",
         "legendgroup": "Solomon Atkinson",
         "marker": {
          "color": "#FF97FF",
          "symbol": "circle"
         },
         "mode": "markers",
         "name": "Solomon Atkinson",
         "orientation": "v",
         "showlegend": true,
         "type": "scatter",
         "x": [
          43
         ],
         "xaxis": "x",
         "y": [
          42592.88647
         ],
         "yaxis": "y"
        },
        {
         "hovertemplate": "Customer Name=Dean Snider<br>Age=%{x}<br>Car Purchase Amount=%{y}<extra></extra>",
         "legendgroup": "Dean Snider",
         "marker": {
          "color": "#FECB52",
          "symbol": "circle"
         },
         "mode": "markers",
         "name": "Dean Snider",
         "orientation": "v",
         "showlegend": true,
         "type": "scatter",
         "x": [
          35
         ],
         "xaxis": "x",
         "y": [
          34521.17618
         ],
         "yaxis": "y"
        },
        {
         "hovertemplate": "Customer Name=Vernon Kidd<br>Age=%{x}<br>Car Purchase Amount=%{y}<extra></extra>",
         "legendgroup": "Vernon Kidd",
         "marker": {
          "color": "#636efa",
          "symbol": "circle"
         },
         "mode": "markers",
         "name": "Vernon Kidd",
         "orientation": "v",
         "showlegend": true,
         "type": "scatter",
         "x": [
          34
         ],
         "xaxis": "x",
         "y": [
          42213.69644
         ],
         "yaxis": "y"
        },
        {
         "hovertemplate": "Customer Name=Dolan Clayton<br>Age=%{x}<br>Car Purchase Amount=%{y}<extra></extra>",
         "legendgroup": "Dolan Clayton",
         "marker": {
          "color": "#EF553B",
          "symbol": "circle"
         },
         "mode": "markers",
         "name": "Dolan Clayton",
         "orientation": "v",
         "showlegend": true,
         "type": "scatter",
         "x": [
          48
         ],
         "xaxis": "x",
         "y": [
          41913.53713
         ],
         "yaxis": "y"
        },
        {
         "hovertemplate": "Customer Name=Marvin Deleon<br>Age=%{x}<br>Car Purchase Amount=%{y}<extra></extra>",
         "legendgroup": "Marvin Deleon",
         "marker": {
          "color": "#00cc96",
          "symbol": "circle"
         },
         "mode": "markers",
         "name": "Marvin Deleon",
         "orientation": "v",
         "showlegend": true,
         "type": "scatter",
         "x": [
          53
         ],
         "xaxis": "x",
         "y": [
          59416.18101
         ],
         "yaxis": "y"
        },
        {
         "hovertemplate": "Customer Name=Merrill Bailey<br>Age=%{x}<br>Car Purchase Amount=%{y}<extra></extra>",
         "legendgroup": "Merrill Bailey",
         "marker": {
          "color": "#ab63fa",
          "symbol": "circle"
         },
         "mode": "markers",
         "name": "Merrill Bailey",
         "orientation": "v",
         "showlegend": true,
         "type": "scatter",
         "x": [
          47
         ],
         "xaxis": "x",
         "y": [
          51402.61506
         ],
         "yaxis": "y"
        },
        {
         "hovertemplate": "Customer Name=Adrian Brock<br>Age=%{x}<br>Car Purchase Amount=%{y}<extra></extra>",
         "legendgroup": "Adrian Brock",
         "marker": {
          "color": "#FFA15A",
          "symbol": "circle"
         },
         "mode": "markers",
         "name": "Adrian Brock",
         "orientation": "v",
         "showlegend": true,
         "type": "scatter",
         "x": [
          54
         ],
         "xaxis": "x",
         "y": [
          54755.42038
         ],
         "yaxis": "y"
        },
        {
         "hovertemplate": "Customer Name=Rigel Craft<br>Age=%{x}<br>Car Purchase Amount=%{y}<extra></extra>",
         "legendgroup": "Rigel Craft",
         "marker": {
          "color": "#19d3f3",
          "symbol": "circle"
         },
         "mode": "markers",
         "name": "Rigel Craft",
         "orientation": "v",
         "showlegend": true,
         "type": "scatter",
         "x": [
          51
         ],
         "xaxis": "x",
         "y": [
          47143.44008
         ],
         "yaxis": "y"
        },
        {
         "hovertemplate": "Customer Name=Chaim Lewis<br>Age=%{x}<br>Car Purchase Amount=%{y}<extra></extra>",
         "legendgroup": "Chaim Lewis",
         "marker": {
          "color": "#FF6692",
          "symbol": "circle"
         },
         "mode": "markers",
         "name": "Chaim Lewis",
         "orientation": "v",
         "showlegend": true,
         "type": "scatter",
         "x": [
          59
         ],
         "xaxis": "x",
         "y": [
          64391.68906
         ],
         "yaxis": "y"
        },
        {
         "hovertemplate": "Customer Name=Kyle Evans<br>Age=%{x}<br>Car Purchase Amount=%{y}<extra></extra>",
         "legendgroup": "Kyle Evans",
         "marker": {
          "color": "#B6E880",
          "symbol": "circle"
         },
         "mode": "markers",
         "name": "Kyle Evans",
         "orientation": "v",
         "showlegend": true,
         "type": "scatter",
         "x": [
          49
         ],
         "xaxis": "x",
         "y": [
          37252.55194
         ],
         "yaxis": "y"
        },
        {
         "hovertemplate": "Customer Name=Ulysses Craig<br>Age=%{x}<br>Car Purchase Amount=%{y}<extra></extra>",
         "legendgroup": "Ulysses Craig",
         "marker": {
          "color": "#FF97FF",
          "symbol": "circle"
         },
         "mode": "markers",
         "name": "Ulysses Craig",
         "orientation": "v",
         "showlegend": true,
         "type": "scatter",
         "x": [
          51
         ],
         "xaxis": "x",
         "y": [
          52665.36511
         ],
         "yaxis": "y"
        },
        {
         "hovertemplate": "Customer Name=Nolan Nixon<br>Age=%{x}<br>Car Purchase Amount=%{y}<extra></extra>",
         "legendgroup": "Nolan Nixon",
         "marker": {
          "color": "#FECB52",
          "symbol": "circle"
         },
         "mode": "markers",
         "name": "Nolan Nixon",
         "orientation": "v",
         "showlegend": true,
         "type": "scatter",
         "x": [
          40
         ],
         "xaxis": "x",
         "y": [
          44001.20706
         ],
         "yaxis": "y"
        },
        {
         "hovertemplate": "Customer Name=Oren Rosario<br>Age=%{x}<br>Car Purchase Amount=%{y}<extra></extra>",
         "legendgroup": "Oren Rosario",
         "marker": {
          "color": "#636efa",
          "symbol": "circle"
         },
         "mode": "markers",
         "name": "Oren Rosario",
         "orientation": "v",
         "showlegend": true,
         "type": "scatter",
         "x": [
          53
         ],
         "xaxis": "x",
         "y": [
          51551.67997
         ],
         "yaxis": "y"
        },
        {
         "hovertemplate": "Customer Name=Hector Bowers<br>Age=%{x}<br>Car Purchase Amount=%{y}<extra></extra>",
         "legendgroup": "Hector Bowers",
         "marker": {
          "color": "#EF553B",
          "symbol": "circle"
         },
         "mode": "markers",
         "name": "Hector Bowers",
         "orientation": "v",
         "showlegend": true,
         "type": "scatter",
         "x": [
          45
         ],
         "xaxis": "x",
         "y": [
          38243.66481
         ],
         "yaxis": "y"
        },
        {
         "hovertemplate": "Customer Name=Tate Molina<br>Age=%{x}<br>Car Purchase Amount=%{y}<extra></extra>",
         "legendgroup": "Tate Molina",
         "marker": {
          "color": "#00cc96",
          "symbol": "circle"
         },
         "mode": "markers",
         "name": "Tate Molina",
         "orientation": "v",
         "showlegend": true,
         "type": "scatter",
         "x": [
          45
         ],
         "xaxis": "x",
         "y": [
          39766.64804
         ],
         "yaxis": "y"
        },
        {
         "hovertemplate": "Customer Name=Julian Alexander<br>Age=%{x}<br>Car Purchase Amount=%{y}<extra></extra>",
         "legendgroup": "Julian Alexander",
         "marker": {
          "color": "#ab63fa",
          "symbol": "circle"
         },
         "mode": "markers",
         "name": "Julian Alexander",
         "orientation": "v",
         "showlegend": true,
         "type": "scatter",
         "x": [
          37
         ],
         "xaxis": "x",
         "y": [
          40077.57289
         ],
         "yaxis": "y"
        },
        {
         "hovertemplate": "Customer Name=Lucian Medina<br>Age=%{x}<br>Car Purchase Amount=%{y}<extra></extra>",
         "legendgroup": "Lucian Medina",
         "marker": {
          "color": "#FFA15A",
          "symbol": "circle"
         },
         "mode": "markers",
         "name": "Lucian Medina",
         "orientation": "v",
         "showlegend": true,
         "type": "scatter",
         "x": [
          43
         ],
         "xaxis": "x",
         "y": [
          33131.52734
         ],
         "yaxis": "y"
        },
        {
         "hovertemplate": "Customer Name=Todd Bass<br>Age=%{x}<br>Car Purchase Amount=%{y}<extra></extra>",
         "legendgroup": "Todd Bass",
         "marker": {
          "color": "#19d3f3",
          "symbol": "circle"
         },
         "mode": "markers",
         "name": "Todd Bass",
         "orientation": "v",
         "showlegend": true,
         "type": "scatter",
         "x": [
          48
         ],
         "xaxis": "x",
         "y": [
          48622.66097
         ],
         "yaxis": "y"
        },
        {
         "hovertemplate": "Customer Name=Mannix Snow<br>Age=%{x}<br>Car Purchase Amount=%{y}<extra></extra>",
         "legendgroup": "Mannix Snow",
         "marker": {
          "color": "#FF6692",
          "symbol": "circle"
         },
         "mode": "markers",
         "name": "Mannix Snow",
         "orientation": "v",
         "showlegend": true,
         "type": "scatter",
         "x": [
          49
         ],
         "xaxis": "x",
         "y": [
          47693.23482
         ],
         "yaxis": "y"
        },
        {
         "hovertemplate": "Customer Name=Benedict Serrano<br>Age=%{x}<br>Car Purchase Amount=%{y}<extra></extra>",
         "legendgroup": "Benedict Serrano",
         "marker": {
          "color": "#B6E880",
          "symbol": "circle"
         },
         "mode": "markers",
         "name": "Benedict Serrano",
         "orientation": "v",
         "showlegend": true,
         "type": "scatter",
         "x": [
          48
         ],
         "xaxis": "x",
         "y": [
          39410.4616
         ],
         "yaxis": "y"
        },
        {
         "hovertemplate": "Customer Name=Yoshio Potter<br>Age=%{x}<br>Car Purchase Amount=%{y}<extra></extra>",
         "legendgroup": "Yoshio Potter",
         "marker": {
          "color": "#FF97FF",
          "symbol": "circle"
         },
         "mode": "markers",
         "name": "Yoshio Potter",
         "orientation": "v",
         "showlegend": true,
         "type": "scatter",
         "x": [
          45
         ],
         "xaxis": "x",
         "y": [
          33428.40183
         ],
         "yaxis": "y"
        },
        {
         "hovertemplate": "Customer Name=Stone Koch<br>Age=%{x}<br>Car Purchase Amount=%{y}<extra></extra>",
         "legendgroup": "Stone Koch",
         "marker": {
          "color": "#FECB52",
          "symbol": "circle"
         },
         "mode": "markers",
         "name": "Stone Koch",
         "orientation": "v",
         "showlegend": true,
         "type": "scatter",
         "x": [
          43
         ],
         "xaxis": "x",
         "y": [
          32700.27871
         ],
         "yaxis": "y"
        },
        {
         "hovertemplate": "Customer Name=Elliott Horne<br>Age=%{x}<br>Car Purchase Amount=%{y}<extra></extra>",
         "legendgroup": "Elliott Horne",
         "marker": {
          "color": "#636efa",
          "symbol": "circle"
         },
         "mode": "markers",
         "name": "Elliott Horne",
         "orientation": "v",
         "showlegend": true,
         "type": "scatter",
         "x": [
          62
         ],
         "xaxis": "x",
         "y": [
          62864.43011
         ],
         "yaxis": "y"
        },
        {
         "hovertemplate": "Customer Name=Tanner Johnson<br>Age=%{x}<br>Car Purchase Amount=%{y}<extra></extra>",
         "legendgroup": "Tanner Johnson",
         "marker": {
          "color": "#EF553B",
          "symbol": "circle"
         },
         "mode": "markers",
         "name": "Tanner Johnson",
         "orientation": "v",
         "showlegend": true,
         "type": "scatter",
         "x": [
          46
         ],
         "xaxis": "x",
         "y": [
          29425.83001
         ],
         "yaxis": "y"
        },
        {
         "hovertemplate": "Customer Name=Gabriel Carson<br>Age=%{x}<br>Car Purchase Amount=%{y}<extra></extra>",
         "legendgroup": "Gabriel Carson",
         "marker": {
          "color": "#00cc96",
          "symbol": "circle"
         },
         "mode": "markers",
         "name": "Gabriel Carson",
         "orientation": "v",
         "showlegend": true,
         "type": "scatter",
         "x": [
          51
         ],
         "xaxis": "x",
         "y": [
          44418.60955
         ],
         "yaxis": "y"
        },
        {
         "hovertemplate": "Customer Name=Cain Love<br>Age=%{x}<br>Car Purchase Amount=%{y}<extra></extra>",
         "legendgroup": "Cain Love",
         "marker": {
          "color": "#ab63fa",
          "symbol": "circle"
         },
         "mode": "markers",
         "name": "Cain Love",
         "orientation": "v",
         "showlegend": true,
         "type": "scatter",
         "x": [
          44
         ],
         "xaxis": "x",
         "y": [
          36645.5609
         ],
         "yaxis": "y"
        },
        {
         "hovertemplate": "Customer Name=Barry Larsen<br>Age=%{x}<br>Car Purchase Amount=%{y}<extra></extra>",
         "legendgroup": "Barry Larsen",
         "marker": {
          "color": "#FFA15A",
          "symbol": "circle"
         },
         "mode": "markers",
         "name": "Barry Larsen",
         "orientation": "v",
         "showlegend": true,
         "type": "scatter",
         "x": [
          57
         ],
         "xaxis": "x",
         "y": [
          53655.53859
         ],
         "yaxis": "y"
        },
        {
         "hovertemplate": "Customer Name=Lawrence Ryan<br>Age=%{x}<br>Car Purchase Amount=%{y}<extra></extra>",
         "legendgroup": "Lawrence Ryan",
         "marker": {
          "color": "#19d3f3",
          "symbol": "circle"
         },
         "mode": "markers",
         "name": "Lawrence Ryan",
         "orientation": "v",
         "showlegend": true,
         "type": "scatter",
         "x": [
          60
         ],
         "xaxis": "x",
         "y": [
          45977.12502
         ],
         "yaxis": "y"
        },
        {
         "hovertemplate": "Customer Name=Allen Burke<br>Age=%{x}<br>Car Purchase Amount=%{y}<extra></extra>",
         "legendgroup": "Allen Burke",
         "marker": {
          "color": "#FF6692",
          "symbol": "circle"
         },
         "mode": "markers",
         "name": "Allen Burke",
         "orientation": "v",
         "showlegend": true,
         "type": "scatter",
         "x": [
          39
         ],
         "xaxis": "x",
         "y": [
          38504.39444
         ],
         "yaxis": "y"
        },
        {
         "hovertemplate": "Customer Name=Nero Morgan<br>Age=%{x}<br>Car Purchase Amount=%{y}<extra></extra>",
         "legendgroup": "Nero Morgan",
         "marker": {
          "color": "#B6E880",
          "symbol": "circle"
         },
         "mode": "markers",
         "name": "Nero Morgan",
         "orientation": "v",
         "showlegend": true,
         "type": "scatter",
         "x": [
          61
         ],
         "xaxis": "x",
         "y": [
          47935.9394
         ],
         "yaxis": "y"
        },
        {
         "hovertemplate": "Customer Name=Reuben Holden<br>Age=%{x}<br>Car Purchase Amount=%{y}<extra></extra>",
         "legendgroup": "Reuben Holden",
         "marker": {
          "color": "#FF97FF",
          "symbol": "circle"
         },
         "mode": "markers",
         "name": "Reuben Holden",
         "orientation": "v",
         "showlegend": true,
         "type": "scatter",
         "x": [
          50
         ],
         "xaxis": "x",
         "y": [
          60222.22672
         ],
         "yaxis": "y"
        },
        {
         "hovertemplate": "Customer Name=Orson Hyde<br>Age=%{x}<br>Car Purchase Amount=%{y}<extra></extra>",
         "legendgroup": "Orson Hyde",
         "marker": {
          "color": "#FECB52",
          "symbol": "circle"
         },
         "mode": "markers",
         "name": "Orson Hyde",
         "orientation": "v",
         "showlegend": true,
         "type": "scatter",
         "x": [
          37
         ],
         "xaxis": "x",
         "y": [
          38930.55234
         ],
         "yaxis": "y"
        },
        {
         "hovertemplate": "Customer Name=Nolan Conner<br>Age=%{x}<br>Car Purchase Amount=%{y}<extra></extra>",
         "legendgroup": "Nolan Conner",
         "marker": {
          "color": "#636efa",
          "symbol": "circle"
         },
         "mode": "markers",
         "name": "Nolan Conner",
         "orientation": "v",
         "showlegend": true,
         "type": "scatter",
         "x": [
          45
         ],
         "xaxis": "x",
         "y": [
          27810.21814
         ],
         "yaxis": "y"
        },
        {
         "hovertemplate": "Customer Name=Stuart Reed<br>Age=%{x}<br>Car Purchase Amount=%{y}<extra></extra>",
         "legendgroup": "Stuart Reed",
         "marker": {
          "color": "#EF553B",
          "symbol": "circle"
         },
         "mode": "markers",
         "name": "Stuart Reed",
         "orientation": "v",
         "showlegend": true,
         "type": "scatter",
         "x": [
          50
         ],
         "xaxis": "x",
         "y": [
          47604.34591
         ],
         "yaxis": "y"
        },
        {
         "hovertemplate": "Customer Name=Rashad Harper<br>Age=%{x}<br>Car Purchase Amount=%{y}<extra></extra>",
         "legendgroup": "Rashad Harper",
         "marker": {
          "color": "#00cc96",
          "symbol": "circle"
         },
         "mode": "markers",
         "name": "Rashad Harper",
         "orientation": "v",
         "showlegend": true,
         "type": "scatter",
         "x": [
          32
         ],
         "xaxis": "x",
         "y": [
          42356.6895
         ],
         "yaxis": "y"
        },
        {
         "hovertemplate": "Customer Name=Dieter Delaney<br>Age=%{x}<br>Car Purchase Amount=%{y}<extra></extra>",
         "legendgroup": "Dieter Delaney",
         "marker": {
          "color": "#ab63fa",
          "symbol": "circle"
         },
         "mode": "markers",
         "name": "Dieter Delaney",
         "orientation": "v",
         "showlegend": true,
         "type": "scatter",
         "x": [
          34
         ],
         "xaxis": "x",
         "y": [
          31300.54347
         ],
         "yaxis": "y"
        },
        {
         "hovertemplate": "Customer Name=Hop Farley<br>Age=%{x}<br>Car Purchase Amount=%{y}<extra></extra>",
         "legendgroup": "Hop Farley",
         "marker": {
          "color": "#FFA15A",
          "symbol": "circle"
         },
         "mode": "markers",
         "name": "Hop Farley",
         "orientation": "v",
         "showlegend": true,
         "type": "scatter",
         "x": [
          45
         ],
         "xaxis": "x",
         "y": [
          42369.64247
         ],
         "yaxis": "y"
        },
        {
         "hovertemplate": "Customer Name=Darius Herring<br>Age=%{x}<br>Car Purchase Amount=%{y}<extra></extra>",
         "legendgroup": "Darius Herring",
         "marker": {
          "color": "#19d3f3",
          "symbol": "circle"
         },
         "mode": "markers",
         "name": "Darius Herring",
         "orientation": "v",
         "showlegend": true,
         "type": "scatter",
         "x": [
          50
         ],
         "xaxis": "x",
         "y": [
          31837.22537
         ],
         "yaxis": "y"
        },
        {
         "hovertemplate": "Customer Name=Baker Saunders<br>Age=%{x}<br>Car Purchase Amount=%{y}<extra></extra>",
         "legendgroup": "Baker Saunders",
         "marker": {
          "color": "#FF6692",
          "symbol": "circle"
         },
         "mode": "markers",
         "name": "Baker Saunders",
         "orientation": "v",
         "showlegend": true,
         "type": "scatter",
         "x": [
          51
         ],
         "xaxis": "x",
         "y": [
          26499.31418
         ],
         "yaxis": "y"
        },
        {
         "hovertemplate": "Customer Name=Kermit Fuentes<br>Age=%{x}<br>Car Purchase Amount=%{y}<extra></extra>",
         "legendgroup": "Kermit Fuentes",
         "marker": {
          "color": "#B6E880",
          "symbol": "circle"
         },
         "mode": "markers",
         "name": "Kermit Fuentes",
         "orientation": "v",
         "showlegend": true,
         "type": "scatter",
         "x": [
          53
         ],
         "xaxis": "x",
         "y": [
          38172.83602
         ],
         "yaxis": "y"
        },
        {
         "hovertemplate": "Customer Name=Marvin Garner<br>Age=%{x}<br>Car Purchase Amount=%{y}<extra></extra>",
         "legendgroup": "Marvin Garner",
         "marker": {
          "color": "#FF97FF",
          "symbol": "circle"
         },
         "mode": "markers",
         "name": "Marvin Garner",
         "orientation": "v",
         "showlegend": true,
         "type": "scatter",
         "x": [
          34
         ],
         "xaxis": "x",
         "y": [
          39433.40631
         ],
         "yaxis": "y"
        },
        {
         "hovertemplate": "Customer Name=Sebastian Marks<br>Age=%{x}<br>Car Purchase Amount=%{y}<extra></extra>",
         "legendgroup": "Sebastian Marks",
         "marker": {
          "color": "#FECB52",
          "symbol": "circle"
         },
         "mode": "markers",
         "name": "Sebastian Marks",
         "orientation": "v",
         "showlegend": true,
         "type": "scatter",
         "x": [
          56
         ],
         "xaxis": "x",
         "y": [
          37714.31659
         ],
         "yaxis": "y"
        },
        {
         "hovertemplate": "Customer Name=Hector Price<br>Age=%{x}<br>Car Purchase Amount=%{y}<extra></extra>",
         "legendgroup": "Hector Price",
         "marker": {
          "color": "#636efa",
          "symbol": "circle"
         },
         "mode": "markers",
         "name": "Hector Price",
         "orientation": "v",
         "showlegend": true,
         "type": "scatter",
         "x": [
          57
         ],
         "xaxis": "x",
         "y": [
          57125.41541
         ],
         "yaxis": "y"
        },
        {
         "hovertemplate": "Customer Name=Holmes Irwin<br>Age=%{x}<br>Car Purchase Amount=%{y}<extra></extra>",
         "legendgroup": "Holmes Irwin",
         "marker": {
          "color": "#EF553B",
          "symbol": "circle"
         },
         "mode": "markers",
         "name": "Holmes Irwin",
         "orientation": "v",
         "showlegend": true,
         "type": "scatter",
         "x": [
          48
         ],
         "xaxis": "x",
         "y": [
          46453.34819
         ],
         "yaxis": "y"
        },
        {
         "hovertemplate": "Customer Name=Trevor Faulkner<br>Age=%{x}<br>Car Purchase Amount=%{y}<extra></extra>",
         "legendgroup": "Trevor Faulkner",
         "marker": {
          "color": "#00cc96",
          "symbol": "circle"
         },
         "mode": "markers",
         "name": "Trevor Faulkner",
         "orientation": "v",
         "showlegend": true,
         "type": "scatter",
         "x": [
          40
         ],
         "xaxis": "x",
         "y": [
          43855.06077
         ],
         "yaxis": "y"
        },
        {
         "hovertemplate": "Customer Name=Gannon Nguyen<br>Age=%{x}<br>Car Purchase Amount=%{y}<extra></extra>",
         "legendgroup": "Gannon Nguyen",
         "marker": {
          "color": "#ab63fa",
          "symbol": "circle"
         },
         "mode": "markers",
         "name": "Gannon Nguyen",
         "orientation": "v",
         "showlegend": true,
         "type": "scatter",
         "x": [
          50
         ],
         "xaxis": "x",
         "y": [
          55592.70383
         ],
         "yaxis": "y"
        },
        {
         "hovertemplate": "Customer Name=Quentin Randall<br>Age=%{x}<br>Car Purchase Amount=%{y}<extra></extra>",
         "legendgroup": "Quentin Randall",
         "marker": {
          "color": "#FFA15A",
          "symbol": "circle"
         },
         "mode": "markers",
         "name": "Quentin Randall",
         "orientation": "v",
         "showlegend": true,
         "type": "scatter",
         "x": [
          47
         ],
         "xaxis": "x",
         "y": [
          42484.02283
         ],
         "yaxis": "y"
        },
        {
         "hovertemplate": "Customer Name=Baker Norton<br>Age=%{x}<br>Car Purchase Amount=%{y}<extra></extra>",
         "legendgroup": "Baker Norton",
         "marker": {
          "color": "#19d3f3",
          "symbol": "circle"
         },
         "mode": "markers",
         "name": "Baker Norton",
         "orientation": "v",
         "showlegend": true,
         "type": "scatter",
         "x": [
          39
         ],
         "xaxis": "x",
         "y": [
          40879.19107
         ],
         "yaxis": "y"
        },
        {
         "hovertemplate": "Customer Name=Hakeem Mendoza<br>Age=%{x}<br>Car Purchase Amount=%{y}<extra></extra>",
         "legendgroup": "Hakeem Mendoza",
         "marker": {
          "color": "#FF6692",
          "symbol": "circle"
         },
         "mode": "markers",
         "name": "Hakeem Mendoza",
         "orientation": "v",
         "showlegend": true,
         "type": "scatter",
         "x": [
          36
         ],
         "xaxis": "x",
         "y": [
          20653.21409
         ],
         "yaxis": "y"
        },
        {
         "hovertemplate": "Customer Name=Peter Maynard<br>Age=%{x}<br>Car Purchase Amount=%{y}<extra></extra>",
         "legendgroup": "Peter Maynard",
         "marker": {
          "color": "#B6E880",
          "symbol": "circle"
         },
         "mode": "markers",
         "name": "Peter Maynard",
         "orientation": "v",
         "showlegend": true,
         "type": "scatter",
         "x": [
          44
         ],
         "xaxis": "x",
         "y": [
          35438.80549
         ],
         "yaxis": "y"
        },
        {
         "hovertemplate": "Customer Name=Devin Humphrey<br>Age=%{x}<br>Car Purchase Amount=%{y}<extra></extra>",
         "legendgroup": "Devin Humphrey",
         "marker": {
          "color": "#FF97FF",
          "symbol": "circle"
         },
         "mode": "markers",
         "name": "Devin Humphrey",
         "orientation": "v",
         "showlegend": true,
         "type": "scatter",
         "x": [
          47
         ],
         "xaxis": "x",
         "y": [
          36112.79346
         ],
         "yaxis": "y"
        },
        {
         "hovertemplate": "Customer Name=Isaiah Harding<br>Age=%{x}<br>Car Purchase Amount=%{y}<extra></extra>",
         "legendgroup": "Isaiah Harding",
         "marker": {
          "color": "#FECB52",
          "symbol": "circle"
         },
         "mode": "markers",
         "name": "Isaiah Harding",
         "orientation": "v",
         "showlegend": true,
         "type": "scatter",
         "x": [
          33
         ],
         "xaxis": "x",
         "y": [
          38182.30465
         ],
         "yaxis": "y"
        },
        {
         "hovertemplate": "Customer Name=Graiden Powell<br>Age=%{x}<br>Car Purchase Amount=%{y}<extra></extra>",
         "legendgroup": "Graiden Powell",
         "marker": {
          "color": "#636efa",
          "symbol": "circle"
         },
         "mode": "markers",
         "name": "Graiden Powell",
         "orientation": "v",
         "showlegend": true,
         "type": "scatter",
         "x": [
          42
         ],
         "xaxis": "x",
         "y": [
          41026.02421
         ],
         "yaxis": "y"
        },
        {
         "hovertemplate": "Customer Name=Chancellor Padilla<br>Age=%{x}<br>Car Purchase Amount=%{y}<extra></extra>",
         "legendgroup": "Chancellor Padilla",
         "marker": {
          "color": "#EF553B",
          "symbol": "circle"
         },
         "mode": "markers",
         "name": "Chancellor Padilla",
         "orientation": "v",
         "showlegend": true,
         "type": "scatter",
         "x": [
          47
         ],
         "xaxis": "x",
         "y": [
          27889.95197
         ],
         "yaxis": "y"
        },
        {
         "hovertemplate": "Customer Name=Philip Barnes<br>Age=%{x}<br>Car Purchase Amount=%{y}<extra></extra>",
         "legendgroup": "Philip Barnes",
         "marker": {
          "color": "#00cc96",
          "symbol": "circle"
         },
         "mode": "markers",
         "name": "Philip Barnes",
         "orientation": "v",
         "showlegend": true,
         "type": "scatter",
         "x": [
          40
         ],
         "xaxis": "x",
         "y": [
          43724.4896
         ],
         "yaxis": "y"
        },
        {
         "hovertemplate": "Customer Name=Cameron Cash<br>Age=%{x}<br>Car Purchase Amount=%{y}<extra></extra>",
         "legendgroup": "Cameron Cash",
         "marker": {
          "color": "#ab63fa",
          "symbol": "circle"
         },
         "mode": "markers",
         "name": "Cameron Cash",
         "orientation": "v",
         "showlegend": true,
         "type": "scatter",
         "x": [
          54
         ],
         "xaxis": "x",
         "y": [
          57430.76903
         ],
         "yaxis": "y"
        },
        {
         "hovertemplate": "Customer Name=Eric Green<br>Age=%{x}<br>Car Purchase Amount=%{y}<extra></extra>",
         "legendgroup": "Eric Green",
         "marker": {
          "color": "#FFA15A",
          "symbol": "circle"
         },
         "mode": "markers",
         "name": "Eric Green",
         "orientation": "v",
         "showlegend": true,
         "type": "scatter",
         "x": [
          38
         ],
         "xaxis": "x",
         "y": [
          41104.07108
         ],
         "yaxis": "y"
        },
        {
         "hovertemplate": "Customer Name=Tanek Koch<br>Age=%{x}<br>Car Purchase Amount=%{y}<extra></extra>",
         "legendgroup": "Tanek Koch",
         "marker": {
          "color": "#19d3f3",
          "symbol": "circle"
         },
         "mode": "markers",
         "name": "Tanek Koch",
         "orientation": "v",
         "showlegend": true,
         "type": "scatter",
         "x": [
          40
         ],
         "xaxis": "x",
         "y": [
          49050.85378
         ],
         "yaxis": "y"
        },
        {
         "hovertemplate": "Customer Name=Alan Browning<br>Age=%{x}<br>Car Purchase Amount=%{y}<extra></extra>",
         "legendgroup": "Alan Browning",
         "marker": {
          "color": "#FF6692",
          "symbol": "circle"
         },
         "mode": "markers",
         "name": "Alan Browning",
         "orientation": "v",
         "showlegend": true,
         "type": "scatter",
         "x": [
          45
         ],
         "xaxis": "x",
         "y": [
          41265.52929
         ],
         "yaxis": "y"
        },
        {
         "hovertemplate": "Customer Name=Phelan Montoya<br>Age=%{x}<br>Car Purchase Amount=%{y}<extra></extra>",
         "legendgroup": "Phelan Montoya",
         "marker": {
          "color": "#B6E880",
          "symbol": "circle"
         },
         "mode": "markers",
         "name": "Phelan Montoya",
         "orientation": "v",
         "showlegend": true,
         "type": "scatter",
         "x": [
          51
         ],
         "xaxis": "x",
         "y": [
          64545.16339
         ],
         "yaxis": "y"
        },
        {
         "hovertemplate": "Customer Name=Chancellor Patel<br>Age=%{x}<br>Car Purchase Amount=%{y}<extra></extra>",
         "legendgroup": "Chancellor Patel",
         "marker": {
          "color": "#FF97FF",
          "symbol": "circle"
         },
         "mode": "markers",
         "name": "Chancellor Patel",
         "orientation": "v",
         "showlegend": true,
         "type": "scatter",
         "x": [
          38
         ],
         "xaxis": "x",
         "y": [
          29052.09521
         ],
         "yaxis": "y"
        },
        {
         "hovertemplate": "Customer Name=Palmer Cohen<br>Age=%{x}<br>Car Purchase Amount=%{y}<extra></extra>",
         "legendgroup": "Palmer Cohen",
         "marker": {
          "color": "#FECB52",
          "symbol": "circle"
         },
         "mode": "markers",
         "name": "Palmer Cohen",
         "orientation": "v",
         "showlegend": true,
         "type": "scatter",
         "x": [
          34
         ],
         "xaxis": "x",
         "y": [
          30719.8156
         ],
         "yaxis": "y"
        },
        {
         "hovertemplate": "Customer Name=Ahmed Wright<br>Age=%{x}<br>Car Purchase Amount=%{y}<extra></extra>",
         "legendgroup": "Ahmed Wright",
         "marker": {
          "color": "#636efa",
          "symbol": "circle"
         },
         "mode": "markers",
         "name": "Ahmed Wright",
         "orientation": "v",
         "showlegend": true,
         "type": "scatter",
         "x": [
          50
         ],
         "xaxis": "x",
         "y": [
          38763.11306
         ],
         "yaxis": "y"
        },
        {
         "hovertemplate": "Customer Name=Burton Carroll<br>Age=%{x}<br>Car Purchase Amount=%{y}<extra></extra>",
         "legendgroup": "Burton Carroll",
         "marker": {
          "color": "#EF553B",
          "symbol": "circle"
         },
         "mode": "markers",
         "name": "Burton Carroll",
         "orientation": "v",
         "showlegend": true,
         "type": "scatter",
         "x": [
          42
         ],
         "xaxis": "x",
         "y": [
          39331.20127
         ],
         "yaxis": "y"
        },
        {
         "hovertemplate": "Customer Name=Nero Miranda<br>Age=%{x}<br>Car Purchase Amount=%{y}<extra></extra>",
         "legendgroup": "Nero Miranda",
         "marker": {
          "color": "#00cc96",
          "symbol": "circle"
         },
         "mode": "markers",
         "name": "Nero Miranda",
         "orientation": "v",
         "showlegend": true,
         "type": "scatter",
         "x": [
          33
         ],
         "xaxis": "x",
         "y": [
          32608.45468
         ],
         "yaxis": "y"
        },
        {
         "hovertemplate": "Customer Name=Ali Strong<br>Age=%{x}<br>Car Purchase Amount=%{y}<extra></extra>",
         "legendgroup": "Ali Strong",
         "marker": {
          "color": "#ab63fa",
          "symbol": "circle"
         },
         "mode": "markers",
         "name": "Ali Strong",
         "orientation": "v",
         "showlegend": true,
         "type": "scatter",
         "x": [
          56
         ],
         "xaxis": "x",
         "y": [
          58045.56257
         ],
         "yaxis": "y"
        },
        {
         "hovertemplate": "Customer Name=Nasim Ryan<br>Age=%{x}<br>Car Purchase Amount=%{y}<extra></extra>",
         "legendgroup": "Nasim Ryan",
         "marker": {
          "color": "#FFA15A",
          "symbol": "circle"
         },
         "mode": "markers",
         "name": "Nasim Ryan",
         "orientation": "v",
         "showlegend": true,
         "type": "scatter",
         "x": [
          57
         ],
         "xaxis": "x",
         "y": [
          54387.27727
         ],
         "yaxis": "y"
        },
        {
         "hovertemplate": "Customer Name=August Duncan<br>Age=%{x}<br>Car Purchase Amount=%{y}<extra></extra>",
         "legendgroup": "August Duncan",
         "marker": {
          "color": "#19d3f3",
          "symbol": "circle"
         },
         "mode": "markers",
         "name": "August Duncan",
         "orientation": "v",
         "showlegend": true,
         "type": "scatter",
         "x": [
          37
         ],
         "xaxis": "x",
         "y": [
          36638.20688
         ],
         "yaxis": "y"
        },
        {
         "hovertemplate": "Customer Name=Kieran Gilliam<br>Age=%{x}<br>Car Purchase Amount=%{y}<extra></extra>",
         "legendgroup": "Kieran Gilliam",
         "marker": {
          "color": "#FF6692",
          "symbol": "circle"
         },
         "mode": "markers",
         "name": "Kieran Gilliam",
         "orientation": "v",
         "showlegend": true,
         "type": "scatter",
         "x": [
          51
         ],
         "xaxis": "x",
         "y": [
          39522.13129
         ],
         "yaxis": "y"
        },
        {
         "hovertemplate": "Customer Name=Stone Hunt<br>Age=%{x}<br>Car Purchase Amount=%{y}<extra></extra>",
         "legendgroup": "Stone Hunt",
         "marker": {
          "color": "#B6E880",
          "symbol": "circle"
         },
         "mode": "markers",
         "name": "Stone Hunt",
         "orientation": "v",
         "showlegend": true,
         "type": "scatter",
         "x": [
          63
         ],
         "xaxis": "x",
         "y": [
          42978.34626
         ],
         "yaxis": "y"
        },
        {
         "hovertemplate": "Customer Name=Malachi Henson<br>Age=%{x}<br>Car Purchase Amount=%{y}<extra></extra>",
         "legendgroup": "Malachi Henson",
         "marker": {
          "color": "#FF97FF",
          "symbol": "circle"
         },
         "mode": "markers",
         "name": "Malachi Henson",
         "orientation": "v",
         "showlegend": true,
         "type": "scatter",
         "x": [
          53
         ],
         "xaxis": "x",
         "y": [
          60865.76396
         ],
         "yaxis": "y"
        },
        {
         "hovertemplate": "Customer Name=Seth Massey<br>Age=%{x}<br>Car Purchase Amount=%{y}<extra></extra>",
         "legendgroup": "Seth Massey",
         "marker": {
          "color": "#FECB52",
          "symbol": "circle"
         },
         "mode": "markers",
         "name": "Seth Massey",
         "orientation": "v",
         "showlegend": true,
         "type": "scatter",
         "x": [
          51
         ],
         "xaxis": "x",
         "y": [
          46380.44732
         ],
         "yaxis": "y"
        },
        {
         "hovertemplate": "Customer Name=Ulric Robles<br>Age=%{x}<br>Car Purchase Amount=%{y}<extra></extra>",
         "legendgroup": "Ulric Robles",
         "marker": {
          "color": "#636efa",
          "symbol": "circle"
         },
         "mode": "markers",
         "name": "Ulric Robles",
         "orientation": "v",
         "showlegend": true,
         "type": "scatter",
         "x": [
          48
         ],
         "xaxis": "x",
         "y": [
          56579.90338
         ],
         "yaxis": "y"
        },
        {
         "hovertemplate": "Customer Name=Gannon Marquez<br>Age=%{x}<br>Car Purchase Amount=%{y}<extra></extra>",
         "legendgroup": "Gannon Marquez",
         "marker": {
          "color": "#EF553B",
          "symbol": "circle"
         },
         "mode": "markers",
         "name": "Gannon Marquez",
         "orientation": "v",
         "showlegend": true,
         "type": "scatter",
         "x": [
          41
         ],
         "xaxis": "x",
         "y": [
          42774.35579
         ],
         "yaxis": "y"
        },
        {
         "hovertemplate": "Customer Name=Marshall Armstrong<br>Age=%{x}<br>Car Purchase Amount=%{y}<extra></extra>",
         "legendgroup": "Marshall Armstrong",
         "marker": {
          "color": "#00cc96",
          "symbol": "circle"
         },
         "mode": "markers",
         "name": "Marshall Armstrong",
         "orientation": "v",
         "showlegend": true,
         "type": "scatter",
         "x": [
          39
         ],
         "xaxis": "x",
         "y": [
          37879.65385
         ],
         "yaxis": "y"
        },
        {
         "hovertemplate": "Customer Name=Christian Huffman<br>Age=%{x}<br>Car Purchase Amount=%{y}<extra></extra>",
         "legendgroup": "Christian Huffman",
         "marker": {
          "color": "#ab63fa",
          "symbol": "circle"
         },
         "mode": "markers",
         "name": "Christian Huffman",
         "orientation": "v",
         "showlegend": true,
         "type": "scatter",
         "x": [
          45
         ],
         "xaxis": "x",
         "y": [
          45208.42539
         ],
         "yaxis": "y"
        },
        {
         "hovertemplate": "Customer Name=Gil Sanders<br>Age=%{x}<br>Car Purchase Amount=%{y}<extra></extra>",
         "legendgroup": "Gil Sanders",
         "marker": {
          "color": "#FFA15A",
          "symbol": "circle"
         },
         "mode": "markers",
         "name": "Gil Sanders",
         "orientation": "v",
         "showlegend": true,
         "type": "scatter",
         "x": [
          70
         ],
         "xaxis": "x",
         "y": [
          56229.4127
         ],
         "yaxis": "y"
        },
        {
         "hovertemplate": "Customer Name=Otto Thomas<br>Age=%{x}<br>Car Purchase Amount=%{y}<extra></extra>",
         "legendgroup": "Otto Thomas",
         "marker": {
          "color": "#19d3f3",
          "symbol": "circle"
         },
         "mode": "markers",
         "name": "Otto Thomas",
         "orientation": "v",
         "showlegend": true,
         "type": "scatter",
         "x": [
          51
         ],
         "xaxis": "x",
         "y": [
          50455.11935
         ],
         "yaxis": "y"
        },
        {
         "hovertemplate": "Customer Name=Moses Blackburn<br>Age=%{x}<br>Car Purchase Amount=%{y}<extra></extra>",
         "legendgroup": "Moses Blackburn",
         "marker": {
          "color": "#FF6692",
          "symbol": "circle"
         },
         "mode": "markers",
         "name": "Moses Blackburn",
         "orientation": "v",
         "showlegend": true,
         "type": "scatter",
         "x": [
          51
         ],
         "xaxis": "x",
         "y": [
          49721.31082
         ],
         "yaxis": "y"
        },
        {
         "hovertemplate": "Customer Name=Drake Chen<br>Age=%{x}<br>Car Purchase Amount=%{y}<extra></extra>",
         "legendgroup": "Drake Chen",
         "marker": {
          "color": "#B6E880",
          "symbol": "circle"
         },
         "mode": "markers",
         "name": "Drake Chen",
         "orientation": "v",
         "showlegend": true,
         "type": "scatter",
         "x": [
          42
         ],
         "xaxis": "x",
         "y": [
          31696.99679
         ],
         "yaxis": "y"
        },
        {
         "hovertemplate": "Customer Name=Christian Hernandez<br>Age=%{x}<br>Car Purchase Amount=%{y}<extra></extra>",
         "legendgroup": "Christian Hernandez",
         "marker": {
          "color": "#FF97FF",
          "symbol": "circle"
         },
         "mode": "markers",
         "name": "Christian Hernandez",
         "orientation": "v",
         "showlegend": true,
         "type": "scatter",
         "x": [
          50
         ],
         "xaxis": "x",
         "y": [
          49220.0218
         ],
         "yaxis": "y"
        },
        {
         "hovertemplate": "Customer Name=Jelani F. Pace<br>Age=%{x}<br>Car Purchase Amount=%{y}<extra></extra>",
         "legendgroup": "Jelani F. Pace",
         "marker": {
          "color": "#FECB52",
          "symbol": "circle"
         },
         "mode": "markers",
         "name": "Jelani F. Pace",
         "orientation": "v",
         "showlegend": true,
         "type": "scatter",
         "x": [
          40
         ],
         "xaxis": "x",
         "y": [
          46188.83514
         ],
         "yaxis": "y"
        },
        {
         "hovertemplate": "Customer Name=Tiger I. Melton<br>Age=%{x}<br>Car Purchase Amount=%{y}<extra></extra>",
         "legendgroup": "Tiger I. Melton",
         "marker": {
          "color": "#636efa",
          "symbol": "circle"
         },
         "mode": "markers",
         "name": "Tiger I. Melton",
         "orientation": "v",
         "showlegend": true,
         "type": "scatter",
         "x": [
          44
         ],
         "xaxis": "x",
         "y": [
          36086.93161
         ],
         "yaxis": "y"
        },
        {
         "hovertemplate": "Customer Name=Quail D. Horne<br>Age=%{x}<br>Car Purchase Amount=%{y}<extra></extra>",
         "legendgroup": "Quail D. Horne",
         "marker": {
          "color": "#EF553B",
          "symbol": "circle"
         },
         "mode": "markers",
         "name": "Quail D. Horne",
         "orientation": "v",
         "showlegend": true,
         "type": "scatter",
         "x": [
          52
         ],
         "xaxis": "x",
         "y": [
          43264.04965
         ],
         "yaxis": "y"
        },
        {
         "hovertemplate": "Customer Name=Hammett A. Manning<br>Age=%{x}<br>Car Purchase Amount=%{y}<extra></extra>",
         "legendgroup": "Hammett A. Manning",
         "marker": {
          "color": "#00cc96",
          "symbol": "circle"
         },
         "mode": "markers",
         "name": "Hammett A. Manning",
         "orientation": "v",
         "showlegend": true,
         "type": "scatter",
         "x": [
          41
         ],
         "xaxis": "x",
         "y": [
          40660.38317
         ],
         "yaxis": "y"
        },
        {
         "hovertemplate": "Customer Name=Lamar V. Guthrie<br>Age=%{x}<br>Car Purchase Amount=%{y}<extra></extra>",
         "legendgroup": "Lamar V. Guthrie",
         "marker": {
          "color": "#ab63fa",
          "symbol": "circle"
         },
         "mode": "markers",
         "name": "Lamar V. Guthrie",
         "orientation": "v",
         "showlegend": true,
         "type": "scatter",
         "x": [
          57
         ],
         "xaxis": "x",
         "y": [
          51683.60859
         ],
         "yaxis": "y"
        },
        {
         "hovertemplate": "Customer Name=Abra D. Golden<br>Age=%{x}<br>Car Purchase Amount=%{y}<extra></extra>",
         "legendgroup": "Abra D. Golden",
         "marker": {
          "color": "#FFA15A",
          "symbol": "circle"
         },
         "mode": "markers",
         "name": "Abra D. Golden",
         "orientation": "v",
         "showlegend": true,
         "type": "scatter",
         "x": [
          54
         ],
         "xaxis": "x",
         "y": [
          44525.02085
         ],
         "yaxis": "y"
        },
        {
         "hovertemplate": "Customer Name=Vaughan L. Mathis<br>Age=%{x}<br>Car Purchase Amount=%{y}<extra></extra>",
         "legendgroup": "Vaughan L. Mathis",
         "marker": {
          "color": "#19d3f3",
          "symbol": "circle"
         },
         "mode": "markers",
         "name": "Vaughan L. Mathis",
         "orientation": "v",
         "showlegend": true,
         "type": "scatter",
         "x": [
          50
         ],
         "xaxis": "x",
         "y": [
          48518.90163
         ],
         "yaxis": "y"
        },
        {
         "hovertemplate": "Customer Name=Alfreda V. Harrell<br>Age=%{x}<br>Car Purchase Amount=%{y}<extra></extra>",
         "legendgroup": "Alfreda V. Harrell",
         "marker": {
          "color": "#FF6692",
          "symbol": "circle"
         },
         "mode": "markers",
         "name": "Alfreda V. Harrell",
         "orientation": "v",
         "showlegend": true,
         "type": "scatter",
         "x": [
          37
         ],
         "xaxis": "x",
         "y": [
          45805.30588
         ],
         "yaxis": "y"
        },
        {
         "hovertemplate": "Customer Name=Nora X. Decker<br>Age=%{x}<br>Car Purchase Amount=%{y}<extra></extra>",
         "legendgroup": "Nora X. Decker",
         "marker": {
          "color": "#B6E880",
          "symbol": "circle"
         },
         "mode": "markers",
         "name": "Nora X. Decker",
         "orientation": "v",
         "showlegend": true,
         "type": "scatter",
         "x": [
          52
         ],
         "xaxis": "x",
         "y": [
          54850.38742
         ],
         "yaxis": "y"
        },
        {
         "hovertemplate": "Customer Name=Jeanette Q. Leach<br>Age=%{x}<br>Car Purchase Amount=%{y}<extra></extra>",
         "legendgroup": "Jeanette Q. Leach",
         "marker": {
          "color": "#FF97FF",
          "symbol": "circle"
         },
         "mode": "markers",
         "name": "Jeanette Q. Leach",
         "orientation": "v",
         "showlegend": true,
         "type": "scatter",
         "x": [
          43
         ],
         "xaxis": "x",
         "y": [
          32478.44758
         ],
         "yaxis": "y"
        },
        {
         "hovertemplate": "Customer Name=Keiko O. Whitaker<br>Age=%{x}<br>Car Purchase Amount=%{y}<extra></extra>",
         "legendgroup": "Keiko O. Whitaker",
         "marker": {
          "color": "#FECB52",
          "symbol": "circle"
         },
         "mode": "markers",
         "name": "Keiko O. Whitaker",
         "orientation": "v",
         "showlegend": true,
         "type": "scatter",
         "x": [
          52
         ],
         "xaxis": "x",
         "y": [
          42209.28948
         ],
         "yaxis": "y"
        },
        {
         "hovertemplate": "Customer Name=Hector F. Leblanc<br>Age=%{x}<br>Car Purchase Amount=%{y}<extra></extra>",
         "legendgroup": "Hector F. Leblanc",
         "marker": {
          "color": "#636efa",
          "symbol": "circle"
         },
         "mode": "markers",
         "name": "Hector F. Leblanc",
         "orientation": "v",
         "showlegend": true,
         "type": "scatter",
         "x": [
          64
         ],
         "xaxis": "x",
         "y": [
          55125.93237
         ],
         "yaxis": "y"
        },
        {
         "hovertemplate": "Customer Name=Emerald R. Cohen<br>Age=%{x}<br>Car Purchase Amount=%{y}<extra></extra>",
         "legendgroup": "Emerald R. Cohen",
         "marker": {
          "color": "#EF553B",
          "symbol": "circle"
         },
         "mode": "markers",
         "name": "Emerald R. Cohen",
         "orientation": "v",
         "showlegend": true,
         "type": "scatter",
         "x": [
          51
         ],
         "xaxis": "x",
         "y": [
          47984.42062
         ],
         "yaxis": "y"
        },
        {
         "hovertemplate": "Customer Name=Cathleen E. Ortega<br>Age=%{x}<br>Car Purchase Amount=%{y}<extra></extra>",
         "legendgroup": "Cathleen E. Ortega",
         "marker": {
          "color": "#00cc96",
          "symbol": "circle"
         },
         "mode": "markers",
         "name": "Cathleen E. Ortega",
         "orientation": "v",
         "showlegend": true,
         "type": "scatter",
         "x": [
          55
         ],
         "xaxis": "x",
         "y": [
          43405.89086
         ],
         "yaxis": "y"
        },
        {
         "hovertemplate": "Customer Name=Velma K. Moses<br>Age=%{x}<br>Car Purchase Amount=%{y}<extra></extra>",
         "legendgroup": "Velma K. Moses",
         "marker": {
          "color": "#ab63fa",
          "symbol": "circle"
         },
         "mode": "markers",
         "name": "Velma K. Moses",
         "orientation": "v",
         "showlegend": true,
         "type": "scatter",
         "x": [
          47
         ],
         "xaxis": "x",
         "y": [
          44577.44829
         ],
         "yaxis": "y"
        },
        {
         "hovertemplate": "Customer Name=Lael W. Sheppard<br>Age=%{x}<br>Car Purchase Amount=%{y}<extra></extra>",
         "legendgroup": "Lael W. Sheppard",
         "marker": {
          "color": "#FFA15A",
          "symbol": "circle"
         },
         "mode": "markers",
         "name": "Lael W. Sheppard",
         "orientation": "v",
         "showlegend": true,
         "type": "scatter",
         "x": [
          36
         ],
         "xaxis": "x",
         "y": [
          37744.54285
         ],
         "yaxis": "y"
        },
        {
         "hovertemplate": "Customer Name=Indigo P. Dejesus<br>Age=%{x}<br>Car Purchase Amount=%{y}<extra></extra>",
         "legendgroup": "Indigo P. Dejesus",
         "marker": {
          "color": "#19d3f3",
          "symbol": "circle"
         },
         "mode": "markers",
         "name": "Indigo P. Dejesus",
         "orientation": "v",
         "showlegend": true,
         "type": "scatter",
         "x": [
          39
         ],
         "xaxis": "x",
         "y": [
          47805.25605
         ],
         "yaxis": "y"
        },
        {
         "hovertemplate": "Customer Name=Quinlan S. Cantu<br>Age=%{x}<br>Car Purchase Amount=%{y}<extra></extra>",
         "legendgroup": "Quinlan S. Cantu",
         "marker": {
          "color": "#FF6692",
          "symbol": "circle"
         },
         "mode": "markers",
         "name": "Quinlan S. Cantu",
         "orientation": "v",
         "showlegend": true,
         "type": "scatter",
         "x": [
          45
         ],
         "xaxis": "x",
         "y": [
          44846.68557
         ],
         "yaxis": "y"
        },
        {
         "hovertemplate": "Customer Name=Mariam I. Montgomery<br>Age=%{x}<br>Car Purchase Amount=%{y}<extra></extra>",
         "legendgroup": "Mariam I. Montgomery",
         "marker": {
          "color": "#B6E880",
          "symbol": "circle"
         },
         "mode": "markers",
         "name": "Mariam I. Montgomery",
         "orientation": "v",
         "showlegend": true,
         "type": "scatter",
         "x": [
          47
         ],
         "xaxis": "x",
         "y": [
          46643.26581
         ],
         "yaxis": "y"
        },
        {
         "hovertemplate": "Customer Name=Pamela M. Cantu<br>Age=%{x}<br>Car Purchase Amount=%{y}<extra></extra>",
         "legendgroup": "Pamela M. Cantu",
         "marker": {
          "color": "#FF97FF",
          "symbol": "circle"
         },
         "mode": "markers",
         "name": "Pamela M. Cantu",
         "orientation": "v",
         "showlegend": true,
         "type": "scatter",
         "x": [
          47
         ],
         "xaxis": "x",
         "y": [
          56563.98675
         ],
         "yaxis": "y"
        },
        {
         "hovertemplate": "Customer Name=Hanna C. Martinez<br>Age=%{x}<br>Car Purchase Amount=%{y}<extra></extra>",
         "legendgroup": "Hanna C. Martinez",
         "marker": {
          "color": "#FECB52",
          "symbol": "circle"
         },
         "mode": "markers",
         "name": "Hanna C. Martinez",
         "orientation": "v",
         "showlegend": true,
         "type": "scatter",
         "x": [
          60
         ],
         "xaxis": "x",
         "y": [
          41673.44617
         ],
         "yaxis": "y"
        },
        {
         "hovertemplate": "Customer Name=Lynn S. Avery<br>Age=%{x}<br>Car Purchase Amount=%{y}<extra></extra>",
         "legendgroup": "Lynn S. Avery",
         "marker": {
          "color": "#636efa",
          "symbol": "circle"
         },
         "mode": "markers",
         "name": "Lynn S. Avery",
         "orientation": "v",
         "showlegend": true,
         "type": "scatter",
         "x": [
          59
         ],
         "xaxis": "x",
         "y": [
          61118.46947
         ],
         "yaxis": "y"
        },
        {
         "hovertemplate": "Customer Name=Laurel H. Snow<br>Age=%{x}<br>Car Purchase Amount=%{y}<extra></extra>",
         "legendgroup": "Laurel H. Snow",
         "marker": {
          "color": "#EF553B",
          "symbol": "circle"
         },
         "mode": "markers",
         "name": "Laurel H. Snow",
         "orientation": "v",
         "showlegend": true,
         "type": "scatter",
         "x": [
          36
         ],
         "xaxis": "x",
         "y": [
          37303.56701
         ],
         "yaxis": "y"
        },
        {
         "hovertemplate": "Customer Name=Keegan Q. Ramirez<br>Age=%{x}<br>Car Purchase Amount=%{y}<extra></extra>",
         "legendgroup": "Keegan Q. Ramirez",
         "marker": {
          "color": "#00cc96",
          "symbol": "circle"
         },
         "mode": "markers",
         "name": "Keegan Q. Ramirez",
         "orientation": "v",
         "showlegend": true,
         "type": "scatter",
         "x": [
          47
         ],
         "xaxis": "x",
         "y": [
          46892.26617
         ],
         "yaxis": "y"
        },
        {
         "hovertemplate": "Customer Name=Shad K. Hancock<br>Age=%{x}<br>Car Purchase Amount=%{y}<extra></extra>",
         "legendgroup": "Shad K. Hancock",
         "marker": {
          "color": "#ab63fa",
          "symbol": "circle"
         },
         "mode": "markers",
         "name": "Shad K. Hancock",
         "orientation": "v",
         "showlegend": true,
         "type": "scatter",
         "x": [
          38
         ],
         "xaxis": "x",
         "y": [
          56457.74038
         ],
         "yaxis": "y"
        },
        {
         "hovertemplate": "Customer Name=Harding E. York<br>Age=%{x}<br>Car Purchase Amount=%{y}<extra></extra>",
         "legendgroup": "Harding E. York",
         "marker": {
          "color": "#FFA15A",
          "symbol": "circle"
         },
         "mode": "markers",
         "name": "Harding E. York",
         "orientation": "v",
         "showlegend": true,
         "type": "scatter",
         "x": [
          42
         ],
         "xaxis": "x",
         "y": [
          45509.69732
         ],
         "yaxis": "y"
        },
        {
         "hovertemplate": "Customer Name=Indira A. Aguilar<br>Age=%{x}<br>Car Purchase Amount=%{y}<extra></extra>",
         "legendgroup": "Indira A. Aguilar",
         "marker": {
          "color": "#19d3f3",
          "symbol": "circle"
         },
         "mode": "markers",
         "name": "Indira A. Aguilar",
         "orientation": "v",
         "showlegend": true,
         "type": "scatter",
         "x": [
          33
         ],
         "xaxis": "x",
         "y": [
          27625.44144
         ],
         "yaxis": "y"
        },
        {
         "hovertemplate": "Customer Name=Bell K. Romero<br>Age=%{x}<br>Car Purchase Amount=%{y}<extra></extra>",
         "legendgroup": "Bell K. Romero",
         "marker": {
          "color": "#FF6692",
          "symbol": "circle"
         },
         "mode": "markers",
         "name": "Bell K. Romero",
         "orientation": "v",
         "showlegend": true,
         "type": "scatter",
         "x": [
          39
         ],
         "xaxis": "x",
         "y": [
          46389.50237
         ],
         "yaxis": "y"
        },
        {
         "hovertemplate": "Customer Name=Cassady L. Foreman<br>Age=%{x}<br>Car Purchase Amount=%{y}<extra></extra>",
         "legendgroup": "Cassady L. Foreman",
         "marker": {
          "color": "#B6E880",
          "symbol": "circle"
         },
         "mode": "markers",
         "name": "Cassady L. Foreman",
         "orientation": "v",
         "showlegend": true,
         "type": "scatter",
         "x": [
          39
         ],
         "xaxis": "x",
         "y": [
          29002.05665
         ],
         "yaxis": "y"
        },
        {
         "hovertemplate": "Customer Name=Samson N. Wagner<br>Age=%{x}<br>Car Purchase Amount=%{y}<extra></extra>",
         "legendgroup": "Samson N. Wagner",
         "marker": {
          "color": "#FF97FF",
          "symbol": "circle"
         },
         "mode": "markers",
         "name": "Samson N. Wagner",
         "orientation": "v",
         "showlegend": true,
         "type": "scatter",
         "x": [
          55
         ],
         "xaxis": "x",
         "y": [
          51355.7106
         ],
         "yaxis": "y"
        },
        {
         "hovertemplate": "Customer Name=Wade O. Diaz<br>Age=%{x}<br>Car Purchase Amount=%{y}<extra></extra>",
         "legendgroup": "Wade O. Diaz",
         "marker": {
          "color": "#FECB52",
          "symbol": "circle"
         },
         "mode": "markers",
         "name": "Wade O. Diaz",
         "orientation": "v",
         "showlegend": true,
         "type": "scatter",
         "x": [
          45
         ],
         "xaxis": "x",
         "y": [
          42011.19965
         ],
         "yaxis": "y"
        },
        {
         "hovertemplate": "Customer Name=Len B. Finley<br>Age=%{x}<br>Car Purchase Amount=%{y}<extra></extra>",
         "legendgroup": "Len B. Finley",
         "marker": {
          "color": "#636efa",
          "symbol": "circle"
         },
         "mode": "markers",
         "name": "Len B. Finley",
         "orientation": "v",
         "showlegend": true,
         "type": "scatter",
         "x": [
          51
         ],
         "xaxis": "x",
         "y": [
          52654.40455
         ],
         "yaxis": "y"
        },
        {
         "hovertemplate": "Customer Name=Emerald U. Hanson<br>Age=%{x}<br>Car Purchase Amount=%{y}<extra></extra>",
         "legendgroup": "Emerald U. Hanson",
         "marker": {
          "color": "#EF553B",
          "symbol": "circle"
         },
         "mode": "markers",
         "name": "Emerald U. Hanson",
         "orientation": "v",
         "showlegend": true,
         "type": "scatter",
         "x": [
          49
         ],
         "xaxis": "x",
         "y": [
          44432.71747
         ],
         "yaxis": "y"
        },
        {
         "hovertemplate": "Customer Name=Cody G. Gill<br>Age=%{x}<br>Car Purchase Amount=%{y}<extra></extra>",
         "legendgroup": "Cody G. Gill",
         "marker": {
          "color": "#00cc96",
          "symbol": "circle"
         },
         "mode": "markers",
         "name": "Cody G. Gill",
         "orientation": "v",
         "showlegend": true,
         "type": "scatter",
         "x": [
          46
         ],
         "xaxis": "x",
         "y": [
          46054.60253
         ],
         "yaxis": "y"
        },
        {
         "hovertemplate": "Customer Name=Kyle R. Kaufman<br>Age=%{x}<br>Car Purchase Amount=%{y}<extra></extra>",
         "legendgroup": "Kyle R. Kaufman",
         "marker": {
          "color": "#ab63fa",
          "symbol": "circle"
         },
         "mode": "markers",
         "name": "Kyle R. Kaufman",
         "orientation": "v",
         "showlegend": true,
         "type": "scatter",
         "x": [
          53
         ],
         "xaxis": "x",
         "y": [
          58235.41454
         ],
         "yaxis": "y"
        },
        {
         "hovertemplate": "Customer Name=Drake D. Gray<br>Age=%{x}<br>Car Purchase Amount=%{y}<extra></extra>",
         "legendgroup": "Drake D. Gray",
         "marker": {
          "color": "#FFA15A",
          "symbol": "circle"
         },
         "mode": "markers",
         "name": "Drake D. Gray",
         "orientation": "v",
         "showlegend": true,
         "type": "scatter",
         "x": [
          39
         ],
         "xaxis": "x",
         "y": [
          42990.29255
         ],
         "yaxis": "y"
        },
        {
         "hovertemplate": "Customer Name=Honorato M. Butler<br>Age=%{x}<br>Car Purchase Amount=%{y}<extra></extra>",
         "legendgroup": "Honorato M. Butler",
         "marker": {
          "color": "#19d3f3",
          "symbol": "circle"
         },
         "mode": "markers",
         "name": "Honorato M. Butler",
         "orientation": "v",
         "showlegend": true,
         "type": "scatter",
         "x": [
          43
         ],
         "xaxis": "x",
         "y": [
          50702.18103
         ],
         "yaxis": "y"
        },
        {
         "hovertemplate": "Customer Name=Tate C. Foster<br>Age=%{x}<br>Car Purchase Amount=%{y}<extra></extra>",
         "legendgroup": "Tate C. Foster",
         "marker": {
          "color": "#FF6692",
          "symbol": "circle"
         },
         "mode": "markers",
         "name": "Tate C. Foster",
         "orientation": "v",
         "showlegend": true,
         "type": "scatter",
         "x": [
          70
         ],
         "xaxis": "x",
         "y": [
          47009.57741
         ],
         "yaxis": "y"
        },
        {
         "hovertemplate": "Customer Name=Zelenia L. Lowe<br>Age=%{x}<br>Car Purchase Amount=%{y}<extra></extra>",
         "legendgroup": "Zelenia L. Lowe",
         "marker": {
          "color": "#B6E880",
          "symbol": "circle"
         },
         "mode": "markers",
         "name": "Zelenia L. Lowe",
         "orientation": "v",
         "showlegend": true,
         "type": "scatter",
         "x": [
          51
         ],
         "xaxis": "x",
         "y": [
          49399.97041
         ],
         "yaxis": "y"
        },
        {
         "hovertemplate": "Customer Name=Callum U. Sweet<br>Age=%{x}<br>Car Purchase Amount=%{y}<extra></extra>",
         "legendgroup": "Callum U. Sweet",
         "marker": {
          "color": "#FF97FF",
          "symbol": "circle"
         },
         "mode": "markers",
         "name": "Callum U. Sweet",
         "orientation": "v",
         "showlegend": true,
         "type": "scatter",
         "x": [
          52
         ],
         "xaxis": "x",
         "y": [
          42997.16761
         ],
         "yaxis": "y"
        },
        {
         "hovertemplate": "Customer Name=Zane I. Boone<br>Age=%{x}<br>Car Purchase Amount=%{y}<extra></extra>",
         "legendgroup": "Zane I. Boone",
         "marker": {
          "color": "#FECB52",
          "symbol": "circle"
         },
         "mode": "markers",
         "name": "Zane I. Boone",
         "orientation": "v",
         "showlegend": true,
         "type": "scatter",
         "x": [
          45
         ],
         "xaxis": "x",
         "y": [
          44434.98419
         ],
         "yaxis": "y"
        },
        {
         "hovertemplate": "Customer Name=Timothy J. Terrell<br>Age=%{x}<br>Car Purchase Amount=%{y}<extra></extra>",
         "legendgroup": "Timothy J. Terrell",
         "marker": {
          "color": "#636efa",
          "symbol": "circle"
         },
         "mode": "markers",
         "name": "Timothy J. Terrell",
         "orientation": "v",
         "showlegend": true,
         "type": "scatter",
         "x": [
          48
         ],
         "xaxis": "x",
         "y": [
          46325.50959
         ],
         "yaxis": "y"
        },
        {
         "hovertemplate": "Customer Name=Zahir A. Estes<br>Age=%{x}<br>Car Purchase Amount=%{y}<extra></extra>",
         "legendgroup": "Zahir A. Estes",
         "marker": {
          "color": "#EF553B",
          "symbol": "circle"
         },
         "mode": "markers",
         "name": "Zahir A. Estes",
         "orientation": "v",
         "showlegend": true,
         "type": "scatter",
         "x": [
          48
         ],
         "xaxis": "x",
         "y": [
          46846.7305
         ],
         "yaxis": "y"
        },
        {
         "hovertemplate": "Customer Name=Michelle W. Ryan<br>Age=%{x}<br>Car Purchase Amount=%{y}<extra></extra>",
         "legendgroup": "Michelle W. Ryan",
         "marker": {
          "color": "#00cc96",
          "symbol": "circle"
         },
         "mode": "markers",
         "name": "Michelle W. Ryan",
         "orientation": "v",
         "showlegend": true,
         "type": "scatter",
         "x": [
          48
         ],
         "xaxis": "x",
         "y": [
          56499.10202
         ],
         "yaxis": "y"
        },
        {
         "hovertemplate": "Customer Name=Serena B. Moody<br>Age=%{x}<br>Car Purchase Amount=%{y}<extra></extra>",
         "legendgroup": "Serena B. Moody",
         "marker": {
          "color": "#ab63fa",
          "symbol": "circle"
         },
         "mode": "markers",
         "name": "Serena B. Moody",
         "orientation": "v",
         "showlegend": true,
         "type": "scatter",
         "x": [
          57
         ],
         "xaxis": "x",
         "y": [
          42773.75905
         ],
         "yaxis": "y"
        },
        {
         "hovertemplate": "Customer Name=Mark V. Vaughn<br>Age=%{x}<br>Car Purchase Amount=%{y}<extra></extra>",
         "legendgroup": "Mark V. Vaughn",
         "marker": {
          "color": "#FFA15A",
          "symbol": "circle"
         },
         "mode": "markers",
         "name": "Mark V. Vaughn",
         "orientation": "v",
         "showlegend": true,
         "type": "scatter",
         "x": [
          46
         ],
         "xaxis": "x",
         "y": [
          52313.98392
         ],
         "yaxis": "y"
        },
        {
         "hovertemplate": "Customer Name=Anjolie A. Galloway<br>Age=%{x}<br>Car Purchase Amount=%{y}<extra></extra>",
         "legendgroup": "Anjolie A. Galloway",
         "marker": {
          "color": "#19d3f3",
          "symbol": "circle"
         },
         "mode": "markers",
         "name": "Anjolie A. Galloway",
         "orientation": "v",
         "showlegend": true,
         "type": "scatter",
         "x": [
          44
         ],
         "xaxis": "x",
         "y": [
          34139.6373
         ],
         "yaxis": "y"
        },
        {
         "hovertemplate": "Customer Name=Kylee O. Warner<br>Age=%{x}<br>Car Purchase Amount=%{y}<extra></extra>",
         "legendgroup": "Kylee O. Warner",
         "marker": {
          "color": "#FF6692",
          "symbol": "circle"
         },
         "mode": "markers",
         "name": "Kylee O. Warner",
         "orientation": "v",
         "showlegend": true,
         "type": "scatter",
         "x": [
          65
         ],
         "xaxis": "x",
         "y": [
          60763.24731
         ],
         "yaxis": "y"
        },
        {
         "hovertemplate": "Customer Name=MacKenzie O. Fowler<br>Age=%{x}<br>Car Purchase Amount=%{y}<extra></extra>",
         "legendgroup": "MacKenzie O. Fowler",
         "marker": {
          "color": "#B6E880",
          "symbol": "circle"
         },
         "mode": "markers",
         "name": "MacKenzie O. Fowler",
         "orientation": "v",
         "showlegend": true,
         "type": "scatter",
         "x": [
          57
         ],
         "xaxis": "x",
         "y": [
          66158.69494
         ],
         "yaxis": "y"
        },
        {
         "hovertemplate": "Customer Name=Lana S. Pace<br>Age=%{x}<br>Car Purchase Amount=%{y}<extra></extra>",
         "legendgroup": "Lana S. Pace",
         "marker": {
          "color": "#FF97FF",
          "symbol": "circle"
         },
         "mode": "markers",
         "name": "Lana S. Pace",
         "orientation": "v",
         "showlegend": true,
         "type": "scatter",
         "x": [
          47
         ],
         "xaxis": "x",
         "y": [
          31215.6421
         ],
         "yaxis": "y"
        },
        {
         "hovertemplate": "Customer Name=Wilma L. Stevenson<br>Age=%{x}<br>Car Purchase Amount=%{y}<extra></extra>",
         "legendgroup": "Wilma L. Stevenson",
         "marker": {
          "color": "#FECB52",
          "symbol": "circle"
         },
         "mode": "markers",
         "name": "Wilma L. Stevenson",
         "orientation": "v",
         "showlegend": true,
         "type": "scatter",
         "x": [
          36
         ],
         "xaxis": "x",
         "y": [
          46135.27233
         ],
         "yaxis": "y"
        },
        {
         "hovertemplate": "Customer Name=Sandra J. Huber<br>Age=%{x}<br>Car Purchase Amount=%{y}<extra></extra>",
         "legendgroup": "Sandra J. Huber",
         "marker": {
          "color": "#636efa",
          "symbol": "circle"
         },
         "mode": "markers",
         "name": "Sandra J. Huber",
         "orientation": "v",
         "showlegend": true,
         "type": "scatter",
         "x": [
          57
         ],
         "xaxis": "x",
         "y": [
          56973.18105
         ],
         "yaxis": "y"
        },
        {
         "hovertemplate": "Customer Name=Octavius C. Spencer<br>Age=%{x}<br>Car Purchase Amount=%{y}<extra></extra>",
         "legendgroup": "Octavius C. Spencer",
         "marker": {
          "color": "#EF553B",
          "symbol": "circle"
         },
         "mode": "markers",
         "name": "Octavius C. Spencer",
         "orientation": "v",
         "showlegend": true,
         "type": "scatter",
         "x": [
          33
         ],
         "xaxis": "x",
         "y": [
          24184.07443
         ],
         "yaxis": "y"
        },
        {
         "hovertemplate": "Customer Name=Brendan G. Kelley<br>Age=%{x}<br>Car Purchase Amount=%{y}<extra></extra>",
         "legendgroup": "Brendan G. Kelley",
         "marker": {
          "color": "#00cc96",
          "symbol": "circle"
         },
         "mode": "markers",
         "name": "Brendan G. Kelley",
         "orientation": "v",
         "showlegend": true,
         "type": "scatter",
         "x": [
          43
         ],
         "xaxis": "x",
         "y": [
          49079.61942
         ],
         "yaxis": "y"
        },
        {
         "hovertemplate": "Customer Name=Shaeleigh M. Mckenzie<br>Age=%{x}<br>Car Purchase Amount=%{y}<extra></extra>",
         "legendgroup": "Shaeleigh M. Mckenzie",
         "marker": {
          "color": "#ab63fa",
          "symbol": "circle"
         },
         "mode": "markers",
         "name": "Shaeleigh M. Mckenzie",
         "orientation": "v",
         "showlegend": true,
         "type": "scatter",
         "x": [
          46
         ],
         "xaxis": "x",
         "y": [
          37093.92033
         ],
         "yaxis": "y"
        },
        {
         "hovertemplate": "Customer Name=Rooney R. Padilla<br>Age=%{x}<br>Car Purchase Amount=%{y}<extra></extra>",
         "legendgroup": "Rooney R. Padilla",
         "marker": {
          "color": "#FFA15A",
          "symbol": "circle"
         },
         "mode": "markers",
         "name": "Rooney R. Padilla",
         "orientation": "v",
         "showlegend": true,
         "type": "scatter",
         "x": [
          45
         ],
         "xaxis": "x",
         "y": [
          43401.56612
         ],
         "yaxis": "y"
        },
        {
         "hovertemplate": "Customer Name=Damon K. Boone<br>Age=%{x}<br>Car Purchase Amount=%{y}<extra></extra>",
         "legendgroup": "Damon K. Boone",
         "marker": {
          "color": "#19d3f3",
          "symbol": "circle"
         },
         "mode": "markers",
         "name": "Damon K. Boone",
         "orientation": "v",
         "showlegend": true,
         "type": "scatter",
         "x": [
          43
         ],
         "xaxis": "x",
         "y": [
          29092.1311
         ],
         "yaxis": "y"
        },
        {
         "hovertemplate": "Customer Name=Taylor A. Patel<br>Age=%{x}<br>Car Purchase Amount=%{y}<extra></extra>",
         "legendgroup": "Taylor A. Patel",
         "marker": {
          "color": "#FF6692",
          "symbol": "circle"
         },
         "mode": "markers",
         "name": "Taylor A. Patel",
         "orientation": "v",
         "showlegend": true,
         "type": "scatter",
         "x": [
          38
         ],
         "xaxis": "x",
         "y": [
          48349.16457
         ],
         "yaxis": "y"
        },
        {
         "hovertemplate": "Customer Name=Lillith H. Larsen<br>Age=%{x}<br>Car Purchase Amount=%{y}<extra></extra>",
         "legendgroup": "Lillith H. Larsen",
         "marker": {
          "color": "#B6E880",
          "symbol": "circle"
         },
         "mode": "markers",
         "name": "Lillith H. Larsen",
         "orientation": "v",
         "showlegend": true,
         "type": "scatter",
         "x": [
          40
         ],
         "xaxis": "x",
         "y": [
          33261.00057
         ],
         "yaxis": "y"
        },
        {
         "hovertemplate": "Customer Name=Tobias L. Sullivan<br>Age=%{x}<br>Car Purchase Amount=%{y}<extra></extra>",
         "legendgroup": "Tobias L. Sullivan",
         "marker": {
          "color": "#FF97FF",
          "symbol": "circle"
         },
         "mode": "markers",
         "name": "Tobias L. Sullivan",
         "orientation": "v",
         "showlegend": true,
         "type": "scatter",
         "x": [
          43
         ],
         "xaxis": "x",
         "y": [
          41327.16554
         ],
         "yaxis": "y"
        },
        {
         "hovertemplate": "Customer Name=Quincy Q. Ayers<br>Age=%{x}<br>Car Purchase Amount=%{y}<extra></extra>",
         "legendgroup": "Quincy Q. Ayers",
         "marker": {
          "color": "#FECB52",
          "symbol": "circle"
         },
         "mode": "markers",
         "name": "Quincy Q. Ayers",
         "orientation": "v",
         "showlegend": true,
         "type": "scatter",
         "x": [
          42
         ],
         "xaxis": "x",
         "y": [
          49336.11628
         ],
         "yaxis": "y"
        },
        {
         "hovertemplate": "Customer Name=Ulysses X. Burch<br>Age=%{x}<br>Car Purchase Amount=%{y}<extra></extra>",
         "legendgroup": "Ulysses X. Burch",
         "marker": {
          "color": "#636efa",
          "symbol": "circle"
         },
         "mode": "markers",
         "name": "Ulysses X. Burch",
         "orientation": "v",
         "showlegend": true,
         "type": "scatter",
         "x": [
          51
         ],
         "xaxis": "x",
         "y": [
          51405.55229
         ],
         "yaxis": "y"
        },
        {
         "hovertemplate": "Customer Name=Jorden I. Whitley<br>Age=%{x}<br>Car Purchase Amount=%{y}<extra></extra>",
         "legendgroup": "Jorden I. Whitley",
         "marker": {
          "color": "#EF553B",
          "symbol": "circle"
         },
         "mode": "markers",
         "name": "Jorden I. Whitley",
         "orientation": "v",
         "showlegend": true,
         "type": "scatter",
         "x": [
          38
         ],
         "xaxis": "x",
         "y": [
          31249.98803
         ],
         "yaxis": "y"
        },
        {
         "hovertemplate": "Customer Name=Heather G. Goodwin<br>Age=%{x}<br>Car Purchase Amount=%{y}<extra></extra>",
         "legendgroup": "Heather G. Goodwin",
         "marker": {
          "color": "#00cc96",
          "symbol": "circle"
         },
         "mode": "markers",
         "name": "Heather G. Goodwin",
         "orientation": "v",
         "showlegend": true,
         "type": "scatter",
         "x": [
          41
         ],
         "xaxis": "x",
         "y": [
          43598.96993
         ],
         "yaxis": "y"
        },
        {
         "hovertemplate": "Customer Name=Yardley W. Jacobson<br>Age=%{x}<br>Car Purchase Amount=%{y}<extra></extra>",
         "legendgroup": "Yardley W. Jacobson",
         "marker": {
          "color": "#ab63fa",
          "symbol": "circle"
         },
         "mode": "markers",
         "name": "Yardley W. Jacobson",
         "orientation": "v",
         "showlegend": true,
         "type": "scatter",
         "x": [
          54
         ],
         "xaxis": "x",
         "y": [
          48300.02057
         ],
         "yaxis": "y"
        },
        {
         "hovertemplate": "Customer Name=Gray F. Walker<br>Age=%{x}<br>Car Purchase Amount=%{y}<extra></extra>",
         "legendgroup": "Gray F. Walker",
         "marker": {
          "color": "#FFA15A",
          "symbol": "circle"
         },
         "mode": "markers",
         "name": "Gray F. Walker",
         "orientation": "v",
         "showlegend": true,
         "type": "scatter",
         "x": [
          45
         ],
         "xaxis": "x",
         "y": [
          54013.47595
         ],
         "yaxis": "y"
        },
        {
         "hovertemplate": "Customer Name=Piper S. Houston<br>Age=%{x}<br>Car Purchase Amount=%{y}<extra></extra>",
         "legendgroup": "Piper S. Houston",
         "marker": {
          "color": "#19d3f3",
          "symbol": "circle"
         },
         "mode": "markers",
         "name": "Piper S. Houston",
         "orientation": "v",
         "showlegend": true,
         "type": "scatter",
         "x": [
          41
         ],
         "xaxis": "x",
         "y": [
          38674.66038
         ],
         "yaxis": "y"
        },
        {
         "hovertemplate": "Customer Name=Chester X. Carrillo<br>Age=%{x}<br>Car Purchase Amount=%{y}<extra></extra>",
         "legendgroup": "Chester X. Carrillo",
         "marker": {
          "color": "#FF6692",
          "symbol": "circle"
         },
         "mode": "markers",
         "name": "Chester X. Carrillo",
         "orientation": "v",
         "showlegend": true,
         "type": "scatter",
         "x": [
          40
         ],
         "xaxis": "x",
         "y": [
          37076.82508
         ],
         "yaxis": "y"
        },
        {
         "hovertemplate": "Customer Name=Nathaniel P. Stephens<br>Age=%{x}<br>Car Purchase Amount=%{y}<extra></extra>",
         "legendgroup": "Nathaniel P. Stephens",
         "marker": {
          "color": "#B6E880",
          "symbol": "circle"
         },
         "mode": "markers",
         "name": "Nathaniel P. Stephens",
         "orientation": "v",
         "showlegend": true,
         "type": "scatter",
         "x": [
          32
         ],
         "xaxis": "x",
         "y": [
          37947.85125
         ],
         "yaxis": "y"
        },
        {
         "hovertemplate": "Customer Name=Jennifer C. Williamson<br>Age=%{x}<br>Car Purchase Amount=%{y}<extra></extra>",
         "legendgroup": "Jennifer C. Williamson",
         "marker": {
          "color": "#FF97FF",
          "symbol": "circle"
         },
         "mode": "markers",
         "name": "Jennifer C. Williamson",
         "orientation": "v",
         "showlegend": true,
         "type": "scatter",
         "x": [
          54
         ],
         "xaxis": "x",
         "y": [
          41320.07256
         ],
         "yaxis": "y"
        },
        {
         "hovertemplate": "Customer Name=Rae C. Hodge<br>Age=%{x}<br>Car Purchase Amount=%{y}<extra></extra>",
         "legendgroup": "Rae C. Hodge",
         "marker": {
          "color": "#FECB52",
          "symbol": "circle"
         },
         "mode": "markers",
         "name": "Rae C. Hodge",
         "orientation": "v",
         "showlegend": true,
         "type": "scatter",
         "x": [
          55
         ],
         "xaxis": "x",
         "y": [
          66888.93694
         ],
         "yaxis": "y"
        },
        {
         "hovertemplate": "Customer Name=Urielle M. Contreras<br>Age=%{x}<br>Car Purchase Amount=%{y}<extra></extra>",
         "legendgroup": "Urielle M. Contreras",
         "marker": {
          "color": "#636efa",
          "symbol": "circle"
         },
         "mode": "markers",
         "name": "Urielle M. Contreras",
         "orientation": "v",
         "showlegend": true,
         "type": "scatter",
         "x": [
          35
         ],
         "xaxis": "x",
         "y": [
          12536.93842
         ],
         "yaxis": "y"
        },
        {
         "hovertemplate": "Customer Name=Mechelle W. Stanton<br>Age=%{x}<br>Car Purchase Amount=%{y}<extra></extra>",
         "legendgroup": "Mechelle W. Stanton",
         "marker": {
          "color": "#EF553B",
          "symbol": "circle"
         },
         "mode": "markers",
         "name": "Mechelle W. Stanton",
         "orientation": "v",
         "showlegend": true,
         "type": "scatter",
         "x": [
          46
         ],
         "xaxis": "x",
         "y": [
          39549.13039
         ],
         "yaxis": "y"
        },
        {
         "hovertemplate": "Customer Name=Leila F. Hubbard<br>Age=%{x}<br>Car Purchase Amount=%{y}<extra></extra>",
         "legendgroup": "Leila F. Hubbard",
         "marker": {
          "color": "#00cc96",
          "symbol": "circle"
         },
         "mode": "markers",
         "name": "Leila F. Hubbard",
         "orientation": "v",
         "showlegend": true,
         "type": "scatter",
         "x": [
          45
         ],
         "xaxis": "x",
         "y": [
          52709.08196
         ],
         "yaxis": "y"
        },
        {
         "hovertemplate": "Customer Name=Tanisha H. Foster<br>Age=%{x}<br>Car Purchase Amount=%{y}<extra></extra>",
         "legendgroup": "Tanisha H. Foster",
         "marker": {
          "color": "#ab63fa",
          "symbol": "circle"
         },
         "mode": "markers",
         "name": "Tanisha H. Foster",
         "orientation": "v",
         "showlegend": true,
         "type": "scatter",
         "x": [
          50
         ],
         "xaxis": "x",
         "y": [
          53502.97742
         ],
         "yaxis": "y"
        },
        {
         "hovertemplate": "Customer Name=Hammett F. Marsh<br>Age=%{x}<br>Car Purchase Amount=%{y}<extra></extra>",
         "legendgroup": "Hammett F. Marsh",
         "marker": {
          "color": "#FFA15A",
          "symbol": "circle"
         },
         "mode": "markers",
         "name": "Hammett F. Marsh",
         "orientation": "v",
         "showlegend": true,
         "type": "scatter",
         "x": [
          54
         ],
         "xaxis": "x",
         "y": [
          52116.90791
         ],
         "yaxis": "y"
        },
        {
         "hovertemplate": "Customer Name=Calvin A. Lancaster<br>Age=%{x}<br>Car Purchase Amount=%{y}<extra></extra>",
         "legendgroup": "Calvin A. Lancaster",
         "marker": {
          "color": "#19d3f3",
          "symbol": "circle"
         },
         "mode": "markers",
         "name": "Calvin A. Lancaster",
         "orientation": "v",
         "showlegend": true,
         "type": "scatter",
         "x": [
          29
         ],
         "xaxis": "x",
         "y": [
          38705.65839
         ],
         "yaxis": "y"
        },
        {
         "hovertemplate": "Customer Name=Rachel H. Ballard<br>Age=%{x}<br>Car Purchase Amount=%{y}<extra></extra>",
         "legendgroup": "Rachel H. Ballard",
         "marker": {
          "color": "#FF6692",
          "symbol": "circle"
         },
         "mode": "markers",
         "name": "Rachel H. Ballard",
         "orientation": "v",
         "showlegend": true,
         "type": "scatter",
         "x": [
          56
         ],
         "xaxis": "x",
         "y": [
          48025.02542
         ],
         "yaxis": "y"
        },
        {
         "hovertemplate": "Customer Name=Solomon P. Randolph<br>Age=%{x}<br>Car Purchase Amount=%{y}<extra></extra>",
         "legendgroup": "Solomon P. Randolph",
         "marker": {
          "color": "#B6E880",
          "symbol": "circle"
         },
         "mode": "markers",
         "name": "Solomon P. Randolph",
         "orientation": "v",
         "showlegend": true,
         "type": "scatter",
         "x": [
          54
         ],
         "xaxis": "x",
         "y": [
          59483.91183
         ],
         "yaxis": "y"
        },
        {
         "hovertemplate": "Customer Name=Kasimir Q. Cherry<br>Age=%{x}<br>Car Purchase Amount=%{y}<extra></extra>",
         "legendgroup": "Kasimir Q. Cherry",
         "marker": {
          "color": "#FF97FF",
          "symbol": "circle"
         },
         "mode": "markers",
         "name": "Kasimir Q. Cherry",
         "orientation": "v",
         "showlegend": true,
         "type": "scatter",
         "x": [
          33
         ],
         "xaxis": "x",
         "y": [
          35911.64559
         ],
         "yaxis": "y"
        },
        {
         "hovertemplate": "Customer Name=Dominic I. Faulkner<br>Age=%{x}<br>Car Purchase Amount=%{y}<extra></extra>",
         "legendgroup": "Dominic I. Faulkner",
         "marker": {
          "color": "#FECB52",
          "symbol": "circle"
         },
         "mode": "markers",
         "name": "Dominic I. Faulkner",
         "orientation": "v",
         "showlegend": true,
         "type": "scatter",
         "x": [
          48
         ],
         "xaxis": "x",
         "y": [
          41034.28343
         ],
         "yaxis": "y"
        },
        {
         "hovertemplate": "Customer Name=Pascale I. Key<br>Age=%{x}<br>Car Purchase Amount=%{y}<extra></extra>",
         "legendgroup": "Pascale I. Key",
         "marker": {
          "color": "#636efa",
          "symbol": "circle"
         },
         "mode": "markers",
         "name": "Pascale I. Key",
         "orientation": "v",
         "showlegend": true,
         "type": "scatter",
         "x": [
          49
         ],
         "xaxis": "x",
         "y": [
          51730.17434
         ],
         "yaxis": "y"
        },
        {
         "hovertemplate": "Customer Name=Nola L. Sweeney<br>Age=%{x}<br>Car Purchase Amount=%{y}<extra></extra>",
         "legendgroup": "Nola L. Sweeney",
         "marker": {
          "color": "#EF553B",
          "symbol": "circle"
         },
         "mode": "markers",
         "name": "Nola L. Sweeney",
         "orientation": "v",
         "showlegend": true,
         "type": "scatter",
         "x": [
          55
         ],
         "xaxis": "x",
         "y": [
          53021.86074
         ],
         "yaxis": "y"
        },
        {
         "hovertemplate": "Customer Name=Clementine X. Powell<br>Age=%{x}<br>Car Purchase Amount=%{y}<extra></extra>",
         "legendgroup": "Clementine X. Powell",
         "marker": {
          "color": "#00cc96",
          "symbol": "circle"
         },
         "mode": "markers",
         "name": "Clementine X. Powell",
         "orientation": "v",
         "showlegend": true,
         "type": "scatter",
         "x": [
          42
         ],
         "xaxis": "x",
         "y": [
          32828.03477
         ],
         "yaxis": "y"
        },
        {
         "hovertemplate": "Customer Name=Quinlan U. Sears<br>Age=%{x}<br>Car Purchase Amount=%{y}<extra></extra>",
         "legendgroup": "Quinlan U. Sears",
         "marker": {
          "color": "#ab63fa",
          "symbol": "circle"
         },
         "mode": "markers",
         "name": "Quinlan U. Sears",
         "orientation": "v",
         "showlegend": true,
         "type": "scatter",
         "x": [
          41
         ],
         "xaxis": "x",
         "y": [
          29417.64694
         ],
         "yaxis": "y"
        },
        {
         "hovertemplate": "Customer Name=Odette Q. Sherman<br>Age=%{x}<br>Car Purchase Amount=%{y}<extra></extra>",
         "legendgroup": "Odette Q. Sherman",
         "marker": {
          "color": "#FFA15A",
          "symbol": "circle"
         },
         "mode": "markers",
         "name": "Odette Q. Sherman",
         "orientation": "v",
         "showlegend": true,
         "type": "scatter",
         "x": [
          53
         ],
         "xaxis": "x",
         "y": [
          57461.51158
         ],
         "yaxis": "y"
        },
        {
         "hovertemplate": "Customer Name=Kirestin F. Yang<br>Age=%{x}<br>Car Purchase Amount=%{y}<extra></extra>",
         "legendgroup": "Kirestin F. Yang",
         "marker": {
          "color": "#19d3f3",
          "symbol": "circle"
         },
         "mode": "markers",
         "name": "Kirestin F. Yang",
         "orientation": "v",
         "showlegend": true,
         "type": "scatter",
         "x": [
          53
         ],
         "xaxis": "x",
         "y": [
          50441.62427
         ],
         "yaxis": "y"
        },
        {
         "hovertemplate": "Customer Name=Colleen S. Mcguire<br>Age=%{x}<br>Car Purchase Amount=%{y}<extra></extra>",
         "legendgroup": "Colleen S. Mcguire",
         "marker": {
          "color": "#FF6692",
          "symbol": "circle"
         },
         "mode": "markers",
         "name": "Colleen S. Mcguire",
         "orientation": "v",
         "showlegend": true,
         "type": "scatter",
         "x": [
          44
         ],
         "xaxis": "x",
         "y": [
          41575.34739
         ],
         "yaxis": "y"
        },
        {
         "hovertemplate": "Customer Name=Dennis N. Thompson<br>Age=%{x}<br>Car Purchase Amount=%{y}<extra></extra>",
         "legendgroup": "Dennis N. Thompson",
         "marker": {
          "color": "#B6E880",
          "symbol": "circle"
         },
         "mode": "markers",
         "name": "Dennis N. Thompson",
         "orientation": "v",
         "showlegend": true,
         "type": "scatter",
         "x": [
          42
         ],
         "xaxis": "x",
         "y": [
          46412.47781
         ],
         "yaxis": "y"
        },
        {
         "hovertemplate": "Customer Name=Lester J. Burch<br>Age=%{x}<br>Car Purchase Amount=%{y}<extra></extra>",
         "legendgroup": "Lester J. Burch",
         "marker": {
          "color": "#FF97FF",
          "symbol": "circle"
         },
         "mode": "markers",
         "name": "Lester J. Burch",
         "orientation": "v",
         "showlegend": true,
         "type": "scatter",
         "x": [
          41
         ],
         "xaxis": "x",
         "y": [
          47610.11718
         ],
         "yaxis": "y"
        },
        {
         "hovertemplate": "Customer Name=Madeson R. Salinas<br>Age=%{x}<br>Car Purchase Amount=%{y}<extra></extra>",
         "legendgroup": "Madeson R. Salinas",
         "marker": {
          "color": "#FECB52",
          "symbol": "circle"
         },
         "mode": "markers",
         "name": "Madeson R. Salinas",
         "orientation": "v",
         "showlegend": true,
         "type": "scatter",
         "x": [
          48
         ],
         "xaxis": "x",
         "y": [
          70878.29664
         ],
         "yaxis": "y"
        },
        {
         "hovertemplate": "Customer Name=Abigail X. Lindsey<br>Age=%{x}<br>Car Purchase Amount=%{y}<extra></extra>",
         "legendgroup": "Abigail X. Lindsey",
         "marker": {
          "color": "#636efa",
          "symbol": "circle"
         },
         "mode": "markers",
         "name": "Abigail X. Lindsey",
         "orientation": "v",
         "showlegend": true,
         "type": "scatter",
         "x": [
          63
         ],
         "xaxis": "x",
         "y": [
          55543.38497
         ],
         "yaxis": "y"
        },
        {
         "hovertemplate": "Customer Name=Rachel E. Suarez<br>Age=%{x}<br>Car Purchase Amount=%{y}<extra></extra>",
         "legendgroup": "Rachel E. Suarez",
         "marker": {
          "color": "#EF553B",
          "symbol": "circle"
         },
         "mode": "markers",
         "name": "Rachel E. Suarez",
         "orientation": "v",
         "showlegend": true,
         "type": "scatter",
         "x": [
          59
         ],
         "xaxis": "x",
         "y": [
          53848.7555
         ],
         "yaxis": "y"
        },
        {
         "hovertemplate": "Customer Name=Derek X. Richards<br>Age=%{x}<br>Car Purchase Amount=%{y}<extra></extra>",
         "legendgroup": "Derek X. Richards",
         "marker": {
          "color": "#00cc96",
          "symbol": "circle"
         },
         "mode": "markers",
         "name": "Derek X. Richards",
         "orientation": "v",
         "showlegend": true,
         "type": "scatter",
         "x": [
          45
         ],
         "xaxis": "x",
         "y": [
          39904.81613
         ],
         "yaxis": "y"
        },
        {
         "hovertemplate": "Customer Name=Evangeline G. Cooper<br>Age=%{x}<br>Car Purchase Amount=%{y}<extra></extra>",
         "legendgroup": "Evangeline G. Cooper",
         "marker": {
          "color": "#ab63fa",
          "symbol": "circle"
         },
         "mode": "markers",
         "name": "Evangeline G. Cooper",
         "orientation": "v",
         "showlegend": true,
         "type": "scatter",
         "x": [
          47
         ],
         "xaxis": "x",
         "y": [
          44736.41097
         ],
         "yaxis": "y"
        },
        {
         "hovertemplate": "Customer Name=Kieran G. Justice<br>Age=%{x}<br>Car Purchase Amount=%{y}<extra></extra>",
         "legendgroup": "Kieran G. Justice",
         "marker": {
          "color": "#FFA15A",
          "symbol": "circle"
         },
         "mode": "markers",
         "name": "Kieran G. Justice",
         "orientation": "v",
         "showlegend": true,
         "type": "scatter",
         "x": [
          49
         ],
         "xaxis": "x",
         "y": [
          46937.17422
         ],
         "yaxis": "y"
        },
        {
         "hovertemplate": "Customer Name=Zenia H. Patel<br>Age=%{x}<br>Car Purchase Amount=%{y}<extra></extra>",
         "legendgroup": "Zenia H. Patel",
         "marker": {
          "color": "#19d3f3",
          "symbol": "circle"
         },
         "mode": "markers",
         "name": "Zenia H. Patel",
         "orientation": "v",
         "showlegend": true,
         "type": "scatter",
         "x": [
          40
         ],
         "xaxis": "x",
         "y": [
          28440.81268
         ],
         "yaxis": "y"
        },
        {
         "hovertemplate": "Customer Name=Michelle R. Burke<br>Age=%{x}<br>Car Purchase Amount=%{y}<extra></extra>",
         "legendgroup": "Michelle R. Burke",
         "marker": {
          "color": "#FF6692",
          "symbol": "circle"
         },
         "mode": "markers",
         "name": "Michelle R. Burke",
         "orientation": "v",
         "showlegend": true,
         "type": "scatter",
         "x": [
          41
         ],
         "xaxis": "x",
         "y": [
          38148.00163
         ],
         "yaxis": "y"
        },
        {
         "hovertemplate": "Customer Name=Florence U. Hunter<br>Age=%{x}<br>Car Purchase Amount=%{y}<extra></extra>",
         "legendgroup": "Florence U. Hunter",
         "marker": {
          "color": "#B6E880",
          "symbol": "circle"
         },
         "mode": "markers",
         "name": "Florence U. Hunter",
         "orientation": "v",
         "showlegend": true,
         "type": "scatter",
         "x": [
          47
         ],
         "xaxis": "x",
         "y": [
          42747.53925
         ],
         "yaxis": "y"
        },
        {
         "hovertemplate": "Customer Name=Jelani A. Wall<br>Age=%{x}<br>Car Purchase Amount=%{y}<extra></extra>",
         "legendgroup": "Jelani A. Wall",
         "marker": {
          "color": "#FF97FF",
          "symbol": "circle"
         },
         "mode": "markers",
         "name": "Jelani A. Wall",
         "orientation": "v",
         "showlegend": true,
         "type": "scatter",
         "x": [
          27
         ],
         "xaxis": "x",
         "y": [
          29670.83337
         ],
         "yaxis": "y"
        },
        {
         "hovertemplate": "Customer Name=England, Abel D.<br>Age=%{x}<br>Car Purchase Amount=%{y}<extra></extra>",
         "legendgroup": "England, Abel D.",
         "marker": {
          "color": "#FECB52",
          "symbol": "circle"
         },
         "mode": "markers",
         "name": "England, Abel D.",
         "orientation": "v",
         "showlegend": true,
         "type": "scatter",
         "x": [
          46
         ],
         "xaxis": "x",
         "y": [
          63038.20422
         ],
         "yaxis": "y"
        },
        {
         "hovertemplate": "Customer Name=Oconnor, Linus Q.<br>Age=%{x}<br>Car Purchase Amount=%{y}<extra></extra>",
         "legendgroup": "Oconnor, Linus Q.",
         "marker": {
          "color": "#636efa",
          "symbol": "circle"
         },
         "mode": "markers",
         "name": "Oconnor, Linus Q.",
         "orientation": "v",
         "showlegend": true,
         "type": "scatter",
         "x": [
          51
         ],
         "xaxis": "x",
         "y": [
          63248.76188
         ],
         "yaxis": "y"
        },
        {
         "hovertemplate": "Customer Name=Herman, Griffith P.<br>Age=%{x}<br>Car Purchase Amount=%{y}<extra></extra>",
         "legendgroup": "Herman, Griffith P.",
         "marker": {
          "color": "#EF553B",
          "symbol": "circle"
         },
         "mode": "markers",
         "name": "Herman, Griffith P.",
         "orientation": "v",
         "showlegend": true,
         "type": "scatter",
         "x": [
          43
         ],
         "xaxis": "x",
         "y": [
          42321.56548
         ],
         "yaxis": "y"
        },
        {
         "hovertemplate": "Customer Name=Knapp, Quamar P.<br>Age=%{x}<br>Car Purchase Amount=%{y}<extra></extra>",
         "legendgroup": "Knapp, Quamar P.",
         "marker": {
          "color": "#00cc96",
          "symbol": "circle"
         },
         "mode": "markers",
         "name": "Knapp, Quamar P.",
         "orientation": "v",
         "showlegend": true,
         "type": "scatter",
         "x": [
          32
         ],
         "xaxis": "x",
         "y": [
          44463.30502
         ],
         "yaxis": "y"
        },
        {
         "hovertemplate": "Customer Name=Chambers, Avram C.<br>Age=%{x}<br>Car Purchase Amount=%{y}<extra></extra>",
         "legendgroup": "Chambers, Avram C.",
         "marker": {
          "color": "#ab63fa",
          "symbol": "circle"
         },
         "mode": "markers",
         "name": "Chambers, Avram C.",
         "orientation": "v",
         "showlegend": true,
         "type": "scatter",
         "x": [
          63
         ],
         "xaxis": "x",
         "y": [
          67092.23276
         ],
         "yaxis": "y"
        },
        {
         "hovertemplate": "Customer Name=Cervantes, Rylee Q.<br>Age=%{x}<br>Car Purchase Amount=%{y}<extra></extra>",
         "legendgroup": "Cervantes, Rylee Q.",
         "marker": {
          "color": "#FFA15A",
          "symbol": "circle"
         },
         "mode": "markers",
         "name": "Cervantes, Rylee Q.",
         "orientation": "v",
         "showlegend": true,
         "type": "scatter",
         "x": [
          35
         ],
         "xaxis": "x",
         "y": [
          22091.11839
         ],
         "yaxis": "y"
        },
        {
         "hovertemplate": "Customer Name=Ashley, Macon Z.<br>Age=%{x}<br>Car Purchase Amount=%{y}<extra></extra>",
         "legendgroup": "Ashley, Macon Z.",
         "marker": {
          "color": "#19d3f3",
          "symbol": "circle"
         },
         "mode": "markers",
         "name": "Ashley, Macon Z.",
         "orientation": "v",
         "showlegend": true,
         "type": "scatter",
         "x": [
          50
         ],
         "xaxis": "x",
         "y": [
          40022.17406
         ],
         "yaxis": "y"
        },
        {
         "hovertemplate": "Customer Name=Jimenez, Joel G.<br>Age=%{x}<br>Car Purchase Amount=%{y}<extra></extra>",
         "legendgroup": "Jimenez, Joel G.",
         "marker": {
          "color": "#FF6692",
          "symbol": "circle"
         },
         "mode": "markers",
         "name": "Jimenez, Joel G.",
         "orientation": "v",
         "showlegend": true,
         "type": "scatter",
         "x": [
          51
         ],
         "xaxis": "x",
         "y": [
          56071.61377
         ],
         "yaxis": "y"
        },
        {
         "hovertemplate": "Customer Name=Bond, Caryn Y.<br>Age=%{x}<br>Car Purchase Amount=%{y}<extra></extra>",
         "legendgroup": "Bond, Caryn Y.",
         "marker": {
          "color": "#B6E880",
          "symbol": "circle"
         },
         "mode": "markers",
         "name": "Bond, Caryn Y.",
         "orientation": "v",
         "showlegend": true,
         "type": "scatter",
         "x": [
          54
         ],
         "xaxis": "x",
         "y": [
          49442.12107
         ],
         "yaxis": "y"
        },
        {
         "hovertemplate": "Customer Name=Gross, Cedric D.<br>Age=%{x}<br>Car Purchase Amount=%{y}<extra></extra>",
         "legendgroup": "Gross, Cedric D.",
         "marker": {
          "color": "#FF97FF",
          "symbol": "circle"
         },
         "mode": "markers",
         "name": "Gross, Cedric D.",
         "orientation": "v",
         "showlegend": true,
         "type": "scatter",
         "x": [
          37
         ],
         "xaxis": "x",
         "y": [
          42497.72862
         ],
         "yaxis": "y"
        },
        {
         "hovertemplate": "Customer Name=Dyer, Aline L.<br>Age=%{x}<br>Car Purchase Amount=%{y}<extra></extra>",
         "legendgroup": "Dyer, Aline L.",
         "marker": {
          "color": "#FECB52",
          "symbol": "circle"
         },
         "mode": "markers",
         "name": "Dyer, Aline L.",
         "orientation": "v",
         "showlegend": true,
         "type": "scatter",
         "x": [
          44
         ],
         "xaxis": "x",
         "y": [
          37084.77621
         ],
         "yaxis": "y"
        },
        {
         "hovertemplate": "Customer Name=Rivers, Sonya A.<br>Age=%{x}<br>Car Purchase Amount=%{y}<extra></extra>",
         "legendgroup": "Rivers, Sonya A.",
         "marker": {
          "color": "#636efa",
          "symbol": "circle"
         },
         "mode": "markers",
         "name": "Rivers, Sonya A.",
         "orientation": "v",
         "showlegend": true,
         "type": "scatter",
         "x": [
          57
         ],
         "xaxis": "x",
         "y": [
          51866.48719
         ],
         "yaxis": "y"
        },
        {
         "hovertemplate": "Customer Name=Frazier, Kai O.<br>Age=%{x}<br>Car Purchase Amount=%{y}<extra></extra>",
         "legendgroup": "Frazier, Kai O.",
         "marker": {
          "color": "#EF553B",
          "symbol": "circle"
         },
         "mode": "markers",
         "name": "Frazier, Kai O.",
         "orientation": "v",
         "showlegend": true,
         "type": "scatter",
         "x": [
          47
         ],
         "xaxis": "x",
         "y": [
          35716.31133
         ],
         "yaxis": "y"
        },
        {
         "hovertemplate": "Customer Name=Bond, Nyssa S.<br>Age=%{x}<br>Car Purchase Amount=%{y}<extra></extra>",
         "legendgroup": "Bond, Nyssa S.",
         "marker": {
          "color": "#00cc96",
          "symbol": "circle"
         },
         "mode": "markers",
         "name": "Bond, Nyssa S.",
         "orientation": "v",
         "showlegend": true,
         "type": "scatter",
         "x": [
          52
         ],
         "xaxis": "x",
         "y": [
          39892.93343
         ],
         "yaxis": "y"
        },
        {
         "hovertemplate": "Customer Name=Rush, Jarrod T.<br>Age=%{x}<br>Car Purchase Amount=%{y}<extra></extra>",
         "legendgroup": "Rush, Jarrod T.",
         "marker": {
          "color": "#ab63fa",
          "symbol": "circle"
         },
         "mode": "markers",
         "name": "Rush, Jarrod T.",
         "orientation": "v",
         "showlegend": true,
         "type": "scatter",
         "x": [
          52
         ],
         "xaxis": "x",
         "y": [
          35781.16156
         ],
         "yaxis": "y"
        },
        {
         "hovertemplate": "Customer Name=Stephens, Tanner E.<br>Age=%{x}<br>Car Purchase Amount=%{y}<extra></extra>",
         "legendgroup": "Stephens, Tanner E.",
         "marker": {
          "color": "#FFA15A",
          "symbol": "circle"
         },
         "mode": "markers",
         "name": "Stephens, Tanner E.",
         "orientation": "v",
         "showlegend": true,
         "type": "scatter",
         "x": [
          48
         ],
         "xaxis": "x",
         "y": [
          42866.21274
         ],
         "yaxis": "y"
        },
        {
         "hovertemplate": "Customer Name=Cameron, Kimberley P.<br>Age=%{x}<br>Car Purchase Amount=%{y}<extra></extra>",
         "legendgroup": "Cameron, Kimberley P.",
         "marker": {
          "color": "#19d3f3",
          "symbol": "circle"
         },
         "mode": "markers",
         "name": "Cameron, Kimberley P.",
         "orientation": "v",
         "showlegend": true,
         "type": "scatter",
         "x": [
          55
         ],
         "xaxis": "x",
         "y": [
          80000
         ],
         "yaxis": "y"
        },
        {
         "hovertemplate": "Customer Name=Mcdowell, Victoria J.<br>Age=%{x}<br>Car Purchase Amount=%{y}<extra></extra>",
         "legendgroup": "Mcdowell, Victoria J.",
         "marker": {
          "color": "#FF6692",
          "symbol": "circle"
         },
         "mode": "markers",
         "name": "Mcdowell, Victoria J.",
         "orientation": "v",
         "showlegend": true,
         "type": "scatter",
         "x": [
          47
         ],
         "xaxis": "x",
         "y": [
          60526.97788
         ],
         "yaxis": "y"
        },
        {
         "hovertemplate": "Customer Name=Dalton, Grant D.<br>Age=%{x}<br>Car Purchase Amount=%{y}<extra></extra>",
         "legendgroup": "Dalton, Grant D.",
         "marker": {
          "color": "#B6E880",
          "symbol": "circle"
         },
         "mode": "markers",
         "name": "Dalton, Grant D.",
         "orientation": "v",
         "showlegend": true,
         "type": "scatter",
         "x": [
          45
         ],
         "xaxis": "x",
         "y": [
          59758.73247
         ],
         "yaxis": "y"
        },
        {
         "hovertemplate": "Customer Name=Gregory, Reuben Z.<br>Age=%{x}<br>Car Purchase Amount=%{y}<extra></extra>",
         "legendgroup": "Gregory, Reuben Z.",
         "marker": {
          "color": "#FF97FF",
          "symbol": "circle"
         },
         "mode": "markers",
         "name": "Gregory, Reuben Z.",
         "orientation": "v",
         "showlegend": true,
         "type": "scatter",
         "x": [
          40
         ],
         "xaxis": "x",
         "y": [
          39606.24598
         ],
         "yaxis": "y"
        },
        {
         "hovertemplate": "Customer Name=Schultz, Lee I.<br>Age=%{x}<br>Car Purchase Amount=%{y}<extra></extra>",
         "legendgroup": "Schultz, Lee I.",
         "marker": {
          "color": "#FECB52",
          "symbol": "circle"
         },
         "mode": "markers",
         "name": "Schultz, Lee I.",
         "orientation": "v",
         "showlegend": true,
         "type": "scatter",
         "x": [
          47
         ],
         "xaxis": "x",
         "y": [
          58641.71051
         ],
         "yaxis": "y"
        },
        {
         "hovertemplate": "Customer Name=Wise, Mechelle E.<br>Age=%{x}<br>Car Purchase Amount=%{y}<extra></extra>",
         "legendgroup": "Wise, Mechelle E.",
         "marker": {
          "color": "#636efa",
          "symbol": "circle"
         },
         "mode": "markers",
         "name": "Wise, Mechelle E.",
         "orientation": "v",
         "showlegend": true,
         "type": "scatter",
         "x": [
          45
         ],
         "xaxis": "x",
         "y": [
          52983.89411
         ],
         "yaxis": "y"
        },
        {
         "hovertemplate": "Customer Name=Mcclure, Avye L.<br>Age=%{x}<br>Car Purchase Amount=%{y}<extra></extra>",
         "legendgroup": "Mcclure, Avye L.",
         "marker": {
          "color": "#EF553B",
          "symbol": "circle"
         },
         "mode": "markers",
         "name": "Mcclure, Avye L.",
         "orientation": "v",
         "showlegend": true,
         "type": "scatter",
         "x": [
          49
         ],
         "xaxis": "x",
         "y": [
          50666.88173
         ],
         "yaxis": "y"
        },
        {
         "hovertemplate": "Customer Name=Livingston, Blaze Y.<br>Age=%{x}<br>Car Purchase Amount=%{y}<extra></extra>",
         "legendgroup": "Livingston, Blaze Y.",
         "marker": {
          "color": "#00cc96",
          "symbol": "circle"
         },
         "mode": "markers",
         "name": "Livingston, Blaze Y.",
         "orientation": "v",
         "showlegend": true,
         "type": "scatter",
         "x": [
          60
         ],
         "xaxis": "x",
         "y": [
          59625.02618
         ],
         "yaxis": "y"
        },
        {
         "hovertemplate": "Customer Name=Fuentes, Dora E.<br>Age=%{x}<br>Car Purchase Amount=%{y}<extra></extra>",
         "legendgroup": "Fuentes, Dora E.",
         "marker": {
          "color": "#ab63fa",
          "symbol": "circle"
         },
         "mode": "markers",
         "name": "Fuentes, Dora E.",
         "orientation": "v",
         "showlegend": true,
         "type": "scatter",
         "x": [
          34
         ],
         "xaxis": "x",
         "y": [
          22630.25982
         ],
         "yaxis": "y"
        },
        {
         "hovertemplate": "Customer Name=Thompson, Alvin R.<br>Age=%{x}<br>Car Purchase Amount=%{y}<extra></extra>",
         "legendgroup": "Thompson, Alvin R.",
         "marker": {
          "color": "#FFA15A",
          "symbol": "circle"
         },
         "mode": "markers",
         "name": "Thompson, Alvin R.",
         "orientation": "v",
         "showlegend": true,
         "type": "scatter",
         "x": [
          36
         ],
         "xaxis": "x",
         "y": [
          41137.89459
         ],
         "yaxis": "y"
        },
        {
         "hovertemplate": "Customer Name=Armstrong, Hedda N.<br>Age=%{x}<br>Car Purchase Amount=%{y}<extra></extra>",
         "legendgroup": "Armstrong, Hedda N.",
         "marker": {
          "color": "#19d3f3",
          "symbol": "circle"
         },
         "mode": "markers",
         "name": "Armstrong, Hedda N.",
         "orientation": "v",
         "showlegend": true,
         "type": "scatter",
         "x": [
          51
         ],
         "xaxis": "x",
         "y": [
          53496.48183
         ],
         "yaxis": "y"
        },
        {
         "hovertemplate": "Customer Name=Casey, Sylvia E.<br>Age=%{x}<br>Car Purchase Amount=%{y}<extra></extra>",
         "legendgroup": "Casey, Sylvia E.",
         "marker": {
          "color": "#FF6692",
          "symbol": "circle"
         },
         "mode": "markers",
         "name": "Casey, Sylvia E.",
         "orientation": "v",
         "showlegend": true,
         "type": "scatter",
         "x": [
          42
         ],
         "xaxis": "x",
         "y": [
          36543.93642
         ],
         "yaxis": "y"
        },
        {
         "hovertemplate": "Customer Name=Shaw, Rooney Q.<br>Age=%{x}<br>Car Purchase Amount=%{y}<extra></extra>",
         "legendgroup": "Shaw, Rooney Q.",
         "marker": {
          "color": "#B6E880",
          "symbol": "circle"
         },
         "mode": "markers",
         "name": "Shaw, Rooney Q.",
         "orientation": "v",
         "showlegend": true,
         "type": "scatter",
         "x": [
          48
         ],
         "xaxis": "x",
         "y": [
          43503.97349
         ],
         "yaxis": "y"
        },
        {
         "hovertemplate": "Customer Name=Sexton, Shaeleigh H.<br>Age=%{x}<br>Car Purchase Amount=%{y}<extra></extra>",
         "legendgroup": "Sexton, Shaeleigh H.",
         "marker": {
          "color": "#FF97FF",
          "symbol": "circle"
         },
         "mode": "markers",
         "name": "Sexton, Shaeleigh H.",
         "orientation": "v",
         "showlegend": true,
         "type": "scatter",
         "x": [
          35
         ],
         "xaxis": "x",
         "y": [
          31146.71078
         ],
         "yaxis": "y"
        },
        {
         "hovertemplate": "Customer Name=Langley, Skyler J.<br>Age=%{x}<br>Car Purchase Amount=%{y}<extra></extra>",
         "legendgroup": "Langley, Skyler J.",
         "marker": {
          "color": "#FECB52",
          "symbol": "circle"
         },
         "mode": "markers",
         "name": "Langley, Skyler J.",
         "orientation": "v",
         "showlegend": true,
         "type": "scatter",
         "x": [
          44
         ],
         "xaxis": "x",
         "y": [
          31526.04931
         ],
         "yaxis": "y"
        },
        {
         "hovertemplate": "Customer Name=Caldwell, Yolanda F.<br>Age=%{x}<br>Car Purchase Amount=%{y}<extra></extra>",
         "legendgroup": "Caldwell, Yolanda F.",
         "marker": {
          "color": "#636efa",
          "symbol": "circle"
         },
         "mode": "markers",
         "name": "Caldwell, Yolanda F.",
         "orientation": "v",
         "showlegend": true,
         "type": "scatter",
         "x": [
          48
         ],
         "xaxis": "x",
         "y": [
          31083.70271
         ],
         "yaxis": "y"
        },
        {
         "hovertemplate": "Customer Name=Olson, Riley O.<br>Age=%{x}<br>Car Purchase Amount=%{y}<extra></extra>",
         "legendgroup": "Olson, Riley O.",
         "marker": {
          "color": "#EF553B",
          "symbol": "circle"
         },
         "mode": "markers",
         "name": "Olson, Riley O.",
         "orientation": "v",
         "showlegend": true,
         "type": "scatter",
         "x": [
          47
         ],
         "xaxis": "x",
         "y": [
          45366.35963
         ],
         "yaxis": "y"
        },
        {
         "hovertemplate": "Customer Name=Irwin, Dillon J.<br>Age=%{x}<br>Car Purchase Amount=%{y}<extra></extra>",
         "legendgroup": "Irwin, Dillon J.",
         "marker": {
          "color": "#00cc96",
          "symbol": "circle"
         },
         "mode": "markers",
         "name": "Irwin, Dillon J.",
         "orientation": "v",
         "showlegend": true,
         "type": "scatter",
         "x": [
          31
         ],
         "xaxis": "x",
         "y": [
          25252.93221
         ],
         "yaxis": "y"
        },
        {
         "hovertemplate": "Customer Name=Terry, Mollie K.<br>Age=%{x}<br>Car Purchase Amount=%{y}<extra></extra>",
         "legendgroup": "Terry, Mollie K.",
         "marker": {
          "color": "#ab63fa",
          "symbol": "circle"
         },
         "mode": "markers",
         "name": "Terry, Mollie K.",
         "orientation": "v",
         "showlegend": true,
         "type": "scatter",
         "x": [
          45
         ],
         "xaxis": "x",
         "y": [
          39888.59789
         ],
         "yaxis": "y"
        },
        {
         "hovertemplate": "Customer Name=Hudson, Maxwell F.<br>Age=%{x}<br>Car Purchase Amount=%{y}<extra></extra>",
         "legendgroup": "Hudson, Maxwell F.",
         "marker": {
          "color": "#FFA15A",
          "symbol": "circle"
         },
         "mode": "markers",
         "name": "Hudson, Maxwell F.",
         "orientation": "v",
         "showlegend": true,
         "type": "scatter",
         "x": [
          49
         ],
         "xaxis": "x",
         "y": [
          52240.72866
         ],
         "yaxis": "y"
        },
        {
         "hovertemplate": "Customer Name=Levy, Irma P.<br>Age=%{x}<br>Car Purchase Amount=%{y}<extra></extra>",
         "legendgroup": "Levy, Irma P.",
         "marker": {
          "color": "#19d3f3",
          "symbol": "circle"
         },
         "mode": "markers",
         "name": "Levy, Irma P.",
         "orientation": "v",
         "showlegend": true,
         "type": "scatter",
         "x": [
          61
         ],
         "xaxis": "x",
         "y": [
          39911.6116
         ],
         "yaxis": "y"
        },
        {
         "hovertemplate": "Customer Name=Brady, Oscar Y.<br>Age=%{x}<br>Car Purchase Amount=%{y}<extra></extra>",
         "legendgroup": "Brady, Oscar Y.",
         "marker": {
          "color": "#FF6692",
          "symbol": "circle"
         },
         "mode": "markers",
         "name": "Brady, Oscar Y.",
         "orientation": "v",
         "showlegend": true,
         "type": "scatter",
         "x": [
          51
         ],
         "xaxis": "x",
         "y": [
          45857.75365
         ],
         "yaxis": "y"
        },
        {
         "hovertemplate": "Customer Name=Dudley, Ryder M.<br>Age=%{x}<br>Car Purchase Amount=%{y}<extra></extra>",
         "legendgroup": "Dudley, Ryder M.",
         "marker": {
          "color": "#B6E880",
          "symbol": "circle"
         },
         "mode": "markers",
         "name": "Dudley, Ryder M.",
         "orientation": "v",
         "showlegend": true,
         "type": "scatter",
         "x": [
          35
         ],
         "xaxis": "x",
         "y": [
          30826.10903
         ],
         "yaxis": "y"
        },
        {
         "hovertemplate": "Customer Name=Morales, Halla M.<br>Age=%{x}<br>Car Purchase Amount=%{y}<extra></extra>",
         "legendgroup": "Morales, Halla M.",
         "marker": {
          "color": "#FF97FF",
          "symbol": "circle"
         },
         "mode": "markers",
         "name": "Morales, Halla M.",
         "orientation": "v",
         "showlegend": true,
         "type": "scatter",
         "x": [
          53
         ],
         "xaxis": "x",
         "y": [
          39422.79389
         ],
         "yaxis": "y"
        },
        {
         "hovertemplate": "Customer Name=Holloway, Brennan Q.<br>Age=%{x}<br>Car Purchase Amount=%{y}<extra></extra>",
         "legendgroup": "Holloway, Brennan Q.",
         "marker": {
          "color": "#FECB52",
          "symbol": "circle"
         },
         "mode": "markers",
         "name": "Holloway, Brennan Q.",
         "orientation": "v",
         "showlegend": true,
         "type": "scatter",
         "x": [
          42
         ],
         "xaxis": "x",
         "y": [
          34678.83226
         ],
         "yaxis": "y"
        },
        {
         "hovertemplate": "Customer Name=Powers, Naomi B.<br>Age=%{x}<br>Car Purchase Amount=%{y}<extra></extra>",
         "legendgroup": "Powers, Naomi B.",
         "marker": {
          "color": "#636efa",
          "symbol": "circle"
         },
         "mode": "markers",
         "name": "Powers, Naomi B.",
         "orientation": "v",
         "showlegend": true,
         "type": "scatter",
         "x": [
          39
         ],
         "xaxis": "x",
         "y": [
          23517.91983
         ],
         "yaxis": "y"
        },
        {
         "hovertemplate": "Customer Name=Armstrong, Naomi D.<br>Age=%{x}<br>Car Purchase Amount=%{y}<extra></extra>",
         "legendgroup": "Armstrong, Naomi D.",
         "marker": {
          "color": "#EF553B",
          "symbol": "circle"
         },
         "mode": "markers",
         "name": "Armstrong, Naomi D.",
         "orientation": "v",
         "showlegend": true,
         "type": "scatter",
         "x": [
          38
         ],
         "xaxis": "x",
         "y": [
          28733.68779
         ],
         "yaxis": "y"
        },
        {
         "hovertemplate": "Customer Name=Flores, Caldwell U.<br>Age=%{x}<br>Car Purchase Amount=%{y}<extra></extra>",
         "legendgroup": "Flores, Caldwell U.",
         "marker": {
          "color": "#00cc96",
          "symbol": "circle"
         },
         "mode": "markers",
         "name": "Flores, Caldwell U.",
         "orientation": "v",
         "showlegend": true,
         "type": "scatter",
         "x": [
          41
         ],
         "xaxis": "x",
         "y": [
          59096.26978
         ],
         "yaxis": "y"
        },
        {
         "hovertemplate": "Customer Name=Russo, Fleur N.<br>Age=%{x}<br>Car Purchase Amount=%{y}<extra></extra>",
         "legendgroup": "Russo, Fleur N.",
         "marker": {
          "color": "#ab63fa",
          "symbol": "circle"
         },
         "mode": "markers",
         "name": "Russo, Fleur N.",
         "orientation": "v",
         "showlegend": true,
         "type": "scatter",
         "x": [
          44
         ],
         "xaxis": "x",
         "y": [
          50188.86612
         ],
         "yaxis": "y"
        },
        {
         "hovertemplate": "Customer Name=Reese, Sylvia H.<br>Age=%{x}<br>Car Purchase Amount=%{y}<extra></extra>",
         "legendgroup": "Reese, Sylvia H.",
         "marker": {
          "color": "#FFA15A",
          "symbol": "circle"
         },
         "mode": "markers",
         "name": "Reese, Sylvia H.",
         "orientation": "v",
         "showlegend": true,
         "type": "scatter",
         "x": [
          43
         ],
         "xaxis": "x",
         "y": [
          35659.12237
         ],
         "yaxis": "y"
        },
        {
         "hovertemplate": "Customer Name=Burke, Simon H.<br>Age=%{x}<br>Car Purchase Amount=%{y}<extra></extra>",
         "legendgroup": "Burke, Simon H.",
         "marker": {
          "color": "#19d3f3",
          "symbol": "circle"
         },
         "mode": "markers",
         "name": "Burke, Simon H.",
         "orientation": "v",
         "showlegend": true,
         "type": "scatter",
         "x": [
          39
         ],
         "xaxis": "x",
         "y": [
          46398.35204
         ],
         "yaxis": "y"
        },
        {
         "hovertemplate": "Customer Name=Mayer, Paki D.<br>Age=%{x}<br>Car Purchase Amount=%{y}<extra></extra>",
         "legendgroup": "Mayer, Paki D.",
         "marker": {
          "color": "#FF6692",
          "symbol": "circle"
         },
         "mode": "markers",
         "name": "Mayer, Paki D.",
         "orientation": "v",
         "showlegend": true,
         "type": "scatter",
         "x": [
          33
         ],
         "xaxis": "x",
         "y": [
          32291.18978
         ],
         "yaxis": "y"
        },
        {
         "hovertemplate": "Customer Name=Bush, Jessica C.<br>Age=%{x}<br>Car Purchase Amount=%{y}<extra></extra>",
         "legendgroup": "Bush, Jessica C.",
         "marker": {
          "color": "#B6E880",
          "symbol": "circle"
         },
         "mode": "markers",
         "name": "Bush, Jessica C.",
         "orientation": "v",
         "showlegend": true,
         "type": "scatter",
         "x": [
          47
         ],
         "xaxis": "x",
         "y": [
          49079.29461
         ],
         "yaxis": "y"
        },
        {
         "hovertemplate": "Customer Name=West, April J.<br>Age=%{x}<br>Car Purchase Amount=%{y}<extra></extra>",
         "legendgroup": "West, April J.",
         "marker": {
          "color": "#FF97FF",
          "symbol": "circle"
         },
         "mode": "markers",
         "name": "West, April J.",
         "orientation": "v",
         "showlegend": true,
         "type": "scatter",
         "x": [
          45
         ],
         "xaxis": "x",
         "y": [
          49348.88394
         ],
         "yaxis": "y"
        },
        {
         "hovertemplate": "Customer Name=Levy, Wesley S.<br>Age=%{x}<br>Car Purchase Amount=%{y}<extra></extra>",
         "legendgroup": "Levy, Wesley S.",
         "marker": {
          "color": "#FECB52",
          "symbol": "circle"
         },
         "mode": "markers",
         "name": "Levy, Wesley S.",
         "orientation": "v",
         "showlegend": true,
         "type": "scatter",
         "x": [
          51
         ],
         "xaxis": "x",
         "y": [
          41427.59797
         ],
         "yaxis": "y"
        },
        {
         "hovertemplate": "Customer Name=Nieves, Bertha O.<br>Age=%{x}<br>Car Purchase Amount=%{y}<extra></extra>",
         "legendgroup": "Nieves, Bertha O.",
         "marker": {
          "color": "#636efa",
          "symbol": "circle"
         },
         "mode": "markers",
         "name": "Nieves, Bertha O.",
         "orientation": "v",
         "showlegend": true,
         "type": "scatter",
         "x": [
          42
         ],
         "xaxis": "x",
         "y": [
          24221.99937
         ],
         "yaxis": "y"
        },
        {
         "hovertemplate": "Customer Name=Patrick, Merritt L.<br>Age=%{x}<br>Car Purchase Amount=%{y}<extra></extra>",
         "legendgroup": "Patrick, Merritt L.",
         "marker": {
          "color": "#EF553B",
          "symbol": "circle"
         },
         "mode": "markers",
         "name": "Patrick, Merritt L.",
         "orientation": "v",
         "showlegend": true,
         "type": "scatter",
         "x": [
          55
         ],
         "xaxis": "x",
         "y": [
          44424.07681
         ],
         "yaxis": "y"
        },
        {
         "hovertemplate": "Customer Name=Mcdaniel, Marcia Z.<br>Age=%{x}<br>Car Purchase Amount=%{y}<extra></extra>",
         "legendgroup": "Mcdaniel, Marcia Z.",
         "marker": {
          "color": "#00cc96",
          "symbol": "circle"
         },
         "mode": "markers",
         "name": "Mcdaniel, Marcia Z.",
         "orientation": "v",
         "showlegend": true,
         "type": "scatter",
         "x": [
          62
         ],
         "xaxis": "x",
         "y": [
          60390.06616
         ],
         "yaxis": "y"
        },
        {
         "hovertemplate": "Customer Name=Ortiz, Drew P.<br>Age=%{x}<br>Car Purchase Amount=%{y}<extra></extra>",
         "legendgroup": "Ortiz, Drew P.",
         "marker": {
          "color": "#ab63fa",
          "symbol": "circle"
         },
         "mode": "markers",
         "name": "Ortiz, Drew P.",
         "orientation": "v",
         "showlegend": true,
         "type": "scatter",
         "x": [
          52
         ],
         "xaxis": "x",
         "y": [
          42793.9932
         ],
         "yaxis": "y"
        },
        {
         "hovertemplate": "Customer Name=Oneill, Tiger A.<br>Age=%{x}<br>Car Purchase Amount=%{y}<extra></extra>",
         "legendgroup": "Oneill, Tiger A.",
         "marker": {
          "color": "#FFA15A",
          "symbol": "circle"
         },
         "mode": "markers",
         "name": "Oneill, Tiger A.",
         "orientation": "v",
         "showlegend": true,
         "type": "scatter",
         "x": [
          51
         ],
         "xaxis": "x",
         "y": [
          46935.72774
         ],
         "yaxis": "y"
        },
        {
         "hovertemplate": "Customer Name=Sims, Tashya J.<br>Age=%{x}<br>Car Purchase Amount=%{y}<extra></extra>",
         "legendgroup": "Sims, Tashya J.",
         "marker": {
          "color": "#19d3f3",
          "symbol": "circle"
         },
         "mode": "markers",
         "name": "Sims, Tashya J.",
         "orientation": "v",
         "showlegend": true,
         "type": "scatter",
         "x": [
          63
         ],
         "xaxis": "x",
         "y": [
          58667.06865
         ],
         "yaxis": "y"
        },
        {
         "hovertemplate": "Customer Name=Lawrence, Hope Z.<br>Age=%{x}<br>Car Purchase Amount=%{y}<extra></extra>",
         "legendgroup": "Lawrence, Hope Z.",
         "marker": {
          "color": "#FF6692",
          "symbol": "circle"
         },
         "mode": "markers",
         "name": "Lawrence, Hope Z.",
         "orientation": "v",
         "showlegend": true,
         "type": "scatter",
         "x": [
          46
         ],
         "xaxis": "x",
         "y": [
          38042.80065
         ],
         "yaxis": "y"
        },
        {
         "hovertemplate": "Customer Name=Jenkins, Hasad P.<br>Age=%{x}<br>Car Purchase Amount=%{y}<extra></extra>",
         "legendgroup": "Jenkins, Hasad P.",
         "marker": {
          "color": "#B6E880",
          "symbol": "circle"
         },
         "mode": "markers",
         "name": "Jenkins, Hasad P.",
         "orientation": "v",
         "showlegend": true,
         "type": "scatter",
         "x": [
          47
         ],
         "xaxis": "x",
         "y": [
          39270.57909
         ],
         "yaxis": "y"
        },
        {
         "hovertemplate": "Customer Name=Rodriguez, Basia D.<br>Age=%{x}<br>Car Purchase Amount=%{y}<extra></extra>",
         "legendgroup": "Rodriguez, Basia D.",
         "marker": {
          "color": "#FF97FF",
          "symbol": "circle"
         },
         "mode": "markers",
         "name": "Rodriguez, Basia D.",
         "orientation": "v",
         "showlegend": true,
         "type": "scatter",
         "x": [
          58
         ],
         "xaxis": "x",
         "y": [
          54606.18769
         ],
         "yaxis": "y"
        },
        {
         "hovertemplate": "Customer Name=Blair, Abra U.<br>Age=%{x}<br>Car Purchase Amount=%{y}<extra></extra>",
         "legendgroup": "Blair, Abra U.",
         "marker": {
          "color": "#FECB52",
          "symbol": "circle"
         },
         "mode": "markers",
         "name": "Blair, Abra U.",
         "orientation": "v",
         "showlegend": true,
         "type": "scatter",
         "x": [
          37
         ],
         "xaxis": "x",
         "y": [
          39083.94268
         ],
         "yaxis": "y"
        },
        {
         "hovertemplate": "Customer Name=Rosario, Elijah N.<br>Age=%{x}<br>Car Purchase Amount=%{y}<extra></extra>",
         "legendgroup": "Rosario, Elijah N.",
         "marker": {
          "color": "#636efa",
          "symbol": "circle"
         },
         "mode": "markers",
         "name": "Rosario, Elijah N.",
         "orientation": "v",
         "showlegend": true,
         "type": "scatter",
         "x": [
          51
         ],
         "xaxis": "x",
         "y": [
          47984.12043
         ],
         "yaxis": "y"
        },
        {
         "hovertemplate": "Customer Name=Beach, Victor S.<br>Age=%{x}<br>Car Purchase Amount=%{y}<extra></extra>",
         "legendgroup": "Beach, Victor S.",
         "marker": {
          "color": "#EF553B",
          "symbol": "circle"
         },
         "mode": "markers",
         "name": "Beach, Victor S.",
         "orientation": "v",
         "showlegend": true,
         "type": "scatter",
         "x": [
          36
         ],
         "xaxis": "x",
         "y": [
          46082.80993
         ],
         "yaxis": "y"
        },
        {
         "hovertemplate": "Customer Name=Ruiz, Rafael L.<br>Age=%{x}<br>Car Purchase Amount=%{y}<extra></extra>",
         "legendgroup": "Ruiz, Rafael L.",
         "marker": {
          "color": "#00cc96",
          "symbol": "circle"
         },
         "mode": "markers",
         "name": "Ruiz, Rafael L.",
         "orientation": "v",
         "showlegend": true,
         "type": "scatter",
         "x": [
          32
         ],
         "xaxis": "x",
         "y": [
          30964.07804
         ],
         "yaxis": "y"
        },
        {
         "hovertemplate": "Customer Name=Macdonald, Rahim B.<br>Age=%{x}<br>Car Purchase Amount=%{y}<extra></extra>",
         "legendgroup": "Macdonald, Rahim B.",
         "marker": {
          "color": "#ab63fa",
          "symbol": "circle"
         },
         "mode": "markers",
         "name": "Macdonald, Rahim B.",
         "orientation": "v",
         "showlegend": true,
         "type": "scatter",
         "x": [
          32
         ],
         "xaxis": "x",
         "y": [
          35726.95299
         ],
         "yaxis": "y"
        },
        {
         "hovertemplate": "Customer Name=Valdez, Joy U.<br>Age=%{x}<br>Car Purchase Amount=%{y}<extra></extra>",
         "legendgroup": "Valdez, Joy U.",
         "marker": {
          "color": "#FFA15A",
          "symbol": "circle"
         },
         "mode": "markers",
         "name": "Valdez, Joy U.",
         "orientation": "v",
         "showlegend": true,
         "type": "scatter",
         "x": [
          43
         ],
         "xaxis": "x",
         "y": [
          49065.1634
         ],
         "yaxis": "y"
        },
        {
         "hovertemplate": "Customer Name=Watson, Moana M.<br>Age=%{x}<br>Car Purchase Amount=%{y}<extra></extra>",
         "legendgroup": "Watson, Moana M.",
         "marker": {
          "color": "#19d3f3",
          "symbol": "circle"
         },
         "mode": "markers",
         "name": "Watson, Moana M.",
         "orientation": "v",
         "showlegend": true,
         "type": "scatter",
         "x": [
          51
         ],
         "xaxis": "x",
         "y": [
          48955.85816
         ],
         "yaxis": "y"
        },
        {
         "hovertemplate": "Customer Name=Cote, Evangeline F.<br>Age=%{x}<br>Car Purchase Amount=%{y}<extra></extra>",
         "legendgroup": "Cote, Evangeline F.",
         "marker": {
          "color": "#FF6692",
          "symbol": "circle"
         },
         "mode": "markers",
         "name": "Cote, Evangeline F.",
         "orientation": "v",
         "showlegend": true,
         "type": "scatter",
         "x": [
          43
         ],
         "xaxis": "x",
         "y": [
          37183.10293
         ],
         "yaxis": "y"
        },
        {
         "hovertemplate": "Customer Name=Delgado, Jasper U.<br>Age=%{x}<br>Car Purchase Amount=%{y}<extra></extra>",
         "legendgroup": "Delgado, Jasper U.",
         "marker": {
          "color": "#B6E880",
          "symbol": "circle"
         },
         "mode": "markers",
         "name": "Delgado, Jasper U.",
         "orientation": "v",
         "showlegend": true,
         "type": "scatter",
         "x": [
          58
         ],
         "xaxis": "x",
         "y": [
          46710.52519
         ],
         "yaxis": "y"
        },
        {
         "hovertemplate": "Customer Name=Hardy, Hilary R.<br>Age=%{x}<br>Car Purchase Amount=%{y}<extra></extra>",
         "legendgroup": "Hardy, Hilary R.",
         "marker": {
          "color": "#FF97FF",
          "symbol": "circle"
         },
         "mode": "markers",
         "name": "Hardy, Hilary R.",
         "orientation": "v",
         "showlegend": true,
         "type": "scatter",
         "x": [
          49
         ],
         "xaxis": "x",
         "y": [
          52889.56257
         ],
         "yaxis": "y"
        },
        {
         "hovertemplate": "Customer Name=Stafford, Berk Y.<br>Age=%{x}<br>Car Purchase Amount=%{y}<extra></extra>",
         "legendgroup": "Stafford, Berk Y.",
         "marker": {
          "color": "#FECB52",
          "symbol": "circle"
         },
         "mode": "markers",
         "name": "Stafford, Berk Y.",
         "orientation": "v",
         "showlegend": true,
         "type": "scatter",
         "x": [
          43
         ],
         "xaxis": "x",
         "y": [
          29754.66271
         ],
         "yaxis": "y"
        },
        {
         "hovertemplate": "Customer Name=Daugherty, Veda M.<br>Age=%{x}<br>Car Purchase Amount=%{y}<extra></extra>",
         "legendgroup": "Daugherty, Veda M.",
         "marker": {
          "color": "#636efa",
          "symbol": "circle"
         },
         "mode": "markers",
         "name": "Daugherty, Veda M.",
         "orientation": "v",
         "showlegend": true,
         "type": "scatter",
         "x": [
          48
         ],
         "xaxis": "x",
         "y": [
          60960.83428
         ],
         "yaxis": "y"
        },
        {
         "hovertemplate": "Customer Name=Harmon, David N.<br>Age=%{x}<br>Car Purchase Amount=%{y}<extra></extra>",
         "legendgroup": "Harmon, David N.",
         "marker": {
          "color": "#EF553B",
          "symbol": "circle"
         },
         "mode": "markers",
         "name": "Harmon, David N.",
         "orientation": "v",
         "showlegend": true,
         "type": "scatter",
         "x": [
          40
         ],
         "xaxis": "x",
         "y": [
          39975.43302
         ],
         "yaxis": "y"
        },
        {
         "hovertemplate": "Customer Name=Houston, Grant O.<br>Age=%{x}<br>Car Purchase Amount=%{y}<extra></extra>",
         "legendgroup": "Houston, Grant O.",
         "marker": {
          "color": "#00cc96",
          "symbol": "circle"
         },
         "mode": "markers",
         "name": "Houston, Grant O.",
         "orientation": "v",
         "showlegend": true,
         "type": "scatter",
         "x": [
          35
         ],
         "xaxis": "x",
         "y": [
          38545.80328
         ],
         "yaxis": "y"
        },
        {
         "hovertemplate": "Customer Name=Collier, Xerxes Q.<br>Age=%{x}<br>Car Purchase Amount=%{y}<extra></extra>",
         "legendgroup": "Collier, Xerxes Q.",
         "marker": {
          "color": "#ab63fa",
          "symbol": "circle"
         },
         "mode": "markers",
         "name": "Collier, Xerxes Q.",
         "orientation": "v",
         "showlegend": true,
         "type": "scatter",
         "x": [
          43
         ],
         "xaxis": "x",
         "y": [
          56764.44728
         ],
         "yaxis": "y"
        },
        {
         "hovertemplate": "Customer Name=Lewis, Jackson U.<br>Age=%{x}<br>Car Purchase Amount=%{y}<extra></extra>",
         "legendgroup": "Lewis, Jackson U.",
         "marker": {
          "color": "#FFA15A",
          "symbol": "circle"
         },
         "mode": "markers",
         "name": "Lewis, Jackson U.",
         "orientation": "v",
         "showlegend": true,
         "type": "scatter",
         "x": [
          57
         ],
         "xaxis": "x",
         "y": [
          63079.84329
         ],
         "yaxis": "y"
        },
        {
         "hovertemplate": "Customer Name=Smith, Nola H.<br>Age=%{x}<br>Car Purchase Amount=%{y}<extra></extra>",
         "legendgroup": "Smith, Nola H.",
         "marker": {
          "color": "#19d3f3",
          "symbol": "circle"
         },
         "mode": "markers",
         "name": "Smith, Nola H.",
         "orientation": "v",
         "showlegend": true,
         "type": "scatter",
         "x": [
          47
         ],
         "xaxis": "x",
         "y": [
          55700.83389
         ],
         "yaxis": "y"
        },
        {
         "hovertemplate": "Customer Name=Jensen, Ebony Y.<br>Age=%{x}<br>Car Purchase Amount=%{y}<extra></extra>",
         "legendgroup": "Jensen, Ebony Y.",
         "marker": {
          "color": "#FF6692",
          "symbol": "circle"
         },
         "mode": "markers",
         "name": "Jensen, Ebony Y.",
         "orientation": "v",
         "showlegend": true,
         "type": "scatter",
         "x": [
          32
         ],
         "xaxis": "x",
         "y": [
          36367.18452
         ],
         "yaxis": "y"
        },
        {
         "hovertemplate": "Customer Name=Kim, Claudia W.<br>Age=%{x}<br>Car Purchase Amount=%{y}<extra></extra>",
         "legendgroup": "Kim, Claudia W.",
         "marker": {
          "color": "#B6E880",
          "symbol": "circle"
         },
         "mode": "markers",
         "name": "Kim, Claudia W.",
         "orientation": "v",
         "showlegend": true,
         "type": "scatter",
         "x": [
          44
         ],
         "xaxis": "x",
         "y": [
          52477.83479
         ],
         "yaxis": "y"
        },
        {
         "hovertemplate": "Customer Name=Livingston, Lucas K.<br>Age=%{x}<br>Car Purchase Amount=%{y}<extra></extra>",
         "legendgroup": "Livingston, Lucas K.",
         "marker": {
          "color": "#FF97FF",
          "symbol": "circle"
         },
         "mode": "markers",
         "name": "Livingston, Lucas K.",
         "orientation": "v",
         "showlegend": true,
         "type": "scatter",
         "x": [
          50
         ],
         "xaxis": "x",
         "y": [
          50296.67496
         ],
         "yaxis": "y"
        },
        {
         "hovertemplate": "Customer Name=Bradford, Daquan F.<br>Age=%{x}<br>Car Purchase Amount=%{y}<extra></extra>",
         "legendgroup": "Bradford, Daquan F.",
         "marker": {
          "color": "#FECB52",
          "symbol": "circle"
         },
         "mode": "markers",
         "name": "Bradford, Daquan F.",
         "orientation": "v",
         "showlegend": true,
         "type": "scatter",
         "x": [
          44
         ],
         "xaxis": "x",
         "y": [
          37259.84386
         ],
         "yaxis": "y"
        },
        {
         "hovertemplate": "Customer Name=Park, Quincy A.<br>Age=%{x}<br>Car Purchase Amount=%{y}<extra></extra>",
         "legendgroup": "Park, Quincy A.",
         "marker": {
          "color": "#636efa",
          "symbol": "circle"
         },
         "mode": "markers",
         "name": "Park, Quincy A.",
         "orientation": "v",
         "showlegend": true,
         "type": "scatter",
         "x": [
          57
         ],
         "xaxis": "x",
         "y": [
          47715.96049
         ],
         "yaxis": "y"
        },
        {
         "hovertemplate": "Customer Name=Dillon, Lynn W.<br>Age=%{x}<br>Car Purchase Amount=%{y}<extra></extra>",
         "legendgroup": "Dillon, Lynn W.",
         "marker": {
          "color": "#EF553B",
          "symbol": "circle"
         },
         "mode": "markers",
         "name": "Dillon, Lynn W.",
         "orientation": "v",
         "showlegend": true,
         "type": "scatter",
         "x": [
          35
         ],
         "xaxis": "x",
         "y": [
          29540.87013
         ],
         "yaxis": "y"
        },
        {
         "hovertemplate": "Customer Name=Blackburn, Joel Y.<br>Age=%{x}<br>Car Purchase Amount=%{y}<extra></extra>",
         "legendgroup": "Blackburn, Joel Y.",
         "marker": {
          "color": "#00cc96",
          "symbol": "circle"
         },
         "mode": "markers",
         "name": "Blackburn, Joel Y.",
         "orientation": "v",
         "showlegend": true,
         "type": "scatter",
         "x": [
          53
         ],
         "xaxis": "x",
         "y": [
          60567.18837
         ],
         "yaxis": "y"
        },
        {
         "hovertemplate": "Customer Name=Sanders, Selma F.<br>Age=%{x}<br>Car Purchase Amount=%{y}<extra></extra>",
         "legendgroup": "Sanders, Selma F.",
         "marker": {
          "color": "#ab63fa",
          "symbol": "circle"
         },
         "mode": "markers",
         "name": "Sanders, Selma F.",
         "orientation": "v",
         "showlegend": true,
         "type": "scatter",
         "x": [
          41
         ],
         "xaxis": "x",
         "y": [
          36125.48846
         ],
         "yaxis": "y"
        },
        {
         "hovertemplate": "Customer Name=Solis, Melissa T.<br>Age=%{x}<br>Car Purchase Amount=%{y}<extra></extra>",
         "legendgroup": "Solis, Melissa T.",
         "marker": {
          "color": "#FFA15A",
          "symbol": "circle"
         },
         "mode": "markers",
         "name": "Solis, Melissa T.",
         "orientation": "v",
         "showlegend": true,
         "type": "scatter",
         "x": [
          44
         ],
         "xaxis": "x",
         "y": [
          57303.87131
         ],
         "yaxis": "y"
        },
        {
         "hovertemplate": "Customer Name=Holmes, Ross Y.<br>Age=%{x}<br>Car Purchase Amount=%{y}<extra></extra>",
         "legendgroup": "Holmes, Ross Y.",
         "marker": {
          "color": "#19d3f3",
          "symbol": "circle"
         },
         "mode": "markers",
         "name": "Holmes, Ross Y.",
         "orientation": "v",
         "showlegend": true,
         "type": "scatter",
         "x": [
          63
         ],
         "xaxis": "x",
         "y": [
          51922.07691
         ],
         "yaxis": "y"
        },
        {
         "hovertemplate": "Customer Name=Sutton, Michelle D.<br>Age=%{x}<br>Car Purchase Amount=%{y}<extra></extra>",
         "legendgroup": "Sutton, Michelle D.",
         "marker": {
          "color": "#FF6692",
          "symbol": "circle"
         },
         "mode": "markers",
         "name": "Sutton, Michelle D.",
         "orientation": "v",
         "showlegend": true,
         "type": "scatter",
         "x": [
          50
         ],
         "xaxis": "x",
         "y": [
          35848.82935
         ],
         "yaxis": "y"
        },
        {
         "hovertemplate": "Customer Name=Munoz, Kennedy K.<br>Age=%{x}<br>Car Purchase Amount=%{y}<extra></extra>",
         "legendgroup": "Munoz, Kennedy K.",
         "marker": {
          "color": "#B6E880",
          "symbol": "circle"
         },
         "mode": "markers",
         "name": "Munoz, Kennedy K.",
         "orientation": "v",
         "showlegend": true,
         "type": "scatter",
         "x": [
          42
         ],
         "xaxis": "x",
         "y": [
          42704.3221
         ],
         "yaxis": "y"
        },
        {
         "hovertemplate": "Customer Name=Little, Hayley R.<br>Age=%{x}<br>Car Purchase Amount=%{y}<extra></extra>",
         "legendgroup": "Little, Hayley R.",
         "marker": {
          "color": "#FF97FF",
          "symbol": "circle"
         },
         "mode": "markers",
         "name": "Little, Hayley R.",
         "orientation": "v",
         "showlegend": true,
         "type": "scatter",
         "x": [
          41
         ],
         "xaxis": "x",
         "y": [
          55174.98946
         ],
         "yaxis": "y"
        },
        {
         "hovertemplate": "Customer Name=Church, Lareina E.<br>Age=%{x}<br>Car Purchase Amount=%{y}<extra></extra>",
         "legendgroup": "Church, Lareina E.",
         "marker": {
          "color": "#FECB52",
          "symbol": "circle"
         },
         "mode": "markers",
         "name": "Church, Lareina E.",
         "orientation": "v",
         "showlegend": true,
         "type": "scatter",
         "x": [
          40
         ],
         "xaxis": "x",
         "y": [
          26599.90843
         ],
         "yaxis": "y"
        },
        {
         "hovertemplate": "Customer Name=Wolf, Tashya X.<br>Age=%{x}<br>Car Purchase Amount=%{y}<extra></extra>",
         "legendgroup": "Wolf, Tashya X.",
         "marker": {
          "color": "#636efa",
          "symbol": "circle"
         },
         "mode": "markers",
         "name": "Wolf, Tashya X.",
         "orientation": "v",
         "showlegend": true,
         "type": "scatter",
         "x": [
          40
         ],
         "xaxis": "x",
         "y": [
          53993.44322
         ],
         "yaxis": "y"
        },
        {
         "hovertemplate": "Customer Name=Barr, Hyatt D.<br>Age=%{x}<br>Car Purchase Amount=%{y}<extra></extra>",
         "legendgroup": "Barr, Hyatt D.",
         "marker": {
          "color": "#EF553B",
          "symbol": "circle"
         },
         "mode": "markers",
         "name": "Barr, Hyatt D.",
         "orientation": "v",
         "showlegend": true,
         "type": "scatter",
         "x": [
          56
         ],
         "xaxis": "x",
         "y": [
          47970.76767
         ],
         "yaxis": "y"
        },
        {
         "hovertemplate": "Customer Name=Hopper, Orson W.<br>Age=%{x}<br>Car Purchase Amount=%{y}<extra></extra>",
         "legendgroup": "Hopper, Orson W.",
         "marker": {
          "color": "#00cc96",
          "symbol": "circle"
         },
         "mode": "markers",
         "name": "Hopper, Orson W.",
         "orientation": "v",
         "showlegend": true,
         "type": "scatter",
         "x": [
          48
         ],
         "xaxis": "x",
         "y": [
          43641.65727
         ],
         "yaxis": "y"
        },
        {
         "hovertemplate": "Customer Name=Decker, Jolie T.<br>Age=%{x}<br>Car Purchase Amount=%{y}<extra></extra>",
         "legendgroup": "Decker, Jolie T.",
         "marker": {
          "color": "#ab63fa",
          "symbol": "circle"
         },
         "mode": "markers",
         "name": "Decker, Jolie T.",
         "orientation": "v",
         "showlegend": true,
         "type": "scatter",
         "x": [
          41
         ],
         "xaxis": "x",
         "y": [
          41679.7929
         ],
         "yaxis": "y"
        },
        {
         "hovertemplate": "Customer Name=Chaney, Reuben I.<br>Age=%{x}<br>Car Purchase Amount=%{y}<extra></extra>",
         "legendgroup": "Chaney, Reuben I.",
         "marker": {
          "color": "#FFA15A",
          "symbol": "circle"
         },
         "mode": "markers",
         "name": "Chaney, Reuben I.",
         "orientation": "v",
         "showlegend": true,
         "type": "scatter",
         "x": [
          61
         ],
         "xaxis": "x",
         "y": [
          63140.05082
         ],
         "yaxis": "y"
        },
        {
         "hovertemplate": "Customer Name=Ross, Kermit D.<br>Age=%{x}<br>Car Purchase Amount=%{y}<extra></extra>",
         "legendgroup": "Ross, Kermit D.",
         "marker": {
          "color": "#19d3f3",
          "symbol": "circle"
         },
         "mode": "markers",
         "name": "Ross, Kermit D.",
         "orientation": "v",
         "showlegend": true,
         "type": "scatter",
         "x": [
          35
         ],
         "xaxis": "x",
         "y": [
          30757.65726
         ],
         "yaxis": "y"
        },
        {
         "hovertemplate": "Customer Name=Hampton, Venus Q.<br>Age=%{x}<br>Car Purchase Amount=%{y}<extra></extra>",
         "legendgroup": "Hampton, Venus Q.",
         "marker": {
          "color": "#FF6692",
          "symbol": "circle"
         },
         "mode": "markers",
         "name": "Hampton, Venus Q.",
         "orientation": "v",
         "showlegend": true,
         "type": "scatter",
         "x": [
          55
         ],
         "xaxis": "x",
         "y": [
          65592.22012
         ],
         "yaxis": "y"
        },
        {
         "hovertemplate": "Customer Name=Chavez, Ralph U.<br>Age=%{x}<br>Car Purchase Amount=%{y}<extra></extra>",
         "legendgroup": "Chavez, Ralph U.",
         "marker": {
          "color": "#B6E880",
          "symbol": "circle"
         },
         "mode": "markers",
         "name": "Chavez, Ralph U.",
         "orientation": "v",
         "showlegend": true,
         "type": "scatter",
         "x": [
          37
         ],
         "xaxis": "x",
         "y": [
          37871.7082
         ],
         "yaxis": "y"
        },
        {
         "hovertemplate": "Customer Name=Whitaker, Adena B.<br>Age=%{x}<br>Car Purchase Amount=%{y}<extra></extra>",
         "legendgroup": "Whitaker, Adena B.",
         "marker": {
          "color": "#FF97FF",
          "symbol": "circle"
         },
         "mode": "markers",
         "name": "Whitaker, Adena B.",
         "orientation": "v",
         "showlegend": true,
         "type": "scatter",
         "x": [
          48
         ],
         "xaxis": "x",
         "y": [
          42919.5196
         ],
         "yaxis": "y"
        },
        {
         "hovertemplate": "Customer Name=Nola<br>Age=%{x}<br>Car Purchase Amount=%{y}<extra></extra>",
         "legendgroup": "Nola",
         "marker": {
          "color": "#FECB52",
          "symbol": "circle"
         },
         "mode": "markers",
         "name": "Nola",
         "orientation": "v",
         "showlegend": true,
         "type": "scatter",
         "x": [
          32
         ],
         "xaxis": "x",
         "y": [
          22599.45863
         ],
         "yaxis": "y"
        },
        {
         "hovertemplate": "Customer Name=Melodie<br>Age=%{x}<br>Car Purchase Amount=%{y}<extra></extra>",
         "legendgroup": "Melodie",
         "marker": {
          "color": "#636efa",
          "symbol": "circle"
         },
         "mode": "markers",
         "name": "Melodie",
         "orientation": "v",
         "showlegend": true,
         "type": "scatter",
         "x": [
          62
         ],
         "xaxis": "x",
         "y": [
          70598.96768
         ],
         "yaxis": "y"
        },
        {
         "hovertemplate": "Customer Name=Seth<br>Age=%{x}<br>Car Purchase Amount=%{y}<extra></extra>",
         "legendgroup": "Seth",
         "marker": {
          "color": "#EF553B",
          "symbol": "circle"
         },
         "mode": "markers",
         "name": "Seth",
         "orientation": "v",
         "showlegend": true,
         "type": "scatter",
         "x": [
          49,
          48
         ],
         "xaxis": "x",
         "y": [
          43242.58224,
          40102.11417
         ],
         "yaxis": "y"
        },
        {
         "hovertemplate": "Customer Name=Kyra<br>Age=%{x}<br>Car Purchase Amount=%{y}<extra></extra>",
         "legendgroup": "Kyra",
         "marker": {
          "color": "#00cc96",
          "symbol": "circle"
         },
         "mode": "markers",
         "name": "Kyra",
         "orientation": "v",
         "showlegend": true,
         "type": "scatter",
         "x": [
          43
         ],
         "xaxis": "x",
         "y": [
          38138.57511
         ],
         "yaxis": "y"
        },
        {
         "hovertemplate": "Customer Name=Caldwell<br>Age=%{x}<br>Car Purchase Amount=%{y}<extra></extra>",
         "legendgroup": "Caldwell",
         "marker": {
          "color": "#ab63fa",
          "symbol": "circle"
         },
         "mode": "markers",
         "name": "Caldwell",
         "orientation": "v",
         "showlegend": true,
         "type": "scatter",
         "x": [
          36
         ],
         "xaxis": "x",
         "y": [
          30419.8
         ],
         "yaxis": "y"
        },
        {
         "hovertemplate": "Customer Name=Benjamin<br>Age=%{x}<br>Car Purchase Amount=%{y}<extra></extra>",
         "legendgroup": "Benjamin",
         "marker": {
          "color": "#FFA15A",
          "symbol": "circle"
         },
         "mode": "markers",
         "name": "Benjamin",
         "orientation": "v",
         "showlegend": true,
         "type": "scatter",
         "x": [
          61
         ],
         "xaxis": "x",
         "y": [
          63868.94051
         ],
         "yaxis": "y"
        },
        {
         "hovertemplate": "Customer Name=Florence<br>Age=%{x}<br>Car Purchase Amount=%{y}<extra></extra>",
         "legendgroup": "Florence",
         "marker": {
          "color": "#19d3f3",
          "symbol": "circle"
         },
         "mode": "markers",
         "name": "Florence",
         "orientation": "v",
         "showlegend": true,
         "type": "scatter",
         "x": [
          46
         ],
         "xaxis": "x",
         "y": [
          45112.94547
         ],
         "yaxis": "y"
        },
        {
         "hovertemplate": "Customer Name=Oleg<br>Age=%{x}<br>Car Purchase Amount=%{y}<extra></extra>",
         "legendgroup": "Oleg",
         "marker": {
          "color": "#FF6692",
          "symbol": "circle"
         },
         "mode": "markers",
         "name": "Oleg",
         "orientation": "v",
         "showlegend": true,
         "type": "scatter",
         "x": [
          57
         ],
         "xaxis": "x",
         "y": [
          44361.87507
         ],
         "yaxis": "y"
        },
        {
         "hovertemplate": "Customer Name=Donovan<br>Age=%{x}<br>Car Purchase Amount=%{y}<extra></extra>",
         "legendgroup": "Donovan",
         "marker": {
          "color": "#B6E880",
          "symbol": "circle"
         },
         "mode": "markers",
         "name": "Donovan",
         "orientation": "v",
         "showlegend": true,
         "type": "scatter",
         "x": [
          36
         ],
         "xaxis": "x",
         "y": [
          19525.29827
         ],
         "yaxis": "y"
        },
        {
         "hovertemplate": "Customer Name=Blaze<br>Age=%{x}<br>Car Purchase Amount=%{y}<extra></extra>",
         "legendgroup": "Blaze",
         "marker": {
          "color": "#FF97FF",
          "symbol": "circle"
         },
         "mode": "markers",
         "name": "Blaze",
         "orientation": "v",
         "showlegend": true,
         "type": "scatter",
         "x": [
          49
         ],
         "xaxis": "x",
         "y": [
          49991.60697
         ],
         "yaxis": "y"
        },
        {
         "hovertemplate": "Customer Name=Illana<br>Age=%{x}<br>Car Purchase Amount=%{y}<extra></extra>",
         "legendgroup": "Illana",
         "marker": {
          "color": "#FECB52",
          "symbol": "circle"
         },
         "mode": "markers",
         "name": "Illana",
         "orientation": "v",
         "showlegend": true,
         "type": "scatter",
         "x": [
          63
         ],
         "xaxis": "x",
         "y": [
          61731.71426
         ],
         "yaxis": "y"
        },
        {
         "hovertemplate": "Customer Name=Yvette<br>Age=%{x}<br>Car Purchase Amount=%{y}<extra></extra>",
         "legendgroup": "Yvette",
         "marker": {
          "color": "#636efa",
          "symbol": "circle"
         },
         "mode": "markers",
         "name": "Yvette",
         "orientation": "v",
         "showlegend": true,
         "type": "scatter",
         "x": [
          49
         ],
         "xaxis": "x",
         "y": [
          41769.38288
         ],
         "yaxis": "y"
        },
        {
         "hovertemplate": "Customer Name=Walter<br>Age=%{x}<br>Car Purchase Amount=%{y}<extra></extra>",
         "legendgroup": "Walter",
         "marker": {
          "color": "#EF553B",
          "symbol": "circle"
         },
         "mode": "markers",
         "name": "Walter",
         "orientation": "v",
         "showlegend": true,
         "type": "scatter",
         "x": [
          44,
          41
         ],
         "xaxis": "x",
         "y": [
          46402.53583,
          48901.44342
         ],
         "yaxis": "y"
        },
        {
         "hovertemplate": "Customer Name=Dexter<br>Age=%{x}<br>Car Purchase Amount=%{y}<extra></extra>",
         "legendgroup": "Dexter",
         "marker": {
          "color": "#00cc96",
          "symbol": "circle"
         },
         "mode": "markers",
         "name": "Dexter",
         "orientation": "v",
         "showlegend": true,
         "type": "scatter",
         "x": [
          43
         ],
         "xaxis": "x",
         "y": [
          37376.63439
         ],
         "yaxis": "y"
        },
        {
         "hovertemplate": "Customer Name=Cameran<br>Age=%{x}<br>Car Purchase Amount=%{y}<extra></extra>",
         "legendgroup": "Cameran",
         "marker": {
          "color": "#ab63fa",
          "symbol": "circle"
         },
         "mode": "markers",
         "name": "Cameran",
         "orientation": "v",
         "showlegend": true,
         "type": "scatter",
         "x": [
          48
         ],
         "xaxis": "x",
         "y": [
          33766.6413
         ],
         "yaxis": "y"
        },
        {
         "hovertemplate": "Customer Name=Penelope<br>Age=%{x}<br>Car Purchase Amount=%{y}<extra></extra>",
         "legendgroup": "Penelope",
         "marker": {
          "color": "#FFA15A",
          "symbol": "circle"
         },
         "mode": "markers",
         "name": "Penelope",
         "orientation": "v",
         "showlegend": true,
         "type": "scatter",
         "x": [
          37
         ],
         "xaxis": "x",
         "y": [
          30667.60927
         ],
         "yaxis": "y"
        },
        {
         "hovertemplate": "Customer Name=Hyatt<br>Age=%{x}<br>Car Purchase Amount=%{y}<extra></extra>",
         "legendgroup": "Hyatt",
         "marker": {
          "color": "#19d3f3",
          "symbol": "circle"
         },
         "mode": "markers",
         "name": "Hyatt",
         "orientation": "v",
         "showlegend": true,
         "type": "scatter",
         "x": [
          49
         ],
         "xaxis": "x",
         "y": [
          52056.41478
         ],
         "yaxis": "y"
        },
        {
         "hovertemplate": "Customer Name=Stone<br>Age=%{x}<br>Car Purchase Amount=%{y}<extra></extra>",
         "legendgroup": "Stone",
         "marker": {
          "color": "#FF6692",
          "symbol": "circle"
         },
         "mode": "markers",
         "name": "Stone",
         "orientation": "v",
         "showlegend": true,
         "type": "scatter",
         "x": [
          40
         ],
         "xaxis": "x",
         "y": [
          30736.5798
         ],
         "yaxis": "y"
        },
        {
         "hovertemplate": "Customer Name=Irma<br>Age=%{x}<br>Car Purchase Amount=%{y}<extra></extra>",
         "legendgroup": "Irma",
         "marker": {
          "color": "#B6E880",
          "symbol": "circle"
         },
         "mode": "markers",
         "name": "Irma",
         "orientation": "v",
         "showlegend": true,
         "type": "scatter",
         "x": [
          42
         ],
         "xaxis": "x",
         "y": [
          39439.45349
         ],
         "yaxis": "y"
        },
        {
         "hovertemplate": "Customer Name=Josiah<br>Age=%{x}<br>Car Purchase Amount=%{y}<extra></extra>",
         "legendgroup": "Josiah",
         "marker": {
          "color": "#FF97FF",
          "symbol": "circle"
         },
         "mode": "markers",
         "name": "Josiah",
         "orientation": "v",
         "showlegend": true,
         "type": "scatter",
         "x": [
          30
         ],
         "xaxis": "x",
         "y": [
          38174.87433
         ],
         "yaxis": "y"
        },
        {
         "hovertemplate": "Customer Name=Nathan<br>Age=%{x}<br>Car Purchase Amount=%{y}<extra></extra>",
         "legendgroup": "Nathan",
         "marker": {
          "color": "#FECB52",
          "symbol": "circle"
         },
         "mode": "markers",
         "name": "Nathan",
         "orientation": "v",
         "showlegend": true,
         "type": "scatter",
         "x": [
          43
         ],
         "xaxis": "x",
         "y": [
          40589.8625
         ],
         "yaxis": "y"
        },
        {
         "hovertemplate": "Customer Name=Stacy<br>Age=%{x}<br>Car Purchase Amount=%{y}<extra></extra>",
         "legendgroup": "Stacy",
         "marker": {
          "color": "#636efa",
          "symbol": "circle"
         },
         "mode": "markers",
         "name": "Stacy",
         "orientation": "v",
         "showlegend": true,
         "type": "scatter",
         "x": [
          55
         ],
         "xaxis": "x",
         "y": [
          62028.71192
         ],
         "yaxis": "y"
        },
        {
         "hovertemplate": "Customer Name=Kane<br>Age=%{x}<br>Car Purchase Amount=%{y}<extra></extra>",
         "legendgroup": "Kane",
         "marker": {
          "color": "#EF553B",
          "symbol": "circle"
         },
         "mode": "markers",
         "name": "Kane",
         "orientation": "v",
         "showlegend": true,
         "type": "scatter",
         "x": [
          40
         ],
         "xaxis": "x",
         "y": [
          48465.27211
         ],
         "yaxis": "y"
        },
        {
         "hovertemplate": "Customer Name=Reed<br>Age=%{x}<br>Car Purchase Amount=%{y}<extra></extra>",
         "legendgroup": "Reed",
         "marker": {
          "color": "#00cc96",
          "symbol": "circle"
         },
         "mode": "markers",
         "name": "Reed",
         "orientation": "v",
         "showlegend": true,
         "type": "scatter",
         "x": [
          38
         ],
         "xaxis": "x",
         "y": [
          40095.0498
         ],
         "yaxis": "y"
        },
        {
         "hovertemplate": "Customer Name=Lani<br>Age=%{x}<br>Car Purchase Amount=%{y}<extra></extra>",
         "legendgroup": "Lani",
         "marker": {
          "color": "#ab63fa",
          "symbol": "circle"
         },
         "mode": "markers",
         "name": "Lani",
         "orientation": "v",
         "showlegend": true,
         "type": "scatter",
         "x": [
          43
         ],
         "xaxis": "x",
         "y": [
          49568.47685
         ],
         "yaxis": "y"
        },
        {
         "hovertemplate": "Customer Name=Curran<br>Age=%{x}<br>Car Purchase Amount=%{y}<extra></extra>",
         "legendgroup": "Curran",
         "marker": {
          "color": "#FFA15A",
          "symbol": "circle"
         },
         "mode": "markers",
         "name": "Curran",
         "orientation": "v",
         "showlegend": true,
         "type": "scatter",
         "x": [
          37
         ],
         "xaxis": "x",
         "y": [
          31408.62631
         ],
         "yaxis": "y"
        },
        {
         "hovertemplate": "Customer Name=Rhonda<br>Age=%{x}<br>Car Purchase Amount=%{y}<extra></extra>",
         "legendgroup": "Rhonda",
         "marker": {
          "color": "#19d3f3",
          "symbol": "circle"
         },
         "mode": "markers",
         "name": "Rhonda",
         "orientation": "v",
         "showlegend": true,
         "type": "scatter",
         "x": [
          41
         ],
         "xaxis": "x",
         "y": [
          47719.47741
         ],
         "yaxis": "y"
        },
        {
         "hovertemplate": "Customer Name=Leroy<br>Age=%{x}<br>Car Purchase Amount=%{y}<extra></extra>",
         "legendgroup": "Leroy",
         "marker": {
          "color": "#FF6692",
          "symbol": "circle"
         },
         "mode": "markers",
         "name": "Leroy",
         "orientation": "v",
         "showlegend": true,
         "type": "scatter",
         "x": [
          42
         ],
         "xaxis": "x",
         "y": [
          35784.42411
         ],
         "yaxis": "y"
        },
        {
         "hovertemplate": "Customer Name=Adrienne<br>Age=%{x}<br>Car Purchase Amount=%{y}<extra></extra>",
         "legendgroup": "Adrienne",
         "marker": {
          "color": "#B6E880",
          "symbol": "circle"
         },
         "mode": "markers",
         "name": "Adrienne",
         "orientation": "v",
         "showlegend": true,
         "type": "scatter",
         "x": [
          38
         ],
         "xaxis": "x",
         "y": [
          42905.53815
         ],
         "yaxis": "y"
        },
        {
         "hovertemplate": "Customer Name=Aileen<br>Age=%{x}<br>Car Purchase Amount=%{y}<extra></extra>",
         "legendgroup": "Aileen",
         "marker": {
          "color": "#FF97FF",
          "symbol": "circle"
         },
         "mode": "markers",
         "name": "Aileen",
         "orientation": "v",
         "showlegend": true,
         "type": "scatter",
         "x": [
          43
         ],
         "xaxis": "x",
         "y": [
          48516.84335
         ],
         "yaxis": "y"
        },
        {
         "hovertemplate": "Customer Name=Rafael<br>Age=%{x}<br>Car Purchase Amount=%{y}<extra></extra>",
         "legendgroup": "Rafael",
         "marker": {
          "color": "#FECB52",
          "symbol": "circle"
         },
         "mode": "markers",
         "name": "Rafael",
         "orientation": "v",
         "showlegend": true,
         "type": "scatter",
         "x": [
          44
         ],
         "xaxis": "x",
         "y": [
          45593.6849
         ],
         "yaxis": "y"
        },
        {
         "hovertemplate": "Customer Name=Olivia<br>Age=%{x}<br>Car Purchase Amount=%{y}<extra></extra>",
         "legendgroup": "Olivia",
         "marker": {
          "color": "#636efa",
          "symbol": "circle"
         },
         "mode": "markers",
         "name": "Olivia",
         "orientation": "v",
         "showlegend": true,
         "type": "scatter",
         "x": [
          41
         ],
         "xaxis": "x",
         "y": [
          32061.6467
         ],
         "yaxis": "y"
        },
        {
         "hovertemplate": "Customer Name=Hiram<br>Age=%{x}<br>Car Purchase Amount=%{y}<extra></extra>",
         "legendgroup": "Hiram",
         "marker": {
          "color": "#EF553B",
          "symbol": "circle"
         },
         "mode": "markers",
         "name": "Hiram",
         "orientation": "v",
         "showlegend": true,
         "type": "scatter",
         "x": [
          46
         ],
         "xaxis": "x",
         "y": [
          32208.37522
         ],
         "yaxis": "y"
        },
        {
         "hovertemplate": "Customer Name=Jelani<br>Age=%{x}<br>Car Purchase Amount=%{y}<extra></extra>",
         "legendgroup": "Jelani",
         "marker": {
          "color": "#00cc96",
          "symbol": "circle"
         },
         "mode": "markers",
         "name": "Jelani",
         "orientation": "v",
         "showlegend": true,
         "type": "scatter",
         "x": [
          46
         ],
         "xaxis": "x",
         "y": [
          35475.00344
         ],
         "yaxis": "y"
        },
        {
         "hovertemplate": "Customer Name=Madeson<br>Age=%{x}<br>Car Purchase Amount=%{y}<extra></extra>",
         "legendgroup": "Madeson",
         "marker": {
          "color": "#ab63fa",
          "symbol": "circle"
         },
         "mode": "markers",
         "name": "Madeson",
         "orientation": "v",
         "showlegend": true,
         "type": "scatter",
         "x": [
          40
         ],
         "xaxis": "x",
         "y": [
          29519.56184
         ],
         "yaxis": "y"
        },
        {
         "hovertemplate": "Customer Name=Uriah<br>Age=%{x}<br>Car Purchase Amount=%{y}<extra></extra>",
         "legendgroup": "Uriah",
         "marker": {
          "color": "#FFA15A",
          "symbol": "circle"
         },
         "mode": "markers",
         "name": "Uriah",
         "orientation": "v",
         "showlegend": true,
         "type": "scatter",
         "x": [
          45
         ],
         "xaxis": "x",
         "y": [
          55420.56668
         ],
         "yaxis": "y"
        },
        {
         "hovertemplate": "Customer Name=Brady<br>Age=%{x}<br>Car Purchase Amount=%{y}<extra></extra>",
         "legendgroup": "Brady",
         "marker": {
          "color": "#19d3f3",
          "symbol": "circle"
         },
         "mode": "markers",
         "name": "Brady",
         "orientation": "v",
         "showlegend": true,
         "type": "scatter",
         "x": [
          58
         ],
         "xaxis": "x",
         "y": [
          42139.64528
         ],
         "yaxis": "y"
        },
        {
         "hovertemplate": "Customer Name=Denise<br>Age=%{x}<br>Car Purchase Amount=%{y}<extra></extra>",
         "legendgroup": "Denise",
         "marker": {
          "color": "#FF6692",
          "symbol": "circle"
         },
         "mode": "markers",
         "name": "Denise",
         "orientation": "v",
         "showlegend": true,
         "type": "scatter",
         "x": [
          62
         ],
         "xaxis": "x",
         "y": [
          50539.90169
         ],
         "yaxis": "y"
        },
        {
         "hovertemplate": "Customer Name=Lyle<br>Age=%{x}<br>Car Purchase Amount=%{y}<extra></extra>",
         "legendgroup": "Lyle",
         "marker": {
          "color": "#B6E880",
          "symbol": "circle"
         },
         "mode": "markers",
         "name": "Lyle",
         "orientation": "v",
         "showlegend": true,
         "type": "scatter",
         "x": [
          52
         ],
         "xaxis": "x",
         "y": [
          34922.42846
         ],
         "yaxis": "y"
        },
        {
         "hovertemplate": "Customer Name=Victor<br>Age=%{x}<br>Car Purchase Amount=%{y}<extra></extra>",
         "legendgroup": "Victor",
         "marker": {
          "color": "#FF97FF",
          "symbol": "circle"
         },
         "mode": "markers",
         "name": "Victor",
         "orientation": "v",
         "showlegend": true,
         "type": "scatter",
         "x": [
          44
         ],
         "xaxis": "x",
         "y": [
          43898.2733
         ],
         "yaxis": "y"
        },
        {
         "hovertemplate": "Customer Name=Demetria<br>Age=%{x}<br>Car Purchase Amount=%{y}<extra></extra>",
         "legendgroup": "Demetria",
         "marker": {
          "color": "#FECB52",
          "symbol": "circle"
         },
         "mode": "markers",
         "name": "Demetria",
         "orientation": "v",
         "showlegend": true,
         "type": "scatter",
         "x": [
          44
         ],
         "xaxis": "x",
         "y": [
          39135.03023
         ],
         "yaxis": "y"
        },
        {
         "hovertemplate": "Customer Name=Ora<br>Age=%{x}<br>Car Purchase Amount=%{y}<extra></extra>",
         "legendgroup": "Ora",
         "marker": {
          "color": "#636efa",
          "symbol": "circle"
         },
         "mode": "markers",
         "name": "Ora",
         "orientation": "v",
         "showlegend": true,
         "type": "scatter",
         "x": [
          40
         ],
         "xaxis": "x",
         "y": [
          41147.46679
         ],
         "yaxis": "y"
        },
        {
         "hovertemplate": "Customer Name=Trevor<br>Age=%{x}<br>Car Purchase Amount=%{y}<extra></extra>",
         "legendgroup": "Trevor",
         "marker": {
          "color": "#EF553B",
          "symbol": "circle"
         },
         "mode": "markers",
         "name": "Trevor",
         "orientation": "v",
         "showlegend": true,
         "type": "scatter",
         "x": [
          33
         ],
         "xaxis": "x",
         "y": [
          24134.59205
         ],
         "yaxis": "y"
        },
        {
         "hovertemplate": "Customer Name=Kristen<br>Age=%{x}<br>Car Purchase Amount=%{y}<extra></extra>",
         "legendgroup": "Kristen",
         "marker": {
          "color": "#00cc96",
          "symbol": "circle"
         },
         "mode": "markers",
         "name": "Kristen",
         "orientation": "v",
         "showlegend": true,
         "type": "scatter",
         "x": [
          44
         ],
         "xaxis": "x",
         "y": [
          42705.11311
         ],
         "yaxis": "y"
        },
        {
         "hovertemplate": "Customer Name=Aristotle<br>Age=%{x}<br>Car Purchase Amount=%{y}<extra></extra>",
         "legendgroup": "Aristotle",
         "marker": {
          "color": "#ab63fa",
          "symbol": "circle"
         },
         "mode": "markers",
         "name": "Aristotle",
         "orientation": "v",
         "showlegend": true,
         "type": "scatter",
         "x": [
          42
         ],
         "xaxis": "x",
         "y": [
          38901.60925
         ],
         "yaxis": "y"
        },
        {
         "hovertemplate": "Customer Name=Camden<br>Age=%{x}<br>Car Purchase Amount=%{y}<extra></extra>",
         "legendgroup": "Camden",
         "marker": {
          "color": "#FFA15A",
          "symbol": "circle"
         },
         "mode": "markers",
         "name": "Camden",
         "orientation": "v",
         "showlegend": true,
         "type": "scatter",
         "x": [
          20
         ],
         "xaxis": "x",
         "y": [
          28645.39425
         ],
         "yaxis": "y"
        },
        {
         "hovertemplate": "Customer Name=Urielle<br>Age=%{x}<br>Car Purchase Amount=%{y}<extra></extra>",
         "legendgroup": "Urielle",
         "marker": {
          "color": "#19d3f3",
          "symbol": "circle"
         },
         "mode": "markers",
         "name": "Urielle",
         "orientation": "v",
         "showlegend": true,
         "type": "scatter",
         "x": [
          53
         ],
         "xaxis": "x",
         "y": [
          52150.41786
         ],
         "yaxis": "y"
        },
        {
         "hovertemplate": "Customer Name=Jolene<br>Age=%{x}<br>Car Purchase Amount=%{y}<extra></extra>",
         "legendgroup": "Jolene",
         "marker": {
          "color": "#FF6692",
          "symbol": "circle"
         },
         "mode": "markers",
         "name": "Jolene",
         "orientation": "v",
         "showlegend": true,
         "type": "scatter",
         "x": [
          56
         ],
         "xaxis": "x",
         "y": [
          66648.25077
         ],
         "yaxis": "y"
        },
        {
         "hovertemplate": "Customer Name=Holly<br>Age=%{x}<br>Car Purchase Amount=%{y}<extra></extra>",
         "legendgroup": "Holly",
         "marker": {
          "color": "#B6E880",
          "symbol": "circle"
         },
         "mode": "markers",
         "name": "Holly",
         "orientation": "v",
         "showlegend": true,
         "type": "scatter",
         "x": [
          44
         ],
         "xaxis": "x",
         "y": [
          42909.27129
         ],
         "yaxis": "y"
        },
        {
         "hovertemplate": "Customer Name=Wayne<br>Age=%{x}<br>Car Purchase Amount=%{y}<extra></extra>",
         "legendgroup": "Wayne",
         "marker": {
          "color": "#FF97FF",
          "symbol": "circle"
         },
         "mode": "markers",
         "name": "Wayne",
         "orientation": "v",
         "showlegend": true,
         "type": "scatter",
         "x": [
          52
         ],
         "xaxis": "x",
         "y": [
          49248.10595
         ],
         "yaxis": "y"
        },
        {
         "hovertemplate": "Customer Name=Judith<br>Age=%{x}<br>Car Purchase Amount=%{y}<extra></extra>",
         "legendgroup": "Judith",
         "marker": {
          "color": "#FECB52",
          "symbol": "circle"
         },
         "mode": "markers",
         "name": "Judith",
         "orientation": "v",
         "showlegend": true,
         "type": "scatter",
         "x": [
          43
         ],
         "xaxis": "x",
         "y": [
          27303.17104
         ],
         "yaxis": "y"
        },
        {
         "hovertemplate": "Customer Name=Dennis<br>Age=%{x}<br>Car Purchase Amount=%{y}<extra></extra>",
         "legendgroup": "Dennis",
         "marker": {
          "color": "#636efa",
          "symbol": "circle"
         },
         "mode": "markers",
         "name": "Dennis",
         "orientation": "v",
         "showlegend": true,
         "type": "scatter",
         "x": [
          49
         ],
         "xaxis": "x",
         "y": [
          47869.82593
         ],
         "yaxis": "y"
        },
        {
         "hovertemplate": "Customer Name=Kaitlin<br>Age=%{x}<br>Car Purchase Amount=%{y}<extra></extra>",
         "legendgroup": "Kaitlin",
         "marker": {
          "color": "#EF553B",
          "symbol": "circle"
         },
         "mode": "markers",
         "name": "Kaitlin",
         "orientation": "v",
         "showlegend": true,
         "type": "scatter",
         "x": [
          56
         ],
         "xaxis": "x",
         "y": [
          59984.16361
         ],
         "yaxis": "y"
        },
        {
         "hovertemplate": "Customer Name=Harriet<br>Age=%{x}<br>Car Purchase Amount=%{y}<extra></extra>",
         "legendgroup": "Harriet",
         "marker": {
          "color": "#00cc96",
          "symbol": "circle"
         },
         "mode": "markers",
         "name": "Harriet",
         "orientation": "v",
         "showlegend": true,
         "type": "scatter",
         "x": [
          47
         ],
         "xaxis": "x",
         "y": [
          45271.46081
         ],
         "yaxis": "y"
        },
        {
         "hovertemplate": "Customer Name=Tatyana<br>Age=%{x}<br>Car Purchase Amount=%{y}<extra></extra>",
         "legendgroup": "Tatyana",
         "marker": {
          "color": "#ab63fa",
          "symbol": "circle"
         },
         "mode": "markers",
         "name": "Tatyana",
         "orientation": "v",
         "showlegend": true,
         "type": "scatter",
         "x": [
          25
         ],
         "xaxis": "x",
         "y": [
          9000
         ],
         "yaxis": "y"
        },
        {
         "hovertemplate": "Customer Name=Paula<br>Age=%{x}<br>Car Purchase Amount=%{y}<extra></extra>",
         "legendgroup": "Paula",
         "marker": {
          "color": "#FFA15A",
          "symbol": "circle"
         },
         "mode": "markers",
         "name": "Paula",
         "orientation": "v",
         "showlegend": true,
         "type": "scatter",
         "x": [
          45
         ],
         "xaxis": "x",
         "y": [
          46012.10616
         ],
         "yaxis": "y"
        },
        {
         "hovertemplate": "Customer Name=Tamekah<br>Age=%{x}<br>Car Purchase Amount=%{y}<extra></extra>",
         "legendgroup": "Tamekah",
         "marker": {
          "color": "#19d3f3",
          "symbol": "circle"
         },
         "mode": "markers",
         "name": "Tamekah",
         "orientation": "v",
         "showlegend": true,
         "type": "scatter",
         "x": [
          46
         ],
         "xaxis": "x",
         "y": [
          32967.20191
         ],
         "yaxis": "y"
        },
        {
         "hovertemplate": "Customer Name=Brandon<br>Age=%{x}<br>Car Purchase Amount=%{y}<extra></extra>",
         "legendgroup": "Brandon",
         "marker": {
          "color": "#FF6692",
          "symbol": "circle"
         },
         "mode": "markers",
         "name": "Brandon",
         "orientation": "v",
         "showlegend": true,
         "type": "scatter",
         "x": [
          33
         ],
         "xaxis": "x",
         "y": [
          48785.15839
         ],
         "yaxis": "y"
        },
        {
         "hovertemplate": "Customer Name=Veda<br>Age=%{x}<br>Car Purchase Amount=%{y}<extra></extra>",
         "legendgroup": "Veda",
         "marker": {
          "color": "#B6E880",
          "symbol": "circle"
         },
         "mode": "markers",
         "name": "Veda",
         "orientation": "v",
         "showlegend": true,
         "type": "scatter",
         "x": [
          43
         ],
         "xaxis": "x",
         "y": [
          45824.5656
         ],
         "yaxis": "y"
        },
        {
         "hovertemplate": "Customer Name=Kai<br>Age=%{x}<br>Car Purchase Amount=%{y}<extra></extra>",
         "legendgroup": "Kai",
         "marker": {
          "color": "#FF97FF",
          "symbol": "circle"
         },
         "mode": "markers",
         "name": "Kai",
         "orientation": "v",
         "showlegend": true,
         "type": "scatter",
         "x": [
          48
         ],
         "xaxis": "x",
         "y": [
          35457.1486
         ],
         "yaxis": "y"
        },
        {
         "hovertemplate": "Customer Name=Piper<br>Age=%{x}<br>Car Purchase Amount=%{y}<extra></extra>",
         "legendgroup": "Piper",
         "marker": {
          "color": "#FECB52",
          "symbol": "circle"
         },
         "mode": "markers",
         "name": "Piper",
         "orientation": "v",
         "showlegend": true,
         "type": "scatter",
         "x": [
          40
         ],
         "xaxis": "x",
         "y": [
          29556.7932
         ],
         "yaxis": "y"
        },
        {
         "hovertemplate": "Customer Name=Hillary<br>Age=%{x}<br>Car Purchase Amount=%{y}<extra></extra>",
         "legendgroup": "Hillary",
         "marker": {
          "color": "#636efa",
          "symbol": "circle"
         },
         "mode": "markers",
         "name": "Hillary",
         "orientation": "v",
         "showlegend": true,
         "type": "scatter",
         "x": [
          39
         ],
         "xaxis": "x",
         "y": [
          38243.06228
         ],
         "yaxis": "y"
        },
        {
         "hovertemplate": "Customer Name=Francis<br>Age=%{x}<br>Car Purchase Amount=%{y}<extra></extra>",
         "legendgroup": "Francis",
         "marker": {
          "color": "#EF553B",
          "symbol": "circle"
         },
         "mode": "markers",
         "name": "Francis",
         "orientation": "v",
         "showlegend": true,
         "type": "scatter",
         "x": [
          39
         ],
         "xaxis": "x",
         "y": [
          44430.63323
         ],
         "yaxis": "y"
        },
        {
         "hovertemplate": "Customer Name=Rogan<br>Age=%{x}<br>Car Purchase Amount=%{y}<extra></extra>",
         "legendgroup": "Rogan",
         "marker": {
          "color": "#00cc96",
          "symbol": "circle"
         },
         "mode": "markers",
         "name": "Rogan",
         "orientation": "v",
         "showlegend": true,
         "type": "scatter",
         "x": [
          54
         ],
         "xaxis": "x",
         "y": [
          51046.42226
         ],
         "yaxis": "y"
        },
        {
         "hovertemplate": "Customer Name=Kyle<br>Age=%{x}<br>Car Purchase Amount=%{y}<extra></extra>",
         "legendgroup": "Kyle",
         "marker": {
          "color": "#ab63fa",
          "symbol": "circle"
         },
         "mode": "markers",
         "name": "Kyle",
         "orientation": "v",
         "showlegend": true,
         "type": "scatter",
         "x": [
          53
         ],
         "xaxis": "x",
         "y": [
          52570.36517
         ],
         "yaxis": "y"
        },
        {
         "hovertemplate": "Customer Name=Vaughan<br>Age=%{x}<br>Car Purchase Amount=%{y}<extra></extra>",
         "legendgroup": "Vaughan",
         "marker": {
          "color": "#FFA15A",
          "symbol": "circle"
         },
         "mode": "markers",
         "name": "Vaughan",
         "orientation": "v",
         "showlegend": true,
         "type": "scatter",
         "x": [
          51
         ],
         "xaxis": "x",
         "y": [
          61404.22578
         ],
         "yaxis": "y"
        },
        {
         "hovertemplate": "Customer Name=India<br>Age=%{x}<br>Car Purchase Amount=%{y}<extra></extra>",
         "legendgroup": "India",
         "marker": {
          "color": "#19d3f3",
          "symbol": "circle"
         },
         "mode": "markers",
         "name": "India",
         "orientation": "v",
         "showlegend": true,
         "type": "scatter",
         "x": [
          55
         ],
         "xaxis": "x",
         "y": [
          28463.64326
         ],
         "yaxis": "y"
        },
        {
         "hovertemplate": "Customer Name=Edward<br>Age=%{x}<br>Car Purchase Amount=%{y}<extra></extra>",
         "legendgroup": "Edward",
         "marker": {
          "color": "#FF6692",
          "symbol": "circle"
         },
         "mode": "markers",
         "name": "Edward",
         "orientation": "v",
         "showlegend": true,
         "type": "scatter",
         "x": [
          35
         ],
         "xaxis": "x",
         "y": [
          27586.20078
         ],
         "yaxis": "y"
        },
        {
         "hovertemplate": "Customer Name=Laurel<br>Age=%{x}<br>Car Purchase Amount=%{y}<extra></extra>",
         "legendgroup": "Laurel",
         "marker": {
          "color": "#B6E880",
          "symbol": "circle"
         },
         "mode": "markers",
         "name": "Laurel",
         "orientation": "v",
         "showlegend": true,
         "type": "scatter",
         "x": [
          43
         ],
         "xaxis": "x",
         "y": [
          47979.48549
         ],
         "yaxis": "y"
        },
        {
         "hovertemplate": "Customer Name=Igor<br>Age=%{x}<br>Car Purchase Amount=%{y}<extra></extra>",
         "legendgroup": "Igor",
         "marker": {
          "color": "#FF97FF",
          "symbol": "circle"
         },
         "mode": "markers",
         "name": "Igor",
         "orientation": "v",
         "showlegend": true,
         "type": "scatter",
         "x": [
          37
         ],
         "xaxis": "x",
         "y": [
          28164.86039
         ],
         "yaxis": "y"
        },
        {
         "hovertemplate": "Customer Name=Diana<br>Age=%{x}<br>Car Purchase Amount=%{y}<extra></extra>",
         "legendgroup": "Diana",
         "marker": {
          "color": "#FECB52",
          "symbol": "circle"
         },
         "mode": "markers",
         "name": "Diana",
         "orientation": "v",
         "showlegend": true,
         "type": "scatter",
         "x": [
          60
         ],
         "xaxis": "x",
         "y": [
          69669.47402
         ],
         "yaxis": "y"
        },
        {
         "hovertemplate": "Customer Name=Todd<br>Age=%{x}<br>Car Purchase Amount=%{y}<extra></extra>",
         "legendgroup": "Todd",
         "marker": {
          "color": "#636efa",
          "symbol": "circle"
         },
         "mode": "markers",
         "name": "Todd",
         "orientation": "v",
         "showlegend": true,
         "type": "scatter",
         "x": [
          44
         ],
         "xaxis": "x",
         "y": [
          48052.65091
         ],
         "yaxis": "y"
        },
        {
         "hovertemplate": "Customer Name=Zephania<br>Age=%{x}<br>Car Purchase Amount=%{y}<extra></extra>",
         "legendgroup": "Zephania",
         "marker": {
          "color": "#EF553B",
          "symbol": "circle"
         },
         "mode": "markers",
         "name": "Zephania",
         "orientation": "v",
         "showlegend": true,
         "type": "scatter",
         "x": [
          39
         ],
         "xaxis": "x",
         "y": [
          37364.23474
         ],
         "yaxis": "y"
        },
        {
         "hovertemplate": "Customer Name=Brock<br>Age=%{x}<br>Car Purchase Amount=%{y}<extra></extra>",
         "legendgroup": "Brock",
         "marker": {
          "color": "#00cc96",
          "symbol": "circle"
         },
         "mode": "markers",
         "name": "Brock",
         "orientation": "v",
         "showlegend": true,
         "type": "scatter",
         "x": [
          42
         ],
         "xaxis": "x",
         "y": [
          44500.81936
         ],
         "yaxis": "y"
        },
        {
         "hovertemplate": "Customer Name=Avye<br>Age=%{x}<br>Car Purchase Amount=%{y}<extra></extra>",
         "legendgroup": "Avye",
         "marker": {
          "color": "#ab63fa",
          "symbol": "circle"
         },
         "mode": "markers",
         "name": "Avye",
         "orientation": "v",
         "showlegend": true,
         "type": "scatter",
         "x": [
          32
         ],
         "xaxis": "x",
         "y": [
          35139.24793
         ],
         "yaxis": "y"
        },
        {
         "hovertemplate": "Customer Name=Serena<br>Age=%{x}<br>Car Purchase Amount=%{y}<extra></extra>",
         "legendgroup": "Serena",
         "marker": {
          "color": "#FFA15A",
          "symbol": "circle"
         },
         "mode": "markers",
         "name": "Serena",
         "orientation": "v",
         "showlegend": true,
         "type": "scatter",
         "x": [
          52
         ],
         "xaxis": "x",
         "y": [
          55167.37361
         ],
         "yaxis": "y"
        },
        {
         "hovertemplate": "Customer Name=Barclay<br>Age=%{x}<br>Car Purchase Amount=%{y}<extra></extra>",
         "legendgroup": "Barclay",
         "marker": {
          "color": "#19d3f3",
          "symbol": "circle"
         },
         "mode": "markers",
         "name": "Barclay",
         "orientation": "v",
         "showlegend": true,
         "type": "scatter",
         "x": [
          56
         ],
         "xaxis": "x",
         "y": [
          48383.69071
         ],
         "yaxis": "y"
        },
        {
         "hovertemplate": "Customer Name=Isabella<br>Age=%{x}<br>Car Purchase Amount=%{y}<extra></extra>",
         "legendgroup": "Isabella",
         "marker": {
          "color": "#FF6692",
          "symbol": "circle"
         },
         "mode": "markers",
         "name": "Isabella",
         "orientation": "v",
         "showlegend": true,
         "type": "scatter",
         "x": [
          41
         ],
         "xaxis": "x",
         "y": [
          35823.55471
         ],
         "yaxis": "y"
        },
        {
         "hovertemplate": "Customer Name=Mia<br>Age=%{x}<br>Car Purchase Amount=%{y}<extra></extra>",
         "legendgroup": "Mia",
         "marker": {
          "color": "#B6E880",
          "symbol": "circle"
         },
         "mode": "markers",
         "name": "Mia",
         "orientation": "v",
         "showlegend": true,
         "type": "scatter",
         "x": [
          51
         ],
         "xaxis": "x",
         "y": [
          36517.70996
         ],
         "yaxis": "y"
        },
        {
         "hovertemplate": "Customer Name=Chester<br>Age=%{x}<br>Car Purchase Amount=%{y}<extra></extra>",
         "legendgroup": "Chester",
         "marker": {
          "color": "#FF97FF",
          "symbol": "circle"
         },
         "mode": "markers",
         "name": "Chester",
         "orientation": "v",
         "showlegend": true,
         "type": "scatter",
         "x": [
          58
         ],
         "xaxis": "x",
         "y": [
          53110.88052
         ],
         "yaxis": "y"
        },
        {
         "hovertemplate": "Customer Name=Isaac<br>Age=%{x}<br>Car Purchase Amount=%{y}<extra></extra>",
         "legendgroup": "Isaac",
         "marker": {
          "color": "#FECB52",
          "symbol": "circle"
         },
         "mode": "markers",
         "name": "Isaac",
         "orientation": "v",
         "showlegend": true,
         "type": "scatter",
         "x": [
          51
         ],
         "xaxis": "x",
         "y": [
          53049.44567
         ],
         "yaxis": "y"
        },
        {
         "hovertemplate": "Customer Name=Heather<br>Age=%{x}<br>Car Purchase Amount=%{y}<extra></extra>",
         "legendgroup": "Heather",
         "marker": {
          "color": "#636efa",
          "symbol": "circle"
         },
         "mode": "markers",
         "name": "Heather",
         "orientation": "v",
         "showlegend": true,
         "type": "scatter",
         "x": [
          29
         ],
         "xaxis": "x",
         "y": [
          21471.11367
         ],
         "yaxis": "y"
        },
        {
         "hovertemplate": "Customer Name=Justine<br>Age=%{x}<br>Car Purchase Amount=%{y}<extra></extra>",
         "legendgroup": "Justine",
         "marker": {
          "color": "#EF553B",
          "symbol": "circle"
         },
         "mode": "markers",
         "name": "Justine",
         "orientation": "v",
         "showlegend": true,
         "type": "scatter",
         "x": [
          53
         ],
         "xaxis": "x",
         "y": [
          45015.67953
         ],
         "yaxis": "y"
        },
        {
         "hovertemplate": "Customer Name=Bert<br>Age=%{x}<br>Car Purchase Amount=%{y}<extra></extra>",
         "legendgroup": "Bert",
         "marker": {
          "color": "#00cc96",
          "symbol": "circle"
         },
         "mode": "markers",
         "name": "Bert",
         "orientation": "v",
         "showlegend": true,
         "type": "scatter",
         "x": [
          43
         ],
         "xaxis": "x",
         "y": [
          55377.87697
         ],
         "yaxis": "y"
        },
        {
         "hovertemplate": "Customer Name=Gil<br>Age=%{x}<br>Car Purchase Amount=%{y}<extra></extra>",
         "legendgroup": "Gil",
         "marker": {
          "color": "#ab63fa",
          "symbol": "circle"
         },
         "mode": "markers",
         "name": "Gil",
         "orientation": "v",
         "showlegend": true,
         "type": "scatter",
         "x": [
          62
         ],
         "xaxis": "x",
         "y": [
          56510.13294
         ],
         "yaxis": "y"
        },
        {
         "hovertemplate": "Customer Name=Dolan<br>Age=%{x}<br>Car Purchase Amount=%{y}<extra></extra>",
         "legendgroup": "Dolan",
         "marker": {
          "color": "#FFA15A",
          "symbol": "circle"
         },
         "mode": "markers",
         "name": "Dolan",
         "orientation": "v",
         "showlegend": true,
         "type": "scatter",
         "x": [
          60
         ],
         "xaxis": "x",
         "y": [
          47443.74443
         ],
         "yaxis": "y"
        },
        {
         "hovertemplate": "Customer Name=Cheryl<br>Age=%{x}<br>Car Purchase Amount=%{y}<extra></extra>",
         "legendgroup": "Cheryl",
         "marker": {
          "color": "#19d3f3",
          "symbol": "circle"
         },
         "mode": "markers",
         "name": "Cheryl",
         "orientation": "v",
         "showlegend": true,
         "type": "scatter",
         "x": [
          37
         ],
         "xaxis": "x",
         "y": [
          41489.64123
         ],
         "yaxis": "y"
        },
        {
         "hovertemplate": "Customer Name=Courtney<br>Age=%{x}<br>Car Purchase Amount=%{y}<extra></extra>",
         "legendgroup": "Courtney",
         "marker": {
          "color": "#FF6692",
          "symbol": "circle"
         },
         "mode": "markers",
         "name": "Courtney",
         "orientation": "v",
         "showlegend": true,
         "type": "scatter",
         "x": [
          43
         ],
         "xaxis": "x",
         "y": [
          32553.53423
         ],
         "yaxis": "y"
        },
        {
         "hovertemplate": "Customer Name=Neville<br>Age=%{x}<br>Car Purchase Amount=%{y}<extra></extra>",
         "legendgroup": "Neville",
         "marker": {
          "color": "#B6E880",
          "symbol": "circle"
         },
         "mode": "markers",
         "name": "Neville",
         "orientation": "v",
         "showlegend": true,
         "type": "scatter",
         "x": [
          42
         ],
         "xaxis": "x",
         "y": [
          41984.62412
         ],
         "yaxis": "y"
        },
        {
         "hovertemplate": "Customer Name=Gloria<br>Age=%{x}<br>Car Purchase Amount=%{y}<extra></extra>",
         "legendgroup": "Gloria",
         "marker": {
          "color": "#FF97FF",
          "symbol": "circle"
         },
         "mode": "markers",
         "name": "Gloria",
         "orientation": "v",
         "showlegend": true,
         "type": "scatter",
         "x": [
          55
         ],
         "xaxis": "x",
         "y": [
          59538.40327
         ],
         "yaxis": "y"
        },
        {
         "hovertemplate": "Customer Name=Jonah<br>Age=%{x}<br>Car Purchase Amount=%{y}<extra></extra>",
         "legendgroup": "Jonah",
         "marker": {
          "color": "#FECB52",
          "symbol": "circle"
         },
         "mode": "markers",
         "name": "Jonah",
         "orientation": "v",
         "showlegend": true,
         "type": "scatter",
         "x": [
          46
         ],
         "xaxis": "x",
         "y": [
          41352.47071
         ],
         "yaxis": "y"
        },
        {
         "hovertemplate": "Customer Name=Merrill<br>Age=%{x}<br>Car Purchase Amount=%{y}<extra></extra>",
         "legendgroup": "Merrill",
         "marker": {
          "color": "#636efa",
          "symbol": "circle"
         },
         "mode": "markers",
         "name": "Merrill",
         "orientation": "v",
         "showlegend": true,
         "type": "scatter",
         "x": [
          50
         ],
         "xaxis": "x",
         "y": [
          52785.16947
         ],
         "yaxis": "y"
        },
        {
         "hovertemplate": "Customer Name=Nolan<br>Age=%{x}<br>Car Purchase Amount=%{y}<extra></extra>",
         "legendgroup": "Nolan",
         "marker": {
          "color": "#EF553B",
          "symbol": "circle"
         },
         "mode": "markers",
         "name": "Nolan",
         "orientation": "v",
         "showlegend": true,
         "type": "scatter",
         "x": [
          55
         ],
         "xaxis": "x",
         "y": [
          60117.67886
         ],
         "yaxis": "y"
        },
        {
         "hovertemplate": "Customer Name=Winter<br>Age=%{x}<br>Car Purchase Amount=%{y}<extra></extra>",
         "legendgroup": "Winter",
         "marker": {
          "color": "#00cc96",
          "symbol": "circle"
         },
         "mode": "markers",
         "name": "Winter",
         "orientation": "v",
         "showlegend": true,
         "type": "scatter",
         "x": [
          43
         ],
         "xaxis": "x",
         "y": [
          47760.66427
         ],
         "yaxis": "y"
        },
        {
         "hovertemplate": "Customer Name=Rigel<br>Age=%{x}<br>Car Purchase Amount=%{y}<extra></extra>",
         "legendgroup": "Rigel",
         "marker": {
          "color": "#ab63fa",
          "symbol": "circle"
         },
         "mode": "markers",
         "name": "Rigel",
         "orientation": "v",
         "showlegend": true,
         "type": "scatter",
         "x": [
          52
         ],
         "xaxis": "x",
         "y": [
          64188.26862
         ],
         "yaxis": "y"
        },
        {
         "hovertemplate": "Customer Name=Vanna<br>Age=%{x}<br>Car Purchase Amount=%{y}<extra></extra>",
         "legendgroup": "Vanna",
         "marker": {
          "color": "#FFA15A",
          "symbol": "circle"
         },
         "mode": "markers",
         "name": "Vanna",
         "orientation": "v",
         "showlegend": true,
         "type": "scatter",
         "x": [
          38
         ],
         "xaxis": "x",
         "y": [
          31491.41457
         ],
         "yaxis": "y"
        },
        {
         "hovertemplate": "Customer Name=Pearl<br>Age=%{x}<br>Car Purchase Amount=%{y}<extra></extra>",
         "legendgroup": "Pearl",
         "marker": {
          "color": "#19d3f3",
          "symbol": "circle"
         },
         "mode": "markers",
         "name": "Pearl",
         "orientation": "v",
         "showlegend": true,
         "type": "scatter",
         "x": [
          54
         ],
         "xaxis": "x",
         "y": [
          64147.28888
         ],
         "yaxis": "y"
        },
        {
         "hovertemplate": "Customer Name=Nell<br>Age=%{x}<br>Car Purchase Amount=%{y}<extra></extra>",
         "legendgroup": "Nell",
         "marker": {
          "color": "#FF6692",
          "symbol": "circle"
         },
         "mode": "markers",
         "name": "Nell",
         "orientation": "v",
         "showlegend": true,
         "type": "scatter",
         "x": [
          59
         ],
         "xaxis": "x",
         "y": [
          45442.15353
         ],
         "yaxis": "y"
        },
        {
         "hovertemplate": "Customer Name=Marla<br>Age=%{x}<br>Car Purchase Amount=%{y}<extra></extra>",
         "legendgroup": "Marla",
         "marker": {
          "color": "#B6E880",
          "symbol": "circle"
         },
         "mode": "markers",
         "name": "Marla",
         "orientation": "v",
         "showlegend": true,
         "type": "scatter",
         "x": [
          47
         ],
         "xaxis": "x",
         "y": [
          45107.22566
         ],
         "yaxis": "y"
        }
       ],
       "layout": {
        "legend": {
         "title": {
          "text": "Customer Name"
         },
         "tracegroupgap": 0
        },
        "margin": {
         "t": 60
        },
        "template": {
         "data": {
          "bar": [
           {
            "error_x": {
             "color": "#2a3f5f"
            },
            "error_y": {
             "color": "#2a3f5f"
            },
            "marker": {
             "line": {
              "color": "#E5ECF6",
              "width": 0.5
             },
             "pattern": {
              "fillmode": "overlay",
              "size": 10,
              "solidity": 0.2
             }
            },
            "type": "bar"
           }
          ],
          "barpolar": [
           {
            "marker": {
             "line": {
              "color": "#E5ECF6",
              "width": 0.5
             },
             "pattern": {
              "fillmode": "overlay",
              "size": 10,
              "solidity": 0.2
             }
            },
            "type": "barpolar"
           }
          ],
          "carpet": [
           {
            "aaxis": {
             "endlinecolor": "#2a3f5f",
             "gridcolor": "white",
             "linecolor": "white",
             "minorgridcolor": "white",
             "startlinecolor": "#2a3f5f"
            },
            "baxis": {
             "endlinecolor": "#2a3f5f",
             "gridcolor": "white",
             "linecolor": "white",
             "minorgridcolor": "white",
             "startlinecolor": "#2a3f5f"
            },
            "type": "carpet"
           }
          ],
          "choropleth": [
           {
            "colorbar": {
             "outlinewidth": 0,
             "ticks": ""
            },
            "type": "choropleth"
           }
          ],
          "contour": [
           {
            "colorbar": {
             "outlinewidth": 0,
             "ticks": ""
            },
            "colorscale": [
             [
              0,
              "#0d0887"
             ],
             [
              0.1111111111111111,
              "#46039f"
             ],
             [
              0.2222222222222222,
              "#7201a8"
             ],
             [
              0.3333333333333333,
              "#9c179e"
             ],
             [
              0.4444444444444444,
              "#bd3786"
             ],
             [
              0.5555555555555556,
              "#d8576b"
             ],
             [
              0.6666666666666666,
              "#ed7953"
             ],
             [
              0.7777777777777778,
              "#fb9f3a"
             ],
             [
              0.8888888888888888,
              "#fdca26"
             ],
             [
              1,
              "#f0f921"
             ]
            ],
            "type": "contour"
           }
          ],
          "contourcarpet": [
           {
            "colorbar": {
             "outlinewidth": 0,
             "ticks": ""
            },
            "type": "contourcarpet"
           }
          ],
          "heatmap": [
           {
            "colorbar": {
             "outlinewidth": 0,
             "ticks": ""
            },
            "colorscale": [
             [
              0,
              "#0d0887"
             ],
             [
              0.1111111111111111,
              "#46039f"
             ],
             [
              0.2222222222222222,
              "#7201a8"
             ],
             [
              0.3333333333333333,
              "#9c179e"
             ],
             [
              0.4444444444444444,
              "#bd3786"
             ],
             [
              0.5555555555555556,
              "#d8576b"
             ],
             [
              0.6666666666666666,
              "#ed7953"
             ],
             [
              0.7777777777777778,
              "#fb9f3a"
             ],
             [
              0.8888888888888888,
              "#fdca26"
             ],
             [
              1,
              "#f0f921"
             ]
            ],
            "type": "heatmap"
           }
          ],
          "heatmapgl": [
           {
            "colorbar": {
             "outlinewidth": 0,
             "ticks": ""
            },
            "colorscale": [
             [
              0,
              "#0d0887"
             ],
             [
              0.1111111111111111,
              "#46039f"
             ],
             [
              0.2222222222222222,
              "#7201a8"
             ],
             [
              0.3333333333333333,
              "#9c179e"
             ],
             [
              0.4444444444444444,
              "#bd3786"
             ],
             [
              0.5555555555555556,
              "#d8576b"
             ],
             [
              0.6666666666666666,
              "#ed7953"
             ],
             [
              0.7777777777777778,
              "#fb9f3a"
             ],
             [
              0.8888888888888888,
              "#fdca26"
             ],
             [
              1,
              "#f0f921"
             ]
            ],
            "type": "heatmapgl"
           }
          ],
          "histogram": [
           {
            "marker": {
             "pattern": {
              "fillmode": "overlay",
              "size": 10,
              "solidity": 0.2
             }
            },
            "type": "histogram"
           }
          ],
          "histogram2d": [
           {
            "colorbar": {
             "outlinewidth": 0,
             "ticks": ""
            },
            "colorscale": [
             [
              0,
              "#0d0887"
             ],
             [
              0.1111111111111111,
              "#46039f"
             ],
             [
              0.2222222222222222,
              "#7201a8"
             ],
             [
              0.3333333333333333,
              "#9c179e"
             ],
             [
              0.4444444444444444,
              "#bd3786"
             ],
             [
              0.5555555555555556,
              "#d8576b"
             ],
             [
              0.6666666666666666,
              "#ed7953"
             ],
             [
              0.7777777777777778,
              "#fb9f3a"
             ],
             [
              0.8888888888888888,
              "#fdca26"
             ],
             [
              1,
              "#f0f921"
             ]
            ],
            "type": "histogram2d"
           }
          ],
          "histogram2dcontour": [
           {
            "colorbar": {
             "outlinewidth": 0,
             "ticks": ""
            },
            "colorscale": [
             [
              0,
              "#0d0887"
             ],
             [
              0.1111111111111111,
              "#46039f"
             ],
             [
              0.2222222222222222,
              "#7201a8"
             ],
             [
              0.3333333333333333,
              "#9c179e"
             ],
             [
              0.4444444444444444,
              "#bd3786"
             ],
             [
              0.5555555555555556,
              "#d8576b"
             ],
             [
              0.6666666666666666,
              "#ed7953"
             ],
             [
              0.7777777777777778,
              "#fb9f3a"
             ],
             [
              0.8888888888888888,
              "#fdca26"
             ],
             [
              1,
              "#f0f921"
             ]
            ],
            "type": "histogram2dcontour"
           }
          ],
          "mesh3d": [
           {
            "colorbar": {
             "outlinewidth": 0,
             "ticks": ""
            },
            "type": "mesh3d"
           }
          ],
          "parcoords": [
           {
            "line": {
             "colorbar": {
              "outlinewidth": 0,
              "ticks": ""
             }
            },
            "type": "parcoords"
           }
          ],
          "pie": [
           {
            "automargin": true,
            "type": "pie"
           }
          ],
          "scatter": [
           {
            "fillpattern": {
             "fillmode": "overlay",
             "size": 10,
             "solidity": 0.2
            },
            "type": "scatter"
           }
          ],
          "scatter3d": [
           {
            "line": {
             "colorbar": {
              "outlinewidth": 0,
              "ticks": ""
             }
            },
            "marker": {
             "colorbar": {
              "outlinewidth": 0,
              "ticks": ""
             }
            },
            "type": "scatter3d"
           }
          ],
          "scattercarpet": [
           {
            "marker": {
             "colorbar": {
              "outlinewidth": 0,
              "ticks": ""
             }
            },
            "type": "scattercarpet"
           }
          ],
          "scattergeo": [
           {
            "marker": {
             "colorbar": {
              "outlinewidth": 0,
              "ticks": ""
             }
            },
            "type": "scattergeo"
           }
          ],
          "scattergl": [
           {
            "marker": {
             "colorbar": {
              "outlinewidth": 0,
              "ticks": ""
             }
            },
            "type": "scattergl"
           }
          ],
          "scattermapbox": [
           {
            "marker": {
             "colorbar": {
              "outlinewidth": 0,
              "ticks": ""
             }
            },
            "type": "scattermapbox"
           }
          ],
          "scatterpolar": [
           {
            "marker": {
             "colorbar": {
              "outlinewidth": 0,
              "ticks": ""
             }
            },
            "type": "scatterpolar"
           }
          ],
          "scatterpolargl": [
           {
            "marker": {
             "colorbar": {
              "outlinewidth": 0,
              "ticks": ""
             }
            },
            "type": "scatterpolargl"
           }
          ],
          "scatterternary": [
           {
            "marker": {
             "colorbar": {
              "outlinewidth": 0,
              "ticks": ""
             }
            },
            "type": "scatterternary"
           }
          ],
          "surface": [
           {
            "colorbar": {
             "outlinewidth": 0,
             "ticks": ""
            },
            "colorscale": [
             [
              0,
              "#0d0887"
             ],
             [
              0.1111111111111111,
              "#46039f"
             ],
             [
              0.2222222222222222,
              "#7201a8"
             ],
             [
              0.3333333333333333,
              "#9c179e"
             ],
             [
              0.4444444444444444,
              "#bd3786"
             ],
             [
              0.5555555555555556,
              "#d8576b"
             ],
             [
              0.6666666666666666,
              "#ed7953"
             ],
             [
              0.7777777777777778,
              "#fb9f3a"
             ],
             [
              0.8888888888888888,
              "#fdca26"
             ],
             [
              1,
              "#f0f921"
             ]
            ],
            "type": "surface"
           }
          ],
          "table": [
           {
            "cells": {
             "fill": {
              "color": "#EBF0F8"
             },
             "line": {
              "color": "white"
             }
            },
            "header": {
             "fill": {
              "color": "#C8D4E3"
             },
             "line": {
              "color": "white"
             }
            },
            "type": "table"
           }
          ]
         },
         "layout": {
          "annotationdefaults": {
           "arrowcolor": "#2a3f5f",
           "arrowhead": 0,
           "arrowwidth": 1
          },
          "autotypenumbers": "strict",
          "coloraxis": {
           "colorbar": {
            "outlinewidth": 0,
            "ticks": ""
           }
          },
          "colorscale": {
           "diverging": [
            [
             0,
             "#8e0152"
            ],
            [
             0.1,
             "#c51b7d"
            ],
            [
             0.2,
             "#de77ae"
            ],
            [
             0.3,
             "#f1b6da"
            ],
            [
             0.4,
             "#fde0ef"
            ],
            [
             0.5,
             "#f7f7f7"
            ],
            [
             0.6,
             "#e6f5d0"
            ],
            [
             0.7,
             "#b8e186"
            ],
            [
             0.8,
             "#7fbc41"
            ],
            [
             0.9,
             "#4d9221"
            ],
            [
             1,
             "#276419"
            ]
           ],
           "sequential": [
            [
             0,
             "#0d0887"
            ],
            [
             0.1111111111111111,
             "#46039f"
            ],
            [
             0.2222222222222222,
             "#7201a8"
            ],
            [
             0.3333333333333333,
             "#9c179e"
            ],
            [
             0.4444444444444444,
             "#bd3786"
            ],
            [
             0.5555555555555556,
             "#d8576b"
            ],
            [
             0.6666666666666666,
             "#ed7953"
            ],
            [
             0.7777777777777778,
             "#fb9f3a"
            ],
            [
             0.8888888888888888,
             "#fdca26"
            ],
            [
             1,
             "#f0f921"
            ]
           ],
           "sequentialminus": [
            [
             0,
             "#0d0887"
            ],
            [
             0.1111111111111111,
             "#46039f"
            ],
            [
             0.2222222222222222,
             "#7201a8"
            ],
            [
             0.3333333333333333,
             "#9c179e"
            ],
            [
             0.4444444444444444,
             "#bd3786"
            ],
            [
             0.5555555555555556,
             "#d8576b"
            ],
            [
             0.6666666666666666,
             "#ed7953"
            ],
            [
             0.7777777777777778,
             "#fb9f3a"
            ],
            [
             0.8888888888888888,
             "#fdca26"
            ],
            [
             1,
             "#f0f921"
            ]
           ]
          },
          "colorway": [
           "#636efa",
           "#EF553B",
           "#00cc96",
           "#ab63fa",
           "#FFA15A",
           "#19d3f3",
           "#FF6692",
           "#B6E880",
           "#FF97FF",
           "#FECB52"
          ],
          "font": {
           "color": "#2a3f5f"
          },
          "geo": {
           "bgcolor": "white",
           "lakecolor": "white",
           "landcolor": "#E5ECF6",
           "showlakes": true,
           "showland": true,
           "subunitcolor": "white"
          },
          "hoverlabel": {
           "align": "left"
          },
          "hovermode": "closest",
          "mapbox": {
           "style": "light"
          },
          "paper_bgcolor": "white",
          "plot_bgcolor": "#E5ECF6",
          "polar": {
           "angularaxis": {
            "gridcolor": "white",
            "linecolor": "white",
            "ticks": ""
           },
           "bgcolor": "#E5ECF6",
           "radialaxis": {
            "gridcolor": "white",
            "linecolor": "white",
            "ticks": ""
           }
          },
          "scene": {
           "xaxis": {
            "backgroundcolor": "#E5ECF6",
            "gridcolor": "white",
            "gridwidth": 2,
            "linecolor": "white",
            "showbackground": true,
            "ticks": "",
            "zerolinecolor": "white"
           },
           "yaxis": {
            "backgroundcolor": "#E5ECF6",
            "gridcolor": "white",
            "gridwidth": 2,
            "linecolor": "white",
            "showbackground": true,
            "ticks": "",
            "zerolinecolor": "white"
           },
           "zaxis": {
            "backgroundcolor": "#E5ECF6",
            "gridcolor": "white",
            "gridwidth": 2,
            "linecolor": "white",
            "showbackground": true,
            "ticks": "",
            "zerolinecolor": "white"
           }
          },
          "shapedefaults": {
           "line": {
            "color": "#2a3f5f"
           }
          },
          "ternary": {
           "aaxis": {
            "gridcolor": "white",
            "linecolor": "white",
            "ticks": ""
           },
           "baxis": {
            "gridcolor": "white",
            "linecolor": "white",
            "ticks": ""
           },
           "bgcolor": "#E5ECF6",
           "caxis": {
            "gridcolor": "white",
            "linecolor": "white",
            "ticks": ""
           }
          },
          "title": {
           "x": 0.05
          },
          "xaxis": {
           "automargin": true,
           "gridcolor": "white",
           "linecolor": "white",
           "ticks": "",
           "title": {
            "standoff": 15
           },
           "zerolinecolor": "white",
           "zerolinewidth": 2
          },
          "yaxis": {
           "automargin": true,
           "gridcolor": "white",
           "linecolor": "white",
           "ticks": "",
           "title": {
            "standoff": 15
           },
           "zerolinecolor": "white",
           "zerolinewidth": 2
          }
         }
        },
        "xaxis": {
         "anchor": "y",
         "domain": [
          0,
          1
         ],
         "title": {
          "text": "Age"
         }
        },
        "yaxis": {
         "anchor": "x",
         "domain": [
          0,
          1
         ],
         "title": {
          "text": "Car Purchase Amount"
         }
        }
       }
      },
      "text/html": [
       "<div>                            <div id=\"74abb13c-c4ee-4f2c-a5e9-5f21330ff277\" class=\"plotly-graph-div\" style=\"height:525px; width:100%;\"></div>            <script type=\"text/javascript\">                require([\"plotly\"], function(Plotly) {                    window.PLOTLYENV=window.PLOTLYENV || {};                                    if (document.getElementById(\"74abb13c-c4ee-4f2c-a5e9-5f21330ff277\")) {                    Plotly.newPlot(                        \"74abb13c-c4ee-4f2c-a5e9-5f21330ff277\",                        [{\"hovertemplate\":\"Customer Name=Martina Avila<br>Age=%{x}<br>Car Purchase Amount=%{y}<extra></extra>\",\"legendgroup\":\"Martina Avila\",\"marker\":{\"color\":\"#636efa\",\"symbol\":\"circle\"},\"mode\":\"markers\",\"name\":\"Martina Avila\",\"orientation\":\"v\",\"showlegend\":true,\"x\":[42],\"xaxis\":\"x\",\"y\":[35321.45877],\"yaxis\":\"y\",\"type\":\"scatter\"},{\"hovertemplate\":\"Customer Name=Harlan Barnes<br>Age=%{x}<br>Car Purchase Amount=%{y}<extra></extra>\",\"legendgroup\":\"Harlan Barnes\",\"marker\":{\"color\":\"#EF553B\",\"symbol\":\"circle\"},\"mode\":\"markers\",\"name\":\"Harlan Barnes\",\"orientation\":\"v\",\"showlegend\":true,\"x\":[41],\"xaxis\":\"x\",\"y\":[45115.52566],\"yaxis\":\"y\",\"type\":\"scatter\"},{\"hovertemplate\":\"Customer Name=Naomi Rodriquez<br>Age=%{x}<br>Car Purchase Amount=%{y}<extra></extra>\",\"legendgroup\":\"Naomi Rodriquez\",\"marker\":{\"color\":\"#00cc96\",\"symbol\":\"circle\"},\"mode\":\"markers\",\"name\":\"Naomi Rodriquez\",\"orientation\":\"v\",\"showlegend\":true,\"x\":[43],\"xaxis\":\"x\",\"y\":[42925.70921],\"yaxis\":\"y\",\"type\":\"scatter\"},{\"hovertemplate\":\"Customer Name=Jade Cunningham<br>Age=%{x}<br>Car Purchase Amount=%{y}<extra></extra>\",\"legendgroup\":\"Jade Cunningham\",\"marker\":{\"color\":\"#ab63fa\",\"symbol\":\"circle\"},\"mode\":\"markers\",\"name\":\"Jade Cunningham\",\"orientation\":\"v\",\"showlegend\":true,\"x\":[58],\"xaxis\":\"x\",\"y\":[67422.36313],\"yaxis\":\"y\",\"type\":\"scatter\"},{\"hovertemplate\":\"Customer Name=Cedric Leach<br>Age=%{x}<br>Car Purchase Amount=%{y}<extra></extra>\",\"legendgroup\":\"Cedric Leach\",\"marker\":{\"color\":\"#FFA15A\",\"symbol\":\"circle\"},\"mode\":\"markers\",\"name\":\"Cedric Leach\",\"orientation\":\"v\",\"showlegend\":true,\"x\":[57],\"xaxis\":\"x\",\"y\":[55915.46248],\"yaxis\":\"y\",\"type\":\"scatter\"},{\"hovertemplate\":\"Customer Name=Carla Hester<br>Age=%{x}<br>Car Purchase Amount=%{y}<extra></extra>\",\"legendgroup\":\"Carla Hester\",\"marker\":{\"color\":\"#19d3f3\",\"symbol\":\"circle\"},\"mode\":\"markers\",\"name\":\"Carla Hester\",\"orientation\":\"v\",\"showlegend\":true,\"x\":[57],\"xaxis\":\"x\",\"y\":[56611.99784],\"yaxis\":\"y\",\"type\":\"scatter\"},{\"hovertemplate\":\"Customer Name=Griffin Rivera<br>Age=%{x}<br>Car Purchase Amount=%{y}<extra></extra>\",\"legendgroup\":\"Griffin Rivera\",\"marker\":{\"color\":\"#FF6692\",\"symbol\":\"circle\"},\"mode\":\"markers\",\"name\":\"Griffin Rivera\",\"orientation\":\"v\",\"showlegend\":true,\"x\":[47],\"xaxis\":\"x\",\"y\":[28925.70549],\"yaxis\":\"y\",\"type\":\"scatter\"},{\"hovertemplate\":\"Customer Name=Orli Casey<br>Age=%{x}<br>Car Purchase Amount=%{y}<extra></extra>\",\"legendgroup\":\"Orli Casey\",\"marker\":{\"color\":\"#B6E880\",\"symbol\":\"circle\"},\"mode\":\"markers\",\"name\":\"Orli Casey\",\"orientation\":\"v\",\"showlegend\":true,\"x\":[50],\"xaxis\":\"x\",\"y\":[47434.98265],\"yaxis\":\"y\",\"type\":\"scatter\"},{\"hovertemplate\":\"Customer Name=Marny Obrien<br>Age=%{x}<br>Car Purchase Amount=%{y}<extra></extra>\",\"legendgroup\":\"Marny Obrien\",\"marker\":{\"color\":\"#FF97FF\",\"symbol\":\"circle\"},\"mode\":\"markers\",\"name\":\"Marny Obrien\",\"orientation\":\"v\",\"showlegend\":true,\"x\":[47],\"xaxis\":\"x\",\"y\":[48013.6141],\"yaxis\":\"y\",\"type\":\"scatter\"},{\"hovertemplate\":\"Customer Name=Rhonda Chavez<br>Age=%{x}<br>Car Purchase Amount=%{y}<extra></extra>\",\"legendgroup\":\"Rhonda Chavez\",\"marker\":{\"color\":\"#FECB52\",\"symbol\":\"circle\"},\"mode\":\"markers\",\"name\":\"Rhonda Chavez\",\"orientation\":\"v\",\"showlegend\":true,\"x\":[43],\"xaxis\":\"x\",\"y\":[38189.50601],\"yaxis\":\"y\",\"type\":\"scatter\"},{\"hovertemplate\":\"Customer Name=Jerome Rowe<br>Age=%{x}<br>Car Purchase Amount=%{y}<extra></extra>\",\"legendgroup\":\"Jerome Rowe\",\"marker\":{\"color\":\"#636efa\",\"symbol\":\"circle\"},\"mode\":\"markers\",\"name\":\"Jerome Rowe\",\"orientation\":\"v\",\"showlegend\":true,\"x\":[50],\"xaxis\":\"x\",\"y\":[59045.51309],\"yaxis\":\"y\",\"type\":\"scatter\"},{\"hovertemplate\":\"Customer Name=Akeem Gibson<br>Age=%{x}<br>Car Purchase Amount=%{y}<extra></extra>\",\"legendgroup\":\"Akeem Gibson\",\"marker\":{\"color\":\"#EF553B\",\"symbol\":\"circle\"},\"mode\":\"markers\",\"name\":\"Akeem Gibson\",\"orientation\":\"v\",\"showlegend\":true,\"x\":[53],\"xaxis\":\"x\",\"y\":[42288.81046],\"yaxis\":\"y\",\"type\":\"scatter\"},{\"hovertemplate\":\"Customer Name=Quin Smith<br>Age=%{x}<br>Car Purchase Amount=%{y}<extra></extra>\",\"legendgroup\":\"Quin Smith\",\"marker\":{\"color\":\"#00cc96\",\"symbol\":\"circle\"},\"mode\":\"markers\",\"name\":\"Quin Smith\",\"orientation\":\"v\",\"showlegend\":true,\"x\":[44],\"xaxis\":\"x\",\"y\":[28700.0334],\"yaxis\":\"y\",\"type\":\"scatter\"},{\"hovertemplate\":\"Customer Name=Tatum Moon<br>Age=%{x}<br>Car Purchase Amount=%{y}<extra></extra>\",\"legendgroup\":\"Tatum Moon\",\"marker\":{\"color\":\"#ab63fa\",\"symbol\":\"circle\"},\"mode\":\"markers\",\"name\":\"Tatum Moon\",\"orientation\":\"v\",\"showlegend\":true,\"x\":[48],\"xaxis\":\"x\",\"y\":[49258.87571],\"yaxis\":\"y\",\"type\":\"scatter\"},{\"hovertemplate\":\"Customer Name=Sharon Sharpe<br>Age=%{x}<br>Car Purchase Amount=%{y}<extra></extra>\",\"legendgroup\":\"Sharon Sharpe\",\"marker\":{\"color\":\"#FFA15A\",\"symbol\":\"circle\"},\"mode\":\"markers\",\"name\":\"Sharon Sharpe\",\"orientation\":\"v\",\"showlegend\":true,\"x\":[55],\"xaxis\":\"x\",\"y\":[49510.03356],\"yaxis\":\"y\",\"type\":\"scatter\"},{\"hovertemplate\":\"Customer Name=Thomas Williams<br>Age=%{x}<br>Car Purchase Amount=%{y}<extra></extra>\",\"legendgroup\":\"Thomas Williams\",\"marker\":{\"color\":\"#19d3f3\",\"symbol\":\"circle\"},\"mode\":\"markers\",\"name\":\"Thomas Williams\",\"orientation\":\"v\",\"showlegend\":true,\"x\":[53],\"xaxis\":\"x\",\"y\":[53017.26723],\"yaxis\":\"y\",\"type\":\"scatter\"},{\"hovertemplate\":\"Customer Name=Blaine Bender<br>Age=%{x}<br>Car Purchase Amount=%{y}<extra></extra>\",\"legendgroup\":\"Blaine Bender\",\"marker\":{\"color\":\"#FF6692\",\"symbol\":\"circle\"},\"mode\":\"markers\",\"name\":\"Blaine Bender\",\"orientation\":\"v\",\"showlegend\":true,\"x\":[45],\"xaxis\":\"x\",\"y\":[41814.72067],\"yaxis\":\"y\",\"type\":\"scatter\"},{\"hovertemplate\":\"Customer Name=Stephen Lindsey<br>Age=%{x}<br>Car Purchase Amount=%{y}<extra></extra>\",\"legendgroup\":\"Stephen Lindsey\",\"marker\":{\"color\":\"#B6E880\",\"symbol\":\"circle\"},\"mode\":\"markers\",\"name\":\"Stephen Lindsey\",\"orientation\":\"v\",\"showlegend\":true,\"x\":[48],\"xaxis\":\"x\",\"y\":[43901.71244],\"yaxis\":\"y\",\"type\":\"scatter\"},{\"hovertemplate\":\"Customer Name=Sloane Mann<br>Age=%{x}<br>Car Purchase Amount=%{y}<extra></extra>\",\"legendgroup\":\"Sloane Mann\",\"marker\":{\"color\":\"#FF97FF\",\"symbol\":\"circle\"},\"mode\":\"markers\",\"name\":\"Sloane Mann\",\"orientation\":\"v\",\"showlegend\":true,\"x\":[52],\"xaxis\":\"x\",\"y\":[44633.99241],\"yaxis\":\"y\",\"type\":\"scatter\"},{\"hovertemplate\":\"Customer Name=Athena Wolf<br>Age=%{x}<br>Car Purchase Amount=%{y}<extra></extra>\",\"legendgroup\":\"Athena Wolf\",\"marker\":{\"color\":\"#FECB52\",\"symbol\":\"circle\"},\"mode\":\"markers\",\"name\":\"Athena Wolf\",\"orientation\":\"v\",\"showlegend\":true,\"x\":[59],\"xaxis\":\"x\",\"y\":[54827.52403],\"yaxis\":\"y\",\"type\":\"scatter\"},{\"hovertemplate\":\"Customer Name=Blythe Romero<br>Age=%{x}<br>Car Purchase Amount=%{y}<extra></extra>\",\"legendgroup\":\"Blythe Romero\",\"marker\":{\"color\":\"#636efa\",\"symbol\":\"circle\"},\"mode\":\"markers\",\"name\":\"Blythe Romero\",\"orientation\":\"v\",\"showlegend\":true,\"x\":[52],\"xaxis\":\"x\",\"y\":[51130.95379],\"yaxis\":\"y\",\"type\":\"scatter\"},{\"hovertemplate\":\"Customer Name=Zelenia Byers<br>Age=%{x}<br>Car Purchase Amount=%{y}<extra></extra>\",\"legendgroup\":\"Zelenia Byers\",\"marker\":{\"color\":\"#EF553B\",\"symbol\":\"circle\"},\"mode\":\"markers\",\"name\":\"Zelenia Byers\",\"orientation\":\"v\",\"showlegend\":true,\"x\":[48],\"xaxis\":\"x\",\"y\":[43402.31525],\"yaxis\":\"y\",\"type\":\"scatter\"},{\"hovertemplate\":\"Customer Name=Nola Wiggins<br>Age=%{x}<br>Car Purchase Amount=%{y}<extra></extra>\",\"legendgroup\":\"Nola Wiggins\",\"marker\":{\"color\":\"#00cc96\",\"symbol\":\"circle\"},\"mode\":\"markers\",\"name\":\"Nola Wiggins\",\"orientation\":\"v\",\"showlegend\":true,\"x\":[46],\"xaxis\":\"x\",\"y\":[47240.86004],\"yaxis\":\"y\",\"type\":\"scatter\"},{\"hovertemplate\":\"Customer Name=Micah Wheeler<br>Age=%{x}<br>Car Purchase Amount=%{y}<extra></extra>\",\"legendgroup\":\"Micah Wheeler\",\"marker\":{\"color\":\"#ab63fa\",\"symbol\":\"circle\"},\"mode\":\"markers\",\"name\":\"Micah Wheeler\",\"orientation\":\"v\",\"showlegend\":true,\"x\":[47],\"xaxis\":\"x\",\"y\":[46635.49432],\"yaxis\":\"y\",\"type\":\"scatter\"},{\"hovertemplate\":\"Customer Name=Caryn Hendrix<br>Age=%{x}<br>Car Purchase Amount=%{y}<extra></extra>\",\"legendgroup\":\"Caryn Hendrix\",\"marker\":{\"color\":\"#FFA15A\",\"symbol\":\"circle\"},\"mode\":\"markers\",\"name\":\"Caryn Hendrix\",\"orientation\":\"v\",\"showlegend\":true,\"x\":[40],\"xaxis\":\"x\",\"y\":[45078.40193],\"yaxis\":\"y\",\"type\":\"scatter\"},{\"hovertemplate\":\"Customer Name=Hedda Miranda<br>Age=%{x}<br>Car Purchase Amount=%{y}<extra></extra>\",\"legendgroup\":\"Hedda Miranda\",\"marker\":{\"color\":\"#19d3f3\",\"symbol\":\"circle\"},\"mode\":\"markers\",\"name\":\"Hedda Miranda\",\"orientation\":\"v\",\"showlegend\":true,\"x\":[53],\"xaxis\":\"x\",\"y\":[44387.58412],\"yaxis\":\"y\",\"type\":\"scatter\"},{\"hovertemplate\":\"Customer Name=Ulric Lynn<br>Age=%{x}<br>Car Purchase Amount=%{y}<extra></extra>\",\"legendgroup\":\"Ulric Lynn\",\"marker\":{\"color\":\"#FF6692\",\"symbol\":\"circle\"},\"mode\":\"markers\",\"name\":\"Ulric Lynn\",\"orientation\":\"v\",\"showlegend\":true,\"x\":[28],\"xaxis\":\"x\",\"y\":[37161.55393],\"yaxis\":\"y\",\"type\":\"scatter\"},{\"hovertemplate\":\"Customer Name=Alma Pope<br>Age=%{x}<br>Car Purchase Amount=%{y}<extra></extra>\",\"legendgroup\":\"Alma Pope\",\"marker\":{\"color\":\"#B6E880\",\"symbol\":\"circle\"},\"mode\":\"markers\",\"name\":\"Alma Pope\",\"orientation\":\"v\",\"showlegend\":true,\"x\":[56],\"xaxis\":\"x\",\"y\":[49091.97185],\"yaxis\":\"y\",\"type\":\"scatter\"},{\"hovertemplate\":\"Customer Name=Gemma Hendrix<br>Age=%{x}<br>Car Purchase Amount=%{y}<extra></extra>\",\"legendgroup\":\"Gemma Hendrix\",\"marker\":{\"color\":\"#FF97FF\",\"symbol\":\"circle\"},\"mode\":\"markers\",\"name\":\"Gemma Hendrix\",\"orientation\":\"v\",\"showlegend\":true,\"x\":[46],\"xaxis\":\"x\",\"y\":[58350.31809],\"yaxis\":\"y\",\"type\":\"scatter\"},{\"hovertemplate\":\"Customer Name=Castor Wood<br>Age=%{x}<br>Car Purchase Amount=%{y}<extra></extra>\",\"legendgroup\":\"Castor Wood\",\"marker\":{\"color\":\"#FECB52\",\"symbol\":\"circle\"},\"mode\":\"markers\",\"name\":\"Castor Wood\",\"orientation\":\"v\",\"showlegend\":true,\"x\":[40],\"xaxis\":\"x\",\"y\":[43994.35972],\"yaxis\":\"y\",\"type\":\"scatter\"},{\"hovertemplate\":\"Customer Name=Herman Stevenson<br>Age=%{x}<br>Car Purchase Amount=%{y}<extra></extra>\",\"legendgroup\":\"Herman Stevenson\",\"marker\":{\"color\":\"#636efa\",\"symbol\":\"circle\"},\"mode\":\"markers\",\"name\":\"Herman Stevenson\",\"orientation\":\"v\",\"showlegend\":true,\"x\":[33],\"xaxis\":\"x\",\"y\":[17584.56963],\"yaxis\":\"y\",\"type\":\"scatter\"},{\"hovertemplate\":\"Customer Name=Adrienne Bolton<br>Age=%{x}<br>Car Purchase Amount=%{y}<extra></extra>\",\"legendgroup\":\"Adrienne Bolton\",\"marker\":{\"color\":\"#EF553B\",\"symbol\":\"circle\"},\"mode\":\"markers\",\"name\":\"Adrienne Bolton\",\"orientation\":\"v\",\"showlegend\":true,\"x\":[40],\"xaxis\":\"x\",\"y\":[44650.36073],\"yaxis\":\"y\",\"type\":\"scatter\"},{\"hovertemplate\":\"Customer Name=Dahlia Cleveland<br>Age=%{x}<br>Car Purchase Amount=%{y}<extra></extra>\",\"legendgroup\":\"Dahlia Cleveland\",\"marker\":{\"color\":\"#00cc96\",\"symbol\":\"circle\"},\"mode\":\"markers\",\"name\":\"Dahlia Cleveland\",\"orientation\":\"v\",\"showlegend\":true,\"x\":[51],\"xaxis\":\"x\",\"y\":[66363.89316],\"yaxis\":\"y\",\"type\":\"scatter\"},{\"hovertemplate\":\"Customer Name=Keane Browning<br>Age=%{x}<br>Car Purchase Amount=%{y}<extra></extra>\",\"legendgroup\":\"Keane Browning\",\"marker\":{\"color\":\"#ab63fa\",\"symbol\":\"circle\"},\"mode\":\"markers\",\"name\":\"Keane Browning\",\"orientation\":\"v\",\"showlegend\":true,\"x\":[51],\"xaxis\":\"x\",\"y\":[53489.46214],\"yaxis\":\"y\",\"type\":\"scatter\"},{\"hovertemplate\":\"Customer Name=Quon Hull<br>Age=%{x}<br>Car Purchase Amount=%{y}<extra></extra>\",\"legendgroup\":\"Quon Hull\",\"marker\":{\"color\":\"#FFA15A\",\"symbol\":\"circle\"},\"mode\":\"markers\",\"name\":\"Quon Hull\",\"orientation\":\"v\",\"showlegend\":true,\"x\":[46],\"xaxis\":\"x\",\"y\":[39810.34817],\"yaxis\":\"y\",\"type\":\"scatter\"},{\"hovertemplate\":\"Customer Name=Coby Charles<br>Age=%{x}<br>Car Purchase Amount=%{y}<extra></extra>\",\"legendgroup\":\"Coby Charles\",\"marker\":{\"color\":\"#19d3f3\",\"symbol\":\"circle\"},\"mode\":\"markers\",\"name\":\"Coby Charles\",\"orientation\":\"v\",\"showlegend\":true,\"x\":[51],\"xaxis\":\"x\",\"y\":[51612.14311],\"yaxis\":\"y\",\"type\":\"scatter\"},{\"hovertemplate\":\"Customer Name=Amery Cortez<br>Age=%{x}<br>Car Purchase Amount=%{y}<extra></extra>\",\"legendgroup\":\"Amery Cortez\",\"marker\":{\"color\":\"#FF6692\",\"symbol\":\"circle\"},\"mode\":\"markers\",\"name\":\"Amery Cortez\",\"orientation\":\"v\",\"showlegend\":true,\"x\":[50],\"xaxis\":\"x\",\"y\":[38978.67458],\"yaxis\":\"y\",\"type\":\"scatter\"},{\"hovertemplate\":\"Customer Name=Uriel Bradshaw<br>Age=%{x}<br>Car Purchase Amount=%{y}<extra></extra>\",\"legendgroup\":\"Uriel Bradshaw\",\"marker\":{\"color\":\"#B6E880\",\"symbol\":\"circle\"},\"mode\":\"markers\",\"name\":\"Uriel Bradshaw\",\"orientation\":\"v\",\"showlegend\":true,\"x\":[22],\"xaxis\":\"x\",\"y\":[10092.22509],\"yaxis\":\"y\",\"type\":\"scatter\"},{\"hovertemplate\":\"Customer Name=Fredericka Sanders<br>Age=%{x}<br>Car Purchase Amount=%{y}<extra></extra>\",\"legendgroup\":\"Fredericka Sanders\",\"marker\":{\"color\":\"#FF97FF\",\"symbol\":\"circle\"},\"mode\":\"markers\",\"name\":\"Fredericka Sanders\",\"orientation\":\"v\",\"showlegend\":true,\"x\":[51],\"xaxis\":\"x\",\"y\":[35928.52404],\"yaxis\":\"y\",\"type\":\"scatter\"},{\"hovertemplate\":\"Customer Name=Christopher Stevens<br>Age=%{x}<br>Car Purchase Amount=%{y}<extra></extra>\",\"legendgroup\":\"Christopher Stevens\",\"marker\":{\"color\":\"#FECB52\",\"symbol\":\"circle\"},\"mode\":\"markers\",\"name\":\"Christopher Stevens\",\"orientation\":\"v\",\"showlegend\":true,\"x\":[48],\"xaxis\":\"x\",\"y\":[54823.19221],\"yaxis\":\"y\",\"type\":\"scatter\"},{\"hovertemplate\":\"Customer Name=Rachel Ashley<br>Age=%{x}<br>Car Purchase Amount=%{y}<extra></extra>\",\"legendgroup\":\"Rachel Ashley\",\"marker\":{\"color\":\"#636efa\",\"symbol\":\"circle\"},\"mode\":\"markers\",\"name\":\"Rachel Ashley\",\"orientation\":\"v\",\"showlegend\":true,\"x\":[42],\"xaxis\":\"x\",\"y\":[45805.67186],\"yaxis\":\"y\",\"type\":\"scatter\"},{\"hovertemplate\":\"Customer Name=Lael Wright<br>Age=%{x}<br>Car Purchase Amount=%{y}<extra></extra>\",\"legendgroup\":\"Lael Wright\",\"marker\":{\"color\":\"#EF553B\",\"symbol\":\"circle\"},\"mode\":\"markers\",\"name\":\"Lael Wright\",\"orientation\":\"v\",\"showlegend\":true,\"x\":[46],\"xaxis\":\"x\",\"y\":[41567.47033],\"yaxis\":\"y\",\"type\":\"scatter\"},{\"hovertemplate\":\"Customer Name=Ryder Shaffer<br>Age=%{x}<br>Car Purchase Amount=%{y}<extra></extra>\",\"legendgroup\":\"Ryder Shaffer\",\"marker\":{\"color\":\"#00cc96\",\"symbol\":\"circle\"},\"mode\":\"markers\",\"name\":\"Ryder Shaffer\",\"orientation\":\"v\",\"showlegend\":true,\"x\":[38],\"xaxis\":\"x\",\"y\":[28031.20985],\"yaxis\":\"y\",\"type\":\"scatter\"},{\"hovertemplate\":\"Customer Name=Eric Noel<br>Age=%{x}<br>Car Purchase Amount=%{y}<extra></extra>\",\"legendgroup\":\"Eric Noel\",\"marker\":{\"color\":\"#ab63fa\",\"symbol\":\"circle\"},\"mode\":\"markers\",\"name\":\"Eric Noel\",\"orientation\":\"v\",\"showlegend\":true,\"x\":[39],\"xaxis\":\"x\",\"y\":[27815.73813],\"yaxis\":\"y\",\"type\":\"scatter\"},{\"hovertemplate\":\"Customer Name=Tamara Guy<br>Age=%{x}<br>Car Purchase Amount=%{y}<extra></extra>\",\"legendgroup\":\"Tamara Guy\",\"marker\":{\"color\":\"#FFA15A\",\"symbol\":\"circle\"},\"mode\":\"markers\",\"name\":\"Tamara Guy\",\"orientation\":\"v\",\"showlegend\":true,\"x\":[61],\"xaxis\":\"x\",\"y\":[68678.4352],\"yaxis\":\"y\",\"type\":\"scatter\"},{\"hovertemplate\":\"Customer Name=Quincy Bell<br>Age=%{x}<br>Car Purchase Amount=%{y}<extra></extra>\",\"legendgroup\":\"Quincy Bell\",\"marker\":{\"color\":\"#19d3f3\",\"symbol\":\"circle\"},\"mode\":\"markers\",\"name\":\"Quincy Bell\",\"orientation\":\"v\",\"showlegend\":true,\"x\":[55],\"xaxis\":\"x\",\"y\":[68925.09447],\"yaxis\":\"y\",\"type\":\"scatter\"},{\"hovertemplate\":\"Customer Name=Lee Taylor<br>Age=%{x}<br>Car Purchase Amount=%{y}<extra></extra>\",\"legendgroup\":\"Lee Taylor\",\"marker\":{\"color\":\"#FF6692\",\"symbol\":\"circle\"},\"mode\":\"markers\",\"name\":\"Lee Taylor\",\"orientation\":\"v\",\"showlegend\":true,\"x\":[42],\"xaxis\":\"x\",\"y\":[34215.7615],\"yaxis\":\"y\",\"type\":\"scatter\"},{\"hovertemplate\":\"Customer Name=Kenneth Pope<br>Age=%{x}<br>Car Purchase Amount=%{y}<extra></extra>\",\"legendgroup\":\"Kenneth Pope\",\"marker\":{\"color\":\"#B6E880\",\"symbol\":\"circle\"},\"mode\":\"markers\",\"name\":\"Kenneth Pope\",\"orientation\":\"v\",\"showlegend\":true,\"x\":[51],\"xaxis\":\"x\",\"y\":[37843.46619],\"yaxis\":\"y\",\"type\":\"scatter\"},{\"hovertemplate\":\"Customer Name=Reese Vance<br>Age=%{x}<br>Car Purchase Amount=%{y}<extra></extra>\",\"legendgroup\":\"Reese Vance\",\"marker\":{\"color\":\"#FF97FF\",\"symbol\":\"circle\"},\"mode\":\"markers\",\"name\":\"Reese Vance\",\"orientation\":\"v\",\"showlegend\":true,\"x\":[41],\"xaxis\":\"x\",\"y\":[37883.24231],\"yaxis\":\"y\",\"type\":\"scatter\"},{\"hovertemplate\":\"Customer Name=Quon Carroll<br>Age=%{x}<br>Car Purchase Amount=%{y}<extra></extra>\",\"legendgroup\":\"Quon Carroll\",\"marker\":{\"color\":\"#FECB52\",\"symbol\":\"circle\"},\"mode\":\"markers\",\"name\":\"Quon Carroll\",\"orientation\":\"v\",\"showlegend\":true,\"x\":[40],\"xaxis\":\"x\",\"y\":[48734.35708],\"yaxis\":\"y\",\"type\":\"scatter\"},{\"hovertemplate\":\"Customer Name=Magee Davidson<br>Age=%{x}<br>Car Purchase Amount=%{y}<extra></extra>\",\"legendgroup\":\"Magee Davidson\",\"marker\":{\"color\":\"#636efa\",\"symbol\":\"circle\"},\"mode\":\"markers\",\"name\":\"Magee Davidson\",\"orientation\":\"v\",\"showlegend\":true,\"x\":[41],\"xaxis\":\"x\",\"y\":[27187.23914],\"yaxis\":\"y\",\"type\":\"scatter\"},{\"hovertemplate\":\"Customer Name=Leilani Gross<br>Age=%{x}<br>Car Purchase Amount=%{y}<extra></extra>\",\"legendgroup\":\"Leilani Gross\",\"marker\":{\"color\":\"#EF553B\",\"symbol\":\"circle\"},\"mode\":\"markers\",\"name\":\"Leilani Gross\",\"orientation\":\"v\",\"showlegend\":true,\"x\":[56],\"xaxis\":\"x\",\"y\":[63738.39065],\"yaxis\":\"y\",\"type\":\"scatter\"},{\"hovertemplate\":\"Customer Name=Morgan William<br>Age=%{x}<br>Car Purchase Amount=%{y}<extra></extra>\",\"legendgroup\":\"Morgan William\",\"marker\":{\"color\":\"#00cc96\",\"symbol\":\"circle\"},\"mode\":\"markers\",\"name\":\"Morgan William\",\"orientation\":\"v\",\"showlegend\":true,\"x\":[46],\"xaxis\":\"x\",\"y\":[48266.75516],\"yaxis\":\"y\",\"type\":\"scatter\"},{\"hovertemplate\":\"Customer Name=Francesca Cervantes<br>Age=%{x}<br>Car Purchase Amount=%{y}<extra></extra>\",\"legendgroup\":\"Francesca Cervantes\",\"marker\":{\"color\":\"#ab63fa\",\"symbol\":\"circle\"},\"mode\":\"markers\",\"name\":\"Francesca Cervantes\",\"orientation\":\"v\",\"showlegend\":true,\"x\":[37],\"xaxis\":\"x\",\"y\":[46381.13111],\"yaxis\":\"y\",\"type\":\"scatter\"},{\"hovertemplate\":\"Customer Name=Rafael Peterson<br>Age=%{x}<br>Car Purchase Amount=%{y}<extra></extra>\",\"legendgroup\":\"Rafael Peterson\",\"marker\":{\"color\":\"#FFA15A\",\"symbol\":\"circle\"},\"mode\":\"markers\",\"name\":\"Rafael Peterson\",\"orientation\":\"v\",\"showlegend\":true,\"x\":[52],\"xaxis\":\"x\",\"y\":[31978.9799],\"yaxis\":\"y\",\"type\":\"scatter\"},{\"hovertemplate\":\"Customer Name=Roanna Knox<br>Age=%{x}<br>Car Purchase Amount=%{y}<extra></extra>\",\"legendgroup\":\"Roanna Knox\",\"marker\":{\"color\":\"#19d3f3\",\"symbol\":\"circle\"},\"mode\":\"markers\",\"name\":\"Roanna Knox\",\"orientation\":\"v\",\"showlegend\":true,\"x\":[57],\"xaxis\":\"x\",\"y\":[48100.29052],\"yaxis\":\"y\",\"type\":\"scatter\"},{\"hovertemplate\":\"Customer Name=Marny Vargas<br>Age=%{x}<br>Car Purchase Amount=%{y}<extra></extra>\",\"legendgroup\":\"Marny Vargas\",\"marker\":{\"color\":\"#FF6692\",\"symbol\":\"circle\"},\"mode\":\"markers\",\"name\":\"Marny Vargas\",\"orientation\":\"v\",\"showlegend\":true,\"x\":[34],\"xaxis\":\"x\",\"y\":[47380.91224],\"yaxis\":\"y\",\"type\":\"scatter\"},{\"hovertemplate\":\"Customer Name=Charlotte Waller<br>Age=%{x}<br>Car Purchase Amount=%{y}<extra></extra>\",\"legendgroup\":\"Charlotte Waller\",\"marker\":{\"color\":\"#B6E880\",\"symbol\":\"circle\"},\"mode\":\"markers\",\"name\":\"Charlotte Waller\",\"orientation\":\"v\",\"showlegend\":true,\"x\":[43],\"xaxis\":\"x\",\"y\":[41425.00116],\"yaxis\":\"y\",\"type\":\"scatter\"},{\"hovertemplate\":\"Customer Name=Dorian Hernandez<br>Age=%{x}<br>Car Purchase Amount=%{y}<extra></extra>\",\"legendgroup\":\"Dorian Hernandez\",\"marker\":{\"color\":\"#FF97FF\",\"symbol\":\"circle\"},\"mode\":\"markers\",\"name\":\"Dorian Hernandez\",\"orientation\":\"v\",\"showlegend\":true,\"x\":[50],\"xaxis\":\"x\",\"y\":[38147.81018],\"yaxis\":\"y\",\"type\":\"scatter\"},{\"hovertemplate\":\"Customer Name=Armando Hensley<br>Age=%{x}<br>Car Purchase Amount=%{y}<extra></extra>\",\"legendgroup\":\"Armando Hensley\",\"marker\":{\"color\":\"#FECB52\",\"symbol\":\"circle\"},\"mode\":\"markers\",\"name\":\"Armando Hensley\",\"orientation\":\"v\",\"showlegend\":true,\"x\":[42],\"xaxis\":\"x\",\"y\":[32737.80177],\"yaxis\":\"y\",\"type\":\"scatter\"},{\"hovertemplate\":\"Customer Name=Rowan Kidd<br>Age=%{x}<br>Car Purchase Amount=%{y}<extra></extra>\",\"legendgroup\":\"Rowan Kidd\",\"marker\":{\"color\":\"#636efa\",\"symbol\":\"circle\"},\"mode\":\"markers\",\"name\":\"Rowan Kidd\",\"orientation\":\"v\",\"showlegend\":true,\"x\":[42],\"xaxis\":\"x\",\"y\":[37348.13737],\"yaxis\":\"y\",\"type\":\"scatter\"},{\"hovertemplate\":\"Customer Name=Gwendolyn Rice<br>Age=%{x}<br>Car Purchase Amount=%{y}<extra></extra>\",\"legendgroup\":\"Gwendolyn Rice\",\"marker\":{\"color\":\"#EF553B\",\"symbol\":\"circle\"},\"mode\":\"markers\",\"name\":\"Gwendolyn Rice\",\"orientation\":\"v\",\"showlegend\":true,\"x\":[42],\"xaxis\":\"x\",\"y\":[47483.85316],\"yaxis\":\"y\",\"type\":\"scatter\"},{\"hovertemplate\":\"Customer Name=Gareth Morris<br>Age=%{x}<br>Car Purchase Amount=%{y}<extra></extra>\",\"legendgroup\":\"Gareth Morris\",\"marker\":{\"color\":\"#00cc96\",\"symbol\":\"circle\"},\"mode\":\"markers\",\"name\":\"Gareth Morris\",\"orientation\":\"v\",\"showlegend\":true,\"x\":[55],\"xaxis\":\"x\",\"y\":[49730.53339],\"yaxis\":\"y\",\"type\":\"scatter\"},{\"hovertemplate\":\"Customer Name=Sawyer Carney<br>Age=%{x}<br>Car Purchase Amount=%{y}<extra></extra>\",\"legendgroup\":\"Sawyer Carney\",\"marker\":{\"color\":\"#ab63fa\",\"symbol\":\"circle\"},\"mode\":\"markers\",\"name\":\"Sawyer Carney\",\"orientation\":\"v\",\"showlegend\":true,\"x\":[53],\"xaxis\":\"x\",\"y\":[40093.61981],\"yaxis\":\"y\",\"type\":\"scatter\"},{\"hovertemplate\":\"Customer Name=Raya Shields<br>Age=%{x}<br>Car Purchase Amount=%{y}<extra></extra>\",\"legendgroup\":\"Raya Shields\",\"marker\":{\"color\":\"#FFA15A\",\"symbol\":\"circle\"},\"mode\":\"markers\",\"name\":\"Raya Shields\",\"orientation\":\"v\",\"showlegend\":true,\"x\":[53],\"xaxis\":\"x\",\"y\":[42297.5062],\"yaxis\":\"y\",\"type\":\"scatter\"},{\"hovertemplate\":\"Customer Name=Olga Serrano<br>Age=%{x}<br>Car Purchase Amount=%{y}<extra></extra>\",\"legendgroup\":\"Olga Serrano\",\"marker\":{\"color\":\"#19d3f3\",\"symbol\":\"circle\"},\"mode\":\"markers\",\"name\":\"Olga Serrano\",\"orientation\":\"v\",\"showlegend\":true,\"x\":[43],\"xaxis\":\"x\",\"y\":[52954.93121],\"yaxis\":\"y\",\"type\":\"scatter\"},{\"hovertemplate\":\"Customer Name=Yuli Craig<br>Age=%{x}<br>Car Purchase Amount=%{y}<extra></extra>\",\"legendgroup\":\"Yuli Craig\",\"marker\":{\"color\":\"#FF6692\",\"symbol\":\"circle\"},\"mode\":\"markers\",\"name\":\"Yuli Craig\",\"orientation\":\"v\",\"showlegend\":true,\"x\":[55],\"xaxis\":\"x\",\"y\":[48104.11184],\"yaxis\":\"y\",\"type\":\"scatter\"},{\"hovertemplate\":\"Customer Name=Lev Kramer<br>Age=%{x}<br>Car Purchase Amount=%{y}<extra></extra>\",\"legendgroup\":\"Lev Kramer\",\"marker\":{\"color\":\"#B6E880\",\"symbol\":\"circle\"},\"mode\":\"markers\",\"name\":\"Lev Kramer\",\"orientation\":\"v\",\"showlegend\":true,\"x\":[43],\"xaxis\":\"x\",\"y\":[43680.91327],\"yaxis\":\"y\",\"type\":\"scatter\"},{\"hovertemplate\":\"Customer Name=Nissim Acosta<br>Age=%{x}<br>Car Purchase Amount=%{y}<extra></extra>\",\"legendgroup\":\"Nissim Acosta\",\"marker\":{\"color\":\"#FF97FF\",\"symbol\":\"circle\"},\"mode\":\"markers\",\"name\":\"Nissim Acosta\",\"orientation\":\"v\",\"showlegend\":true,\"x\":[57],\"xaxis\":\"x\",\"y\":[52707.96816],\"yaxis\":\"y\",\"type\":\"scatter\"},{\"hovertemplate\":\"Customer Name=Miranda Berry<br>Age=%{x}<br>Car Purchase Amount=%{y}<extra></extra>\",\"legendgroup\":\"Miranda Berry\",\"marker\":{\"color\":\"#FECB52\",\"symbol\":\"circle\"},\"mode\":\"markers\",\"name\":\"Miranda Berry\",\"orientation\":\"v\",\"showlegend\":true,\"x\":[52],\"xaxis\":\"x\",\"y\":[49392.8897],\"yaxis\":\"y\",\"type\":\"scatter\"},{\"hovertemplate\":\"Customer Name=Owen Jacobson<br>Age=%{x}<br>Car Purchase Amount=%{y}<extra></extra>\",\"legendgroup\":\"Owen Jacobson\",\"marker\":{\"color\":\"#636efa\",\"symbol\":\"circle\"},\"mode\":\"markers\",\"name\":\"Owen Jacobson\",\"orientation\":\"v\",\"showlegend\":true,\"x\":[45],\"xaxis\":\"x\",\"y\":[30841.00154],\"yaxis\":\"y\",\"type\":\"scatter\"},{\"hovertemplate\":\"Customer Name=Marvin Becker<br>Age=%{x}<br>Car Purchase Amount=%{y}<extra></extra>\",\"legendgroup\":\"Marvin Becker\",\"marker\":{\"color\":\"#EF553B\",\"symbol\":\"circle\"},\"mode\":\"markers\",\"name\":\"Marvin Becker\",\"orientation\":\"v\",\"showlegend\":true,\"x\":[56],\"xaxis\":\"x\",\"y\":[49373.37555],\"yaxis\":\"y\",\"type\":\"scatter\"},{\"hovertemplate\":\"Customer Name=Davis Scott<br>Age=%{x}<br>Car Purchase Amount=%{y}<extra></extra>\",\"legendgroup\":\"Davis Scott\",\"marker\":{\"color\":\"#00cc96\",\"symbol\":\"circle\"},\"mode\":\"markers\",\"name\":\"Davis Scott\",\"orientation\":\"v\",\"showlegend\":true,\"x\":[41],\"xaxis\":\"x\",\"y\":[41903.65171],\"yaxis\":\"y\",\"type\":\"scatter\"},{\"hovertemplate\":\"Customer Name=Matthew Colon<br>Age=%{x}<br>Car Purchase Amount=%{y}<extra></extra>\",\"legendgroup\":\"Matthew Colon\",\"marker\":{\"color\":\"#ab63fa\",\"symbol\":\"circle\"},\"mode\":\"markers\",\"name\":\"Matthew Colon\",\"orientation\":\"v\",\"showlegend\":true,\"x\":[48],\"xaxis\":\"x\",\"y\":[45058.8969],\"yaxis\":\"y\",\"type\":\"scatter\"},{\"hovertemplate\":\"Customer Name=Quinlan Harris<br>Age=%{x}<br>Car Purchase Amount=%{y}<extra></extra>\",\"legendgroup\":\"Quinlan Harris\",\"marker\":{\"color\":\"#FFA15A\",\"symbol\":\"circle\"},\"mode\":\"markers\",\"name\":\"Quinlan Harris\",\"orientation\":\"v\",\"showlegend\":true,\"x\":[56],\"xaxis\":\"x\",\"y\":[52991.52667],\"yaxis\":\"y\",\"type\":\"scatter\"},{\"hovertemplate\":\"Customer Name=Hedley Greene<br>Age=%{x}<br>Car Purchase Amount=%{y}<extra></extra>\",\"legendgroup\":\"Hedley Greene\",\"marker\":{\"color\":\"#19d3f3\",\"symbol\":\"circle\"},\"mode\":\"markers\",\"name\":\"Hedley Greene\",\"orientation\":\"v\",\"showlegend\":true,\"x\":[47],\"xaxis\":\"x\",\"y\":[50958.08115],\"yaxis\":\"y\",\"type\":\"scatter\"},{\"hovertemplate\":\"Customer Name=Orson Kirby<br>Age=%{x}<br>Car Purchase Amount=%{y}<extra></extra>\",\"legendgroup\":\"Orson Kirby\",\"marker\":{\"color\":\"#FF6692\",\"symbol\":\"circle\"},\"mode\":\"markers\",\"name\":\"Orson Kirby\",\"orientation\":\"v\",\"showlegend\":true,\"x\":[53],\"xaxis\":\"x\",\"y\":[41357.17897],\"yaxis\":\"y\",\"type\":\"scatter\"},{\"hovertemplate\":\"Customer Name=Adria Mathis<br>Age=%{x}<br>Car Purchase Amount=%{y}<extra></extra>\",\"legendgroup\":\"Adria Mathis\",\"marker\":{\"color\":\"#B6E880\",\"symbol\":\"circle\"},\"mode\":\"markers\",\"name\":\"Adria Mathis\",\"orientation\":\"v\",\"showlegend\":true,\"x\":[57],\"xaxis\":\"x\",\"y\":[44434.71917],\"yaxis\":\"y\",\"type\":\"scatter\"},{\"hovertemplate\":\"Customer Name=Peter Stout<br>Age=%{x}<br>Car Purchase Amount=%{y}<extra></extra>\",\"legendgroup\":\"Peter Stout\",\"marker\":{\"color\":\"#FF97FF\",\"symbol\":\"circle\"},\"mode\":\"markers\",\"name\":\"Peter Stout\",\"orientation\":\"v\",\"showlegend\":true,\"x\":[39],\"xaxis\":\"x\",\"y\":[38502.42392],\"yaxis\":\"y\",\"type\":\"scatter\"},{\"hovertemplate\":\"Customer Name=Cleo Moore<br>Age=%{x}<br>Car Purchase Amount=%{y}<extra></extra>\",\"legendgroup\":\"Cleo Moore\",\"marker\":{\"color\":\"#FECB52\",\"symbol\":\"circle\"},\"mode\":\"markers\",\"name\":\"Cleo Moore\",\"orientation\":\"v\",\"showlegend\":true,\"x\":[45],\"xaxis\":\"x\",\"y\":[41221.24918],\"yaxis\":\"y\",\"type\":\"scatter\"},{\"hovertemplate\":\"Customer Name=Cally Montoya<br>Age=%{x}<br>Car Purchase Amount=%{y}<extra></extra>\",\"legendgroup\":\"Cally Montoya\",\"marker\":{\"color\":\"#636efa\",\"symbol\":\"circle\"},\"mode\":\"markers\",\"name\":\"Cally Montoya\",\"orientation\":\"v\",\"showlegend\":true,\"x\":[33],\"xaxis\":\"x\",\"y\":[38399.46139],\"yaxis\":\"y\",\"type\":\"scatter\"},{\"hovertemplate\":\"Customer Name=Ila Farrell<br>Age=%{x}<br>Car Purchase Amount=%{y}<extra></extra>\",\"legendgroup\":\"Ila Farrell\",\"marker\":{\"color\":\"#EF553B\",\"symbol\":\"circle\"},\"mode\":\"markers\",\"name\":\"Ila Farrell\",\"orientation\":\"v\",\"showlegend\":true,\"x\":[44],\"xaxis\":\"x\",\"y\":[41456.68097],\"yaxis\":\"y\",\"type\":\"scatter\"},{\"hovertemplate\":\"Customer Name=Abel Stanton<br>Age=%{x}<br>Car Purchase Amount=%{y}<extra></extra>\",\"legendgroup\":\"Abel Stanton\",\"marker\":{\"color\":\"#00cc96\",\"symbol\":\"circle\"},\"mode\":\"markers\",\"name\":\"Abel Stanton\",\"orientation\":\"v\",\"showlegend\":true,\"x\":[40],\"xaxis\":\"x\",\"y\":[30394.82494],\"yaxis\":\"y\",\"type\":\"scatter\"},{\"hovertemplate\":\"Customer Name=Reed Roman<br>Age=%{x}<br>Car Purchase Amount=%{y}<extra></extra>\",\"legendgroup\":\"Reed Roman\",\"marker\":{\"color\":\"#ab63fa\",\"symbol\":\"circle\"},\"mode\":\"markers\",\"name\":\"Reed Roman\",\"orientation\":\"v\",\"showlegend\":true,\"x\":[40],\"xaxis\":\"x\",\"y\":[42384.05128],\"yaxis\":\"y\",\"type\":\"scatter\"},{\"hovertemplate\":\"Customer Name=September Puckett<br>Age=%{x}<br>Car Purchase Amount=%{y}<extra></extra>\",\"legendgroup\":\"September Puckett\",\"marker\":{\"color\":\"#FFA15A\",\"symbol\":\"circle\"},\"mode\":\"markers\",\"name\":\"September Puckett\",\"orientation\":\"v\",\"showlegend\":true,\"x\":[37],\"xaxis\":\"x\",\"y\":[39002.0771],\"yaxis\":\"y\",\"type\":\"scatter\"},{\"hovertemplate\":\"Customer Name=Teegan Barr<br>Age=%{x}<br>Car Purchase Amount=%{y}<extra></extra>\",\"legendgroup\":\"Teegan Barr\",\"marker\":{\"color\":\"#19d3f3\",\"symbol\":\"circle\"},\"mode\":\"markers\",\"name\":\"Teegan Barr\",\"orientation\":\"v\",\"showlegend\":true,\"x\":[40],\"xaxis\":\"x\",\"y\":[19553.2739],\"yaxis\":\"y\",\"type\":\"scatter\"},{\"hovertemplate\":\"Customer Name=Alexander York<br>Age=%{x}<br>Car Purchase Amount=%{y}<extra></extra>\",\"legendgroup\":\"Alexander York\",\"marker\":{\"color\":\"#FF6692\",\"symbol\":\"circle\"},\"mode\":\"markers\",\"name\":\"Alexander York\",\"orientation\":\"v\",\"showlegend\":true,\"x\":[44],\"xaxis\":\"x\",\"y\":[45167.32542],\"yaxis\":\"y\",\"type\":\"scatter\"},{\"hovertemplate\":\"Customer Name=Jared Green<br>Age=%{x}<br>Car Purchase Amount=%{y}<extra></extra>\",\"legendgroup\":\"Jared Green\",\"marker\":{\"color\":\"#B6E880\",\"symbol\":\"circle\"},\"mode\":\"markers\",\"name\":\"Jared Green\",\"orientation\":\"v\",\"showlegend\":true,\"x\":[43],\"xaxis\":\"x\",\"y\":[36019.9556],\"yaxis\":\"y\",\"type\":\"scatter\"},{\"hovertemplate\":\"Customer Name=Eagan Woodward<br>Age=%{x}<br>Car Purchase Amount=%{y}<extra></extra>\",\"legendgroup\":\"Eagan Woodward\",\"marker\":{\"color\":\"#FF97FF\",\"symbol\":\"circle\"},\"mode\":\"markers\",\"name\":\"Eagan Woodward\",\"orientation\":\"v\",\"showlegend\":true,\"x\":[58],\"xaxis\":\"x\",\"y\":[50937.93844],\"yaxis\":\"y\",\"type\":\"scatter\"},{\"hovertemplate\":\"Customer Name=Ferdinand Weber<br>Age=%{x}<br>Car Purchase Amount=%{y}<extra></extra>\",\"legendgroup\":\"Ferdinand Weber\",\"marker\":{\"color\":\"#FECB52\",\"symbol\":\"circle\"},\"mode\":\"markers\",\"name\":\"Ferdinand Weber\",\"orientation\":\"v\",\"showlegend\":true,\"x\":[32],\"xaxis\":\"x\",\"y\":[12895.71468],\"yaxis\":\"y\",\"type\":\"scatter\"},{\"hovertemplate\":\"Customer Name=Kitra Kerr<br>Age=%{x}<br>Car Purchase Amount=%{y}<extra></extra>\",\"legendgroup\":\"Kitra Kerr\",\"marker\":{\"color\":\"#636efa\",\"symbol\":\"circle\"},\"mode\":\"markers\",\"name\":\"Kitra Kerr\",\"orientation\":\"v\",\"showlegend\":true,\"x\":[50],\"xaxis\":\"x\",\"y\":[38955.21919],\"yaxis\":\"y\",\"type\":\"scatter\"},{\"hovertemplate\":\"Customer Name=Desirae Stone<br>Age=%{x}<br>Car Purchase Amount=%{y}<extra></extra>\",\"legendgroup\":\"Desirae Stone\",\"marker\":{\"color\":\"#EF553B\",\"symbol\":\"circle\"},\"mode\":\"markers\",\"name\":\"Desirae Stone\",\"orientation\":\"v\",\"showlegend\":true,\"x\":[59],\"xaxis\":\"x\",\"y\":[51221.04249],\"yaxis\":\"y\",\"type\":\"scatter\"},{\"hovertemplate\":\"Customer Name=Len Phillips<br>Age=%{x}<br>Car Purchase Amount=%{y}<extra></extra>\",\"legendgroup\":\"Len Phillips\",\"marker\":{\"color\":\"#00cc96\",\"symbol\":\"circle\"},\"mode\":\"markers\",\"name\":\"Len Phillips\",\"orientation\":\"v\",\"showlegend\":true,\"x\":[42],\"xaxis\":\"x\",\"y\":[25971.95673],\"yaxis\":\"y\",\"type\":\"scatter\"},{\"hovertemplate\":\"Customer Name=Yen Santana<br>Age=%{x}<br>Car Purchase Amount=%{y}<extra></extra>\",\"legendgroup\":\"Yen Santana\",\"marker\":{\"color\":\"#ab63fa\",\"symbol\":\"circle\"},\"mode\":\"markers\",\"name\":\"Yen Santana\",\"orientation\":\"v\",\"showlegend\":true,\"x\":[50],\"xaxis\":\"x\",\"y\":[60670.33672],\"yaxis\":\"y\",\"type\":\"scatter\"},{\"hovertemplate\":\"Customer Name=Martina Fuentes<br>Age=%{x}<br>Car Purchase Amount=%{y}<extra></extra>\",\"legendgroup\":\"Martina Fuentes\",\"marker\":{\"color\":\"#FFA15A\",\"symbol\":\"circle\"},\"mode\":\"markers\",\"name\":\"Martina Fuentes\",\"orientation\":\"v\",\"showlegend\":true,\"x\":[53],\"xaxis\":\"x\",\"y\":[54075.12064],\"yaxis\":\"y\",\"type\":\"scatter\"},{\"hovertemplate\":\"Customer Name=Ariana Nash<br>Age=%{x}<br>Car Purchase Amount=%{y}<extra></extra>\",\"legendgroup\":\"Ariana Nash\",\"marker\":{\"color\":\"#19d3f3\",\"symbol\":\"circle\"},\"mode\":\"markers\",\"name\":\"Ariana Nash\",\"orientation\":\"v\",\"showlegend\":true,\"x\":[47],\"xaxis\":\"x\",\"y\":[40004.87142],\"yaxis\":\"y\",\"type\":\"scatter\"},{\"hovertemplate\":\"Customer Name=Glenna Graham<br>Age=%{x}<br>Car Purchase Amount=%{y}<extra></extra>\",\"legendgroup\":\"Glenna Graham\",\"marker\":{\"color\":\"#FF6692\",\"symbol\":\"circle\"},\"mode\":\"markers\",\"name\":\"Glenna Graham\",\"orientation\":\"v\",\"showlegend\":true,\"x\":[46],\"xaxis\":\"x\",\"y\":[61593.52058],\"yaxis\":\"y\",\"type\":\"scatter\"},{\"hovertemplate\":\"Customer Name=Holmes Lane<br>Age=%{x}<br>Car Purchase Amount=%{y}<extra></extra>\",\"legendgroup\":\"Holmes Lane\",\"marker\":{\"color\":\"#B6E880\",\"symbol\":\"circle\"},\"mode\":\"markers\",\"name\":\"Holmes Lane\",\"orientation\":\"v\",\"showlegend\":true,\"x\":[43],\"xaxis\":\"x\",\"y\":[39503.38829],\"yaxis\":\"y\",\"type\":\"scatter\"},{\"hovertemplate\":\"Customer Name=Emerald Hamilton<br>Age=%{x}<br>Car Purchase Amount=%{y}<extra></extra>\",\"legendgroup\":\"Emerald Hamilton\",\"marker\":{\"color\":\"#FF97FF\",\"symbol\":\"circle\"},\"mode\":\"markers\",\"name\":\"Emerald Hamilton\",\"orientation\":\"v\",\"showlegend\":true,\"x\":[49],\"xaxis\":\"x\",\"y\":[52474.71839],\"yaxis\":\"y\",\"type\":\"scatter\"},{\"hovertemplate\":\"Customer Name=Gage Marquez<br>Age=%{x}<br>Car Purchase Amount=%{y}<extra></extra>\",\"legendgroup\":\"Gage Marquez\",\"marker\":{\"color\":\"#FECB52\",\"symbol\":\"circle\"},\"mode\":\"markers\",\"name\":\"Gage Marquez\",\"orientation\":\"v\",\"showlegend\":true,\"x\":[43],\"xaxis\":\"x\",\"y\":[42187.6828],\"yaxis\":\"y\",\"type\":\"scatter\"},{\"hovertemplate\":\"Customer Name=Travis Burks<br>Age=%{x}<br>Car Purchase Amount=%{y}<extra></extra>\",\"legendgroup\":\"Travis Burks\",\"marker\":{\"color\":\"#636efa\",\"symbol\":\"circle\"},\"mode\":\"markers\",\"name\":\"Travis Burks\",\"orientation\":\"v\",\"showlegend\":true,\"x\":[53],\"xaxis\":\"x\",\"y\":[57441.44414],\"yaxis\":\"y\",\"type\":\"scatter\"},{\"hovertemplate\":\"Customer Name=Otto Oneill<br>Age=%{x}<br>Car Purchase Amount=%{y}<extra></extra>\",\"legendgroup\":\"Otto Oneill\",\"marker\":{\"color\":\"#EF553B\",\"symbol\":\"circle\"},\"mode\":\"markers\",\"name\":\"Otto Oneill\",\"orientation\":\"v\",\"showlegend\":true,\"x\":[36],\"xaxis\":\"x\",\"y\":[22681.71667],\"yaxis\":\"y\",\"type\":\"scatter\"},{\"hovertemplate\":\"Customer Name=Brian Mathews<br>Age=%{x}<br>Car Purchase Amount=%{y}<extra></extra>\",\"legendgroup\":\"Brian Mathews\",\"marker\":{\"color\":\"#00cc96\",\"symbol\":\"circle\"},\"mode\":\"markers\",\"name\":\"Brian Mathews\",\"orientation\":\"v\",\"showlegend\":true,\"x\":[30],\"xaxis\":\"x\",\"y\":[33640.73697],\"yaxis\":\"y\",\"type\":\"scatter\"},{\"hovertemplate\":\"Customer Name=Ralph Rich<br>Age=%{x}<br>Car Purchase Amount=%{y}<extra></extra>\",\"legendgroup\":\"Ralph Rich\",\"marker\":{\"color\":\"#ab63fa\",\"symbol\":\"circle\"},\"mode\":\"markers\",\"name\":\"Ralph Rich\",\"orientation\":\"v\",\"showlegend\":true,\"x\":[37],\"xaxis\":\"x\",\"y\":[31540.77868],\"yaxis\":\"y\",\"type\":\"scatter\"},{\"hovertemplate\":\"Customer Name=Yasir Tyler<br>Age=%{x}<br>Car Purchase Amount=%{y}<extra></extra>\",\"legendgroup\":\"Yasir Tyler\",\"marker\":{\"color\":\"#FFA15A\",\"symbol\":\"circle\"},\"mode\":\"markers\",\"name\":\"Yasir Tyler\",\"orientation\":\"v\",\"showlegend\":true,\"x\":[48],\"xaxis\":\"x\",\"y\":[60461.24268],\"yaxis\":\"y\",\"type\":\"scatter\"},{\"hovertemplate\":\"Customer Name=Dominic Mcintosh<br>Age=%{x}<br>Car Purchase Amount=%{y}<extra></extra>\",\"legendgroup\":\"Dominic Mcintosh\",\"marker\":{\"color\":\"#19d3f3\",\"symbol\":\"circle\"},\"mode\":\"markers\",\"name\":\"Dominic Mcintosh\",\"orientation\":\"v\",\"showlegend\":true,\"x\":[44],\"xaxis\":\"x\",\"y\":[45738.3343],\"yaxis\":\"y\",\"type\":\"scatter\"},{\"hovertemplate\":\"Customer Name=Tanner Ward<br>Age=%{x}<br>Car Purchase Amount=%{y}<extra></extra>\",\"legendgroup\":\"Tanner Ward\",\"marker\":{\"color\":\"#FF6692\",\"symbol\":\"circle\"},\"mode\":\"markers\",\"name\":\"Tanner Ward\",\"orientation\":\"v\",\"showlegend\":true,\"x\":[42],\"xaxis\":\"x\",\"y\":[34803.82395],\"yaxis\":\"y\",\"type\":\"scatter\"},{\"hovertemplate\":\"Customer Name=Wing Gray<br>Age=%{x}<br>Car Purchase Amount=%{y}<extra></extra>\",\"legendgroup\":\"Wing Gray\",\"marker\":{\"color\":\"#B6E880\",\"symbol\":\"circle\"},\"mode\":\"markers\",\"name\":\"Wing Gray\",\"orientation\":\"v\",\"showlegend\":true,\"x\":[50],\"xaxis\":\"x\",\"y\":[34642.6024],\"yaxis\":\"y\",\"type\":\"scatter\"},{\"hovertemplate\":\"Customer Name=Lionel Mcclure<br>Age=%{x}<br>Car Purchase Amount=%{y}<extra></extra>\",\"legendgroup\":\"Lionel Mcclure\",\"marker\":{\"color\":\"#FF97FF\",\"symbol\":\"circle\"},\"mode\":\"markers\",\"name\":\"Lionel Mcclure\",\"orientation\":\"v\",\"showlegend\":true,\"x\":[30],\"xaxis\":\"x\",\"y\":[27586.71854],\"yaxis\":\"y\",\"type\":\"scatter\"},{\"hovertemplate\":\"Customer Name=Wing Parks<br>Age=%{x}<br>Car Purchase Amount=%{y}<extra></extra>\",\"legendgroup\":\"Wing Parks\",\"marker\":{\"color\":\"#FECB52\",\"symbol\":\"circle\"},\"mode\":\"markers\",\"name\":\"Wing Parks\",\"orientation\":\"v\",\"showlegend\":true,\"x\":[42],\"xaxis\":\"x\",\"y\":[54973.02495],\"yaxis\":\"y\",\"type\":\"scatter\"},{\"hovertemplate\":\"Customer Name=Oleg Gordon<br>Age=%{x}<br>Car Purchase Amount=%{y}<extra></extra>\",\"legendgroup\":\"Oleg Gordon\",\"marker\":{\"color\":\"#636efa\",\"symbol\":\"circle\"},\"mode\":\"markers\",\"name\":\"Oleg Gordon\",\"orientation\":\"v\",\"showlegend\":true,\"x\":[46],\"xaxis\":\"x\",\"y\":[49142.51174],\"yaxis\":\"y\",\"type\":\"scatter\"},{\"hovertemplate\":\"Customer Name=Jamal Stephenson<br>Age=%{x}<br>Car Purchase Amount=%{y}<extra></extra>\",\"legendgroup\":\"Jamal Stephenson\",\"marker\":{\"color\":\"#EF553B\",\"symbol\":\"circle\"},\"mode\":\"markers\",\"name\":\"Jamal Stephenson\",\"orientation\":\"v\",\"showlegend\":true,\"x\":[55],\"xaxis\":\"x\",\"y\":[58840.53964],\"yaxis\":\"y\",\"type\":\"scatter\"},{\"hovertemplate\":\"Customer Name=Kadeem Larsen<br>Age=%{x}<br>Car Purchase Amount=%{y}<extra></extra>\",\"legendgroup\":\"Kadeem Larsen\",\"marker\":{\"color\":\"#00cc96\",\"symbol\":\"circle\"},\"mode\":\"markers\",\"name\":\"Kadeem Larsen\",\"orientation\":\"v\",\"showlegend\":true,\"x\":[44],\"xaxis\":\"x\",\"y\":[57306.32866],\"yaxis\":\"y\",\"type\":\"scatter\"},{\"hovertemplate\":\"Customer Name=Todd Maldonado<br>Age=%{x}<br>Car Purchase Amount=%{y}<extra></extra>\",\"legendgroup\":\"Todd Maldonado\",\"marker\":{\"color\":\"#ab63fa\",\"symbol\":\"circle\"},\"mode\":\"markers\",\"name\":\"Todd Maldonado\",\"orientation\":\"v\",\"showlegend\":true,\"x\":[58],\"xaxis\":\"x\",\"y\":[51941.6756],\"yaxis\":\"y\",\"type\":\"scatter\"},{\"hovertemplate\":\"Customer Name=Victor Yang<br>Age=%{x}<br>Car Purchase Amount=%{y}<extra></extra>\",\"legendgroup\":\"Victor Yang\",\"marker\":{\"color\":\"#FFA15A\",\"symbol\":\"circle\"},\"mode\":\"markers\",\"name\":\"Victor Yang\",\"orientation\":\"v\",\"showlegend\":true,\"x\":[42],\"xaxis\":\"x\",\"y\":[30240.60975],\"yaxis\":\"y\",\"type\":\"scatter\"},{\"hovertemplate\":\"Customer Name=Quamar Cummings<br>Age=%{x}<br>Car Purchase Amount=%{y}<extra></extra>\",\"legendgroup\":\"Quamar Cummings\",\"marker\":{\"color\":\"#19d3f3\",\"symbol\":\"circle\"},\"mode\":\"markers\",\"name\":\"Quamar Cummings\",\"orientation\":\"v\",\"showlegend\":true,\"x\":[57],\"xaxis\":\"x\",\"y\":[67120.89878],\"yaxis\":\"y\",\"type\":\"scatter\"},{\"hovertemplate\":\"Customer Name=Dominic Hughes<br>Age=%{x}<br>Car Purchase Amount=%{y}<extra></extra>\",\"legendgroup\":\"Dominic Hughes\",\"marker\":{\"color\":\"#FF6692\",\"symbol\":\"circle\"},\"mode\":\"markers\",\"name\":\"Dominic Hughes\",\"orientation\":\"v\",\"showlegend\":true,\"x\":[43],\"xaxis\":\"x\",\"y\":[42408.02625],\"yaxis\":\"y\",\"type\":\"scatter\"},{\"hovertemplate\":\"Customer Name=Lamar Hensley<br>Age=%{x}<br>Car Purchase Amount=%{y}<extra></extra>\",\"legendgroup\":\"Lamar Hensley\",\"marker\":{\"color\":\"#B6E880\",\"symbol\":\"circle\"},\"mode\":\"markers\",\"name\":\"Lamar Hensley\",\"orientation\":\"v\",\"showlegend\":true,\"x\":[35],\"xaxis\":\"x\",\"y\":[41451.71843],\"yaxis\":\"y\",\"type\":\"scatter\"},{\"hovertemplate\":\"Customer Name=Solomon Atkinson<br>Age=%{x}<br>Car Purchase Amount=%{y}<extra></extra>\",\"legendgroup\":\"Solomon Atkinson\",\"marker\":{\"color\":\"#FF97FF\",\"symbol\":\"circle\"},\"mode\":\"markers\",\"name\":\"Solomon Atkinson\",\"orientation\":\"v\",\"showlegend\":true,\"x\":[43],\"xaxis\":\"x\",\"y\":[42592.88647],\"yaxis\":\"y\",\"type\":\"scatter\"},{\"hovertemplate\":\"Customer Name=Dean Snider<br>Age=%{x}<br>Car Purchase Amount=%{y}<extra></extra>\",\"legendgroup\":\"Dean Snider\",\"marker\":{\"color\":\"#FECB52\",\"symbol\":\"circle\"},\"mode\":\"markers\",\"name\":\"Dean Snider\",\"orientation\":\"v\",\"showlegend\":true,\"x\":[35],\"xaxis\":\"x\",\"y\":[34521.17618],\"yaxis\":\"y\",\"type\":\"scatter\"},{\"hovertemplate\":\"Customer Name=Vernon Kidd<br>Age=%{x}<br>Car Purchase Amount=%{y}<extra></extra>\",\"legendgroup\":\"Vernon Kidd\",\"marker\":{\"color\":\"#636efa\",\"symbol\":\"circle\"},\"mode\":\"markers\",\"name\":\"Vernon Kidd\",\"orientation\":\"v\",\"showlegend\":true,\"x\":[34],\"xaxis\":\"x\",\"y\":[42213.69644],\"yaxis\":\"y\",\"type\":\"scatter\"},{\"hovertemplate\":\"Customer Name=Dolan Clayton<br>Age=%{x}<br>Car Purchase Amount=%{y}<extra></extra>\",\"legendgroup\":\"Dolan Clayton\",\"marker\":{\"color\":\"#EF553B\",\"symbol\":\"circle\"},\"mode\":\"markers\",\"name\":\"Dolan Clayton\",\"orientation\":\"v\",\"showlegend\":true,\"x\":[48],\"xaxis\":\"x\",\"y\":[41913.53713],\"yaxis\":\"y\",\"type\":\"scatter\"},{\"hovertemplate\":\"Customer Name=Marvin Deleon<br>Age=%{x}<br>Car Purchase Amount=%{y}<extra></extra>\",\"legendgroup\":\"Marvin Deleon\",\"marker\":{\"color\":\"#00cc96\",\"symbol\":\"circle\"},\"mode\":\"markers\",\"name\":\"Marvin Deleon\",\"orientation\":\"v\",\"showlegend\":true,\"x\":[53],\"xaxis\":\"x\",\"y\":[59416.18101],\"yaxis\":\"y\",\"type\":\"scatter\"},{\"hovertemplate\":\"Customer Name=Merrill Bailey<br>Age=%{x}<br>Car Purchase Amount=%{y}<extra></extra>\",\"legendgroup\":\"Merrill Bailey\",\"marker\":{\"color\":\"#ab63fa\",\"symbol\":\"circle\"},\"mode\":\"markers\",\"name\":\"Merrill Bailey\",\"orientation\":\"v\",\"showlegend\":true,\"x\":[47],\"xaxis\":\"x\",\"y\":[51402.61506],\"yaxis\":\"y\",\"type\":\"scatter\"},{\"hovertemplate\":\"Customer Name=Adrian Brock<br>Age=%{x}<br>Car Purchase Amount=%{y}<extra></extra>\",\"legendgroup\":\"Adrian Brock\",\"marker\":{\"color\":\"#FFA15A\",\"symbol\":\"circle\"},\"mode\":\"markers\",\"name\":\"Adrian Brock\",\"orientation\":\"v\",\"showlegend\":true,\"x\":[54],\"xaxis\":\"x\",\"y\":[54755.42038],\"yaxis\":\"y\",\"type\":\"scatter\"},{\"hovertemplate\":\"Customer Name=Rigel Craft<br>Age=%{x}<br>Car Purchase Amount=%{y}<extra></extra>\",\"legendgroup\":\"Rigel Craft\",\"marker\":{\"color\":\"#19d3f3\",\"symbol\":\"circle\"},\"mode\":\"markers\",\"name\":\"Rigel Craft\",\"orientation\":\"v\",\"showlegend\":true,\"x\":[51],\"xaxis\":\"x\",\"y\":[47143.44008],\"yaxis\":\"y\",\"type\":\"scatter\"},{\"hovertemplate\":\"Customer Name=Chaim Lewis<br>Age=%{x}<br>Car Purchase Amount=%{y}<extra></extra>\",\"legendgroup\":\"Chaim Lewis\",\"marker\":{\"color\":\"#FF6692\",\"symbol\":\"circle\"},\"mode\":\"markers\",\"name\":\"Chaim Lewis\",\"orientation\":\"v\",\"showlegend\":true,\"x\":[59],\"xaxis\":\"x\",\"y\":[64391.68906],\"yaxis\":\"y\",\"type\":\"scatter\"},{\"hovertemplate\":\"Customer Name=Kyle Evans<br>Age=%{x}<br>Car Purchase Amount=%{y}<extra></extra>\",\"legendgroup\":\"Kyle Evans\",\"marker\":{\"color\":\"#B6E880\",\"symbol\":\"circle\"},\"mode\":\"markers\",\"name\":\"Kyle Evans\",\"orientation\":\"v\",\"showlegend\":true,\"x\":[49],\"xaxis\":\"x\",\"y\":[37252.55194],\"yaxis\":\"y\",\"type\":\"scatter\"},{\"hovertemplate\":\"Customer Name=Ulysses Craig<br>Age=%{x}<br>Car Purchase Amount=%{y}<extra></extra>\",\"legendgroup\":\"Ulysses Craig\",\"marker\":{\"color\":\"#FF97FF\",\"symbol\":\"circle\"},\"mode\":\"markers\",\"name\":\"Ulysses Craig\",\"orientation\":\"v\",\"showlegend\":true,\"x\":[51],\"xaxis\":\"x\",\"y\":[52665.36511],\"yaxis\":\"y\",\"type\":\"scatter\"},{\"hovertemplate\":\"Customer Name=Nolan Nixon<br>Age=%{x}<br>Car Purchase Amount=%{y}<extra></extra>\",\"legendgroup\":\"Nolan Nixon\",\"marker\":{\"color\":\"#FECB52\",\"symbol\":\"circle\"},\"mode\":\"markers\",\"name\":\"Nolan Nixon\",\"orientation\":\"v\",\"showlegend\":true,\"x\":[40],\"xaxis\":\"x\",\"y\":[44001.20706],\"yaxis\":\"y\",\"type\":\"scatter\"},{\"hovertemplate\":\"Customer Name=Oren Rosario<br>Age=%{x}<br>Car Purchase Amount=%{y}<extra></extra>\",\"legendgroup\":\"Oren Rosario\",\"marker\":{\"color\":\"#636efa\",\"symbol\":\"circle\"},\"mode\":\"markers\",\"name\":\"Oren Rosario\",\"orientation\":\"v\",\"showlegend\":true,\"x\":[53],\"xaxis\":\"x\",\"y\":[51551.67997],\"yaxis\":\"y\",\"type\":\"scatter\"},{\"hovertemplate\":\"Customer Name=Hector Bowers<br>Age=%{x}<br>Car Purchase Amount=%{y}<extra></extra>\",\"legendgroup\":\"Hector Bowers\",\"marker\":{\"color\":\"#EF553B\",\"symbol\":\"circle\"},\"mode\":\"markers\",\"name\":\"Hector Bowers\",\"orientation\":\"v\",\"showlegend\":true,\"x\":[45],\"xaxis\":\"x\",\"y\":[38243.66481],\"yaxis\":\"y\",\"type\":\"scatter\"},{\"hovertemplate\":\"Customer Name=Tate Molina<br>Age=%{x}<br>Car Purchase Amount=%{y}<extra></extra>\",\"legendgroup\":\"Tate Molina\",\"marker\":{\"color\":\"#00cc96\",\"symbol\":\"circle\"},\"mode\":\"markers\",\"name\":\"Tate Molina\",\"orientation\":\"v\",\"showlegend\":true,\"x\":[45],\"xaxis\":\"x\",\"y\":[39766.64804],\"yaxis\":\"y\",\"type\":\"scatter\"},{\"hovertemplate\":\"Customer Name=Julian Alexander<br>Age=%{x}<br>Car Purchase Amount=%{y}<extra></extra>\",\"legendgroup\":\"Julian Alexander\",\"marker\":{\"color\":\"#ab63fa\",\"symbol\":\"circle\"},\"mode\":\"markers\",\"name\":\"Julian Alexander\",\"orientation\":\"v\",\"showlegend\":true,\"x\":[37],\"xaxis\":\"x\",\"y\":[40077.57289],\"yaxis\":\"y\",\"type\":\"scatter\"},{\"hovertemplate\":\"Customer Name=Lucian Medina<br>Age=%{x}<br>Car Purchase Amount=%{y}<extra></extra>\",\"legendgroup\":\"Lucian Medina\",\"marker\":{\"color\":\"#FFA15A\",\"symbol\":\"circle\"},\"mode\":\"markers\",\"name\":\"Lucian Medina\",\"orientation\":\"v\",\"showlegend\":true,\"x\":[43],\"xaxis\":\"x\",\"y\":[33131.52734],\"yaxis\":\"y\",\"type\":\"scatter\"},{\"hovertemplate\":\"Customer Name=Todd Bass<br>Age=%{x}<br>Car Purchase Amount=%{y}<extra></extra>\",\"legendgroup\":\"Todd Bass\",\"marker\":{\"color\":\"#19d3f3\",\"symbol\":\"circle\"},\"mode\":\"markers\",\"name\":\"Todd Bass\",\"orientation\":\"v\",\"showlegend\":true,\"x\":[48],\"xaxis\":\"x\",\"y\":[48622.66097],\"yaxis\":\"y\",\"type\":\"scatter\"},{\"hovertemplate\":\"Customer Name=Mannix Snow<br>Age=%{x}<br>Car Purchase Amount=%{y}<extra></extra>\",\"legendgroup\":\"Mannix Snow\",\"marker\":{\"color\":\"#FF6692\",\"symbol\":\"circle\"},\"mode\":\"markers\",\"name\":\"Mannix Snow\",\"orientation\":\"v\",\"showlegend\":true,\"x\":[49],\"xaxis\":\"x\",\"y\":[47693.23482],\"yaxis\":\"y\",\"type\":\"scatter\"},{\"hovertemplate\":\"Customer Name=Benedict Serrano<br>Age=%{x}<br>Car Purchase Amount=%{y}<extra></extra>\",\"legendgroup\":\"Benedict Serrano\",\"marker\":{\"color\":\"#B6E880\",\"symbol\":\"circle\"},\"mode\":\"markers\",\"name\":\"Benedict Serrano\",\"orientation\":\"v\",\"showlegend\":true,\"x\":[48],\"xaxis\":\"x\",\"y\":[39410.4616],\"yaxis\":\"y\",\"type\":\"scatter\"},{\"hovertemplate\":\"Customer Name=Yoshio Potter<br>Age=%{x}<br>Car Purchase Amount=%{y}<extra></extra>\",\"legendgroup\":\"Yoshio Potter\",\"marker\":{\"color\":\"#FF97FF\",\"symbol\":\"circle\"},\"mode\":\"markers\",\"name\":\"Yoshio Potter\",\"orientation\":\"v\",\"showlegend\":true,\"x\":[45],\"xaxis\":\"x\",\"y\":[33428.40183],\"yaxis\":\"y\",\"type\":\"scatter\"},{\"hovertemplate\":\"Customer Name=Stone Koch<br>Age=%{x}<br>Car Purchase Amount=%{y}<extra></extra>\",\"legendgroup\":\"Stone Koch\",\"marker\":{\"color\":\"#FECB52\",\"symbol\":\"circle\"},\"mode\":\"markers\",\"name\":\"Stone Koch\",\"orientation\":\"v\",\"showlegend\":true,\"x\":[43],\"xaxis\":\"x\",\"y\":[32700.27871],\"yaxis\":\"y\",\"type\":\"scatter\"},{\"hovertemplate\":\"Customer Name=Elliott Horne<br>Age=%{x}<br>Car Purchase Amount=%{y}<extra></extra>\",\"legendgroup\":\"Elliott Horne\",\"marker\":{\"color\":\"#636efa\",\"symbol\":\"circle\"},\"mode\":\"markers\",\"name\":\"Elliott Horne\",\"orientation\":\"v\",\"showlegend\":true,\"x\":[62],\"xaxis\":\"x\",\"y\":[62864.43011],\"yaxis\":\"y\",\"type\":\"scatter\"},{\"hovertemplate\":\"Customer Name=Tanner Johnson<br>Age=%{x}<br>Car Purchase Amount=%{y}<extra></extra>\",\"legendgroup\":\"Tanner Johnson\",\"marker\":{\"color\":\"#EF553B\",\"symbol\":\"circle\"},\"mode\":\"markers\",\"name\":\"Tanner Johnson\",\"orientation\":\"v\",\"showlegend\":true,\"x\":[46],\"xaxis\":\"x\",\"y\":[29425.83001],\"yaxis\":\"y\",\"type\":\"scatter\"},{\"hovertemplate\":\"Customer Name=Gabriel Carson<br>Age=%{x}<br>Car Purchase Amount=%{y}<extra></extra>\",\"legendgroup\":\"Gabriel Carson\",\"marker\":{\"color\":\"#00cc96\",\"symbol\":\"circle\"},\"mode\":\"markers\",\"name\":\"Gabriel Carson\",\"orientation\":\"v\",\"showlegend\":true,\"x\":[51],\"xaxis\":\"x\",\"y\":[44418.60955],\"yaxis\":\"y\",\"type\":\"scatter\"},{\"hovertemplate\":\"Customer Name=Cain Love<br>Age=%{x}<br>Car Purchase Amount=%{y}<extra></extra>\",\"legendgroup\":\"Cain Love\",\"marker\":{\"color\":\"#ab63fa\",\"symbol\":\"circle\"},\"mode\":\"markers\",\"name\":\"Cain Love\",\"orientation\":\"v\",\"showlegend\":true,\"x\":[44],\"xaxis\":\"x\",\"y\":[36645.5609],\"yaxis\":\"y\",\"type\":\"scatter\"},{\"hovertemplate\":\"Customer Name=Barry Larsen<br>Age=%{x}<br>Car Purchase Amount=%{y}<extra></extra>\",\"legendgroup\":\"Barry Larsen\",\"marker\":{\"color\":\"#FFA15A\",\"symbol\":\"circle\"},\"mode\":\"markers\",\"name\":\"Barry Larsen\",\"orientation\":\"v\",\"showlegend\":true,\"x\":[57],\"xaxis\":\"x\",\"y\":[53655.53859],\"yaxis\":\"y\",\"type\":\"scatter\"},{\"hovertemplate\":\"Customer Name=Lawrence Ryan<br>Age=%{x}<br>Car Purchase Amount=%{y}<extra></extra>\",\"legendgroup\":\"Lawrence Ryan\",\"marker\":{\"color\":\"#19d3f3\",\"symbol\":\"circle\"},\"mode\":\"markers\",\"name\":\"Lawrence Ryan\",\"orientation\":\"v\",\"showlegend\":true,\"x\":[60],\"xaxis\":\"x\",\"y\":[45977.12502],\"yaxis\":\"y\",\"type\":\"scatter\"},{\"hovertemplate\":\"Customer Name=Allen Burke<br>Age=%{x}<br>Car Purchase Amount=%{y}<extra></extra>\",\"legendgroup\":\"Allen Burke\",\"marker\":{\"color\":\"#FF6692\",\"symbol\":\"circle\"},\"mode\":\"markers\",\"name\":\"Allen Burke\",\"orientation\":\"v\",\"showlegend\":true,\"x\":[39],\"xaxis\":\"x\",\"y\":[38504.39444],\"yaxis\":\"y\",\"type\":\"scatter\"},{\"hovertemplate\":\"Customer Name=Nero Morgan<br>Age=%{x}<br>Car Purchase Amount=%{y}<extra></extra>\",\"legendgroup\":\"Nero Morgan\",\"marker\":{\"color\":\"#B6E880\",\"symbol\":\"circle\"},\"mode\":\"markers\",\"name\":\"Nero Morgan\",\"orientation\":\"v\",\"showlegend\":true,\"x\":[61],\"xaxis\":\"x\",\"y\":[47935.9394],\"yaxis\":\"y\",\"type\":\"scatter\"},{\"hovertemplate\":\"Customer Name=Reuben Holden<br>Age=%{x}<br>Car Purchase Amount=%{y}<extra></extra>\",\"legendgroup\":\"Reuben Holden\",\"marker\":{\"color\":\"#FF97FF\",\"symbol\":\"circle\"},\"mode\":\"markers\",\"name\":\"Reuben Holden\",\"orientation\":\"v\",\"showlegend\":true,\"x\":[50],\"xaxis\":\"x\",\"y\":[60222.22672],\"yaxis\":\"y\",\"type\":\"scatter\"},{\"hovertemplate\":\"Customer Name=Orson Hyde<br>Age=%{x}<br>Car Purchase Amount=%{y}<extra></extra>\",\"legendgroup\":\"Orson Hyde\",\"marker\":{\"color\":\"#FECB52\",\"symbol\":\"circle\"},\"mode\":\"markers\",\"name\":\"Orson Hyde\",\"orientation\":\"v\",\"showlegend\":true,\"x\":[37],\"xaxis\":\"x\",\"y\":[38930.55234],\"yaxis\":\"y\",\"type\":\"scatter\"},{\"hovertemplate\":\"Customer Name=Nolan Conner<br>Age=%{x}<br>Car Purchase Amount=%{y}<extra></extra>\",\"legendgroup\":\"Nolan Conner\",\"marker\":{\"color\":\"#636efa\",\"symbol\":\"circle\"},\"mode\":\"markers\",\"name\":\"Nolan Conner\",\"orientation\":\"v\",\"showlegend\":true,\"x\":[45],\"xaxis\":\"x\",\"y\":[27810.21814],\"yaxis\":\"y\",\"type\":\"scatter\"},{\"hovertemplate\":\"Customer Name=Stuart Reed<br>Age=%{x}<br>Car Purchase Amount=%{y}<extra></extra>\",\"legendgroup\":\"Stuart Reed\",\"marker\":{\"color\":\"#EF553B\",\"symbol\":\"circle\"},\"mode\":\"markers\",\"name\":\"Stuart Reed\",\"orientation\":\"v\",\"showlegend\":true,\"x\":[50],\"xaxis\":\"x\",\"y\":[47604.34591],\"yaxis\":\"y\",\"type\":\"scatter\"},{\"hovertemplate\":\"Customer Name=Rashad Harper<br>Age=%{x}<br>Car Purchase Amount=%{y}<extra></extra>\",\"legendgroup\":\"Rashad Harper\",\"marker\":{\"color\":\"#00cc96\",\"symbol\":\"circle\"},\"mode\":\"markers\",\"name\":\"Rashad Harper\",\"orientation\":\"v\",\"showlegend\":true,\"x\":[32],\"xaxis\":\"x\",\"y\":[42356.6895],\"yaxis\":\"y\",\"type\":\"scatter\"},{\"hovertemplate\":\"Customer Name=Dieter Delaney<br>Age=%{x}<br>Car Purchase Amount=%{y}<extra></extra>\",\"legendgroup\":\"Dieter Delaney\",\"marker\":{\"color\":\"#ab63fa\",\"symbol\":\"circle\"},\"mode\":\"markers\",\"name\":\"Dieter Delaney\",\"orientation\":\"v\",\"showlegend\":true,\"x\":[34],\"xaxis\":\"x\",\"y\":[31300.54347],\"yaxis\":\"y\",\"type\":\"scatter\"},{\"hovertemplate\":\"Customer Name=Hop Farley<br>Age=%{x}<br>Car Purchase Amount=%{y}<extra></extra>\",\"legendgroup\":\"Hop Farley\",\"marker\":{\"color\":\"#FFA15A\",\"symbol\":\"circle\"},\"mode\":\"markers\",\"name\":\"Hop Farley\",\"orientation\":\"v\",\"showlegend\":true,\"x\":[45],\"xaxis\":\"x\",\"y\":[42369.64247],\"yaxis\":\"y\",\"type\":\"scatter\"},{\"hovertemplate\":\"Customer Name=Darius Herring<br>Age=%{x}<br>Car Purchase Amount=%{y}<extra></extra>\",\"legendgroup\":\"Darius Herring\",\"marker\":{\"color\":\"#19d3f3\",\"symbol\":\"circle\"},\"mode\":\"markers\",\"name\":\"Darius Herring\",\"orientation\":\"v\",\"showlegend\":true,\"x\":[50],\"xaxis\":\"x\",\"y\":[31837.22537],\"yaxis\":\"y\",\"type\":\"scatter\"},{\"hovertemplate\":\"Customer Name=Baker Saunders<br>Age=%{x}<br>Car Purchase Amount=%{y}<extra></extra>\",\"legendgroup\":\"Baker Saunders\",\"marker\":{\"color\":\"#FF6692\",\"symbol\":\"circle\"},\"mode\":\"markers\",\"name\":\"Baker Saunders\",\"orientation\":\"v\",\"showlegend\":true,\"x\":[51],\"xaxis\":\"x\",\"y\":[26499.31418],\"yaxis\":\"y\",\"type\":\"scatter\"},{\"hovertemplate\":\"Customer Name=Kermit Fuentes<br>Age=%{x}<br>Car Purchase Amount=%{y}<extra></extra>\",\"legendgroup\":\"Kermit Fuentes\",\"marker\":{\"color\":\"#B6E880\",\"symbol\":\"circle\"},\"mode\":\"markers\",\"name\":\"Kermit Fuentes\",\"orientation\":\"v\",\"showlegend\":true,\"x\":[53],\"xaxis\":\"x\",\"y\":[38172.83602],\"yaxis\":\"y\",\"type\":\"scatter\"},{\"hovertemplate\":\"Customer Name=Marvin Garner<br>Age=%{x}<br>Car Purchase Amount=%{y}<extra></extra>\",\"legendgroup\":\"Marvin Garner\",\"marker\":{\"color\":\"#FF97FF\",\"symbol\":\"circle\"},\"mode\":\"markers\",\"name\":\"Marvin Garner\",\"orientation\":\"v\",\"showlegend\":true,\"x\":[34],\"xaxis\":\"x\",\"y\":[39433.40631],\"yaxis\":\"y\",\"type\":\"scatter\"},{\"hovertemplate\":\"Customer Name=Sebastian Marks<br>Age=%{x}<br>Car Purchase Amount=%{y}<extra></extra>\",\"legendgroup\":\"Sebastian Marks\",\"marker\":{\"color\":\"#FECB52\",\"symbol\":\"circle\"},\"mode\":\"markers\",\"name\":\"Sebastian Marks\",\"orientation\":\"v\",\"showlegend\":true,\"x\":[56],\"xaxis\":\"x\",\"y\":[37714.31659],\"yaxis\":\"y\",\"type\":\"scatter\"},{\"hovertemplate\":\"Customer Name=Hector Price<br>Age=%{x}<br>Car Purchase Amount=%{y}<extra></extra>\",\"legendgroup\":\"Hector Price\",\"marker\":{\"color\":\"#636efa\",\"symbol\":\"circle\"},\"mode\":\"markers\",\"name\":\"Hector Price\",\"orientation\":\"v\",\"showlegend\":true,\"x\":[57],\"xaxis\":\"x\",\"y\":[57125.41541],\"yaxis\":\"y\",\"type\":\"scatter\"},{\"hovertemplate\":\"Customer Name=Holmes Irwin<br>Age=%{x}<br>Car Purchase Amount=%{y}<extra></extra>\",\"legendgroup\":\"Holmes Irwin\",\"marker\":{\"color\":\"#EF553B\",\"symbol\":\"circle\"},\"mode\":\"markers\",\"name\":\"Holmes Irwin\",\"orientation\":\"v\",\"showlegend\":true,\"x\":[48],\"xaxis\":\"x\",\"y\":[46453.34819],\"yaxis\":\"y\",\"type\":\"scatter\"},{\"hovertemplate\":\"Customer Name=Trevor Faulkner<br>Age=%{x}<br>Car Purchase Amount=%{y}<extra></extra>\",\"legendgroup\":\"Trevor Faulkner\",\"marker\":{\"color\":\"#00cc96\",\"symbol\":\"circle\"},\"mode\":\"markers\",\"name\":\"Trevor Faulkner\",\"orientation\":\"v\",\"showlegend\":true,\"x\":[40],\"xaxis\":\"x\",\"y\":[43855.06077],\"yaxis\":\"y\",\"type\":\"scatter\"},{\"hovertemplate\":\"Customer Name=Gannon Nguyen<br>Age=%{x}<br>Car Purchase Amount=%{y}<extra></extra>\",\"legendgroup\":\"Gannon Nguyen\",\"marker\":{\"color\":\"#ab63fa\",\"symbol\":\"circle\"},\"mode\":\"markers\",\"name\":\"Gannon Nguyen\",\"orientation\":\"v\",\"showlegend\":true,\"x\":[50],\"xaxis\":\"x\",\"y\":[55592.70383],\"yaxis\":\"y\",\"type\":\"scatter\"},{\"hovertemplate\":\"Customer Name=Quentin Randall<br>Age=%{x}<br>Car Purchase Amount=%{y}<extra></extra>\",\"legendgroup\":\"Quentin Randall\",\"marker\":{\"color\":\"#FFA15A\",\"symbol\":\"circle\"},\"mode\":\"markers\",\"name\":\"Quentin Randall\",\"orientation\":\"v\",\"showlegend\":true,\"x\":[47],\"xaxis\":\"x\",\"y\":[42484.02283],\"yaxis\":\"y\",\"type\":\"scatter\"},{\"hovertemplate\":\"Customer Name=Baker Norton<br>Age=%{x}<br>Car Purchase Amount=%{y}<extra></extra>\",\"legendgroup\":\"Baker Norton\",\"marker\":{\"color\":\"#19d3f3\",\"symbol\":\"circle\"},\"mode\":\"markers\",\"name\":\"Baker Norton\",\"orientation\":\"v\",\"showlegend\":true,\"x\":[39],\"xaxis\":\"x\",\"y\":[40879.19107],\"yaxis\":\"y\",\"type\":\"scatter\"},{\"hovertemplate\":\"Customer Name=Hakeem Mendoza<br>Age=%{x}<br>Car Purchase Amount=%{y}<extra></extra>\",\"legendgroup\":\"Hakeem Mendoza\",\"marker\":{\"color\":\"#FF6692\",\"symbol\":\"circle\"},\"mode\":\"markers\",\"name\":\"Hakeem Mendoza\",\"orientation\":\"v\",\"showlegend\":true,\"x\":[36],\"xaxis\":\"x\",\"y\":[20653.21409],\"yaxis\":\"y\",\"type\":\"scatter\"},{\"hovertemplate\":\"Customer Name=Peter Maynard<br>Age=%{x}<br>Car Purchase Amount=%{y}<extra></extra>\",\"legendgroup\":\"Peter Maynard\",\"marker\":{\"color\":\"#B6E880\",\"symbol\":\"circle\"},\"mode\":\"markers\",\"name\":\"Peter Maynard\",\"orientation\":\"v\",\"showlegend\":true,\"x\":[44],\"xaxis\":\"x\",\"y\":[35438.80549],\"yaxis\":\"y\",\"type\":\"scatter\"},{\"hovertemplate\":\"Customer Name=Devin Humphrey<br>Age=%{x}<br>Car Purchase Amount=%{y}<extra></extra>\",\"legendgroup\":\"Devin Humphrey\",\"marker\":{\"color\":\"#FF97FF\",\"symbol\":\"circle\"},\"mode\":\"markers\",\"name\":\"Devin Humphrey\",\"orientation\":\"v\",\"showlegend\":true,\"x\":[47],\"xaxis\":\"x\",\"y\":[36112.79346],\"yaxis\":\"y\",\"type\":\"scatter\"},{\"hovertemplate\":\"Customer Name=Isaiah Harding<br>Age=%{x}<br>Car Purchase Amount=%{y}<extra></extra>\",\"legendgroup\":\"Isaiah Harding\",\"marker\":{\"color\":\"#FECB52\",\"symbol\":\"circle\"},\"mode\":\"markers\",\"name\":\"Isaiah Harding\",\"orientation\":\"v\",\"showlegend\":true,\"x\":[33],\"xaxis\":\"x\",\"y\":[38182.30465],\"yaxis\":\"y\",\"type\":\"scatter\"},{\"hovertemplate\":\"Customer Name=Graiden Powell<br>Age=%{x}<br>Car Purchase Amount=%{y}<extra></extra>\",\"legendgroup\":\"Graiden Powell\",\"marker\":{\"color\":\"#636efa\",\"symbol\":\"circle\"},\"mode\":\"markers\",\"name\":\"Graiden Powell\",\"orientation\":\"v\",\"showlegend\":true,\"x\":[42],\"xaxis\":\"x\",\"y\":[41026.02421],\"yaxis\":\"y\",\"type\":\"scatter\"},{\"hovertemplate\":\"Customer Name=Chancellor Padilla<br>Age=%{x}<br>Car Purchase Amount=%{y}<extra></extra>\",\"legendgroup\":\"Chancellor Padilla\",\"marker\":{\"color\":\"#EF553B\",\"symbol\":\"circle\"},\"mode\":\"markers\",\"name\":\"Chancellor Padilla\",\"orientation\":\"v\",\"showlegend\":true,\"x\":[47],\"xaxis\":\"x\",\"y\":[27889.95197],\"yaxis\":\"y\",\"type\":\"scatter\"},{\"hovertemplate\":\"Customer Name=Philip Barnes<br>Age=%{x}<br>Car Purchase Amount=%{y}<extra></extra>\",\"legendgroup\":\"Philip Barnes\",\"marker\":{\"color\":\"#00cc96\",\"symbol\":\"circle\"},\"mode\":\"markers\",\"name\":\"Philip Barnes\",\"orientation\":\"v\",\"showlegend\":true,\"x\":[40],\"xaxis\":\"x\",\"y\":[43724.4896],\"yaxis\":\"y\",\"type\":\"scatter\"},{\"hovertemplate\":\"Customer Name=Cameron Cash<br>Age=%{x}<br>Car Purchase Amount=%{y}<extra></extra>\",\"legendgroup\":\"Cameron Cash\",\"marker\":{\"color\":\"#ab63fa\",\"symbol\":\"circle\"},\"mode\":\"markers\",\"name\":\"Cameron Cash\",\"orientation\":\"v\",\"showlegend\":true,\"x\":[54],\"xaxis\":\"x\",\"y\":[57430.76903],\"yaxis\":\"y\",\"type\":\"scatter\"},{\"hovertemplate\":\"Customer Name=Eric Green<br>Age=%{x}<br>Car Purchase Amount=%{y}<extra></extra>\",\"legendgroup\":\"Eric Green\",\"marker\":{\"color\":\"#FFA15A\",\"symbol\":\"circle\"},\"mode\":\"markers\",\"name\":\"Eric Green\",\"orientation\":\"v\",\"showlegend\":true,\"x\":[38],\"xaxis\":\"x\",\"y\":[41104.07108],\"yaxis\":\"y\",\"type\":\"scatter\"},{\"hovertemplate\":\"Customer Name=Tanek Koch<br>Age=%{x}<br>Car Purchase Amount=%{y}<extra></extra>\",\"legendgroup\":\"Tanek Koch\",\"marker\":{\"color\":\"#19d3f3\",\"symbol\":\"circle\"},\"mode\":\"markers\",\"name\":\"Tanek Koch\",\"orientation\":\"v\",\"showlegend\":true,\"x\":[40],\"xaxis\":\"x\",\"y\":[49050.85378],\"yaxis\":\"y\",\"type\":\"scatter\"},{\"hovertemplate\":\"Customer Name=Alan Browning<br>Age=%{x}<br>Car Purchase Amount=%{y}<extra></extra>\",\"legendgroup\":\"Alan Browning\",\"marker\":{\"color\":\"#FF6692\",\"symbol\":\"circle\"},\"mode\":\"markers\",\"name\":\"Alan Browning\",\"orientation\":\"v\",\"showlegend\":true,\"x\":[45],\"xaxis\":\"x\",\"y\":[41265.52929],\"yaxis\":\"y\",\"type\":\"scatter\"},{\"hovertemplate\":\"Customer Name=Phelan Montoya<br>Age=%{x}<br>Car Purchase Amount=%{y}<extra></extra>\",\"legendgroup\":\"Phelan Montoya\",\"marker\":{\"color\":\"#B6E880\",\"symbol\":\"circle\"},\"mode\":\"markers\",\"name\":\"Phelan Montoya\",\"orientation\":\"v\",\"showlegend\":true,\"x\":[51],\"xaxis\":\"x\",\"y\":[64545.16339],\"yaxis\":\"y\",\"type\":\"scatter\"},{\"hovertemplate\":\"Customer Name=Chancellor Patel<br>Age=%{x}<br>Car Purchase Amount=%{y}<extra></extra>\",\"legendgroup\":\"Chancellor Patel\",\"marker\":{\"color\":\"#FF97FF\",\"symbol\":\"circle\"},\"mode\":\"markers\",\"name\":\"Chancellor Patel\",\"orientation\":\"v\",\"showlegend\":true,\"x\":[38],\"xaxis\":\"x\",\"y\":[29052.09521],\"yaxis\":\"y\",\"type\":\"scatter\"},{\"hovertemplate\":\"Customer Name=Palmer Cohen<br>Age=%{x}<br>Car Purchase Amount=%{y}<extra></extra>\",\"legendgroup\":\"Palmer Cohen\",\"marker\":{\"color\":\"#FECB52\",\"symbol\":\"circle\"},\"mode\":\"markers\",\"name\":\"Palmer Cohen\",\"orientation\":\"v\",\"showlegend\":true,\"x\":[34],\"xaxis\":\"x\",\"y\":[30719.8156],\"yaxis\":\"y\",\"type\":\"scatter\"},{\"hovertemplate\":\"Customer Name=Ahmed Wright<br>Age=%{x}<br>Car Purchase Amount=%{y}<extra></extra>\",\"legendgroup\":\"Ahmed Wright\",\"marker\":{\"color\":\"#636efa\",\"symbol\":\"circle\"},\"mode\":\"markers\",\"name\":\"Ahmed Wright\",\"orientation\":\"v\",\"showlegend\":true,\"x\":[50],\"xaxis\":\"x\",\"y\":[38763.11306],\"yaxis\":\"y\",\"type\":\"scatter\"},{\"hovertemplate\":\"Customer Name=Burton Carroll<br>Age=%{x}<br>Car Purchase Amount=%{y}<extra></extra>\",\"legendgroup\":\"Burton Carroll\",\"marker\":{\"color\":\"#EF553B\",\"symbol\":\"circle\"},\"mode\":\"markers\",\"name\":\"Burton Carroll\",\"orientation\":\"v\",\"showlegend\":true,\"x\":[42],\"xaxis\":\"x\",\"y\":[39331.20127],\"yaxis\":\"y\",\"type\":\"scatter\"},{\"hovertemplate\":\"Customer Name=Nero Miranda<br>Age=%{x}<br>Car Purchase Amount=%{y}<extra></extra>\",\"legendgroup\":\"Nero Miranda\",\"marker\":{\"color\":\"#00cc96\",\"symbol\":\"circle\"},\"mode\":\"markers\",\"name\":\"Nero Miranda\",\"orientation\":\"v\",\"showlegend\":true,\"x\":[33],\"xaxis\":\"x\",\"y\":[32608.45468],\"yaxis\":\"y\",\"type\":\"scatter\"},{\"hovertemplate\":\"Customer Name=Ali Strong<br>Age=%{x}<br>Car Purchase Amount=%{y}<extra></extra>\",\"legendgroup\":\"Ali Strong\",\"marker\":{\"color\":\"#ab63fa\",\"symbol\":\"circle\"},\"mode\":\"markers\",\"name\":\"Ali Strong\",\"orientation\":\"v\",\"showlegend\":true,\"x\":[56],\"xaxis\":\"x\",\"y\":[58045.56257],\"yaxis\":\"y\",\"type\":\"scatter\"},{\"hovertemplate\":\"Customer Name=Nasim Ryan<br>Age=%{x}<br>Car Purchase Amount=%{y}<extra></extra>\",\"legendgroup\":\"Nasim Ryan\",\"marker\":{\"color\":\"#FFA15A\",\"symbol\":\"circle\"},\"mode\":\"markers\",\"name\":\"Nasim Ryan\",\"orientation\":\"v\",\"showlegend\":true,\"x\":[57],\"xaxis\":\"x\",\"y\":[54387.27727],\"yaxis\":\"y\",\"type\":\"scatter\"},{\"hovertemplate\":\"Customer Name=August Duncan<br>Age=%{x}<br>Car Purchase Amount=%{y}<extra></extra>\",\"legendgroup\":\"August Duncan\",\"marker\":{\"color\":\"#19d3f3\",\"symbol\":\"circle\"},\"mode\":\"markers\",\"name\":\"August Duncan\",\"orientation\":\"v\",\"showlegend\":true,\"x\":[37],\"xaxis\":\"x\",\"y\":[36638.20688],\"yaxis\":\"y\",\"type\":\"scatter\"},{\"hovertemplate\":\"Customer Name=Kieran Gilliam<br>Age=%{x}<br>Car Purchase Amount=%{y}<extra></extra>\",\"legendgroup\":\"Kieran Gilliam\",\"marker\":{\"color\":\"#FF6692\",\"symbol\":\"circle\"},\"mode\":\"markers\",\"name\":\"Kieran Gilliam\",\"orientation\":\"v\",\"showlegend\":true,\"x\":[51],\"xaxis\":\"x\",\"y\":[39522.13129],\"yaxis\":\"y\",\"type\":\"scatter\"},{\"hovertemplate\":\"Customer Name=Stone Hunt<br>Age=%{x}<br>Car Purchase Amount=%{y}<extra></extra>\",\"legendgroup\":\"Stone Hunt\",\"marker\":{\"color\":\"#B6E880\",\"symbol\":\"circle\"},\"mode\":\"markers\",\"name\":\"Stone Hunt\",\"orientation\":\"v\",\"showlegend\":true,\"x\":[63],\"xaxis\":\"x\",\"y\":[42978.34626],\"yaxis\":\"y\",\"type\":\"scatter\"},{\"hovertemplate\":\"Customer Name=Malachi Henson<br>Age=%{x}<br>Car Purchase Amount=%{y}<extra></extra>\",\"legendgroup\":\"Malachi Henson\",\"marker\":{\"color\":\"#FF97FF\",\"symbol\":\"circle\"},\"mode\":\"markers\",\"name\":\"Malachi Henson\",\"orientation\":\"v\",\"showlegend\":true,\"x\":[53],\"xaxis\":\"x\",\"y\":[60865.76396],\"yaxis\":\"y\",\"type\":\"scatter\"},{\"hovertemplate\":\"Customer Name=Seth Massey<br>Age=%{x}<br>Car Purchase Amount=%{y}<extra></extra>\",\"legendgroup\":\"Seth Massey\",\"marker\":{\"color\":\"#FECB52\",\"symbol\":\"circle\"},\"mode\":\"markers\",\"name\":\"Seth Massey\",\"orientation\":\"v\",\"showlegend\":true,\"x\":[51],\"xaxis\":\"x\",\"y\":[46380.44732],\"yaxis\":\"y\",\"type\":\"scatter\"},{\"hovertemplate\":\"Customer Name=Ulric Robles<br>Age=%{x}<br>Car Purchase Amount=%{y}<extra></extra>\",\"legendgroup\":\"Ulric Robles\",\"marker\":{\"color\":\"#636efa\",\"symbol\":\"circle\"},\"mode\":\"markers\",\"name\":\"Ulric Robles\",\"orientation\":\"v\",\"showlegend\":true,\"x\":[48],\"xaxis\":\"x\",\"y\":[56579.90338],\"yaxis\":\"y\",\"type\":\"scatter\"},{\"hovertemplate\":\"Customer Name=Gannon Marquez<br>Age=%{x}<br>Car Purchase Amount=%{y}<extra></extra>\",\"legendgroup\":\"Gannon Marquez\",\"marker\":{\"color\":\"#EF553B\",\"symbol\":\"circle\"},\"mode\":\"markers\",\"name\":\"Gannon Marquez\",\"orientation\":\"v\",\"showlegend\":true,\"x\":[41],\"xaxis\":\"x\",\"y\":[42774.35579],\"yaxis\":\"y\",\"type\":\"scatter\"},{\"hovertemplate\":\"Customer Name=Marshall Armstrong<br>Age=%{x}<br>Car Purchase Amount=%{y}<extra></extra>\",\"legendgroup\":\"Marshall Armstrong\",\"marker\":{\"color\":\"#00cc96\",\"symbol\":\"circle\"},\"mode\":\"markers\",\"name\":\"Marshall Armstrong\",\"orientation\":\"v\",\"showlegend\":true,\"x\":[39],\"xaxis\":\"x\",\"y\":[37879.65385],\"yaxis\":\"y\",\"type\":\"scatter\"},{\"hovertemplate\":\"Customer Name=Christian Huffman<br>Age=%{x}<br>Car Purchase Amount=%{y}<extra></extra>\",\"legendgroup\":\"Christian Huffman\",\"marker\":{\"color\":\"#ab63fa\",\"symbol\":\"circle\"},\"mode\":\"markers\",\"name\":\"Christian Huffman\",\"orientation\":\"v\",\"showlegend\":true,\"x\":[45],\"xaxis\":\"x\",\"y\":[45208.42539],\"yaxis\":\"y\",\"type\":\"scatter\"},{\"hovertemplate\":\"Customer Name=Gil Sanders<br>Age=%{x}<br>Car Purchase Amount=%{y}<extra></extra>\",\"legendgroup\":\"Gil Sanders\",\"marker\":{\"color\":\"#FFA15A\",\"symbol\":\"circle\"},\"mode\":\"markers\",\"name\":\"Gil Sanders\",\"orientation\":\"v\",\"showlegend\":true,\"x\":[70],\"xaxis\":\"x\",\"y\":[56229.4127],\"yaxis\":\"y\",\"type\":\"scatter\"},{\"hovertemplate\":\"Customer Name=Otto Thomas<br>Age=%{x}<br>Car Purchase Amount=%{y}<extra></extra>\",\"legendgroup\":\"Otto Thomas\",\"marker\":{\"color\":\"#19d3f3\",\"symbol\":\"circle\"},\"mode\":\"markers\",\"name\":\"Otto Thomas\",\"orientation\":\"v\",\"showlegend\":true,\"x\":[51],\"xaxis\":\"x\",\"y\":[50455.11935],\"yaxis\":\"y\",\"type\":\"scatter\"},{\"hovertemplate\":\"Customer Name=Moses Blackburn<br>Age=%{x}<br>Car Purchase Amount=%{y}<extra></extra>\",\"legendgroup\":\"Moses Blackburn\",\"marker\":{\"color\":\"#FF6692\",\"symbol\":\"circle\"},\"mode\":\"markers\",\"name\":\"Moses Blackburn\",\"orientation\":\"v\",\"showlegend\":true,\"x\":[51],\"xaxis\":\"x\",\"y\":[49721.31082],\"yaxis\":\"y\",\"type\":\"scatter\"},{\"hovertemplate\":\"Customer Name=Drake Chen<br>Age=%{x}<br>Car Purchase Amount=%{y}<extra></extra>\",\"legendgroup\":\"Drake Chen\",\"marker\":{\"color\":\"#B6E880\",\"symbol\":\"circle\"},\"mode\":\"markers\",\"name\":\"Drake Chen\",\"orientation\":\"v\",\"showlegend\":true,\"x\":[42],\"xaxis\":\"x\",\"y\":[31696.99679],\"yaxis\":\"y\",\"type\":\"scatter\"},{\"hovertemplate\":\"Customer Name=Christian Hernandez<br>Age=%{x}<br>Car Purchase Amount=%{y}<extra></extra>\",\"legendgroup\":\"Christian Hernandez\",\"marker\":{\"color\":\"#FF97FF\",\"symbol\":\"circle\"},\"mode\":\"markers\",\"name\":\"Christian Hernandez\",\"orientation\":\"v\",\"showlegend\":true,\"x\":[50],\"xaxis\":\"x\",\"y\":[49220.0218],\"yaxis\":\"y\",\"type\":\"scatter\"},{\"hovertemplate\":\"Customer Name=Jelani F. Pace<br>Age=%{x}<br>Car Purchase Amount=%{y}<extra></extra>\",\"legendgroup\":\"Jelani F. Pace\",\"marker\":{\"color\":\"#FECB52\",\"symbol\":\"circle\"},\"mode\":\"markers\",\"name\":\"Jelani F. Pace\",\"orientation\":\"v\",\"showlegend\":true,\"x\":[40],\"xaxis\":\"x\",\"y\":[46188.83514],\"yaxis\":\"y\",\"type\":\"scatter\"},{\"hovertemplate\":\"Customer Name=Tiger I. Melton<br>Age=%{x}<br>Car Purchase Amount=%{y}<extra></extra>\",\"legendgroup\":\"Tiger I. Melton\",\"marker\":{\"color\":\"#636efa\",\"symbol\":\"circle\"},\"mode\":\"markers\",\"name\":\"Tiger I. Melton\",\"orientation\":\"v\",\"showlegend\":true,\"x\":[44],\"xaxis\":\"x\",\"y\":[36086.93161],\"yaxis\":\"y\",\"type\":\"scatter\"},{\"hovertemplate\":\"Customer Name=Quail D. Horne<br>Age=%{x}<br>Car Purchase Amount=%{y}<extra></extra>\",\"legendgroup\":\"Quail D. Horne\",\"marker\":{\"color\":\"#EF553B\",\"symbol\":\"circle\"},\"mode\":\"markers\",\"name\":\"Quail D. Horne\",\"orientation\":\"v\",\"showlegend\":true,\"x\":[52],\"xaxis\":\"x\",\"y\":[43264.04965],\"yaxis\":\"y\",\"type\":\"scatter\"},{\"hovertemplate\":\"Customer Name=Hammett A. Manning<br>Age=%{x}<br>Car Purchase Amount=%{y}<extra></extra>\",\"legendgroup\":\"Hammett A. Manning\",\"marker\":{\"color\":\"#00cc96\",\"symbol\":\"circle\"},\"mode\":\"markers\",\"name\":\"Hammett A. Manning\",\"orientation\":\"v\",\"showlegend\":true,\"x\":[41],\"xaxis\":\"x\",\"y\":[40660.38317],\"yaxis\":\"y\",\"type\":\"scatter\"},{\"hovertemplate\":\"Customer Name=Lamar V. Guthrie<br>Age=%{x}<br>Car Purchase Amount=%{y}<extra></extra>\",\"legendgroup\":\"Lamar V. Guthrie\",\"marker\":{\"color\":\"#ab63fa\",\"symbol\":\"circle\"},\"mode\":\"markers\",\"name\":\"Lamar V. Guthrie\",\"orientation\":\"v\",\"showlegend\":true,\"x\":[57],\"xaxis\":\"x\",\"y\":[51683.60859],\"yaxis\":\"y\",\"type\":\"scatter\"},{\"hovertemplate\":\"Customer Name=Abra D. Golden<br>Age=%{x}<br>Car Purchase Amount=%{y}<extra></extra>\",\"legendgroup\":\"Abra D. Golden\",\"marker\":{\"color\":\"#FFA15A\",\"symbol\":\"circle\"},\"mode\":\"markers\",\"name\":\"Abra D. Golden\",\"orientation\":\"v\",\"showlegend\":true,\"x\":[54],\"xaxis\":\"x\",\"y\":[44525.02085],\"yaxis\":\"y\",\"type\":\"scatter\"},{\"hovertemplate\":\"Customer Name=Vaughan L. Mathis<br>Age=%{x}<br>Car Purchase Amount=%{y}<extra></extra>\",\"legendgroup\":\"Vaughan L. Mathis\",\"marker\":{\"color\":\"#19d3f3\",\"symbol\":\"circle\"},\"mode\":\"markers\",\"name\":\"Vaughan L. Mathis\",\"orientation\":\"v\",\"showlegend\":true,\"x\":[50],\"xaxis\":\"x\",\"y\":[48518.90163],\"yaxis\":\"y\",\"type\":\"scatter\"},{\"hovertemplate\":\"Customer Name=Alfreda V. Harrell<br>Age=%{x}<br>Car Purchase Amount=%{y}<extra></extra>\",\"legendgroup\":\"Alfreda V. Harrell\",\"marker\":{\"color\":\"#FF6692\",\"symbol\":\"circle\"},\"mode\":\"markers\",\"name\":\"Alfreda V. Harrell\",\"orientation\":\"v\",\"showlegend\":true,\"x\":[37],\"xaxis\":\"x\",\"y\":[45805.30588],\"yaxis\":\"y\",\"type\":\"scatter\"},{\"hovertemplate\":\"Customer Name=Nora X. Decker<br>Age=%{x}<br>Car Purchase Amount=%{y}<extra></extra>\",\"legendgroup\":\"Nora X. Decker\",\"marker\":{\"color\":\"#B6E880\",\"symbol\":\"circle\"},\"mode\":\"markers\",\"name\":\"Nora X. Decker\",\"orientation\":\"v\",\"showlegend\":true,\"x\":[52],\"xaxis\":\"x\",\"y\":[54850.38742],\"yaxis\":\"y\",\"type\":\"scatter\"},{\"hovertemplate\":\"Customer Name=Jeanette Q. Leach<br>Age=%{x}<br>Car Purchase Amount=%{y}<extra></extra>\",\"legendgroup\":\"Jeanette Q. Leach\",\"marker\":{\"color\":\"#FF97FF\",\"symbol\":\"circle\"},\"mode\":\"markers\",\"name\":\"Jeanette Q. Leach\",\"orientation\":\"v\",\"showlegend\":true,\"x\":[43],\"xaxis\":\"x\",\"y\":[32478.44758],\"yaxis\":\"y\",\"type\":\"scatter\"},{\"hovertemplate\":\"Customer Name=Keiko O. Whitaker<br>Age=%{x}<br>Car Purchase Amount=%{y}<extra></extra>\",\"legendgroup\":\"Keiko O. Whitaker\",\"marker\":{\"color\":\"#FECB52\",\"symbol\":\"circle\"},\"mode\":\"markers\",\"name\":\"Keiko O. Whitaker\",\"orientation\":\"v\",\"showlegend\":true,\"x\":[52],\"xaxis\":\"x\",\"y\":[42209.28948],\"yaxis\":\"y\",\"type\":\"scatter\"},{\"hovertemplate\":\"Customer Name=Hector F. Leblanc<br>Age=%{x}<br>Car Purchase Amount=%{y}<extra></extra>\",\"legendgroup\":\"Hector F. Leblanc\",\"marker\":{\"color\":\"#636efa\",\"symbol\":\"circle\"},\"mode\":\"markers\",\"name\":\"Hector F. Leblanc\",\"orientation\":\"v\",\"showlegend\":true,\"x\":[64],\"xaxis\":\"x\",\"y\":[55125.93237],\"yaxis\":\"y\",\"type\":\"scatter\"},{\"hovertemplate\":\"Customer Name=Emerald R. Cohen<br>Age=%{x}<br>Car Purchase Amount=%{y}<extra></extra>\",\"legendgroup\":\"Emerald R. Cohen\",\"marker\":{\"color\":\"#EF553B\",\"symbol\":\"circle\"},\"mode\":\"markers\",\"name\":\"Emerald R. Cohen\",\"orientation\":\"v\",\"showlegend\":true,\"x\":[51],\"xaxis\":\"x\",\"y\":[47984.42062],\"yaxis\":\"y\",\"type\":\"scatter\"},{\"hovertemplate\":\"Customer Name=Cathleen E. Ortega<br>Age=%{x}<br>Car Purchase Amount=%{y}<extra></extra>\",\"legendgroup\":\"Cathleen E. Ortega\",\"marker\":{\"color\":\"#00cc96\",\"symbol\":\"circle\"},\"mode\":\"markers\",\"name\":\"Cathleen E. Ortega\",\"orientation\":\"v\",\"showlegend\":true,\"x\":[55],\"xaxis\":\"x\",\"y\":[43405.89086],\"yaxis\":\"y\",\"type\":\"scatter\"},{\"hovertemplate\":\"Customer Name=Velma K. Moses<br>Age=%{x}<br>Car Purchase Amount=%{y}<extra></extra>\",\"legendgroup\":\"Velma K. Moses\",\"marker\":{\"color\":\"#ab63fa\",\"symbol\":\"circle\"},\"mode\":\"markers\",\"name\":\"Velma K. Moses\",\"orientation\":\"v\",\"showlegend\":true,\"x\":[47],\"xaxis\":\"x\",\"y\":[44577.44829],\"yaxis\":\"y\",\"type\":\"scatter\"},{\"hovertemplate\":\"Customer Name=Lael W. Sheppard<br>Age=%{x}<br>Car Purchase Amount=%{y}<extra></extra>\",\"legendgroup\":\"Lael W. Sheppard\",\"marker\":{\"color\":\"#FFA15A\",\"symbol\":\"circle\"},\"mode\":\"markers\",\"name\":\"Lael W. Sheppard\",\"orientation\":\"v\",\"showlegend\":true,\"x\":[36],\"xaxis\":\"x\",\"y\":[37744.54285],\"yaxis\":\"y\",\"type\":\"scatter\"},{\"hovertemplate\":\"Customer Name=Indigo P. Dejesus<br>Age=%{x}<br>Car Purchase Amount=%{y}<extra></extra>\",\"legendgroup\":\"Indigo P. Dejesus\",\"marker\":{\"color\":\"#19d3f3\",\"symbol\":\"circle\"},\"mode\":\"markers\",\"name\":\"Indigo P. Dejesus\",\"orientation\":\"v\",\"showlegend\":true,\"x\":[39],\"xaxis\":\"x\",\"y\":[47805.25605],\"yaxis\":\"y\",\"type\":\"scatter\"},{\"hovertemplate\":\"Customer Name=Quinlan S. Cantu<br>Age=%{x}<br>Car Purchase Amount=%{y}<extra></extra>\",\"legendgroup\":\"Quinlan S. Cantu\",\"marker\":{\"color\":\"#FF6692\",\"symbol\":\"circle\"},\"mode\":\"markers\",\"name\":\"Quinlan S. Cantu\",\"orientation\":\"v\",\"showlegend\":true,\"x\":[45],\"xaxis\":\"x\",\"y\":[44846.68557],\"yaxis\":\"y\",\"type\":\"scatter\"},{\"hovertemplate\":\"Customer Name=Mariam I. Montgomery<br>Age=%{x}<br>Car Purchase Amount=%{y}<extra></extra>\",\"legendgroup\":\"Mariam I. Montgomery\",\"marker\":{\"color\":\"#B6E880\",\"symbol\":\"circle\"},\"mode\":\"markers\",\"name\":\"Mariam I. Montgomery\",\"orientation\":\"v\",\"showlegend\":true,\"x\":[47],\"xaxis\":\"x\",\"y\":[46643.26581],\"yaxis\":\"y\",\"type\":\"scatter\"},{\"hovertemplate\":\"Customer Name=Pamela M. Cantu<br>Age=%{x}<br>Car Purchase Amount=%{y}<extra></extra>\",\"legendgroup\":\"Pamela M. Cantu\",\"marker\":{\"color\":\"#FF97FF\",\"symbol\":\"circle\"},\"mode\":\"markers\",\"name\":\"Pamela M. Cantu\",\"orientation\":\"v\",\"showlegend\":true,\"x\":[47],\"xaxis\":\"x\",\"y\":[56563.98675],\"yaxis\":\"y\",\"type\":\"scatter\"},{\"hovertemplate\":\"Customer Name=Hanna C. Martinez<br>Age=%{x}<br>Car Purchase Amount=%{y}<extra></extra>\",\"legendgroup\":\"Hanna C. Martinez\",\"marker\":{\"color\":\"#FECB52\",\"symbol\":\"circle\"},\"mode\":\"markers\",\"name\":\"Hanna C. Martinez\",\"orientation\":\"v\",\"showlegend\":true,\"x\":[60],\"xaxis\":\"x\",\"y\":[41673.44617],\"yaxis\":\"y\",\"type\":\"scatter\"},{\"hovertemplate\":\"Customer Name=Lynn S. Avery<br>Age=%{x}<br>Car Purchase Amount=%{y}<extra></extra>\",\"legendgroup\":\"Lynn S. Avery\",\"marker\":{\"color\":\"#636efa\",\"symbol\":\"circle\"},\"mode\":\"markers\",\"name\":\"Lynn S. Avery\",\"orientation\":\"v\",\"showlegend\":true,\"x\":[59],\"xaxis\":\"x\",\"y\":[61118.46947],\"yaxis\":\"y\",\"type\":\"scatter\"},{\"hovertemplate\":\"Customer Name=Laurel H. Snow<br>Age=%{x}<br>Car Purchase Amount=%{y}<extra></extra>\",\"legendgroup\":\"Laurel H. Snow\",\"marker\":{\"color\":\"#EF553B\",\"symbol\":\"circle\"},\"mode\":\"markers\",\"name\":\"Laurel H. Snow\",\"orientation\":\"v\",\"showlegend\":true,\"x\":[36],\"xaxis\":\"x\",\"y\":[37303.56701],\"yaxis\":\"y\",\"type\":\"scatter\"},{\"hovertemplate\":\"Customer Name=Keegan Q. Ramirez<br>Age=%{x}<br>Car Purchase Amount=%{y}<extra></extra>\",\"legendgroup\":\"Keegan Q. Ramirez\",\"marker\":{\"color\":\"#00cc96\",\"symbol\":\"circle\"},\"mode\":\"markers\",\"name\":\"Keegan Q. Ramirez\",\"orientation\":\"v\",\"showlegend\":true,\"x\":[47],\"xaxis\":\"x\",\"y\":[46892.26617],\"yaxis\":\"y\",\"type\":\"scatter\"},{\"hovertemplate\":\"Customer Name=Shad K. Hancock<br>Age=%{x}<br>Car Purchase Amount=%{y}<extra></extra>\",\"legendgroup\":\"Shad K. Hancock\",\"marker\":{\"color\":\"#ab63fa\",\"symbol\":\"circle\"},\"mode\":\"markers\",\"name\":\"Shad K. Hancock\",\"orientation\":\"v\",\"showlegend\":true,\"x\":[38],\"xaxis\":\"x\",\"y\":[56457.74038],\"yaxis\":\"y\",\"type\":\"scatter\"},{\"hovertemplate\":\"Customer Name=Harding E. York<br>Age=%{x}<br>Car Purchase Amount=%{y}<extra></extra>\",\"legendgroup\":\"Harding E. York\",\"marker\":{\"color\":\"#FFA15A\",\"symbol\":\"circle\"},\"mode\":\"markers\",\"name\":\"Harding E. York\",\"orientation\":\"v\",\"showlegend\":true,\"x\":[42],\"xaxis\":\"x\",\"y\":[45509.69732],\"yaxis\":\"y\",\"type\":\"scatter\"},{\"hovertemplate\":\"Customer Name=Indira A. Aguilar<br>Age=%{x}<br>Car Purchase Amount=%{y}<extra></extra>\",\"legendgroup\":\"Indira A. Aguilar\",\"marker\":{\"color\":\"#19d3f3\",\"symbol\":\"circle\"},\"mode\":\"markers\",\"name\":\"Indira A. Aguilar\",\"orientation\":\"v\",\"showlegend\":true,\"x\":[33],\"xaxis\":\"x\",\"y\":[27625.44144],\"yaxis\":\"y\",\"type\":\"scatter\"},{\"hovertemplate\":\"Customer Name=Bell K. Romero<br>Age=%{x}<br>Car Purchase Amount=%{y}<extra></extra>\",\"legendgroup\":\"Bell K. Romero\",\"marker\":{\"color\":\"#FF6692\",\"symbol\":\"circle\"},\"mode\":\"markers\",\"name\":\"Bell K. Romero\",\"orientation\":\"v\",\"showlegend\":true,\"x\":[39],\"xaxis\":\"x\",\"y\":[46389.50237],\"yaxis\":\"y\",\"type\":\"scatter\"},{\"hovertemplate\":\"Customer Name=Cassady L. Foreman<br>Age=%{x}<br>Car Purchase Amount=%{y}<extra></extra>\",\"legendgroup\":\"Cassady L. Foreman\",\"marker\":{\"color\":\"#B6E880\",\"symbol\":\"circle\"},\"mode\":\"markers\",\"name\":\"Cassady L. Foreman\",\"orientation\":\"v\",\"showlegend\":true,\"x\":[39],\"xaxis\":\"x\",\"y\":[29002.05665],\"yaxis\":\"y\",\"type\":\"scatter\"},{\"hovertemplate\":\"Customer Name=Samson N. Wagner<br>Age=%{x}<br>Car Purchase Amount=%{y}<extra></extra>\",\"legendgroup\":\"Samson N. Wagner\",\"marker\":{\"color\":\"#FF97FF\",\"symbol\":\"circle\"},\"mode\":\"markers\",\"name\":\"Samson N. Wagner\",\"orientation\":\"v\",\"showlegend\":true,\"x\":[55],\"xaxis\":\"x\",\"y\":[51355.7106],\"yaxis\":\"y\",\"type\":\"scatter\"},{\"hovertemplate\":\"Customer Name=Wade O. Diaz<br>Age=%{x}<br>Car Purchase Amount=%{y}<extra></extra>\",\"legendgroup\":\"Wade O. Diaz\",\"marker\":{\"color\":\"#FECB52\",\"symbol\":\"circle\"},\"mode\":\"markers\",\"name\":\"Wade O. Diaz\",\"orientation\":\"v\",\"showlegend\":true,\"x\":[45],\"xaxis\":\"x\",\"y\":[42011.19965],\"yaxis\":\"y\",\"type\":\"scatter\"},{\"hovertemplate\":\"Customer Name=Len B. Finley<br>Age=%{x}<br>Car Purchase Amount=%{y}<extra></extra>\",\"legendgroup\":\"Len B. Finley\",\"marker\":{\"color\":\"#636efa\",\"symbol\":\"circle\"},\"mode\":\"markers\",\"name\":\"Len B. Finley\",\"orientation\":\"v\",\"showlegend\":true,\"x\":[51],\"xaxis\":\"x\",\"y\":[52654.40455],\"yaxis\":\"y\",\"type\":\"scatter\"},{\"hovertemplate\":\"Customer Name=Emerald U. Hanson<br>Age=%{x}<br>Car Purchase Amount=%{y}<extra></extra>\",\"legendgroup\":\"Emerald U. Hanson\",\"marker\":{\"color\":\"#EF553B\",\"symbol\":\"circle\"},\"mode\":\"markers\",\"name\":\"Emerald U. Hanson\",\"orientation\":\"v\",\"showlegend\":true,\"x\":[49],\"xaxis\":\"x\",\"y\":[44432.71747],\"yaxis\":\"y\",\"type\":\"scatter\"},{\"hovertemplate\":\"Customer Name=Cody G. Gill<br>Age=%{x}<br>Car Purchase Amount=%{y}<extra></extra>\",\"legendgroup\":\"Cody G. Gill\",\"marker\":{\"color\":\"#00cc96\",\"symbol\":\"circle\"},\"mode\":\"markers\",\"name\":\"Cody G. Gill\",\"orientation\":\"v\",\"showlegend\":true,\"x\":[46],\"xaxis\":\"x\",\"y\":[46054.60253],\"yaxis\":\"y\",\"type\":\"scatter\"},{\"hovertemplate\":\"Customer Name=Kyle R. Kaufman<br>Age=%{x}<br>Car Purchase Amount=%{y}<extra></extra>\",\"legendgroup\":\"Kyle R. Kaufman\",\"marker\":{\"color\":\"#ab63fa\",\"symbol\":\"circle\"},\"mode\":\"markers\",\"name\":\"Kyle R. Kaufman\",\"orientation\":\"v\",\"showlegend\":true,\"x\":[53],\"xaxis\":\"x\",\"y\":[58235.41454],\"yaxis\":\"y\",\"type\":\"scatter\"},{\"hovertemplate\":\"Customer Name=Drake D. Gray<br>Age=%{x}<br>Car Purchase Amount=%{y}<extra></extra>\",\"legendgroup\":\"Drake D. Gray\",\"marker\":{\"color\":\"#FFA15A\",\"symbol\":\"circle\"},\"mode\":\"markers\",\"name\":\"Drake D. Gray\",\"orientation\":\"v\",\"showlegend\":true,\"x\":[39],\"xaxis\":\"x\",\"y\":[42990.29255],\"yaxis\":\"y\",\"type\":\"scatter\"},{\"hovertemplate\":\"Customer Name=Honorato M. Butler<br>Age=%{x}<br>Car Purchase Amount=%{y}<extra></extra>\",\"legendgroup\":\"Honorato M. Butler\",\"marker\":{\"color\":\"#19d3f3\",\"symbol\":\"circle\"},\"mode\":\"markers\",\"name\":\"Honorato M. Butler\",\"orientation\":\"v\",\"showlegend\":true,\"x\":[43],\"xaxis\":\"x\",\"y\":[50702.18103],\"yaxis\":\"y\",\"type\":\"scatter\"},{\"hovertemplate\":\"Customer Name=Tate C. Foster<br>Age=%{x}<br>Car Purchase Amount=%{y}<extra></extra>\",\"legendgroup\":\"Tate C. Foster\",\"marker\":{\"color\":\"#FF6692\",\"symbol\":\"circle\"},\"mode\":\"markers\",\"name\":\"Tate C. Foster\",\"orientation\":\"v\",\"showlegend\":true,\"x\":[70],\"xaxis\":\"x\",\"y\":[47009.57741],\"yaxis\":\"y\",\"type\":\"scatter\"},{\"hovertemplate\":\"Customer Name=Zelenia L. Lowe<br>Age=%{x}<br>Car Purchase Amount=%{y}<extra></extra>\",\"legendgroup\":\"Zelenia L. Lowe\",\"marker\":{\"color\":\"#B6E880\",\"symbol\":\"circle\"},\"mode\":\"markers\",\"name\":\"Zelenia L. Lowe\",\"orientation\":\"v\",\"showlegend\":true,\"x\":[51],\"xaxis\":\"x\",\"y\":[49399.97041],\"yaxis\":\"y\",\"type\":\"scatter\"},{\"hovertemplate\":\"Customer Name=Callum U. Sweet<br>Age=%{x}<br>Car Purchase Amount=%{y}<extra></extra>\",\"legendgroup\":\"Callum U. Sweet\",\"marker\":{\"color\":\"#FF97FF\",\"symbol\":\"circle\"},\"mode\":\"markers\",\"name\":\"Callum U. Sweet\",\"orientation\":\"v\",\"showlegend\":true,\"x\":[52],\"xaxis\":\"x\",\"y\":[42997.16761],\"yaxis\":\"y\",\"type\":\"scatter\"},{\"hovertemplate\":\"Customer Name=Zane I. Boone<br>Age=%{x}<br>Car Purchase Amount=%{y}<extra></extra>\",\"legendgroup\":\"Zane I. Boone\",\"marker\":{\"color\":\"#FECB52\",\"symbol\":\"circle\"},\"mode\":\"markers\",\"name\":\"Zane I. Boone\",\"orientation\":\"v\",\"showlegend\":true,\"x\":[45],\"xaxis\":\"x\",\"y\":[44434.98419],\"yaxis\":\"y\",\"type\":\"scatter\"},{\"hovertemplate\":\"Customer Name=Timothy J. Terrell<br>Age=%{x}<br>Car Purchase Amount=%{y}<extra></extra>\",\"legendgroup\":\"Timothy J. Terrell\",\"marker\":{\"color\":\"#636efa\",\"symbol\":\"circle\"},\"mode\":\"markers\",\"name\":\"Timothy J. Terrell\",\"orientation\":\"v\",\"showlegend\":true,\"x\":[48],\"xaxis\":\"x\",\"y\":[46325.50959],\"yaxis\":\"y\",\"type\":\"scatter\"},{\"hovertemplate\":\"Customer Name=Zahir A. Estes<br>Age=%{x}<br>Car Purchase Amount=%{y}<extra></extra>\",\"legendgroup\":\"Zahir A. Estes\",\"marker\":{\"color\":\"#EF553B\",\"symbol\":\"circle\"},\"mode\":\"markers\",\"name\":\"Zahir A. Estes\",\"orientation\":\"v\",\"showlegend\":true,\"x\":[48],\"xaxis\":\"x\",\"y\":[46846.7305],\"yaxis\":\"y\",\"type\":\"scatter\"},{\"hovertemplate\":\"Customer Name=Michelle W. Ryan<br>Age=%{x}<br>Car Purchase Amount=%{y}<extra></extra>\",\"legendgroup\":\"Michelle W. Ryan\",\"marker\":{\"color\":\"#00cc96\",\"symbol\":\"circle\"},\"mode\":\"markers\",\"name\":\"Michelle W. Ryan\",\"orientation\":\"v\",\"showlegend\":true,\"x\":[48],\"xaxis\":\"x\",\"y\":[56499.10202],\"yaxis\":\"y\",\"type\":\"scatter\"},{\"hovertemplate\":\"Customer Name=Serena B. Moody<br>Age=%{x}<br>Car Purchase Amount=%{y}<extra></extra>\",\"legendgroup\":\"Serena B. Moody\",\"marker\":{\"color\":\"#ab63fa\",\"symbol\":\"circle\"},\"mode\":\"markers\",\"name\":\"Serena B. Moody\",\"orientation\":\"v\",\"showlegend\":true,\"x\":[57],\"xaxis\":\"x\",\"y\":[42773.75905],\"yaxis\":\"y\",\"type\":\"scatter\"},{\"hovertemplate\":\"Customer Name=Mark V. Vaughn<br>Age=%{x}<br>Car Purchase Amount=%{y}<extra></extra>\",\"legendgroup\":\"Mark V. Vaughn\",\"marker\":{\"color\":\"#FFA15A\",\"symbol\":\"circle\"},\"mode\":\"markers\",\"name\":\"Mark V. Vaughn\",\"orientation\":\"v\",\"showlegend\":true,\"x\":[46],\"xaxis\":\"x\",\"y\":[52313.98392],\"yaxis\":\"y\",\"type\":\"scatter\"},{\"hovertemplate\":\"Customer Name=Anjolie A. Galloway<br>Age=%{x}<br>Car Purchase Amount=%{y}<extra></extra>\",\"legendgroup\":\"Anjolie A. Galloway\",\"marker\":{\"color\":\"#19d3f3\",\"symbol\":\"circle\"},\"mode\":\"markers\",\"name\":\"Anjolie A. Galloway\",\"orientation\":\"v\",\"showlegend\":true,\"x\":[44],\"xaxis\":\"x\",\"y\":[34139.6373],\"yaxis\":\"y\",\"type\":\"scatter\"},{\"hovertemplate\":\"Customer Name=Kylee O. Warner<br>Age=%{x}<br>Car Purchase Amount=%{y}<extra></extra>\",\"legendgroup\":\"Kylee O. Warner\",\"marker\":{\"color\":\"#FF6692\",\"symbol\":\"circle\"},\"mode\":\"markers\",\"name\":\"Kylee O. Warner\",\"orientation\":\"v\",\"showlegend\":true,\"x\":[65],\"xaxis\":\"x\",\"y\":[60763.24731],\"yaxis\":\"y\",\"type\":\"scatter\"},{\"hovertemplate\":\"Customer Name=MacKenzie O. Fowler<br>Age=%{x}<br>Car Purchase Amount=%{y}<extra></extra>\",\"legendgroup\":\"MacKenzie O. Fowler\",\"marker\":{\"color\":\"#B6E880\",\"symbol\":\"circle\"},\"mode\":\"markers\",\"name\":\"MacKenzie O. Fowler\",\"orientation\":\"v\",\"showlegend\":true,\"x\":[57],\"xaxis\":\"x\",\"y\":[66158.69494],\"yaxis\":\"y\",\"type\":\"scatter\"},{\"hovertemplate\":\"Customer Name=Lana S. Pace<br>Age=%{x}<br>Car Purchase Amount=%{y}<extra></extra>\",\"legendgroup\":\"Lana S. Pace\",\"marker\":{\"color\":\"#FF97FF\",\"symbol\":\"circle\"},\"mode\":\"markers\",\"name\":\"Lana S. Pace\",\"orientation\":\"v\",\"showlegend\":true,\"x\":[47],\"xaxis\":\"x\",\"y\":[31215.6421],\"yaxis\":\"y\",\"type\":\"scatter\"},{\"hovertemplate\":\"Customer Name=Wilma L. Stevenson<br>Age=%{x}<br>Car Purchase Amount=%{y}<extra></extra>\",\"legendgroup\":\"Wilma L. Stevenson\",\"marker\":{\"color\":\"#FECB52\",\"symbol\":\"circle\"},\"mode\":\"markers\",\"name\":\"Wilma L. Stevenson\",\"orientation\":\"v\",\"showlegend\":true,\"x\":[36],\"xaxis\":\"x\",\"y\":[46135.27233],\"yaxis\":\"y\",\"type\":\"scatter\"},{\"hovertemplate\":\"Customer Name=Sandra J. Huber<br>Age=%{x}<br>Car Purchase Amount=%{y}<extra></extra>\",\"legendgroup\":\"Sandra J. Huber\",\"marker\":{\"color\":\"#636efa\",\"symbol\":\"circle\"},\"mode\":\"markers\",\"name\":\"Sandra J. Huber\",\"orientation\":\"v\",\"showlegend\":true,\"x\":[57],\"xaxis\":\"x\",\"y\":[56973.18105],\"yaxis\":\"y\",\"type\":\"scatter\"},{\"hovertemplate\":\"Customer Name=Octavius C. Spencer<br>Age=%{x}<br>Car Purchase Amount=%{y}<extra></extra>\",\"legendgroup\":\"Octavius C. Spencer\",\"marker\":{\"color\":\"#EF553B\",\"symbol\":\"circle\"},\"mode\":\"markers\",\"name\":\"Octavius C. Spencer\",\"orientation\":\"v\",\"showlegend\":true,\"x\":[33],\"xaxis\":\"x\",\"y\":[24184.07443],\"yaxis\":\"y\",\"type\":\"scatter\"},{\"hovertemplate\":\"Customer Name=Brendan G. Kelley<br>Age=%{x}<br>Car Purchase Amount=%{y}<extra></extra>\",\"legendgroup\":\"Brendan G. Kelley\",\"marker\":{\"color\":\"#00cc96\",\"symbol\":\"circle\"},\"mode\":\"markers\",\"name\":\"Brendan G. Kelley\",\"orientation\":\"v\",\"showlegend\":true,\"x\":[43],\"xaxis\":\"x\",\"y\":[49079.61942],\"yaxis\":\"y\",\"type\":\"scatter\"},{\"hovertemplate\":\"Customer Name=Shaeleigh M. Mckenzie<br>Age=%{x}<br>Car Purchase Amount=%{y}<extra></extra>\",\"legendgroup\":\"Shaeleigh M. Mckenzie\",\"marker\":{\"color\":\"#ab63fa\",\"symbol\":\"circle\"},\"mode\":\"markers\",\"name\":\"Shaeleigh M. Mckenzie\",\"orientation\":\"v\",\"showlegend\":true,\"x\":[46],\"xaxis\":\"x\",\"y\":[37093.92033],\"yaxis\":\"y\",\"type\":\"scatter\"},{\"hovertemplate\":\"Customer Name=Rooney R. Padilla<br>Age=%{x}<br>Car Purchase Amount=%{y}<extra></extra>\",\"legendgroup\":\"Rooney R. Padilla\",\"marker\":{\"color\":\"#FFA15A\",\"symbol\":\"circle\"},\"mode\":\"markers\",\"name\":\"Rooney R. Padilla\",\"orientation\":\"v\",\"showlegend\":true,\"x\":[45],\"xaxis\":\"x\",\"y\":[43401.56612],\"yaxis\":\"y\",\"type\":\"scatter\"},{\"hovertemplate\":\"Customer Name=Damon K. Boone<br>Age=%{x}<br>Car Purchase Amount=%{y}<extra></extra>\",\"legendgroup\":\"Damon K. Boone\",\"marker\":{\"color\":\"#19d3f3\",\"symbol\":\"circle\"},\"mode\":\"markers\",\"name\":\"Damon K. Boone\",\"orientation\":\"v\",\"showlegend\":true,\"x\":[43],\"xaxis\":\"x\",\"y\":[29092.1311],\"yaxis\":\"y\",\"type\":\"scatter\"},{\"hovertemplate\":\"Customer Name=Taylor A. Patel<br>Age=%{x}<br>Car Purchase Amount=%{y}<extra></extra>\",\"legendgroup\":\"Taylor A. Patel\",\"marker\":{\"color\":\"#FF6692\",\"symbol\":\"circle\"},\"mode\":\"markers\",\"name\":\"Taylor A. Patel\",\"orientation\":\"v\",\"showlegend\":true,\"x\":[38],\"xaxis\":\"x\",\"y\":[48349.16457],\"yaxis\":\"y\",\"type\":\"scatter\"},{\"hovertemplate\":\"Customer Name=Lillith H. Larsen<br>Age=%{x}<br>Car Purchase Amount=%{y}<extra></extra>\",\"legendgroup\":\"Lillith H. Larsen\",\"marker\":{\"color\":\"#B6E880\",\"symbol\":\"circle\"},\"mode\":\"markers\",\"name\":\"Lillith H. Larsen\",\"orientation\":\"v\",\"showlegend\":true,\"x\":[40],\"xaxis\":\"x\",\"y\":[33261.00057],\"yaxis\":\"y\",\"type\":\"scatter\"},{\"hovertemplate\":\"Customer Name=Tobias L. Sullivan<br>Age=%{x}<br>Car Purchase Amount=%{y}<extra></extra>\",\"legendgroup\":\"Tobias L. Sullivan\",\"marker\":{\"color\":\"#FF97FF\",\"symbol\":\"circle\"},\"mode\":\"markers\",\"name\":\"Tobias L. Sullivan\",\"orientation\":\"v\",\"showlegend\":true,\"x\":[43],\"xaxis\":\"x\",\"y\":[41327.16554],\"yaxis\":\"y\",\"type\":\"scatter\"},{\"hovertemplate\":\"Customer Name=Quincy Q. Ayers<br>Age=%{x}<br>Car Purchase Amount=%{y}<extra></extra>\",\"legendgroup\":\"Quincy Q. Ayers\",\"marker\":{\"color\":\"#FECB52\",\"symbol\":\"circle\"},\"mode\":\"markers\",\"name\":\"Quincy Q. Ayers\",\"orientation\":\"v\",\"showlegend\":true,\"x\":[42],\"xaxis\":\"x\",\"y\":[49336.11628],\"yaxis\":\"y\",\"type\":\"scatter\"},{\"hovertemplate\":\"Customer Name=Ulysses X. Burch<br>Age=%{x}<br>Car Purchase Amount=%{y}<extra></extra>\",\"legendgroup\":\"Ulysses X. Burch\",\"marker\":{\"color\":\"#636efa\",\"symbol\":\"circle\"},\"mode\":\"markers\",\"name\":\"Ulysses X. Burch\",\"orientation\":\"v\",\"showlegend\":true,\"x\":[51],\"xaxis\":\"x\",\"y\":[51405.55229],\"yaxis\":\"y\",\"type\":\"scatter\"},{\"hovertemplate\":\"Customer Name=Jorden I. Whitley<br>Age=%{x}<br>Car Purchase Amount=%{y}<extra></extra>\",\"legendgroup\":\"Jorden I. Whitley\",\"marker\":{\"color\":\"#EF553B\",\"symbol\":\"circle\"},\"mode\":\"markers\",\"name\":\"Jorden I. Whitley\",\"orientation\":\"v\",\"showlegend\":true,\"x\":[38],\"xaxis\":\"x\",\"y\":[31249.98803],\"yaxis\":\"y\",\"type\":\"scatter\"},{\"hovertemplate\":\"Customer Name=Heather G. Goodwin<br>Age=%{x}<br>Car Purchase Amount=%{y}<extra></extra>\",\"legendgroup\":\"Heather G. Goodwin\",\"marker\":{\"color\":\"#00cc96\",\"symbol\":\"circle\"},\"mode\":\"markers\",\"name\":\"Heather G. Goodwin\",\"orientation\":\"v\",\"showlegend\":true,\"x\":[41],\"xaxis\":\"x\",\"y\":[43598.96993],\"yaxis\":\"y\",\"type\":\"scatter\"},{\"hovertemplate\":\"Customer Name=Yardley W. Jacobson<br>Age=%{x}<br>Car Purchase Amount=%{y}<extra></extra>\",\"legendgroup\":\"Yardley W. Jacobson\",\"marker\":{\"color\":\"#ab63fa\",\"symbol\":\"circle\"},\"mode\":\"markers\",\"name\":\"Yardley W. Jacobson\",\"orientation\":\"v\",\"showlegend\":true,\"x\":[54],\"xaxis\":\"x\",\"y\":[48300.02057],\"yaxis\":\"y\",\"type\":\"scatter\"},{\"hovertemplate\":\"Customer Name=Gray F. Walker<br>Age=%{x}<br>Car Purchase Amount=%{y}<extra></extra>\",\"legendgroup\":\"Gray F. Walker\",\"marker\":{\"color\":\"#FFA15A\",\"symbol\":\"circle\"},\"mode\":\"markers\",\"name\":\"Gray F. Walker\",\"orientation\":\"v\",\"showlegend\":true,\"x\":[45],\"xaxis\":\"x\",\"y\":[54013.47595],\"yaxis\":\"y\",\"type\":\"scatter\"},{\"hovertemplate\":\"Customer Name=Piper S. Houston<br>Age=%{x}<br>Car Purchase Amount=%{y}<extra></extra>\",\"legendgroup\":\"Piper S. Houston\",\"marker\":{\"color\":\"#19d3f3\",\"symbol\":\"circle\"},\"mode\":\"markers\",\"name\":\"Piper S. Houston\",\"orientation\":\"v\",\"showlegend\":true,\"x\":[41],\"xaxis\":\"x\",\"y\":[38674.66038],\"yaxis\":\"y\",\"type\":\"scatter\"},{\"hovertemplate\":\"Customer Name=Chester X. Carrillo<br>Age=%{x}<br>Car Purchase Amount=%{y}<extra></extra>\",\"legendgroup\":\"Chester X. Carrillo\",\"marker\":{\"color\":\"#FF6692\",\"symbol\":\"circle\"},\"mode\":\"markers\",\"name\":\"Chester X. Carrillo\",\"orientation\":\"v\",\"showlegend\":true,\"x\":[40],\"xaxis\":\"x\",\"y\":[37076.82508],\"yaxis\":\"y\",\"type\":\"scatter\"},{\"hovertemplate\":\"Customer Name=Nathaniel P. Stephens<br>Age=%{x}<br>Car Purchase Amount=%{y}<extra></extra>\",\"legendgroup\":\"Nathaniel P. Stephens\",\"marker\":{\"color\":\"#B6E880\",\"symbol\":\"circle\"},\"mode\":\"markers\",\"name\":\"Nathaniel P. Stephens\",\"orientation\":\"v\",\"showlegend\":true,\"x\":[32],\"xaxis\":\"x\",\"y\":[37947.85125],\"yaxis\":\"y\",\"type\":\"scatter\"},{\"hovertemplate\":\"Customer Name=Jennifer C. Williamson<br>Age=%{x}<br>Car Purchase Amount=%{y}<extra></extra>\",\"legendgroup\":\"Jennifer C. Williamson\",\"marker\":{\"color\":\"#FF97FF\",\"symbol\":\"circle\"},\"mode\":\"markers\",\"name\":\"Jennifer C. Williamson\",\"orientation\":\"v\",\"showlegend\":true,\"x\":[54],\"xaxis\":\"x\",\"y\":[41320.07256],\"yaxis\":\"y\",\"type\":\"scatter\"},{\"hovertemplate\":\"Customer Name=Rae C. Hodge<br>Age=%{x}<br>Car Purchase Amount=%{y}<extra></extra>\",\"legendgroup\":\"Rae C. Hodge\",\"marker\":{\"color\":\"#FECB52\",\"symbol\":\"circle\"},\"mode\":\"markers\",\"name\":\"Rae C. Hodge\",\"orientation\":\"v\",\"showlegend\":true,\"x\":[55],\"xaxis\":\"x\",\"y\":[66888.93694],\"yaxis\":\"y\",\"type\":\"scatter\"},{\"hovertemplate\":\"Customer Name=Urielle M. Contreras<br>Age=%{x}<br>Car Purchase Amount=%{y}<extra></extra>\",\"legendgroup\":\"Urielle M. Contreras\",\"marker\":{\"color\":\"#636efa\",\"symbol\":\"circle\"},\"mode\":\"markers\",\"name\":\"Urielle M. Contreras\",\"orientation\":\"v\",\"showlegend\":true,\"x\":[35],\"xaxis\":\"x\",\"y\":[12536.93842],\"yaxis\":\"y\",\"type\":\"scatter\"},{\"hovertemplate\":\"Customer Name=Mechelle W. Stanton<br>Age=%{x}<br>Car Purchase Amount=%{y}<extra></extra>\",\"legendgroup\":\"Mechelle W. Stanton\",\"marker\":{\"color\":\"#EF553B\",\"symbol\":\"circle\"},\"mode\":\"markers\",\"name\":\"Mechelle W. Stanton\",\"orientation\":\"v\",\"showlegend\":true,\"x\":[46],\"xaxis\":\"x\",\"y\":[39549.13039],\"yaxis\":\"y\",\"type\":\"scatter\"},{\"hovertemplate\":\"Customer Name=Leila F. Hubbard<br>Age=%{x}<br>Car Purchase Amount=%{y}<extra></extra>\",\"legendgroup\":\"Leila F. Hubbard\",\"marker\":{\"color\":\"#00cc96\",\"symbol\":\"circle\"},\"mode\":\"markers\",\"name\":\"Leila F. Hubbard\",\"orientation\":\"v\",\"showlegend\":true,\"x\":[45],\"xaxis\":\"x\",\"y\":[52709.08196],\"yaxis\":\"y\",\"type\":\"scatter\"},{\"hovertemplate\":\"Customer Name=Tanisha H. Foster<br>Age=%{x}<br>Car Purchase Amount=%{y}<extra></extra>\",\"legendgroup\":\"Tanisha H. Foster\",\"marker\":{\"color\":\"#ab63fa\",\"symbol\":\"circle\"},\"mode\":\"markers\",\"name\":\"Tanisha H. Foster\",\"orientation\":\"v\",\"showlegend\":true,\"x\":[50],\"xaxis\":\"x\",\"y\":[53502.97742],\"yaxis\":\"y\",\"type\":\"scatter\"},{\"hovertemplate\":\"Customer Name=Hammett F. Marsh<br>Age=%{x}<br>Car Purchase Amount=%{y}<extra></extra>\",\"legendgroup\":\"Hammett F. Marsh\",\"marker\":{\"color\":\"#FFA15A\",\"symbol\":\"circle\"},\"mode\":\"markers\",\"name\":\"Hammett F. Marsh\",\"orientation\":\"v\",\"showlegend\":true,\"x\":[54],\"xaxis\":\"x\",\"y\":[52116.90791],\"yaxis\":\"y\",\"type\":\"scatter\"},{\"hovertemplate\":\"Customer Name=Calvin A. Lancaster<br>Age=%{x}<br>Car Purchase Amount=%{y}<extra></extra>\",\"legendgroup\":\"Calvin A. Lancaster\",\"marker\":{\"color\":\"#19d3f3\",\"symbol\":\"circle\"},\"mode\":\"markers\",\"name\":\"Calvin A. Lancaster\",\"orientation\":\"v\",\"showlegend\":true,\"x\":[29],\"xaxis\":\"x\",\"y\":[38705.65839],\"yaxis\":\"y\",\"type\":\"scatter\"},{\"hovertemplate\":\"Customer Name=Rachel H. Ballard<br>Age=%{x}<br>Car Purchase Amount=%{y}<extra></extra>\",\"legendgroup\":\"Rachel H. Ballard\",\"marker\":{\"color\":\"#FF6692\",\"symbol\":\"circle\"},\"mode\":\"markers\",\"name\":\"Rachel H. Ballard\",\"orientation\":\"v\",\"showlegend\":true,\"x\":[56],\"xaxis\":\"x\",\"y\":[48025.02542],\"yaxis\":\"y\",\"type\":\"scatter\"},{\"hovertemplate\":\"Customer Name=Solomon P. Randolph<br>Age=%{x}<br>Car Purchase Amount=%{y}<extra></extra>\",\"legendgroup\":\"Solomon P. Randolph\",\"marker\":{\"color\":\"#B6E880\",\"symbol\":\"circle\"},\"mode\":\"markers\",\"name\":\"Solomon P. Randolph\",\"orientation\":\"v\",\"showlegend\":true,\"x\":[54],\"xaxis\":\"x\",\"y\":[59483.91183],\"yaxis\":\"y\",\"type\":\"scatter\"},{\"hovertemplate\":\"Customer Name=Kasimir Q. Cherry<br>Age=%{x}<br>Car Purchase Amount=%{y}<extra></extra>\",\"legendgroup\":\"Kasimir Q. Cherry\",\"marker\":{\"color\":\"#FF97FF\",\"symbol\":\"circle\"},\"mode\":\"markers\",\"name\":\"Kasimir Q. Cherry\",\"orientation\":\"v\",\"showlegend\":true,\"x\":[33],\"xaxis\":\"x\",\"y\":[35911.64559],\"yaxis\":\"y\",\"type\":\"scatter\"},{\"hovertemplate\":\"Customer Name=Dominic I. Faulkner<br>Age=%{x}<br>Car Purchase Amount=%{y}<extra></extra>\",\"legendgroup\":\"Dominic I. Faulkner\",\"marker\":{\"color\":\"#FECB52\",\"symbol\":\"circle\"},\"mode\":\"markers\",\"name\":\"Dominic I. Faulkner\",\"orientation\":\"v\",\"showlegend\":true,\"x\":[48],\"xaxis\":\"x\",\"y\":[41034.28343],\"yaxis\":\"y\",\"type\":\"scatter\"},{\"hovertemplate\":\"Customer Name=Pascale I. Key<br>Age=%{x}<br>Car Purchase Amount=%{y}<extra></extra>\",\"legendgroup\":\"Pascale I. Key\",\"marker\":{\"color\":\"#636efa\",\"symbol\":\"circle\"},\"mode\":\"markers\",\"name\":\"Pascale I. Key\",\"orientation\":\"v\",\"showlegend\":true,\"x\":[49],\"xaxis\":\"x\",\"y\":[51730.17434],\"yaxis\":\"y\",\"type\":\"scatter\"},{\"hovertemplate\":\"Customer Name=Nola L. Sweeney<br>Age=%{x}<br>Car Purchase Amount=%{y}<extra></extra>\",\"legendgroup\":\"Nola L. Sweeney\",\"marker\":{\"color\":\"#EF553B\",\"symbol\":\"circle\"},\"mode\":\"markers\",\"name\":\"Nola L. Sweeney\",\"orientation\":\"v\",\"showlegend\":true,\"x\":[55],\"xaxis\":\"x\",\"y\":[53021.86074],\"yaxis\":\"y\",\"type\":\"scatter\"},{\"hovertemplate\":\"Customer Name=Clementine X. Powell<br>Age=%{x}<br>Car Purchase Amount=%{y}<extra></extra>\",\"legendgroup\":\"Clementine X. Powell\",\"marker\":{\"color\":\"#00cc96\",\"symbol\":\"circle\"},\"mode\":\"markers\",\"name\":\"Clementine X. Powell\",\"orientation\":\"v\",\"showlegend\":true,\"x\":[42],\"xaxis\":\"x\",\"y\":[32828.03477],\"yaxis\":\"y\",\"type\":\"scatter\"},{\"hovertemplate\":\"Customer Name=Quinlan U. Sears<br>Age=%{x}<br>Car Purchase Amount=%{y}<extra></extra>\",\"legendgroup\":\"Quinlan U. Sears\",\"marker\":{\"color\":\"#ab63fa\",\"symbol\":\"circle\"},\"mode\":\"markers\",\"name\":\"Quinlan U. Sears\",\"orientation\":\"v\",\"showlegend\":true,\"x\":[41],\"xaxis\":\"x\",\"y\":[29417.64694],\"yaxis\":\"y\",\"type\":\"scatter\"},{\"hovertemplate\":\"Customer Name=Odette Q. Sherman<br>Age=%{x}<br>Car Purchase Amount=%{y}<extra></extra>\",\"legendgroup\":\"Odette Q. Sherman\",\"marker\":{\"color\":\"#FFA15A\",\"symbol\":\"circle\"},\"mode\":\"markers\",\"name\":\"Odette Q. Sherman\",\"orientation\":\"v\",\"showlegend\":true,\"x\":[53],\"xaxis\":\"x\",\"y\":[57461.51158],\"yaxis\":\"y\",\"type\":\"scatter\"},{\"hovertemplate\":\"Customer Name=Kirestin F. Yang<br>Age=%{x}<br>Car Purchase Amount=%{y}<extra></extra>\",\"legendgroup\":\"Kirestin F. Yang\",\"marker\":{\"color\":\"#19d3f3\",\"symbol\":\"circle\"},\"mode\":\"markers\",\"name\":\"Kirestin F. Yang\",\"orientation\":\"v\",\"showlegend\":true,\"x\":[53],\"xaxis\":\"x\",\"y\":[50441.62427],\"yaxis\":\"y\",\"type\":\"scatter\"},{\"hovertemplate\":\"Customer Name=Colleen S. Mcguire<br>Age=%{x}<br>Car Purchase Amount=%{y}<extra></extra>\",\"legendgroup\":\"Colleen S. Mcguire\",\"marker\":{\"color\":\"#FF6692\",\"symbol\":\"circle\"},\"mode\":\"markers\",\"name\":\"Colleen S. Mcguire\",\"orientation\":\"v\",\"showlegend\":true,\"x\":[44],\"xaxis\":\"x\",\"y\":[41575.34739],\"yaxis\":\"y\",\"type\":\"scatter\"},{\"hovertemplate\":\"Customer Name=Dennis N. Thompson<br>Age=%{x}<br>Car Purchase Amount=%{y}<extra></extra>\",\"legendgroup\":\"Dennis N. Thompson\",\"marker\":{\"color\":\"#B6E880\",\"symbol\":\"circle\"},\"mode\":\"markers\",\"name\":\"Dennis N. Thompson\",\"orientation\":\"v\",\"showlegend\":true,\"x\":[42],\"xaxis\":\"x\",\"y\":[46412.47781],\"yaxis\":\"y\",\"type\":\"scatter\"},{\"hovertemplate\":\"Customer Name=Lester J. Burch<br>Age=%{x}<br>Car Purchase Amount=%{y}<extra></extra>\",\"legendgroup\":\"Lester J. Burch\",\"marker\":{\"color\":\"#FF97FF\",\"symbol\":\"circle\"},\"mode\":\"markers\",\"name\":\"Lester J. Burch\",\"orientation\":\"v\",\"showlegend\":true,\"x\":[41],\"xaxis\":\"x\",\"y\":[47610.11718],\"yaxis\":\"y\",\"type\":\"scatter\"},{\"hovertemplate\":\"Customer Name=Madeson R. Salinas<br>Age=%{x}<br>Car Purchase Amount=%{y}<extra></extra>\",\"legendgroup\":\"Madeson R. Salinas\",\"marker\":{\"color\":\"#FECB52\",\"symbol\":\"circle\"},\"mode\":\"markers\",\"name\":\"Madeson R. Salinas\",\"orientation\":\"v\",\"showlegend\":true,\"x\":[48],\"xaxis\":\"x\",\"y\":[70878.29664],\"yaxis\":\"y\",\"type\":\"scatter\"},{\"hovertemplate\":\"Customer Name=Abigail X. Lindsey<br>Age=%{x}<br>Car Purchase Amount=%{y}<extra></extra>\",\"legendgroup\":\"Abigail X. Lindsey\",\"marker\":{\"color\":\"#636efa\",\"symbol\":\"circle\"},\"mode\":\"markers\",\"name\":\"Abigail X. Lindsey\",\"orientation\":\"v\",\"showlegend\":true,\"x\":[63],\"xaxis\":\"x\",\"y\":[55543.38497],\"yaxis\":\"y\",\"type\":\"scatter\"},{\"hovertemplate\":\"Customer Name=Rachel E. Suarez<br>Age=%{x}<br>Car Purchase Amount=%{y}<extra></extra>\",\"legendgroup\":\"Rachel E. Suarez\",\"marker\":{\"color\":\"#EF553B\",\"symbol\":\"circle\"},\"mode\":\"markers\",\"name\":\"Rachel E. Suarez\",\"orientation\":\"v\",\"showlegend\":true,\"x\":[59],\"xaxis\":\"x\",\"y\":[53848.7555],\"yaxis\":\"y\",\"type\":\"scatter\"},{\"hovertemplate\":\"Customer Name=Derek X. Richards<br>Age=%{x}<br>Car Purchase Amount=%{y}<extra></extra>\",\"legendgroup\":\"Derek X. Richards\",\"marker\":{\"color\":\"#00cc96\",\"symbol\":\"circle\"},\"mode\":\"markers\",\"name\":\"Derek X. Richards\",\"orientation\":\"v\",\"showlegend\":true,\"x\":[45],\"xaxis\":\"x\",\"y\":[39904.81613],\"yaxis\":\"y\",\"type\":\"scatter\"},{\"hovertemplate\":\"Customer Name=Evangeline G. Cooper<br>Age=%{x}<br>Car Purchase Amount=%{y}<extra></extra>\",\"legendgroup\":\"Evangeline G. Cooper\",\"marker\":{\"color\":\"#ab63fa\",\"symbol\":\"circle\"},\"mode\":\"markers\",\"name\":\"Evangeline G. Cooper\",\"orientation\":\"v\",\"showlegend\":true,\"x\":[47],\"xaxis\":\"x\",\"y\":[44736.41097],\"yaxis\":\"y\",\"type\":\"scatter\"},{\"hovertemplate\":\"Customer Name=Kieran G. Justice<br>Age=%{x}<br>Car Purchase Amount=%{y}<extra></extra>\",\"legendgroup\":\"Kieran G. Justice\",\"marker\":{\"color\":\"#FFA15A\",\"symbol\":\"circle\"},\"mode\":\"markers\",\"name\":\"Kieran G. Justice\",\"orientation\":\"v\",\"showlegend\":true,\"x\":[49],\"xaxis\":\"x\",\"y\":[46937.17422],\"yaxis\":\"y\",\"type\":\"scatter\"},{\"hovertemplate\":\"Customer Name=Zenia H. Patel<br>Age=%{x}<br>Car Purchase Amount=%{y}<extra></extra>\",\"legendgroup\":\"Zenia H. Patel\",\"marker\":{\"color\":\"#19d3f3\",\"symbol\":\"circle\"},\"mode\":\"markers\",\"name\":\"Zenia H. Patel\",\"orientation\":\"v\",\"showlegend\":true,\"x\":[40],\"xaxis\":\"x\",\"y\":[28440.81268],\"yaxis\":\"y\",\"type\":\"scatter\"},{\"hovertemplate\":\"Customer Name=Michelle R. Burke<br>Age=%{x}<br>Car Purchase Amount=%{y}<extra></extra>\",\"legendgroup\":\"Michelle R. Burke\",\"marker\":{\"color\":\"#FF6692\",\"symbol\":\"circle\"},\"mode\":\"markers\",\"name\":\"Michelle R. Burke\",\"orientation\":\"v\",\"showlegend\":true,\"x\":[41],\"xaxis\":\"x\",\"y\":[38148.00163],\"yaxis\":\"y\",\"type\":\"scatter\"},{\"hovertemplate\":\"Customer Name=Florence U. Hunter<br>Age=%{x}<br>Car Purchase Amount=%{y}<extra></extra>\",\"legendgroup\":\"Florence U. Hunter\",\"marker\":{\"color\":\"#B6E880\",\"symbol\":\"circle\"},\"mode\":\"markers\",\"name\":\"Florence U. Hunter\",\"orientation\":\"v\",\"showlegend\":true,\"x\":[47],\"xaxis\":\"x\",\"y\":[42747.53925],\"yaxis\":\"y\",\"type\":\"scatter\"},{\"hovertemplate\":\"Customer Name=Jelani A. Wall<br>Age=%{x}<br>Car Purchase Amount=%{y}<extra></extra>\",\"legendgroup\":\"Jelani A. Wall\",\"marker\":{\"color\":\"#FF97FF\",\"symbol\":\"circle\"},\"mode\":\"markers\",\"name\":\"Jelani A. Wall\",\"orientation\":\"v\",\"showlegend\":true,\"x\":[27],\"xaxis\":\"x\",\"y\":[29670.83337],\"yaxis\":\"y\",\"type\":\"scatter\"},{\"hovertemplate\":\"Customer Name=England, Abel D.<br>Age=%{x}<br>Car Purchase Amount=%{y}<extra></extra>\",\"legendgroup\":\"England, Abel D.\",\"marker\":{\"color\":\"#FECB52\",\"symbol\":\"circle\"},\"mode\":\"markers\",\"name\":\"England, Abel D.\",\"orientation\":\"v\",\"showlegend\":true,\"x\":[46],\"xaxis\":\"x\",\"y\":[63038.20422],\"yaxis\":\"y\",\"type\":\"scatter\"},{\"hovertemplate\":\"Customer Name=Oconnor, Linus Q.<br>Age=%{x}<br>Car Purchase Amount=%{y}<extra></extra>\",\"legendgroup\":\"Oconnor, Linus Q.\",\"marker\":{\"color\":\"#636efa\",\"symbol\":\"circle\"},\"mode\":\"markers\",\"name\":\"Oconnor, Linus Q.\",\"orientation\":\"v\",\"showlegend\":true,\"x\":[51],\"xaxis\":\"x\",\"y\":[63248.76188],\"yaxis\":\"y\",\"type\":\"scatter\"},{\"hovertemplate\":\"Customer Name=Herman, Griffith P.<br>Age=%{x}<br>Car Purchase Amount=%{y}<extra></extra>\",\"legendgroup\":\"Herman, Griffith P.\",\"marker\":{\"color\":\"#EF553B\",\"symbol\":\"circle\"},\"mode\":\"markers\",\"name\":\"Herman, Griffith P.\",\"orientation\":\"v\",\"showlegend\":true,\"x\":[43],\"xaxis\":\"x\",\"y\":[42321.56548],\"yaxis\":\"y\",\"type\":\"scatter\"},{\"hovertemplate\":\"Customer Name=Knapp, Quamar P.<br>Age=%{x}<br>Car Purchase Amount=%{y}<extra></extra>\",\"legendgroup\":\"Knapp, Quamar P.\",\"marker\":{\"color\":\"#00cc96\",\"symbol\":\"circle\"},\"mode\":\"markers\",\"name\":\"Knapp, Quamar P.\",\"orientation\":\"v\",\"showlegend\":true,\"x\":[32],\"xaxis\":\"x\",\"y\":[44463.30502],\"yaxis\":\"y\",\"type\":\"scatter\"},{\"hovertemplate\":\"Customer Name=Chambers, Avram C.<br>Age=%{x}<br>Car Purchase Amount=%{y}<extra></extra>\",\"legendgroup\":\"Chambers, Avram C.\",\"marker\":{\"color\":\"#ab63fa\",\"symbol\":\"circle\"},\"mode\":\"markers\",\"name\":\"Chambers, Avram C.\",\"orientation\":\"v\",\"showlegend\":true,\"x\":[63],\"xaxis\":\"x\",\"y\":[67092.23276],\"yaxis\":\"y\",\"type\":\"scatter\"},{\"hovertemplate\":\"Customer Name=Cervantes, Rylee Q.<br>Age=%{x}<br>Car Purchase Amount=%{y}<extra></extra>\",\"legendgroup\":\"Cervantes, Rylee Q.\",\"marker\":{\"color\":\"#FFA15A\",\"symbol\":\"circle\"},\"mode\":\"markers\",\"name\":\"Cervantes, Rylee Q.\",\"orientation\":\"v\",\"showlegend\":true,\"x\":[35],\"xaxis\":\"x\",\"y\":[22091.11839],\"yaxis\":\"y\",\"type\":\"scatter\"},{\"hovertemplate\":\"Customer Name=Ashley, Macon Z.<br>Age=%{x}<br>Car Purchase Amount=%{y}<extra></extra>\",\"legendgroup\":\"Ashley, Macon Z.\",\"marker\":{\"color\":\"#19d3f3\",\"symbol\":\"circle\"},\"mode\":\"markers\",\"name\":\"Ashley, Macon Z.\",\"orientation\":\"v\",\"showlegend\":true,\"x\":[50],\"xaxis\":\"x\",\"y\":[40022.17406],\"yaxis\":\"y\",\"type\":\"scatter\"},{\"hovertemplate\":\"Customer Name=Jimenez, Joel G.<br>Age=%{x}<br>Car Purchase Amount=%{y}<extra></extra>\",\"legendgroup\":\"Jimenez, Joel G.\",\"marker\":{\"color\":\"#FF6692\",\"symbol\":\"circle\"},\"mode\":\"markers\",\"name\":\"Jimenez, Joel G.\",\"orientation\":\"v\",\"showlegend\":true,\"x\":[51],\"xaxis\":\"x\",\"y\":[56071.61377],\"yaxis\":\"y\",\"type\":\"scatter\"},{\"hovertemplate\":\"Customer Name=Bond, Caryn Y.<br>Age=%{x}<br>Car Purchase Amount=%{y}<extra></extra>\",\"legendgroup\":\"Bond, Caryn Y.\",\"marker\":{\"color\":\"#B6E880\",\"symbol\":\"circle\"},\"mode\":\"markers\",\"name\":\"Bond, Caryn Y.\",\"orientation\":\"v\",\"showlegend\":true,\"x\":[54],\"xaxis\":\"x\",\"y\":[49442.12107],\"yaxis\":\"y\",\"type\":\"scatter\"},{\"hovertemplate\":\"Customer Name=Gross, Cedric D.<br>Age=%{x}<br>Car Purchase Amount=%{y}<extra></extra>\",\"legendgroup\":\"Gross, Cedric D.\",\"marker\":{\"color\":\"#FF97FF\",\"symbol\":\"circle\"},\"mode\":\"markers\",\"name\":\"Gross, Cedric D.\",\"orientation\":\"v\",\"showlegend\":true,\"x\":[37],\"xaxis\":\"x\",\"y\":[42497.72862],\"yaxis\":\"y\",\"type\":\"scatter\"},{\"hovertemplate\":\"Customer Name=Dyer, Aline L.<br>Age=%{x}<br>Car Purchase Amount=%{y}<extra></extra>\",\"legendgroup\":\"Dyer, Aline L.\",\"marker\":{\"color\":\"#FECB52\",\"symbol\":\"circle\"},\"mode\":\"markers\",\"name\":\"Dyer, Aline L.\",\"orientation\":\"v\",\"showlegend\":true,\"x\":[44],\"xaxis\":\"x\",\"y\":[37084.77621],\"yaxis\":\"y\",\"type\":\"scatter\"},{\"hovertemplate\":\"Customer Name=Rivers, Sonya A.<br>Age=%{x}<br>Car Purchase Amount=%{y}<extra></extra>\",\"legendgroup\":\"Rivers, Sonya A.\",\"marker\":{\"color\":\"#636efa\",\"symbol\":\"circle\"},\"mode\":\"markers\",\"name\":\"Rivers, Sonya A.\",\"orientation\":\"v\",\"showlegend\":true,\"x\":[57],\"xaxis\":\"x\",\"y\":[51866.48719],\"yaxis\":\"y\",\"type\":\"scatter\"},{\"hovertemplate\":\"Customer Name=Frazier, Kai O.<br>Age=%{x}<br>Car Purchase Amount=%{y}<extra></extra>\",\"legendgroup\":\"Frazier, Kai O.\",\"marker\":{\"color\":\"#EF553B\",\"symbol\":\"circle\"},\"mode\":\"markers\",\"name\":\"Frazier, Kai O.\",\"orientation\":\"v\",\"showlegend\":true,\"x\":[47],\"xaxis\":\"x\",\"y\":[35716.31133],\"yaxis\":\"y\",\"type\":\"scatter\"},{\"hovertemplate\":\"Customer Name=Bond, Nyssa S.<br>Age=%{x}<br>Car Purchase Amount=%{y}<extra></extra>\",\"legendgroup\":\"Bond, Nyssa S.\",\"marker\":{\"color\":\"#00cc96\",\"symbol\":\"circle\"},\"mode\":\"markers\",\"name\":\"Bond, Nyssa S.\",\"orientation\":\"v\",\"showlegend\":true,\"x\":[52],\"xaxis\":\"x\",\"y\":[39892.93343],\"yaxis\":\"y\",\"type\":\"scatter\"},{\"hovertemplate\":\"Customer Name=Rush, Jarrod T.<br>Age=%{x}<br>Car Purchase Amount=%{y}<extra></extra>\",\"legendgroup\":\"Rush, Jarrod T.\",\"marker\":{\"color\":\"#ab63fa\",\"symbol\":\"circle\"},\"mode\":\"markers\",\"name\":\"Rush, Jarrod T.\",\"orientation\":\"v\",\"showlegend\":true,\"x\":[52],\"xaxis\":\"x\",\"y\":[35781.16156],\"yaxis\":\"y\",\"type\":\"scatter\"},{\"hovertemplate\":\"Customer Name=Stephens, Tanner E.<br>Age=%{x}<br>Car Purchase Amount=%{y}<extra></extra>\",\"legendgroup\":\"Stephens, Tanner E.\",\"marker\":{\"color\":\"#FFA15A\",\"symbol\":\"circle\"},\"mode\":\"markers\",\"name\":\"Stephens, Tanner E.\",\"orientation\":\"v\",\"showlegend\":true,\"x\":[48],\"xaxis\":\"x\",\"y\":[42866.21274],\"yaxis\":\"y\",\"type\":\"scatter\"},{\"hovertemplate\":\"Customer Name=Cameron, Kimberley P.<br>Age=%{x}<br>Car Purchase Amount=%{y}<extra></extra>\",\"legendgroup\":\"Cameron, Kimberley P.\",\"marker\":{\"color\":\"#19d3f3\",\"symbol\":\"circle\"},\"mode\":\"markers\",\"name\":\"Cameron, Kimberley P.\",\"orientation\":\"v\",\"showlegend\":true,\"x\":[55],\"xaxis\":\"x\",\"y\":[80000.0],\"yaxis\":\"y\",\"type\":\"scatter\"},{\"hovertemplate\":\"Customer Name=Mcdowell, Victoria J.<br>Age=%{x}<br>Car Purchase Amount=%{y}<extra></extra>\",\"legendgroup\":\"Mcdowell, Victoria J.\",\"marker\":{\"color\":\"#FF6692\",\"symbol\":\"circle\"},\"mode\":\"markers\",\"name\":\"Mcdowell, Victoria J.\",\"orientation\":\"v\",\"showlegend\":true,\"x\":[47],\"xaxis\":\"x\",\"y\":[60526.97788],\"yaxis\":\"y\",\"type\":\"scatter\"},{\"hovertemplate\":\"Customer Name=Dalton, Grant D.<br>Age=%{x}<br>Car Purchase Amount=%{y}<extra></extra>\",\"legendgroup\":\"Dalton, Grant D.\",\"marker\":{\"color\":\"#B6E880\",\"symbol\":\"circle\"},\"mode\":\"markers\",\"name\":\"Dalton, Grant D.\",\"orientation\":\"v\",\"showlegend\":true,\"x\":[45],\"xaxis\":\"x\",\"y\":[59758.73247],\"yaxis\":\"y\",\"type\":\"scatter\"},{\"hovertemplate\":\"Customer Name=Gregory, Reuben Z.<br>Age=%{x}<br>Car Purchase Amount=%{y}<extra></extra>\",\"legendgroup\":\"Gregory, Reuben Z.\",\"marker\":{\"color\":\"#FF97FF\",\"symbol\":\"circle\"},\"mode\":\"markers\",\"name\":\"Gregory, Reuben Z.\",\"orientation\":\"v\",\"showlegend\":true,\"x\":[40],\"xaxis\":\"x\",\"y\":[39606.24598],\"yaxis\":\"y\",\"type\":\"scatter\"},{\"hovertemplate\":\"Customer Name=Schultz, Lee I.<br>Age=%{x}<br>Car Purchase Amount=%{y}<extra></extra>\",\"legendgroup\":\"Schultz, Lee I.\",\"marker\":{\"color\":\"#FECB52\",\"symbol\":\"circle\"},\"mode\":\"markers\",\"name\":\"Schultz, Lee I.\",\"orientation\":\"v\",\"showlegend\":true,\"x\":[47],\"xaxis\":\"x\",\"y\":[58641.71051],\"yaxis\":\"y\",\"type\":\"scatter\"},{\"hovertemplate\":\"Customer Name=Wise, Mechelle E.<br>Age=%{x}<br>Car Purchase Amount=%{y}<extra></extra>\",\"legendgroup\":\"Wise, Mechelle E.\",\"marker\":{\"color\":\"#636efa\",\"symbol\":\"circle\"},\"mode\":\"markers\",\"name\":\"Wise, Mechelle E.\",\"orientation\":\"v\",\"showlegend\":true,\"x\":[45],\"xaxis\":\"x\",\"y\":[52983.89411],\"yaxis\":\"y\",\"type\":\"scatter\"},{\"hovertemplate\":\"Customer Name=Mcclure, Avye L.<br>Age=%{x}<br>Car Purchase Amount=%{y}<extra></extra>\",\"legendgroup\":\"Mcclure, Avye L.\",\"marker\":{\"color\":\"#EF553B\",\"symbol\":\"circle\"},\"mode\":\"markers\",\"name\":\"Mcclure, Avye L.\",\"orientation\":\"v\",\"showlegend\":true,\"x\":[49],\"xaxis\":\"x\",\"y\":[50666.88173],\"yaxis\":\"y\",\"type\":\"scatter\"},{\"hovertemplate\":\"Customer Name=Livingston, Blaze Y.<br>Age=%{x}<br>Car Purchase Amount=%{y}<extra></extra>\",\"legendgroup\":\"Livingston, Blaze Y.\",\"marker\":{\"color\":\"#00cc96\",\"symbol\":\"circle\"},\"mode\":\"markers\",\"name\":\"Livingston, Blaze Y.\",\"orientation\":\"v\",\"showlegend\":true,\"x\":[60],\"xaxis\":\"x\",\"y\":[59625.02618],\"yaxis\":\"y\",\"type\":\"scatter\"},{\"hovertemplate\":\"Customer Name=Fuentes, Dora E.<br>Age=%{x}<br>Car Purchase Amount=%{y}<extra></extra>\",\"legendgroup\":\"Fuentes, Dora E.\",\"marker\":{\"color\":\"#ab63fa\",\"symbol\":\"circle\"},\"mode\":\"markers\",\"name\":\"Fuentes, Dora E.\",\"orientation\":\"v\",\"showlegend\":true,\"x\":[34],\"xaxis\":\"x\",\"y\":[22630.25982],\"yaxis\":\"y\",\"type\":\"scatter\"},{\"hovertemplate\":\"Customer Name=Thompson, Alvin R.<br>Age=%{x}<br>Car Purchase Amount=%{y}<extra></extra>\",\"legendgroup\":\"Thompson, Alvin R.\",\"marker\":{\"color\":\"#FFA15A\",\"symbol\":\"circle\"},\"mode\":\"markers\",\"name\":\"Thompson, Alvin R.\",\"orientation\":\"v\",\"showlegend\":true,\"x\":[36],\"xaxis\":\"x\",\"y\":[41137.89459],\"yaxis\":\"y\",\"type\":\"scatter\"},{\"hovertemplate\":\"Customer Name=Armstrong, Hedda N.<br>Age=%{x}<br>Car Purchase Amount=%{y}<extra></extra>\",\"legendgroup\":\"Armstrong, Hedda N.\",\"marker\":{\"color\":\"#19d3f3\",\"symbol\":\"circle\"},\"mode\":\"markers\",\"name\":\"Armstrong, Hedda N.\",\"orientation\":\"v\",\"showlegend\":true,\"x\":[51],\"xaxis\":\"x\",\"y\":[53496.48183],\"yaxis\":\"y\",\"type\":\"scatter\"},{\"hovertemplate\":\"Customer Name=Casey, Sylvia E.<br>Age=%{x}<br>Car Purchase Amount=%{y}<extra></extra>\",\"legendgroup\":\"Casey, Sylvia E.\",\"marker\":{\"color\":\"#FF6692\",\"symbol\":\"circle\"},\"mode\":\"markers\",\"name\":\"Casey, Sylvia E.\",\"orientation\":\"v\",\"showlegend\":true,\"x\":[42],\"xaxis\":\"x\",\"y\":[36543.93642],\"yaxis\":\"y\",\"type\":\"scatter\"},{\"hovertemplate\":\"Customer Name=Shaw, Rooney Q.<br>Age=%{x}<br>Car Purchase Amount=%{y}<extra></extra>\",\"legendgroup\":\"Shaw, Rooney Q.\",\"marker\":{\"color\":\"#B6E880\",\"symbol\":\"circle\"},\"mode\":\"markers\",\"name\":\"Shaw, Rooney Q.\",\"orientation\":\"v\",\"showlegend\":true,\"x\":[48],\"xaxis\":\"x\",\"y\":[43503.97349],\"yaxis\":\"y\",\"type\":\"scatter\"},{\"hovertemplate\":\"Customer Name=Sexton, Shaeleigh H.<br>Age=%{x}<br>Car Purchase Amount=%{y}<extra></extra>\",\"legendgroup\":\"Sexton, Shaeleigh H.\",\"marker\":{\"color\":\"#FF97FF\",\"symbol\":\"circle\"},\"mode\":\"markers\",\"name\":\"Sexton, Shaeleigh H.\",\"orientation\":\"v\",\"showlegend\":true,\"x\":[35],\"xaxis\":\"x\",\"y\":[31146.71078],\"yaxis\":\"y\",\"type\":\"scatter\"},{\"hovertemplate\":\"Customer Name=Langley, Skyler J.<br>Age=%{x}<br>Car Purchase Amount=%{y}<extra></extra>\",\"legendgroup\":\"Langley, Skyler J.\",\"marker\":{\"color\":\"#FECB52\",\"symbol\":\"circle\"},\"mode\":\"markers\",\"name\":\"Langley, Skyler J.\",\"orientation\":\"v\",\"showlegend\":true,\"x\":[44],\"xaxis\":\"x\",\"y\":[31526.04931],\"yaxis\":\"y\",\"type\":\"scatter\"},{\"hovertemplate\":\"Customer Name=Caldwell, Yolanda F.<br>Age=%{x}<br>Car Purchase Amount=%{y}<extra></extra>\",\"legendgroup\":\"Caldwell, Yolanda F.\",\"marker\":{\"color\":\"#636efa\",\"symbol\":\"circle\"},\"mode\":\"markers\",\"name\":\"Caldwell, Yolanda F.\",\"orientation\":\"v\",\"showlegend\":true,\"x\":[48],\"xaxis\":\"x\",\"y\":[31083.70271],\"yaxis\":\"y\",\"type\":\"scatter\"},{\"hovertemplate\":\"Customer Name=Olson, Riley O.<br>Age=%{x}<br>Car Purchase Amount=%{y}<extra></extra>\",\"legendgroup\":\"Olson, Riley O.\",\"marker\":{\"color\":\"#EF553B\",\"symbol\":\"circle\"},\"mode\":\"markers\",\"name\":\"Olson, Riley O.\",\"orientation\":\"v\",\"showlegend\":true,\"x\":[47],\"xaxis\":\"x\",\"y\":[45366.35963],\"yaxis\":\"y\",\"type\":\"scatter\"},{\"hovertemplate\":\"Customer Name=Irwin, Dillon J.<br>Age=%{x}<br>Car Purchase Amount=%{y}<extra></extra>\",\"legendgroup\":\"Irwin, Dillon J.\",\"marker\":{\"color\":\"#00cc96\",\"symbol\":\"circle\"},\"mode\":\"markers\",\"name\":\"Irwin, Dillon J.\",\"orientation\":\"v\",\"showlegend\":true,\"x\":[31],\"xaxis\":\"x\",\"y\":[25252.93221],\"yaxis\":\"y\",\"type\":\"scatter\"},{\"hovertemplate\":\"Customer Name=Terry, Mollie K.<br>Age=%{x}<br>Car Purchase Amount=%{y}<extra></extra>\",\"legendgroup\":\"Terry, Mollie K.\",\"marker\":{\"color\":\"#ab63fa\",\"symbol\":\"circle\"},\"mode\":\"markers\",\"name\":\"Terry, Mollie K.\",\"orientation\":\"v\",\"showlegend\":true,\"x\":[45],\"xaxis\":\"x\",\"y\":[39888.59789],\"yaxis\":\"y\",\"type\":\"scatter\"},{\"hovertemplate\":\"Customer Name=Hudson, Maxwell F.<br>Age=%{x}<br>Car Purchase Amount=%{y}<extra></extra>\",\"legendgroup\":\"Hudson, Maxwell F.\",\"marker\":{\"color\":\"#FFA15A\",\"symbol\":\"circle\"},\"mode\":\"markers\",\"name\":\"Hudson, Maxwell F.\",\"orientation\":\"v\",\"showlegend\":true,\"x\":[49],\"xaxis\":\"x\",\"y\":[52240.72866],\"yaxis\":\"y\",\"type\":\"scatter\"},{\"hovertemplate\":\"Customer Name=Levy, Irma P.<br>Age=%{x}<br>Car Purchase Amount=%{y}<extra></extra>\",\"legendgroup\":\"Levy, Irma P.\",\"marker\":{\"color\":\"#19d3f3\",\"symbol\":\"circle\"},\"mode\":\"markers\",\"name\":\"Levy, Irma P.\",\"orientation\":\"v\",\"showlegend\":true,\"x\":[61],\"xaxis\":\"x\",\"y\":[39911.6116],\"yaxis\":\"y\",\"type\":\"scatter\"},{\"hovertemplate\":\"Customer Name=Brady, Oscar Y.<br>Age=%{x}<br>Car Purchase Amount=%{y}<extra></extra>\",\"legendgroup\":\"Brady, Oscar Y.\",\"marker\":{\"color\":\"#FF6692\",\"symbol\":\"circle\"},\"mode\":\"markers\",\"name\":\"Brady, Oscar Y.\",\"orientation\":\"v\",\"showlegend\":true,\"x\":[51],\"xaxis\":\"x\",\"y\":[45857.75365],\"yaxis\":\"y\",\"type\":\"scatter\"},{\"hovertemplate\":\"Customer Name=Dudley, Ryder M.<br>Age=%{x}<br>Car Purchase Amount=%{y}<extra></extra>\",\"legendgroup\":\"Dudley, Ryder M.\",\"marker\":{\"color\":\"#B6E880\",\"symbol\":\"circle\"},\"mode\":\"markers\",\"name\":\"Dudley, Ryder M.\",\"orientation\":\"v\",\"showlegend\":true,\"x\":[35],\"xaxis\":\"x\",\"y\":[30826.10903],\"yaxis\":\"y\",\"type\":\"scatter\"},{\"hovertemplate\":\"Customer Name=Morales, Halla M.<br>Age=%{x}<br>Car Purchase Amount=%{y}<extra></extra>\",\"legendgroup\":\"Morales, Halla M.\",\"marker\":{\"color\":\"#FF97FF\",\"symbol\":\"circle\"},\"mode\":\"markers\",\"name\":\"Morales, Halla M.\",\"orientation\":\"v\",\"showlegend\":true,\"x\":[53],\"xaxis\":\"x\",\"y\":[39422.79389],\"yaxis\":\"y\",\"type\":\"scatter\"},{\"hovertemplate\":\"Customer Name=Holloway, Brennan Q.<br>Age=%{x}<br>Car Purchase Amount=%{y}<extra></extra>\",\"legendgroup\":\"Holloway, Brennan Q.\",\"marker\":{\"color\":\"#FECB52\",\"symbol\":\"circle\"},\"mode\":\"markers\",\"name\":\"Holloway, Brennan Q.\",\"orientation\":\"v\",\"showlegend\":true,\"x\":[42],\"xaxis\":\"x\",\"y\":[34678.83226],\"yaxis\":\"y\",\"type\":\"scatter\"},{\"hovertemplate\":\"Customer Name=Powers, Naomi B.<br>Age=%{x}<br>Car Purchase Amount=%{y}<extra></extra>\",\"legendgroup\":\"Powers, Naomi B.\",\"marker\":{\"color\":\"#636efa\",\"symbol\":\"circle\"},\"mode\":\"markers\",\"name\":\"Powers, Naomi B.\",\"orientation\":\"v\",\"showlegend\":true,\"x\":[39],\"xaxis\":\"x\",\"y\":[23517.91983],\"yaxis\":\"y\",\"type\":\"scatter\"},{\"hovertemplate\":\"Customer Name=Armstrong, Naomi D.<br>Age=%{x}<br>Car Purchase Amount=%{y}<extra></extra>\",\"legendgroup\":\"Armstrong, Naomi D.\",\"marker\":{\"color\":\"#EF553B\",\"symbol\":\"circle\"},\"mode\":\"markers\",\"name\":\"Armstrong, Naomi D.\",\"orientation\":\"v\",\"showlegend\":true,\"x\":[38],\"xaxis\":\"x\",\"y\":[28733.68779],\"yaxis\":\"y\",\"type\":\"scatter\"},{\"hovertemplate\":\"Customer Name=Flores, Caldwell U.<br>Age=%{x}<br>Car Purchase Amount=%{y}<extra></extra>\",\"legendgroup\":\"Flores, Caldwell U.\",\"marker\":{\"color\":\"#00cc96\",\"symbol\":\"circle\"},\"mode\":\"markers\",\"name\":\"Flores, Caldwell U.\",\"orientation\":\"v\",\"showlegend\":true,\"x\":[41],\"xaxis\":\"x\",\"y\":[59096.26978],\"yaxis\":\"y\",\"type\":\"scatter\"},{\"hovertemplate\":\"Customer Name=Russo, Fleur N.<br>Age=%{x}<br>Car Purchase Amount=%{y}<extra></extra>\",\"legendgroup\":\"Russo, Fleur N.\",\"marker\":{\"color\":\"#ab63fa\",\"symbol\":\"circle\"},\"mode\":\"markers\",\"name\":\"Russo, Fleur N.\",\"orientation\":\"v\",\"showlegend\":true,\"x\":[44],\"xaxis\":\"x\",\"y\":[50188.86612],\"yaxis\":\"y\",\"type\":\"scatter\"},{\"hovertemplate\":\"Customer Name=Reese, Sylvia H.<br>Age=%{x}<br>Car Purchase Amount=%{y}<extra></extra>\",\"legendgroup\":\"Reese, Sylvia H.\",\"marker\":{\"color\":\"#FFA15A\",\"symbol\":\"circle\"},\"mode\":\"markers\",\"name\":\"Reese, Sylvia H.\",\"orientation\":\"v\",\"showlegend\":true,\"x\":[43],\"xaxis\":\"x\",\"y\":[35659.12237],\"yaxis\":\"y\",\"type\":\"scatter\"},{\"hovertemplate\":\"Customer Name=Burke, Simon H.<br>Age=%{x}<br>Car Purchase Amount=%{y}<extra></extra>\",\"legendgroup\":\"Burke, Simon H.\",\"marker\":{\"color\":\"#19d3f3\",\"symbol\":\"circle\"},\"mode\":\"markers\",\"name\":\"Burke, Simon H.\",\"orientation\":\"v\",\"showlegend\":true,\"x\":[39],\"xaxis\":\"x\",\"y\":[46398.35204],\"yaxis\":\"y\",\"type\":\"scatter\"},{\"hovertemplate\":\"Customer Name=Mayer, Paki D.<br>Age=%{x}<br>Car Purchase Amount=%{y}<extra></extra>\",\"legendgroup\":\"Mayer, Paki D.\",\"marker\":{\"color\":\"#FF6692\",\"symbol\":\"circle\"},\"mode\":\"markers\",\"name\":\"Mayer, Paki D.\",\"orientation\":\"v\",\"showlegend\":true,\"x\":[33],\"xaxis\":\"x\",\"y\":[32291.18978],\"yaxis\":\"y\",\"type\":\"scatter\"},{\"hovertemplate\":\"Customer Name=Bush, Jessica C.<br>Age=%{x}<br>Car Purchase Amount=%{y}<extra></extra>\",\"legendgroup\":\"Bush, Jessica C.\",\"marker\":{\"color\":\"#B6E880\",\"symbol\":\"circle\"},\"mode\":\"markers\",\"name\":\"Bush, Jessica C.\",\"orientation\":\"v\",\"showlegend\":true,\"x\":[47],\"xaxis\":\"x\",\"y\":[49079.29461],\"yaxis\":\"y\",\"type\":\"scatter\"},{\"hovertemplate\":\"Customer Name=West, April J.<br>Age=%{x}<br>Car Purchase Amount=%{y}<extra></extra>\",\"legendgroup\":\"West, April J.\",\"marker\":{\"color\":\"#FF97FF\",\"symbol\":\"circle\"},\"mode\":\"markers\",\"name\":\"West, April J.\",\"orientation\":\"v\",\"showlegend\":true,\"x\":[45],\"xaxis\":\"x\",\"y\":[49348.88394],\"yaxis\":\"y\",\"type\":\"scatter\"},{\"hovertemplate\":\"Customer Name=Levy, Wesley S.<br>Age=%{x}<br>Car Purchase Amount=%{y}<extra></extra>\",\"legendgroup\":\"Levy, Wesley S.\",\"marker\":{\"color\":\"#FECB52\",\"symbol\":\"circle\"},\"mode\":\"markers\",\"name\":\"Levy, Wesley S.\",\"orientation\":\"v\",\"showlegend\":true,\"x\":[51],\"xaxis\":\"x\",\"y\":[41427.59797],\"yaxis\":\"y\",\"type\":\"scatter\"},{\"hovertemplate\":\"Customer Name=Nieves, Bertha O.<br>Age=%{x}<br>Car Purchase Amount=%{y}<extra></extra>\",\"legendgroup\":\"Nieves, Bertha O.\",\"marker\":{\"color\":\"#636efa\",\"symbol\":\"circle\"},\"mode\":\"markers\",\"name\":\"Nieves, Bertha O.\",\"orientation\":\"v\",\"showlegend\":true,\"x\":[42],\"xaxis\":\"x\",\"y\":[24221.99937],\"yaxis\":\"y\",\"type\":\"scatter\"},{\"hovertemplate\":\"Customer Name=Patrick, Merritt L.<br>Age=%{x}<br>Car Purchase Amount=%{y}<extra></extra>\",\"legendgroup\":\"Patrick, Merritt L.\",\"marker\":{\"color\":\"#EF553B\",\"symbol\":\"circle\"},\"mode\":\"markers\",\"name\":\"Patrick, Merritt L.\",\"orientation\":\"v\",\"showlegend\":true,\"x\":[55],\"xaxis\":\"x\",\"y\":[44424.07681],\"yaxis\":\"y\",\"type\":\"scatter\"},{\"hovertemplate\":\"Customer Name=Mcdaniel, Marcia Z.<br>Age=%{x}<br>Car Purchase Amount=%{y}<extra></extra>\",\"legendgroup\":\"Mcdaniel, Marcia Z.\",\"marker\":{\"color\":\"#00cc96\",\"symbol\":\"circle\"},\"mode\":\"markers\",\"name\":\"Mcdaniel, Marcia Z.\",\"orientation\":\"v\",\"showlegend\":true,\"x\":[62],\"xaxis\":\"x\",\"y\":[60390.06616],\"yaxis\":\"y\",\"type\":\"scatter\"},{\"hovertemplate\":\"Customer Name=Ortiz, Drew P.<br>Age=%{x}<br>Car Purchase Amount=%{y}<extra></extra>\",\"legendgroup\":\"Ortiz, Drew P.\",\"marker\":{\"color\":\"#ab63fa\",\"symbol\":\"circle\"},\"mode\":\"markers\",\"name\":\"Ortiz, Drew P.\",\"orientation\":\"v\",\"showlegend\":true,\"x\":[52],\"xaxis\":\"x\",\"y\":[42793.9932],\"yaxis\":\"y\",\"type\":\"scatter\"},{\"hovertemplate\":\"Customer Name=Oneill, Tiger A.<br>Age=%{x}<br>Car Purchase Amount=%{y}<extra></extra>\",\"legendgroup\":\"Oneill, Tiger A.\",\"marker\":{\"color\":\"#FFA15A\",\"symbol\":\"circle\"},\"mode\":\"markers\",\"name\":\"Oneill, Tiger A.\",\"orientation\":\"v\",\"showlegend\":true,\"x\":[51],\"xaxis\":\"x\",\"y\":[46935.72774],\"yaxis\":\"y\",\"type\":\"scatter\"},{\"hovertemplate\":\"Customer Name=Sims, Tashya J.<br>Age=%{x}<br>Car Purchase Amount=%{y}<extra></extra>\",\"legendgroup\":\"Sims, Tashya J.\",\"marker\":{\"color\":\"#19d3f3\",\"symbol\":\"circle\"},\"mode\":\"markers\",\"name\":\"Sims, Tashya J.\",\"orientation\":\"v\",\"showlegend\":true,\"x\":[63],\"xaxis\":\"x\",\"y\":[58667.06865],\"yaxis\":\"y\",\"type\":\"scatter\"},{\"hovertemplate\":\"Customer Name=Lawrence, Hope Z.<br>Age=%{x}<br>Car Purchase Amount=%{y}<extra></extra>\",\"legendgroup\":\"Lawrence, Hope Z.\",\"marker\":{\"color\":\"#FF6692\",\"symbol\":\"circle\"},\"mode\":\"markers\",\"name\":\"Lawrence, Hope Z.\",\"orientation\":\"v\",\"showlegend\":true,\"x\":[46],\"xaxis\":\"x\",\"y\":[38042.80065],\"yaxis\":\"y\",\"type\":\"scatter\"},{\"hovertemplate\":\"Customer Name=Jenkins, Hasad P.<br>Age=%{x}<br>Car Purchase Amount=%{y}<extra></extra>\",\"legendgroup\":\"Jenkins, Hasad P.\",\"marker\":{\"color\":\"#B6E880\",\"symbol\":\"circle\"},\"mode\":\"markers\",\"name\":\"Jenkins, Hasad P.\",\"orientation\":\"v\",\"showlegend\":true,\"x\":[47],\"xaxis\":\"x\",\"y\":[39270.57909],\"yaxis\":\"y\",\"type\":\"scatter\"},{\"hovertemplate\":\"Customer Name=Rodriguez, Basia D.<br>Age=%{x}<br>Car Purchase Amount=%{y}<extra></extra>\",\"legendgroup\":\"Rodriguez, Basia D.\",\"marker\":{\"color\":\"#FF97FF\",\"symbol\":\"circle\"},\"mode\":\"markers\",\"name\":\"Rodriguez, Basia D.\",\"orientation\":\"v\",\"showlegend\":true,\"x\":[58],\"xaxis\":\"x\",\"y\":[54606.18769],\"yaxis\":\"y\",\"type\":\"scatter\"},{\"hovertemplate\":\"Customer Name=Blair, Abra U.<br>Age=%{x}<br>Car Purchase Amount=%{y}<extra></extra>\",\"legendgroup\":\"Blair, Abra U.\",\"marker\":{\"color\":\"#FECB52\",\"symbol\":\"circle\"},\"mode\":\"markers\",\"name\":\"Blair, Abra U.\",\"orientation\":\"v\",\"showlegend\":true,\"x\":[37],\"xaxis\":\"x\",\"y\":[39083.94268],\"yaxis\":\"y\",\"type\":\"scatter\"},{\"hovertemplate\":\"Customer Name=Rosario, Elijah N.<br>Age=%{x}<br>Car Purchase Amount=%{y}<extra></extra>\",\"legendgroup\":\"Rosario, Elijah N.\",\"marker\":{\"color\":\"#636efa\",\"symbol\":\"circle\"},\"mode\":\"markers\",\"name\":\"Rosario, Elijah N.\",\"orientation\":\"v\",\"showlegend\":true,\"x\":[51],\"xaxis\":\"x\",\"y\":[47984.12043],\"yaxis\":\"y\",\"type\":\"scatter\"},{\"hovertemplate\":\"Customer Name=Beach, Victor S.<br>Age=%{x}<br>Car Purchase Amount=%{y}<extra></extra>\",\"legendgroup\":\"Beach, Victor S.\",\"marker\":{\"color\":\"#EF553B\",\"symbol\":\"circle\"},\"mode\":\"markers\",\"name\":\"Beach, Victor S.\",\"orientation\":\"v\",\"showlegend\":true,\"x\":[36],\"xaxis\":\"x\",\"y\":[46082.80993],\"yaxis\":\"y\",\"type\":\"scatter\"},{\"hovertemplate\":\"Customer Name=Ruiz, Rafael L.<br>Age=%{x}<br>Car Purchase Amount=%{y}<extra></extra>\",\"legendgroup\":\"Ruiz, Rafael L.\",\"marker\":{\"color\":\"#00cc96\",\"symbol\":\"circle\"},\"mode\":\"markers\",\"name\":\"Ruiz, Rafael L.\",\"orientation\":\"v\",\"showlegend\":true,\"x\":[32],\"xaxis\":\"x\",\"y\":[30964.07804],\"yaxis\":\"y\",\"type\":\"scatter\"},{\"hovertemplate\":\"Customer Name=Macdonald, Rahim B.<br>Age=%{x}<br>Car Purchase Amount=%{y}<extra></extra>\",\"legendgroup\":\"Macdonald, Rahim B.\",\"marker\":{\"color\":\"#ab63fa\",\"symbol\":\"circle\"},\"mode\":\"markers\",\"name\":\"Macdonald, Rahim B.\",\"orientation\":\"v\",\"showlegend\":true,\"x\":[32],\"xaxis\":\"x\",\"y\":[35726.95299],\"yaxis\":\"y\",\"type\":\"scatter\"},{\"hovertemplate\":\"Customer Name=Valdez, Joy U.<br>Age=%{x}<br>Car Purchase Amount=%{y}<extra></extra>\",\"legendgroup\":\"Valdez, Joy U.\",\"marker\":{\"color\":\"#FFA15A\",\"symbol\":\"circle\"},\"mode\":\"markers\",\"name\":\"Valdez, Joy U.\",\"orientation\":\"v\",\"showlegend\":true,\"x\":[43],\"xaxis\":\"x\",\"y\":[49065.1634],\"yaxis\":\"y\",\"type\":\"scatter\"},{\"hovertemplate\":\"Customer Name=Watson, Moana M.<br>Age=%{x}<br>Car Purchase Amount=%{y}<extra></extra>\",\"legendgroup\":\"Watson, Moana M.\",\"marker\":{\"color\":\"#19d3f3\",\"symbol\":\"circle\"},\"mode\":\"markers\",\"name\":\"Watson, Moana M.\",\"orientation\":\"v\",\"showlegend\":true,\"x\":[51],\"xaxis\":\"x\",\"y\":[48955.85816],\"yaxis\":\"y\",\"type\":\"scatter\"},{\"hovertemplate\":\"Customer Name=Cote, Evangeline F.<br>Age=%{x}<br>Car Purchase Amount=%{y}<extra></extra>\",\"legendgroup\":\"Cote, Evangeline F.\",\"marker\":{\"color\":\"#FF6692\",\"symbol\":\"circle\"},\"mode\":\"markers\",\"name\":\"Cote, Evangeline F.\",\"orientation\":\"v\",\"showlegend\":true,\"x\":[43],\"xaxis\":\"x\",\"y\":[37183.10293],\"yaxis\":\"y\",\"type\":\"scatter\"},{\"hovertemplate\":\"Customer Name=Delgado, Jasper U.<br>Age=%{x}<br>Car Purchase Amount=%{y}<extra></extra>\",\"legendgroup\":\"Delgado, Jasper U.\",\"marker\":{\"color\":\"#B6E880\",\"symbol\":\"circle\"},\"mode\":\"markers\",\"name\":\"Delgado, Jasper U.\",\"orientation\":\"v\",\"showlegend\":true,\"x\":[58],\"xaxis\":\"x\",\"y\":[46710.52519],\"yaxis\":\"y\",\"type\":\"scatter\"},{\"hovertemplate\":\"Customer Name=Hardy, Hilary R.<br>Age=%{x}<br>Car Purchase Amount=%{y}<extra></extra>\",\"legendgroup\":\"Hardy, Hilary R.\",\"marker\":{\"color\":\"#FF97FF\",\"symbol\":\"circle\"},\"mode\":\"markers\",\"name\":\"Hardy, Hilary R.\",\"orientation\":\"v\",\"showlegend\":true,\"x\":[49],\"xaxis\":\"x\",\"y\":[52889.56257],\"yaxis\":\"y\",\"type\":\"scatter\"},{\"hovertemplate\":\"Customer Name=Stafford, Berk Y.<br>Age=%{x}<br>Car Purchase Amount=%{y}<extra></extra>\",\"legendgroup\":\"Stafford, Berk Y.\",\"marker\":{\"color\":\"#FECB52\",\"symbol\":\"circle\"},\"mode\":\"markers\",\"name\":\"Stafford, Berk Y.\",\"orientation\":\"v\",\"showlegend\":true,\"x\":[43],\"xaxis\":\"x\",\"y\":[29754.66271],\"yaxis\":\"y\",\"type\":\"scatter\"},{\"hovertemplate\":\"Customer Name=Daugherty, Veda M.<br>Age=%{x}<br>Car Purchase Amount=%{y}<extra></extra>\",\"legendgroup\":\"Daugherty, Veda M.\",\"marker\":{\"color\":\"#636efa\",\"symbol\":\"circle\"},\"mode\":\"markers\",\"name\":\"Daugherty, Veda M.\",\"orientation\":\"v\",\"showlegend\":true,\"x\":[48],\"xaxis\":\"x\",\"y\":[60960.83428],\"yaxis\":\"y\",\"type\":\"scatter\"},{\"hovertemplate\":\"Customer Name=Harmon, David N.<br>Age=%{x}<br>Car Purchase Amount=%{y}<extra></extra>\",\"legendgroup\":\"Harmon, David N.\",\"marker\":{\"color\":\"#EF553B\",\"symbol\":\"circle\"},\"mode\":\"markers\",\"name\":\"Harmon, David N.\",\"orientation\":\"v\",\"showlegend\":true,\"x\":[40],\"xaxis\":\"x\",\"y\":[39975.43302],\"yaxis\":\"y\",\"type\":\"scatter\"},{\"hovertemplate\":\"Customer Name=Houston, Grant O.<br>Age=%{x}<br>Car Purchase Amount=%{y}<extra></extra>\",\"legendgroup\":\"Houston, Grant O.\",\"marker\":{\"color\":\"#00cc96\",\"symbol\":\"circle\"},\"mode\":\"markers\",\"name\":\"Houston, Grant O.\",\"orientation\":\"v\",\"showlegend\":true,\"x\":[35],\"xaxis\":\"x\",\"y\":[38545.80328],\"yaxis\":\"y\",\"type\":\"scatter\"},{\"hovertemplate\":\"Customer Name=Collier, Xerxes Q.<br>Age=%{x}<br>Car Purchase Amount=%{y}<extra></extra>\",\"legendgroup\":\"Collier, Xerxes Q.\",\"marker\":{\"color\":\"#ab63fa\",\"symbol\":\"circle\"},\"mode\":\"markers\",\"name\":\"Collier, Xerxes Q.\",\"orientation\":\"v\",\"showlegend\":true,\"x\":[43],\"xaxis\":\"x\",\"y\":[56764.44728],\"yaxis\":\"y\",\"type\":\"scatter\"},{\"hovertemplate\":\"Customer Name=Lewis, Jackson U.<br>Age=%{x}<br>Car Purchase Amount=%{y}<extra></extra>\",\"legendgroup\":\"Lewis, Jackson U.\",\"marker\":{\"color\":\"#FFA15A\",\"symbol\":\"circle\"},\"mode\":\"markers\",\"name\":\"Lewis, Jackson U.\",\"orientation\":\"v\",\"showlegend\":true,\"x\":[57],\"xaxis\":\"x\",\"y\":[63079.84329],\"yaxis\":\"y\",\"type\":\"scatter\"},{\"hovertemplate\":\"Customer Name=Smith, Nola H.<br>Age=%{x}<br>Car Purchase Amount=%{y}<extra></extra>\",\"legendgroup\":\"Smith, Nola H.\",\"marker\":{\"color\":\"#19d3f3\",\"symbol\":\"circle\"},\"mode\":\"markers\",\"name\":\"Smith, Nola H.\",\"orientation\":\"v\",\"showlegend\":true,\"x\":[47],\"xaxis\":\"x\",\"y\":[55700.83389],\"yaxis\":\"y\",\"type\":\"scatter\"},{\"hovertemplate\":\"Customer Name=Jensen, Ebony Y.<br>Age=%{x}<br>Car Purchase Amount=%{y}<extra></extra>\",\"legendgroup\":\"Jensen, Ebony Y.\",\"marker\":{\"color\":\"#FF6692\",\"symbol\":\"circle\"},\"mode\":\"markers\",\"name\":\"Jensen, Ebony Y.\",\"orientation\":\"v\",\"showlegend\":true,\"x\":[32],\"xaxis\":\"x\",\"y\":[36367.18452],\"yaxis\":\"y\",\"type\":\"scatter\"},{\"hovertemplate\":\"Customer Name=Kim, Claudia W.<br>Age=%{x}<br>Car Purchase Amount=%{y}<extra></extra>\",\"legendgroup\":\"Kim, Claudia W.\",\"marker\":{\"color\":\"#B6E880\",\"symbol\":\"circle\"},\"mode\":\"markers\",\"name\":\"Kim, Claudia W.\",\"orientation\":\"v\",\"showlegend\":true,\"x\":[44],\"xaxis\":\"x\",\"y\":[52477.83479],\"yaxis\":\"y\",\"type\":\"scatter\"},{\"hovertemplate\":\"Customer Name=Livingston, Lucas K.<br>Age=%{x}<br>Car Purchase Amount=%{y}<extra></extra>\",\"legendgroup\":\"Livingston, Lucas K.\",\"marker\":{\"color\":\"#FF97FF\",\"symbol\":\"circle\"},\"mode\":\"markers\",\"name\":\"Livingston, Lucas K.\",\"orientation\":\"v\",\"showlegend\":true,\"x\":[50],\"xaxis\":\"x\",\"y\":[50296.67496],\"yaxis\":\"y\",\"type\":\"scatter\"},{\"hovertemplate\":\"Customer Name=Bradford, Daquan F.<br>Age=%{x}<br>Car Purchase Amount=%{y}<extra></extra>\",\"legendgroup\":\"Bradford, Daquan F.\",\"marker\":{\"color\":\"#FECB52\",\"symbol\":\"circle\"},\"mode\":\"markers\",\"name\":\"Bradford, Daquan F.\",\"orientation\":\"v\",\"showlegend\":true,\"x\":[44],\"xaxis\":\"x\",\"y\":[37259.84386],\"yaxis\":\"y\",\"type\":\"scatter\"},{\"hovertemplate\":\"Customer Name=Park, Quincy A.<br>Age=%{x}<br>Car Purchase Amount=%{y}<extra></extra>\",\"legendgroup\":\"Park, Quincy A.\",\"marker\":{\"color\":\"#636efa\",\"symbol\":\"circle\"},\"mode\":\"markers\",\"name\":\"Park, Quincy A.\",\"orientation\":\"v\",\"showlegend\":true,\"x\":[57],\"xaxis\":\"x\",\"y\":[47715.96049],\"yaxis\":\"y\",\"type\":\"scatter\"},{\"hovertemplate\":\"Customer Name=Dillon, Lynn W.<br>Age=%{x}<br>Car Purchase Amount=%{y}<extra></extra>\",\"legendgroup\":\"Dillon, Lynn W.\",\"marker\":{\"color\":\"#EF553B\",\"symbol\":\"circle\"},\"mode\":\"markers\",\"name\":\"Dillon, Lynn W.\",\"orientation\":\"v\",\"showlegend\":true,\"x\":[35],\"xaxis\":\"x\",\"y\":[29540.87013],\"yaxis\":\"y\",\"type\":\"scatter\"},{\"hovertemplate\":\"Customer Name=Blackburn, Joel Y.<br>Age=%{x}<br>Car Purchase Amount=%{y}<extra></extra>\",\"legendgroup\":\"Blackburn, Joel Y.\",\"marker\":{\"color\":\"#00cc96\",\"symbol\":\"circle\"},\"mode\":\"markers\",\"name\":\"Blackburn, Joel Y.\",\"orientation\":\"v\",\"showlegend\":true,\"x\":[53],\"xaxis\":\"x\",\"y\":[60567.18837],\"yaxis\":\"y\",\"type\":\"scatter\"},{\"hovertemplate\":\"Customer Name=Sanders, Selma F.<br>Age=%{x}<br>Car Purchase Amount=%{y}<extra></extra>\",\"legendgroup\":\"Sanders, Selma F.\",\"marker\":{\"color\":\"#ab63fa\",\"symbol\":\"circle\"},\"mode\":\"markers\",\"name\":\"Sanders, Selma F.\",\"orientation\":\"v\",\"showlegend\":true,\"x\":[41],\"xaxis\":\"x\",\"y\":[36125.48846],\"yaxis\":\"y\",\"type\":\"scatter\"},{\"hovertemplate\":\"Customer Name=Solis, Melissa T.<br>Age=%{x}<br>Car Purchase Amount=%{y}<extra></extra>\",\"legendgroup\":\"Solis, Melissa T.\",\"marker\":{\"color\":\"#FFA15A\",\"symbol\":\"circle\"},\"mode\":\"markers\",\"name\":\"Solis, Melissa T.\",\"orientation\":\"v\",\"showlegend\":true,\"x\":[44],\"xaxis\":\"x\",\"y\":[57303.87131],\"yaxis\":\"y\",\"type\":\"scatter\"},{\"hovertemplate\":\"Customer Name=Holmes, Ross Y.<br>Age=%{x}<br>Car Purchase Amount=%{y}<extra></extra>\",\"legendgroup\":\"Holmes, Ross Y.\",\"marker\":{\"color\":\"#19d3f3\",\"symbol\":\"circle\"},\"mode\":\"markers\",\"name\":\"Holmes, Ross Y.\",\"orientation\":\"v\",\"showlegend\":true,\"x\":[63],\"xaxis\":\"x\",\"y\":[51922.07691],\"yaxis\":\"y\",\"type\":\"scatter\"},{\"hovertemplate\":\"Customer Name=Sutton, Michelle D.<br>Age=%{x}<br>Car Purchase Amount=%{y}<extra></extra>\",\"legendgroup\":\"Sutton, Michelle D.\",\"marker\":{\"color\":\"#FF6692\",\"symbol\":\"circle\"},\"mode\":\"markers\",\"name\":\"Sutton, Michelle D.\",\"orientation\":\"v\",\"showlegend\":true,\"x\":[50],\"xaxis\":\"x\",\"y\":[35848.82935],\"yaxis\":\"y\",\"type\":\"scatter\"},{\"hovertemplate\":\"Customer Name=Munoz, Kennedy K.<br>Age=%{x}<br>Car Purchase Amount=%{y}<extra></extra>\",\"legendgroup\":\"Munoz, Kennedy K.\",\"marker\":{\"color\":\"#B6E880\",\"symbol\":\"circle\"},\"mode\":\"markers\",\"name\":\"Munoz, Kennedy K.\",\"orientation\":\"v\",\"showlegend\":true,\"x\":[42],\"xaxis\":\"x\",\"y\":[42704.3221],\"yaxis\":\"y\",\"type\":\"scatter\"},{\"hovertemplate\":\"Customer Name=Little, Hayley R.<br>Age=%{x}<br>Car Purchase Amount=%{y}<extra></extra>\",\"legendgroup\":\"Little, Hayley R.\",\"marker\":{\"color\":\"#FF97FF\",\"symbol\":\"circle\"},\"mode\":\"markers\",\"name\":\"Little, Hayley R.\",\"orientation\":\"v\",\"showlegend\":true,\"x\":[41],\"xaxis\":\"x\",\"y\":[55174.98946],\"yaxis\":\"y\",\"type\":\"scatter\"},{\"hovertemplate\":\"Customer Name=Church, Lareina E.<br>Age=%{x}<br>Car Purchase Amount=%{y}<extra></extra>\",\"legendgroup\":\"Church, Lareina E.\",\"marker\":{\"color\":\"#FECB52\",\"symbol\":\"circle\"},\"mode\":\"markers\",\"name\":\"Church, Lareina E.\",\"orientation\":\"v\",\"showlegend\":true,\"x\":[40],\"xaxis\":\"x\",\"y\":[26599.90843],\"yaxis\":\"y\",\"type\":\"scatter\"},{\"hovertemplate\":\"Customer Name=Wolf, Tashya X.<br>Age=%{x}<br>Car Purchase Amount=%{y}<extra></extra>\",\"legendgroup\":\"Wolf, Tashya X.\",\"marker\":{\"color\":\"#636efa\",\"symbol\":\"circle\"},\"mode\":\"markers\",\"name\":\"Wolf, Tashya X.\",\"orientation\":\"v\",\"showlegend\":true,\"x\":[40],\"xaxis\":\"x\",\"y\":[53993.44322],\"yaxis\":\"y\",\"type\":\"scatter\"},{\"hovertemplate\":\"Customer Name=Barr, Hyatt D.<br>Age=%{x}<br>Car Purchase Amount=%{y}<extra></extra>\",\"legendgroup\":\"Barr, Hyatt D.\",\"marker\":{\"color\":\"#EF553B\",\"symbol\":\"circle\"},\"mode\":\"markers\",\"name\":\"Barr, Hyatt D.\",\"orientation\":\"v\",\"showlegend\":true,\"x\":[56],\"xaxis\":\"x\",\"y\":[47970.76767],\"yaxis\":\"y\",\"type\":\"scatter\"},{\"hovertemplate\":\"Customer Name=Hopper, Orson W.<br>Age=%{x}<br>Car Purchase Amount=%{y}<extra></extra>\",\"legendgroup\":\"Hopper, Orson W.\",\"marker\":{\"color\":\"#00cc96\",\"symbol\":\"circle\"},\"mode\":\"markers\",\"name\":\"Hopper, Orson W.\",\"orientation\":\"v\",\"showlegend\":true,\"x\":[48],\"xaxis\":\"x\",\"y\":[43641.65727],\"yaxis\":\"y\",\"type\":\"scatter\"},{\"hovertemplate\":\"Customer Name=Decker, Jolie T.<br>Age=%{x}<br>Car Purchase Amount=%{y}<extra></extra>\",\"legendgroup\":\"Decker, Jolie T.\",\"marker\":{\"color\":\"#ab63fa\",\"symbol\":\"circle\"},\"mode\":\"markers\",\"name\":\"Decker, Jolie T.\",\"orientation\":\"v\",\"showlegend\":true,\"x\":[41],\"xaxis\":\"x\",\"y\":[41679.7929],\"yaxis\":\"y\",\"type\":\"scatter\"},{\"hovertemplate\":\"Customer Name=Chaney, Reuben I.<br>Age=%{x}<br>Car Purchase Amount=%{y}<extra></extra>\",\"legendgroup\":\"Chaney, Reuben I.\",\"marker\":{\"color\":\"#FFA15A\",\"symbol\":\"circle\"},\"mode\":\"markers\",\"name\":\"Chaney, Reuben I.\",\"orientation\":\"v\",\"showlegend\":true,\"x\":[61],\"xaxis\":\"x\",\"y\":[63140.05082],\"yaxis\":\"y\",\"type\":\"scatter\"},{\"hovertemplate\":\"Customer Name=Ross, Kermit D.<br>Age=%{x}<br>Car Purchase Amount=%{y}<extra></extra>\",\"legendgroup\":\"Ross, Kermit D.\",\"marker\":{\"color\":\"#19d3f3\",\"symbol\":\"circle\"},\"mode\":\"markers\",\"name\":\"Ross, Kermit D.\",\"orientation\":\"v\",\"showlegend\":true,\"x\":[35],\"xaxis\":\"x\",\"y\":[30757.65726],\"yaxis\":\"y\",\"type\":\"scatter\"},{\"hovertemplate\":\"Customer Name=Hampton, Venus Q.<br>Age=%{x}<br>Car Purchase Amount=%{y}<extra></extra>\",\"legendgroup\":\"Hampton, Venus Q.\",\"marker\":{\"color\":\"#FF6692\",\"symbol\":\"circle\"},\"mode\":\"markers\",\"name\":\"Hampton, Venus Q.\",\"orientation\":\"v\",\"showlegend\":true,\"x\":[55],\"xaxis\":\"x\",\"y\":[65592.22012],\"yaxis\":\"y\",\"type\":\"scatter\"},{\"hovertemplate\":\"Customer Name=Chavez, Ralph U.<br>Age=%{x}<br>Car Purchase Amount=%{y}<extra></extra>\",\"legendgroup\":\"Chavez, Ralph U.\",\"marker\":{\"color\":\"#B6E880\",\"symbol\":\"circle\"},\"mode\":\"markers\",\"name\":\"Chavez, Ralph U.\",\"orientation\":\"v\",\"showlegend\":true,\"x\":[37],\"xaxis\":\"x\",\"y\":[37871.7082],\"yaxis\":\"y\",\"type\":\"scatter\"},{\"hovertemplate\":\"Customer Name=Whitaker, Adena B.<br>Age=%{x}<br>Car Purchase Amount=%{y}<extra></extra>\",\"legendgroup\":\"Whitaker, Adena B.\",\"marker\":{\"color\":\"#FF97FF\",\"symbol\":\"circle\"},\"mode\":\"markers\",\"name\":\"Whitaker, Adena B.\",\"orientation\":\"v\",\"showlegend\":true,\"x\":[48],\"xaxis\":\"x\",\"y\":[42919.5196],\"yaxis\":\"y\",\"type\":\"scatter\"},{\"hovertemplate\":\"Customer Name=Nola<br>Age=%{x}<br>Car Purchase Amount=%{y}<extra></extra>\",\"legendgroup\":\"Nola\",\"marker\":{\"color\":\"#FECB52\",\"symbol\":\"circle\"},\"mode\":\"markers\",\"name\":\"Nola\",\"orientation\":\"v\",\"showlegend\":true,\"x\":[32],\"xaxis\":\"x\",\"y\":[22599.45863],\"yaxis\":\"y\",\"type\":\"scatter\"},{\"hovertemplate\":\"Customer Name=Melodie<br>Age=%{x}<br>Car Purchase Amount=%{y}<extra></extra>\",\"legendgroup\":\"Melodie\",\"marker\":{\"color\":\"#636efa\",\"symbol\":\"circle\"},\"mode\":\"markers\",\"name\":\"Melodie\",\"orientation\":\"v\",\"showlegend\":true,\"x\":[62],\"xaxis\":\"x\",\"y\":[70598.96768],\"yaxis\":\"y\",\"type\":\"scatter\"},{\"hovertemplate\":\"Customer Name=Seth<br>Age=%{x}<br>Car Purchase Amount=%{y}<extra></extra>\",\"legendgroup\":\"Seth\",\"marker\":{\"color\":\"#EF553B\",\"symbol\":\"circle\"},\"mode\":\"markers\",\"name\":\"Seth\",\"orientation\":\"v\",\"showlegend\":true,\"x\":[49,48],\"xaxis\":\"x\",\"y\":[43242.58224,40102.11417],\"yaxis\":\"y\",\"type\":\"scatter\"},{\"hovertemplate\":\"Customer Name=Kyra<br>Age=%{x}<br>Car Purchase Amount=%{y}<extra></extra>\",\"legendgroup\":\"Kyra\",\"marker\":{\"color\":\"#00cc96\",\"symbol\":\"circle\"},\"mode\":\"markers\",\"name\":\"Kyra\",\"orientation\":\"v\",\"showlegend\":true,\"x\":[43],\"xaxis\":\"x\",\"y\":[38138.57511],\"yaxis\":\"y\",\"type\":\"scatter\"},{\"hovertemplate\":\"Customer Name=Caldwell<br>Age=%{x}<br>Car Purchase Amount=%{y}<extra></extra>\",\"legendgroup\":\"Caldwell\",\"marker\":{\"color\":\"#ab63fa\",\"symbol\":\"circle\"},\"mode\":\"markers\",\"name\":\"Caldwell\",\"orientation\":\"v\",\"showlegend\":true,\"x\":[36],\"xaxis\":\"x\",\"y\":[30419.8],\"yaxis\":\"y\",\"type\":\"scatter\"},{\"hovertemplate\":\"Customer Name=Benjamin<br>Age=%{x}<br>Car Purchase Amount=%{y}<extra></extra>\",\"legendgroup\":\"Benjamin\",\"marker\":{\"color\":\"#FFA15A\",\"symbol\":\"circle\"},\"mode\":\"markers\",\"name\":\"Benjamin\",\"orientation\":\"v\",\"showlegend\":true,\"x\":[61],\"xaxis\":\"x\",\"y\":[63868.94051],\"yaxis\":\"y\",\"type\":\"scatter\"},{\"hovertemplate\":\"Customer Name=Florence<br>Age=%{x}<br>Car Purchase Amount=%{y}<extra></extra>\",\"legendgroup\":\"Florence\",\"marker\":{\"color\":\"#19d3f3\",\"symbol\":\"circle\"},\"mode\":\"markers\",\"name\":\"Florence\",\"orientation\":\"v\",\"showlegend\":true,\"x\":[46],\"xaxis\":\"x\",\"y\":[45112.94547],\"yaxis\":\"y\",\"type\":\"scatter\"},{\"hovertemplate\":\"Customer Name=Oleg<br>Age=%{x}<br>Car Purchase Amount=%{y}<extra></extra>\",\"legendgroup\":\"Oleg\",\"marker\":{\"color\":\"#FF6692\",\"symbol\":\"circle\"},\"mode\":\"markers\",\"name\":\"Oleg\",\"orientation\":\"v\",\"showlegend\":true,\"x\":[57],\"xaxis\":\"x\",\"y\":[44361.87507],\"yaxis\":\"y\",\"type\":\"scatter\"},{\"hovertemplate\":\"Customer Name=Donovan<br>Age=%{x}<br>Car Purchase Amount=%{y}<extra></extra>\",\"legendgroup\":\"Donovan\",\"marker\":{\"color\":\"#B6E880\",\"symbol\":\"circle\"},\"mode\":\"markers\",\"name\":\"Donovan\",\"orientation\":\"v\",\"showlegend\":true,\"x\":[36],\"xaxis\":\"x\",\"y\":[19525.29827],\"yaxis\":\"y\",\"type\":\"scatter\"},{\"hovertemplate\":\"Customer Name=Blaze<br>Age=%{x}<br>Car Purchase Amount=%{y}<extra></extra>\",\"legendgroup\":\"Blaze\",\"marker\":{\"color\":\"#FF97FF\",\"symbol\":\"circle\"},\"mode\":\"markers\",\"name\":\"Blaze\",\"orientation\":\"v\",\"showlegend\":true,\"x\":[49],\"xaxis\":\"x\",\"y\":[49991.60697],\"yaxis\":\"y\",\"type\":\"scatter\"},{\"hovertemplate\":\"Customer Name=Illana<br>Age=%{x}<br>Car Purchase Amount=%{y}<extra></extra>\",\"legendgroup\":\"Illana\",\"marker\":{\"color\":\"#FECB52\",\"symbol\":\"circle\"},\"mode\":\"markers\",\"name\":\"Illana\",\"orientation\":\"v\",\"showlegend\":true,\"x\":[63],\"xaxis\":\"x\",\"y\":[61731.71426],\"yaxis\":\"y\",\"type\":\"scatter\"},{\"hovertemplate\":\"Customer Name=Yvette<br>Age=%{x}<br>Car Purchase Amount=%{y}<extra></extra>\",\"legendgroup\":\"Yvette\",\"marker\":{\"color\":\"#636efa\",\"symbol\":\"circle\"},\"mode\":\"markers\",\"name\":\"Yvette\",\"orientation\":\"v\",\"showlegend\":true,\"x\":[49],\"xaxis\":\"x\",\"y\":[41769.38288],\"yaxis\":\"y\",\"type\":\"scatter\"},{\"hovertemplate\":\"Customer Name=Walter<br>Age=%{x}<br>Car Purchase Amount=%{y}<extra></extra>\",\"legendgroup\":\"Walter\",\"marker\":{\"color\":\"#EF553B\",\"symbol\":\"circle\"},\"mode\":\"markers\",\"name\":\"Walter\",\"orientation\":\"v\",\"showlegend\":true,\"x\":[44,41],\"xaxis\":\"x\",\"y\":[46402.53583,48901.44342],\"yaxis\":\"y\",\"type\":\"scatter\"},{\"hovertemplate\":\"Customer Name=Dexter<br>Age=%{x}<br>Car Purchase Amount=%{y}<extra></extra>\",\"legendgroup\":\"Dexter\",\"marker\":{\"color\":\"#00cc96\",\"symbol\":\"circle\"},\"mode\":\"markers\",\"name\":\"Dexter\",\"orientation\":\"v\",\"showlegend\":true,\"x\":[43],\"xaxis\":\"x\",\"y\":[37376.63439],\"yaxis\":\"y\",\"type\":\"scatter\"},{\"hovertemplate\":\"Customer Name=Cameran<br>Age=%{x}<br>Car Purchase Amount=%{y}<extra></extra>\",\"legendgroup\":\"Cameran\",\"marker\":{\"color\":\"#ab63fa\",\"symbol\":\"circle\"},\"mode\":\"markers\",\"name\":\"Cameran\",\"orientation\":\"v\",\"showlegend\":true,\"x\":[48],\"xaxis\":\"x\",\"y\":[33766.6413],\"yaxis\":\"y\",\"type\":\"scatter\"},{\"hovertemplate\":\"Customer Name=Penelope<br>Age=%{x}<br>Car Purchase Amount=%{y}<extra></extra>\",\"legendgroup\":\"Penelope\",\"marker\":{\"color\":\"#FFA15A\",\"symbol\":\"circle\"},\"mode\":\"markers\",\"name\":\"Penelope\",\"orientation\":\"v\",\"showlegend\":true,\"x\":[37],\"xaxis\":\"x\",\"y\":[30667.60927],\"yaxis\":\"y\",\"type\":\"scatter\"},{\"hovertemplate\":\"Customer Name=Hyatt<br>Age=%{x}<br>Car Purchase Amount=%{y}<extra></extra>\",\"legendgroup\":\"Hyatt\",\"marker\":{\"color\":\"#19d3f3\",\"symbol\":\"circle\"},\"mode\":\"markers\",\"name\":\"Hyatt\",\"orientation\":\"v\",\"showlegend\":true,\"x\":[49],\"xaxis\":\"x\",\"y\":[52056.41478],\"yaxis\":\"y\",\"type\":\"scatter\"},{\"hovertemplate\":\"Customer Name=Stone<br>Age=%{x}<br>Car Purchase Amount=%{y}<extra></extra>\",\"legendgroup\":\"Stone\",\"marker\":{\"color\":\"#FF6692\",\"symbol\":\"circle\"},\"mode\":\"markers\",\"name\":\"Stone\",\"orientation\":\"v\",\"showlegend\":true,\"x\":[40],\"xaxis\":\"x\",\"y\":[30736.5798],\"yaxis\":\"y\",\"type\":\"scatter\"},{\"hovertemplate\":\"Customer Name=Irma<br>Age=%{x}<br>Car Purchase Amount=%{y}<extra></extra>\",\"legendgroup\":\"Irma\",\"marker\":{\"color\":\"#B6E880\",\"symbol\":\"circle\"},\"mode\":\"markers\",\"name\":\"Irma\",\"orientation\":\"v\",\"showlegend\":true,\"x\":[42],\"xaxis\":\"x\",\"y\":[39439.45349],\"yaxis\":\"y\",\"type\":\"scatter\"},{\"hovertemplate\":\"Customer Name=Josiah<br>Age=%{x}<br>Car Purchase Amount=%{y}<extra></extra>\",\"legendgroup\":\"Josiah\",\"marker\":{\"color\":\"#FF97FF\",\"symbol\":\"circle\"},\"mode\":\"markers\",\"name\":\"Josiah\",\"orientation\":\"v\",\"showlegend\":true,\"x\":[30],\"xaxis\":\"x\",\"y\":[38174.87433],\"yaxis\":\"y\",\"type\":\"scatter\"},{\"hovertemplate\":\"Customer Name=Nathan<br>Age=%{x}<br>Car Purchase Amount=%{y}<extra></extra>\",\"legendgroup\":\"Nathan\",\"marker\":{\"color\":\"#FECB52\",\"symbol\":\"circle\"},\"mode\":\"markers\",\"name\":\"Nathan\",\"orientation\":\"v\",\"showlegend\":true,\"x\":[43],\"xaxis\":\"x\",\"y\":[40589.8625],\"yaxis\":\"y\",\"type\":\"scatter\"},{\"hovertemplate\":\"Customer Name=Stacy<br>Age=%{x}<br>Car Purchase Amount=%{y}<extra></extra>\",\"legendgroup\":\"Stacy\",\"marker\":{\"color\":\"#636efa\",\"symbol\":\"circle\"},\"mode\":\"markers\",\"name\":\"Stacy\",\"orientation\":\"v\",\"showlegend\":true,\"x\":[55],\"xaxis\":\"x\",\"y\":[62028.71192],\"yaxis\":\"y\",\"type\":\"scatter\"},{\"hovertemplate\":\"Customer Name=Kane<br>Age=%{x}<br>Car Purchase Amount=%{y}<extra></extra>\",\"legendgroup\":\"Kane\",\"marker\":{\"color\":\"#EF553B\",\"symbol\":\"circle\"},\"mode\":\"markers\",\"name\":\"Kane\",\"orientation\":\"v\",\"showlegend\":true,\"x\":[40],\"xaxis\":\"x\",\"y\":[48465.27211],\"yaxis\":\"y\",\"type\":\"scatter\"},{\"hovertemplate\":\"Customer Name=Reed<br>Age=%{x}<br>Car Purchase Amount=%{y}<extra></extra>\",\"legendgroup\":\"Reed\",\"marker\":{\"color\":\"#00cc96\",\"symbol\":\"circle\"},\"mode\":\"markers\",\"name\":\"Reed\",\"orientation\":\"v\",\"showlegend\":true,\"x\":[38],\"xaxis\":\"x\",\"y\":[40095.0498],\"yaxis\":\"y\",\"type\":\"scatter\"},{\"hovertemplate\":\"Customer Name=Lani<br>Age=%{x}<br>Car Purchase Amount=%{y}<extra></extra>\",\"legendgroup\":\"Lani\",\"marker\":{\"color\":\"#ab63fa\",\"symbol\":\"circle\"},\"mode\":\"markers\",\"name\":\"Lani\",\"orientation\":\"v\",\"showlegend\":true,\"x\":[43],\"xaxis\":\"x\",\"y\":[49568.47685],\"yaxis\":\"y\",\"type\":\"scatter\"},{\"hovertemplate\":\"Customer Name=Curran<br>Age=%{x}<br>Car Purchase Amount=%{y}<extra></extra>\",\"legendgroup\":\"Curran\",\"marker\":{\"color\":\"#FFA15A\",\"symbol\":\"circle\"},\"mode\":\"markers\",\"name\":\"Curran\",\"orientation\":\"v\",\"showlegend\":true,\"x\":[37],\"xaxis\":\"x\",\"y\":[31408.62631],\"yaxis\":\"y\",\"type\":\"scatter\"},{\"hovertemplate\":\"Customer Name=Rhonda<br>Age=%{x}<br>Car Purchase Amount=%{y}<extra></extra>\",\"legendgroup\":\"Rhonda\",\"marker\":{\"color\":\"#19d3f3\",\"symbol\":\"circle\"},\"mode\":\"markers\",\"name\":\"Rhonda\",\"orientation\":\"v\",\"showlegend\":true,\"x\":[41],\"xaxis\":\"x\",\"y\":[47719.47741],\"yaxis\":\"y\",\"type\":\"scatter\"},{\"hovertemplate\":\"Customer Name=Leroy<br>Age=%{x}<br>Car Purchase Amount=%{y}<extra></extra>\",\"legendgroup\":\"Leroy\",\"marker\":{\"color\":\"#FF6692\",\"symbol\":\"circle\"},\"mode\":\"markers\",\"name\":\"Leroy\",\"orientation\":\"v\",\"showlegend\":true,\"x\":[42],\"xaxis\":\"x\",\"y\":[35784.42411],\"yaxis\":\"y\",\"type\":\"scatter\"},{\"hovertemplate\":\"Customer Name=Adrienne<br>Age=%{x}<br>Car Purchase Amount=%{y}<extra></extra>\",\"legendgroup\":\"Adrienne\",\"marker\":{\"color\":\"#B6E880\",\"symbol\":\"circle\"},\"mode\":\"markers\",\"name\":\"Adrienne\",\"orientation\":\"v\",\"showlegend\":true,\"x\":[38],\"xaxis\":\"x\",\"y\":[42905.53815],\"yaxis\":\"y\",\"type\":\"scatter\"},{\"hovertemplate\":\"Customer Name=Aileen<br>Age=%{x}<br>Car Purchase Amount=%{y}<extra></extra>\",\"legendgroup\":\"Aileen\",\"marker\":{\"color\":\"#FF97FF\",\"symbol\":\"circle\"},\"mode\":\"markers\",\"name\":\"Aileen\",\"orientation\":\"v\",\"showlegend\":true,\"x\":[43],\"xaxis\":\"x\",\"y\":[48516.84335],\"yaxis\":\"y\",\"type\":\"scatter\"},{\"hovertemplate\":\"Customer Name=Rafael<br>Age=%{x}<br>Car Purchase Amount=%{y}<extra></extra>\",\"legendgroup\":\"Rafael\",\"marker\":{\"color\":\"#FECB52\",\"symbol\":\"circle\"},\"mode\":\"markers\",\"name\":\"Rafael\",\"orientation\":\"v\",\"showlegend\":true,\"x\":[44],\"xaxis\":\"x\",\"y\":[45593.6849],\"yaxis\":\"y\",\"type\":\"scatter\"},{\"hovertemplate\":\"Customer Name=Olivia<br>Age=%{x}<br>Car Purchase Amount=%{y}<extra></extra>\",\"legendgroup\":\"Olivia\",\"marker\":{\"color\":\"#636efa\",\"symbol\":\"circle\"},\"mode\":\"markers\",\"name\":\"Olivia\",\"orientation\":\"v\",\"showlegend\":true,\"x\":[41],\"xaxis\":\"x\",\"y\":[32061.6467],\"yaxis\":\"y\",\"type\":\"scatter\"},{\"hovertemplate\":\"Customer Name=Hiram<br>Age=%{x}<br>Car Purchase Amount=%{y}<extra></extra>\",\"legendgroup\":\"Hiram\",\"marker\":{\"color\":\"#EF553B\",\"symbol\":\"circle\"},\"mode\":\"markers\",\"name\":\"Hiram\",\"orientation\":\"v\",\"showlegend\":true,\"x\":[46],\"xaxis\":\"x\",\"y\":[32208.37522],\"yaxis\":\"y\",\"type\":\"scatter\"},{\"hovertemplate\":\"Customer Name=Jelani<br>Age=%{x}<br>Car Purchase Amount=%{y}<extra></extra>\",\"legendgroup\":\"Jelani\",\"marker\":{\"color\":\"#00cc96\",\"symbol\":\"circle\"},\"mode\":\"markers\",\"name\":\"Jelani\",\"orientation\":\"v\",\"showlegend\":true,\"x\":[46],\"xaxis\":\"x\",\"y\":[35475.00344],\"yaxis\":\"y\",\"type\":\"scatter\"},{\"hovertemplate\":\"Customer Name=Madeson<br>Age=%{x}<br>Car Purchase Amount=%{y}<extra></extra>\",\"legendgroup\":\"Madeson\",\"marker\":{\"color\":\"#ab63fa\",\"symbol\":\"circle\"},\"mode\":\"markers\",\"name\":\"Madeson\",\"orientation\":\"v\",\"showlegend\":true,\"x\":[40],\"xaxis\":\"x\",\"y\":[29519.56184],\"yaxis\":\"y\",\"type\":\"scatter\"},{\"hovertemplate\":\"Customer Name=Uriah<br>Age=%{x}<br>Car Purchase Amount=%{y}<extra></extra>\",\"legendgroup\":\"Uriah\",\"marker\":{\"color\":\"#FFA15A\",\"symbol\":\"circle\"},\"mode\":\"markers\",\"name\":\"Uriah\",\"orientation\":\"v\",\"showlegend\":true,\"x\":[45],\"xaxis\":\"x\",\"y\":[55420.56668],\"yaxis\":\"y\",\"type\":\"scatter\"},{\"hovertemplate\":\"Customer Name=Brady<br>Age=%{x}<br>Car Purchase Amount=%{y}<extra></extra>\",\"legendgroup\":\"Brady\",\"marker\":{\"color\":\"#19d3f3\",\"symbol\":\"circle\"},\"mode\":\"markers\",\"name\":\"Brady\",\"orientation\":\"v\",\"showlegend\":true,\"x\":[58],\"xaxis\":\"x\",\"y\":[42139.64528],\"yaxis\":\"y\",\"type\":\"scatter\"},{\"hovertemplate\":\"Customer Name=Denise<br>Age=%{x}<br>Car Purchase Amount=%{y}<extra></extra>\",\"legendgroup\":\"Denise\",\"marker\":{\"color\":\"#FF6692\",\"symbol\":\"circle\"},\"mode\":\"markers\",\"name\":\"Denise\",\"orientation\":\"v\",\"showlegend\":true,\"x\":[62],\"xaxis\":\"x\",\"y\":[50539.90169],\"yaxis\":\"y\",\"type\":\"scatter\"},{\"hovertemplate\":\"Customer Name=Lyle<br>Age=%{x}<br>Car Purchase Amount=%{y}<extra></extra>\",\"legendgroup\":\"Lyle\",\"marker\":{\"color\":\"#B6E880\",\"symbol\":\"circle\"},\"mode\":\"markers\",\"name\":\"Lyle\",\"orientation\":\"v\",\"showlegend\":true,\"x\":[52],\"xaxis\":\"x\",\"y\":[34922.42846],\"yaxis\":\"y\",\"type\":\"scatter\"},{\"hovertemplate\":\"Customer Name=Victor<br>Age=%{x}<br>Car Purchase Amount=%{y}<extra></extra>\",\"legendgroup\":\"Victor\",\"marker\":{\"color\":\"#FF97FF\",\"symbol\":\"circle\"},\"mode\":\"markers\",\"name\":\"Victor\",\"orientation\":\"v\",\"showlegend\":true,\"x\":[44],\"xaxis\":\"x\",\"y\":[43898.2733],\"yaxis\":\"y\",\"type\":\"scatter\"},{\"hovertemplate\":\"Customer Name=Demetria<br>Age=%{x}<br>Car Purchase Amount=%{y}<extra></extra>\",\"legendgroup\":\"Demetria\",\"marker\":{\"color\":\"#FECB52\",\"symbol\":\"circle\"},\"mode\":\"markers\",\"name\":\"Demetria\",\"orientation\":\"v\",\"showlegend\":true,\"x\":[44],\"xaxis\":\"x\",\"y\":[39135.03023],\"yaxis\":\"y\",\"type\":\"scatter\"},{\"hovertemplate\":\"Customer Name=Ora<br>Age=%{x}<br>Car Purchase Amount=%{y}<extra></extra>\",\"legendgroup\":\"Ora\",\"marker\":{\"color\":\"#636efa\",\"symbol\":\"circle\"},\"mode\":\"markers\",\"name\":\"Ora\",\"orientation\":\"v\",\"showlegend\":true,\"x\":[40],\"xaxis\":\"x\",\"y\":[41147.46679],\"yaxis\":\"y\",\"type\":\"scatter\"},{\"hovertemplate\":\"Customer Name=Trevor<br>Age=%{x}<br>Car Purchase Amount=%{y}<extra></extra>\",\"legendgroup\":\"Trevor\",\"marker\":{\"color\":\"#EF553B\",\"symbol\":\"circle\"},\"mode\":\"markers\",\"name\":\"Trevor\",\"orientation\":\"v\",\"showlegend\":true,\"x\":[33],\"xaxis\":\"x\",\"y\":[24134.59205],\"yaxis\":\"y\",\"type\":\"scatter\"},{\"hovertemplate\":\"Customer Name=Kristen<br>Age=%{x}<br>Car Purchase Amount=%{y}<extra></extra>\",\"legendgroup\":\"Kristen\",\"marker\":{\"color\":\"#00cc96\",\"symbol\":\"circle\"},\"mode\":\"markers\",\"name\":\"Kristen\",\"orientation\":\"v\",\"showlegend\":true,\"x\":[44],\"xaxis\":\"x\",\"y\":[42705.11311],\"yaxis\":\"y\",\"type\":\"scatter\"},{\"hovertemplate\":\"Customer Name=Aristotle<br>Age=%{x}<br>Car Purchase Amount=%{y}<extra></extra>\",\"legendgroup\":\"Aristotle\",\"marker\":{\"color\":\"#ab63fa\",\"symbol\":\"circle\"},\"mode\":\"markers\",\"name\":\"Aristotle\",\"orientation\":\"v\",\"showlegend\":true,\"x\":[42],\"xaxis\":\"x\",\"y\":[38901.60925],\"yaxis\":\"y\",\"type\":\"scatter\"},{\"hovertemplate\":\"Customer Name=Camden<br>Age=%{x}<br>Car Purchase Amount=%{y}<extra></extra>\",\"legendgroup\":\"Camden\",\"marker\":{\"color\":\"#FFA15A\",\"symbol\":\"circle\"},\"mode\":\"markers\",\"name\":\"Camden\",\"orientation\":\"v\",\"showlegend\":true,\"x\":[20],\"xaxis\":\"x\",\"y\":[28645.39425],\"yaxis\":\"y\",\"type\":\"scatter\"},{\"hovertemplate\":\"Customer Name=Urielle<br>Age=%{x}<br>Car Purchase Amount=%{y}<extra></extra>\",\"legendgroup\":\"Urielle\",\"marker\":{\"color\":\"#19d3f3\",\"symbol\":\"circle\"},\"mode\":\"markers\",\"name\":\"Urielle\",\"orientation\":\"v\",\"showlegend\":true,\"x\":[53],\"xaxis\":\"x\",\"y\":[52150.41786],\"yaxis\":\"y\",\"type\":\"scatter\"},{\"hovertemplate\":\"Customer Name=Jolene<br>Age=%{x}<br>Car Purchase Amount=%{y}<extra></extra>\",\"legendgroup\":\"Jolene\",\"marker\":{\"color\":\"#FF6692\",\"symbol\":\"circle\"},\"mode\":\"markers\",\"name\":\"Jolene\",\"orientation\":\"v\",\"showlegend\":true,\"x\":[56],\"xaxis\":\"x\",\"y\":[66648.25077],\"yaxis\":\"y\",\"type\":\"scatter\"},{\"hovertemplate\":\"Customer Name=Holly<br>Age=%{x}<br>Car Purchase Amount=%{y}<extra></extra>\",\"legendgroup\":\"Holly\",\"marker\":{\"color\":\"#B6E880\",\"symbol\":\"circle\"},\"mode\":\"markers\",\"name\":\"Holly\",\"orientation\":\"v\",\"showlegend\":true,\"x\":[44],\"xaxis\":\"x\",\"y\":[42909.27129],\"yaxis\":\"y\",\"type\":\"scatter\"},{\"hovertemplate\":\"Customer Name=Wayne<br>Age=%{x}<br>Car Purchase Amount=%{y}<extra></extra>\",\"legendgroup\":\"Wayne\",\"marker\":{\"color\":\"#FF97FF\",\"symbol\":\"circle\"},\"mode\":\"markers\",\"name\":\"Wayne\",\"orientation\":\"v\",\"showlegend\":true,\"x\":[52],\"xaxis\":\"x\",\"y\":[49248.10595],\"yaxis\":\"y\",\"type\":\"scatter\"},{\"hovertemplate\":\"Customer Name=Judith<br>Age=%{x}<br>Car Purchase Amount=%{y}<extra></extra>\",\"legendgroup\":\"Judith\",\"marker\":{\"color\":\"#FECB52\",\"symbol\":\"circle\"},\"mode\":\"markers\",\"name\":\"Judith\",\"orientation\":\"v\",\"showlegend\":true,\"x\":[43],\"xaxis\":\"x\",\"y\":[27303.17104],\"yaxis\":\"y\",\"type\":\"scatter\"},{\"hovertemplate\":\"Customer Name=Dennis<br>Age=%{x}<br>Car Purchase Amount=%{y}<extra></extra>\",\"legendgroup\":\"Dennis\",\"marker\":{\"color\":\"#636efa\",\"symbol\":\"circle\"},\"mode\":\"markers\",\"name\":\"Dennis\",\"orientation\":\"v\",\"showlegend\":true,\"x\":[49],\"xaxis\":\"x\",\"y\":[47869.82593],\"yaxis\":\"y\",\"type\":\"scatter\"},{\"hovertemplate\":\"Customer Name=Kaitlin<br>Age=%{x}<br>Car Purchase Amount=%{y}<extra></extra>\",\"legendgroup\":\"Kaitlin\",\"marker\":{\"color\":\"#EF553B\",\"symbol\":\"circle\"},\"mode\":\"markers\",\"name\":\"Kaitlin\",\"orientation\":\"v\",\"showlegend\":true,\"x\":[56],\"xaxis\":\"x\",\"y\":[59984.16361],\"yaxis\":\"y\",\"type\":\"scatter\"},{\"hovertemplate\":\"Customer Name=Harriet<br>Age=%{x}<br>Car Purchase Amount=%{y}<extra></extra>\",\"legendgroup\":\"Harriet\",\"marker\":{\"color\":\"#00cc96\",\"symbol\":\"circle\"},\"mode\":\"markers\",\"name\":\"Harriet\",\"orientation\":\"v\",\"showlegend\":true,\"x\":[47],\"xaxis\":\"x\",\"y\":[45271.46081],\"yaxis\":\"y\",\"type\":\"scatter\"},{\"hovertemplate\":\"Customer Name=Tatyana<br>Age=%{x}<br>Car Purchase Amount=%{y}<extra></extra>\",\"legendgroup\":\"Tatyana\",\"marker\":{\"color\":\"#ab63fa\",\"symbol\":\"circle\"},\"mode\":\"markers\",\"name\":\"Tatyana\",\"orientation\":\"v\",\"showlegend\":true,\"x\":[25],\"xaxis\":\"x\",\"y\":[9000.0],\"yaxis\":\"y\",\"type\":\"scatter\"},{\"hovertemplate\":\"Customer Name=Paula<br>Age=%{x}<br>Car Purchase Amount=%{y}<extra></extra>\",\"legendgroup\":\"Paula\",\"marker\":{\"color\":\"#FFA15A\",\"symbol\":\"circle\"},\"mode\":\"markers\",\"name\":\"Paula\",\"orientation\":\"v\",\"showlegend\":true,\"x\":[45],\"xaxis\":\"x\",\"y\":[46012.10616],\"yaxis\":\"y\",\"type\":\"scatter\"},{\"hovertemplate\":\"Customer Name=Tamekah<br>Age=%{x}<br>Car Purchase Amount=%{y}<extra></extra>\",\"legendgroup\":\"Tamekah\",\"marker\":{\"color\":\"#19d3f3\",\"symbol\":\"circle\"},\"mode\":\"markers\",\"name\":\"Tamekah\",\"orientation\":\"v\",\"showlegend\":true,\"x\":[46],\"xaxis\":\"x\",\"y\":[32967.20191],\"yaxis\":\"y\",\"type\":\"scatter\"},{\"hovertemplate\":\"Customer Name=Brandon<br>Age=%{x}<br>Car Purchase Amount=%{y}<extra></extra>\",\"legendgroup\":\"Brandon\",\"marker\":{\"color\":\"#FF6692\",\"symbol\":\"circle\"},\"mode\":\"markers\",\"name\":\"Brandon\",\"orientation\":\"v\",\"showlegend\":true,\"x\":[33],\"xaxis\":\"x\",\"y\":[48785.15839],\"yaxis\":\"y\",\"type\":\"scatter\"},{\"hovertemplate\":\"Customer Name=Veda<br>Age=%{x}<br>Car Purchase Amount=%{y}<extra></extra>\",\"legendgroup\":\"Veda\",\"marker\":{\"color\":\"#B6E880\",\"symbol\":\"circle\"},\"mode\":\"markers\",\"name\":\"Veda\",\"orientation\":\"v\",\"showlegend\":true,\"x\":[43],\"xaxis\":\"x\",\"y\":[45824.5656],\"yaxis\":\"y\",\"type\":\"scatter\"},{\"hovertemplate\":\"Customer Name=Kai<br>Age=%{x}<br>Car Purchase Amount=%{y}<extra></extra>\",\"legendgroup\":\"Kai\",\"marker\":{\"color\":\"#FF97FF\",\"symbol\":\"circle\"},\"mode\":\"markers\",\"name\":\"Kai\",\"orientation\":\"v\",\"showlegend\":true,\"x\":[48],\"xaxis\":\"x\",\"y\":[35457.1486],\"yaxis\":\"y\",\"type\":\"scatter\"},{\"hovertemplate\":\"Customer Name=Piper<br>Age=%{x}<br>Car Purchase Amount=%{y}<extra></extra>\",\"legendgroup\":\"Piper\",\"marker\":{\"color\":\"#FECB52\",\"symbol\":\"circle\"},\"mode\":\"markers\",\"name\":\"Piper\",\"orientation\":\"v\",\"showlegend\":true,\"x\":[40],\"xaxis\":\"x\",\"y\":[29556.7932],\"yaxis\":\"y\",\"type\":\"scatter\"},{\"hovertemplate\":\"Customer Name=Hillary<br>Age=%{x}<br>Car Purchase Amount=%{y}<extra></extra>\",\"legendgroup\":\"Hillary\",\"marker\":{\"color\":\"#636efa\",\"symbol\":\"circle\"},\"mode\":\"markers\",\"name\":\"Hillary\",\"orientation\":\"v\",\"showlegend\":true,\"x\":[39],\"xaxis\":\"x\",\"y\":[38243.06228],\"yaxis\":\"y\",\"type\":\"scatter\"},{\"hovertemplate\":\"Customer Name=Francis<br>Age=%{x}<br>Car Purchase Amount=%{y}<extra></extra>\",\"legendgroup\":\"Francis\",\"marker\":{\"color\":\"#EF553B\",\"symbol\":\"circle\"},\"mode\":\"markers\",\"name\":\"Francis\",\"orientation\":\"v\",\"showlegend\":true,\"x\":[39],\"xaxis\":\"x\",\"y\":[44430.63323],\"yaxis\":\"y\",\"type\":\"scatter\"},{\"hovertemplate\":\"Customer Name=Rogan<br>Age=%{x}<br>Car Purchase Amount=%{y}<extra></extra>\",\"legendgroup\":\"Rogan\",\"marker\":{\"color\":\"#00cc96\",\"symbol\":\"circle\"},\"mode\":\"markers\",\"name\":\"Rogan\",\"orientation\":\"v\",\"showlegend\":true,\"x\":[54],\"xaxis\":\"x\",\"y\":[51046.42226],\"yaxis\":\"y\",\"type\":\"scatter\"},{\"hovertemplate\":\"Customer Name=Kyle<br>Age=%{x}<br>Car Purchase Amount=%{y}<extra></extra>\",\"legendgroup\":\"Kyle\",\"marker\":{\"color\":\"#ab63fa\",\"symbol\":\"circle\"},\"mode\":\"markers\",\"name\":\"Kyle\",\"orientation\":\"v\",\"showlegend\":true,\"x\":[53],\"xaxis\":\"x\",\"y\":[52570.36517],\"yaxis\":\"y\",\"type\":\"scatter\"},{\"hovertemplate\":\"Customer Name=Vaughan<br>Age=%{x}<br>Car Purchase Amount=%{y}<extra></extra>\",\"legendgroup\":\"Vaughan\",\"marker\":{\"color\":\"#FFA15A\",\"symbol\":\"circle\"},\"mode\":\"markers\",\"name\":\"Vaughan\",\"orientation\":\"v\",\"showlegend\":true,\"x\":[51],\"xaxis\":\"x\",\"y\":[61404.22578],\"yaxis\":\"y\",\"type\":\"scatter\"},{\"hovertemplate\":\"Customer Name=India<br>Age=%{x}<br>Car Purchase Amount=%{y}<extra></extra>\",\"legendgroup\":\"India\",\"marker\":{\"color\":\"#19d3f3\",\"symbol\":\"circle\"},\"mode\":\"markers\",\"name\":\"India\",\"orientation\":\"v\",\"showlegend\":true,\"x\":[55],\"xaxis\":\"x\",\"y\":[28463.64326],\"yaxis\":\"y\",\"type\":\"scatter\"},{\"hovertemplate\":\"Customer Name=Edward<br>Age=%{x}<br>Car Purchase Amount=%{y}<extra></extra>\",\"legendgroup\":\"Edward\",\"marker\":{\"color\":\"#FF6692\",\"symbol\":\"circle\"},\"mode\":\"markers\",\"name\":\"Edward\",\"orientation\":\"v\",\"showlegend\":true,\"x\":[35],\"xaxis\":\"x\",\"y\":[27586.20078],\"yaxis\":\"y\",\"type\":\"scatter\"},{\"hovertemplate\":\"Customer Name=Laurel<br>Age=%{x}<br>Car Purchase Amount=%{y}<extra></extra>\",\"legendgroup\":\"Laurel\",\"marker\":{\"color\":\"#B6E880\",\"symbol\":\"circle\"},\"mode\":\"markers\",\"name\":\"Laurel\",\"orientation\":\"v\",\"showlegend\":true,\"x\":[43],\"xaxis\":\"x\",\"y\":[47979.48549],\"yaxis\":\"y\",\"type\":\"scatter\"},{\"hovertemplate\":\"Customer Name=Igor<br>Age=%{x}<br>Car Purchase Amount=%{y}<extra></extra>\",\"legendgroup\":\"Igor\",\"marker\":{\"color\":\"#FF97FF\",\"symbol\":\"circle\"},\"mode\":\"markers\",\"name\":\"Igor\",\"orientation\":\"v\",\"showlegend\":true,\"x\":[37],\"xaxis\":\"x\",\"y\":[28164.86039],\"yaxis\":\"y\",\"type\":\"scatter\"},{\"hovertemplate\":\"Customer Name=Diana<br>Age=%{x}<br>Car Purchase Amount=%{y}<extra></extra>\",\"legendgroup\":\"Diana\",\"marker\":{\"color\":\"#FECB52\",\"symbol\":\"circle\"},\"mode\":\"markers\",\"name\":\"Diana\",\"orientation\":\"v\",\"showlegend\":true,\"x\":[60],\"xaxis\":\"x\",\"y\":[69669.47402],\"yaxis\":\"y\",\"type\":\"scatter\"},{\"hovertemplate\":\"Customer Name=Todd<br>Age=%{x}<br>Car Purchase Amount=%{y}<extra></extra>\",\"legendgroup\":\"Todd\",\"marker\":{\"color\":\"#636efa\",\"symbol\":\"circle\"},\"mode\":\"markers\",\"name\":\"Todd\",\"orientation\":\"v\",\"showlegend\":true,\"x\":[44],\"xaxis\":\"x\",\"y\":[48052.65091],\"yaxis\":\"y\",\"type\":\"scatter\"},{\"hovertemplate\":\"Customer Name=Zephania<br>Age=%{x}<br>Car Purchase Amount=%{y}<extra></extra>\",\"legendgroup\":\"Zephania\",\"marker\":{\"color\":\"#EF553B\",\"symbol\":\"circle\"},\"mode\":\"markers\",\"name\":\"Zephania\",\"orientation\":\"v\",\"showlegend\":true,\"x\":[39],\"xaxis\":\"x\",\"y\":[37364.23474],\"yaxis\":\"y\",\"type\":\"scatter\"},{\"hovertemplate\":\"Customer Name=Brock<br>Age=%{x}<br>Car Purchase Amount=%{y}<extra></extra>\",\"legendgroup\":\"Brock\",\"marker\":{\"color\":\"#00cc96\",\"symbol\":\"circle\"},\"mode\":\"markers\",\"name\":\"Brock\",\"orientation\":\"v\",\"showlegend\":true,\"x\":[42],\"xaxis\":\"x\",\"y\":[44500.81936],\"yaxis\":\"y\",\"type\":\"scatter\"},{\"hovertemplate\":\"Customer Name=Avye<br>Age=%{x}<br>Car Purchase Amount=%{y}<extra></extra>\",\"legendgroup\":\"Avye\",\"marker\":{\"color\":\"#ab63fa\",\"symbol\":\"circle\"},\"mode\":\"markers\",\"name\":\"Avye\",\"orientation\":\"v\",\"showlegend\":true,\"x\":[32],\"xaxis\":\"x\",\"y\":[35139.24793],\"yaxis\":\"y\",\"type\":\"scatter\"},{\"hovertemplate\":\"Customer Name=Serena<br>Age=%{x}<br>Car Purchase Amount=%{y}<extra></extra>\",\"legendgroup\":\"Serena\",\"marker\":{\"color\":\"#FFA15A\",\"symbol\":\"circle\"},\"mode\":\"markers\",\"name\":\"Serena\",\"orientation\":\"v\",\"showlegend\":true,\"x\":[52],\"xaxis\":\"x\",\"y\":[55167.37361],\"yaxis\":\"y\",\"type\":\"scatter\"},{\"hovertemplate\":\"Customer Name=Barclay<br>Age=%{x}<br>Car Purchase Amount=%{y}<extra></extra>\",\"legendgroup\":\"Barclay\",\"marker\":{\"color\":\"#19d3f3\",\"symbol\":\"circle\"},\"mode\":\"markers\",\"name\":\"Barclay\",\"orientation\":\"v\",\"showlegend\":true,\"x\":[56],\"xaxis\":\"x\",\"y\":[48383.69071],\"yaxis\":\"y\",\"type\":\"scatter\"},{\"hovertemplate\":\"Customer Name=Isabella<br>Age=%{x}<br>Car Purchase Amount=%{y}<extra></extra>\",\"legendgroup\":\"Isabella\",\"marker\":{\"color\":\"#FF6692\",\"symbol\":\"circle\"},\"mode\":\"markers\",\"name\":\"Isabella\",\"orientation\":\"v\",\"showlegend\":true,\"x\":[41],\"xaxis\":\"x\",\"y\":[35823.55471],\"yaxis\":\"y\",\"type\":\"scatter\"},{\"hovertemplate\":\"Customer Name=Mia<br>Age=%{x}<br>Car Purchase Amount=%{y}<extra></extra>\",\"legendgroup\":\"Mia\",\"marker\":{\"color\":\"#B6E880\",\"symbol\":\"circle\"},\"mode\":\"markers\",\"name\":\"Mia\",\"orientation\":\"v\",\"showlegend\":true,\"x\":[51],\"xaxis\":\"x\",\"y\":[36517.70996],\"yaxis\":\"y\",\"type\":\"scatter\"},{\"hovertemplate\":\"Customer Name=Chester<br>Age=%{x}<br>Car Purchase Amount=%{y}<extra></extra>\",\"legendgroup\":\"Chester\",\"marker\":{\"color\":\"#FF97FF\",\"symbol\":\"circle\"},\"mode\":\"markers\",\"name\":\"Chester\",\"orientation\":\"v\",\"showlegend\":true,\"x\":[58],\"xaxis\":\"x\",\"y\":[53110.88052],\"yaxis\":\"y\",\"type\":\"scatter\"},{\"hovertemplate\":\"Customer Name=Isaac<br>Age=%{x}<br>Car Purchase Amount=%{y}<extra></extra>\",\"legendgroup\":\"Isaac\",\"marker\":{\"color\":\"#FECB52\",\"symbol\":\"circle\"},\"mode\":\"markers\",\"name\":\"Isaac\",\"orientation\":\"v\",\"showlegend\":true,\"x\":[51],\"xaxis\":\"x\",\"y\":[53049.44567],\"yaxis\":\"y\",\"type\":\"scatter\"},{\"hovertemplate\":\"Customer Name=Heather<br>Age=%{x}<br>Car Purchase Amount=%{y}<extra></extra>\",\"legendgroup\":\"Heather\",\"marker\":{\"color\":\"#636efa\",\"symbol\":\"circle\"},\"mode\":\"markers\",\"name\":\"Heather\",\"orientation\":\"v\",\"showlegend\":true,\"x\":[29],\"xaxis\":\"x\",\"y\":[21471.11367],\"yaxis\":\"y\",\"type\":\"scatter\"},{\"hovertemplate\":\"Customer Name=Justine<br>Age=%{x}<br>Car Purchase Amount=%{y}<extra></extra>\",\"legendgroup\":\"Justine\",\"marker\":{\"color\":\"#EF553B\",\"symbol\":\"circle\"},\"mode\":\"markers\",\"name\":\"Justine\",\"orientation\":\"v\",\"showlegend\":true,\"x\":[53],\"xaxis\":\"x\",\"y\":[45015.67953],\"yaxis\":\"y\",\"type\":\"scatter\"},{\"hovertemplate\":\"Customer Name=Bert<br>Age=%{x}<br>Car Purchase Amount=%{y}<extra></extra>\",\"legendgroup\":\"Bert\",\"marker\":{\"color\":\"#00cc96\",\"symbol\":\"circle\"},\"mode\":\"markers\",\"name\":\"Bert\",\"orientation\":\"v\",\"showlegend\":true,\"x\":[43],\"xaxis\":\"x\",\"y\":[55377.87697],\"yaxis\":\"y\",\"type\":\"scatter\"},{\"hovertemplate\":\"Customer Name=Gil<br>Age=%{x}<br>Car Purchase Amount=%{y}<extra></extra>\",\"legendgroup\":\"Gil\",\"marker\":{\"color\":\"#ab63fa\",\"symbol\":\"circle\"},\"mode\":\"markers\",\"name\":\"Gil\",\"orientation\":\"v\",\"showlegend\":true,\"x\":[62],\"xaxis\":\"x\",\"y\":[56510.13294],\"yaxis\":\"y\",\"type\":\"scatter\"},{\"hovertemplate\":\"Customer Name=Dolan<br>Age=%{x}<br>Car Purchase Amount=%{y}<extra></extra>\",\"legendgroup\":\"Dolan\",\"marker\":{\"color\":\"#FFA15A\",\"symbol\":\"circle\"},\"mode\":\"markers\",\"name\":\"Dolan\",\"orientation\":\"v\",\"showlegend\":true,\"x\":[60],\"xaxis\":\"x\",\"y\":[47443.74443],\"yaxis\":\"y\",\"type\":\"scatter\"},{\"hovertemplate\":\"Customer Name=Cheryl<br>Age=%{x}<br>Car Purchase Amount=%{y}<extra></extra>\",\"legendgroup\":\"Cheryl\",\"marker\":{\"color\":\"#19d3f3\",\"symbol\":\"circle\"},\"mode\":\"markers\",\"name\":\"Cheryl\",\"orientation\":\"v\",\"showlegend\":true,\"x\":[37],\"xaxis\":\"x\",\"y\":[41489.64123],\"yaxis\":\"y\",\"type\":\"scatter\"},{\"hovertemplate\":\"Customer Name=Courtney<br>Age=%{x}<br>Car Purchase Amount=%{y}<extra></extra>\",\"legendgroup\":\"Courtney\",\"marker\":{\"color\":\"#FF6692\",\"symbol\":\"circle\"},\"mode\":\"markers\",\"name\":\"Courtney\",\"orientation\":\"v\",\"showlegend\":true,\"x\":[43],\"xaxis\":\"x\",\"y\":[32553.53423],\"yaxis\":\"y\",\"type\":\"scatter\"},{\"hovertemplate\":\"Customer Name=Neville<br>Age=%{x}<br>Car Purchase Amount=%{y}<extra></extra>\",\"legendgroup\":\"Neville\",\"marker\":{\"color\":\"#B6E880\",\"symbol\":\"circle\"},\"mode\":\"markers\",\"name\":\"Neville\",\"orientation\":\"v\",\"showlegend\":true,\"x\":[42],\"xaxis\":\"x\",\"y\":[41984.62412],\"yaxis\":\"y\",\"type\":\"scatter\"},{\"hovertemplate\":\"Customer Name=Gloria<br>Age=%{x}<br>Car Purchase Amount=%{y}<extra></extra>\",\"legendgroup\":\"Gloria\",\"marker\":{\"color\":\"#FF97FF\",\"symbol\":\"circle\"},\"mode\":\"markers\",\"name\":\"Gloria\",\"orientation\":\"v\",\"showlegend\":true,\"x\":[55],\"xaxis\":\"x\",\"y\":[59538.40327],\"yaxis\":\"y\",\"type\":\"scatter\"},{\"hovertemplate\":\"Customer Name=Jonah<br>Age=%{x}<br>Car Purchase Amount=%{y}<extra></extra>\",\"legendgroup\":\"Jonah\",\"marker\":{\"color\":\"#FECB52\",\"symbol\":\"circle\"},\"mode\":\"markers\",\"name\":\"Jonah\",\"orientation\":\"v\",\"showlegend\":true,\"x\":[46],\"xaxis\":\"x\",\"y\":[41352.47071],\"yaxis\":\"y\",\"type\":\"scatter\"},{\"hovertemplate\":\"Customer Name=Merrill<br>Age=%{x}<br>Car Purchase Amount=%{y}<extra></extra>\",\"legendgroup\":\"Merrill\",\"marker\":{\"color\":\"#636efa\",\"symbol\":\"circle\"},\"mode\":\"markers\",\"name\":\"Merrill\",\"orientation\":\"v\",\"showlegend\":true,\"x\":[50],\"xaxis\":\"x\",\"y\":[52785.16947],\"yaxis\":\"y\",\"type\":\"scatter\"},{\"hovertemplate\":\"Customer Name=Nolan<br>Age=%{x}<br>Car Purchase Amount=%{y}<extra></extra>\",\"legendgroup\":\"Nolan\",\"marker\":{\"color\":\"#EF553B\",\"symbol\":\"circle\"},\"mode\":\"markers\",\"name\":\"Nolan\",\"orientation\":\"v\",\"showlegend\":true,\"x\":[55],\"xaxis\":\"x\",\"y\":[60117.67886],\"yaxis\":\"y\",\"type\":\"scatter\"},{\"hovertemplate\":\"Customer Name=Winter<br>Age=%{x}<br>Car Purchase Amount=%{y}<extra></extra>\",\"legendgroup\":\"Winter\",\"marker\":{\"color\":\"#00cc96\",\"symbol\":\"circle\"},\"mode\":\"markers\",\"name\":\"Winter\",\"orientation\":\"v\",\"showlegend\":true,\"x\":[43],\"xaxis\":\"x\",\"y\":[47760.66427],\"yaxis\":\"y\",\"type\":\"scatter\"},{\"hovertemplate\":\"Customer Name=Rigel<br>Age=%{x}<br>Car Purchase Amount=%{y}<extra></extra>\",\"legendgroup\":\"Rigel\",\"marker\":{\"color\":\"#ab63fa\",\"symbol\":\"circle\"},\"mode\":\"markers\",\"name\":\"Rigel\",\"orientation\":\"v\",\"showlegend\":true,\"x\":[52],\"xaxis\":\"x\",\"y\":[64188.26862],\"yaxis\":\"y\",\"type\":\"scatter\"},{\"hovertemplate\":\"Customer Name=Vanna<br>Age=%{x}<br>Car Purchase Amount=%{y}<extra></extra>\",\"legendgroup\":\"Vanna\",\"marker\":{\"color\":\"#FFA15A\",\"symbol\":\"circle\"},\"mode\":\"markers\",\"name\":\"Vanna\",\"orientation\":\"v\",\"showlegend\":true,\"x\":[38],\"xaxis\":\"x\",\"y\":[31491.41457],\"yaxis\":\"y\",\"type\":\"scatter\"},{\"hovertemplate\":\"Customer Name=Pearl<br>Age=%{x}<br>Car Purchase Amount=%{y}<extra></extra>\",\"legendgroup\":\"Pearl\",\"marker\":{\"color\":\"#19d3f3\",\"symbol\":\"circle\"},\"mode\":\"markers\",\"name\":\"Pearl\",\"orientation\":\"v\",\"showlegend\":true,\"x\":[54],\"xaxis\":\"x\",\"y\":[64147.28888],\"yaxis\":\"y\",\"type\":\"scatter\"},{\"hovertemplate\":\"Customer Name=Nell<br>Age=%{x}<br>Car Purchase Amount=%{y}<extra></extra>\",\"legendgroup\":\"Nell\",\"marker\":{\"color\":\"#FF6692\",\"symbol\":\"circle\"},\"mode\":\"markers\",\"name\":\"Nell\",\"orientation\":\"v\",\"showlegend\":true,\"x\":[59],\"xaxis\":\"x\",\"y\":[45442.15353],\"yaxis\":\"y\",\"type\":\"scatter\"},{\"hovertemplate\":\"Customer Name=Marla<br>Age=%{x}<br>Car Purchase Amount=%{y}<extra></extra>\",\"legendgroup\":\"Marla\",\"marker\":{\"color\":\"#B6E880\",\"symbol\":\"circle\"},\"mode\":\"markers\",\"name\":\"Marla\",\"orientation\":\"v\",\"showlegend\":true,\"x\":[47],\"xaxis\":\"x\",\"y\":[45107.22566],\"yaxis\":\"y\",\"type\":\"scatter\"}],                        {\"template\":{\"data\":{\"histogram2dcontour\":[{\"type\":\"histogram2dcontour\",\"colorbar\":{\"outlinewidth\":0,\"ticks\":\"\"},\"colorscale\":[[0.0,\"#0d0887\"],[0.1111111111111111,\"#46039f\"],[0.2222222222222222,\"#7201a8\"],[0.3333333333333333,\"#9c179e\"],[0.4444444444444444,\"#bd3786\"],[0.5555555555555556,\"#d8576b\"],[0.6666666666666666,\"#ed7953\"],[0.7777777777777778,\"#fb9f3a\"],[0.8888888888888888,\"#fdca26\"],[1.0,\"#f0f921\"]]}],\"choropleth\":[{\"type\":\"choropleth\",\"colorbar\":{\"outlinewidth\":0,\"ticks\":\"\"}}],\"histogram2d\":[{\"type\":\"histogram2d\",\"colorbar\":{\"outlinewidth\":0,\"ticks\":\"\"},\"colorscale\":[[0.0,\"#0d0887\"],[0.1111111111111111,\"#46039f\"],[0.2222222222222222,\"#7201a8\"],[0.3333333333333333,\"#9c179e\"],[0.4444444444444444,\"#bd3786\"],[0.5555555555555556,\"#d8576b\"],[0.6666666666666666,\"#ed7953\"],[0.7777777777777778,\"#fb9f3a\"],[0.8888888888888888,\"#fdca26\"],[1.0,\"#f0f921\"]]}],\"heatmap\":[{\"type\":\"heatmap\",\"colorbar\":{\"outlinewidth\":0,\"ticks\":\"\"},\"colorscale\":[[0.0,\"#0d0887\"],[0.1111111111111111,\"#46039f\"],[0.2222222222222222,\"#7201a8\"],[0.3333333333333333,\"#9c179e\"],[0.4444444444444444,\"#bd3786\"],[0.5555555555555556,\"#d8576b\"],[0.6666666666666666,\"#ed7953\"],[0.7777777777777778,\"#fb9f3a\"],[0.8888888888888888,\"#fdca26\"],[1.0,\"#f0f921\"]]}],\"heatmapgl\":[{\"type\":\"heatmapgl\",\"colorbar\":{\"outlinewidth\":0,\"ticks\":\"\"},\"colorscale\":[[0.0,\"#0d0887\"],[0.1111111111111111,\"#46039f\"],[0.2222222222222222,\"#7201a8\"],[0.3333333333333333,\"#9c179e\"],[0.4444444444444444,\"#bd3786\"],[0.5555555555555556,\"#d8576b\"],[0.6666666666666666,\"#ed7953\"],[0.7777777777777778,\"#fb9f3a\"],[0.8888888888888888,\"#fdca26\"],[1.0,\"#f0f921\"]]}],\"contourcarpet\":[{\"type\":\"contourcarpet\",\"colorbar\":{\"outlinewidth\":0,\"ticks\":\"\"}}],\"contour\":[{\"type\":\"contour\",\"colorbar\":{\"outlinewidth\":0,\"ticks\":\"\"},\"colorscale\":[[0.0,\"#0d0887\"],[0.1111111111111111,\"#46039f\"],[0.2222222222222222,\"#7201a8\"],[0.3333333333333333,\"#9c179e\"],[0.4444444444444444,\"#bd3786\"],[0.5555555555555556,\"#d8576b\"],[0.6666666666666666,\"#ed7953\"],[0.7777777777777778,\"#fb9f3a\"],[0.8888888888888888,\"#fdca26\"],[1.0,\"#f0f921\"]]}],\"surface\":[{\"type\":\"surface\",\"colorbar\":{\"outlinewidth\":0,\"ticks\":\"\"},\"colorscale\":[[0.0,\"#0d0887\"],[0.1111111111111111,\"#46039f\"],[0.2222222222222222,\"#7201a8\"],[0.3333333333333333,\"#9c179e\"],[0.4444444444444444,\"#bd3786\"],[0.5555555555555556,\"#d8576b\"],[0.6666666666666666,\"#ed7953\"],[0.7777777777777778,\"#fb9f3a\"],[0.8888888888888888,\"#fdca26\"],[1.0,\"#f0f921\"]]}],\"mesh3d\":[{\"type\":\"mesh3d\",\"colorbar\":{\"outlinewidth\":0,\"ticks\":\"\"}}],\"scatter\":[{\"fillpattern\":{\"fillmode\":\"overlay\",\"size\":10,\"solidity\":0.2},\"type\":\"scatter\"}],\"parcoords\":[{\"type\":\"parcoords\",\"line\":{\"colorbar\":{\"outlinewidth\":0,\"ticks\":\"\"}}}],\"scatterpolargl\":[{\"type\":\"scatterpolargl\",\"marker\":{\"colorbar\":{\"outlinewidth\":0,\"ticks\":\"\"}}}],\"bar\":[{\"error_x\":{\"color\":\"#2a3f5f\"},\"error_y\":{\"color\":\"#2a3f5f\"},\"marker\":{\"line\":{\"color\":\"#E5ECF6\",\"width\":0.5},\"pattern\":{\"fillmode\":\"overlay\",\"size\":10,\"solidity\":0.2}},\"type\":\"bar\"}],\"scattergeo\":[{\"type\":\"scattergeo\",\"marker\":{\"colorbar\":{\"outlinewidth\":0,\"ticks\":\"\"}}}],\"scatterpolar\":[{\"type\":\"scatterpolar\",\"marker\":{\"colorbar\":{\"outlinewidth\":0,\"ticks\":\"\"}}}],\"histogram\":[{\"marker\":{\"pattern\":{\"fillmode\":\"overlay\",\"size\":10,\"solidity\":0.2}},\"type\":\"histogram\"}],\"scattergl\":[{\"type\":\"scattergl\",\"marker\":{\"colorbar\":{\"outlinewidth\":0,\"ticks\":\"\"}}}],\"scatter3d\":[{\"type\":\"scatter3d\",\"line\":{\"colorbar\":{\"outlinewidth\":0,\"ticks\":\"\"}},\"marker\":{\"colorbar\":{\"outlinewidth\":0,\"ticks\":\"\"}}}],\"scattermapbox\":[{\"type\":\"scattermapbox\",\"marker\":{\"colorbar\":{\"outlinewidth\":0,\"ticks\":\"\"}}}],\"scatterternary\":[{\"type\":\"scatterternary\",\"marker\":{\"colorbar\":{\"outlinewidth\":0,\"ticks\":\"\"}}}],\"scattercarpet\":[{\"type\":\"scattercarpet\",\"marker\":{\"colorbar\":{\"outlinewidth\":0,\"ticks\":\"\"}}}],\"carpet\":[{\"aaxis\":{\"endlinecolor\":\"#2a3f5f\",\"gridcolor\":\"white\",\"linecolor\":\"white\",\"minorgridcolor\":\"white\",\"startlinecolor\":\"#2a3f5f\"},\"baxis\":{\"endlinecolor\":\"#2a3f5f\",\"gridcolor\":\"white\",\"linecolor\":\"white\",\"minorgridcolor\":\"white\",\"startlinecolor\":\"#2a3f5f\"},\"type\":\"carpet\"}],\"table\":[{\"cells\":{\"fill\":{\"color\":\"#EBF0F8\"},\"line\":{\"color\":\"white\"}},\"header\":{\"fill\":{\"color\":\"#C8D4E3\"},\"line\":{\"color\":\"white\"}},\"type\":\"table\"}],\"barpolar\":[{\"marker\":{\"line\":{\"color\":\"#E5ECF6\",\"width\":0.5},\"pattern\":{\"fillmode\":\"overlay\",\"size\":10,\"solidity\":0.2}},\"type\":\"barpolar\"}],\"pie\":[{\"automargin\":true,\"type\":\"pie\"}]},\"layout\":{\"autotypenumbers\":\"strict\",\"colorway\":[\"#636efa\",\"#EF553B\",\"#00cc96\",\"#ab63fa\",\"#FFA15A\",\"#19d3f3\",\"#FF6692\",\"#B6E880\",\"#FF97FF\",\"#FECB52\"],\"font\":{\"color\":\"#2a3f5f\"},\"hovermode\":\"closest\",\"hoverlabel\":{\"align\":\"left\"},\"paper_bgcolor\":\"white\",\"plot_bgcolor\":\"#E5ECF6\",\"polar\":{\"bgcolor\":\"#E5ECF6\",\"angularaxis\":{\"gridcolor\":\"white\",\"linecolor\":\"white\",\"ticks\":\"\"},\"radialaxis\":{\"gridcolor\":\"white\",\"linecolor\":\"white\",\"ticks\":\"\"}},\"ternary\":{\"bgcolor\":\"#E5ECF6\",\"aaxis\":{\"gridcolor\":\"white\",\"linecolor\":\"white\",\"ticks\":\"\"},\"baxis\":{\"gridcolor\":\"white\",\"linecolor\":\"white\",\"ticks\":\"\"},\"caxis\":{\"gridcolor\":\"white\",\"linecolor\":\"white\",\"ticks\":\"\"}},\"coloraxis\":{\"colorbar\":{\"outlinewidth\":0,\"ticks\":\"\"}},\"colorscale\":{\"sequential\":[[0.0,\"#0d0887\"],[0.1111111111111111,\"#46039f\"],[0.2222222222222222,\"#7201a8\"],[0.3333333333333333,\"#9c179e\"],[0.4444444444444444,\"#bd3786\"],[0.5555555555555556,\"#d8576b\"],[0.6666666666666666,\"#ed7953\"],[0.7777777777777778,\"#fb9f3a\"],[0.8888888888888888,\"#fdca26\"],[1.0,\"#f0f921\"]],\"sequentialminus\":[[0.0,\"#0d0887\"],[0.1111111111111111,\"#46039f\"],[0.2222222222222222,\"#7201a8\"],[0.3333333333333333,\"#9c179e\"],[0.4444444444444444,\"#bd3786\"],[0.5555555555555556,\"#d8576b\"],[0.6666666666666666,\"#ed7953\"],[0.7777777777777778,\"#fb9f3a\"],[0.8888888888888888,\"#fdca26\"],[1.0,\"#f0f921\"]],\"diverging\":[[0,\"#8e0152\"],[0.1,\"#c51b7d\"],[0.2,\"#de77ae\"],[0.3,\"#f1b6da\"],[0.4,\"#fde0ef\"],[0.5,\"#f7f7f7\"],[0.6,\"#e6f5d0\"],[0.7,\"#b8e186\"],[0.8,\"#7fbc41\"],[0.9,\"#4d9221\"],[1,\"#276419\"]]},\"xaxis\":{\"gridcolor\":\"white\",\"linecolor\":\"white\",\"ticks\":\"\",\"title\":{\"standoff\":15},\"zerolinecolor\":\"white\",\"automargin\":true,\"zerolinewidth\":2},\"yaxis\":{\"gridcolor\":\"white\",\"linecolor\":\"white\",\"ticks\":\"\",\"title\":{\"standoff\":15},\"zerolinecolor\":\"white\",\"automargin\":true,\"zerolinewidth\":2},\"scene\":{\"xaxis\":{\"backgroundcolor\":\"#E5ECF6\",\"gridcolor\":\"white\",\"linecolor\":\"white\",\"showbackground\":true,\"ticks\":\"\",\"zerolinecolor\":\"white\",\"gridwidth\":2},\"yaxis\":{\"backgroundcolor\":\"#E5ECF6\",\"gridcolor\":\"white\",\"linecolor\":\"white\",\"showbackground\":true,\"ticks\":\"\",\"zerolinecolor\":\"white\",\"gridwidth\":2},\"zaxis\":{\"backgroundcolor\":\"#E5ECF6\",\"gridcolor\":\"white\",\"linecolor\":\"white\",\"showbackground\":true,\"ticks\":\"\",\"zerolinecolor\":\"white\",\"gridwidth\":2}},\"shapedefaults\":{\"line\":{\"color\":\"#2a3f5f\"}},\"annotationdefaults\":{\"arrowcolor\":\"#2a3f5f\",\"arrowhead\":0,\"arrowwidth\":1},\"geo\":{\"bgcolor\":\"white\",\"landcolor\":\"#E5ECF6\",\"subunitcolor\":\"white\",\"showland\":true,\"showlakes\":true,\"lakecolor\":\"white\"},\"title\":{\"x\":0.05},\"mapbox\":{\"style\":\"light\"}}},\"xaxis\":{\"anchor\":\"y\",\"domain\":[0.0,1.0],\"title\":{\"text\":\"Age\"}},\"yaxis\":{\"anchor\":\"x\",\"domain\":[0.0,1.0],\"title\":{\"text\":\"Car Purchase Amount\"}},\"legend\":{\"title\":{\"text\":\"Customer Name\"},\"tracegroupgap\":0},\"margin\":{\"t\":60}},                        {\"responsive\": true}                    ).then(function(){\n",
       "                            \n",
       "var gd = document.getElementById('74abb13c-c4ee-4f2c-a5e9-5f21330ff277');\n",
       "var x = new MutationObserver(function (mutations, observer) {{\n",
       "        var display = window.getComputedStyle(gd).display;\n",
       "        if (!display || display === 'none') {{\n",
       "            console.log([gd, 'removed!']);\n",
       "            Plotly.purge(gd);\n",
       "            observer.disconnect();\n",
       "        }}\n",
       "}});\n",
       "\n",
       "// Listen for the removal of the full notebook cells\n",
       "var notebookContainer = gd.closest('#notebook-container');\n",
       "if (notebookContainer) {{\n",
       "    x.observe(notebookContainer, {childList: true});\n",
       "}}\n",
       "\n",
       "// Listen for the clearing of the current output cell\n",
       "var outputEl = gd.closest('.output');\n",
       "if (outputEl) {{\n",
       "    x.observe(outputEl, {childList: true});\n",
       "}}\n",
       "\n",
       "                        })                };                });            </script>        </div>"
      ]
     },
     "metadata": {},
     "output_type": "display_data"
    }
   ],
   "source": [
    "fig = px.scatter(data_frame=df, x='Age', y='Car Purchase Amount', color='Customer Name')\n",
    "fig.show()"
   ]
  },
  {
   "cell_type": "code",
   "execution_count": 40,
   "id": "5032ef90",
   "metadata": {},
   "outputs": [
    {
     "data": {
      "text/plain": [
       "<AxesSubplot:xlabel='Annual Salary', ylabel='Percent'>"
      ]
     },
     "execution_count": 40,
     "metadata": {},
     "output_type": "execute_result"
    },
    {
     "data": {
      "image/png": "[encoded data removed]",
      "text/plain": [
       "<Figure size 640x480 with 1 Axes>"
      ]
     },
     "metadata": {},
     "output_type": "display_data"
    }
   ],
   "source": [
    "sns.histplot(data=df, x='Annual Salary', stat='percent', bins=15, kde=True)"
   ]
  },
  {
   "cell_type": "code",
   "execution_count": 43,
   "id": "4d5bf2db",
   "metadata": {},
   "outputs": [
    {
     "data": {
      "application/vnd.plotly.v1+json": {
       "config": {
        "plotlyServerURL": "https://plot.ly"
       },
       "data": [
        {
         "hovertemplate": "Annual Salary=%{x}<br>Car Purchase Amount=%{y}<br>Gender=%{marker.color}<extra></extra>",
         "legendgroup": "",
         "marker": {
          "color": [
           0,
           0,
           1,
           1,
           1,
           1,
           1,
           1,
           0,
           1,
           1,
           1,
           0,
           0,
           0,
           1,
           0,
           1,
           1,
           0,
           1,
           0,
           1,
           1,
           0,
           0,
           0,
           0,
           1,
           1,
           1,
           1,
           1,
           0,
           0,
           0,
           1,
           1,
           0,
           1,
           0,
           1,
           0,
           1,
           1,
           0,
           1,
           0,
           1,
           0,
           1,
           0,
           0,
           1,
           1,
           0,
           1,
           1,
           1,
           1,
           1,
           0,
           0,
           0,
           0,
           0,
           0,
           1,
           1,
           1,
           1,
           0,
           0,
           1,
           1,
           0,
           1,
           1,
           0,
           0,
           1,
           1,
           1,
           0,
           1,
           1,
           1,
           0,
           1,
           1,
           1,
           1,
           1,
           0,
           1,
           1,
           0,
           1,
           0,
           0,
           1,
           1,
           1,
           0,
           0,
           0,
           0,
           1,
           1,
           1,
           1,
           1,
           0,
           0,
           1,
           1,
           1,
           0,
           0,
           0,
           1,
           0,
           1,
           0,
           0,
           0,
           0,
           0,
           1,
           0,
           1,
           1,
           0,
           0,
           0,
           0,
           0,
           1,
           1,
           1,
           0,
           1,
           0,
           1,
           0,
           0,
           1,
           0,
           1,
           1,
           1,
           1,
           0,
           0,
           1,
           0,
           0,
           0,
           0,
           0,
           1,
           1,
           0,
           0,
           0,
           1,
           1,
           1,
           0,
           1,
           1,
           1,
           0,
           1,
           0,
           0,
           1,
           0,
           1,
           1,
           1,
           0,
           1,
           1,
           0,
           1,
           0,
           0,
           1,
           1,
           1,
           1,
           0,
           0,
           0,
           0,
           0,
           0,
           1,
           1,
           1,
           0,
           1,
           0,
           0,
           1,
           1,
           0,
           0,
           0,
           0,
           0,
           0,
           1,
           1,
           0,
           1,
           1,
           0,
           0,
           1,
           1,
           0,
           1,
           1,
           1,
           1,
           0,
           1,
           0,
           1,
           0,
           1,
           1,
           1,
           1,
           1,
           0,
           0,
           1,
           0,
           1,
           0,
           1,
           1,
           0,
           1,
           0,
           1,
           0,
           0,
           0,
           1,
           1,
           0,
           1,
           1,
           1,
           1,
           0,
           0,
           0,
           1,
           1,
           0,
           0,
           1,
           0,
           0,
           0,
           0,
           0,
           1,
           0,
           1,
           1,
           1,
           0,
           0,
           0,
           0,
           0,
           0,
           1,
           1,
           1,
           0,
           0,
           0,
           0,
           0,
           1,
           1,
           1,
           1,
           1,
           1,
           0,
           0,
           1,
           0,
           0,
           0,
           1,
           1,
           1,
           0,
           1,
           0,
           0,
           1,
           0,
           0,
           1,
           0,
           1,
           0,
           1,
           1,
           1,
           0,
           1,
           0,
           0,
           0,
           0,
           0,
           0,
           1,
           1,
           0,
           1,
           0,
           1,
           0,
           0,
           0,
           1,
           0,
           1,
           1,
           1,
           0,
           0,
           1,
           1,
           0,
           0,
           0,
           1,
           0,
           0,
           1,
           0,
           0,
           1,
           1,
           1,
           0,
           1,
           1,
           0,
           1,
           1,
           1,
           0,
           1,
           1,
           1,
           0,
           1,
           0,
           1,
           0,
           1,
           1,
           0,
           0,
           0,
           1,
           0,
           0,
           1,
           1,
           0,
           1,
           0,
           1,
           1,
           0,
           1,
           1,
           1,
           1,
           0,
           1,
           0,
           0,
           0,
           0,
           1,
           0,
           0,
           1,
           0,
           0,
           0,
           1,
           0,
           1,
           0,
           1,
           1,
           0,
           0,
           1,
           1,
           0,
           1,
           1,
           0,
           0,
           1,
           0,
           1,
           0,
           1,
           0,
           0,
           0,
           0,
           0,
           1,
           1,
           1,
           1,
           0,
           0,
           0,
           0,
           1,
           0,
           1,
           0,
           1,
           0,
           1,
           1,
           1,
           0,
           1,
           1,
           0,
           0,
           1,
           1,
           0,
           1,
           1,
           0,
           0,
           1,
           0,
           1,
           0,
           0,
           0,
           1,
           0,
           0,
           0,
           0,
           1,
           1,
           0,
           1,
           0,
           1,
           1,
           0,
           0,
           1,
           1,
           0,
           0,
           1,
           1,
           0,
           0,
           0,
           1,
           1,
           0,
           0,
           0,
           0,
           1,
           1,
           1,
           1
          ],
          "coloraxis": "coloraxis",
          "symbol": "circle"
         },
         "mode": "markers",
         "name": "",
         "orientation": "v",
         "showlegend": false,
         "type": "scatter",
         "x": [
          62812.09301,
          66646.89292,
          53798.55112,
          79370.03798,
          59729.1513,
          68499.85162,
          39814.522,
          51752.23445,
          58139.2591,
          53457.10132,
          73348.70745,
          55421.65733,
          37336.3383,
          68304.47298,
          72776.00382,
          64662.30061,
          63259.87837,
          52682.06401,
          54503.14423,
          55368.23716,
          63435.86304,
          64347.34531,
          65176.69055,
          52027.63837,
          69612.0123,
          53065.57175,
          82842.53385,
          61388.62709,
          100000,
          62891.86556,
          39627.1248,
          68859.56489,
          82358.22683,
          67904.39895,
          65311.68225,
          59593.2624,
          47460.54809,
          43131.78411,
          52263.69806,
          80959.5331,
          66417.66597,
          58457.41492,
          50571.45969,
          50943.16256,
          79792.13096,
          70787.27764,
          56098.50773,
          57478.37922,
          60181.40633,
          74445.08168,
          38406.7789,
          64616.6881,
          68107.93144,
          72471.81532,
          35069.41886,
          52422.94691,
          84467.78988,
          51419.50777,
          46609.51626,
          55207.45679,
          46689.4159,
          71847.2544,
          69236.68608,
          54006.77851,
          47228.35999,
          70187.50328,
          62262.94845,
          59195.82899,
          48716.67271,
          66478.00967,
          50280.0045,
          57393.82872,
          63429.93141,
          59139.2108,
          67015.19372,
          69157.4521,
          50867.94007,
          53450.90036,
          70463.99084,
          52697.15192,
          71055.41924,
          55406.46215,
          48567.07462,
          69506.62127,
          69453.71659,
          36929.35124,
          63087.95261,
          50889.34054,
          58065.25694,
          20000,
          60536.20406,
          50667.69759,
          44376.62221,
          75958.28349,
          70896.72853,
          56009.73073,
          90556.62686,
          71716.45662,
          68502.10943,
          46261.42666,
          61858.19077,
          49483.83262,
          68289.18229,
          47399.22827,
          63975.0609,
          75460.52362,
          51075.46118,
          42433.54619,
          61922.8971,
          69946.93924,
          73476.42249,
          75571.20188,
          82573.01132,
          50649.64492,
          53427.46192,
          75247.18061,
          69175.19403,
          84171.16719,
          45721.66835,
          54355.7595,
          77206.48386,
          57005.18595,
          65809.10782,
          65468.1442,
          60991.82443,
          61809.07451,
          66905.47644,
          65131.25015,
          83626.30783,
          64328.27892,
          69255.98753,
          60575.12604,
          63729.12568,
          64315.73671,
          51419.01644,
          53870.48483,
          56895.23153,
          52534.20778,
          52632.97124,
          42375.21424,
          65617.29175,
          49398.74439,
          63869.64928,
          60871.18248,
          68090.5087,
          54122.87827,
          59316.93704,
          38779.18396,
          88292.73205,
          68688.40199,
          51906.85022,
          52373.79446,
          73768.12453,
          55576.84068,
          59689.81438,
          55381.53225,
          34154.77654,
          54382.7481,
          65919.59731,
          39488.45582,
          72637.84482,
          67247.07698,
          71271.84407,
          71693.44742,
          57860.53103,
          69142.08412,
          52477.66494,
          47592.04749,
          48123.36983,
          76916.41515,
          65714.46469,
          40346.06491,
          71148.20248,
          81757.66856,
          64867.14911,
          70051.94033,
          62043.16623,
          85186.48921,
          47127.41632,
          61177.08698,
          57770.36488,
          60432.40367,
          58999.88858,
          62645.95516,
          68782.15718,
          67545.96382,
          42415.48867,
          44617.98314,
          72226.5603,
          48958.90535,
          86067.83527,
          65554.4018,
          69248.4953,
          59331.23555,
          52323.2448,
          63552.85175,
          75116.10613,
          38284.02013,
          55293.50777,
          63210.76235,
          54918.38749,
          57262.79581,
          72299.9501,
          50241.48985,
          65834.56889,
          60382.17885,
          68691.17086,
          65446.65687,
          42978.34284,
          58143.06285,
          61666.2852,
          64854.33966,
          45757.15568,
          73096.50927,
          67249.05932,
          77165.81297,
          72316.18286,
          68431.27055,
          62311.11641,
          53229.14547,
          77662.1109,
          69494.69783,
          61063.35631,
          79368.91741,
          61693.44352,
          47211.66812,
          69897.75291,
          63675.93263,
          72302.03223,
          63687.4988,
          63678.15468,
          77435.46545,
          62721.40514,
          70842.83518,
          55285.98625,
          72002.0552,
          41434.51258,
          60404.38394,
          65239.06468,
          62939.12851,
          60608.40313,
          56118.39601,
          86706.33333,
          41236.36497,
          77146.27598,
          56437.30404,
          70703.85013,
          69810.46265,
          54279.39597,
          70334.42787,
          59168.00751,
          61889.61618,
          66013.95174,
          55434.04046,
          68499.69447,
          54749.88645,
          74590.25495,
          67772.66646,
          62563.57825,
          70361.01504,
          74810.89471,
          49346.405,
          73426.08521,
          47684.46306,
          72939.83195,
          72277.82609,
          53921.33351,
          65312.96755,
          55619.34152,
          70914.59993,
          33422.99683,
          53382.42693,
          74173.39239,
          53587.12801,
          58011.6339,
          69171.95281,
          66779.91374,
          79173.0767,
          63065.12164,
          65530.36401,
          63732.3931,
          62689.53964,
          51539.93045,
          59060.08664,
          62713.78149,
          44747.66132,
          65529.70333,
          62426.52379,
          73498.30715,
          86565.15641,
          46549.16329,
          70111.5398,
          66747.66857,
          72025.6768,
          70737.29383,
          57455.7609,
          60657.59355,
          50694.42707,
          55369.72784,
          82425.64679,
          82094.10712,
          74090.51299,
          73935.74201,
          75719.22986,
          47054.14246,
          42003.01617,
          74418.55717,
          52786.1971,
          78804.99824,
          66932.47176,
          56066.07685,
          48591.57177,
          38213.88844,
          56444.76848,
          67080.6142,
          83333.81054,
          73502.12458,
          88816.02695,
          70381.37499,
          67647.74764,
          79781.90126,
          64665.39122,
          58837.97088,
          49607.23466,
          67032.16445,
          65245.57379,
          56174.3433,
          47227.01542,
          40300.49467,
          45504.74866,
          50017.38154,
          66226.72902,
          41361.95045,
          56687.41273,
          68114.60169,
          51086.88482,
          71921.45038,
          56807.01728,
          43019.8475,
          63875.20999,
          41587.39238,
          49661.96712,
          92471.17612,
          70136.82862,
          52664.71719,
          55618.06942,
          54912.44043,
          56692.78044,
          63561.04525,
          62788.93529,
          38453.86033,
          59486.27073,
          68149.63056,
          49393.46784,
          72262.20245,
          64494.39535,
          54362.70307,
          55657.65681,
          73512.41269,
          70621.52393,
          70275.68706,
          74420.10254,
          54395.05356,
          60384.34541,
          66813.664,
          84120.95497,
          54236.62092,
          64426.59613,
          71150.19894,
          60325.20676,
          91083.73918,
          60380.22868,
          72948.11812,
          74834.57117,
          67752.38329,
          59205.89035,
          64874.03368,
          63305.84963,
          74176.2079,
          47230.92278,
          65980.95617,
          51428.66337,
          75381.07571,
          54742.3946,
          76245.2434,
          60409.75787,
          57600.59673,
          71371.92544,
          79444.01301,
          47569.44212,
          71193.72803,
          46412.82136,
          57368.05622,
          65826.12291,
          61824.8798,
          61723.00613,
          72310.39623,
          67548.77415,
          62175.68945,
          60584.85458,
          66655.4142,
          63718.8812,
          60862.97749,
          67508.12293,
          61639.76386,
          63172.95729,
          58653.6591,
          40558.75456,
          76870.00765,
          71948.80529,
          67629.84819,
          67121.32166,
          57376.4803,
          56944.87077,
          60174.05765,
          81997.33071,
          36960.76994,
          64412.43101,
          70076.22764,
          72016.92459,
          63186.12783,
          76086.84122,
          74445.72702,
          85475.64202,
          51111.76605,
          79064.9559,
          55514.9934,
          75901.81829,
          56687.93949,
          59801.06311,
          57303.83325,
          43412.86301,
          58948.93261,
          56086.45033,
          80015.83115,
          41409.2939,
          40387.9207,
          48746.71666,
          70230.15498,
          64961.39305,
          57777.15558,
          54447.15275,
          59712.31101,
          65605.41798,
          70467.29492,
          76318.87883,
          77657.56243,
          60487.90116,
          67729.9725,
          49463.0635,
          65850.47688,
          66505.38124,
          58260.57232,
          45092.74073,
          63845.77186,
          55293.575,
          87598.01501,
          71753.30877,
          45368.15561,
          45362.66982,
          40727.39196,
          58632.58875,
          66680.2741,
          75892.3053,
          59297.41631,
          92455.72807,
          32697.98161,
          55418.75606,
          68921.40213,
          43739.97829,
          81565.95967,
          65364.06334,
          65019.15701,
          58243.17992,
          73558.87334,
          66088.02369,
          54441.72437,
          60101.79725,
          50153.43545,
          61430.93415,
          65846.5096,
          55433.61187,
          62979.60196,
          76523.33258,
          63956.1618,
          39460.00348,
          66923.43536,
          50051.14039,
          61575.9502,
          64430.07398,
          63722.00164,
          78518.21527,
          72424.80112,
          77665.17195,
          77345.61633,
          71942.40291,
          56039.49793,
          68888.77805,
          49811.99062,
          61370.67766
         ],
         "xaxis": "x",
         "y": [
          35321.45877,
          45115.52566,
          42925.70921,
          67422.36313,
          55915.46248,
          56611.99784,
          28925.70549,
          47434.98265,
          48013.6141,
          38189.50601,
          59045.51309,
          42288.81046,
          28700.0334,
          49258.87571,
          49510.03356,
          53017.26723,
          41814.72067,
          43901.71244,
          44633.99241,
          54827.52403,
          51130.95379,
          43402.31525,
          47240.86004,
          46635.49432,
          45078.40193,
          44387.58412,
          37161.55393,
          49091.97185,
          58350.31809,
          43994.35972,
          17584.56963,
          44650.36073,
          66363.89316,
          53489.46214,
          39810.34817,
          51612.14311,
          38978.67458,
          10092.22509,
          35928.52404,
          54823.19221,
          45805.67186,
          41567.47033,
          28031.20985,
          27815.73813,
          68678.4352,
          68925.09447,
          34215.7615,
          37843.46619,
          37883.24231,
          48734.35708,
          27187.23914,
          63738.39065,
          48266.75516,
          46381.13111,
          31978.9799,
          48100.29052,
          47380.91224,
          41425.00116,
          38147.81018,
          32737.80177,
          37348.13737,
          47483.85316,
          49730.53339,
          40093.61981,
          42297.5062,
          52954.93121,
          48104.11184,
          43680.91327,
          52707.96816,
          49392.8897,
          30841.00154,
          49373.37555,
          41903.65171,
          45058.8969,
          52991.52667,
          50958.08115,
          41357.17897,
          44434.71917,
          38502.42392,
          41221.24918,
          38399.46139,
          41456.68097,
          30394.82494,
          42384.05128,
          39002.0771,
          19553.2739,
          45167.32542,
          36019.9556,
          50937.93844,
          12895.71468,
          38955.21919,
          51221.04249,
          25971.95673,
          60670.33672,
          54075.12064,
          40004.87142,
          61593.52058,
          39503.38829,
          52474.71839,
          42187.6828,
          57441.44414,
          22681.71667,
          33640.73697,
          31540.77868,
          60461.24268,
          45738.3343,
          34803.82395,
          34642.6024,
          27586.71854,
          54973.02495,
          49142.51174,
          58840.53964,
          57306.32866,
          51941.6756,
          30240.60975,
          67120.89878,
          42408.02625,
          41451.71843,
          42592.88647,
          34521.17618,
          42213.69644,
          41913.53713,
          59416.18101,
          51402.61506,
          54755.42038,
          47143.44008,
          64391.68906,
          37252.55194,
          52665.36511,
          44001.20706,
          51551.67997,
          38243.66481,
          39766.64804,
          40077.57289,
          33131.52734,
          48622.66097,
          47693.23482,
          39410.4616,
          33428.40183,
          32700.27871,
          62864.43011,
          29425.83001,
          44418.60955,
          36645.5609,
          53655.53859,
          45977.12502,
          38504.39444,
          47935.9394,
          60222.22672,
          38930.55234,
          27810.21814,
          47604.34591,
          42356.6895,
          31300.54347,
          42369.64247,
          31837.22537,
          26499.31418,
          38172.83602,
          39433.40631,
          37714.31659,
          57125.41541,
          46453.34819,
          43855.06077,
          55592.70383,
          42484.02283,
          40879.19107,
          20653.21409,
          35438.80549,
          36112.79346,
          38182.30465,
          41026.02421,
          27889.95197,
          43724.4896,
          57430.76903,
          41104.07108,
          49050.85378,
          41265.52929,
          64545.16339,
          29052.09521,
          30719.8156,
          38763.11306,
          39331.20127,
          32608.45468,
          58045.56257,
          54387.27727,
          36638.20688,
          39522.13129,
          42978.34626,
          60865.76396,
          46380.44732,
          56579.90338,
          42774.35579,
          37879.65385,
          45208.42539,
          56229.4127,
          50455.11935,
          49721.31082,
          31696.99679,
          49220.0218,
          46188.83514,
          36086.93161,
          43264.04965,
          40660.38317,
          51683.60859,
          44525.02085,
          48518.90163,
          45805.30588,
          54850.38742,
          32478.44758,
          42209.28948,
          55125.93237,
          47984.42062,
          43405.89086,
          44577.44829,
          37744.54285,
          47805.25605,
          44846.68557,
          46643.26581,
          56563.98675,
          41673.44617,
          61118.46947,
          37303.56701,
          46892.26617,
          56457.74038,
          45509.69732,
          27625.44144,
          46389.50237,
          29002.05665,
          51355.7106,
          42011.19965,
          52654.40455,
          44432.71747,
          46054.60253,
          58235.41454,
          42990.29255,
          50702.18103,
          47009.57741,
          49399.97041,
          42997.16761,
          44434.98419,
          46325.50959,
          46846.7305,
          56499.10202,
          42773.75905,
          52313.98392,
          34139.6373,
          60763.24731,
          66158.69494,
          31215.6421,
          46135.27233,
          56973.18105,
          24184.07443,
          49079.61942,
          37093.92033,
          43401.56612,
          29092.1311,
          48349.16457,
          33261.00057,
          41327.16554,
          49336.11628,
          51405.55229,
          31249.98803,
          43598.96993,
          48300.02057,
          54013.47595,
          38674.66038,
          37076.82508,
          37947.85125,
          41320.07256,
          66888.93694,
          12536.93842,
          39549.13039,
          52709.08196,
          53502.97742,
          52116.90791,
          38705.65839,
          48025.02542,
          59483.91183,
          35911.64559,
          41034.28343,
          51730.17434,
          53021.86074,
          32828.03477,
          29417.64694,
          57461.51158,
          50441.62427,
          41575.34739,
          46412.47781,
          47610.11718,
          70878.29664,
          55543.38497,
          53848.7555,
          39904.81613,
          44736.41097,
          46937.17422,
          28440.81268,
          38148.00163,
          42747.53925,
          29670.83337,
          63038.20422,
          63248.76188,
          42321.56548,
          44463.30502,
          67092.23276,
          22091.11839,
          40022.17406,
          56071.61377,
          49442.12107,
          42497.72862,
          37084.77621,
          51866.48719,
          35716.31133,
          39892.93343,
          35781.16156,
          42866.21274,
          80000,
          60526.97788,
          59758.73247,
          39606.24598,
          58641.71051,
          52983.89411,
          50666.88173,
          59625.02618,
          22630.25982,
          41137.89459,
          53496.48183,
          36543.93642,
          43503.97349,
          31146.71078,
          31526.04931,
          31083.70271,
          45366.35963,
          25252.93221,
          39888.59789,
          52240.72866,
          39911.6116,
          45857.75365,
          30826.10903,
          39422.79389,
          34678.83226,
          23517.91983,
          28733.68779,
          59096.26978,
          50188.86612,
          35659.12237,
          46398.35204,
          32291.18978,
          49079.29461,
          49348.88394,
          41427.59797,
          24221.99937,
          44424.07681,
          60390.06616,
          42793.9932,
          46935.72774,
          58667.06865,
          38042.80065,
          39270.57909,
          54606.18769,
          39083.94268,
          47984.12043,
          46082.80993,
          30964.07804,
          35726.95299,
          49065.1634,
          48955.85816,
          37183.10293,
          46710.52519,
          52889.56257,
          29754.66271,
          60960.83428,
          39975.43302,
          38545.80328,
          56764.44728,
          63079.84329,
          55700.83389,
          36367.18452,
          52477.83479,
          50296.67496,
          37259.84386,
          47715.96049,
          29540.87013,
          60567.18837,
          36125.48846,
          57303.87131,
          51922.07691,
          35848.82935,
          42704.3221,
          55174.98946,
          26599.90843,
          53993.44322,
          47970.76767,
          43641.65727,
          41679.7929,
          63140.05082,
          30757.65726,
          65592.22012,
          37871.7082,
          42919.5196,
          22599.45863,
          70598.96768,
          43242.58224,
          38138.57511,
          30419.8,
          63868.94051,
          45112.94547,
          44361.87507,
          19525.29827,
          49991.60697,
          61731.71426,
          41769.38288,
          46402.53583,
          37376.63439,
          33766.6413,
          30667.60927,
          52056.41478,
          30736.5798,
          39439.45349,
          38174.87433,
          40589.8625,
          62028.71192,
          48465.27211,
          40095.0498,
          49568.47685,
          31408.62631,
          47719.47741,
          35784.42411,
          42905.53815,
          48516.84335,
          45593.6849,
          32061.6467,
          32208.37522,
          35475.00344,
          29519.56184,
          55420.56668,
          42139.64528,
          50539.90169,
          34922.42846,
          43898.2733,
          39135.03023,
          41147.46679,
          24134.59205,
          42705.11311,
          38901.60925,
          28645.39425,
          52150.41786,
          66648.25077,
          42909.27129,
          49248.10595,
          27303.17104,
          47869.82593,
          59984.16361,
          45271.46081,
          9000,
          46012.10616,
          32967.20191,
          48785.15839,
          45824.5656,
          40102.11417,
          35457.1486,
          29556.7932,
          38243.06228,
          44430.63323,
          51046.42226,
          52570.36517,
          61404.22578,
          28463.64326,
          27586.20078,
          47979.48549,
          28164.86039,
          69669.47402,
          48052.65091,
          37364.23474,
          44500.81936,
          35139.24793,
          55167.37361,
          48383.69071,
          35823.55471,
          36517.70996,
          53110.88052,
          53049.44567,
          21471.11367,
          45015.67953,
          55377.87697,
          56510.13294,
          47443.74443,
          41489.64123,
          32553.53423,
          41984.62412,
          59538.40327,
          41352.47071,
          52785.16947,
          60117.67886,
          47760.66427,
          64188.26862,
          48901.44342,
          31491.41457,
          64147.28888,
          45442.15353,
          45107.22566
         ],
         "yaxis": "y"
        }
       ],
       "layout": {
        "coloraxis": {
         "colorbar": {
          "title": {
           "text": "Gender"
          }
         },
         "colorscale": [
          [
           0,
           "#0d0887"
          ],
          [
           0.1111111111111111,
           "#46039f"
          ],
          [
           0.2222222222222222,
           "#7201a8"
          ],
          [
           0.3333333333333333,
           "#9c179e"
          ],
          [
           0.4444444444444444,
           "#bd3786"
          ],
          [
           0.5555555555555556,
           "#d8576b"
          ],
          [
           0.6666666666666666,
           "#ed7953"
          ],
          [
           0.7777777777777778,
           "#fb9f3a"
          ],
          [
           0.8888888888888888,
           "#fdca26"
          ],
          [
           1,
           "#f0f921"
          ]
         ]
        },
        "legend": {
         "tracegroupgap": 0
        },
        "margin": {
         "t": 60
        },
        "template": {
         "data": {
          "bar": [
           {
            "error_x": {
             "color": "#2a3f5f"
            },
            "error_y": {
             "color": "#2a3f5f"
            },
            "marker": {
             "line": {
              "color": "#E5ECF6",
              "width": 0.5
             },
             "pattern": {
              "fillmode": "overlay",
              "size": 10,
              "solidity": 0.2
             }
            },
            "type": "bar"
           }
          ],
          "barpolar": [
           {
            "marker": {
             "line": {
              "color": "#E5ECF6",
              "width": 0.5
             },
             "pattern": {
              "fillmode": "overlay",
              "size": 10,
              "solidity": 0.2
             }
            },
            "type": "barpolar"
           }
          ],
          "carpet": [
           {
            "aaxis": {
             "endlinecolor": "#2a3f5f",
             "gridcolor": "white",
             "linecolor": "white",
             "minorgridcolor": "white",
             "startlinecolor": "#2a3f5f"
            },
            "baxis": {
             "endlinecolor": "#2a3f5f",
             "gridcolor": "white",
             "linecolor": "white",
             "minorgridcolor": "white",
             "startlinecolor": "#2a3f5f"
            },
            "type": "carpet"
           }
          ],
          "choropleth": [
           {
            "colorbar": {
             "outlinewidth": 0,
             "ticks": ""
            },
            "type": "choropleth"
           }
          ],
          "contour": [
           {
            "colorbar": {
             "outlinewidth": 0,
             "ticks": ""
            },
            "colorscale": [
             [
              0,
              "#0d0887"
             ],
             [
              0.1111111111111111,
              "#46039f"
             ],
             [
              0.2222222222222222,
              "#7201a8"
             ],
             [
              0.3333333333333333,
              "#9c179e"
             ],
             [
              0.4444444444444444,
              "#bd3786"
             ],
             [
              0.5555555555555556,
              "#d8576b"
             ],
             [
              0.6666666666666666,
              "#ed7953"
             ],
             [
              0.7777777777777778,
              "#fb9f3a"
             ],
             [
              0.8888888888888888,
              "#fdca26"
             ],
             [
              1,
              "#f0f921"
             ]
            ],
            "type": "contour"
           }
          ],
          "contourcarpet": [
           {
            "colorbar": {
             "outlinewidth": 0,
             "ticks": ""
            },
            "type": "contourcarpet"
           }
          ],
          "heatmap": [
           {
            "colorbar": {
             "outlinewidth": 0,
             "ticks": ""
            },
            "colorscale": [
             [
              0,
              "#0d0887"
             ],
             [
              0.1111111111111111,
              "#46039f"
             ],
             [
              0.2222222222222222,
              "#7201a8"
             ],
             [
              0.3333333333333333,
              "#9c179e"
             ],
             [
              0.4444444444444444,
              "#bd3786"
             ],
             [
              0.5555555555555556,
              "#d8576b"
             ],
             [
              0.6666666666666666,
              "#ed7953"
             ],
             [
              0.7777777777777778,
              "#fb9f3a"
             ],
             [
              0.8888888888888888,
              "#fdca26"
             ],
             [
              1,
              "#f0f921"
             ]
            ],
            "type": "heatmap"
           }
          ],
          "heatmapgl": [
           {
            "colorbar": {
             "outlinewidth": 0,
             "ticks": ""
            },
            "colorscale": [
             [
              0,
              "#0d0887"
             ],
             [
              0.1111111111111111,
              "#46039f"
             ],
             [
              0.2222222222222222,
              "#7201a8"
             ],
             [
              0.3333333333333333,
              "#9c179e"
             ],
             [
              0.4444444444444444,
              "#bd3786"
             ],
             [
              0.5555555555555556,
              "#d8576b"
             ],
             [
              0.6666666666666666,
              "#ed7953"
             ],
             [
              0.7777777777777778,
              "#fb9f3a"
             ],
             [
              0.8888888888888888,
              "#fdca26"
             ],
             [
              1,
              "#f0f921"
             ]
            ],
            "type": "heatmapgl"
           }
          ],
          "histogram": [
           {
            "marker": {
             "pattern": {
              "fillmode": "overlay",
              "size": 10,
              "solidity": 0.2
             }
            },
            "type": "histogram"
           }
          ],
          "histogram2d": [
           {
            "colorbar": {
             "outlinewidth": 0,
             "ticks": ""
            },
            "colorscale": [
             [
              0,
              "#0d0887"
             ],
             [
              0.1111111111111111,
              "#46039f"
             ],
             [
              0.2222222222222222,
              "#7201a8"
             ],
             [
              0.3333333333333333,
              "#9c179e"
             ],
             [
              0.4444444444444444,
              "#bd3786"
             ],
             [
              0.5555555555555556,
              "#d8576b"
             ],
             [
              0.6666666666666666,
              "#ed7953"
             ],
             [
              0.7777777777777778,
              "#fb9f3a"
             ],
             [
              0.8888888888888888,
              "#fdca26"
             ],
             [
              1,
              "#f0f921"
             ]
            ],
            "type": "histogram2d"
           }
          ],
          "histogram2dcontour": [
           {
            "colorbar": {
             "outlinewidth": 0,
             "ticks": ""
            },
            "colorscale": [
             [
              0,
              "#0d0887"
             ],
             [
              0.1111111111111111,
              "#46039f"
             ],
             [
              0.2222222222222222,
              "#7201a8"
             ],
             [
              0.3333333333333333,
              "#9c179e"
             ],
             [
              0.4444444444444444,
              "#bd3786"
             ],
             [
              0.5555555555555556,
              "#d8576b"
             ],
             [
              0.6666666666666666,
              "#ed7953"
             ],
             [
              0.7777777777777778,
              "#fb9f3a"
             ],
             [
              0.8888888888888888,
              "#fdca26"
             ],
             [
              1,
              "#f0f921"
             ]
            ],
            "type": "histogram2dcontour"
           }
          ],
          "mesh3d": [
           {
            "colorbar": {
             "outlinewidth": 0,
             "ticks": ""
            },
            "type": "mesh3d"
           }
          ],
          "parcoords": [
           {
            "line": {
             "colorbar": {
              "outlinewidth": 0,
              "ticks": ""
             }
            },
            "type": "parcoords"
           }
          ],
          "pie": [
           {
            "automargin": true,
            "type": "pie"
           }
          ],
          "scatter": [
           {
            "fillpattern": {
             "fillmode": "overlay",
             "size": 10,
             "solidity": 0.2
            },
            "type": "scatter"
           }
          ],
          "scatter3d": [
           {
            "line": {
             "colorbar": {
              "outlinewidth": 0,
              "ticks": ""
             }
            },
            "marker": {
             "colorbar": {
              "outlinewidth": 0,
              "ticks": ""
             }
            },
            "type": "scatter3d"
           }
          ],
          "scattercarpet": [
           {
            "marker": {
             "colorbar": {
              "outlinewidth": 0,
              "ticks": ""
             }
            },
            "type": "scattercarpet"
           }
          ],
          "scattergeo": [
           {
            "marker": {
             "colorbar": {
              "outlinewidth": 0,
              "ticks": ""
             }
            },
            "type": "scattergeo"
           }
          ],
          "scattergl": [
           {
            "marker": {
             "colorbar": {
              "outlinewidth": 0,
              "ticks": ""
             }
            },
            "type": "scattergl"
           }
          ],
          "scattermapbox": [
           {
            "marker": {
             "colorbar": {
              "outlinewidth": 0,
              "ticks": ""
             }
            },
            "type": "scattermapbox"
           }
          ],
          "scatterpolar": [
           {
            "marker": {
             "colorbar": {
              "outlinewidth": 0,
              "ticks": ""
             }
            },
            "type": "scatterpolar"
           }
          ],
          "scatterpolargl": [
           {
            "marker": {
             "colorbar": {
              "outlinewidth": 0,
              "ticks": ""
             }
            },
            "type": "scatterpolargl"
           }
          ],
          "scatterternary": [
           {
            "marker": {
             "colorbar": {
              "outlinewidth": 0,
              "ticks": ""
             }
            },
            "type": "scatterternary"
           }
          ],
          "surface": [
           {
            "colorbar": {
             "outlinewidth": 0,
             "ticks": ""
            },
            "colorscale": [
             [
              0,
              "#0d0887"
             ],
             [
              0.1111111111111111,
              "#46039f"
             ],
             [
              0.2222222222222222,
              "#7201a8"
             ],
             [
              0.3333333333333333,
              "#9c179e"
             ],
             [
              0.4444444444444444,
              "#bd3786"
             ],
             [
              0.5555555555555556,
              "#d8576b"
             ],
             [
              0.6666666666666666,
              "#ed7953"
             ],
             [
              0.7777777777777778,
              "#fb9f3a"
             ],
             [
              0.8888888888888888,
              "#fdca26"
             ],
             [
              1,
              "#f0f921"
             ]
            ],
            "type": "surface"
           }
          ],
          "table": [
           {
            "cells": {
             "fill": {
              "color": "#EBF0F8"
             },
             "line": {
              "color": "white"
             }
            },
            "header": {
             "fill": {
              "color": "#C8D4E3"
             },
             "line": {
              "color": "white"
             }
            },
            "type": "table"
           }
          ]
         },
         "layout": {
          "annotationdefaults": {
           "arrowcolor": "#2a3f5f",
           "arrowhead": 0,
           "arrowwidth": 1
          },
          "autotypenumbers": "strict",
          "coloraxis": {
           "colorbar": {
            "outlinewidth": 0,
            "ticks": ""
           }
          },
          "colorscale": {
           "diverging": [
            [
             0,
             "#8e0152"
            ],
            [
             0.1,
             "#c51b7d"
            ],
            [
             0.2,
             "#de77ae"
            ],
            [
             0.3,
             "#f1b6da"
            ],
            [
             0.4,
             "#fde0ef"
            ],
            [
             0.5,
             "#f7f7f7"
            ],
            [
             0.6,
             "#e6f5d0"
            ],
            [
             0.7,
             "#b8e186"
            ],
            [
             0.8,
             "#7fbc41"
            ],
            [
             0.9,
             "#4d9221"
            ],
            [
             1,
             "#276419"
            ]
           ],
           "sequential": [
            [
             0,
             "#0d0887"
            ],
            [
             0.1111111111111111,
             "#46039f"
            ],
            [
             0.2222222222222222,
             "#7201a8"
            ],
            [
             0.3333333333333333,
             "#9c179e"
            ],
            [
             0.4444444444444444,
             "#bd3786"
            ],
            [
             0.5555555555555556,
             "#d8576b"
            ],
            [
             0.6666666666666666,
             "#ed7953"
            ],
            [
             0.7777777777777778,
             "#fb9f3a"
            ],
            [
             0.8888888888888888,
             "#fdca26"
            ],
            [
             1,
             "#f0f921"
            ]
           ],
           "sequentialminus": [
            [
             0,
             "#0d0887"
            ],
            [
             0.1111111111111111,
             "#46039f"
            ],
            [
             0.2222222222222222,
             "#7201a8"
            ],
            [
             0.3333333333333333,
             "#9c179e"
            ],
            [
             0.4444444444444444,
             "#bd3786"
            ],
            [
             0.5555555555555556,
             "#d8576b"
            ],
            [
             0.6666666666666666,
             "#ed7953"
            ],
            [
             0.7777777777777778,
             "#fb9f3a"
            ],
            [
             0.8888888888888888,
             "#fdca26"
            ],
            [
             1,
             "#f0f921"
            ]
           ]
          },
          "colorway": [
           "#636efa",
           "#EF553B",
           "#00cc96",
           "#ab63fa",
           "#FFA15A",
           "#19d3f3",
           "#FF6692",
           "#B6E880",
           "#FF97FF",
           "#FECB52"
          ],
          "font": {
           "color": "#2a3f5f"
          },
          "geo": {
           "bgcolor": "white",
           "lakecolor": "white",
           "landcolor": "#E5ECF6",
           "showlakes": true,
           "showland": true,
           "subunitcolor": "white"
          },
          "hoverlabel": {
           "align": "left"
          },
          "hovermode": "closest",
          "mapbox": {
           "style": "light"
          },
          "paper_bgcolor": "white",
          "plot_bgcolor": "#E5ECF6",
          "polar": {
           "angularaxis": {
            "gridcolor": "white",
            "linecolor": "white",
            "ticks": ""
           },
           "bgcolor": "#E5ECF6",
           "radialaxis": {
            "gridcolor": "white",
            "linecolor": "white",
            "ticks": ""
           }
          },
          "scene": {
           "xaxis": {
            "backgroundcolor": "#E5ECF6",
            "gridcolor": "white",
            "gridwidth": 2,
            "linecolor": "white",
            "showbackground": true,
            "ticks": "",
            "zerolinecolor": "white"
           },
           "yaxis": {
            "backgroundcolor": "#E5ECF6",
            "gridcolor": "white",
            "gridwidth": 2,
            "linecolor": "white",
            "showbackground": true,
            "ticks": "",
            "zerolinecolor": "white"
           },
           "zaxis": {
            "backgroundcolor": "#E5ECF6",
            "gridcolor": "white",
            "gridwidth": 2,
            "linecolor": "white",
            "showbackground": true,
            "ticks": "",
            "zerolinecolor": "white"
           }
          },
          "shapedefaults": {
           "line": {
            "color": "#2a3f5f"
           }
          },
          "ternary": {
           "aaxis": {
            "gridcolor": "white",
            "linecolor": "white",
            "ticks": ""
           },
           "baxis": {
            "gridcolor": "white",
            "linecolor": "white",
            "ticks": ""
           },
           "bgcolor": "#E5ECF6",
           "caxis": {
            "gridcolor": "white",
            "linecolor": "white",
            "ticks": ""
           }
          },
          "title": {
           "x": 0.05
          },
          "xaxis": {
           "automargin": true,
           "gridcolor": "white",
           "linecolor": "white",
           "ticks": "",
           "title": {
            "standoff": 15
           },
           "zerolinecolor": "white",
           "zerolinewidth": 2
          },
          "yaxis": {
           "automargin": true,
           "gridcolor": "white",
           "linecolor": "white",
           "ticks": "",
           "title": {
            "standoff": 15
           },
           "zerolinecolor": "white",
           "zerolinewidth": 2
          }
         }
        },
        "xaxis": {
         "anchor": "y",
         "domain": [
          0,
          1
         ],
         "title": {
          "text": "Annual Salary"
         }
        },
        "yaxis": {
         "anchor": "x",
         "domain": [
          0,
          1
         ],
         "title": {
          "text": "Car Purchase Amount"
         }
        }
       }
      },
      "text/html": [
       "<div>                            <div id=\"41884896-8106-448a-a6f5-4815e98d2712\" class=\"plotly-graph-div\" style=\"height:525px; width:100%;\"></div>            <script type=\"text/javascript\">                require([\"plotly\"], function(Plotly) {                    window.PLOTLYENV=window.PLOTLYENV || {};                                    if (document.getElementById(\"41884896-8106-448a-a6f5-4815e98d2712\")) {                    Plotly.newPlot(                        \"41884896-8106-448a-a6f5-4815e98d2712\",                        [{\"hovertemplate\":\"Annual Salary=%{x}<br>Car Purchase Amount=%{y}<br>Gender=%{marker.color}<extra></extra>\",\"legendgroup\":\"\",\"marker\":{\"color\":[0,0,1,1,1,1,1,1,0,1,1,1,0,0,0,1,0,1,1,0,1,0,1,1,0,0,0,0,1,1,1,1,1,0,0,0,1,1,0,1,0,1,0,1,1,0,1,0,1,0,1,0,0,1,1,0,1,1,1,1,1,0,0,0,0,0,0,1,1,1,1,0,0,1,1,0,1,1,0,0,1,1,1,0,1,1,1,0,1,1,1,1,1,0,1,1,0,1,0,0,1,1,1,0,0,0,0,1,1,1,1,1,0,0,1,1,1,0,0,0,1,0,1,0,0,0,0,0,1,0,1,1,0,0,0,0,0,1,1,1,0,1,0,1,0,0,1,0,1,1,1,1,0,0,1,0,0,0,0,0,1,1,0,0,0,1,1,1,0,1,1,1,0,1,0,0,1,0,1,1,1,0,1,1,0,1,0,0,1,1,1,1,0,0,0,0,0,0,1,1,1,0,1,0,0,1,1,0,0,0,0,0,0,1,1,0,1,1,0,0,1,1,0,1,1,1,1,0,1,0,1,0,1,1,1,1,1,0,0,1,0,1,0,1,1,0,1,0,1,0,0,0,1,1,0,1,1,1,1,0,0,0,1,1,0,0,1,0,0,0,0,0,1,0,1,1,1,0,0,0,0,0,0,1,1,1,0,0,0,0,0,1,1,1,1,1,1,0,0,1,0,0,0,1,1,1,0,1,0,0,1,0,0,1,0,1,0,1,1,1,0,1,0,0,0,0,0,0,1,1,0,1,0,1,0,0,0,1,0,1,1,1,0,0,1,1,0,0,0,1,0,0,1,0,0,1,1,1,0,1,1,0,1,1,1,0,1,1,1,0,1,0,1,0,1,1,0,0,0,1,0,0,1,1,0,1,0,1,1,0,1,1,1,1,0,1,0,0,0,0,1,0,0,1,0,0,0,1,0,1,0,1,1,0,0,1,1,0,1,1,0,0,1,0,1,0,1,0,0,0,0,0,1,1,1,1,0,0,0,0,1,0,1,0,1,0,1,1,1,0,1,1,0,0,1,1,0,1,1,0,0,1,0,1,0,0,0,1,0,0,0,0,1,1,0,1,0,1,1,0,0,1,1,0,0,1,1,0,0,0,1,1,0,0,0,0,1,1,1,1],\"coloraxis\":\"coloraxis\",\"symbol\":\"circle\"},\"mode\":\"markers\",\"name\":\"\",\"orientation\":\"v\",\"showlegend\":false,\"x\":[62812.09301,66646.89292,53798.55112,79370.03798,59729.1513,68499.85162,39814.522,51752.23445,58139.2591,53457.10132,73348.70745,55421.65733,37336.3383,68304.47298,72776.00382,64662.30061,63259.87837,52682.06401,54503.14423,55368.23716,63435.86304,64347.34531,65176.69055,52027.63837,69612.0123,53065.57175,82842.53385,61388.62709,100000.0,62891.86556,39627.1248,68859.56489,82358.22683,67904.39895,65311.68225,59593.2624,47460.54809,43131.78411,52263.69806,80959.5331,66417.66597,58457.41492,50571.45969,50943.16256,79792.13096,70787.27764,56098.50773,57478.37922,60181.40633,74445.08168,38406.7789,64616.6881,68107.93144,72471.81532,35069.41886,52422.94691,84467.78988,51419.50777,46609.51626,55207.45679,46689.4159,71847.2544,69236.68608,54006.77851,47228.35999,70187.50328,62262.94845,59195.82899,48716.67271,66478.00967,50280.0045,57393.82872,63429.93141,59139.2108,67015.19372,69157.4521,50867.94007,53450.90036,70463.99084,52697.15192,71055.41924,55406.46215,48567.07462,69506.62127,69453.71659,36929.35124,63087.95261,50889.34054,58065.25694,20000.0,60536.20406,50667.69759,44376.62221,75958.28349,70896.72853,56009.73073,90556.62686,71716.45662,68502.10943,46261.42666,61858.19077,49483.83262,68289.18229,47399.22827,63975.0609,75460.52362,51075.46118,42433.54619,61922.8971,69946.93924,73476.42249,75571.20188,82573.01132,50649.64492,53427.46192,75247.18061,69175.19403,84171.16719,45721.66835,54355.7595,77206.48386,57005.18595,65809.10782,65468.1442,60991.82443,61809.07451,66905.47644,65131.25015,83626.30783,64328.27892,69255.98753,60575.12604,63729.12568,64315.73671,51419.01644,53870.48483,56895.23153,52534.20778,52632.97124,42375.21424,65617.29175,49398.74439,63869.64928,60871.18248,68090.5087,54122.87827,59316.93704,38779.18396,88292.73205,68688.40199,51906.85022,52373.79446,73768.12453,55576.84068,59689.81438,55381.53225,34154.77654,54382.7481,65919.59731,39488.45582,72637.84482,67247.07698,71271.84407,71693.44742,57860.53103,69142.08412,52477.66494,47592.04749,48123.36983,76916.41515,65714.46469,40346.06491,71148.20248,81757.66856,64867.14911,70051.94033,62043.16623,85186.48921,47127.41632,61177.08698,57770.36488,60432.40367,58999.88858,62645.95516,68782.15718,67545.96382,42415.48867,44617.98314,72226.5603,48958.90535,86067.83527,65554.4018,69248.4953,59331.23555,52323.2448,63552.85175,75116.10613,38284.02013,55293.50777,63210.76235,54918.38749,57262.79581,72299.9501,50241.48985,65834.56889,60382.17885,68691.17086,65446.65687,42978.34284,58143.06285,61666.2852,64854.33966,45757.15568,73096.50927,67249.05932,77165.81297,72316.18286,68431.27055,62311.11641,53229.14547,77662.1109,69494.69783,61063.35631,79368.91741,61693.44352,47211.66812,69897.75291,63675.93263,72302.03223,63687.4988,63678.15468,77435.46545,62721.40514,70842.83518,55285.98625,72002.0552,41434.51258,60404.38394,65239.06468,62939.12851,60608.40313,56118.39601,86706.33333,41236.36497,77146.27598,56437.30404,70703.85013,69810.46265,54279.39597,70334.42787,59168.00751,61889.61618,66013.95174,55434.04046,68499.69447,54749.88645,74590.25495,67772.66646,62563.57825,70361.01504,74810.89471,49346.405,73426.08521,47684.46306,72939.83195,72277.82609,53921.33351,65312.96755,55619.34152,70914.59993,33422.99683,53382.42693,74173.39239,53587.12801,58011.6339,69171.95281,66779.91374,79173.0767,63065.12164,65530.36401,63732.3931,62689.53964,51539.93045,59060.08664,62713.78149,44747.66132,65529.70333,62426.52379,73498.30715,86565.15641,46549.16329,70111.5398,66747.66857,72025.6768,70737.29383,57455.7609,60657.59355,50694.42707,55369.72784,82425.64679,82094.10712,74090.51299,73935.74201,75719.22986,47054.14246,42003.01617,74418.55717,52786.1971,78804.99824,66932.47176,56066.07685,48591.57177,38213.88844,56444.76848,67080.6142,83333.81054,73502.12458,88816.02695,70381.37499,67647.74764,79781.90126,64665.39122,58837.97088,49607.23466,67032.16445,65245.57379,56174.3433,47227.01542,40300.49467,45504.74866,50017.38154,66226.72902,41361.95045,56687.41273,68114.60169,51086.88482,71921.45038,56807.01728,43019.8475,63875.20999,41587.39238,49661.96712,92471.17612,70136.82862,52664.71719,55618.06942,54912.44043,56692.78044,63561.04525,62788.93529,38453.86033,59486.27073,68149.63056,49393.46784,72262.20245,64494.39535,54362.70307,55657.65681,73512.41269,70621.52393,70275.68706,74420.10254,54395.05356,60384.34541,66813.664,84120.95497,54236.62092,64426.59613,71150.19894,60325.20676,91083.73918,60380.22868,72948.11812,74834.57117,67752.38329,59205.89035,64874.03368,63305.84963,74176.2079,47230.92278,65980.95617,51428.66337,75381.07571,54742.3946,76245.2434,60409.75787,57600.59673,71371.92544,79444.01301,47569.44212,71193.72803,46412.82136,57368.05622,65826.12291,61824.8798,61723.00613,72310.39623,67548.77415,62175.68945,60584.85458,66655.4142,63718.8812,60862.97749,67508.12293,61639.76386,63172.95729,58653.6591,40558.75456,76870.00765,71948.80529,67629.84819,67121.32166,57376.4803,56944.87077,60174.05765,81997.33071,36960.76994,64412.43101,70076.22764,72016.92459,63186.12783,76086.84122,74445.72702,85475.64202,51111.76605,79064.9559,55514.9934,75901.81829,56687.93949,59801.06311,57303.83325,43412.86301,58948.93261,56086.45033,80015.83115,41409.2939,40387.9207,48746.71666,70230.15498,64961.39305,57777.15558,54447.15275,59712.31101,65605.41798,70467.29492,76318.87883,77657.56243,60487.90116,67729.9725,49463.0635,65850.47688,66505.38124,58260.57232,45092.74073,63845.77186,55293.575,87598.01501,71753.30877,45368.15561,45362.66982,40727.39196,58632.58875,66680.2741,75892.3053,59297.41631,92455.72807,32697.98161,55418.75606,68921.40213,43739.97829,81565.95967,65364.06334,65019.15701,58243.17992,73558.87334,66088.02369,54441.72437,60101.79725,50153.43545,61430.93415,65846.5096,55433.61187,62979.60196,76523.33258,63956.1618,39460.00348,66923.43536,50051.14039,61575.9502,64430.07398,63722.00164,78518.21527,72424.80112,77665.17195,77345.61633,71942.40291,56039.49793,68888.77805,49811.99062,61370.67766],\"xaxis\":\"x\",\"y\":[35321.45877,45115.52566,42925.70921,67422.36313,55915.46248,56611.99784,28925.70549,47434.98265,48013.6141,38189.50601,59045.51309,42288.81046,28700.0334,49258.87571,49510.03356,53017.26723,41814.72067,43901.71244,44633.99241,54827.52403,51130.95379,43402.31525,47240.86004,46635.49432,45078.40193,44387.58412,37161.55393,49091.97185,58350.31809,43994.35972,17584.56963,44650.36073,66363.89316,53489.46214,39810.34817,51612.14311,38978.67458,10092.22509,35928.52404,54823.19221,45805.67186,41567.47033,28031.20985,27815.73813,68678.4352,68925.09447,34215.7615,37843.46619,37883.24231,48734.35708,27187.23914,63738.39065,48266.75516,46381.13111,31978.9799,48100.29052,47380.91224,41425.00116,38147.81018,32737.80177,37348.13737,47483.85316,49730.53339,40093.61981,42297.5062,52954.93121,48104.11184,43680.91327,52707.96816,49392.8897,30841.00154,49373.37555,41903.65171,45058.8969,52991.52667,50958.08115,41357.17897,44434.71917,38502.42392,41221.24918,38399.46139,41456.68097,30394.82494,42384.05128,39002.0771,19553.2739,45167.32542,36019.9556,50937.93844,12895.71468,38955.21919,51221.04249,25971.95673,60670.33672,54075.12064,40004.87142,61593.52058,39503.38829,52474.71839,42187.6828,57441.44414,22681.71667,33640.73697,31540.77868,60461.24268,45738.3343,34803.82395,34642.6024,27586.71854,54973.02495,49142.51174,58840.53964,57306.32866,51941.6756,30240.60975,67120.89878,42408.02625,41451.71843,42592.88647,34521.17618,42213.69644,41913.53713,59416.18101,51402.61506,54755.42038,47143.44008,64391.68906,37252.55194,52665.36511,44001.20706,51551.67997,38243.66481,39766.64804,40077.57289,33131.52734,48622.66097,47693.23482,39410.4616,33428.40183,32700.27871,62864.43011,29425.83001,44418.60955,36645.5609,53655.53859,45977.12502,38504.39444,47935.9394,60222.22672,38930.55234,27810.21814,47604.34591,42356.6895,31300.54347,42369.64247,31837.22537,26499.31418,38172.83602,39433.40631,37714.31659,57125.41541,46453.34819,43855.06077,55592.70383,42484.02283,40879.19107,20653.21409,35438.80549,36112.79346,38182.30465,41026.02421,27889.95197,43724.4896,57430.76903,41104.07108,49050.85378,41265.52929,64545.16339,29052.09521,30719.8156,38763.11306,39331.20127,32608.45468,58045.56257,54387.27727,36638.20688,39522.13129,42978.34626,60865.76396,46380.44732,56579.90338,42774.35579,37879.65385,45208.42539,56229.4127,50455.11935,49721.31082,31696.99679,49220.0218,46188.83514,36086.93161,43264.04965,40660.38317,51683.60859,44525.02085,48518.90163,45805.30588,54850.38742,32478.44758,42209.28948,55125.93237,47984.42062,43405.89086,44577.44829,37744.54285,47805.25605,44846.68557,46643.26581,56563.98675,41673.44617,61118.46947,37303.56701,46892.26617,56457.74038,45509.69732,27625.44144,46389.50237,29002.05665,51355.7106,42011.19965,52654.40455,44432.71747,46054.60253,58235.41454,42990.29255,50702.18103,47009.57741,49399.97041,42997.16761,44434.98419,46325.50959,46846.7305,56499.10202,42773.75905,52313.98392,34139.6373,60763.24731,66158.69494,31215.6421,46135.27233,56973.18105,24184.07443,49079.61942,37093.92033,43401.56612,29092.1311,48349.16457,33261.00057,41327.16554,49336.11628,51405.55229,31249.98803,43598.96993,48300.02057,54013.47595,38674.66038,37076.82508,37947.85125,41320.07256,66888.93694,12536.93842,39549.13039,52709.08196,53502.97742,52116.90791,38705.65839,48025.02542,59483.91183,35911.64559,41034.28343,51730.17434,53021.86074,32828.03477,29417.64694,57461.51158,50441.62427,41575.34739,46412.47781,47610.11718,70878.29664,55543.38497,53848.7555,39904.81613,44736.41097,46937.17422,28440.81268,38148.00163,42747.53925,29670.83337,63038.20422,63248.76188,42321.56548,44463.30502,67092.23276,22091.11839,40022.17406,56071.61377,49442.12107,42497.72862,37084.77621,51866.48719,35716.31133,39892.93343,35781.16156,42866.21274,80000.0,60526.97788,59758.73247,39606.24598,58641.71051,52983.89411,50666.88173,59625.02618,22630.25982,41137.89459,53496.48183,36543.93642,43503.97349,31146.71078,31526.04931,31083.70271,45366.35963,25252.93221,39888.59789,52240.72866,39911.6116,45857.75365,30826.10903,39422.79389,34678.83226,23517.91983,28733.68779,59096.26978,50188.86612,35659.12237,46398.35204,32291.18978,49079.29461,49348.88394,41427.59797,24221.99937,44424.07681,60390.06616,42793.9932,46935.72774,58667.06865,38042.80065,39270.57909,54606.18769,39083.94268,47984.12043,46082.80993,30964.07804,35726.95299,49065.1634,48955.85816,37183.10293,46710.52519,52889.56257,29754.66271,60960.83428,39975.43302,38545.80328,56764.44728,63079.84329,55700.83389,36367.18452,52477.83479,50296.67496,37259.84386,47715.96049,29540.87013,60567.18837,36125.48846,57303.87131,51922.07691,35848.82935,42704.3221,55174.98946,26599.90843,53993.44322,47970.76767,43641.65727,41679.7929,63140.05082,30757.65726,65592.22012,37871.7082,42919.5196,22599.45863,70598.96768,43242.58224,38138.57511,30419.8,63868.94051,45112.94547,44361.87507,19525.29827,49991.60697,61731.71426,41769.38288,46402.53583,37376.63439,33766.6413,30667.60927,52056.41478,30736.5798,39439.45349,38174.87433,40589.8625,62028.71192,48465.27211,40095.0498,49568.47685,31408.62631,47719.47741,35784.42411,42905.53815,48516.84335,45593.6849,32061.6467,32208.37522,35475.00344,29519.56184,55420.56668,42139.64528,50539.90169,34922.42846,43898.2733,39135.03023,41147.46679,24134.59205,42705.11311,38901.60925,28645.39425,52150.41786,66648.25077,42909.27129,49248.10595,27303.17104,47869.82593,59984.16361,45271.46081,9000.0,46012.10616,32967.20191,48785.15839,45824.5656,40102.11417,35457.1486,29556.7932,38243.06228,44430.63323,51046.42226,52570.36517,61404.22578,28463.64326,27586.20078,47979.48549,28164.86039,69669.47402,48052.65091,37364.23474,44500.81936,35139.24793,55167.37361,48383.69071,35823.55471,36517.70996,53110.88052,53049.44567,21471.11367,45015.67953,55377.87697,56510.13294,47443.74443,41489.64123,32553.53423,41984.62412,59538.40327,41352.47071,52785.16947,60117.67886,47760.66427,64188.26862,48901.44342,31491.41457,64147.28888,45442.15353,45107.22566],\"yaxis\":\"y\",\"type\":\"scatter\"}],                        {\"template\":{\"data\":{\"histogram2dcontour\":[{\"type\":\"histogram2dcontour\",\"colorbar\":{\"outlinewidth\":0,\"ticks\":\"\"},\"colorscale\":[[0.0,\"#0d0887\"],[0.1111111111111111,\"#46039f\"],[0.2222222222222222,\"#7201a8\"],[0.3333333333333333,\"#9c179e\"],[0.4444444444444444,\"#bd3786\"],[0.5555555555555556,\"#d8576b\"],[0.6666666666666666,\"#ed7953\"],[0.7777777777777778,\"#fb9f3a\"],[0.8888888888888888,\"#fdca26\"],[1.0,\"#f0f921\"]]}],\"choropleth\":[{\"type\":\"choropleth\",\"colorbar\":{\"outlinewidth\":0,\"ticks\":\"\"}}],\"histogram2d\":[{\"type\":\"histogram2d\",\"colorbar\":{\"outlinewidth\":0,\"ticks\":\"\"},\"colorscale\":[[0.0,\"#0d0887\"],[0.1111111111111111,\"#46039f\"],[0.2222222222222222,\"#7201a8\"],[0.3333333333333333,\"#9c179e\"],[0.4444444444444444,\"#bd3786\"],[0.5555555555555556,\"#d8576b\"],[0.6666666666666666,\"#ed7953\"],[0.7777777777777778,\"#fb9f3a\"],[0.8888888888888888,\"#fdca26\"],[1.0,\"#f0f921\"]]}],\"heatmap\":[{\"type\":\"heatmap\",\"colorbar\":{\"outlinewidth\":0,\"ticks\":\"\"},\"colorscale\":[[0.0,\"#0d0887\"],[0.1111111111111111,\"#46039f\"],[0.2222222222222222,\"#7201a8\"],[0.3333333333333333,\"#9c179e\"],[0.4444444444444444,\"#bd3786\"],[0.5555555555555556,\"#d8576b\"],[0.6666666666666666,\"#ed7953\"],[0.7777777777777778,\"#fb9f3a\"],[0.8888888888888888,\"#fdca26\"],[1.0,\"#f0f921\"]]}],\"heatmapgl\":[{\"type\":\"heatmapgl\",\"colorbar\":{\"outlinewidth\":0,\"ticks\":\"\"},\"colorscale\":[[0.0,\"#0d0887\"],[0.1111111111111111,\"#46039f\"],[0.2222222222222222,\"#7201a8\"],[0.3333333333333333,\"#9c179e\"],[0.4444444444444444,\"#bd3786\"],[0.5555555555555556,\"#d8576b\"],[0.6666666666666666,\"#ed7953\"],[0.7777777777777778,\"#fb9f3a\"],[0.8888888888888888,\"#fdca26\"],[1.0,\"#f0f921\"]]}],\"contourcarpet\":[{\"type\":\"contourcarpet\",\"colorbar\":{\"outlinewidth\":0,\"ticks\":\"\"}}],\"contour\":[{\"type\":\"contour\",\"colorbar\":{\"outlinewidth\":0,\"ticks\":\"\"},\"colorscale\":[[0.0,\"#0d0887\"],[0.1111111111111111,\"#46039f\"],[0.2222222222222222,\"#7201a8\"],[0.3333333333333333,\"#9c179e\"],[0.4444444444444444,\"#bd3786\"],[0.5555555555555556,\"#d8576b\"],[0.6666666666666666,\"#ed7953\"],[0.7777777777777778,\"#fb9f3a\"],[0.8888888888888888,\"#fdca26\"],[1.0,\"#f0f921\"]]}],\"surface\":[{\"type\":\"surface\",\"colorbar\":{\"outlinewidth\":0,\"ticks\":\"\"},\"colorscale\":[[0.0,\"#0d0887\"],[0.1111111111111111,\"#46039f\"],[0.2222222222222222,\"#7201a8\"],[0.3333333333333333,\"#9c179e\"],[0.4444444444444444,\"#bd3786\"],[0.5555555555555556,\"#d8576b\"],[0.6666666666666666,\"#ed7953\"],[0.7777777777777778,\"#fb9f3a\"],[0.8888888888888888,\"#fdca26\"],[1.0,\"#f0f921\"]]}],\"mesh3d\":[{\"type\":\"mesh3d\",\"colorbar\":{\"outlinewidth\":0,\"ticks\":\"\"}}],\"scatter\":[{\"fillpattern\":{\"fillmode\":\"overlay\",\"size\":10,\"solidity\":0.2},\"type\":\"scatter\"}],\"parcoords\":[{\"type\":\"parcoords\",\"line\":{\"colorbar\":{\"outlinewidth\":0,\"ticks\":\"\"}}}],\"scatterpolargl\":[{\"type\":\"scatterpolargl\",\"marker\":{\"colorbar\":{\"outlinewidth\":0,\"ticks\":\"\"}}}],\"bar\":[{\"error_x\":{\"color\":\"#2a3f5f\"},\"error_y\":{\"color\":\"#2a3f5f\"},\"marker\":{\"line\":{\"color\":\"#E5ECF6\",\"width\":0.5},\"pattern\":{\"fillmode\":\"overlay\",\"size\":10,\"solidity\":0.2}},\"type\":\"bar\"}],\"scattergeo\":[{\"type\":\"scattergeo\",\"marker\":{\"colorbar\":{\"outlinewidth\":0,\"ticks\":\"\"}}}],\"scatterpolar\":[{\"type\":\"scatterpolar\",\"marker\":{\"colorbar\":{\"outlinewidth\":0,\"ticks\":\"\"}}}],\"histogram\":[{\"marker\":{\"pattern\":{\"fillmode\":\"overlay\",\"size\":10,\"solidity\":0.2}},\"type\":\"histogram\"}],\"scattergl\":[{\"type\":\"scattergl\",\"marker\":{\"colorbar\":{\"outlinewidth\":0,\"ticks\":\"\"}}}],\"scatter3d\":[{\"type\":\"scatter3d\",\"line\":{\"colorbar\":{\"outlinewidth\":0,\"ticks\":\"\"}},\"marker\":{\"colorbar\":{\"outlinewidth\":0,\"ticks\":\"\"}}}],\"scattermapbox\":[{\"type\":\"scattermapbox\",\"marker\":{\"colorbar\":{\"outlinewidth\":0,\"ticks\":\"\"}}}],\"scatterternary\":[{\"type\":\"scatterternary\",\"marker\":{\"colorbar\":{\"outlinewidth\":0,\"ticks\":\"\"}}}],\"scattercarpet\":[{\"type\":\"scattercarpet\",\"marker\":{\"colorbar\":{\"outlinewidth\":0,\"ticks\":\"\"}}}],\"carpet\":[{\"aaxis\":{\"endlinecolor\":\"#2a3f5f\",\"gridcolor\":\"white\",\"linecolor\":\"white\",\"minorgridcolor\":\"white\",\"startlinecolor\":\"#2a3f5f\"},\"baxis\":{\"endlinecolor\":\"#2a3f5f\",\"gridcolor\":\"white\",\"linecolor\":\"white\",\"minorgridcolor\":\"white\",\"startlinecolor\":\"#2a3f5f\"},\"type\":\"carpet\"}],\"table\":[{\"cells\":{\"fill\":{\"color\":\"#EBF0F8\"},\"line\":{\"color\":\"white\"}},\"header\":{\"fill\":{\"color\":\"#C8D4E3\"},\"line\":{\"color\":\"white\"}},\"type\":\"table\"}],\"barpolar\":[{\"marker\":{\"line\":{\"color\":\"#E5ECF6\",\"width\":0.5},\"pattern\":{\"fillmode\":\"overlay\",\"size\":10,\"solidity\":0.2}},\"type\":\"barpolar\"}],\"pie\":[{\"automargin\":true,\"type\":\"pie\"}]},\"layout\":{\"autotypenumbers\":\"strict\",\"colorway\":[\"#636efa\",\"#EF553B\",\"#00cc96\",\"#ab63fa\",\"#FFA15A\",\"#19d3f3\",\"#FF6692\",\"#B6E880\",\"#FF97FF\",\"#FECB52\"],\"font\":{\"color\":\"#2a3f5f\"},\"hovermode\":\"closest\",\"hoverlabel\":{\"align\":\"left\"},\"paper_bgcolor\":\"white\",\"plot_bgcolor\":\"#E5ECF6\",\"polar\":{\"bgcolor\":\"#E5ECF6\",\"angularaxis\":{\"gridcolor\":\"white\",\"linecolor\":\"white\",\"ticks\":\"\"},\"radialaxis\":{\"gridcolor\":\"white\",\"linecolor\":\"white\",\"ticks\":\"\"}},\"ternary\":{\"bgcolor\":\"#E5ECF6\",\"aaxis\":{\"gridcolor\":\"white\",\"linecolor\":\"white\",\"ticks\":\"\"},\"baxis\":{\"gridcolor\":\"white\",\"linecolor\":\"white\",\"ticks\":\"\"},\"caxis\":{\"gridcolor\":\"white\",\"linecolor\":\"white\",\"ticks\":\"\"}},\"coloraxis\":{\"colorbar\":{\"outlinewidth\":0,\"ticks\":\"\"}},\"colorscale\":{\"sequential\":[[0.0,\"#0d0887\"],[0.1111111111111111,\"#46039f\"],[0.2222222222222222,\"#7201a8\"],[0.3333333333333333,\"#9c179e\"],[0.4444444444444444,\"#bd3786\"],[0.5555555555555556,\"#d8576b\"],[0.6666666666666666,\"#ed7953\"],[0.7777777777777778,\"#fb9f3a\"],[0.8888888888888888,\"#fdca26\"],[1.0,\"#f0f921\"]],\"sequentialminus\":[[0.0,\"#0d0887\"],[0.1111111111111111,\"#46039f\"],[0.2222222222222222,\"#7201a8\"],[0.3333333333333333,\"#9c179e\"],[0.4444444444444444,\"#bd3786\"],[0.5555555555555556,\"#d8576b\"],[0.6666666666666666,\"#ed7953\"],[0.7777777777777778,\"#fb9f3a\"],[0.8888888888888888,\"#fdca26\"],[1.0,\"#f0f921\"]],\"diverging\":[[0,\"#8e0152\"],[0.1,\"#c51b7d\"],[0.2,\"#de77ae\"],[0.3,\"#f1b6da\"],[0.4,\"#fde0ef\"],[0.5,\"#f7f7f7\"],[0.6,\"#e6f5d0\"],[0.7,\"#b8e186\"],[0.8,\"#7fbc41\"],[0.9,\"#4d9221\"],[1,\"#276419\"]]},\"xaxis\":{\"gridcolor\":\"white\",\"linecolor\":\"white\",\"ticks\":\"\",\"title\":{\"standoff\":15},\"zerolinecolor\":\"white\",\"automargin\":true,\"zerolinewidth\":2},\"yaxis\":{\"gridcolor\":\"white\",\"linecolor\":\"white\",\"ticks\":\"\",\"title\":{\"standoff\":15},\"zerolinecolor\":\"white\",\"automargin\":true,\"zerolinewidth\":2},\"scene\":{\"xaxis\":{\"backgroundcolor\":\"#E5ECF6\",\"gridcolor\":\"white\",\"linecolor\":\"white\",\"showbackground\":true,\"ticks\":\"\",\"zerolinecolor\":\"white\",\"gridwidth\":2},\"yaxis\":{\"backgroundcolor\":\"#E5ECF6\",\"gridcolor\":\"white\",\"linecolor\":\"white\",\"showbackground\":true,\"ticks\":\"\",\"zerolinecolor\":\"white\",\"gridwidth\":2},\"zaxis\":{\"backgroundcolor\":\"#E5ECF6\",\"gridcolor\":\"white\",\"linecolor\":\"white\",\"showbackground\":true,\"ticks\":\"\",\"zerolinecolor\":\"white\",\"gridwidth\":2}},\"shapedefaults\":{\"line\":{\"color\":\"#2a3f5f\"}},\"annotationdefaults\":{\"arrowcolor\":\"#2a3f5f\",\"arrowhead\":0,\"arrowwidth\":1},\"geo\":{\"bgcolor\":\"white\",\"landcolor\":\"#E5ECF6\",\"subunitcolor\":\"white\",\"showland\":true,\"showlakes\":true,\"lakecolor\":\"white\"},\"title\":{\"x\":0.05},\"mapbox\":{\"style\":\"light\"}}},\"xaxis\":{\"anchor\":\"y\",\"domain\":[0.0,1.0],\"title\":{\"text\":\"Annual Salary\"}},\"yaxis\":{\"anchor\":\"x\",\"domain\":[0.0,1.0],\"title\":{\"text\":\"Car Purchase Amount\"}},\"coloraxis\":{\"colorbar\":{\"title\":{\"text\":\"Gender\"}},\"colorscale\":[[0.0,\"#0d0887\"],[0.1111111111111111,\"#46039f\"],[0.2222222222222222,\"#7201a8\"],[0.3333333333333333,\"#9c179e\"],[0.4444444444444444,\"#bd3786\"],[0.5555555555555556,\"#d8576b\"],[0.6666666666666666,\"#ed7953\"],[0.7777777777777778,\"#fb9f3a\"],[0.8888888888888888,\"#fdca26\"],[1.0,\"#f0f921\"]]},\"legend\":{\"tracegroupgap\":0},\"margin\":{\"t\":60}},                        {\"responsive\": true}                    ).then(function(){\n",
       "                            \n",
       "var gd = document.getElementById('41884896-8106-448a-a6f5-4815e98d2712');\n",
       "var x = new MutationObserver(function (mutations, observer) {{\n",
       "        var display = window.getComputedStyle(gd).display;\n",
       "        if (!display || display === 'none') {{\n",
       "            console.log([gd, 'removed!']);\n",
       "            Plotly.purge(gd);\n",
       "            observer.disconnect();\n",
       "        }}\n",
       "}});\n",
       "\n",
       "// Listen for the removal of the full notebook cells\n",
       "var notebookContainer = gd.closest('#notebook-container');\n",
       "if (notebookContainer) {{\n",
       "    x.observe(notebookContainer, {childList: true});\n",
       "}}\n",
       "\n",
       "// Listen for the clearing of the current output cell\n",
       "var outputEl = gd.closest('.output');\n",
       "if (outputEl) {{\n",
       "    x.observe(outputEl, {childList: true});\n",
       "}}\n",
       "\n",
       "                        })                };                });            </script>        </div>"
      ]
     },
     "metadata": {},
     "output_type": "display_data"
    }
   ],
   "source": [
    "fig = px.scatter(data_frame=df, x='Annual Salary', y='Car Purchase Amount', color='Gender')\n",
    "fig.show()"
   ]
  },
  {
   "cell_type": "code",
   "execution_count": 47,
   "id": "5b03c6d8",
   "metadata": {},
   "outputs": [
    {
     "data": {
      "text/plain": [
       "<AxesSubplot:xlabel='Credit Card Debt', ylabel='Count'>"
      ]
     },
     "execution_count": 47,
     "metadata": {},
     "output_type": "execute_result"
    },
    {
     "data": {
      "image/png": "[encoded data removed]",
      "text/plain": [
       "<Figure size 640x480 with 1 Axes>"
      ]
     },
     "metadata": {},
     "output_type": "display_data"
    }
   ],
   "source": [
    "sns.histplot(data=df, x='Credit Card Debt', kde=True)"
   ]
  },
  {
   "cell_type": "code",
   "execution_count": 48,
   "id": "a3d48ed6",
   "metadata": {},
   "outputs": [
    {
     "data": {
      "application/vnd.plotly.v1+json": {
       "config": {
        "plotlyServerURL": "https://plot.ly"
       },
       "data": [
        {
         "hovertemplate": "Credit Card Debt=%{x}<br>Car Purchase Amount=%{y}<br>Gender=%{marker.color}<extra></extra>",
         "legendgroup": "",
         "marker": {
          "color": [
           0,
           0,
           1,
           1,
           1,
           1,
           1,
           1,
           0,
           1,
           1,
           1,
           0,
           0,
           0,
           1,
           0,
           1,
           1,
           0,
           1,
           0,
           1,
           1,
           0,
           0,
           0,
           0,
           1,
           1,
           1,
           1,
           1,
           0,
           0,
           0,
           1,
           1,
           0,
           1,
           0,
           1,
           0,
           1,
           1,
           0,
           1,
           0,
           1,
           0,
           1,
           0,
           0,
           1,
           1,
           0,
           1,
           1,
           1,
           1,
           1,
           0,
           0,
           0,
           0,
           0,
           0,
           1,
           1,
           1,
           1,
           0,
           0,
           1,
           1,
           0,
           1,
           1,
           0,
           0,
           1,
           1,
           1,
           0,
           1,
           1,
           1,
           0,
           1,
           1,
           1,
           1,
           1,
           0,
           1,
           1,
           0,
           1,
           0,
           0,
           1,
           1,
           1,
           0,
           0,
           0,
           0,
           1,
           1,
           1,
           1,
           1,
           0,
           0,
           1,
           1,
           1,
           0,
           0,
           0,
           1,
           0,
           1,
           0,
           0,
           0,
           0,
           0,
           1,
           0,
           1,
           1,
           0,
           0,
           0,
           0,
           0,
           1,
           1,
           1,
           0,
           1,
           0,
           1,
           0,
           0,
           1,
           0,
           1,
           1,
           1,
           1,
           0,
           0,
           1,
           0,
           0,
           0,
           0,
           0,
           1,
           1,
           0,
           0,
           0,
           1,
           1,
           1,
           0,
           1,
           1,
           1,
           0,
           1,
           0,
           0,
           1,
           0,
           1,
           1,
           1,
           0,
           1,
           1,
           0,
           1,
           0,
           0,
           1,
           1,
           1,
           1,
           0,
           0,
           0,
           0,
           0,
           0,
           1,
           1,
           1,
           0,
           1,
           0,
           0,
           1,
           1,
           0,
           0,
           0,
           0,
           0,
           0,
           1,
           1,
           0,
           1,
           1,
           0,
           0,
           1,
           1,
           0,
           1,
           1,
           1,
           1,
           0,
           1,
           0,
           1,
           0,
           1,
           1,
           1,
           1,
           1,
           0,
           0,
           1,
           0,
           1,
           0,
           1,
           1,
           0,
           1,
           0,
           1,
           0,
           0,
           0,
           1,
           1,
           0,
           1,
           1,
           1,
           1,
           0,
           0,
           0,
           1,
           1,
           0,
           0,
           1,
           0,
           0,
           0,
           0,
           0,
           1,
           0,
           1,
           1,
           1,
           0,
           0,
           0,
           0,
           0,
           0,
           1,
           1,
           1,
           0,
           0,
           0,
           0,
           0,
           1,
           1,
           1,
           1,
           1,
           1,
           0,
           0,
           1,
           0,
           0,
           0,
           1,
           1,
           1,
           0,
           1,
           0,
           0,
           1,
           0,
           0,
           1,
           0,
           1,
           0,
           1,
           1,
           1,
           0,
           1,
           0,
           0,
           0,
           0,
           0,
           0,
           1,
           1,
           0,
           1,
           0,
           1,
           0,
           0,
           0,
           1,
           0,
           1,
           1,
           1,
           0,
           0,
           1,
           1,
           0,
           0,
           0,
           1,
           0,
           0,
           1,
           0,
           0,
           1,
           1,
           1,
           0,
           1,
           1,
           0,
           1,
           1,
           1,
           0,
           1,
           1,
           1,
           0,
           1,
           0,
           1,
           0,
           1,
           1,
           0,
           0,
           0,
           1,
           0,
           0,
           1,
           1,
           0,
           1,
           0,
           1,
           1,
           0,
           1,
           1,
           1,
           1,
           0,
           1,
           0,
           0,
           0,
           0,
           1,
           0,
           0,
           1,
           0,
           0,
           0,
           1,
           0,
           1,
           0,
           1,
           1,
           0,
           0,
           1,
           1,
           0,
           1,
           1,
           0,
           0,
           1,
           0,
           1,
           0,
           1,
           0,
           0,
           0,
           0,
           0,
           1,
           1,
           1,
           1,
           0,
           0,
           0,
           0,
           1,
           0,
           1,
           0,
           1,
           0,
           1,
           1,
           1,
           0,
           1,
           1,
           0,
           0,
           1,
           1,
           0,
           1,
           1,
           0,
           0,
           1,
           0,
           1,
           0,
           0,
           0,
           1,
           0,
           0,
           0,
           0,
           1,
           1,
           0,
           1,
           0,
           1,
           1,
           0,
           0,
           1,
           1,
           0,
           0,
           1,
           1,
           0,
           0,
           0,
           1,
           1,
           0,
           0,
           0,
           0,
           1,
           1,
           1,
           1
          ],
          "coloraxis": "coloraxis",
          "symbol": "circle"
         },
         "mode": "markers",
         "name": "",
         "orientation": "v",
         "showlegend": false,
         "type": "scatter",
         "x": [
          11609.38091,
          9572.957136,
          11160.35506,
          14426.16485,
          5358.712177,
          14179.47244,
          5958.460188,
          10985.69656,
          3440.823799,
          12884.07868,
          8270.707359,
          10014.96929,
          10218.32092,
          9466.995128,
          10597.63814,
          11326.03434,
          11495.54999,
          12514.52029,
          7377.820914,
          13272.94647,
          11878.03779,
          10905.36628,
          7698.552234,
          11960.85377,
          8125.598993,
          17805.57607,
          13102.15805,
          14270.00731,
          17452.92179,
          12522.94052,
          9371.511071,
          13417.02027,
          8092.475103,
          11417.30952,
          7988.753685,
          12252.73058,
          7405.534271,
          10917.14094,
          8838.759509,
          4499.921096,
          9183.327621,
          12491.01273,
          13338.32852,
          10816.8855,
          14245.53319,
          10155.34095,
          11675.28496,
          2230.096344,
          7094.896557,
          7915.758178,
          11023.00268,
          12378.54089,
          7813.602657,
          11216.88676,
          1851.979839,
          6998.46562,
          7772.444847,
          11331.20447,
          7592.019748,
          9976.434857,
          7829.565502,
          4225.328117,
          9842.842611,
          15189.08845,
          9046.182396,
          6841.540577,
          11785.87919,
          8634.376791,
          10886.91711,
          13685.88702,
          11350.49408,
          5627.803654,
          10676.21884,
          4630.544424,
          13000.41369,
          15791.61176,
          16732.30638,
          8740.723093,
          10059.55406,
          861.8166529,
          6147.918843,
          9522.576495,
          9724.031647,
          5449.471997,
          9565.830875,
          9719.192898,
          11024.02643,
          11041.17891,
          4204.920492,
          14261.80773,
          8244.470226,
          9871.403591,
          13865.09055,
          10562.90377,
          11794.73914,
          11030.2654,
          13872.5667,
          8870.714301,
          5831.118245,
          16767.2636,
          5189.083564,
          11811.25253,
          7357.787011,
          14562.64194,
          10614.85449,
          6280.929547,
          12416.84845,
          7335.524826,
          10366.50326,
          9010.648633,
          9656.806156,
          12887.54899,
          1696.989764,
          11211.72016,
          7903.103591,
          13258.46631,
          6039.594519,
          12719.64415,
          14250.52398,
          10008.76797,
          8493.098575,
          12416.79083,
          4820.839445,
          7248.54142,
          7329.22851,
          2620.079459,
          10077.49592,
          6206.922109,
          8458.749819,
          13860.43821,
          18361.24915,
          8088.344365,
          12507.19736,
          14871.36126,
          9026.061543,
          14720.53399,
          9851.578109,
          7583.753853,
          12348.67783,
          6062.60136,
          14392.28833,
          6994.617316,
          12860.65824,
          4397.947571,
          6181.970908,
          15164.87506,
          12296.34158,
          12758.89583,
          10799.1381,
          15796.31838,
          13686.96935,
          11347.62967,
          8132.073716,
          9396.008371,
          14862.84011,
          5088.239017,
          5316.010491,
          6940.056371,
          7594.363993,
          10992.33383,
          14938.50613,
          9851.689538,
          13122.45694,
          14421.48298,
          7146.192574,
          8707.511532,
          12071.41684,
          13167.65763,
          921.5340234,
          13923.96207,
          12557.08133,
          11505.89906,
          7917.65097,
          7500.778414,
          13962.95284,
          4701.316175,
          4980.668295,
          12413.0319,
          10221.15388,
          9837.222432,
          8628.434025,
          11417.46257,
          6904.420412,
          11431.22966,
          9810.75269,
          7171.466112,
          5205.008323,
          9683.735879,
          5817.153854,
          2418.86434,
          9181.06743,
          12026.57975,
          6445.784981,
          10027.53449,
          12438.85648,
          9347.50353,
          5969.666602,
          15467.78745,
          9465.090098,
          3657.863218,
          8920.385015,
          7793.073201,
          11544.93385,
          14817.70896,
          15353.25774,
          11302.88277,
          16305.78907,
          8491.586154,
          8884.11069,
          9686.119304,
          11672.72382,
          3247.887523,
          11207.01556,
          10743.793,
          12998.47232,
          8737.20319,
          8728.916803,
          14088.90642,
          9832.05731,
          10756.60888,
          13444.89631,
          20000,
          12066.26571,
          13501.92659,
          10835.25736,
          4295.225339,
          9624.908869,
          9631.974905,
          10813.75655,
          13421.36821,
          5011.615145,
          6922.152838,
          16127.56619,
          9536.899689,
          17462.07506,
          14709.65824,
          6810.555606,
          4198.839128,
          7437.211028,
          632.0528524,
          8233.280719,
          9242.775995,
          9653.26498,
          9399.342975,
          7903.33495,
          10461.98276,
          5025.365518,
          4684.556433,
          5699.184814,
          9823.218967,
          10474.44187,
          12024.48457,
          7039.540023,
          18693.14652,
          15436.79968,
          7631.687821,
          5614.004976,
          6887.248301,
          6130.305181,
          12024.72511,
          13658.34201,
          5827.820346,
          14822.79645,
          10128.76114,
          7787.204492,
          13580.87747,
          9046.18109,
          11398.82486,
          11212.43791,
          9644.41026,
          8570.611562,
          5055.43571,
          11315.59626,
          8501.49728,
          9822.426192,
          6354.833826,
          14300.12614,
          6913.05683,
          8907.661779,
          8774.069514,
          12848.20061,
          8732.143355,
          6932.950306,
          5841.612044,
          11498.03993,
          4975.144559,
          3932.838165,
          6619.929677,
          3066.939924,
          13701.79986,
          640.045378,
          7949.463649,
          9691.23462,
          6988.652757,
          13851.11162,
          12186.02793,
          3331.304747,
          10881.90102,
          10888.93494,
          7525.252104,
          1065.607589,
          10877.69223,
          8253.583457,
          10515.28135,
          7234.672092,
          6052.844775,
          8632.699007,
          9246.813159,
          12710.00309,
          11033.16277,
          5235.7599,
          14309.21115,
          11492.74174,
          11932.73881,
          7880.423663,
          9874.075327,
          11132.39299,
          9317.22195,
          6718.857016,
          8767.783547,
          11148.10325,
          7404.080751,
          12788.81573,
          9344.32377,
          7666.5303,
          11554.2723,
          10394.57246,
          11312.51035,
          8828.164449,
          9245.466786,
          7514.393035,
          8511.814921,
          10755.50842,
          9050.284083,
          11633.95265,
          12254.53943,
          6354.372629,
          8851.564939,
          8527.034281,
          11397.68601,
          5397.031602,
          4679.441732,
          5404.397644,
          7765.975483,
          14435.74305,
          7557.657205,
          8203.56263,
          7946.435929,
          3730.11972,
          13224.45167,
          15283.41752,
          6515.336778,
          9560.448204,
          11521.6189,
          12124.82386,
          8765.624109,
          15647.35449,
          9625.399586,
          11054.27478,
          9384.067625,
          10359.17579,
          10274.13558,
          10693.88704,
          11518.29175,
          15458.68867,
          9596.513091,
          7275.314728,
          9514.645028,
          9848.997857,
          10128.1151,
          13148.85597,
          2799.719601,
          12664.32052,
          9366.027561,
          13851.92122,
          2689.317953,
          8511.835275,
          16146.77016,
          11894.4244,
          4421.153379,
          7009.186038,
          9221.265417,
          7925.059589,
          10342.60917,
          6139.387823,
          9611.317626,
          10340.30041,
          7094.827,
          11620.1079,
          7840.293189,
          3854.733177,
          11652.2729,
          10175.74457,
          11715.3714,
          11211.99502,
          9913.194941,
          3093.707686,
          10462.35581,
          12967.284,
          8133.45931,
          8001.644302,
          11863.06428,
          8033.550461,
          10188.68685,
          17870.63765,
          6332.2019,
          17142.41332,
          4981.269146,
          5575.323416,
          8061.968487,
          10916.85532,
          12087.38116,
          12878.54582,
          16449.0665,
          15666.43155,
          12616.45622,
          1768.874438,
          10449.61818,
          1726.809885,
          11602.74297,
          7122.163863,
          9258.181529,
          7515.152476,
          13786.14942,
          9057.600508,
          7221.667169,
          8009.719809,
          6512.71102,
          10827.1614,
          8042.386734,
          10836.41709,
          7843.402994,
          8282.075073,
          6588.606462,
          9064.618618,
          8211.34092,
          5761.401538,
          3923.407178,
          8542.019129,
          6885.723977,
          19692.91262,
          13141.31969,
          7135.98755,
          13629.1104,
          100,
          6392.211408,
          14438.24233,
          9911.037592,
          10279.91264,
          6478.156506,
          3912.385616,
          3942.76762,
          4658.41454,
          11380.09288,
          7761.848528,
          8276.644566,
          10814.57915,
          9119.791422,
          12203.48778,
          2524.992105,
          9725.549901,
          12035.37079,
          10263.14899,
          8110.946984,
          9592.433147,
          9877.169366,
          10858.02526,
          8837.654857,
          8120.204455,
          5933.177726,
          9072.063059,
          7839.414396,
          4931.56016,
          15149.03426,
          11164.52652,
          6769.181833,
          4362.720324,
          12989.36784,
          6596.01369,
          11561.07365,
          9141.668545,
          10769.75059,
          14297.25366,
          10373.00856,
          16978.52745,
          8769.290288,
          8611.468093,
          893.2353408,
          594.8049491,
          6924.106833,
          10711.44472,
          10072.48298,
          9831.184792,
          13308.87932,
          6736.75168,
          6995.902524,
          12301.45679,
          10611.60686,
          14013.03451,
          9391.341628
         ],
         "xaxis": "x",
         "y": [
          35321.45877,
          45115.52566,
          42925.70921,
          67422.36313,
          55915.46248,
          56611.99784,
          28925.70549,
          47434.98265,
          48013.6141,
          38189.50601,
          59045.51309,
          42288.81046,
          28700.0334,
          49258.87571,
          49510.03356,
          53017.26723,
          41814.72067,
          43901.71244,
          44633.99241,
          54827.52403,
          51130.95379,
          43402.31525,
          47240.86004,
          46635.49432,
          45078.40193,
          44387.58412,
          37161.55393,
          49091.97185,
          58350.31809,
          43994.35972,
          17584.56963,
          44650.36073,
          66363.89316,
          53489.46214,
          39810.34817,
          51612.14311,
          38978.67458,
          10092.22509,
          35928.52404,
          54823.19221,
          45805.67186,
          41567.47033,
          28031.20985,
          27815.73813,
          68678.4352,
          68925.09447,
          34215.7615,
          37843.46619,
          37883.24231,
          48734.35708,
          27187.23914,
          63738.39065,
          48266.75516,
          46381.13111,
          31978.9799,
          48100.29052,
          47380.91224,
          41425.00116,
          38147.81018,
          32737.80177,
          37348.13737,
          47483.85316,
          49730.53339,
          40093.61981,
          42297.5062,
          52954.93121,
          48104.11184,
          43680.91327,
          52707.96816,
          49392.8897,
          30841.00154,
          49373.37555,
          41903.65171,
          45058.8969,
          52991.52667,
          50958.08115,
          41357.17897,
          44434.71917,
          38502.42392,
          41221.24918,
          38399.46139,
          41456.68097,
          30394.82494,
          42384.05128,
          39002.0771,
          19553.2739,
          45167.32542,
          36019.9556,
          50937.93844,
          12895.71468,
          38955.21919,
          51221.04249,
          25971.95673,
          60670.33672,
          54075.12064,
          40004.87142,
          61593.52058,
          39503.38829,
          52474.71839,
          42187.6828,
          57441.44414,
          22681.71667,
          33640.73697,
          31540.77868,
          60461.24268,
          45738.3343,
          34803.82395,
          34642.6024,
          27586.71854,
          54973.02495,
          49142.51174,
          58840.53964,
          57306.32866,
          51941.6756,
          30240.60975,
          67120.89878,
          42408.02625,
          41451.71843,
          42592.88647,
          34521.17618,
          42213.69644,
          41913.53713,
          59416.18101,
          51402.61506,
          54755.42038,
          47143.44008,
          64391.68906,
          37252.55194,
          52665.36511,
          44001.20706,
          51551.67997,
          38243.66481,
          39766.64804,
          40077.57289,
          33131.52734,
          48622.66097,
          47693.23482,
          39410.4616,
          33428.40183,
          32700.27871,
          62864.43011,
          29425.83001,
          44418.60955,
          36645.5609,
          53655.53859,
          45977.12502,
          38504.39444,
          47935.9394,
          60222.22672,
          38930.55234,
          27810.21814,
          47604.34591,
          42356.6895,
          31300.54347,
          42369.64247,
          31837.22537,
          26499.31418,
          38172.83602,
          39433.40631,
          37714.31659,
          57125.41541,
          46453.34819,
          43855.06077,
          55592.70383,
          42484.02283,
          40879.19107,
          20653.21409,
          35438.80549,
          36112.79346,
          38182.30465,
          41026.02421,
          27889.95197,
          43724.4896,
          57430.76903,
          41104.07108,
          49050.85378,
          41265.52929,
          64545.16339,
          29052.09521,
          30719.8156,
          38763.11306,
          39331.20127,
          32608.45468,
          58045.56257,
          54387.27727,
          36638.20688,
          39522.13129,
          42978.34626,
          60865.76396,
          46380.44732,
          56579.90338,
          42774.35579,
          37879.65385,
          45208.42539,
          56229.4127,
          50455.11935,
          49721.31082,
          31696.99679,
          49220.0218,
          46188.83514,
          36086.93161,
          43264.04965,
          40660.38317,
          51683.60859,
          44525.02085,
          48518.90163,
          45805.30588,
          54850.38742,
          32478.44758,
          42209.28948,
          55125.93237,
          47984.42062,
          43405.89086,
          44577.44829,
          37744.54285,
          47805.25605,
          44846.68557,
          46643.26581,
          56563.98675,
          41673.44617,
          61118.46947,
          37303.56701,
          46892.26617,
          56457.74038,
          45509.69732,
          27625.44144,
          46389.50237,
          29002.05665,
          51355.7106,
          42011.19965,
          52654.40455,
          44432.71747,
          46054.60253,
          58235.41454,
          42990.29255,
          50702.18103,
          47009.57741,
          49399.97041,
          42997.16761,
          44434.98419,
          46325.50959,
          46846.7305,
          56499.10202,
          42773.75905,
          52313.98392,
          34139.6373,
          60763.24731,
          66158.69494,
          31215.6421,
          46135.27233,
          56973.18105,
          24184.07443,
          49079.61942,
          37093.92033,
          43401.56612,
          29092.1311,
          48349.16457,
          33261.00057,
          41327.16554,
          49336.11628,
          51405.55229,
          31249.98803,
          43598.96993,
          48300.02057,
          54013.47595,
          38674.66038,
          37076.82508,
          37947.85125,
          41320.07256,
          66888.93694,
          12536.93842,
          39549.13039,
          52709.08196,
          53502.97742,
          52116.90791,
          38705.65839,
          48025.02542,
          59483.91183,
          35911.64559,
          41034.28343,
          51730.17434,
          53021.86074,
          32828.03477,
          29417.64694,
          57461.51158,
          50441.62427,
          41575.34739,
          46412.47781,
          47610.11718,
          70878.29664,
          55543.38497,
          53848.7555,
          39904.81613,
          44736.41097,
          46937.17422,
          28440.81268,
          38148.00163,
          42747.53925,
          29670.83337,
          63038.20422,
          63248.76188,
          42321.56548,
          44463.30502,
          67092.23276,
          22091.11839,
          40022.17406,
          56071.61377,
          49442.12107,
          42497.72862,
          37084.77621,
          51866.48719,
          35716.31133,
          39892.93343,
          35781.16156,
          42866.21274,
          80000,
          60526.97788,
          59758.73247,
          39606.24598,
          58641.71051,
          52983.89411,
          50666.88173,
          59625.02618,
          22630.25982,
          41137.89459,
          53496.48183,
          36543.93642,
          43503.97349,
          31146.71078,
          31526.04931,
          31083.70271,
          45366.35963,
          25252.93221,
          39888.59789,
          52240.72866,
          39911.6116,
          45857.75365,
          30826.10903,
          39422.79389,
          34678.83226,
          23517.91983,
          28733.68779,
          59096.26978,
          50188.86612,
          35659.12237,
          46398.35204,
          32291.18978,
          49079.29461,
          49348.88394,
          41427.59797,
          24221.99937,
          44424.07681,
          60390.06616,
          42793.9932,
          46935.72774,
          58667.06865,
          38042.80065,
          39270.57909,
          54606.18769,
          39083.94268,
          47984.12043,
          46082.80993,
          30964.07804,
          35726.95299,
          49065.1634,
          48955.85816,
          37183.10293,
          46710.52519,
          52889.56257,
          29754.66271,
          60960.83428,
          39975.43302,
          38545.80328,
          56764.44728,
          63079.84329,
          55700.83389,
          36367.18452,
          52477.83479,
          50296.67496,
          37259.84386,
          47715.96049,
          29540.87013,
          60567.18837,
          36125.48846,
          57303.87131,
          51922.07691,
          35848.82935,
          42704.3221,
          55174.98946,
          26599.90843,
          53993.44322,
          47970.76767,
          43641.65727,
          41679.7929,
          63140.05082,
          30757.65726,
          65592.22012,
          37871.7082,
          42919.5196,
          22599.45863,
          70598.96768,
          43242.58224,
          38138.57511,
          30419.8,
          63868.94051,
          45112.94547,
          44361.87507,
          19525.29827,
          49991.60697,
          61731.71426,
          41769.38288,
          46402.53583,
          37376.63439,
          33766.6413,
          30667.60927,
          52056.41478,
          30736.5798,
          39439.45349,
          38174.87433,
          40589.8625,
          62028.71192,
          48465.27211,
          40095.0498,
          49568.47685,
          31408.62631,
          47719.47741,
          35784.42411,
          42905.53815,
          48516.84335,
          45593.6849,
          32061.6467,
          32208.37522,
          35475.00344,
          29519.56184,
          55420.56668,
          42139.64528,
          50539.90169,
          34922.42846,
          43898.2733,
          39135.03023,
          41147.46679,
          24134.59205,
          42705.11311,
          38901.60925,
          28645.39425,
          52150.41786,
          66648.25077,
          42909.27129,
          49248.10595,
          27303.17104,
          47869.82593,
          59984.16361,
          45271.46081,
          9000,
          46012.10616,
          32967.20191,
          48785.15839,
          45824.5656,
          40102.11417,
          35457.1486,
          29556.7932,
          38243.06228,
          44430.63323,
          51046.42226,
          52570.36517,
          61404.22578,
          28463.64326,
          27586.20078,
          47979.48549,
          28164.86039,
          69669.47402,
          48052.65091,
          37364.23474,
          44500.81936,
          35139.24793,
          55167.37361,
          48383.69071,
          35823.55471,
          36517.70996,
          53110.88052,
          53049.44567,
          21471.11367,
          45015.67953,
          55377.87697,
          56510.13294,
          47443.74443,
          41489.64123,
          32553.53423,
          41984.62412,
          59538.40327,
          41352.47071,
          52785.16947,
          60117.67886,
          47760.66427,
          64188.26862,
          48901.44342,
          31491.41457,
          64147.28888,
          45442.15353,
          45107.22566
         ],
         "yaxis": "y"
        }
       ],
       "layout": {
        "coloraxis": {
         "colorbar": {
          "title": {
           "text": "Gender"
          }
         },
         "colorscale": [
          [
           0,
           "#0d0887"
          ],
          [
           0.1111111111111111,
           "#46039f"
          ],
          [
           0.2222222222222222,
           "#7201a8"
          ],
          [
           0.3333333333333333,
           "#9c179e"
          ],
          [
           0.4444444444444444,
           "#bd3786"
          ],
          [
           0.5555555555555556,
           "#d8576b"
          ],
          [
           0.6666666666666666,
           "#ed7953"
          ],
          [
           0.7777777777777778,
           "#fb9f3a"
          ],
          [
           0.8888888888888888,
           "#fdca26"
          ],
          [
           1,
           "#f0f921"
          ]
         ]
        },
        "legend": {
         "tracegroupgap": 0
        },
        "margin": {
         "t": 60
        },
        "template": {
         "data": {
          "bar": [
           {
            "error_x": {
             "color": "#2a3f5f"
            },
            "error_y": {
             "color": "#2a3f5f"
            },
            "marker": {
             "line": {
              "color": "#E5ECF6",
              "width": 0.5
             },
             "pattern": {
              "fillmode": "overlay",
              "size": 10,
              "solidity": 0.2
             }
            },
            "type": "bar"
           }
          ],
          "barpolar": [
           {
            "marker": {
             "line": {
              "color": "#E5ECF6",
              "width": 0.5
             },
             "pattern": {
              "fillmode": "overlay",
              "size": 10,
              "solidity": 0.2
             }
            },
            "type": "barpolar"
           }
          ],
          "carpet": [
           {
            "aaxis": {
             "endlinecolor": "#2a3f5f",
             "gridcolor": "white",
             "linecolor": "white",
             "minorgridcolor": "white",
             "startlinecolor": "#2a3f5f"
            },
            "baxis": {
             "endlinecolor": "#2a3f5f",
             "gridcolor": "white",
             "linecolor": "white",
             "minorgridcolor": "white",
             "startlinecolor": "#2a3f5f"
            },
            "type": "carpet"
           }
          ],
          "choropleth": [
           {
            "colorbar": {
             "outlinewidth": 0,
             "ticks": ""
            },
            "type": "choropleth"
           }
          ],
          "contour": [
           {
            "colorbar": {
             "outlinewidth": 0,
             "ticks": ""
            },
            "colorscale": [
             [
              0,
              "#0d0887"
             ],
             [
              0.1111111111111111,
              "#46039f"
             ],
             [
              0.2222222222222222,
              "#7201a8"
             ],
             [
              0.3333333333333333,
              "#9c179e"
             ],
             [
              0.4444444444444444,
              "#bd3786"
             ],
             [
              0.5555555555555556,
              "#d8576b"
             ],
             [
              0.6666666666666666,
              "#ed7953"
             ],
             [
              0.7777777777777778,
              "#fb9f3a"
             ],
             [
              0.8888888888888888,
              "#fdca26"
             ],
             [
              1,
              "#f0f921"
             ]
            ],
            "type": "contour"
           }
          ],
          "contourcarpet": [
           {
            "colorbar": {
             "outlinewidth": 0,
             "ticks": ""
            },
            "type": "contourcarpet"
           }
          ],
          "heatmap": [
           {
            "colorbar": {
             "outlinewidth": 0,
             "ticks": ""
            },
            "colorscale": [
             [
              0,
              "#0d0887"
             ],
             [
              0.1111111111111111,
              "#46039f"
             ],
             [
              0.2222222222222222,
              "#7201a8"
             ],
             [
              0.3333333333333333,
              "#9c179e"
             ],
             [
              0.4444444444444444,
              "#bd3786"
             ],
             [
              0.5555555555555556,
              "#d8576b"
             ],
             [
              0.6666666666666666,
              "#ed7953"
             ],
             [
              0.7777777777777778,
              "#fb9f3a"
             ],
             [
              0.8888888888888888,
              "#fdca26"
             ],
             [
              1,
              "#f0f921"
             ]
            ],
            "type": "heatmap"
           }
          ],
          "heatmapgl": [
           {
            "colorbar": {
             "outlinewidth": 0,
             "ticks": ""
            },
            "colorscale": [
             [
              0,
              "#0d0887"
             ],
             [
              0.1111111111111111,
              "#46039f"
             ],
             [
              0.2222222222222222,
              "#7201a8"
             ],
             [
              0.3333333333333333,
              "#9c179e"
             ],
             [
              0.4444444444444444,
              "#bd3786"
             ],
             [
              0.5555555555555556,
              "#d8576b"
             ],
             [
              0.6666666666666666,
              "#ed7953"
             ],
             [
              0.7777777777777778,
              "#fb9f3a"
             ],
             [
              0.8888888888888888,
              "#fdca26"
             ],
             [
              1,
              "#f0f921"
             ]
            ],
            "type": "heatmapgl"
           }
          ],
          "histogram": [
           {
            "marker": {
             "pattern": {
              "fillmode": "overlay",
              "size": 10,
              "solidity": 0.2
             }
            },
            "type": "histogram"
           }
          ],
          "histogram2d": [
           {
            "colorbar": {
             "outlinewidth": 0,
             "ticks": ""
            },
            "colorscale": [
             [
              0,
              "#0d0887"
             ],
             [
              0.1111111111111111,
              "#46039f"
             ],
             [
              0.2222222222222222,
              "#7201a8"
             ],
             [
              0.3333333333333333,
              "#9c179e"
             ],
             [
              0.4444444444444444,
              "#bd3786"
             ],
             [
              0.5555555555555556,
              "#d8576b"
             ],
             [
              0.6666666666666666,
              "#ed7953"
             ],
             [
              0.7777777777777778,
              "#fb9f3a"
             ],
             [
              0.8888888888888888,
              "#fdca26"
             ],
             [
              1,
              "#f0f921"
             ]
            ],
            "type": "histogram2d"
           }
          ],
          "histogram2dcontour": [
           {
            "colorbar": {
             "outlinewidth": 0,
             "ticks": ""
            },
            "colorscale": [
             [
              0,
              "#0d0887"
             ],
             [
              0.1111111111111111,
              "#46039f"
             ],
             [
              0.2222222222222222,
              "#7201a8"
             ],
             [
              0.3333333333333333,
              "#9c179e"
             ],
             [
              0.4444444444444444,
              "#bd3786"
             ],
             [
              0.5555555555555556,
              "#d8576b"
             ],
             [
              0.6666666666666666,
              "#ed7953"
             ],
             [
              0.7777777777777778,
              "#fb9f3a"
             ],
             [
              0.8888888888888888,
              "#fdca26"
             ],
             [
              1,
              "#f0f921"
             ]
            ],
            "type": "histogram2dcontour"
           }
          ],
          "mesh3d": [
           {
            "colorbar": {
             "outlinewidth": 0,
             "ticks": ""
            },
            "type": "mesh3d"
           }
          ],
          "parcoords": [
           {
            "line": {
             "colorbar": {
              "outlinewidth": 0,
              "ticks": ""
             }
            },
            "type": "parcoords"
           }
          ],
          "pie": [
           {
            "automargin": true,
            "type": "pie"
           }
          ],
          "scatter": [
           {
            "fillpattern": {
             "fillmode": "overlay",
             "size": 10,
             "solidity": 0.2
            },
            "type": "scatter"
           }
          ],
          "scatter3d": [
           {
            "line": {
             "colorbar": {
              "outlinewidth": 0,
              "ticks": ""
             }
            },
            "marker": {
             "colorbar": {
              "outlinewidth": 0,
              "ticks": ""
             }
            },
            "type": "scatter3d"
           }
          ],
          "scattercarpet": [
           {
            "marker": {
             "colorbar": {
              "outlinewidth": 0,
              "ticks": ""
             }
            },
            "type": "scattercarpet"
           }
          ],
          "scattergeo": [
           {
            "marker": {
             "colorbar": {
              "outlinewidth": 0,
              "ticks": ""
             }
            },
            "type": "scattergeo"
           }
          ],
          "scattergl": [
           {
            "marker": {
             "colorbar": {
              "outlinewidth": 0,
              "ticks": ""
             }
            },
            "type": "scattergl"
           }
          ],
          "scattermapbox": [
           {
            "marker": {
             "colorbar": {
              "outlinewidth": 0,
              "ticks": ""
             }
            },
            "type": "scattermapbox"
           }
          ],
          "scatterpolar": [
           {
            "marker": {
             "colorbar": {
              "outlinewidth": 0,
              "ticks": ""
             }
            },
            "type": "scatterpolar"
           }
          ],
          "scatterpolargl": [
           {
            "marker": {
             "colorbar": {
              "outlinewidth": 0,
              "ticks": ""
             }
            },
            "type": "scatterpolargl"
           }
          ],
          "scatterternary": [
           {
            "marker": {
             "colorbar": {
              "outlinewidth": 0,
              "ticks": ""
             }
            },
            "type": "scatterternary"
           }
          ],
          "surface": [
           {
            "colorbar": {
             "outlinewidth": 0,
             "ticks": ""
            },
            "colorscale": [
             [
              0,
              "#0d0887"
             ],
             [
              0.1111111111111111,
              "#46039f"
             ],
             [
              0.2222222222222222,
              "#7201a8"
             ],
             [
              0.3333333333333333,
              "#9c179e"
             ],
             [
              0.4444444444444444,
              "#bd3786"
             ],
             [
              0.5555555555555556,
              "#d8576b"
             ],
             [
              0.6666666666666666,
              "#ed7953"
             ],
             [
              0.7777777777777778,
              "#fb9f3a"
             ],
             [
              0.8888888888888888,
              "#fdca26"
             ],
             [
              1,
              "#f0f921"
             ]
            ],
            "type": "surface"
           }
          ],
          "table": [
           {
            "cells": {
             "fill": {
              "color": "#EBF0F8"
             },
             "line": {
              "color": "white"
             }
            },
            "header": {
             "fill": {
              "color": "#C8D4E3"
             },
             "line": {
              "color": "white"
             }
            },
            "type": "table"
           }
          ]
         },
         "layout": {
          "annotationdefaults": {
           "arrowcolor": "#2a3f5f",
           "arrowhead": 0,
           "arrowwidth": 1
          },
          "autotypenumbers": "strict",
          "coloraxis": {
           "colorbar": {
            "outlinewidth": 0,
            "ticks": ""
           }
          },
          "colorscale": {
           "diverging": [
            [
             0,
             "#8e0152"
            ],
            [
             0.1,
             "#c51b7d"
            ],
            [
             0.2,
             "#de77ae"
            ],
            [
             0.3,
             "#f1b6da"
            ],
            [
             0.4,
             "#fde0ef"
            ],
            [
             0.5,
             "#f7f7f7"
            ],
            [
             0.6,
             "#e6f5d0"
            ],
            [
             0.7,
             "#b8e186"
            ],
            [
             0.8,
             "#7fbc41"
            ],
            [
             0.9,
             "#4d9221"
            ],
            [
             1,
             "#276419"
            ]
           ],
           "sequential": [
            [
             0,
             "#0d0887"
            ],
            [
             0.1111111111111111,
             "#46039f"
            ],
            [
             0.2222222222222222,
             "#7201a8"
            ],
            [
             0.3333333333333333,
             "#9c179e"
            ],
            [
             0.4444444444444444,
             "#bd3786"
            ],
            [
             0.5555555555555556,
             "#d8576b"
            ],
            [
             0.6666666666666666,
             "#ed7953"
            ],
            [
             0.7777777777777778,
             "#fb9f3a"
            ],
            [
             0.8888888888888888,
             "#fdca26"
            ],
            [
             1,
             "#f0f921"
            ]
           ],
           "sequentialminus": [
            [
             0,
             "#0d0887"
            ],
            [
             0.1111111111111111,
             "#46039f"
            ],
            [
             0.2222222222222222,
             "#7201a8"
            ],
            [
             0.3333333333333333,
             "#9c179e"
            ],
            [
             0.4444444444444444,
             "#bd3786"
            ],
            [
             0.5555555555555556,
             "#d8576b"
            ],
            [
             0.6666666666666666,
             "#ed7953"
            ],
            [
             0.7777777777777778,
             "#fb9f3a"
            ],
            [
             0.8888888888888888,
             "#fdca26"
            ],
            [
             1,
             "#f0f921"
            ]
           ]
          },
          "colorway": [
           "#636efa",
           "#EF553B",
           "#00cc96",
           "#ab63fa",
           "#FFA15A",
           "#19d3f3",
           "#FF6692",
           "#B6E880",
           "#FF97FF",
           "#FECB52"
          ],
          "font": {
           "color": "#2a3f5f"
          },
          "geo": {
           "bgcolor": "white",
           "lakecolor": "white",
           "landcolor": "#E5ECF6",
           "showlakes": true,
           "showland": true,
           "subunitcolor": "white"
          },
          "hoverlabel": {
           "align": "left"
          },
          "hovermode": "closest",
          "mapbox": {
           "style": "light"
          },
          "paper_bgcolor": "white",
          "plot_bgcolor": "#E5ECF6",
          "polar": {
           "angularaxis": {
            "gridcolor": "white",
            "linecolor": "white",
            "ticks": ""
           },
           "bgcolor": "#E5ECF6",
           "radialaxis": {
            "gridcolor": "white",
            "linecolor": "white",
            "ticks": ""
           }
          },
          "scene": {
           "xaxis": {
            "backgroundcolor": "#E5ECF6",
            "gridcolor": "white",
            "gridwidth": 2,
            "linecolor": "white",
            "showbackground": true,
            "ticks": "",
            "zerolinecolor": "white"
           },
           "yaxis": {
            "backgroundcolor": "#E5ECF6",
            "gridcolor": "white",
            "gridwidth": 2,
            "linecolor": "white",
            "showbackground": true,
            "ticks": "",
            "zerolinecolor": "white"
           },
           "zaxis": {
            "backgroundcolor": "#E5ECF6",
            "gridcolor": "white",
            "gridwidth": 2,
            "linecolor": "white",
            "showbackground": true,
            "ticks": "",
            "zerolinecolor": "white"
           }
          },
          "shapedefaults": {
           "line": {
            "color": "#2a3f5f"
           }
          },
          "ternary": {
           "aaxis": {
            "gridcolor": "white",
            "linecolor": "white",
            "ticks": ""
           },
           "baxis": {
            "gridcolor": "white",
            "linecolor": "white",
            "ticks": ""
           },
           "bgcolor": "#E5ECF6",
           "caxis": {
            "gridcolor": "white",
            "linecolor": "white",
            "ticks": ""
           }
          },
          "title": {
           "x": 0.05
          },
          "xaxis": {
           "automargin": true,
           "gridcolor": "white",
           "linecolor": "white",
           "ticks": "",
           "title": {
            "standoff": 15
           },
           "zerolinecolor": "white",
           "zerolinewidth": 2
          },
          "yaxis": {
           "automargin": true,
           "gridcolor": "white",
           "linecolor": "white",
           "ticks": "",
           "title": {
            "standoff": 15
           },
           "zerolinecolor": "white",
           "zerolinewidth": 2
          }
         }
        },
        "xaxis": {
         "anchor": "y",
         "domain": [
          0,
          1
         ],
         "title": {
          "text": "Credit Card Debt"
         }
        },
        "yaxis": {
         "anchor": "x",
         "domain": [
          0,
          1
         ],
         "title": {
          "text": "Car Purchase Amount"
         }
        }
       }
      },
      "text/html": [
       "<div>                            <div id=\"13e81b12-224c-4da0-acb0-84a8fc92d51c\" class=\"plotly-graph-div\" style=\"height:525px; width:100%;\"></div>            <script type=\"text/javascript\">                require([\"plotly\"], function(Plotly) {                    window.PLOTLYENV=window.PLOTLYENV || {};                                    if (document.getElementById(\"13e81b12-224c-4da0-acb0-84a8fc92d51c\")) {                    Plotly.newPlot(                        \"13e81b12-224c-4da0-acb0-84a8fc92d51c\",                        [{\"hovertemplate\":\"Credit Card Debt=%{x}<br>Car Purchase Amount=%{y}<br>Gender=%{marker.color}<extra></extra>\",\"legendgroup\":\"\",\"marker\":{\"color\":[0,0,1,1,1,1,1,1,0,1,1,1,0,0,0,1,0,1,1,0,1,0,1,1,0,0,0,0,1,1,1,1,1,0,0,0,1,1,0,1,0,1,0,1,1,0,1,0,1,0,1,0,0,1,1,0,1,1,1,1,1,0,0,0,0,0,0,1,1,1,1,0,0,1,1,0,1,1,0,0,1,1,1,0,1,1,1,0,1,1,1,1,1,0,1,1,0,1,0,0,1,1,1,0,0,0,0,1,1,1,1,1,0,0,1,1,1,0,0,0,1,0,1,0,0,0,0,0,1,0,1,1,0,0,0,0,0,1,1,1,0,1,0,1,0,0,1,0,1,1,1,1,0,0,1,0,0,0,0,0,1,1,0,0,0,1,1,1,0,1,1,1,0,1,0,0,1,0,1,1,1,0,1,1,0,1,0,0,1,1,1,1,0,0,0,0,0,0,1,1,1,0,1,0,0,1,1,0,0,0,0,0,0,1,1,0,1,1,0,0,1,1,0,1,1,1,1,0,1,0,1,0,1,1,1,1,1,0,0,1,0,1,0,1,1,0,1,0,1,0,0,0,1,1,0,1,1,1,1,0,0,0,1,1,0,0,1,0,0,0,0,0,1,0,1,1,1,0,0,0,0,0,0,1,1,1,0,0,0,0,0,1,1,1,1,1,1,0,0,1,0,0,0,1,1,1,0,1,0,0,1,0,0,1,0,1,0,1,1,1,0,1,0,0,0,0,0,0,1,1,0,1,0,1,0,0,0,1,0,1,1,1,0,0,1,1,0,0,0,1,0,0,1,0,0,1,1,1,0,1,1,0,1,1,1,0,1,1,1,0,1,0,1,0,1,1,0,0,0,1,0,0,1,1,0,1,0,1,1,0,1,1,1,1,0,1,0,0,0,0,1,0,0,1,0,0,0,1,0,1,0,1,1,0,0,1,1,0,1,1,0,0,1,0,1,0,1,0,0,0,0,0,1,1,1,1,0,0,0,0,1,0,1,0,1,0,1,1,1,0,1,1,0,0,1,1,0,1,1,0,0,1,0,1,0,0,0,1,0,0,0,0,1,1,0,1,0,1,1,0,0,1,1,0,0,1,1,0,0,0,1,1,0,0,0,0,1,1,1,1],\"coloraxis\":\"coloraxis\",\"symbol\":\"circle\"},\"mode\":\"markers\",\"name\":\"\",\"orientation\":\"v\",\"showlegend\":false,\"x\":[11609.38091,9572.957136,11160.35506,14426.16485,5358.712177,14179.47244,5958.460188,10985.69656,3440.823799,12884.07868,8270.707359,10014.96929,10218.32092,9466.995128,10597.63814,11326.03434,11495.54999,12514.52029,7377.820914,13272.94647,11878.03779,10905.36628,7698.552234,11960.85377,8125.598993,17805.57607,13102.15805,14270.00731,17452.92179,12522.94052,9371.511071,13417.02027,8092.475103,11417.30952,7988.753685,12252.73058,7405.534271,10917.14094,8838.759509,4499.921096,9183.327621,12491.01273,13338.32852,10816.8855,14245.53319,10155.34095,11675.28496,2230.096344,7094.896557,7915.758178,11023.00268,12378.54089,7813.602657,11216.88676,1851.979839,6998.46562,7772.444847,11331.20447,7592.019748,9976.434857,7829.565502,4225.328117,9842.842611,15189.08845,9046.182396,6841.540577,11785.87919,8634.376791,10886.91711,13685.88702,11350.49408,5627.803654,10676.21884,4630.544424,13000.41369,15791.61176,16732.30638,8740.723093,10059.55406,861.8166529,6147.918843,9522.576495,9724.031647,5449.471997,9565.830875,9719.192898,11024.02643,11041.17891,4204.920492,14261.80773,8244.470226,9871.403591,13865.09055,10562.90377,11794.73914,11030.2654,13872.5667,8870.714301,5831.118245,16767.2636,5189.083564,11811.25253,7357.787011,14562.64194,10614.85449,6280.929547,12416.84845,7335.524826,10366.50326,9010.648633,9656.806156,12887.54899,1696.989764,11211.72016,7903.103591,13258.46631,6039.594519,12719.64415,14250.52398,10008.76797,8493.098575,12416.79083,4820.839445,7248.54142,7329.22851,2620.079459,10077.49592,6206.922109,8458.749819,13860.43821,18361.24915,8088.344365,12507.19736,14871.36126,9026.061543,14720.53399,9851.578109,7583.753853,12348.67783,6062.60136,14392.28833,6994.617316,12860.65824,4397.947571,6181.970908,15164.87506,12296.34158,12758.89583,10799.1381,15796.31838,13686.96935,11347.62967,8132.073716,9396.008371,14862.84011,5088.239017,5316.010491,6940.056371,7594.363993,10992.33383,14938.50613,9851.689538,13122.45694,14421.48298,7146.192574,8707.511532,12071.41684,13167.65763,921.5340234,13923.96207,12557.08133,11505.89906,7917.65097,7500.778414,13962.95284,4701.316175,4980.668295,12413.0319,10221.15388,9837.222432,8628.434025,11417.46257,6904.420412,11431.22966,9810.75269,7171.466112,5205.008323,9683.735879,5817.153854,2418.86434,9181.06743,12026.57975,6445.784981,10027.53449,12438.85648,9347.50353,5969.666602,15467.78745,9465.090098,3657.863218,8920.385015,7793.073201,11544.93385,14817.70896,15353.25774,11302.88277,16305.78907,8491.586154,8884.11069,9686.119304,11672.72382,3247.887523,11207.01556,10743.793,12998.47232,8737.20319,8728.916803,14088.90642,9832.05731,10756.60888,13444.89631,20000.0,12066.26571,13501.92659,10835.25736,4295.225339,9624.908869,9631.974905,10813.75655,13421.36821,5011.615145,6922.152838,16127.56619,9536.899689,17462.07506,14709.65824,6810.555606,4198.839128,7437.211028,632.0528524,8233.280719,9242.775995,9653.26498,9399.342975,7903.33495,10461.98276,5025.365518,4684.556433,5699.184814,9823.218967,10474.44187,12024.48457,7039.540023,18693.14652,15436.79968,7631.687821,5614.004976,6887.248301,6130.305181,12024.72511,13658.34201,5827.820346,14822.79645,10128.76114,7787.204492,13580.87747,9046.18109,11398.82486,11212.43791,9644.41026,8570.611562,5055.43571,11315.59626,8501.49728,9822.426192,6354.833826,14300.12614,6913.05683,8907.661779,8774.069514,12848.20061,8732.143355,6932.950306,5841.612044,11498.03993,4975.144559,3932.838165,6619.929677,3066.939924,13701.79986,640.045378,7949.463649,9691.23462,6988.652757,13851.11162,12186.02793,3331.304747,10881.90102,10888.93494,7525.252104,1065.607589,10877.69223,8253.583457,10515.28135,7234.672092,6052.844775,8632.699007,9246.813159,12710.00309,11033.16277,5235.7599,14309.21115,11492.74174,11932.73881,7880.423663,9874.075327,11132.39299,9317.22195,6718.857016,8767.783547,11148.10325,7404.080751,12788.81573,9344.32377,7666.5303,11554.2723,10394.57246,11312.51035,8828.164449,9245.466786,7514.393035,8511.814921,10755.50842,9050.284083,11633.95265,12254.53943,6354.372629,8851.564939,8527.034281,11397.68601,5397.031602,4679.441732,5404.397644,7765.975483,14435.74305,7557.657205,8203.56263,7946.435929,3730.11972,13224.45167,15283.41752,6515.336778,9560.448204,11521.6189,12124.82386,8765.624109,15647.35449,9625.399586,11054.27478,9384.067625,10359.17579,10274.13558,10693.88704,11518.29175,15458.68867,9596.513091,7275.314728,9514.645028,9848.997857,10128.1151,13148.85597,2799.719601,12664.32052,9366.027561,13851.92122,2689.317953,8511.835275,16146.77016,11894.4244,4421.153379,7009.186038,9221.265417,7925.059589,10342.60917,6139.387823,9611.317626,10340.30041,7094.827,11620.1079,7840.293189,3854.733177,11652.2729,10175.74457,11715.3714,11211.99502,9913.194941,3093.707686,10462.35581,12967.284,8133.45931,8001.644302,11863.06428,8033.550461,10188.68685,17870.63765,6332.2019,17142.41332,4981.269146,5575.323416,8061.968487,10916.85532,12087.38116,12878.54582,16449.0665,15666.43155,12616.45622,1768.874438,10449.61818,1726.809885,11602.74297,7122.163863,9258.181529,7515.152476,13786.14942,9057.600508,7221.667169,8009.719809,6512.71102,10827.1614,8042.386734,10836.41709,7843.402994,8282.075073,6588.606462,9064.618618,8211.34092,5761.401538,3923.407178,8542.019129,6885.723977,19692.91262,13141.31969,7135.98755,13629.1104,100.0,6392.211408,14438.24233,9911.037592,10279.91264,6478.156506,3912.385616,3942.76762,4658.41454,11380.09288,7761.848528,8276.644566,10814.57915,9119.791422,12203.48778,2524.992105,9725.549901,12035.37079,10263.14899,8110.946984,9592.433147,9877.169366,10858.02526,8837.654857,8120.204455,5933.177726,9072.063059,7839.414396,4931.56016,15149.03426,11164.52652,6769.181833,4362.720324,12989.36784,6596.01369,11561.07365,9141.668545,10769.75059,14297.25366,10373.00856,16978.52745,8769.290288,8611.468093,893.2353408,594.8049491,6924.106833,10711.44472,10072.48298,9831.184792,13308.87932,6736.75168,6995.902524,12301.45679,10611.60686,14013.03451,9391.341628],\"xaxis\":\"x\",\"y\":[35321.45877,45115.52566,42925.70921,67422.36313,55915.46248,56611.99784,28925.70549,47434.98265,48013.6141,38189.50601,59045.51309,42288.81046,28700.0334,49258.87571,49510.03356,53017.26723,41814.72067,43901.71244,44633.99241,54827.52403,51130.95379,43402.31525,47240.86004,46635.49432,45078.40193,44387.58412,37161.55393,49091.97185,58350.31809,43994.35972,17584.56963,44650.36073,66363.89316,53489.46214,39810.34817,51612.14311,38978.67458,10092.22509,35928.52404,54823.19221,45805.67186,41567.47033,28031.20985,27815.73813,68678.4352,68925.09447,34215.7615,37843.46619,37883.24231,48734.35708,27187.23914,63738.39065,48266.75516,46381.13111,31978.9799,48100.29052,47380.91224,41425.00116,38147.81018,32737.80177,37348.13737,47483.85316,49730.53339,40093.61981,42297.5062,52954.93121,48104.11184,43680.91327,52707.96816,49392.8897,30841.00154,49373.37555,41903.65171,45058.8969,52991.52667,50958.08115,41357.17897,44434.71917,38502.42392,41221.24918,38399.46139,41456.68097,30394.82494,42384.05128,39002.0771,19553.2739,45167.32542,36019.9556,50937.93844,12895.71468,38955.21919,51221.04249,25971.95673,60670.33672,54075.12064,40004.87142,61593.52058,39503.38829,52474.71839,42187.6828,57441.44414,22681.71667,33640.73697,31540.77868,60461.24268,45738.3343,34803.82395,34642.6024,27586.71854,54973.02495,49142.51174,58840.53964,57306.32866,51941.6756,30240.60975,67120.89878,42408.02625,41451.71843,42592.88647,34521.17618,42213.69644,41913.53713,59416.18101,51402.61506,54755.42038,47143.44008,64391.68906,37252.55194,52665.36511,44001.20706,51551.67997,38243.66481,39766.64804,40077.57289,33131.52734,48622.66097,47693.23482,39410.4616,33428.40183,32700.27871,62864.43011,29425.83001,44418.60955,36645.5609,53655.53859,45977.12502,38504.39444,47935.9394,60222.22672,38930.55234,27810.21814,47604.34591,42356.6895,31300.54347,42369.64247,31837.22537,26499.31418,38172.83602,39433.40631,37714.31659,57125.41541,46453.34819,43855.06077,55592.70383,42484.02283,40879.19107,20653.21409,35438.80549,36112.79346,38182.30465,41026.02421,27889.95197,43724.4896,57430.76903,41104.07108,49050.85378,41265.52929,64545.16339,29052.09521,30719.8156,38763.11306,39331.20127,32608.45468,58045.56257,54387.27727,36638.20688,39522.13129,42978.34626,60865.76396,46380.44732,56579.90338,42774.35579,37879.65385,45208.42539,56229.4127,50455.11935,49721.31082,31696.99679,49220.0218,46188.83514,36086.93161,43264.04965,40660.38317,51683.60859,44525.02085,48518.90163,45805.30588,54850.38742,32478.44758,42209.28948,55125.93237,47984.42062,43405.89086,44577.44829,37744.54285,47805.25605,44846.68557,46643.26581,56563.98675,41673.44617,61118.46947,37303.56701,46892.26617,56457.74038,45509.69732,27625.44144,46389.50237,29002.05665,51355.7106,42011.19965,52654.40455,44432.71747,46054.60253,58235.41454,42990.29255,50702.18103,47009.57741,49399.97041,42997.16761,44434.98419,46325.50959,46846.7305,56499.10202,42773.75905,52313.98392,34139.6373,60763.24731,66158.69494,31215.6421,46135.27233,56973.18105,24184.07443,49079.61942,37093.92033,43401.56612,29092.1311,48349.16457,33261.00057,41327.16554,49336.11628,51405.55229,31249.98803,43598.96993,48300.02057,54013.47595,38674.66038,37076.82508,37947.85125,41320.07256,66888.93694,12536.93842,39549.13039,52709.08196,53502.97742,52116.90791,38705.65839,48025.02542,59483.91183,35911.64559,41034.28343,51730.17434,53021.86074,32828.03477,29417.64694,57461.51158,50441.62427,41575.34739,46412.47781,47610.11718,70878.29664,55543.38497,53848.7555,39904.81613,44736.41097,46937.17422,28440.81268,38148.00163,42747.53925,29670.83337,63038.20422,63248.76188,42321.56548,44463.30502,67092.23276,22091.11839,40022.17406,56071.61377,49442.12107,42497.72862,37084.77621,51866.48719,35716.31133,39892.93343,35781.16156,42866.21274,80000.0,60526.97788,59758.73247,39606.24598,58641.71051,52983.89411,50666.88173,59625.02618,22630.25982,41137.89459,53496.48183,36543.93642,43503.97349,31146.71078,31526.04931,31083.70271,45366.35963,25252.93221,39888.59789,52240.72866,39911.6116,45857.75365,30826.10903,39422.79389,34678.83226,23517.91983,28733.68779,59096.26978,50188.86612,35659.12237,46398.35204,32291.18978,49079.29461,49348.88394,41427.59797,24221.99937,44424.07681,60390.06616,42793.9932,46935.72774,58667.06865,38042.80065,39270.57909,54606.18769,39083.94268,47984.12043,46082.80993,30964.07804,35726.95299,49065.1634,48955.85816,37183.10293,46710.52519,52889.56257,29754.66271,60960.83428,39975.43302,38545.80328,56764.44728,63079.84329,55700.83389,36367.18452,52477.83479,50296.67496,37259.84386,47715.96049,29540.87013,60567.18837,36125.48846,57303.87131,51922.07691,35848.82935,42704.3221,55174.98946,26599.90843,53993.44322,47970.76767,43641.65727,41679.7929,63140.05082,30757.65726,65592.22012,37871.7082,42919.5196,22599.45863,70598.96768,43242.58224,38138.57511,30419.8,63868.94051,45112.94547,44361.87507,19525.29827,49991.60697,61731.71426,41769.38288,46402.53583,37376.63439,33766.6413,30667.60927,52056.41478,30736.5798,39439.45349,38174.87433,40589.8625,62028.71192,48465.27211,40095.0498,49568.47685,31408.62631,47719.47741,35784.42411,42905.53815,48516.84335,45593.6849,32061.6467,32208.37522,35475.00344,29519.56184,55420.56668,42139.64528,50539.90169,34922.42846,43898.2733,39135.03023,41147.46679,24134.59205,42705.11311,38901.60925,28645.39425,52150.41786,66648.25077,42909.27129,49248.10595,27303.17104,47869.82593,59984.16361,45271.46081,9000.0,46012.10616,32967.20191,48785.15839,45824.5656,40102.11417,35457.1486,29556.7932,38243.06228,44430.63323,51046.42226,52570.36517,61404.22578,28463.64326,27586.20078,47979.48549,28164.86039,69669.47402,48052.65091,37364.23474,44500.81936,35139.24793,55167.37361,48383.69071,35823.55471,36517.70996,53110.88052,53049.44567,21471.11367,45015.67953,55377.87697,56510.13294,47443.74443,41489.64123,32553.53423,41984.62412,59538.40327,41352.47071,52785.16947,60117.67886,47760.66427,64188.26862,48901.44342,31491.41457,64147.28888,45442.15353,45107.22566],\"yaxis\":\"y\",\"type\":\"scatter\"}],                        {\"template\":{\"data\":{\"histogram2dcontour\":[{\"type\":\"histogram2dcontour\",\"colorbar\":{\"outlinewidth\":0,\"ticks\":\"\"},\"colorscale\":[[0.0,\"#0d0887\"],[0.1111111111111111,\"#46039f\"],[0.2222222222222222,\"#7201a8\"],[0.3333333333333333,\"#9c179e\"],[0.4444444444444444,\"#bd3786\"],[0.5555555555555556,\"#d8576b\"],[0.6666666666666666,\"#ed7953\"],[0.7777777777777778,\"#fb9f3a\"],[0.8888888888888888,\"#fdca26\"],[1.0,\"#f0f921\"]]}],\"choropleth\":[{\"type\":\"choropleth\",\"colorbar\":{\"outlinewidth\":0,\"ticks\":\"\"}}],\"histogram2d\":[{\"type\":\"histogram2d\",\"colorbar\":{\"outlinewidth\":0,\"ticks\":\"\"},\"colorscale\":[[0.0,\"#0d0887\"],[0.1111111111111111,\"#46039f\"],[0.2222222222222222,\"#7201a8\"],[0.3333333333333333,\"#9c179e\"],[0.4444444444444444,\"#bd3786\"],[0.5555555555555556,\"#d8576b\"],[0.6666666666666666,\"#ed7953\"],[0.7777777777777778,\"#fb9f3a\"],[0.8888888888888888,\"#fdca26\"],[1.0,\"#f0f921\"]]}],\"heatmap\":[{\"type\":\"heatmap\",\"colorbar\":{\"outlinewidth\":0,\"ticks\":\"\"},\"colorscale\":[[0.0,\"#0d0887\"],[0.1111111111111111,\"#46039f\"],[0.2222222222222222,\"#7201a8\"],[0.3333333333333333,\"#9c179e\"],[0.4444444444444444,\"#bd3786\"],[0.5555555555555556,\"#d8576b\"],[0.6666666666666666,\"#ed7953\"],[0.7777777777777778,\"#fb9f3a\"],[0.8888888888888888,\"#fdca26\"],[1.0,\"#f0f921\"]]}],\"heatmapgl\":[{\"type\":\"heatmapgl\",\"colorbar\":{\"outlinewidth\":0,\"ticks\":\"\"},\"colorscale\":[[0.0,\"#0d0887\"],[0.1111111111111111,\"#46039f\"],[0.2222222222222222,\"#7201a8\"],[0.3333333333333333,\"#9c179e\"],[0.4444444444444444,\"#bd3786\"],[0.5555555555555556,\"#d8576b\"],[0.6666666666666666,\"#ed7953\"],[0.7777777777777778,\"#fb9f3a\"],[0.8888888888888888,\"#fdca26\"],[1.0,\"#f0f921\"]]}],\"contourcarpet\":[{\"type\":\"contourcarpet\",\"colorbar\":{\"outlinewidth\":0,\"ticks\":\"\"}}],\"contour\":[{\"type\":\"contour\",\"colorbar\":{\"outlinewidth\":0,\"ticks\":\"\"},\"colorscale\":[[0.0,\"#0d0887\"],[0.1111111111111111,\"#46039f\"],[0.2222222222222222,\"#7201a8\"],[0.3333333333333333,\"#9c179e\"],[0.4444444444444444,\"#bd3786\"],[0.5555555555555556,\"#d8576b\"],[0.6666666666666666,\"#ed7953\"],[0.7777777777777778,\"#fb9f3a\"],[0.8888888888888888,\"#fdca26\"],[1.0,\"#f0f921\"]]}],\"surface\":[{\"type\":\"surface\",\"colorbar\":{\"outlinewidth\":0,\"ticks\":\"\"},\"colorscale\":[[0.0,\"#0d0887\"],[0.1111111111111111,\"#46039f\"],[0.2222222222222222,\"#7201a8\"],[0.3333333333333333,\"#9c179e\"],[0.4444444444444444,\"#bd3786\"],[0.5555555555555556,\"#d8576b\"],[0.6666666666666666,\"#ed7953\"],[0.7777777777777778,\"#fb9f3a\"],[0.8888888888888888,\"#fdca26\"],[1.0,\"#f0f921\"]]}],\"mesh3d\":[{\"type\":\"mesh3d\",\"colorbar\":{\"outlinewidth\":0,\"ticks\":\"\"}}],\"scatter\":[{\"fillpattern\":{\"fillmode\":\"overlay\",\"size\":10,\"solidity\":0.2},\"type\":\"scatter\"}],\"parcoords\":[{\"type\":\"parcoords\",\"line\":{\"colorbar\":{\"outlinewidth\":0,\"ticks\":\"\"}}}],\"scatterpolargl\":[{\"type\":\"scatterpolargl\",\"marker\":{\"colorbar\":{\"outlinewidth\":0,\"ticks\":\"\"}}}],\"bar\":[{\"error_x\":{\"color\":\"#2a3f5f\"},\"error_y\":{\"color\":\"#2a3f5f\"},\"marker\":{\"line\":{\"color\":\"#E5ECF6\",\"width\":0.5},\"pattern\":{\"fillmode\":\"overlay\",\"size\":10,\"solidity\":0.2}},\"type\":\"bar\"}],\"scattergeo\":[{\"type\":\"scattergeo\",\"marker\":{\"colorbar\":{\"outlinewidth\":0,\"ticks\":\"\"}}}],\"scatterpolar\":[{\"type\":\"scatterpolar\",\"marker\":{\"colorbar\":{\"outlinewidth\":0,\"ticks\":\"\"}}}],\"histogram\":[{\"marker\":{\"pattern\":{\"fillmode\":\"overlay\",\"size\":10,\"solidity\":0.2}},\"type\":\"histogram\"}],\"scattergl\":[{\"type\":\"scattergl\",\"marker\":{\"colorbar\":{\"outlinewidth\":0,\"ticks\":\"\"}}}],\"scatter3d\":[{\"type\":\"scatter3d\",\"line\":{\"colorbar\":{\"outlinewidth\":0,\"ticks\":\"\"}},\"marker\":{\"colorbar\":{\"outlinewidth\":0,\"ticks\":\"\"}}}],\"scattermapbox\":[{\"type\":\"scattermapbox\",\"marker\":{\"colorbar\":{\"outlinewidth\":0,\"ticks\":\"\"}}}],\"scatterternary\":[{\"type\":\"scatterternary\",\"marker\":{\"colorbar\":{\"outlinewidth\":0,\"ticks\":\"\"}}}],\"scattercarpet\":[{\"type\":\"scattercarpet\",\"marker\":{\"colorbar\":{\"outlinewidth\":0,\"ticks\":\"\"}}}],\"carpet\":[{\"aaxis\":{\"endlinecolor\":\"#2a3f5f\",\"gridcolor\":\"white\",\"linecolor\":\"white\",\"minorgridcolor\":\"white\",\"startlinecolor\":\"#2a3f5f\"},\"baxis\":{\"endlinecolor\":\"#2a3f5f\",\"gridcolor\":\"white\",\"linecolor\":\"white\",\"minorgridcolor\":\"white\",\"startlinecolor\":\"#2a3f5f\"},\"type\":\"carpet\"}],\"table\":[{\"cells\":{\"fill\":{\"color\":\"#EBF0F8\"},\"line\":{\"color\":\"white\"}},\"header\":{\"fill\":{\"color\":\"#C8D4E3\"},\"line\":{\"color\":\"white\"}},\"type\":\"table\"}],\"barpolar\":[{\"marker\":{\"line\":{\"color\":\"#E5ECF6\",\"width\":0.5},\"pattern\":{\"fillmode\":\"overlay\",\"size\":10,\"solidity\":0.2}},\"type\":\"barpolar\"}],\"pie\":[{\"automargin\":true,\"type\":\"pie\"}]},\"layout\":{\"autotypenumbers\":\"strict\",\"colorway\":[\"#636efa\",\"#EF553B\",\"#00cc96\",\"#ab63fa\",\"#FFA15A\",\"#19d3f3\",\"#FF6692\",\"#B6E880\",\"#FF97FF\",\"#FECB52\"],\"font\":{\"color\":\"#2a3f5f\"},\"hovermode\":\"closest\",\"hoverlabel\":{\"align\":\"left\"},\"paper_bgcolor\":\"white\",\"plot_bgcolor\":\"#E5ECF6\",\"polar\":{\"bgcolor\":\"#E5ECF6\",\"angularaxis\":{\"gridcolor\":\"white\",\"linecolor\":\"white\",\"ticks\":\"\"},\"radialaxis\":{\"gridcolor\":\"white\",\"linecolor\":\"white\",\"ticks\":\"\"}},\"ternary\":{\"bgcolor\":\"#E5ECF6\",\"aaxis\":{\"gridcolor\":\"white\",\"linecolor\":\"white\",\"ticks\":\"\"},\"baxis\":{\"gridcolor\":\"white\",\"linecolor\":\"white\",\"ticks\":\"\"},\"caxis\":{\"gridcolor\":\"white\",\"linecolor\":\"white\",\"ticks\":\"\"}},\"coloraxis\":{\"colorbar\":{\"outlinewidth\":0,\"ticks\":\"\"}},\"colorscale\":{\"sequential\":[[0.0,\"#0d0887\"],[0.1111111111111111,\"#46039f\"],[0.2222222222222222,\"#7201a8\"],[0.3333333333333333,\"#9c179e\"],[0.4444444444444444,\"#bd3786\"],[0.5555555555555556,\"#d8576b\"],[0.6666666666666666,\"#ed7953\"],[0.7777777777777778,\"#fb9f3a\"],[0.8888888888888888,\"#fdca26\"],[1.0,\"#f0f921\"]],\"sequentialminus\":[[0.0,\"#0d0887\"],[0.1111111111111111,\"#46039f\"],[0.2222222222222222,\"#7201a8\"],[0.3333333333333333,\"#9c179e\"],[0.4444444444444444,\"#bd3786\"],[0.5555555555555556,\"#d8576b\"],[0.6666666666666666,\"#ed7953\"],[0.7777777777777778,\"#fb9f3a\"],[0.8888888888888888,\"#fdca26\"],[1.0,\"#f0f921\"]],\"diverging\":[[0,\"#8e0152\"],[0.1,\"#c51b7d\"],[0.2,\"#de77ae\"],[0.3,\"#f1b6da\"],[0.4,\"#fde0ef\"],[0.5,\"#f7f7f7\"],[0.6,\"#e6f5d0\"],[0.7,\"#b8e186\"],[0.8,\"#7fbc41\"],[0.9,\"#4d9221\"],[1,\"#276419\"]]},\"xaxis\":{\"gridcolor\":\"white\",\"linecolor\":\"white\",\"ticks\":\"\",\"title\":{\"standoff\":15},\"zerolinecolor\":\"white\",\"automargin\":true,\"zerolinewidth\":2},\"yaxis\":{\"gridcolor\":\"white\",\"linecolor\":\"white\",\"ticks\":\"\",\"title\":{\"standoff\":15},\"zerolinecolor\":\"white\",\"automargin\":true,\"zerolinewidth\":2},\"scene\":{\"xaxis\":{\"backgroundcolor\":\"#E5ECF6\",\"gridcolor\":\"white\",\"linecolor\":\"white\",\"showbackground\":true,\"ticks\":\"\",\"zerolinecolor\":\"white\",\"gridwidth\":2},\"yaxis\":{\"backgroundcolor\":\"#E5ECF6\",\"gridcolor\":\"white\",\"linecolor\":\"white\",\"showbackground\":true,\"ticks\":\"\",\"zerolinecolor\":\"white\",\"gridwidth\":2},\"zaxis\":{\"backgroundcolor\":\"#E5ECF6\",\"gridcolor\":\"white\",\"linecolor\":\"white\",\"showbackground\":true,\"ticks\":\"\",\"zerolinecolor\":\"white\",\"gridwidth\":2}},\"shapedefaults\":{\"line\":{\"color\":\"#2a3f5f\"}},\"annotationdefaults\":{\"arrowcolor\":\"#2a3f5f\",\"arrowhead\":0,\"arrowwidth\":1},\"geo\":{\"bgcolor\":\"white\",\"landcolor\":\"#E5ECF6\",\"subunitcolor\":\"white\",\"showland\":true,\"showlakes\":true,\"lakecolor\":\"white\"},\"title\":{\"x\":0.05},\"mapbox\":{\"style\":\"light\"}}},\"xaxis\":{\"anchor\":\"y\",\"domain\":[0.0,1.0],\"title\":{\"text\":\"Credit Card Debt\"}},\"yaxis\":{\"anchor\":\"x\",\"domain\":[0.0,1.0],\"title\":{\"text\":\"Car Purchase Amount\"}},\"coloraxis\":{\"colorbar\":{\"title\":{\"text\":\"Gender\"}},\"colorscale\":[[0.0,\"#0d0887\"],[0.1111111111111111,\"#46039f\"],[0.2222222222222222,\"#7201a8\"],[0.3333333333333333,\"#9c179e\"],[0.4444444444444444,\"#bd3786\"],[0.5555555555555556,\"#d8576b\"],[0.6666666666666666,\"#ed7953\"],[0.7777777777777778,\"#fb9f3a\"],[0.8888888888888888,\"#fdca26\"],[1.0,\"#f0f921\"]]},\"legend\":{\"tracegroupgap\":0},\"margin\":{\"t\":60}},                        {\"responsive\": true}                    ).then(function(){\n",
       "                            \n",
       "var gd = document.getElementById('13e81b12-224c-4da0-acb0-84a8fc92d51c');\n",
       "var x = new MutationObserver(function (mutations, observer) {{\n",
       "        var display = window.getComputedStyle(gd).display;\n",
       "        if (!display || display === 'none') {{\n",
       "            console.log([gd, 'removed!']);\n",
       "            Plotly.purge(gd);\n",
       "            observer.disconnect();\n",
       "        }}\n",
       "}});\n",
       "\n",
       "// Listen for the removal of the full notebook cells\n",
       "var notebookContainer = gd.closest('#notebook-container');\n",
       "if (notebookContainer) {{\n",
       "    x.observe(notebookContainer, {childList: true});\n",
       "}}\n",
       "\n",
       "// Listen for the clearing of the current output cell\n",
       "var outputEl = gd.closest('.output');\n",
       "if (outputEl) {{\n",
       "    x.observe(outputEl, {childList: true});\n",
       "}}\n",
       "\n",
       "                        })                };                });            </script>        </div>"
      ]
     },
     "metadata": {},
     "output_type": "display_data"
    }
   ],
   "source": [
    "fig = px.scatter(data_frame=df, x='Credit Card Debt', y='Car Purchase Amount', color='Gender')\n",
    "fig.show()"
   ]
  },
  {
   "cell_type": "code",
   "execution_count": 49,
   "id": "f4011929",
   "metadata": {},
   "outputs": [
    {
     "data": {
      "text/plain": [
       "<AxesSubplot:xlabel='Net Worth', ylabel='Count'>"
      ]
     },
     "execution_count": 49,
     "metadata": {},
     "output_type": "execute_result"
    },
    {
     "data": {
      "image/png": "[encoded data removed]",
      "text/plain": [
       "<Figure size 640x480 with 1 Axes>"
      ]
     },
     "metadata": {},
     "output_type": "display_data"
    }
   ],
   "source": [
    "sns.histplot(data=df, x='Net Worth', kde=True)"
   ]
  },
  {
   "cell_type": "code",
   "execution_count": 50,
   "id": "0c6d3479",
   "metadata": {},
   "outputs": [
    {
     "data": {
      "application/vnd.plotly.v1+json": {
       "config": {
        "plotlyServerURL": "https://plot.ly"
       },
       "data": [
        {
         "hovertemplate": "Net Worth=%{x}<br>Car Purchase Amount=%{y}<br>Gender=%{marker.color}<extra></extra>",
         "legendgroup": "",
         "marker": {
          "color": [
           0,
           0,
           1,
           1,
           1,
           1,
           1,
           1,
           0,
           1,
           1,
           1,
           0,
           0,
           0,
           1,
           0,
           1,
           1,
           0,
           1,
           0,
           1,
           1,
           0,
           0,
           0,
           0,
           1,
           1,
           1,
           1,
           1,
           0,
           0,
           0,
           1,
           1,
           0,
           1,
           0,
           1,
           0,
           1,
           1,
           0,
           1,
           0,
           1,
           0,
           1,
           0,
           0,
           1,
           1,
           0,
           1,
           1,
           1,
           1,
           1,
           0,
           0,
           0,
           0,
           0,
           0,
           1,
           1,
           1,
           1,
           0,
           0,
           1,
           1,
           0,
           1,
           1,
           0,
           0,
           1,
           1,
           1,
           0,
           1,
           1,
           1,
           0,
           1,
           1,
           1,
           1,
           1,
           0,
           1,
           1,
           0,
           1,
           0,
           0,
           1,
           1,
           1,
           0,
           0,
           0,
           0,
           1,
           1,
           1,
           1,
           1,
           0,
           0,
           1,
           1,
           1,
           0,
           0,
           0,
           1,
           0,
           1,
           0,
           0,
           0,
           0,
           0,
           1,
           0,
           1,
           1,
           0,
           0,
           0,
           0,
           0,
           1,
           1,
           1,
           0,
           1,
           0,
           1,
           0,
           0,
           1,
           0,
           1,
           1,
           1,
           1,
           0,
           0,
           1,
           0,
           0,
           0,
           0,
           0,
           1,
           1,
           0,
           0,
           0,
           1,
           1,
           1,
           0,
           1,
           1,
           1,
           0,
           1,
           0,
           0,
           1,
           0,
           1,
           1,
           1,
           0,
           1,
           1,
           0,
           1,
           0,
           0,
           1,
           1,
           1,
           1,
           0,
           0,
           0,
           0,
           0,
           0,
           1,
           1,
           1,
           0,
           1,
           0,
           0,
           1,
           1,
           0,
           0,
           0,
           0,
           0,
           0,
           1,
           1,
           0,
           1,
           1,
           0,
           0,
           1,
           1,
           0,
           1,
           1,
           1,
           1,
           0,
           1,
           0,
           1,
           0,
           1,
           1,
           1,
           1,
           1,
           0,
           0,
           1,
           0,
           1,
           0,
           1,
           1,
           0,
           1,
           0,
           1,
           0,
           0,
           0,
           1,
           1,
           0,
           1,
           1,
           1,
           1,
           0,
           0,
           0,
           1,
           1,
           0,
           0,
           1,
           0,
           0,
           0,
           0,
           0,
           1,
           0,
           1,
           1,
           1,
           0,
           0,
           0,
           0,
           0,
           0,
           1,
           1,
           1,
           0,
           0,
           0,
           0,
           0,
           1,
           1,
           1,
           1,
           1,
           1,
           0,
           0,
           1,
           0,
           0,
           0,
           1,
           1,
           1,
           0,
           1,
           0,
           0,
           1,
           0,
           0,
           1,
           0,
           1,
           0,
           1,
           1,
           1,
           0,
           1,
           0,
           0,
           0,
           0,
           0,
           0,
           1,
           1,
           0,
           1,
           0,
           1,
           0,
           0,
           0,
           1,
           0,
           1,
           1,
           1,
           0,
           0,
           1,
           1,
           0,
           0,
           0,
           1,
           0,
           0,
           1,
           0,
           0,
           1,
           1,
           1,
           0,
           1,
           1,
           0,
           1,
           1,
           1,
           0,
           1,
           1,
           1,
           0,
           1,
           0,
           1,
           0,
           1,
           1,
           0,
           0,
           0,
           1,
           0,
           0,
           1,
           1,
           0,
           1,
           0,
           1,
           1,
           0,
           1,
           1,
           1,
           1,
           0,
           1,
           0,
           0,
           0,
           0,
           1,
           0,
           0,
           1,
           0,
           0,
           0,
           1,
           0,
           1,
           0,
           1,
           1,
           0,
           0,
           1,
           1,
           0,
           1,
           1,
           0,
           0,
           1,
           0,
           1,
           0,
           1,
           0,
           0,
           0,
           0,
           0,
           1,
           1,
           1,
           1,
           0,
           0,
           0,
           0,
           1,
           0,
           1,
           0,
           1,
           0,
           1,
           1,
           1,
           0,
           1,
           1,
           0,
           0,
           1,
           1,
           0,
           1,
           1,
           0,
           0,
           1,
           0,
           1,
           0,
           0,
           0,
           1,
           0,
           0,
           0,
           0,
           1,
           1,
           0,
           1,
           0,
           1,
           1,
           0,
           0,
           1,
           1,
           0,
           0,
           1,
           1,
           0,
           0,
           0,
           1,
           1,
           0,
           0,
           0,
           0,
           1,
           1,
           1,
           1
          ],
          "coloraxis": "coloraxis",
          "symbol": "circle"
         },
         "mode": "markers",
         "name": "",
         "orientation": "v",
         "showlegend": false,
         "type": "scatter",
         "x": [
          238961.2505,
          530973.9078,
          638467.1773,
          548599.0524,
          560304.0671,
          428485.3604,
          326373.1812,
          629312.4041,
          630059.0274,
          476643.3544,
          612738.6171,
          293862.5123,
          430907.1673,
          420322.0702,
          146344.8965,
          481433.4324,
          370356.2223,
          549443.5886,
          431098.9998,
          566022.1306,
          480588.2345,
          307226.0977,
          497526.4566,
          688466.0503,
          499086.3442,
          429440.3297,
          315775.3207,
          341691.9337,
          188032.0778,
          583230.976,
          319837.6593,
          486069.073,
          655934.4666,
          487435.964,
          215673.5384,
          612242.7755,
          430624.8142,
          326742.7352,
          213040.9606,
          379749.9152,
          513340.0097,
          410655.9947,
          348833.8403,
          299734.1278,
          497950.2933,
          853913.8532,
          320228.6451,
          158979.7102,
          390312.1715,
          527420.7269,
          451846.1995,
          779925.7892,
          455609.1429,
          583523.0762,
          353757.5057,
          438067.7506,
          468238.7915,
          636407.1148,
          409419.5797,
          286062.5162,
          615765.9289,
          476088.3996,
          242495.9886,
          246321.8916,
          456634.2073,
          662176.4851,
          301026.2206,
          573054.3808,
          662382.6623,
          356553.3996,
          230728.3008,
          411831.0371,
          481335.3582,
          473845.8546,
          355157.6417,
          506986.9824,
          344916.1768,
          309113.0627,
          278799.6958,
          540805.494,
          441527.0144,
          523251.2663,
          407401.3776,
          409293.2658,
          386128.1333,
          245664.3652,
          496856.4912,
          448601.9484,
          388498.5102,
          579181.6552,
          173079.1798,
          536665.0464,
          259049.2824,
          635512.3606,
          398746.8458,
          391848.6041,
          479586.9387,
          165866.2,
          515084.1891,
          759479.4596,
          706977.053,
          242292.92,
          404457.3099,
          537744.1324,
          891439.8761,
          296972.4085,
          450402.2932,
          386057.421,
          323453.2022,
          778537.2095,
          386287.0208,
          416540.299,
          562605.0655,
          565932.1861,
          238529.6336,
          659279.2011,
          325701.4083,
          244310.5736,
          790526.5507,
          573052.0119,
          411070.4828,
          408147.0405,
          692401.4668,
          588570.8903,
          586368.9293,
          407733.5229,
          651215.6435,
          53366.13861,
          167031.5554,
          567357.0264,
          339207.2774,
          291360.0291,
          271430.0543,
          502946.8819,
          362564.346,
          701782.528,
          580950.3967,
          401955.501,
          293999.9427,
          510039.1484,
          560593.416,
          174525.8426,
          260269.0963,
          262959.2506,
          316064.0338,
          254617.2609,
          510811.3695,
          581497.8874,
          378357.9385,
          375889.6381,
          85520.85055,
          633383.4925,
          562663.8116,
          475126.1252,
          449895.3046,
          20000,
          216355.3406,
          191168.4476,
          543789.7212,
          363561.1972,
          352507.9012,
          368344.0637,
          411045.8332,
          517480.0937,
          445745.5544,
          399124.4489,
          97706.89181,
          473101.0273,
          405550.1689,
          315183.5688,
          362707.0273,
          255922.473,
          416817.4673,
          278181.8354,
          498441.5687,
          613706.5421,
          357639.0334,
          546630.5284,
          427011.4954,
          340663.3261,
          211765.2494,
          415005.3584,
          478422.7973,
          613242.1668,
          350157.8394,
          322905.4592,
          520997.2385,
          251702.1158,
          623033.482,
          615672.4681,
          335652.6234,
          462613.8587,
          298246.0609,
          543313.3454,
          346555.1716,
          474763.4696,
          232607.3907,
          587010.5521,
          629764.2743,
          664431.3966,
          347017.8331,
          322150.3542,
          275389.0701,
          607395.0183,
          152012.353,
          490444.4111,
          619707.4203,
          571564.7901,
          491193.3773,
          261152.8211,
          299854.2186,
          371240.2413,
          465709.8937,
          196421.7402,
          396793.4734,
          478853.3217,
          279393.491,
          383693.2041,
          830430.3692,
          112127.2567,
          331460.4727,
          335809.6171,
          509543.0859,
          761935.5177,
          620522.3842,
          539365.9366,
          565814.725,
          74257.82785,
          234159.0793,
          358615.9327,
          563498.6636,
          48620.32123,
          494985.5363,
          545946.9996,
          734443.6969,
          568947.7487,
          252220.2937,
          513974.6812,
          168703.3385,
          455589.7973,
          492113.0067,
          586717.4715,
          333543.693,
          466988.2602,
          418764.5061,
          249182.7848,
          284991.7415,
          720423.8157,
          124979.0501,
          632600.4718,
          623487.5952,
          133226.0617,
          610942.1408,
          316906.6441,
          308445.8598,
          152883.3519,
          573441.9724,
          134188.4492,
          426488.7459,
          575500.7687,
          286849.7875,
          479685.9824,
          336867.7147,
          613372.8917,
          589669.6573,
          202710.1294,
          515305.4841,
          572037.8859,
          229070.5491,
          779143.6005,
          211168.6293,
          438491.876,
          521404.2386,
          811594.0392,
          552454.0263,
          613104.784,
          202576.6196,
          397700.1404,
          505897.3041,
          210573.7042,
          581620.4824,
          481513.5074,
          371355.6935,
          136346.3069,
          679435.1745,
          793986.6155,
          353929.5495,
          630411.2698,
          491904.1899,
          819002.1748,
          626163.832,
          239217.6732,
          221290.9818,
          222341.0342,
          266765.477,
          159727.8753,
          392177.789,
          587858.6295,
          606851.1696,
          684273.5913,
          577272.6805,
          225670.1288,
          625484.0917,
          474485.6659,
          275762.4836,
          579220.0393,
          472761.6208,
          556014.9704,
          315058.7167,
          149761.1281,
          497876.2478,
          364858.7148,
          579059.3132,
          69821.6376,
          244188.0008,
          1000000,
          765711.6025,
          493592.1764,
          305253.2658,
          787984.2882,
          427287.6277,
          521815.7353,
          622324.7499,
          290711.867,
          516738.1724,
          542777.4892,
          398011.5804,
          642335.1021,
          719846.9824,
          374777.6929,
          160487.0006,
          356213.0776,
          615720.0425,
          414034.6096,
          521061.1115,
          59630.07789,
          169714.2655,
          385250.7163,
          454791.7251,
          188327.5831,
          322891.7787,
          375654.1472,
          515717.7476,
          555993.1081,
          411932.8191,
          854283.5574,
          537572.1338,
          685541.6501,
          608019.6308,
          192514.6431,
          320834.0102,
          228434.0508,
          401916.0981,
          475263.2759,
          187821.0958,
          408679.8596,
          388898.069,
          377424.6157,
          236420.9695,
          366327.7432,
          253181.9789,
          551344.3365,
          549212.4268,
          589180.4485,
          600685.1915,
          27888.74525,
          432447.5324,
          137601.844,
          480468.247,
          62149.94034,
          387538.2487,
          508962.4874,
          360457.0496,
          712233.8241,
          657178.4135,
          856287.1522,
          528087.5277,
          749016.565,
          290608.3977,
          558001.0241,
          173272.8954,
          457116.1945,
          545125.9592,
          447393.4883,
          674190.6949,
          255285.4063,
          128387.9293,
          321431.279,
          627086.6563,
          281690.8431,
          762832.2606,
          595028.8431,
          466128.9118,
          416748.7309,
          660897.0146,
          291897.4057,
          724025.4097,
          388284.2974,
          343290.677,
          129635.6343,
          805075.5197,
          298920.0067,
          344060.1754,
          141587.6498,
          684209.551,
          456524.7944,
          201228.0206,
          283241.2769,
          266531.2969,
          365862.7818,
          151946.3089,
          472403.1231,
          376886.359,
          116407.5289,
          271414.7592,
          237185.1714,
          630120.001,
          355175.3677,
          552267.6361,
          205006.2161,
          762601.0836,
          482866.5457,
          297964.2638,
          267555.1178,
          461366.7829,
          365871.4992,
          394229.8972,
          357468.1866,
          790116.4252,
          601744.9607,
          258194.8443,
          392003.2864,
          205439.3663,
          228388.5491,
          508555.1592,
          421318.9764,
          622569.5959,
          217188.4056,
          320525.7282,
          265717.2542,
          601210.2803,
          284155.4155,
          487564.5541,
          297540.8814,
          494606.6334,
          245216.1691,
          622831.922,
          478428.7174,
          314885.1345,
          201636.866,
          419556.6198,
          621309.5863,
          507572.635,
          158758.3577,
          505048.7599,
          169475.9968,
          485563.7363,
          400703.2655,
          577058.1773,
          399437.5235,
          508528.9957,
          516817.3173,
          556945.8742,
          177878.1758,
          567842.1267,
          285326.3544,
          218808.7553,
          312927.9187,
          515012.2804,
          517110.9454,
          544291.9504,
          579640.7982,
          341330.7344,
          649323.7878,
          301245.7708,
          557098.9636,
          432850.4157,
          340720.5185,
          266939.1746,
          421891.846,
          531840.3342,
          276466.6203,
          247421.9185,
          620355.2658,
          360787.6401,
          571245.3714,
          522814.817,
          347177.8367,
          497197.264,
          664862.0102,
          316128.4002,
          294506.0844,
          523680.7699,
          349588.5608,
          665099.139,
          541670.1016,
          360419.0988,
          764531.3203,
          337826.6382,
          462946.4924
         ],
         "xaxis": "x",
         "y": [
          35321.45877,
          45115.52566,
          42925.70921,
          67422.36313,
          55915.46248,
          56611.99784,
          28925.70549,
          47434.98265,
          48013.6141,
          38189.50601,
          59045.51309,
          42288.81046,
          28700.0334,
          49258.87571,
          49510.03356,
          53017.26723,
          41814.72067,
          43901.71244,
          44633.99241,
          54827.52403,
          51130.95379,
          43402.31525,
          47240.86004,
          46635.49432,
          45078.40193,
          44387.58412,
          37161.55393,
          49091.97185,
          58350.31809,
          43994.35972,
          17584.56963,
          44650.36073,
          66363.89316,
          53489.46214,
          39810.34817,
          51612.14311,
          38978.67458,
          10092.22509,
          35928.52404,
          54823.19221,
          45805.67186,
          41567.47033,
          28031.20985,
          27815.73813,
          68678.4352,
          68925.09447,
          34215.7615,
          37843.46619,
          37883.24231,
          48734.35708,
          27187.23914,
          63738.39065,
          48266.75516,
          46381.13111,
          31978.9799,
          48100.29052,
          47380.91224,
          41425.00116,
          38147.81018,
          32737.80177,
          37348.13737,
          47483.85316,
          49730.53339,
          40093.61981,
          42297.5062,
          52954.93121,
          48104.11184,
          43680.91327,
          52707.96816,
          49392.8897,
          30841.00154,
          49373.37555,
          41903.65171,
          45058.8969,
          52991.52667,
          50958.08115,
          41357.17897,
          44434.71917,
          38502.42392,
          41221.24918,
          38399.46139,
          41456.68097,
          30394.82494,
          42384.05128,
          39002.0771,
          19553.2739,
          45167.32542,
          36019.9556,
          50937.93844,
          12895.71468,
          38955.21919,
          51221.04249,
          25971.95673,
          60670.33672,
          54075.12064,
          40004.87142,
          61593.52058,
          39503.38829,
          52474.71839,
          42187.6828,
          57441.44414,
          22681.71667,
          33640.73697,
          31540.77868,
          60461.24268,
          45738.3343,
          34803.82395,
          34642.6024,
          27586.71854,
          54973.02495,
          49142.51174,
          58840.53964,
          57306.32866,
          51941.6756,
          30240.60975,
          67120.89878,
          42408.02625,
          41451.71843,
          42592.88647,
          34521.17618,
          42213.69644,
          41913.53713,
          59416.18101,
          51402.61506,
          54755.42038,
          47143.44008,
          64391.68906,
          37252.55194,
          52665.36511,
          44001.20706,
          51551.67997,
          38243.66481,
          39766.64804,
          40077.57289,
          33131.52734,
          48622.66097,
          47693.23482,
          39410.4616,
          33428.40183,
          32700.27871,
          62864.43011,
          29425.83001,
          44418.60955,
          36645.5609,
          53655.53859,
          45977.12502,
          38504.39444,
          47935.9394,
          60222.22672,
          38930.55234,
          27810.21814,
          47604.34591,
          42356.6895,
          31300.54347,
          42369.64247,
          31837.22537,
          26499.31418,
          38172.83602,
          39433.40631,
          37714.31659,
          57125.41541,
          46453.34819,
          43855.06077,
          55592.70383,
          42484.02283,
          40879.19107,
          20653.21409,
          35438.80549,
          36112.79346,
          38182.30465,
          41026.02421,
          27889.95197,
          43724.4896,
          57430.76903,
          41104.07108,
          49050.85378,
          41265.52929,
          64545.16339,
          29052.09521,
          30719.8156,
          38763.11306,
          39331.20127,
          32608.45468,
          58045.56257,
          54387.27727,
          36638.20688,
          39522.13129,
          42978.34626,
          60865.76396,
          46380.44732,
          56579.90338,
          42774.35579,
          37879.65385,
          45208.42539,
          56229.4127,
          50455.11935,
          49721.31082,
          31696.99679,
          49220.0218,
          46188.83514,
          36086.93161,
          43264.04965,
          40660.38317,
          51683.60859,
          44525.02085,
          48518.90163,
          45805.30588,
          54850.38742,
          32478.44758,
          42209.28948,
          55125.93237,
          47984.42062,
          43405.89086,
          44577.44829,
          37744.54285,
          47805.25605,
          44846.68557,
          46643.26581,
          56563.98675,
          41673.44617,
          61118.46947,
          37303.56701,
          46892.26617,
          56457.74038,
          45509.69732,
          27625.44144,
          46389.50237,
          29002.05665,
          51355.7106,
          42011.19965,
          52654.40455,
          44432.71747,
          46054.60253,
          58235.41454,
          42990.29255,
          50702.18103,
          47009.57741,
          49399.97041,
          42997.16761,
          44434.98419,
          46325.50959,
          46846.7305,
          56499.10202,
          42773.75905,
          52313.98392,
          34139.6373,
          60763.24731,
          66158.69494,
          31215.6421,
          46135.27233,
          56973.18105,
          24184.07443,
          49079.61942,
          37093.92033,
          43401.56612,
          29092.1311,
          48349.16457,
          33261.00057,
          41327.16554,
          49336.11628,
          51405.55229,
          31249.98803,
          43598.96993,
          48300.02057,
          54013.47595,
          38674.66038,
          37076.82508,
          37947.85125,
          41320.07256,
          66888.93694,
          12536.93842,
          39549.13039,
          52709.08196,
          53502.97742,
          52116.90791,
          38705.65839,
          48025.02542,
          59483.91183,
          35911.64559,
          41034.28343,
          51730.17434,
          53021.86074,
          32828.03477,
          29417.64694,
          57461.51158,
          50441.62427,
          41575.34739,
          46412.47781,
          47610.11718,
          70878.29664,
          55543.38497,
          53848.7555,
          39904.81613,
          44736.41097,
          46937.17422,
          28440.81268,
          38148.00163,
          42747.53925,
          29670.83337,
          63038.20422,
          63248.76188,
          42321.56548,
          44463.30502,
          67092.23276,
          22091.11839,
          40022.17406,
          56071.61377,
          49442.12107,
          42497.72862,
          37084.77621,
          51866.48719,
          35716.31133,
          39892.93343,
          35781.16156,
          42866.21274,
          80000,
          60526.97788,
          59758.73247,
          39606.24598,
          58641.71051,
          52983.89411,
          50666.88173,
          59625.02618,
          22630.25982,
          41137.89459,
          53496.48183,
          36543.93642,
          43503.97349,
          31146.71078,
          31526.04931,
          31083.70271,
          45366.35963,
          25252.93221,
          39888.59789,
          52240.72866,
          39911.6116,
          45857.75365,
          30826.10903,
          39422.79389,
          34678.83226,
          23517.91983,
          28733.68779,
          59096.26978,
          50188.86612,
          35659.12237,
          46398.35204,
          32291.18978,
          49079.29461,
          49348.88394,
          41427.59797,
          24221.99937,
          44424.07681,
          60390.06616,
          42793.9932,
          46935.72774,
          58667.06865,
          38042.80065,
          39270.57909,
          54606.18769,
          39083.94268,
          47984.12043,
          46082.80993,
          30964.07804,
          35726.95299,
          49065.1634,
          48955.85816,
          37183.10293,
          46710.52519,
          52889.56257,
          29754.66271,
          60960.83428,
          39975.43302,
          38545.80328,
          56764.44728,
          63079.84329,
          55700.83389,
          36367.18452,
          52477.83479,
          50296.67496,
          37259.84386,
          47715.96049,
          29540.87013,
          60567.18837,
          36125.48846,
          57303.87131,
          51922.07691,
          35848.82935,
          42704.3221,
          55174.98946,
          26599.90843,
          53993.44322,
          47970.76767,
          43641.65727,
          41679.7929,
          63140.05082,
          30757.65726,
          65592.22012,
          37871.7082,
          42919.5196,
          22599.45863,
          70598.96768,
          43242.58224,
          38138.57511,
          30419.8,
          63868.94051,
          45112.94547,
          44361.87507,
          19525.29827,
          49991.60697,
          61731.71426,
          41769.38288,
          46402.53583,
          37376.63439,
          33766.6413,
          30667.60927,
          52056.41478,
          30736.5798,
          39439.45349,
          38174.87433,
          40589.8625,
          62028.71192,
          48465.27211,
          40095.0498,
          49568.47685,
          31408.62631,
          47719.47741,
          35784.42411,
          42905.53815,
          48516.84335,
          45593.6849,
          32061.6467,
          32208.37522,
          35475.00344,
          29519.56184,
          55420.56668,
          42139.64528,
          50539.90169,
          34922.42846,
          43898.2733,
          39135.03023,
          41147.46679,
          24134.59205,
          42705.11311,
          38901.60925,
          28645.39425,
          52150.41786,
          66648.25077,
          42909.27129,
          49248.10595,
          27303.17104,
          47869.82593,
          59984.16361,
          45271.46081,
          9000,
          46012.10616,
          32967.20191,
          48785.15839,
          45824.5656,
          40102.11417,
          35457.1486,
          29556.7932,
          38243.06228,
          44430.63323,
          51046.42226,
          52570.36517,
          61404.22578,
          28463.64326,
          27586.20078,
          47979.48549,
          28164.86039,
          69669.47402,
          48052.65091,
          37364.23474,
          44500.81936,
          35139.24793,
          55167.37361,
          48383.69071,
          35823.55471,
          36517.70996,
          53110.88052,
          53049.44567,
          21471.11367,
          45015.67953,
          55377.87697,
          56510.13294,
          47443.74443,
          41489.64123,
          32553.53423,
          41984.62412,
          59538.40327,
          41352.47071,
          52785.16947,
          60117.67886,
          47760.66427,
          64188.26862,
          48901.44342,
          31491.41457,
          64147.28888,
          45442.15353,
          45107.22566
         ],
         "yaxis": "y"
        }
       ],
       "layout": {
        "coloraxis": {
         "colorbar": {
          "title": {
           "text": "Gender"
          }
         },
         "colorscale": [
          [
           0,
           "#0d0887"
          ],
          [
           0.1111111111111111,
           "#46039f"
          ],
          [
           0.2222222222222222,
           "#7201a8"
          ],
          [
           0.3333333333333333,
           "#9c179e"
          ],
          [
           0.4444444444444444,
           "#bd3786"
          ],
          [
           0.5555555555555556,
           "#d8576b"
          ],
          [
           0.6666666666666666,
           "#ed7953"
          ],
          [
           0.7777777777777778,
           "#fb9f3a"
          ],
          [
           0.8888888888888888,
           "#fdca26"
          ],
          [
           1,
           "#f0f921"
          ]
         ]
        },
        "legend": {
         "tracegroupgap": 0
        },
        "margin": {
         "t": 60
        },
        "template": {
         "data": {
          "bar": [
           {
            "error_x": {
             "color": "#2a3f5f"
            },
            "error_y": {
             "color": "#2a3f5f"
            },
            "marker": {
             "line": {
              "color": "#E5ECF6",
              "width": 0.5
             },
             "pattern": {
              "fillmode": "overlay",
              "size": 10,
              "solidity": 0.2
             }
            },
            "type": "bar"
           }
          ],
          "barpolar": [
           {
            "marker": {
             "line": {
              "color": "#E5ECF6",
              "width": 0.5
             },
             "pattern": {
              "fillmode": "overlay",
              "size": 10,
              "solidity": 0.2
             }
            },
            "type": "barpolar"
           }
          ],
          "carpet": [
           {
            "aaxis": {
             "endlinecolor": "#2a3f5f",
             "gridcolor": "white",
             "linecolor": "white",
             "minorgridcolor": "white",
             "startlinecolor": "#2a3f5f"
            },
            "baxis": {
             "endlinecolor": "#2a3f5f",
             "gridcolor": "white",
             "linecolor": "white",
             "minorgridcolor": "white",
             "startlinecolor": "#2a3f5f"
            },
            "type": "carpet"
           }
          ],
          "choropleth": [
           {
            "colorbar": {
             "outlinewidth": 0,
             "ticks": ""
            },
            "type": "choropleth"
           }
          ],
          "contour": [
           {
            "colorbar": {
             "outlinewidth": 0,
             "ticks": ""
            },
            "colorscale": [
             [
              0,
              "#0d0887"
             ],
             [
              0.1111111111111111,
              "#46039f"
             ],
             [
              0.2222222222222222,
              "#7201a8"
             ],
             [
              0.3333333333333333,
              "#9c179e"
             ],
             [
              0.4444444444444444,
              "#bd3786"
             ],
             [
              0.5555555555555556,
              "#d8576b"
             ],
             [
              0.6666666666666666,
              "#ed7953"
             ],
             [
              0.7777777777777778,
              "#fb9f3a"
             ],
             [
              0.8888888888888888,
              "#fdca26"
             ],
             [
              1,
              "#f0f921"
             ]
            ],
            "type": "contour"
           }
          ],
          "contourcarpet": [
           {
            "colorbar": {
             "outlinewidth": 0,
             "ticks": ""
            },
            "type": "contourcarpet"
           }
          ],
          "heatmap": [
           {
            "colorbar": {
             "outlinewidth": 0,
             "ticks": ""
            },
            "colorscale": [
             [
              0,
              "#0d0887"
             ],
             [
              0.1111111111111111,
              "#46039f"
             ],
             [
              0.2222222222222222,
              "#7201a8"
             ],
             [
              0.3333333333333333,
              "#9c179e"
             ],
             [
              0.4444444444444444,
              "#bd3786"
             ],
             [
              0.5555555555555556,
              "#d8576b"
             ],
             [
              0.6666666666666666,
              "#ed7953"
             ],
             [
              0.7777777777777778,
              "#fb9f3a"
             ],
             [
              0.8888888888888888,
              "#fdca26"
             ],
             [
              1,
              "#f0f921"
             ]
            ],
            "type": "heatmap"
           }
          ],
          "heatmapgl": [
           {
            "colorbar": {
             "outlinewidth": 0,
             "ticks": ""
            },
            "colorscale": [
             [
              0,
              "#0d0887"
             ],
             [
              0.1111111111111111,
              "#46039f"
             ],
             [
              0.2222222222222222,
              "#7201a8"
             ],
             [
              0.3333333333333333,
              "#9c179e"
             ],
             [
              0.4444444444444444,
              "#bd3786"
             ],
             [
              0.5555555555555556,
              "#d8576b"
             ],
             [
              0.6666666666666666,
              "#ed7953"
             ],
             [
              0.7777777777777778,
              "#fb9f3a"
             ],
             [
              0.8888888888888888,
              "#fdca26"
             ],
             [
              1,
              "#f0f921"
             ]
            ],
            "type": "heatmapgl"
           }
          ],
          "histogram": [
           {
            "marker": {
             "pattern": {
              "fillmode": "overlay",
              "size": 10,
              "solidity": 0.2
             }
            },
            "type": "histogram"
           }
          ],
          "histogram2d": [
           {
            "colorbar": {
             "outlinewidth": 0,
             "ticks": ""
            },
            "colorscale": [
             [
              0,
              "#0d0887"
             ],
             [
              0.1111111111111111,
              "#46039f"
             ],
             [
              0.2222222222222222,
              "#7201a8"
             ],
             [
              0.3333333333333333,
              "#9c179e"
             ],
             [
              0.4444444444444444,
              "#bd3786"
             ],
             [
              0.5555555555555556,
              "#d8576b"
             ],
             [
              0.6666666666666666,
              "#ed7953"
             ],
             [
              0.7777777777777778,
              "#fb9f3a"
             ],
             [
              0.8888888888888888,
              "#fdca26"
             ],
             [
              1,
              "#f0f921"
             ]
            ],
            "type": "histogram2d"
           }
          ],
          "histogram2dcontour": [
           {
            "colorbar": {
             "outlinewidth": 0,
             "ticks": ""
            },
            "colorscale": [
             [
              0,
              "#0d0887"
             ],
             [
              0.1111111111111111,
              "#46039f"
             ],
             [
              0.2222222222222222,
              "#7201a8"
             ],
             [
              0.3333333333333333,
              "#9c179e"
             ],
             [
              0.4444444444444444,
              "#bd3786"
             ],
             [
              0.5555555555555556,
              "#d8576b"
             ],
             [
              0.6666666666666666,
              "#ed7953"
             ],
             [
              0.7777777777777778,
              "#fb9f3a"
             ],
             [
              0.8888888888888888,
              "#fdca26"
             ],
             [
              1,
              "#f0f921"
             ]
            ],
            "type": "histogram2dcontour"
           }
          ],
          "mesh3d": [
           {
            "colorbar": {
             "outlinewidth": 0,
             "ticks": ""
            },
            "type": "mesh3d"
           }
          ],
          "parcoords": [
           {
            "line": {
             "colorbar": {
              "outlinewidth": 0,
              "ticks": ""
             }
            },
            "type": "parcoords"
           }
          ],
          "pie": [
           {
            "automargin": true,
            "type": "pie"
           }
          ],
          "scatter": [
           {
            "fillpattern": {
             "fillmode": "overlay",
             "size": 10,
             "solidity": 0.2
            },
            "type": "scatter"
           }
          ],
          "scatter3d": [
           {
            "line": {
             "colorbar": {
              "outlinewidth": 0,
              "ticks": ""
             }
            },
            "marker": {
             "colorbar": {
              "outlinewidth": 0,
              "ticks": ""
             }
            },
            "type": "scatter3d"
           }
          ],
          "scattercarpet": [
           {
            "marker": {
             "colorbar": {
              "outlinewidth": 0,
              "ticks": ""
             }
            },
            "type": "scattercarpet"
           }
          ],
          "scattergeo": [
           {
            "marker": {
             "colorbar": {
              "outlinewidth": 0,
              "ticks": ""
             }
            },
            "type": "scattergeo"
           }
          ],
          "scattergl": [
           {
            "marker": {
             "colorbar": {
              "outlinewidth": 0,
              "ticks": ""
             }
            },
            "type": "scattergl"
           }
          ],
          "scattermapbox": [
           {
            "marker": {
             "colorbar": {
              "outlinewidth": 0,
              "ticks": ""
             }
            },
            "type": "scattermapbox"
           }
          ],
          "scatterpolar": [
           {
            "marker": {
             "colorbar": {
              "outlinewidth": 0,
              "ticks": ""
             }
            },
            "type": "scatterpolar"
           }
          ],
          "scatterpolargl": [
           {
            "marker": {
             "colorbar": {
              "outlinewidth": 0,
              "ticks": ""
             }
            },
            "type": "scatterpolargl"
           }
          ],
          "scatterternary": [
           {
            "marker": {
             "colorbar": {
              "outlinewidth": 0,
              "ticks": ""
             }
            },
            "type": "scatterternary"
           }
          ],
          "surface": [
           {
            "colorbar": {
             "outlinewidth": 0,
             "ticks": ""
            },
            "colorscale": [
             [
              0,
              "#0d0887"
             ],
             [
              0.1111111111111111,
              "#46039f"
             ],
             [
              0.2222222222222222,
              "#7201a8"
             ],
             [
              0.3333333333333333,
              "#9c179e"
             ],
             [
              0.4444444444444444,
              "#bd3786"
             ],
             [
              0.5555555555555556,
              "#d8576b"
             ],
             [
              0.6666666666666666,
              "#ed7953"
             ],
             [
              0.7777777777777778,
              "#fb9f3a"
             ],
             [
              0.8888888888888888,
              "#fdca26"
             ],
             [
              1,
              "#f0f921"
             ]
            ],
            "type": "surface"
           }
          ],
          "table": [
           {
            "cells": {
             "fill": {
              "color": "#EBF0F8"
             },
             "line": {
              "color": "white"
             }
            },
            "header": {
             "fill": {
              "color": "#C8D4E3"
             },
             "line": {
              "color": "white"
             }
            },
            "type": "table"
           }
          ]
         },
         "layout": {
          "annotationdefaults": {
           "arrowcolor": "#2a3f5f",
           "arrowhead": 0,
           "arrowwidth": 1
          },
          "autotypenumbers": "strict",
          "coloraxis": {
           "colorbar": {
            "outlinewidth": 0,
            "ticks": ""
           }
          },
          "colorscale": {
           "diverging": [
            [
             0,
             "#8e0152"
            ],
            [
             0.1,
             "#c51b7d"
            ],
            [
             0.2,
             "#de77ae"
            ],
            [
             0.3,
             "#f1b6da"
            ],
            [
             0.4,
             "#fde0ef"
            ],
            [
             0.5,
             "#f7f7f7"
            ],
            [
             0.6,
             "#e6f5d0"
            ],
            [
             0.7,
             "#b8e186"
            ],
            [
             0.8,
             "#7fbc41"
            ],
            [
             0.9,
             "#4d9221"
            ],
            [
             1,
             "#276419"
            ]
           ],
           "sequential": [
            [
             0,
             "#0d0887"
            ],
            [
             0.1111111111111111,
             "#46039f"
            ],
            [
             0.2222222222222222,
             "#7201a8"
            ],
            [
             0.3333333333333333,
             "#9c179e"
            ],
            [
             0.4444444444444444,
             "#bd3786"
            ],
            [
             0.5555555555555556,
             "#d8576b"
            ],
            [
             0.6666666666666666,
             "#ed7953"
            ],
            [
             0.7777777777777778,
             "#fb9f3a"
            ],
            [
             0.8888888888888888,
             "#fdca26"
            ],
            [
             1,
             "#f0f921"
            ]
           ],
           "sequentialminus": [
            [
             0,
             "#0d0887"
            ],
            [
             0.1111111111111111,
             "#46039f"
            ],
            [
             0.2222222222222222,
             "#7201a8"
            ],
            [
             0.3333333333333333,
             "#9c179e"
            ],
            [
             0.4444444444444444,
             "#bd3786"
            ],
            [
             0.5555555555555556,
             "#d8576b"
            ],
            [
             0.6666666666666666,
             "#ed7953"
            ],
            [
             0.7777777777777778,
             "#fb9f3a"
            ],
            [
             0.8888888888888888,
             "#fdca26"
            ],
            [
             1,
             "#f0f921"
            ]
           ]
          },
          "colorway": [
           "#636efa",
           "#EF553B",
           "#00cc96",
           "#ab63fa",
           "#FFA15A",
           "#19d3f3",
           "#FF6692",
           "#B6E880",
           "#FF97FF",
           "#FECB52"
          ],
          "font": {
           "color": "#2a3f5f"
          },
          "geo": {
           "bgcolor": "white",
           "lakecolor": "white",
           "landcolor": "#E5ECF6",
           "showlakes": true,
           "showland": true,
           "subunitcolor": "white"
          },
          "hoverlabel": {
           "align": "left"
          },
          "hovermode": "closest",
          "mapbox": {
           "style": "light"
          },
          "paper_bgcolor": "white",
          "plot_bgcolor": "#E5ECF6",
          "polar": {
           "angularaxis": {
            "gridcolor": "white",
            "linecolor": "white",
            "ticks": ""
           },
           "bgcolor": "#E5ECF6",
           "radialaxis": {
            "gridcolor": "white",
            "linecolor": "white",
            "ticks": ""
           }
          },
          "scene": {
           "xaxis": {
            "backgroundcolor": "#E5ECF6",
            "gridcolor": "white",
            "gridwidth": 2,
            "linecolor": "white",
            "showbackground": true,
            "ticks": "",
            "zerolinecolor": "white"
           },
           "yaxis": {
            "backgroundcolor": "#E5ECF6",
            "gridcolor": "white",
            "gridwidth": 2,
            "linecolor": "white",
            "showbackground": true,
            "ticks": "",
            "zerolinecolor": "white"
           },
           "zaxis": {
            "backgroundcolor": "#E5ECF6",
            "gridcolor": "white",
            "gridwidth": 2,
            "linecolor": "white",
            "showbackground": true,
            "ticks": "",
            "zerolinecolor": "white"
           }
          },
          "shapedefaults": {
           "line": {
            "color": "#2a3f5f"
           }
          },
          "ternary": {
           "aaxis": {
            "gridcolor": "white",
            "linecolor": "white",
            "ticks": ""
           },
           "baxis": {
            "gridcolor": "white",
            "linecolor": "white",
            "ticks": ""
           },
           "bgcolor": "#E5ECF6",
           "caxis": {
            "gridcolor": "white",
            "linecolor": "white",
            "ticks": ""
           }
          },
          "title": {
           "x": 0.05
          },
          "xaxis": {
           "automargin": true,
           "gridcolor": "white",
           "linecolor": "white",
           "ticks": "",
           "title": {
            "standoff": 15
           },
           "zerolinecolor": "white",
           "zerolinewidth": 2
          },
          "yaxis": {
           "automargin": true,
           "gridcolor": "white",
           "linecolor": "white",
           "ticks": "",
           "title": {
            "standoff": 15
           },
           "zerolinecolor": "white",
           "zerolinewidth": 2
          }
         }
        },
        "xaxis": {
         "anchor": "y",
         "domain": [
          0,
          1
         ],
         "title": {
          "text": "Net Worth"
         }
        },
        "yaxis": {
         "anchor": "x",
         "domain": [
          0,
          1
         ],
         "title": {
          "text": "Car Purchase Amount"
         }
        }
       }
      },
      "text/html": [
       "<div>                            <div id=\"1614c6ad-a358-45b2-ac86-07de70c45253\" class=\"plotly-graph-div\" style=\"height:525px; width:100%;\"></div>            <script type=\"text/javascript\">                require([\"plotly\"], function(Plotly) {                    window.PLOTLYENV=window.PLOTLYENV || {};                                    if (document.getElementById(\"1614c6ad-a358-45b2-ac86-07de70c45253\")) {                    Plotly.newPlot(                        \"1614c6ad-a358-45b2-ac86-07de70c45253\",                        [{\"hovertemplate\":\"Net Worth=%{x}<br>Car Purchase Amount=%{y}<br>Gender=%{marker.color}<extra></extra>\",\"legendgroup\":\"\",\"marker\":{\"color\":[0,0,1,1,1,1,1,1,0,1,1,1,0,0,0,1,0,1,1,0,1,0,1,1,0,0,0,0,1,1,1,1,1,0,0,0,1,1,0,1,0,1,0,1,1,0,1,0,1,0,1,0,0,1,1,0,1,1,1,1,1,0,0,0,0,0,0,1,1,1,1,0,0,1,1,0,1,1,0,0,1,1,1,0,1,1,1,0,1,1,1,1,1,0,1,1,0,1,0,0,1,1,1,0,0,0,0,1,1,1,1,1,0,0,1,1,1,0,0,0,1,0,1,0,0,0,0,0,1,0,1,1,0,0,0,0,0,1,1,1,0,1,0,1,0,0,1,0,1,1,1,1,0,0,1,0,0,0,0,0,1,1,0,0,0,1,1,1,0,1,1,1,0,1,0,0,1,0,1,1,1,0,1,1,0,1,0,0,1,1,1,1,0,0,0,0,0,0,1,1,1,0,1,0,0,1,1,0,0,0,0,0,0,1,1,0,1,1,0,0,1,1,0,1,1,1,1,0,1,0,1,0,1,1,1,1,1,0,0,1,0,1,0,1,1,0,1,0,1,0,0,0,1,1,0,1,1,1,1,0,0,0,1,1,0,0,1,0,0,0,0,0,1,0,1,1,1,0,0,0,0,0,0,1,1,1,0,0,0,0,0,1,1,1,1,1,1,0,0,1,0,0,0,1,1,1,0,1,0,0,1,0,0,1,0,1,0,1,1,1,0,1,0,0,0,0,0,0,1,1,0,1,0,1,0,0,0,1,0,1,1,1,0,0,1,1,0,0,0,1,0,0,1,0,0,1,1,1,0,1,1,0,1,1,1,0,1,1,1,0,1,0,1,0,1,1,0,0,0,1,0,0,1,1,0,1,0,1,1,0,1,1,1,1,0,1,0,0,0,0,1,0,0,1,0,0,0,1,0,1,0,1,1,0,0,1,1,0,1,1,0,0,1,0,1,0,1,0,0,0,0,0,1,1,1,1,0,0,0,0,1,0,1,0,1,0,1,1,1,0,1,1,0,0,1,1,0,1,1,0,0,1,0,1,0,0,0,1,0,0,0,0,1,1,0,1,0,1,1,0,0,1,1,0,0,1,1,0,0,0,1,1,0,0,0,0,1,1,1,1],\"coloraxis\":\"coloraxis\",\"symbol\":\"circle\"},\"mode\":\"markers\",\"name\":\"\",\"orientation\":\"v\",\"showlegend\":false,\"x\":[238961.2505,530973.9078,638467.1773,548599.0524,560304.0671,428485.3604,326373.1812,629312.4041,630059.0274,476643.3544,612738.6171,293862.5123,430907.1673,420322.0702,146344.8965,481433.4324,370356.2223,549443.5886,431098.9998,566022.1306,480588.2345,307226.0977,497526.4566,688466.0503,499086.3442,429440.3297,315775.3207,341691.9337,188032.0778,583230.976,319837.6593,486069.073,655934.4666,487435.964,215673.5384,612242.7755,430624.8142,326742.7352,213040.9606,379749.9152,513340.0097,410655.9947,348833.8403,299734.1278,497950.2933,853913.8532,320228.6451,158979.7102,390312.1715,527420.7269,451846.1995,779925.7892,455609.1429,583523.0762,353757.5057,438067.7506,468238.7915,636407.1148,409419.5797,286062.5162,615765.9289,476088.3996,242495.9886,246321.8916,456634.2073,662176.4851,301026.2206,573054.3808,662382.6623,356553.3996,230728.3008,411831.0371,481335.3582,473845.8546,355157.6417,506986.9824,344916.1768,309113.0627,278799.6958,540805.494,441527.0144,523251.2663,407401.3776,409293.2658,386128.1333,245664.3652,496856.4912,448601.9484,388498.5102,579181.6552,173079.1798,536665.0464,259049.2824,635512.3606,398746.8458,391848.6041,479586.9387,165866.2,515084.1891,759479.4596,706977.053,242292.92,404457.3099,537744.1324,891439.8761,296972.4085,450402.2932,386057.421,323453.2022,778537.2095,386287.0208,416540.299,562605.0655,565932.1861,238529.6336,659279.2011,325701.4083,244310.5736,790526.5507,573052.0119,411070.4828,408147.0405,692401.4668,588570.8903,586368.9293,407733.5229,651215.6435,53366.13861,167031.5554,567357.0264,339207.2774,291360.0291,271430.0543,502946.8819,362564.346,701782.528,580950.3967,401955.501,293999.9427,510039.1484,560593.416,174525.8426,260269.0963,262959.2506,316064.0338,254617.2609,510811.3695,581497.8874,378357.9385,375889.6381,85520.85055,633383.4925,562663.8116,475126.1252,449895.3046,20000.0,216355.3406,191168.4476,543789.7212,363561.1972,352507.9012,368344.0637,411045.8332,517480.0937,445745.5544,399124.4489,97706.89181,473101.0273,405550.1689,315183.5688,362707.0273,255922.473,416817.4673,278181.8354,498441.5687,613706.5421,357639.0334,546630.5284,427011.4954,340663.3261,211765.2494,415005.3584,478422.7973,613242.1668,350157.8394,322905.4592,520997.2385,251702.1158,623033.482,615672.4681,335652.6234,462613.8587,298246.0609,543313.3454,346555.1716,474763.4696,232607.3907,587010.5521,629764.2743,664431.3966,347017.8331,322150.3542,275389.0701,607395.0183,152012.353,490444.4111,619707.4203,571564.7901,491193.3773,261152.8211,299854.2186,371240.2413,465709.8937,196421.7402,396793.4734,478853.3217,279393.491,383693.2041,830430.3692,112127.2567,331460.4727,335809.6171,509543.0859,761935.5177,620522.3842,539365.9366,565814.725,74257.82785,234159.0793,358615.9327,563498.6636,48620.32123,494985.5363,545946.9996,734443.6969,568947.7487,252220.2937,513974.6812,168703.3385,455589.7973,492113.0067,586717.4715,333543.693,466988.2602,418764.5061,249182.7848,284991.7415,720423.8157,124979.0501,632600.4718,623487.5952,133226.0617,610942.1408,316906.6441,308445.8598,152883.3519,573441.9724,134188.4492,426488.7459,575500.7687,286849.7875,479685.9824,336867.7147,613372.8917,589669.6573,202710.1294,515305.4841,572037.8859,229070.5491,779143.6005,211168.6293,438491.876,521404.2386,811594.0392,552454.0263,613104.784,202576.6196,397700.1404,505897.3041,210573.7042,581620.4824,481513.5074,371355.6935,136346.3069,679435.1745,793986.6155,353929.5495,630411.2698,491904.1899,819002.1748,626163.832,239217.6732,221290.9818,222341.0342,266765.477,159727.8753,392177.789,587858.6295,606851.1696,684273.5913,577272.6805,225670.1288,625484.0917,474485.6659,275762.4836,579220.0393,472761.6208,556014.9704,315058.7167,149761.1281,497876.2478,364858.7148,579059.3132,69821.6376,244188.0008,1000000.0,765711.6025,493592.1764,305253.2658,787984.2882,427287.6277,521815.7353,622324.7499,290711.867,516738.1724,542777.4892,398011.5804,642335.1021,719846.9824,374777.6929,160487.0006,356213.0776,615720.0425,414034.6096,521061.1115,59630.07789,169714.2655,385250.7163,454791.7251,188327.5831,322891.7787,375654.1472,515717.7476,555993.1081,411932.8191,854283.5574,537572.1338,685541.6501,608019.6308,192514.6431,320834.0102,228434.0508,401916.0981,475263.2759,187821.0958,408679.8596,388898.069,377424.6157,236420.9695,366327.7432,253181.9789,551344.3365,549212.4268,589180.4485,600685.1915,27888.74525,432447.5324,137601.844,480468.247,62149.94034,387538.2487,508962.4874,360457.0496,712233.8241,657178.4135,856287.1522,528087.5277,749016.565,290608.3977,558001.0241,173272.8954,457116.1945,545125.9592,447393.4883,674190.6949,255285.4063,128387.9293,321431.279,627086.6563,281690.8431,762832.2606,595028.8431,466128.9118,416748.7309,660897.0146,291897.4057,724025.4097,388284.2974,343290.677,129635.6343,805075.5197,298920.0067,344060.1754,141587.6498,684209.551,456524.7944,201228.0206,283241.2769,266531.2969,365862.7818,151946.3089,472403.1231,376886.359,116407.5289,271414.7592,237185.1714,630120.001,355175.3677,552267.6361,205006.2161,762601.0836,482866.5457,297964.2638,267555.1178,461366.7829,365871.4992,394229.8972,357468.1866,790116.4252,601744.9607,258194.8443,392003.2864,205439.3663,228388.5491,508555.1592,421318.9764,622569.5959,217188.4056,320525.7282,265717.2542,601210.2803,284155.4155,487564.5541,297540.8814,494606.6334,245216.1691,622831.922,478428.7174,314885.1345,201636.866,419556.6198,621309.5863,507572.635,158758.3577,505048.7599,169475.9968,485563.7363,400703.2655,577058.1773,399437.5235,508528.9957,516817.3173,556945.8742,177878.1758,567842.1267,285326.3544,218808.7553,312927.9187,515012.2804,517110.9454,544291.9504,579640.7982,341330.7344,649323.7878,301245.7708,557098.9636,432850.4157,340720.5185,266939.1746,421891.846,531840.3342,276466.6203,247421.9185,620355.2658,360787.6401,571245.3714,522814.817,347177.8367,497197.264,664862.0102,316128.4002,294506.0844,523680.7699,349588.5608,665099.139,541670.1016,360419.0988,764531.3203,337826.6382,462946.4924],\"xaxis\":\"x\",\"y\":[35321.45877,45115.52566,42925.70921,67422.36313,55915.46248,56611.99784,28925.70549,47434.98265,48013.6141,38189.50601,59045.51309,42288.81046,28700.0334,49258.87571,49510.03356,53017.26723,41814.72067,43901.71244,44633.99241,54827.52403,51130.95379,43402.31525,47240.86004,46635.49432,45078.40193,44387.58412,37161.55393,49091.97185,58350.31809,43994.35972,17584.56963,44650.36073,66363.89316,53489.46214,39810.34817,51612.14311,38978.67458,10092.22509,35928.52404,54823.19221,45805.67186,41567.47033,28031.20985,27815.73813,68678.4352,68925.09447,34215.7615,37843.46619,37883.24231,48734.35708,27187.23914,63738.39065,48266.75516,46381.13111,31978.9799,48100.29052,47380.91224,41425.00116,38147.81018,32737.80177,37348.13737,47483.85316,49730.53339,40093.61981,42297.5062,52954.93121,48104.11184,43680.91327,52707.96816,49392.8897,30841.00154,49373.37555,41903.65171,45058.8969,52991.52667,50958.08115,41357.17897,44434.71917,38502.42392,41221.24918,38399.46139,41456.68097,30394.82494,42384.05128,39002.0771,19553.2739,45167.32542,36019.9556,50937.93844,12895.71468,38955.21919,51221.04249,25971.95673,60670.33672,54075.12064,40004.87142,61593.52058,39503.38829,52474.71839,42187.6828,57441.44414,22681.71667,33640.73697,31540.77868,60461.24268,45738.3343,34803.82395,34642.6024,27586.71854,54973.02495,49142.51174,58840.53964,57306.32866,51941.6756,30240.60975,67120.89878,42408.02625,41451.71843,42592.88647,34521.17618,42213.69644,41913.53713,59416.18101,51402.61506,54755.42038,47143.44008,64391.68906,37252.55194,52665.36511,44001.20706,51551.67997,38243.66481,39766.64804,40077.57289,33131.52734,48622.66097,47693.23482,39410.4616,33428.40183,32700.27871,62864.43011,29425.83001,44418.60955,36645.5609,53655.53859,45977.12502,38504.39444,47935.9394,60222.22672,38930.55234,27810.21814,47604.34591,42356.6895,31300.54347,42369.64247,31837.22537,26499.31418,38172.83602,39433.40631,37714.31659,57125.41541,46453.34819,43855.06077,55592.70383,42484.02283,40879.19107,20653.21409,35438.80549,36112.79346,38182.30465,41026.02421,27889.95197,43724.4896,57430.76903,41104.07108,49050.85378,41265.52929,64545.16339,29052.09521,30719.8156,38763.11306,39331.20127,32608.45468,58045.56257,54387.27727,36638.20688,39522.13129,42978.34626,60865.76396,46380.44732,56579.90338,42774.35579,37879.65385,45208.42539,56229.4127,50455.11935,49721.31082,31696.99679,49220.0218,46188.83514,36086.93161,43264.04965,40660.38317,51683.60859,44525.02085,48518.90163,45805.30588,54850.38742,32478.44758,42209.28948,55125.93237,47984.42062,43405.89086,44577.44829,37744.54285,47805.25605,44846.68557,46643.26581,56563.98675,41673.44617,61118.46947,37303.56701,46892.26617,56457.74038,45509.69732,27625.44144,46389.50237,29002.05665,51355.7106,42011.19965,52654.40455,44432.71747,46054.60253,58235.41454,42990.29255,50702.18103,47009.57741,49399.97041,42997.16761,44434.98419,46325.50959,46846.7305,56499.10202,42773.75905,52313.98392,34139.6373,60763.24731,66158.69494,31215.6421,46135.27233,56973.18105,24184.07443,49079.61942,37093.92033,43401.56612,29092.1311,48349.16457,33261.00057,41327.16554,49336.11628,51405.55229,31249.98803,43598.96993,48300.02057,54013.47595,38674.66038,37076.82508,37947.85125,41320.07256,66888.93694,12536.93842,39549.13039,52709.08196,53502.97742,52116.90791,38705.65839,48025.02542,59483.91183,35911.64559,41034.28343,51730.17434,53021.86074,32828.03477,29417.64694,57461.51158,50441.62427,41575.34739,46412.47781,47610.11718,70878.29664,55543.38497,53848.7555,39904.81613,44736.41097,46937.17422,28440.81268,38148.00163,42747.53925,29670.83337,63038.20422,63248.76188,42321.56548,44463.30502,67092.23276,22091.11839,40022.17406,56071.61377,49442.12107,42497.72862,37084.77621,51866.48719,35716.31133,39892.93343,35781.16156,42866.21274,80000.0,60526.97788,59758.73247,39606.24598,58641.71051,52983.89411,50666.88173,59625.02618,22630.25982,41137.89459,53496.48183,36543.93642,43503.97349,31146.71078,31526.04931,31083.70271,45366.35963,25252.93221,39888.59789,52240.72866,39911.6116,45857.75365,30826.10903,39422.79389,34678.83226,23517.91983,28733.68779,59096.26978,50188.86612,35659.12237,46398.35204,32291.18978,49079.29461,49348.88394,41427.59797,24221.99937,44424.07681,60390.06616,42793.9932,46935.72774,58667.06865,38042.80065,39270.57909,54606.18769,39083.94268,47984.12043,46082.80993,30964.07804,35726.95299,49065.1634,48955.85816,37183.10293,46710.52519,52889.56257,29754.66271,60960.83428,39975.43302,38545.80328,56764.44728,63079.84329,55700.83389,36367.18452,52477.83479,50296.67496,37259.84386,47715.96049,29540.87013,60567.18837,36125.48846,57303.87131,51922.07691,35848.82935,42704.3221,55174.98946,26599.90843,53993.44322,47970.76767,43641.65727,41679.7929,63140.05082,30757.65726,65592.22012,37871.7082,42919.5196,22599.45863,70598.96768,43242.58224,38138.57511,30419.8,63868.94051,45112.94547,44361.87507,19525.29827,49991.60697,61731.71426,41769.38288,46402.53583,37376.63439,33766.6413,30667.60927,52056.41478,30736.5798,39439.45349,38174.87433,40589.8625,62028.71192,48465.27211,40095.0498,49568.47685,31408.62631,47719.47741,35784.42411,42905.53815,48516.84335,45593.6849,32061.6467,32208.37522,35475.00344,29519.56184,55420.56668,42139.64528,50539.90169,34922.42846,43898.2733,39135.03023,41147.46679,24134.59205,42705.11311,38901.60925,28645.39425,52150.41786,66648.25077,42909.27129,49248.10595,27303.17104,47869.82593,59984.16361,45271.46081,9000.0,46012.10616,32967.20191,48785.15839,45824.5656,40102.11417,35457.1486,29556.7932,38243.06228,44430.63323,51046.42226,52570.36517,61404.22578,28463.64326,27586.20078,47979.48549,28164.86039,69669.47402,48052.65091,37364.23474,44500.81936,35139.24793,55167.37361,48383.69071,35823.55471,36517.70996,53110.88052,53049.44567,21471.11367,45015.67953,55377.87697,56510.13294,47443.74443,41489.64123,32553.53423,41984.62412,59538.40327,41352.47071,52785.16947,60117.67886,47760.66427,64188.26862,48901.44342,31491.41457,64147.28888,45442.15353,45107.22566],\"yaxis\":\"y\",\"type\":\"scatter\"}],                        {\"template\":{\"data\":{\"histogram2dcontour\":[{\"type\":\"histogram2dcontour\",\"colorbar\":{\"outlinewidth\":0,\"ticks\":\"\"},\"colorscale\":[[0.0,\"#0d0887\"],[0.1111111111111111,\"#46039f\"],[0.2222222222222222,\"#7201a8\"],[0.3333333333333333,\"#9c179e\"],[0.4444444444444444,\"#bd3786\"],[0.5555555555555556,\"#d8576b\"],[0.6666666666666666,\"#ed7953\"],[0.7777777777777778,\"#fb9f3a\"],[0.8888888888888888,\"#fdca26\"],[1.0,\"#f0f921\"]]}],\"choropleth\":[{\"type\":\"choropleth\",\"colorbar\":{\"outlinewidth\":0,\"ticks\":\"\"}}],\"histogram2d\":[{\"type\":\"histogram2d\",\"colorbar\":{\"outlinewidth\":0,\"ticks\":\"\"},\"colorscale\":[[0.0,\"#0d0887\"],[0.1111111111111111,\"#46039f\"],[0.2222222222222222,\"#7201a8\"],[0.3333333333333333,\"#9c179e\"],[0.4444444444444444,\"#bd3786\"],[0.5555555555555556,\"#d8576b\"],[0.6666666666666666,\"#ed7953\"],[0.7777777777777778,\"#fb9f3a\"],[0.8888888888888888,\"#fdca26\"],[1.0,\"#f0f921\"]]}],\"heatmap\":[{\"type\":\"heatmap\",\"colorbar\":{\"outlinewidth\":0,\"ticks\":\"\"},\"colorscale\":[[0.0,\"#0d0887\"],[0.1111111111111111,\"#46039f\"],[0.2222222222222222,\"#7201a8\"],[0.3333333333333333,\"#9c179e\"],[0.4444444444444444,\"#bd3786\"],[0.5555555555555556,\"#d8576b\"],[0.6666666666666666,\"#ed7953\"],[0.7777777777777778,\"#fb9f3a\"],[0.8888888888888888,\"#fdca26\"],[1.0,\"#f0f921\"]]}],\"heatmapgl\":[{\"type\":\"heatmapgl\",\"colorbar\":{\"outlinewidth\":0,\"ticks\":\"\"},\"colorscale\":[[0.0,\"#0d0887\"],[0.1111111111111111,\"#46039f\"],[0.2222222222222222,\"#7201a8\"],[0.3333333333333333,\"#9c179e\"],[0.4444444444444444,\"#bd3786\"],[0.5555555555555556,\"#d8576b\"],[0.6666666666666666,\"#ed7953\"],[0.7777777777777778,\"#fb9f3a\"],[0.8888888888888888,\"#fdca26\"],[1.0,\"#f0f921\"]]}],\"contourcarpet\":[{\"type\":\"contourcarpet\",\"colorbar\":{\"outlinewidth\":0,\"ticks\":\"\"}}],\"contour\":[{\"type\":\"contour\",\"colorbar\":{\"outlinewidth\":0,\"ticks\":\"\"},\"colorscale\":[[0.0,\"#0d0887\"],[0.1111111111111111,\"#46039f\"],[0.2222222222222222,\"#7201a8\"],[0.3333333333333333,\"#9c179e\"],[0.4444444444444444,\"#bd3786\"],[0.5555555555555556,\"#d8576b\"],[0.6666666666666666,\"#ed7953\"],[0.7777777777777778,\"#fb9f3a\"],[0.8888888888888888,\"#fdca26\"],[1.0,\"#f0f921\"]]}],\"surface\":[{\"type\":\"surface\",\"colorbar\":{\"outlinewidth\":0,\"ticks\":\"\"},\"colorscale\":[[0.0,\"#0d0887\"],[0.1111111111111111,\"#46039f\"],[0.2222222222222222,\"#7201a8\"],[0.3333333333333333,\"#9c179e\"],[0.4444444444444444,\"#bd3786\"],[0.5555555555555556,\"#d8576b\"],[0.6666666666666666,\"#ed7953\"],[0.7777777777777778,\"#fb9f3a\"],[0.8888888888888888,\"#fdca26\"],[1.0,\"#f0f921\"]]}],\"mesh3d\":[{\"type\":\"mesh3d\",\"colorbar\":{\"outlinewidth\":0,\"ticks\":\"\"}}],\"scatter\":[{\"fillpattern\":{\"fillmode\":\"overlay\",\"size\":10,\"solidity\":0.2},\"type\":\"scatter\"}],\"parcoords\":[{\"type\":\"parcoords\",\"line\":{\"colorbar\":{\"outlinewidth\":0,\"ticks\":\"\"}}}],\"scatterpolargl\":[{\"type\":\"scatterpolargl\",\"marker\":{\"colorbar\":{\"outlinewidth\":0,\"ticks\":\"\"}}}],\"bar\":[{\"error_x\":{\"color\":\"#2a3f5f\"},\"error_y\":{\"color\":\"#2a3f5f\"},\"marker\":{\"line\":{\"color\":\"#E5ECF6\",\"width\":0.5},\"pattern\":{\"fillmode\":\"overlay\",\"size\":10,\"solidity\":0.2}},\"type\":\"bar\"}],\"scattergeo\":[{\"type\":\"scattergeo\",\"marker\":{\"colorbar\":{\"outlinewidth\":0,\"ticks\":\"\"}}}],\"scatterpolar\":[{\"type\":\"scatterpolar\",\"marker\":{\"colorbar\":{\"outlinewidth\":0,\"ticks\":\"\"}}}],\"histogram\":[{\"marker\":{\"pattern\":{\"fillmode\":\"overlay\",\"size\":10,\"solidity\":0.2}},\"type\":\"histogram\"}],\"scattergl\":[{\"type\":\"scattergl\",\"marker\":{\"colorbar\":{\"outlinewidth\":0,\"ticks\":\"\"}}}],\"scatter3d\":[{\"type\":\"scatter3d\",\"line\":{\"colorbar\":{\"outlinewidth\":0,\"ticks\":\"\"}},\"marker\":{\"colorbar\":{\"outlinewidth\":0,\"ticks\":\"\"}}}],\"scattermapbox\":[{\"type\":\"scattermapbox\",\"marker\":{\"colorbar\":{\"outlinewidth\":0,\"ticks\":\"\"}}}],\"scatterternary\":[{\"type\":\"scatterternary\",\"marker\":{\"colorbar\":{\"outlinewidth\":0,\"ticks\":\"\"}}}],\"scattercarpet\":[{\"type\":\"scattercarpet\",\"marker\":{\"colorbar\":{\"outlinewidth\":0,\"ticks\":\"\"}}}],\"carpet\":[{\"aaxis\":{\"endlinecolor\":\"#2a3f5f\",\"gridcolor\":\"white\",\"linecolor\":\"white\",\"minorgridcolor\":\"white\",\"startlinecolor\":\"#2a3f5f\"},\"baxis\":{\"endlinecolor\":\"#2a3f5f\",\"gridcolor\":\"white\",\"linecolor\":\"white\",\"minorgridcolor\":\"white\",\"startlinecolor\":\"#2a3f5f\"},\"type\":\"carpet\"}],\"table\":[{\"cells\":{\"fill\":{\"color\":\"#EBF0F8\"},\"line\":{\"color\":\"white\"}},\"header\":{\"fill\":{\"color\":\"#C8D4E3\"},\"line\":{\"color\":\"white\"}},\"type\":\"table\"}],\"barpolar\":[{\"marker\":{\"line\":{\"color\":\"#E5ECF6\",\"width\":0.5},\"pattern\":{\"fillmode\":\"overlay\",\"size\":10,\"solidity\":0.2}},\"type\":\"barpolar\"}],\"pie\":[{\"automargin\":true,\"type\":\"pie\"}]},\"layout\":{\"autotypenumbers\":\"strict\",\"colorway\":[\"#636efa\",\"#EF553B\",\"#00cc96\",\"#ab63fa\",\"#FFA15A\",\"#19d3f3\",\"#FF6692\",\"#B6E880\",\"#FF97FF\",\"#FECB52\"],\"font\":{\"color\":\"#2a3f5f\"},\"hovermode\":\"closest\",\"hoverlabel\":{\"align\":\"left\"},\"paper_bgcolor\":\"white\",\"plot_bgcolor\":\"#E5ECF6\",\"polar\":{\"bgcolor\":\"#E5ECF6\",\"angularaxis\":{\"gridcolor\":\"white\",\"linecolor\":\"white\",\"ticks\":\"\"},\"radialaxis\":{\"gridcolor\":\"white\",\"linecolor\":\"white\",\"ticks\":\"\"}},\"ternary\":{\"bgcolor\":\"#E5ECF6\",\"aaxis\":{\"gridcolor\":\"white\",\"linecolor\":\"white\",\"ticks\":\"\"},\"baxis\":{\"gridcolor\":\"white\",\"linecolor\":\"white\",\"ticks\":\"\"},\"caxis\":{\"gridcolor\":\"white\",\"linecolor\":\"white\",\"ticks\":\"\"}},\"coloraxis\":{\"colorbar\":{\"outlinewidth\":0,\"ticks\":\"\"}},\"colorscale\":{\"sequential\":[[0.0,\"#0d0887\"],[0.1111111111111111,\"#46039f\"],[0.2222222222222222,\"#7201a8\"],[0.3333333333333333,\"#9c179e\"],[0.4444444444444444,\"#bd3786\"],[0.5555555555555556,\"#d8576b\"],[0.6666666666666666,\"#ed7953\"],[0.7777777777777778,\"#fb9f3a\"],[0.8888888888888888,\"#fdca26\"],[1.0,\"#f0f921\"]],\"sequentialminus\":[[0.0,\"#0d0887\"],[0.1111111111111111,\"#46039f\"],[0.2222222222222222,\"#7201a8\"],[0.3333333333333333,\"#9c179e\"],[0.4444444444444444,\"#bd3786\"],[0.5555555555555556,\"#d8576b\"],[0.6666666666666666,\"#ed7953\"],[0.7777777777777778,\"#fb9f3a\"],[0.8888888888888888,\"#fdca26\"],[1.0,\"#f0f921\"]],\"diverging\":[[0,\"#8e0152\"],[0.1,\"#c51b7d\"],[0.2,\"#de77ae\"],[0.3,\"#f1b6da\"],[0.4,\"#fde0ef\"],[0.5,\"#f7f7f7\"],[0.6,\"#e6f5d0\"],[0.7,\"#b8e186\"],[0.8,\"#7fbc41\"],[0.9,\"#4d9221\"],[1,\"#276419\"]]},\"xaxis\":{\"gridcolor\":\"white\",\"linecolor\":\"white\",\"ticks\":\"\",\"title\":{\"standoff\":15},\"zerolinecolor\":\"white\",\"automargin\":true,\"zerolinewidth\":2},\"yaxis\":{\"gridcolor\":\"white\",\"linecolor\":\"white\",\"ticks\":\"\",\"title\":{\"standoff\":15},\"zerolinecolor\":\"white\",\"automargin\":true,\"zerolinewidth\":2},\"scene\":{\"xaxis\":{\"backgroundcolor\":\"#E5ECF6\",\"gridcolor\":\"white\",\"linecolor\":\"white\",\"showbackground\":true,\"ticks\":\"\",\"zerolinecolor\":\"white\",\"gridwidth\":2},\"yaxis\":{\"backgroundcolor\":\"#E5ECF6\",\"gridcolor\":\"white\",\"linecolor\":\"white\",\"showbackground\":true,\"ticks\":\"\",\"zerolinecolor\":\"white\",\"gridwidth\":2},\"zaxis\":{\"backgroundcolor\":\"#E5ECF6\",\"gridcolor\":\"white\",\"linecolor\":\"white\",\"showbackground\":true,\"ticks\":\"\",\"zerolinecolor\":\"white\",\"gridwidth\":2}},\"shapedefaults\":{\"line\":{\"color\":\"#2a3f5f\"}},\"annotationdefaults\":{\"arrowcolor\":\"#2a3f5f\",\"arrowhead\":0,\"arrowwidth\":1},\"geo\":{\"bgcolor\":\"white\",\"landcolor\":\"#E5ECF6\",\"subunitcolor\":\"white\",\"showland\":true,\"showlakes\":true,\"lakecolor\":\"white\"},\"title\":{\"x\":0.05},\"mapbox\":{\"style\":\"light\"}}},\"xaxis\":{\"anchor\":\"y\",\"domain\":[0.0,1.0],\"title\":{\"text\":\"Net Worth\"}},\"yaxis\":{\"anchor\":\"x\",\"domain\":[0.0,1.0],\"title\":{\"text\":\"Car Purchase Amount\"}},\"coloraxis\":{\"colorbar\":{\"title\":{\"text\":\"Gender\"}},\"colorscale\":[[0.0,\"#0d0887\"],[0.1111111111111111,\"#46039f\"],[0.2222222222222222,\"#7201a8\"],[0.3333333333333333,\"#9c179e\"],[0.4444444444444444,\"#bd3786\"],[0.5555555555555556,\"#d8576b\"],[0.6666666666666666,\"#ed7953\"],[0.7777777777777778,\"#fb9f3a\"],[0.8888888888888888,\"#fdca26\"],[1.0,\"#f0f921\"]]},\"legend\":{\"tracegroupgap\":0},\"margin\":{\"t\":60}},                        {\"responsive\": true}                    ).then(function(){\n",
       "                            \n",
       "var gd = document.getElementById('1614c6ad-a358-45b2-ac86-07de70c45253');\n",
       "var x = new MutationObserver(function (mutations, observer) {{\n",
       "        var display = window.getComputedStyle(gd).display;\n",
       "        if (!display || display === 'none') {{\n",
       "            console.log([gd, 'removed!']);\n",
       "            Plotly.purge(gd);\n",
       "            observer.disconnect();\n",
       "        }}\n",
       "}});\n",
       "\n",
       "// Listen for the removal of the full notebook cells\n",
       "var notebookContainer = gd.closest('#notebook-container');\n",
       "if (notebookContainer) {{\n",
       "    x.observe(notebookContainer, {childList: true});\n",
       "}}\n",
       "\n",
       "// Listen for the clearing of the current output cell\n",
       "var outputEl = gd.closest('.output');\n",
       "if (outputEl) {{\n",
       "    x.observe(outputEl, {childList: true});\n",
       "}}\n",
       "\n",
       "                        })                };                });            </script>        </div>"
      ]
     },
     "metadata": {},
     "output_type": "display_data"
    }
   ],
   "source": [
    "fig = px.scatter(data_frame=df, x='Net Worth', y='Car Purchase Amount', color='Gender')\n",
    "fig.show()"
   ]
  },
  {
   "cell_type": "code",
   "execution_count": 104,
   "id": "773feceb",
   "metadata": {},
   "outputs": [
    {
     "data": {
      "text/plain": [
       "Index(['Customer Name', 'Customer e-mail', 'Country', 'Gender', 'Age',\n",
       "       'Annual Salary', 'Credit Card Debt', 'Net Worth',\n",
       "       'Car Purchase Amount'],\n",
       "      dtype='object')"
      ]
     },
     "execution_count": 104,
     "metadata": {},
     "output_type": "execute_result"
    }
   ],
   "source": [
    "df.columns"
   ]
  },
  {
   "cell_type": "code",
   "execution_count": 105,
   "id": "626633cf",
   "metadata": {},
   "outputs": [],
   "source": [
    "features = ['Age', 'Annual Salary', 'Credit Card Debt', 'Net Worth']"
   ]
  },
  {
   "cell_type": "code",
   "execution_count": 106,
   "id": "220eecb3",
   "metadata": {},
   "outputs": [],
   "source": [
    "X = df[features]"
   ]
  },
  {
   "cell_type": "code",
   "execution_count": 107,
   "id": "3ff714bb",
   "metadata": {},
   "outputs": [
    {
     "data": {
      "text/html": [
       "<div>\n",
       "<style scoped>\n",
       "    .dataframe tbody tr th:only-of-type {\n",
       "        vertical-align: middle;\n",
       "    }\n",
       "\n",
       "    .dataframe tbody tr th {\n",
       "        vertical-align: top;\n",
       "    }\n",
       "\n",
       "    .dataframe thead th {\n",
       "        text-align: right;\n",
       "    }\n",
       "</style>\n",
       "<table border=\"1\" class=\"dataframe\">\n",
       "  <thead>\n",
       "    <tr style=\"text-align: right;\">\n",
       "      <th></th>\n",
       "      <th>Age</th>\n",
       "      <th>Annual Salary</th>\n",
       "      <th>Credit Card Debt</th>\n",
       "      <th>Net Worth</th>\n",
       "    </tr>\n",
       "  </thead>\n",
       "  <tbody>\n",
       "    <tr>\n",
       "      <th>0</th>\n",
       "      <td>42</td>\n",
       "      <td>62812.09301</td>\n",
       "      <td>11609.380910</td>\n",
       "      <td>238961.2505</td>\n",
       "    </tr>\n",
       "    <tr>\n",
       "      <th>1</th>\n",
       "      <td>41</td>\n",
       "      <td>66646.89292</td>\n",
       "      <td>9572.957136</td>\n",
       "      <td>530973.9078</td>\n",
       "    </tr>\n",
       "    <tr>\n",
       "      <th>2</th>\n",
       "      <td>43</td>\n",
       "      <td>53798.55112</td>\n",
       "      <td>11160.355060</td>\n",
       "      <td>638467.1773</td>\n",
       "    </tr>\n",
       "    <tr>\n",
       "      <th>3</th>\n",
       "      <td>58</td>\n",
       "      <td>79370.03798</td>\n",
       "      <td>14426.164850</td>\n",
       "      <td>548599.0524</td>\n",
       "    </tr>\n",
       "    <tr>\n",
       "      <th>4</th>\n",
       "      <td>57</td>\n",
       "      <td>59729.15130</td>\n",
       "      <td>5358.712177</td>\n",
       "      <td>560304.0671</td>\n",
       "    </tr>\n",
       "    <tr>\n",
       "      <th>...</th>\n",
       "      <td>...</td>\n",
       "      <td>...</td>\n",
       "      <td>...</td>\n",
       "      <td>...</td>\n",
       "    </tr>\n",
       "    <tr>\n",
       "      <th>495</th>\n",
       "      <td>41</td>\n",
       "      <td>71942.40291</td>\n",
       "      <td>6995.902524</td>\n",
       "      <td>541670.1016</td>\n",
       "    </tr>\n",
       "    <tr>\n",
       "      <th>496</th>\n",
       "      <td>38</td>\n",
       "      <td>56039.49793</td>\n",
       "      <td>12301.456790</td>\n",
       "      <td>360419.0988</td>\n",
       "    </tr>\n",
       "    <tr>\n",
       "      <th>497</th>\n",
       "      <td>54</td>\n",
       "      <td>68888.77805</td>\n",
       "      <td>10611.606860</td>\n",
       "      <td>764531.3203</td>\n",
       "    </tr>\n",
       "    <tr>\n",
       "      <th>498</th>\n",
       "      <td>59</td>\n",
       "      <td>49811.99062</td>\n",
       "      <td>14013.034510</td>\n",
       "      <td>337826.6382</td>\n",
       "    </tr>\n",
       "    <tr>\n",
       "      <th>499</th>\n",
       "      <td>47</td>\n",
       "      <td>61370.67766</td>\n",
       "      <td>9391.341628</td>\n",
       "      <td>462946.4924</td>\n",
       "    </tr>\n",
       "  </tbody>\n",
       "</table>\n",
       "<p>500 rows × 4 columns</p>\n",
       "</div>"
      ],
      "text/plain": [
       "     Age  Annual Salary  Credit Card Debt    Net Worth\n",
       "0     42    62812.09301      11609.380910  238961.2505\n",
       "1     41    66646.89292       9572.957136  530973.9078\n",
       "2     43    53798.55112      11160.355060  638467.1773\n",
       "3     58    79370.03798      14426.164850  548599.0524\n",
       "4     57    59729.15130       5358.712177  560304.0671\n",
       "..   ...            ...               ...          ...\n",
       "495   41    71942.40291       6995.902524  541670.1016\n",
       "496   38    56039.49793      12301.456790  360419.0988\n",
       "497   54    68888.77805      10611.606860  764531.3203\n",
       "498   59    49811.99062      14013.034510  337826.6382\n",
       "499   47    61370.67766       9391.341628  462946.4924\n",
       "\n",
       "[500 rows x 4 columns]"
      ]
     },
     "execution_count": 107,
     "metadata": {},
     "output_type": "execute_result"
    }
   ],
   "source": [
    "X"
   ]
  },
  {
   "cell_type": "code",
   "execution_count": 108,
   "id": "8e6c2474",
   "metadata": {},
   "outputs": [],
   "source": [
    "y = df['Car Purchase Amount']"
   ]
  },
  {
   "cell_type": "code",
   "execution_count": 109,
   "id": "a8c5fe5d",
   "metadata": {},
   "outputs": [
    {
     "data": {
      "text/plain": [
       "0      35321.45877\n",
       "1      45115.52566\n",
       "2      42925.70921\n",
       "3      67422.36313\n",
       "4      55915.46248\n",
       "          ...     \n",
       "495    48901.44342\n",
       "496    31491.41457\n",
       "497    64147.28888\n",
       "498    45442.15353\n",
       "499    45107.22566\n",
       "Name: Car Purchase Amount, Length: 500, dtype: float64"
      ]
     },
     "execution_count": 109,
     "metadata": {},
     "output_type": "execute_result"
    }
   ],
   "source": [
    "y"
   ]
  },
  {
   "cell_type": "code",
   "execution_count": 110,
   "id": "c3972220",
   "metadata": {},
   "outputs": [],
   "source": [
    "from sklearn.model_selection import train_test_split"
   ]
  },
  {
   "cell_type": "code",
   "execution_count": 111,
   "id": "c316cfef",
   "metadata": {},
   "outputs": [],
   "source": [
    "X_train, X_test, y_train, y_test = train_test_split(X, y, test_size=0.3, random_state=33)"
   ]
  },
  {
   "cell_type": "code",
   "execution_count": 112,
   "id": "86af966c",
   "metadata": {},
   "outputs": [],
   "source": [
    "from sklearn.linear_model import LinearRegression"
   ]
  },
  {
   "cell_type": "code",
   "execution_count": 113,
   "id": "eadef499",
   "metadata": {},
   "outputs": [],
   "source": [
    "lr_model = LinearRegression()"
   ]
  },
  {
   "cell_type": "code",
   "execution_count": 114,
   "id": "9d5dd873",
   "metadata": {},
   "outputs": [
    {
     "data": {
      "text/plain": [
       "LinearRegression()"
      ]
     },
     "execution_count": 114,
     "metadata": {},
     "output_type": "execute_result"
    }
   ],
   "source": [
    "lr_model.fit(X_train, y_train)"
   ]
  },
  {
   "cell_type": "code",
   "execution_count": 115,
   "id": "4acf71d0",
   "metadata": {},
   "outputs": [],
   "source": [
    "pred = lr_model.predict(X_test)"
   ]
  },
  {
   "cell_type": "code",
   "execution_count": 116,
   "id": "492bec07",
   "metadata": {},
   "outputs": [],
   "source": [
    "q = [42, 62812.09301, 11609.380910, 238961.2505]"
   ]
  },
  {
   "cell_type": "code",
   "execution_count": 118,
   "id": "34aab0b6",
   "metadata": {},
   "outputs": [
    {
     "name": "stderr",
     "output_type": "stream",
     "text": [
      "C:\\Users\\Foundation AI\\anaconda3\\lib\\site-packages\\sklearn\\base.py:450: UserWarning:\n",
      "\n",
      "X does not have valid feature names, but LinearRegression was fitted with feature names\n",
      "\n"
     ]
    }
   ],
   "source": [
    "p = lr_model.predict([q])"
   ]
  },
  {
   "cell_type": "code",
   "execution_count": 119,
   "id": "e3ab61f8",
   "metadata": {},
   "outputs": [
    {
     "data": {
      "text/plain": [
       "array([35511.75405289])"
      ]
     },
     "execution_count": 119,
     "metadata": {},
     "output_type": "execute_result"
    }
   ],
   "source": [
    "p"
   ]
  },
  {
   "cell_type": "code",
   "execution_count": 120,
   "id": "009b0991",
   "metadata": {},
   "outputs": [],
   "source": [
    "q1 = [47, 61370.67766, 9391.341628, 462946.4924]"
   ]
  },
  {
   "cell_type": "code",
   "execution_count": 121,
   "id": "339f2f04",
   "metadata": {},
   "outputs": [
    {
     "name": "stderr",
     "output_type": "stream",
     "text": [
      "C:\\Users\\Foundation AI\\anaconda3\\lib\\site-packages\\sklearn\\base.py:450: UserWarning:\n",
      "\n",
      "X does not have valid feature names, but LinearRegression was fitted with feature names\n",
      "\n"
     ]
    }
   ],
   "source": [
    "p1 = lr_model.predict([q1])"
   ]
  },
  {
   "cell_type": "code",
   "execution_count": 122,
   "id": "34711412",
   "metadata": {},
   "outputs": [
    {
     "data": {
      "text/plain": [
       "array([45344.05224825])"
      ]
     },
     "execution_count": 122,
     "metadata": {},
     "output_type": "execute_result"
    }
   ],
   "source": [
    "p1"
   ]
  },
  {
   "cell_type": "code",
   "execution_count": null,
   "id": "e92ca4da",
   "metadata": {},
   "outputs": [],
   "source": []
  }
 ],
 "metadata": {
  "kernelspec": {
   "display_name": "Python 3 (ipykernel)",
   "language": "python",
   "name": "python3"
  },
  "language_info": {
   "codemirror_mode": {
    "name": "ipython",
    "version": 3
   },
   "file_extension": ".py",
   "mimetype": "text/x-python",
   "name": "python",
   "nbconvert_exporter": "python",
   "pygments_lexer": "ipython3",
   "version": "3.9.13"
  }
 },
 "nbformat": 4,
 "nbformat_minor": 5
}
